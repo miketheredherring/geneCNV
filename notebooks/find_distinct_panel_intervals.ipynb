{
 "cells": [
  {
   "cell_type": "markdown",
   "metadata": {},
   "source": [
    "### Determine which intervals are in either TruSight One or Trusight Inherited Disease, but not in both"
   ]
  },
  {
   "cell_type": "code",
   "execution_count": 1,
   "metadata": {
    "collapsed": false
   },
   "outputs": [
    {
     "name": "stderr",
     "output_type": "stream",
     "text": [
      "INFO:config:Using default ini file from: /Users/msilver/Dropbox (GenePeeks)/Max_workspace/genepeeks-science/genepeeks/common/../../conf/genepeeks.ini\n"
     ]
    }
   ],
   "source": [
    "import os\n",
    "import pandas as pd\n",
    "from genepeeks.common import utilities as util, config"
   ]
  },
  {
   "cell_type": "markdown",
   "metadata": {},
   "source": [
    "#### Convert each interval file into list of intervals in format that can be used in genepeeks-science util functions"
   ]
  },
  {
   "cell_type": "code",
   "execution_count": 2,
   "metadata": {
    "collapsed": false
   },
   "outputs": [],
   "source": [
    "library_files = os.path.join(config.FOLDER_PATHS['PREFIX'], '..', 'library_files')\n",
    "intervals = {\n",
    "    'TSID': {'file': os.path.join(library_files, 'inputs', 'ped', 'TruSight_Inherited_Disease_Manifest_A.bed')},\n",
    "    'TSO': {'file': os.path.join(library_files, 'inputs', 'ped', 'TruSight-One-BED-May-2014.txt')}\n",
    "}\n",
    "\n",
    "for name, intrv_info in intervals.items():\n",
    "    df = pd.read_csv(intrv_info['file'], delimiter='\\t', header=None, names=('chrom', 'start', 'end', 'id'))\n",
    "    intrv_info['X_df'] = df[df['chrom'] == 'chrX'].sort_values(by='start')\n",
    "    intrv_info['intrv_list'] = map(dict, dict(intrv_info['X_df'].T).values())"
   ]
  },
  {
   "cell_type": "markdown",
   "metadata": {},
   "source": [
    "#### Find intervals that are in one of the panels but not the other. Use `extend_by` to only consider an interval as missing from the other panel if the next closest region is further than the edge of the interval extended by the given number of bases (a larger `extend_by` will lead to fewer distinct intervals)"
   ]
  },
  {
   "cell_type": "code",
   "execution_count": 11,
   "metadata": {
    "collapsed": false
   },
   "outputs": [
    {
     "name": "stdout",
     "output_type": "stream",
     "text": [
      "TSO only: 1664 intervals over 356937 bp\n",
      "TSID only: 207 intervals over 185839 bp\n"
     ]
    }
   ],
   "source": [
    "TSID_only = util.interval_diff(intervals['TSO']['intrv_list'], intervals['TSID']['intrv_list'], extend_by=100)\n",
    "TSO_only = util.interval_diff(intervals['TSID']['intrv_list'], intervals['TSO']['intrv_list'], extend_by=100)\n",
    "print 'TSO only: {} intervals over {} bp'.format(len(TSO_only), util.add_intervals(TSO_only))\n",
    "print 'TSID only: {} intervals over {} bp'.format(len(TSID_only), util.add_intervals(TSID_only))"
   ]
  },
  {
   "cell_type": "code",
   "execution_count": null,
   "metadata": {
    "collapsed": true
   },
   "outputs": [],
   "source": []
  }
 ],
 "metadata": {
  "kernelspec": {
   "display_name": "Python 2",
   "language": "python",
   "name": "python2"
  },
  "language_info": {
   "codemirror_mode": {
    "name": "ipython",
    "version": 2
   },
   "file_extension": ".py",
   "mimetype": "text/x-python",
   "name": "python",
   "nbconvert_exporter": "python",
   "pygments_lexer": "ipython2",
   "version": "2.7.11"
  }
 },
 "nbformat": 4,
 "nbformat_minor": 2
}
