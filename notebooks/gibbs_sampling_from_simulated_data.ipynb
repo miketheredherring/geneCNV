{
 "cells": [
  {
   "cell_type": "markdown",
   "metadata": {},
   "source": [
    "Gibbs Sampling From Simulated Data"
   ]
  },
  {
   "cell_type": "code",
   "execution_count": 1,
   "metadata": {
    "collapsed": true
   },
   "outputs": [],
   "source": [
    "import numpy as np"
   ]
  },
  {
   "cell_type": "code",
   "execution_count": 19,
   "metadata": {
    "collapsed": false
   },
   "outputs": [
    {
     "data": {
      "text/plain": [
       "array([2, 3, 3, 1, 1, 2, 3, 1, 3, 3, 2, 3, 1, 1, 1, 3, 2, 2, 2, 1, 2, 2, 2,\n",
       "       1, 2, 1, 3, 2, 2, 1, 3, 2, 2, 1, 2, 1, 3, 1, 3, 3, 3, 1, 3, 2, 3, 3,\n",
       "       1, 1, 2, 1, 3, 2, 1, 2, 1, 1, 3, 1, 1, 3, 1, 3, 1, 1, 1, 3, 3, 3, 2,\n",
       "       2, 2, 1, 2, 2, 1, 1, 1, 1])"
      ]
     },
     "execution_count": 19,
     "metadata": {},
     "output_type": "execute_result"
    }
   ],
   "source": [
    "# Generate a random copy number vector with uniform distribution over support.\n",
    "n_targets = 78\n",
    "cnv_support = [1, 2, 3]\n",
    "copy_numbers = np.random.choice(cnv_support, n_targets)\n",
    "copy_numbers"
   ]
  },
  {
   "cell_type": "code",
   "execution_count": 21,
   "metadata": {
    "collapsed": false
   },
   "outputs": [
    {
     "data": {
      "text/plain": [
       "array([ 0.01282051,  0.01282051,  0.01282051,  0.01282051,  0.01282051,\n",
       "        0.01282051,  0.01282051,  0.01282051,  0.01282051,  0.01282051,\n",
       "        0.01282051,  0.01282051,  0.01282051,  0.01282051,  0.01282051,\n",
       "        0.01282051,  0.01282051,  0.01282051,  0.01282051,  0.01282051,\n",
       "        0.01282051,  0.01282051,  0.01282051,  0.01282051,  0.01282051,\n",
       "        0.01282051,  0.01282051,  0.01282051,  0.01282051,  0.01282051,\n",
       "        0.01282051,  0.01282051,  0.01282051,  0.01282051,  0.01282051,\n",
       "        0.01282051,  0.01282051,  0.01282051,  0.01282051,  0.01282051,\n",
       "        0.01282051,  0.01282051,  0.01282051,  0.01282051,  0.01282051,\n",
       "        0.01282051,  0.01282051,  0.01282051,  0.01282051,  0.01282051,\n",
       "        0.01282051,  0.01282051,  0.01282051,  0.01282051,  0.01282051,\n",
       "        0.01282051,  0.01282051,  0.01282051,  0.01282051,  0.01282051,\n",
       "        0.01282051,  0.01282051,  0.01282051,  0.01282051,  0.01282051,\n",
       "        0.01282051,  0.01282051,  0.01282051,  0.01282051,  0.01282051,\n",
       "        0.01282051,  0.01282051,  0.01282051,  0.01282051,  0.01282051,\n",
       "        0.01282051,  0.01282051,  0.01282051])"
      ]
     },
     "execution_count": 21,
     "metadata": {},
     "output_type": "execute_result"
    }
   ],
   "source": [
    "# Compute a fixed intensity vector which is uniform.\n",
    "intensity = np.ones(len(copy_numbers))/len(copy_numbers)\n",
    "intensity"
   ]
  },
  {
   "cell_type": "code",
   "execution_count": 22,
   "metadata": {
    "collapsed": false
   },
   "outputs": [
    {
     "data": {
      "text/plain": [
       "array([297, 405, 381, 145, 133, 255, 445, 136, 370, 392, 260, 419, 132,\n",
       "       147, 132, 380, 261, 289, 270, 143, 307, 263, 243, 148, 236, 143,\n",
       "       414, 304, 265, 135, 380, 235, 272, 130, 264, 104, 395, 138, 388,\n",
       "       391, 382, 154, 407, 266, 442, 410, 150, 111, 276, 134, 366, 267,\n",
       "       129, 278, 146, 150, 432, 136, 133, 396, 132, 429, 146, 126, 137,\n",
       "       427, 405, 432, 284, 286, 260, 130, 269, 311, 125, 140, 137, 112])"
      ]
     },
     "execution_count": 22,
     "metadata": {},
     "output_type": "execute_result"
    }
   ],
   "source": [
    "# Draw samples that reflect this distribution.\n",
    "p_vector = copy_numbers * intensity\n",
    "p_vector /= float(np.sum(p_vector))\n",
    "samples = np.random.multinomial(20000, p_vector)\n",
    "samples"
   ]
  },
  {
   "cell_type": "code",
   "execution_count": null,
   "metadata": {
    "collapsed": true
   },
   "outputs": [],
   "source": [
    "# Use Gibbs' method to sample the posterior of the prior + data generated from the prior.\n"
   ]
  }
 ],
 "metadata": {
  "kernelspec": {
   "display_name": "Python 2",
   "language": "python",
   "name": "python2"
  },
  "language_info": {
   "codemirror_mode": {
    "name": "ipython",
    "version": 2
   },
   "file_extension": ".py",
   "mimetype": "text/x-python",
   "name": "python",
   "nbconvert_exporter": "python",
   "pygments_lexer": "ipython2",
   "version": "2.7.13"
  }
 },
 "nbformat": 4,
 "nbformat_minor": 2
}
