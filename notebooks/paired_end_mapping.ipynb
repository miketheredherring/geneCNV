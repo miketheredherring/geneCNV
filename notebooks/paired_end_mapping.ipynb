{
 "cells": [
  {
   "cell_type": "code",
   "execution_count": 4,
   "metadata": {
    "collapsed": false,
    "deletable": true,
    "editable": true
   },
   "outputs": [
    {
     "name": "stderr",
     "output_type": "stream",
     "text": [
      "INFO:config:Using ini file set by environment: /home/ec2-user/config/genepeeks.ini\n"
     ]
    }
   ],
   "source": [
    "import pysam\n",
    "import os\n",
    "import glob\n",
    "from genepeeks.common import utilities as util\n",
    "%matplotlib inline\n",
    "import matplotlib.pyplot as plt\n",
    "import numpy as np\n",
    "import itertools\n",
    "import tabletext"
   ]
  },
  {
   "cell_type": "markdown",
   "metadata": {},
   "source": [
    "#### Get DMD exons"
   ]
  },
  {
   "cell_type": "code",
   "execution_count": 8,
   "metadata": {
    "collapsed": false,
    "scrolled": true
   },
   "outputs": [
    {
     "name": "stdout",
     "output_type": "stream",
     "text": [
      "Finished loading ensembl within the gene collection from the genepeeks-prod database with a single entries with a query of {'_id': 'DMD'} after 0.12 sec\n"
     ]
    }
   ],
   "source": [
    "DMD_ensembl = util.Mongo.get_collection_data('gene', wanted_db='prod', query={'_id': 'DMD'}, find_one=True, single_field='ensembl')\n",
    "DMD_exons = util.get_nested_value(DMD_ensembl, ('is_primary', 'transcripts', 'is_primary', 'exons'))\n",
    "DMD_exons_merged = util.merge_intervals(DMD_exons, min_dist=200)"
   ]
  },
  {
   "cell_type": "markdown",
   "metadata": {},
   "source": [
    "### Get insert length data, broken down by exon"
   ]
  },
  {
   "cell_type": "code",
   "execution_count": 19,
   "metadata": {
    "collapsed": false,
    "deletable": true,
    "editable": true,
    "scrolled": true
   },
   "outputs": [
    {
     "name": "stdout",
     "output_type": "stream",
     "text": [
      "Finished parsing 10 subjects\n",
      "FK2R-0000-151I.bam is missing an index file\n",
      "Finished parsing 20 subjects\n",
      "Finished parsing 30 subjects\n",
      "Finished parsing 40 subjects\n",
      "MCLR-NA12-8911.bam is missing an index file\n",
      "10 tandem reads and 385 subjects skipped due to old bwa version\n"
     ]
    }
   ],
   "source": [
    "# bam_files_folder = '../../library_files/inputs/bam_files'\n",
    "exon_insert_lengths = {}\n",
    "tandem_read_count = 0\n",
    "subject_count = 0\n",
    "old_bwa_count = 0\n",
    "for root, dirs, files in os.walk('/mnt/vep/subjects'):\n",
    "    for file_name in files:\n",
    "        if file_name.endswith('.bam'):# and 'RMR' in file_name:\n",
    "            if '{}.bai'.format(file_name) not in files:\n",
    "                print '{} is missing an index file'.format(file_name)\n",
    "                continue\n",
    "\n",
    "            file_path = os.path.join(root, file_name)\n",
    "            subject = os.path.splitext(file_name)[0]\n",
    "            bamfile = pysam.AlignmentFile(file_path, \"rb\")\n",
    "            bwa_version = next(PG['VN'] for PG in bamfile.header['PG'] if PG.get('ID') == 'bwa')\n",
    "            if not bwa_version.startswith('0.7.15'):\n",
    "                old_bwa_count += 1\n",
    "                continue\n",
    "\n",
    "            for read in bamfile.fetch('X', start=31137345, end=33229636):\n",
    "                if not read.is_unmapped and read.mapping_quality == 60 and not read.mate_is_unmapped and read.is_proper_pair:\n",
    "                    all_positions = [read.reference_start, read.reference_end, read.next_reference_start]\n",
    "                    for position in all_positions:\n",
    "                        interval_info = util.in_interval(read.reference_start, DMD_exons_merged, get_interval=True)\n",
    "                        if interval_info[0]:\n",
    "                            exon_num = interval_info[1]\n",
    "                            break\n",
    "                    else:\n",
    "                        continue\n",
    "\n",
    "                    insert_length = read.template_length\n",
    "                    if read.is_reverse == read.mate_is_reverse:\n",
    "                        tandem_read_count += 1\n",
    "                        continue\n",
    "                        orientation = 'Tandem'\n",
    "                    elif read.is_reverse:\n",
    "                        orientation = 'RF'\n",
    "                        insert_length *= -1\n",
    "                    else:\n",
    "                        orientation = 'FR'\n",
    "#                         if read.template_length < 0:\n",
    "#                             continue\n",
    "#                             print subject, read.template_length, read.reference_start, read.next_reference_start\n",
    "\n",
    "#                     util.add_to_dict(insert_lengths_d, orientation, read.template_length, keep_values=True, nested_key=exon_num)\n",
    "                    util.add_to_dict(exon_insert_lengths, exon_num, insert_length, keep_values=True)\n",
    "            subject_count += 1\n",
    "            if subject_count % 10 == 0:\n",
    "                print 'Finished parsing {} subjects'.format(subject_count)\n",
    "print '{} tandem reads and {} subjects skipped due to old bwa version'.format(tandem_read_count, old_bwa_count)"
   ]
  },
  {
   "cell_type": "code",
   "execution_count": 2,
   "metadata": {
    "collapsed": false
   },
   "outputs": [],
   "source": [
    "import pickle\n",
    "\n",
    "with open('exon_insert_lengths.pickle', 'wb') as handle:\n",
    "    pickle.dump(exon_insert_lengths, handle, protocol=pickle.HIGHEST_PROTOCOL)\n",
    "# with open('exon_insert_lengths.pickle', 'rb') as handle:\n",
    "#     exon_insert_lengths = pickle.load(handle)"
   ]
  },
  {
   "cell_type": "markdown",
   "metadata": {},
   "source": [
    "#### Get insert length stats for each exon within each orientation"
   ]
  },
  {
   "cell_type": "code",
   "execution_count": 102,
   "metadata": {
    "collapsed": false,
    "scrolled": true
   },
   "outputs": [
    {
     "name": "stdout",
     "output_type": "stream",
     "text": [
      "661.0\n"
     ]
    },
    {
     "data": {
      "image/png": "[encoded data removed]",
      "text/plain": [
       "<matplotlib.figure.Figure at 0x7fc950ae4dd0>"
      ]
     },
     "metadata": {},
     "output_type": "display_data"
    },
    {
     "name": "stdout",
     "output_type": "stream",
     "text": [
      "-22728381.107\n",
      "Tandem -> (67 reads)\n",
      "-668.0\n"
     ]
    },
    {
     "data": {
      "image/png": "[encoded data removed]",
      "text/plain": [
       "<matplotlib.figure.Figure at 0x7fc950185d10>"
      ]
     },
     "metadata": {},
     "output_type": "display_data"
    },
    {
     "name": "stdout",
     "output_type": "stream",
     "text": [
      "┌───────┬───────────────┬─────────────────┬───────────────┬─────────────────┐\n",
      "│ Exon  │ FR Read Count │ FR 99.9% Cutoff │ RF Read Count │ RF 99.9% Cutoff │\n",
      "├───────┼───────────────┼─────────────────┼───────────────┼─────────────────┤\n",
      "│     1 │        193723 │           692.0 │        190555 │          -690.0 │\n",
      "├───────┼───────────────┼─────────────────┼───────────────┼─────────────────┤\n",
      "│     2 │          1251 │           648.5 │          3663 │        -578.676 │\n",
      "├───────┼───────────────┼─────────────────┼───────────────┼─────────────────┤\n",
      "│     3 │         26976 │         688.025 │         18013 │        -639.952 │\n",
      "├───────┼───────────────┼─────────────────┼───────────────┼─────────────────┤\n",
      "│     4 │         26949 │         608.052 │         17572 │          -676.0 │\n",
      "├───────┼───────────────┼─────────────────┼───────────────┼─────────────────┤\n",
      "│     5 │         25125 │           666.0 │         32331 │         -639.01 │\n",
      "├───────┼───────────────┼─────────────────┼───────────────┼─────────────────┤\n",
      "│     6 │         32467 │           615.0 │         35969 │          -636.0 │\n",
      "├───────┼───────────────┼─────────────────┼───────────────┼─────────────────┤\n",
      "│     7 │         34275 │         575.726 │         29063 │        -619.938 │\n",
      "├───────┼───────────────┼─────────────────┼───────────────┼─────────────────┤\n",
      "│     8 │         19785 │         632.216 │         22894 │        -608.214 │\n",
      "├───────┼───────────────┼─────────────────┼───────────────┼─────────────────┤\n",
      "│     9 │         11242 │          731.59 │          7668 │        -605.665 │\n",
      "├───────┼───────────────┼─────────────────┼───────────────┼─────────────────┤\n",
      "│    10 │         25544 │         641.457 │         36113 │        -678.664 │\n",
      "├───────┼───────────────┼─────────────────┼───────────────┼─────────────────┤\n",
      "│    11 │         16385 │           639.0 │         25215 │          -633.0 │\n",
      "├───────┼───────────────┼─────────────────┼───────────────┼─────────────────┤\n",
      "│    12 │         21475 │         693.052 │         23358 │        -648.858 │\n",
      "├───────┼───────────────┼─────────────────┼───────────────┼─────────────────┤\n",
      "│    13 │         22502 │         619.998 │         25420 │        -696.743 │\n",
      "├───────┼───────────────┼─────────────────┼───────────────┼─────────────────┤\n",
      "│    14 │          7325 │          604.38 │         15650 │        -648.702 │\n",
      "├───────┼───────────────┼─────────────────┼───────────────┼─────────────────┤\n",
      "│    15 │         33089 │         611.912 │         44805 │          -632.0 │\n",
      "├───────┼───────────────┼─────────────────┼───────────────┼─────────────────┤\n",
      "│    16 │         13778 │         623.223 │         20985 │        -694.112 │\n",
      "├───────┼───────────────┼─────────────────┼───────────────┼─────────────────┤\n",
      "│    17 │         16363 │         649.276 │         25432 │          -640.0 │\n",
      "├───────┼───────────────┼─────────────────┼───────────────┼─────────────────┤\n",
      "│    18 │         11379 │         667.622 │         15424 │        -626.308 │\n",
      "├───────┼───────────────┼─────────────────┼───────────────┼─────────────────┤\n",
      "│    19 │         15511 │          643.98 │         18049 │        -674.952 │\n",
      "├───────┼───────────────┼─────────────────┼───────────────┼─────────────────┤\n",
      "│    20 │         65539 │           592.0 │         73901 │          -636.0 │\n",
      "├───────┼───────────────┼─────────────────┼───────────────┼─────────────────┤\n",
      "│    21 │         35367 │           708.0 │         43098 │          -608.0 │\n",
      "├───────┼───────────────┼─────────────────┼───────────────┼─────────────────┤\n",
      "│    22 │         40304 │         612.697 │         32588 │        -696.478 │\n",
      "├───────┼───────────────┼─────────────────┼───────────────┼─────────────────┤\n",
      "│    23 │         21486 │           657.0 │         30414 │        -623.174 │\n",
      "├───────┼───────────────┼─────────────────┼───────────────┼─────────────────┤\n",
      "│    24 │         14492 │         696.036 │         22792 │        -711.418 │\n",
      "├───────┼───────────────┼─────────────────┼───────────────┼─────────────────┤\n",
      "│    25 │         59614 │           598.0 │         65386 │          -628.0 │\n",
      "├───────┼───────────────┼─────────────────┼───────────────┼─────────────────┤\n",
      "│    26 │         25301 │           638.7 │         29020 │        -704.981 │\n",
      "├───────┼───────────────┼─────────────────┼───────────────┼─────────────────┤\n",
      "│    27 │         60722 │           661.0 │         56964 │        -628.074 │\n",
      "├───────┼───────────────┼─────────────────┼───────────────┼─────────────────┤\n",
      "│    28 │          9234 │         625.767 │         22571 │         -649.43 │\n",
      "├───────┼───────────────┼─────────────────┼───────────────┼─────────────────┤\n",
      "│    29 │         56102 │           673.0 │         48043 │        -643.958 │\n",
      "├───────┼───────────────┼─────────────────┼───────────────┼─────────────────┤\n",
      "│    30 │         12539 │         679.848 │         13147 │        -645.562 │\n",
      "├───────┼───────────────┼─────────────────┼───────────────┼─────────────────┤\n",
      "│    31 │          6018 │         673.949 │         24387 │          -603.0 │\n",
      "├───────┼───────────────┼─────────────────┼───────────────┼─────────────────┤\n",
      "│    32 │         25608 │         656.572 │         28776 │          -707.0 │\n",
      "├───────┼───────────────┼─────────────────┼───────────────┼─────────────────┤\n",
      "│    33 │         32769 │         597.232 │         46804 │        -660.197 │\n",
      "├───────┼───────────────┼─────────────────┼───────────────┼─────────────────┤\n",
      "│    34 │         15047 │         651.954 │         22877 │        -660.248 │\n",
      "├───────┼───────────────┼─────────────────┼───────────────┼─────────────────┤\n",
      "│    35 │         21970 │         676.031 │         34493 │        -697.508 │\n",
      "├───────┼───────────────┼─────────────────┼───────────────┼─────────────────┤\n",
      "│    36 │         13940 │         700.061 │         27878 │        -674.123 │\n",
      "├───────┼───────────────┼─────────────────┼───────────────┼─────────────────┤\n",
      "│    37 │         24837 │         585.492 │         31127 │        -686.748 │\n",
      "├───────┼───────────────┼─────────────────┼───────────────┼─────────────────┤\n",
      "│    38 │         20400 │         615.601 │         28132 │        -652.476 │\n",
      "├───────┼───────────────┼─────────────────┼───────────────┼─────────────────┤\n",
      "│    39 │         18454 │         644.829 │         28693 │         -705.54 │\n",
      "├───────┼───────────────┼─────────────────┼───────────────┼─────────────────┤\n",
      "│    40 │         18652 │         644.094 │         34837 │          -681.0 │\n",
      "├───────┼───────────────┼─────────────────┼───────────────┼─────────────────┤\n",
      "│    41 │         19357 │         624.932 │         32940 │        -660.183 │\n",
      "├───────┼───────────────┼─────────────────┼───────────────┼─────────────────┤\n",
      "│    42 │         18408 │         692.779 │         19859 │        -724.284 │\n",
      "├───────┼───────────────┼─────────────────┼───────────────┼─────────────────┤\n",
      "│    43 │         24656 │          659.38 │         37826 │          -627.0 │\n",
      "├───────┼───────────────┼─────────────────┼───────────────┼─────────────────┤\n",
      "│    44 │         19063 │         718.938 │         23775 │        -690.452 │\n",
      "├───────┼───────────────┼─────────────────┼───────────────┼─────────────────┤\n",
      "│    45 │         53950 │           586.0 │         58311 │         -670.69 │\n",
      "├───────┼───────────────┼─────────────────┼───────────────┼─────────────────┤\n",
      "│    46 │         22002 │         680.999 │         25503 │        -711.494 │\n",
      "├───────┼───────────────┼─────────────────┼───────────────┼─────────────────┤\n",
      "│    47 │         24784 │           620.0 │         50268 │        -619.199 │\n",
      "├───────┼───────────────┼─────────────────┼───────────────┼─────────────────┤\n",
      "│    48 │         31338 │           731.0 │         34520 │        -653.886 │\n",
      "├───────┼───────────────┼─────────────────┼───────────────┼─────────────────┤\n",
      "│    49 │         28931 │           681.0 │         42376 │         -677.25 │\n",
      "├───────┼───────────────┼─────────────────┼───────────────┼─────────────────┤\n",
      "│    50 │         30660 │         691.341 │         19978 │        -671.046 │\n",
      "├───────┼───────────────┼─────────────────┼───────────────┼─────────────────┤\n",
      "│    51 │         24535 │          653.33 │         24636 │          -656.0 │\n",
      "├───────┼───────────────┼─────────────────┼───────────────┼─────────────────┤\n",
      "│    52 │         13384 │         682.851 │         20106 │         -639.16 │\n",
      "├───────┼───────────────┼─────────────────┼───────────────┼─────────────────┤\n",
      "│    53 │         32425 │           663.0 │         39462 │        -636.539 │\n",
      "├───────┼───────────────┼─────────────────┼───────────────┼─────────────────┤\n",
      "│    54 │         20010 │           696.0 │         26583 │          -700.0 │\n",
      "├───────┼───────────────┼─────────────────┼───────────────┼─────────────────┤\n",
      "│    55 │         46421 │           673.0 │         36460 │        -681.541 │\n",
      "├───────┼───────────────┼─────────────────┼───────────────┼─────────────────┤\n",
      "│    56 │         12722 │         605.279 │         22993 │          -634.0 │\n",
      "├───────┼───────────────┼─────────────────┼───────────────┼─────────────────┤\n",
      "│    57 │         15673 │         643.312 │         27812 │        -681.323 │\n",
      "├───────┼───────────────┼─────────────────┼───────────────┼─────────────────┤\n",
      "│    58 │         13517 │         663.164 │         16702 │        -666.794 │\n",
      "├───────┼───────────────┼─────────────────┼───────────────┼─────────────────┤\n",
      "│    59 │         26413 │         618.588 │         42027 │          -691.0 │\n",
      "├───────┼───────────────┼─────────────────┼───────────────┼─────────────────┤\n",
      "│    60 │         44207 │           649.0 │         59873 │        -666.128 │\n",
      "├───────┼───────────────┼─────────────────┼───────────────┼─────────────────┤\n",
      "│    61 │         22110 │         672.891 │         20251 │         -648.25 │\n",
      "├───────┼───────────────┼─────────────────┼───────────────┼─────────────────┤\n",
      "│    62 │         27422 │           651.0 │         32234 │        -684.767 │\n",
      "├───────┼───────────────┼─────────────────┼───────────────┼─────────────────┤\n",
      "│    63 │         19177 │           692.0 │         19761 │         -699.24 │\n",
      "├───────┼───────────────┼─────────────────┼───────────────┼─────────────────┤\n",
      "│    64 │         16719 │         639.358 │         32944 │        -594.057 │\n",
      "├───────┼───────────────┼─────────────────┼───────────────┼─────────────────┤\n",
      "│ 65/66 │         44185 │           628.0 │         67637 │          -676.0 │\n",
      "├───────┼───────────────┼─────────────────┼───────────────┼─────────────────┤\n",
      "│    67 │         25175 │         695.608 │         29280 │        -668.442 │\n",
      "├───────┼───────────────┼─────────────────┼───────────────┼─────────────────┤\n",
      "│    68 │         14972 │         628.174 │         45208 │        -589.793 │\n",
      "├───────┼───────────────┼─────────────────┼───────────────┼─────────────────┤\n",
      "│    69 │         31675 │         694.652 │         31529 │          -712.0 │\n",
      "├───────┼───────────────┼─────────────────┼───────────────┼─────────────────┤\n",
      "│    70 │         25242 │         604.759 │         37560 │        -671.441 │\n",
      "├───────┼───────────────┼─────────────────┼───────────────┼─────────────────┤\n",
      "│    71 │          5845 │         629.248 │          5625 │        -653.256 │\n",
      "├───────┼───────────────┼─────────────────┼───────────────┼─────────────────┤\n",
      "│    72 │         17951 │          664.15 │         34421 │         -601.58 │\n",
      "├───────┼───────────────┼─────────────────┼───────────────┼─────────────────┤\n",
      "│    73 │          8077 │         602.468 │         14500 │        -654.503 │\n",
      "├───────┼───────────────┼─────────────────┼───────────────┼─────────────────┤\n",
      "│    74 │         38640 │           643.0 │         44596 │          -702.0 │\n",
      "├───────┼───────────────┼─────────────────┼───────────────┼─────────────────┤\n",
      "│    75 │         13780 │         633.221 │         14911 │         -705.27 │\n",
      "├───────┼───────────────┼─────────────────┼───────────────┼─────────────────┤\n",
      "│    76 │          6860 │         635.141 │         14987 │        -644.056 │\n",
      "├───────┼───────────────┼─────────────────┼───────────────┼─────────────────┤\n",
      "│    77 │         35363 │         693.104 │         22394 │        -654.856 │\n",
      "├───────┼───────────────┼─────────────────┼───────────────┼─────────────────┤\n",
      "│    78 │          3167 │         616.672 │          9025 │        -722.976 │\n",
      "├───────┼───────────────┼─────────────────┼───────────────┼─────────────────┤\n",
      "│    79 │         17522 │         538.916 │         35860 │        -670.282 │\n",
      "└───────┴───────────────┴─────────────────┴───────────────┴─────────────────┘\n"
     ]
    }
   ],
   "source": [
    "exon_outlier_marks = [['Exon', 'FR Read Count', 'FR 99.9% Cutoff', 'RF Read Count', 'RF 99.9% Cutoff']]\n",
    "exon_stats_dict = {}\n",
    "for orientation, exon_insert_lengths in insert_lengths_d.items():\n",
    "    if orientation == 'FR':\n",
    "        min_insert = 0\n",
    "        max_insert = 800\n",
    "    else:\n",
    "        min_insert = -800\n",
    "        max_insert = 0\n",
    "    total_orien_insert_lengths = list(itertools.chain(*exon_insert_lengths.values()))\n",
    "    print np.percentile(total_orien_insert_lengths, 99.9 if orientation == 'FR' else 0.1)\n",
    "    clipped_insert_lengths = [item for item in total_orien_insert_lengths if min_insert < item < max_insert]            \n",
    "    title = \"{} -> ({} reads)\".format(orientation, len(clipped_insert_lengths))\n",
    "    if orientation == 'Tandem':\n",
    "        print title\n",
    "        continue\n",
    "    \n",
    "    # Plot a histogram of distribution of insert lengths across all exons for each orientation\n",
    "    plt.hist(clipped_insert_lengths)\n",
    "    plt.title(title)\n",
    "    plt.xlabel(\"Insert Length\")\n",
    "    plt.ylabel(\"Count\")\n",
    "    plt.show()\n",
    "    \n",
    "    exon_stats_dict[orientation] = {}\n",
    "    for exon_index, insert_lengths in exon_insert_lengths.items():\n",
    "        exon_stat = np.percentile(insert_lengths, 99.9 if orientation == 'FR' else 0.1)\n",
    "        if exon_index == 64:\n",
    "            exon = '65/66'\n",
    "        elif exon_index > 64:\n",
    "            exon = exon_index + 2\n",
    "        else:\n",
    "            exon = exon_index + 1\n",
    "        if orientation == 'FR':\n",
    "            exon_outlier_marks.append([exon, len(insert_lengths), exon_stat, None, None])\n",
    "        else:\n",
    "            exon_outlier_marks[exon_index + 1][3:] = [len(insert_lengths), exon_stat]\n",
    "        exon_stats_dict[orientation][exon_index] = exon_stat\n",
    "print tabletext.to_text(exon_outlier_marks)"
   ]
  },
  {
   "cell_type": "markdown",
   "metadata": {},
   "source": [
    "#### Get insert length stats for each exon"
   ]
  },
  {
   "cell_type": "code",
   "execution_count": 5,
   "metadata": {
    "collapsed": false,
    "scrolled": true
   },
   "outputs": [
    {
     "name": "stdout",
     "output_type": "stream",
     "text": [
      "┌───────┬────────────┬─────────────┬──────────────┐\n",
      "│ Exon  │ Read Count │ 0.1% Cutoff │ 99.9% Cutoff │\n",
      "├───────┼────────────┼─────────────┼──────────────┤\n",
      "│     1 │     383879 │        46.0 │      685.122 │\n",
      "├───────┼────────────┼─────────────┼──────────────┤\n",
      "│     2 │       4905 │        54.0 │      625.288 │\n",
      "├───────┼────────────┼─────────────┼──────────────┤\n",
      "│     3 │      44804 │        41.0 │      660.788 │\n",
      "├───────┼────────────┼─────────────┼──────────────┤\n",
      "│     4 │      44497 │        40.0 │        657.0 │\n",
      "├───────┼────────────┼─────────────┼──────────────┤\n",
      "│     5 │      57431 │        44.0 │        645.0 │\n",
      "├───────┼────────────┼─────────────┼──────────────┤\n",
      "│     6 │      68392 │        44.0 │        621.0 │\n",
      "├───────┼────────────┼─────────────┼──────────────┤\n",
      "│     7 │      63311 │       50.31 │       599.69 │\n",
      "├───────┼────────────┼─────────────┼──────────────┤\n",
      "│     8 │      42654 │        42.0 │        618.0 │\n",
      "├───────┼────────────┼─────────────┼──────────────┤\n",
      "│     9 │      18873 │        44.0 │        685.0 │\n",
      "├───────┼────────────┼─────────────┼──────────────┤\n",
      "│    10 │      61588 │      43.587 │        652.0 │\n",
      "├───────┼────────────┼─────────────┼──────────────┤\n",
      "│    11 │      41579 │        46.0 │        633.0 │\n",
      "├───────┼────────────┼─────────────┼──────────────┤\n",
      "│    12 │      44810 │        39.0 │        669.0 │\n",
      "├───────┼────────────┼─────────────┼──────────────┤\n",
      "│    13 │      47889 │        44.0 │      659.112 │\n",
      "├───────┼────────────┼─────────────┼──────────────┤\n",
      "│    14 │      22956 │        45.0 │        633.0 │\n",
      "├───────┼────────────┼─────────────┼──────────────┤\n",
      "│    15 │      77858 │        38.0 │        621.0 │\n",
      "├───────┼────────────┼─────────────┼──────────────┤\n",
      "│    16 │      34736 │        41.0 │        657.0 │\n",
      "├───────┼────────────┼─────────────┼──────────────┤\n",
      "│    17 │      41771 │        44.0 │        644.0 │\n",
      "├───────┼────────────┼─────────────┼──────────────┤\n",
      "│    18 │      26782 │        46.0 │        639.0 │\n",
      "├───────┼────────────┼─────────────┼──────────────┤\n",
      "│    19 │      33537 │        39.0 │        665.0 │\n",
      "├───────┼────────────┼─────────────┼──────────────┤\n",
      "│    20 │     139393 │        43.0 │      610.608 │\n",
      "├───────┼────────────┼─────────────┼──────────────┤\n",
      "│    21 │      78428 │        39.0 │      651.573 │\n",
      "├───────┼────────────┼─────────────┼──────────────┤\n",
      "│    22 │      72855 │        46.0 │        655.0 │\n",
      "├───────┼────────────┼─────────────┼──────────────┤\n",
      "│    23 │      51871 │       42.87 │        635.0 │\n",
      "├───────┼────────────┼─────────────┼──────────────┤\n",
      "│    24 │      37237 │      43.236 │        708.0 │\n",
      "├───────┼────────────┼─────────────┼──────────────┤\n",
      "│    25 │     124938 │        45.0 │        611.0 │\n",
      "├───────┼────────────┼─────────────┼──────────────┤\n",
      "│    26 │      54271 │        44.0 │       676.73 │\n",
      "├───────┼────────────┼─────────────┼──────────────┤\n",
      "│    27 │     117585 │        42.0 │      653.416 │\n",
      "├───────┼────────────┼─────────────┼──────────────┤\n",
      "│    28 │      31791 │        47.0 │       643.21 │\n",
      "├───────┼────────────┼─────────────┼──────────────┤\n",
      "│    29 │     104045 │        48.0 │      652.956 │\n",
      "├───────┼────────────┼─────────────┼──────────────┤\n",
      "│    30 │      25669 │        45.0 │        665.0 │\n",
      "├───────┼────────────┼─────────────┼──────────────┤\n",
      "│    31 │      30389 │        47.0 │      607.612 │\n",
      "├───────┼────────────┼─────────────┼──────────────┤\n",
      "│    32 │      54316 │        46.0 │        686.0 │\n",
      "├───────┼────────────┼─────────────┼──────────────┤\n",
      "│    33 │      79505 │        44.0 │      634.496 │\n",
      "├───────┼────────────┼─────────────┼──────────────┤\n",
      "│    34 │      37870 │      46.869 │      653.131 │\n",
      "├───────┼────────────┼─────────────┼──────────────┤\n",
      "│    35 │      56413 │      42.412 │      681.588 │\n",
      "├───────┼────────────┼─────────────┼──────────────┤\n",
      "│    36 │      41764 │      48.763 │      677.474 │\n",
      "├───────┼────────────┼─────────────┼──────────────┤\n",
      "│    37 │      55933 │        39.0 │      666.068 │\n",
      "├───────┼────────────┼─────────────┼──────────────┤\n",
      "│    38 │      48498 │      41.497 │        630.0 │\n",
      "├───────┼────────────┼─────────────┼──────────────┤\n",
      "│    39 │      47116 │        41.0 │      673.885 │\n",
      "├───────┼────────────┼─────────────┼──────────────┤\n",
      "│    40 │      53448 │        51.0 │        670.0 │\n",
      "├───────┼────────────┼─────────────┼──────────────┤\n",
      "│    41 │      52263 │      44.262 │      647.738 │\n",
      "├───────┼────────────┼─────────────┼──────────────┤\n",
      "│    42 │      38223 │        42.0 │        706.0 │\n",
      "├───────┼────────────┼─────────────┼──────────────┤\n",
      "│    43 │      62440 │        40.0 │      632.561 │\n",
      "├───────┼────────────┼─────────────┼──────────────┤\n",
      "│    44 │      42811 │       41.81 │       696.19 │\n",
      "├───────┼────────────┼─────────────┼──────────────┤\n",
      "│    45 │     112209 │        43.0 │        641.0 │\n",
      "├───────┼────────────┼─────────────┼──────────────┤\n",
      "│    46 │      47439 │        42.0 │      692.562 │\n",
      "├───────┼────────────┼─────────────┼──────────────┤\n",
      "│    47 │      74981 │        45.0 │       617.02 │\n",
      "├───────┼────────────┼─────────────┼──────────────┤\n",
      "│    48 │      65786 │        45.0 │       696.43 │\n",
      "├───────┼────────────┼─────────────┼──────────────┤\n",
      "│    49 │      71255 │        47.0 │        675.0 │\n",
      "├───────┼────────────┼─────────────┼──────────────┤\n",
      "│    50 │      50603 │      47.602 │        682.0 │\n",
      "├───────┼────────────┼─────────────┼──────────────┤\n",
      "│    51 │      49133 │        47.0 │        654.0 │\n",
      "├───────┼────────────┼─────────────┼──────────────┤\n",
      "│    52 │      33438 │        43.0 │        666.0 │\n",
      "├───────┼────────────┼─────────────┼──────────────┤\n",
      "│    53 │      71834 │        41.0 │        646.0 │\n",
      "├───────┼────────────┼─────────────┼──────────────┤\n",
      "│    54 │      46543 │        43.0 │      685.458 │\n",
      "├───────┼────────────┼─────────────┼──────────────┤\n",
      "│    55 │      82818 │        42.0 │      672.183 │\n",
      "├───────┼────────────┼─────────────┼──────────────┤\n",
      "│    56 │      35693 │        42.0 │      619.308 │\n",
      "├───────┼────────────┼─────────────┼──────────────┤\n",
      "│    57 │      43456 │        42.0 │        666.0 │\n",
      "├───────┼────────────┼─────────────┼──────────────┤\n",
      "│    58 │      30193 │        41.0 │      664.424 │\n",
      "├───────┼────────────┼─────────────┼──────────────┤\n",
      "│    59 │      68390 │        50.0 │        678.0 │\n",
      "├───────┼────────────┼─────────────┼──────────────┤\n",
      "│    60 │     103988 │        43.0 │        657.0 │\n",
      "├───────┼────────────┼─────────────┼──────────────┤\n",
      "│    61 │      42323 │        40.0 │      652.678 │\n",
      "├───────┼────────────┼─────────────┼──────────────┤\n",
      "│    62 │      59618 │        43.0 │        675.0 │\n",
      "├───────┼────────────┼─────────────┼──────────────┤\n",
      "│    63 │      38879 │        41.0 │      688.366 │\n",
      "├───────┼────────────┼─────────────┼──────────────┤\n",
      "│    64 │      49647 │        44.0 │        600.0 │\n",
      "├───────┼────────────┼─────────────┼──────────────┤\n",
      "│ 65/66 │     111735 │        47.0 │      657.266 │\n",
      "├───────┼────────────┼─────────────┼──────────────┤\n",
      "│    67 │      54381 │        43.0 │       663.62 │\n",
      "├───────┼────────────┼─────────────┼──────────────┤\n",
      "│    68 │      60142 │        48.0 │      596.859 │\n",
      "├───────┼────────────┼─────────────┼──────────────┤\n",
      "│    69 │      63113 │        44.0 │      690.776 │\n",
      "├───────┼────────────┼─────────────┼──────────────┤\n",
      "│    70 │      62766 │        44.0 │       642.47 │\n",
      "├───────┼────────────┼─────────────┼──────────────┤\n",
      "│    71 │      11463 │      38.924 │        638.0 │\n",
      "├───────┼────────────┼─────────────┼──────────────┤\n",
      "│    72 │      52341 │        45.0 │       635.64 │\n",
      "├───────┼────────────┼─────────────┼──────────────┤\n",
      "│    73 │      22560 │        42.0 │      638.441 │\n",
      "├───────┼────────────┼─────────────┼──────────────┤\n",
      "│    74 │      83157 │        46.0 │        670.0 │\n",
      "├───────┼────────────┼─────────────┼──────────────┤\n",
      "│    75 │      28634 │        48.0 │      650.734 │\n",
      "├───────┼────────────┼─────────────┼──────────────┤\n",
      "│    76 │      21831 │        45.0 │       640.17 │\n",
      "├───────┼────────────┼─────────────┼──────────────┤\n",
      "│    77 │      57701 │        49.0 │        668.9 │\n",
      "├───────┼────────────┼─────────────┼──────────────┤\n",
      "│    78 │      12174 │        70.0 │      714.827 │\n",
      "├───────┼────────────┼─────────────┼──────────────┤\n",
      "│    79 │      53351 │       48.35 │        651.0 │\n",
      "└───────┴────────────┴─────────────┴──────────────┘\n"
     ]
    }
   ],
   "source": [
    "exon_outlier_marks = [['Exon', 'Read Count', '0.1% Cutoff', '99.9% Cutoff']]\n",
    "\n",
    "exon_stats_dict = {}\n",
    "for exon_index, insert_lengths in exon_insert_lengths.items():\n",
    "    exon_upper = np.percentile(insert_lengths, 99.9)\n",
    "    exon_lower = np.percentile(insert_lengths, 0.1)    \n",
    "    if exon_index == 64:\n",
    "        exon = '65/66'\n",
    "    elif exon_index > 64:\n",
    "        exon = exon_index + 2\n",
    "    else:\n",
    "        exon = exon_index + 1\n",
    "    exon_outlier_marks.append([exon, len(insert_lengths), exon_lower, exon_upper])\n",
    "    exon_stats_dict[exon_index] = [exon_lower, exon_upper]\n",
    "    \n",
    "#     clipped_exon_insert_lengths = [item for item in insert_lengths if 0 < item < 800]\n",
    "#     plt.hist(clipped_exon_insert_lengths)\n",
    "#     plt.title(\"Exon {} ({} reads)\".format(exon, len(clipped_exon_insert_lengths)))\n",
    "#     plt.xlabel(\"Insert Length\")\n",
    "#     plt.ylabel(\"Count\")\n",
    "#     plt.show()\n",
    "print tabletext.to_text(exon_outlier_marks)"
   ]
  },
  {
   "cell_type": "markdown",
   "metadata": {},
   "source": [
    "#### Plot a histogram of all insert lengths across all exons"
   ]
  },
  {
   "cell_type": "code",
   "execution_count": 6,
   "metadata": {
    "collapsed": false
   },
   "outputs": [
    {
     "name": "stdout",
     "output_type": "stream",
     "text": [
      "661.0 43.0\n"
     ]
    },
    {
     "data": {
      "image/png": "[encoded data removed]",
      "text/plain": [
       "<matplotlib.figure.Figure at 0x7f69d8032a90>"
      ]
     },
     "metadata": {},
     "output_type": "display_data"
    }
   ],
   "source": [
    "all_insert_lengths = list(itertools.chain(*exon_insert_lengths.values()))\n",
    "print np.percentile(all_insert_lengths, 99.9), np.percentile(all_insert_lengths, 0.1)\n",
    "# print np.percentile(all_insert_lengths, 0.1)\n",
    "clipped_insert_lengths = [item for item in all_insert_lengths if 0 < item < 800]\n",
    "bad_insert_lengths = [item for item in all_insert_lengths if item < 0 or item > 800]\n",
    "# print len(bad_insert_lengths)\n",
    "\n",
    "# Plot a histogram of distribution of insert lengths across all exons for each orientation\n",
    "plt.hist(clipped_insert_lengths)\n",
    "plt.title(\"{} reads\".format(len(clipped_insert_lengths)))\n",
    "plt.xlabel(\"Insert Length\")\n",
    "plt.ylabel(\"Count\")\n",
    "plt.show()"
   ]
  },
  {
   "cell_type": "markdown",
   "metadata": {},
   "source": [
    "#### Check for any subject with multiple anomalous insert lengths in any exon"
   ]
  },
  {
   "cell_type": "code",
   "execution_count": 9,
   "metadata": {
    "collapsed": false,
    "scrolled": true
   },
   "outputs": [
    {
     "name": "stdout",
     "output_type": "stream",
     "text": [
      "Finished parsing 10 subjects\n",
      "Finished parsing 20 subjects\n",
      "Finished parsing 30 subjects\n",
      "Finished parsing 40 subjects\n",
      "Finished parsing 50 subjects\n",
      "Finished parsing 60 subjects\n",
      "Finished parsing 70 subjects\n",
      "Finished parsing 80 subjects\n",
      "Finished parsing 90 subjects\n",
      "Finished parsing 100 subjects\n",
      "Finished parsing 110 subjects\n",
      "Finished parsing 120 subjects\n",
      "Finished parsing 130 subjects\n",
      "Finished parsing 140 subjects\n",
      "Finished parsing 150 subjects\n",
      "FK2R-0000-151I.bam is missing an index file\n",
      "Finished parsing 160 subjects\n",
      "Finished parsing 170 subjects\n",
      "Finished parsing 180 subjects\n",
      "Finished parsing 190 subjects\n",
      "Finished parsing 200 subjects\n",
      "Finished parsing 210 subjects\n",
      "Finished parsing 220 subjects\n",
      "Finished parsing 230 subjects\n",
      "Finished parsing 240 subjects\n",
      "Finished parsing 250 subjects\n",
      "Finished parsing 260 subjects\n",
      "Finished parsing 270 subjects\n",
      "Finished parsing 280 subjects\n",
      "Finished parsing 290 subjects\n",
      "Finished parsing 300 subjects\n",
      "Finished parsing 310 subjects\n",
      "Finished parsing 320 subjects\n",
      "Finished parsing 330 subjects\n",
      "Finished parsing 340 subjects\n",
      "Finished parsing 350 subjects\n",
      "Finished parsing 360 subjects\n",
      "Finished parsing 370 subjects\n",
      "Finished parsing 380 subjects\n",
      "Finished parsing 390 subjects\n",
      "Finished parsing 400 subjects\n",
      "Finished parsing 410 subjects\n",
      "Finished parsing 420 subjects\n",
      "MCLR-NA12-8911.bam is missing an index file\n",
      "Finished parsing 430 subjects\n"
     ]
    }
   ],
   "source": [
    "count = 0\n",
    "all_subjects = {}\n",
    "for root, dirs, files in os.walk('/mnt/vep/subjects'):\n",
    "    for file_name in files:\n",
    "        if file_name.endswith('.bam'):# and file_name == 'MMCB-0000-144S.bam':\n",
    "            if '{}.bai'.format(file_name) not in files:\n",
    "                print '{} is missing an index file'.format(file_name)\n",
    "                continue\n",
    "\n",
    "            file_path = os.path.join(root, file_name)\n",
    "            subject = os.path.splitext(file_name)[0]\n",
    "            subject_outliers = {}\n",
    "            bamfile = pysam.AlignmentFile(file_path, \"rb\")\n",
    "            for read in bamfile.fetch('X', start=31137345, end=33229636):\n",
    "                if not read.is_unmapped and read.mapping_quality == 60 and not read.mate_is_unmapped and read.is_proper_pair:\n",
    "                    all_positions = [('start', read.reference_start), ('end', read.reference_end), ('mate_start', read.next_reference_start)]\n",
    "                    in_exon = []\n",
    "                    for name, position in all_positions:\n",
    "                        interval_info = util.in_interval(read.reference_start, DMD_exons_merged, get_interval=True)\n",
    "                        if interval_info[0]:\n",
    "                            exon_num = interval_info[1]\n",
    "                            in_exon.append(name)\n",
    "                            break\n",
    "                    else:\n",
    "#                     if not in_exon:\n",
    "                        continue\n",
    "\n",
    "                    insert_length = read.template_length\n",
    "                    if read.is_reverse == read.mate_is_reverse:\n",
    "                        orientation = 'Tandem'\n",
    "                        continue\n",
    "                    elif read.is_reverse:\n",
    "                        orientation = 'RF'\n",
    "                        insert_length *= -1\n",
    "                    else:\n",
    "                        orientation = 'FR'\n",
    "                        \n",
    "                    if insert_length > exon_stats_dict[exon_num][1]:\n",
    "                        util.add_to_dict(subject_outliers, exon_num, nested_key='large')\n",
    "                    elif insert_length < exon_stats_dict[exon_num][0]:\n",
    "                        util.add_to_dict(subject_outliers, exon_num, nested_key='small')\n",
    "#                         print orientation, exon_num, in_exon, exon_stats_dict[exon_num], insert_length, read.reference_length\n",
    "\n",
    "            exon_outliers = {k: v for k, v in subject_outliers.iteritems() if v.get('large') > 2 or v.get('small') > 2}\n",
    "#             if exon_outliers:\n",
    "#                 print subject, exon_outliers\n",
    "            all_subjects[subject] = subject_outliers\n",
    "            count += 1\n",
    "            if count % 10 == 0:\n",
    "                print 'Finished parsing {} subjects'.format(count)"
   ]
  },
  {
   "cell_type": "markdown",
   "metadata": {},
   "source": [
    "#### Create contingency table for each subject's number of insert lengths beyond the expected length for each exon"
   ]
  },
  {
   "cell_type": "code",
   "execution_count": 11,
   "metadata": {
    "collapsed": false,
    "deletable": true,
    "editable": true
   },
   "outputs": [
    {
     "name": "stdout",
     "output_type": "stream",
     "text": [
      "[['Subject' 'Ex1_low' 'Ex1_high' ..., 'Ex78_high' 'Ex79_low' 'Ex79_high']\n",
      " ['MCLR-NA03-037C' '0' '0' ..., '0' '0' '0']\n",
      " ['FGPC-JFHQ-PS5C' '2' '0' ..., '0' '0' '0']\n",
      " ..., \n",
      " ['MCLR-GP04-8630' '0' '0' ..., '0' '0' '0']\n",
      " ['MMCB-0007-5782' '0' '3' ..., '1' '0' '0']\n",
      " ['FGPC-0000-6079' '0' '0' ..., '0' '0' '1']]\n"
     ]
    }
   ],
   "source": [
    "headers = ['Subject']\n",
    "for exon_index in range(78):\n",
    "    if exon_index == 64:\n",
    "        exon = '65/66'\n",
    "    elif exon_index > 64:\n",
    "        exon = exon_index + 2\n",
    "    else:\n",
    "        exon = exon_index + 1\n",
    "    headers += ['Ex{}_low'.format(exon), 'Ex{}_high'.format(exon)]\n",
    "\n",
    "contingency_table = [headers]\n",
    "for subject, subject_outliers in all_subjects.items():\n",
    "    exon_array = [subject]\n",
    "    for i in range(78):\n",
    "        exon_outliers = subject_outliers.get(i, {})\n",
    "        exon_array += [exon_outliers.get('small', 0), exon_outliers.get('large', 0)]\n",
    "    contingency_table.append(exon_array)\n",
    "contingency_table = np.array(contingency_table)\n",
    "print contingency_table"
   ]
  },
  {
   "cell_type": "code",
   "execution_count": 12,
   "metadata": {
    "collapsed": true
   },
   "outputs": [],
   "source": [
    "import pandas as pd\n",
    "\n",
    "df = pd.DataFrame(contingency_table)\n",
    "df.to_csv(\"../exon_data/PEM_contingency_table.csv\")"
   ]
  },
  {
   "cell_type": "code",
   "execution_count": null,
   "metadata": {
    "collapsed": true
   },
   "outputs": [],
   "source": []
  }
 ],
 "metadata": {
  "anaconda-cloud": {},
  "kernelspec": {
   "display_name": "Python [default]",
   "language": "python",
   "name": "python2"
  },
  "language_info": {
   "codemirror_mode": {
    "name": "ipython",
    "version": 2
   },
   "file_extension": ".py",
   "mimetype": "text/x-python",
   "name": "python",
   "nbconvert_exporter": "python",
   "pygments_lexer": "ipython2",
   "version": "2.7.12"
  }
 },
 "nbformat": 4,
 "nbformat_minor": 2
}
