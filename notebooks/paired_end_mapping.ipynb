{
 "cells": [
  {
   "cell_type": "code",
   "execution_count": 1,
   "metadata": {
    "collapsed": false,
    "deletable": true,
    "editable": true
   },
   "outputs": [
    {
     "name": "stderr",
     "output_type": "stream",
     "text": [
      "INFO:config:Using ini file set by environment: /home/ec2-user/config/genepeeks.ini\n"
     ]
    }
   ],
   "source": [
    "import pysam\n",
    "import os\n",
    "import glob\n",
    "from genepeeks.common import utilities as util\n",
    "%matplotlib inline\n",
    "import matplotlib.pyplot as plt\n",
    "import numpy as np\n",
    "import pandas as pd\n",
    "import itertools\n",
    "import tabletext\n",
    "import pickle\n",
    "# %pdb\n",
    "# from scipy.stats import poisson"
   ]
  },
  {
   "cell_type": "markdown",
   "metadata": {},
   "source": [
    "#### Get DMD exons"
   ]
  },
  {
   "cell_type": "code",
   "execution_count": 2,
   "metadata": {
    "collapsed": false,
    "scrolled": true
   },
   "outputs": [
    {
     "name": "stdout",
     "output_type": "stream",
     "text": [
      "Finished loading ensembl within the gene collection from the genepeeks-prod database with a single entries with a query of {'_id': 'DMD'} after 0.17 sec\n",
      "76 ['44|45', '48|49', '65|66']\n"
     ]
    }
   ],
   "source": [
    "DMD_ensembl = util.Mongo.get_collection_data('gene', wanted_db='prod', query={'_id': 'DMD'}, find_one=True, single_field='ensembl')\n",
    "DMD_exons = util.get_nested_value(DMD_ensembl, ('is_primary', 'transcripts', 'is_primary', 'exons'))\n",
    "DMD_exons_merged = util.merge_intervals(DMD_exons, min_dist=500, include_index=True)\n",
    "exon_labels = ['Ex' + exon['index'] for exon in DMD_exons_merged]\n",
    "print len(DMD_exons_merged), [exon['index'] for exon in DMD_exons_merged if not exon['index'].isdigit()]"
   ]
  },
  {
   "cell_type": "markdown",
   "metadata": {},
   "source": [
    "#### How close together do 2 exons have to be before we merge them? Currently using 500bp"
   ]
  },
  {
   "cell_type": "code",
   "execution_count": 24,
   "metadata": {
    "collapsed": false
   },
   "outputs": [
    {
     "name": "stdout",
     "output_type": "stream",
     "text": [
      "100 79 []\n",
      "150 78 ['65|66']\n",
      "200 78 ['65|66']\n",
      "250 78 ['65|66']\n",
      "300 78 ['65|66']\n",
      "350 77 ['44|45', '65|66']\n",
      "400 76 ['44|45', '48|49', '65|66']\n",
      "450 76 ['44|45', '48|49', '65|66']\n",
      "500 76 ['44|45', '48|49', '65|66']\n",
      "550 76 ['44|45', '48|49', '65|66']\n",
      "600 76 ['44|45', '48|49', '65|66']\n",
      "650 75 ['21|22', '44|45', '48|49', '65|66']\n",
      "700 73 ['9|10', '21|22', '44|45', '48|49', '65|66', '69|70']\n",
      "750 73 ['9|10', '21|22', '44|45', '48|49', '65|66', '69|70']\n",
      "800 73 ['9|10', '21|22', '44|45', '48|49', '65|66', '69|70']\n",
      "850 73 ['9|10', '21|22', '44|45', '48|49', '65|66', '69|70']\n",
      "900 71 ['4|5', '9|10', '21|22', '39|40', '44|45', '48|49', '65|66', '69|70']\n",
      "950 71 ['4|5', '9|10', '21|22', '39|40', '44|45', '48|49', '65|66', '69|70']\n",
      "1000 70 ['4|5', '9|10', '21|22', '39|40', '44|45', '48|49', '55|56', '65|66', '69|70']\n",
      "1050 70 ['4|5', '9|10', '21|22', '39|40', '44|45', '48|49', '55|56', '65|66', '69|70']\n",
      "1100 70 ['4|5', '9|10', '21|22', '39|40', '44|45', '48|49', '55|56', '65|66', '69|70']\n",
      "1150 68 ['4|5', '7|8', '9|10', '21|22', '39|40', '44|45', '48|49', '55|56', '65|66', '69|70', '71|72']\n"
     ]
    }
   ],
   "source": [
    "for i in range(2, 24):\n",
    "    min_dist = i * 50\n",
    "    new_DMD_exons_merged = util.merge_intervals(DMD_exons, min_dist=min_dist, include_index=True)\n",
    "    print min_dist, len(new_DMD_exons_merged), [exon['index'] for exon in new_DMD_exons_merged if not exon['index'].isdigit()]"
   ]
  },
  {
   "cell_type": "markdown",
   "metadata": {},
   "source": [
    "#### Get subject insert lengths across the subject's entire X chromosome, to allow for normalizing each insert length by subject"
   ]
  },
  {
   "cell_type": "code",
   "execution_count": 4,
   "metadata": {
    "collapsed": true
   },
   "outputs": [],
   "source": [
    "def get_all_subject_insert_lengths(aligned_bamfile):\n",
    "    full_bam_insert_lengths = []\n",
    "    for read in aligned_bamfile.fetch('X'):\n",
    "        if read.is_read1 and not read.is_unmapped and read.mapping_quality == 60 and not read.mate_is_unmapped and read.is_proper_pair:\n",
    "            insert_length = read.template_length\n",
    "            if read.is_reverse == read.mate_is_reverse:\n",
    "                continue\n",
    "            elif read.is_reverse:\n",
    "                orientation = 'RF'\n",
    "                insert_length *= -1\n",
    "            else:\n",
    "                orientation = 'FR'\n",
    "\n",
    "            if insert_length < 0:\n",
    "                continue\n",
    "            full_bam_insert_lengths.append(insert_length)\n",
    "    return full_bam_insert_lengths"
   ]
  },
  {
   "cell_type": "markdown",
   "metadata": {},
   "source": [
    "#### Determine which exon the read pair overlaps with, if any"
   ]
  },
  {
   "cell_type": "code",
   "execution_count": 75,
   "metadata": {
    "collapsed": true
   },
   "outputs": [],
   "source": [
    "def get_exon_num(pair_start, pair_end, skipped_counts):\n",
    "    exon_num = None\n",
    "    for i, exon in enumerate(DMD_exons_merged):\n",
    "        if exon['end'] <= pair_start:\n",
    "            continue\n",
    "        else:\n",
    "            if exon['start'] < pair_end:\n",
    "                # Only associate read pairs to an exon that they share at least 20 bp overlap with.\n",
    "                # Is 20bp the right minimum amount of required overlap?\n",
    "                overlap = min(exon['end'], pair_end) - max(exon['start'], pair_start)\n",
    "                if overlap < 20:\n",
    "                    util.add_to_dict(skipped_counts, 'less_than_20_bp_overlap')\n",
    "#                     print pair_start, insert_length, pair_end, overlap, exon\n",
    "                    continue\n",
    "\n",
    "                # For a merged exon, skip read pairs that only exist within the intron between the 2 exons\n",
    "                if not exon['index'].isdigit():\n",
    "                    exon1_i, exon2_i = map(int, exon['index'].split('|'))\n",
    "                    gap_start = DMD_exons[exon1_i - 1]['end']\n",
    "                    gap_end = DMD_exons[exon2_i - 1]['start']\n",
    "                    true_overlap = max(gap_start - pair_start, pair_end - gap_end)\n",
    "                    if true_overlap <= 10:\n",
    "                        util.add_to_dict(skipped_counts, 'in_between_joined_exons')\n",
    "                        break\n",
    "#                         print pair_start, insert_length, pair_end, true_overlap, exon, gap_start, gap_end\n",
    "\n",
    "                exon_num = i\n",
    "                # If not already in the last exon, check if the read pair falls in the next exon as well.\n",
    "                if exon_num != (len(DMD_exons_merged) - 1):\n",
    "                    next_exon = DMD_exons_merged[i + 1]\n",
    "                    if next_exon['start'] < pair_end:\n",
    "                        util.add_to_dict(skipped_counts, 'in_two_exons')\n",
    "                        # Skip the read pair if it falls in both exons\n",
    "                        exon_num = None\n",
    "            else:\n",
    "                util.add_to_dict(skipped_counts, 'outside_of_exon')\n",
    "            break\n",
    "    return exon_num"
   ]
  },
  {
   "cell_type": "markdown",
   "metadata": {},
   "source": [
    "#### Parse subject bamfiles. Retrieve all read pair insert lengths within each exon of DMD, and normalize against median and IQR of that subject's insert lengths across the entire X chromosome. In the first parse, use this distribution of normalized insert lengths to calculate 99% cutoffs for each exon. In the second parse, calculate how many read pairs in each exon have insert lengths beyond the expected cutoff. Then compare this observed number of outliers to the poisson expectation to determine its significance."
   ]
  },
  {
   "cell_type": "code",
   "execution_count": 100,
   "metadata": {
    "collapsed": false,
    "deletable": true,
    "editable": true,
    "scrolled": true
   },
   "outputs": [],
   "source": [
    "# bam_files_folder = '../../library_files/inputs/bam_files'\n",
    "def parse_subject_insert_lengths(first_parse=True, exon_norm_cutoffs=None, subj_name_filter=None):\n",
    "    if subj_name_filter:\n",
    "        print 'Filtering for just subjects with {} in their name'.format(subj_name_filter)\n",
    "    skipped_counts = {}\n",
    "    subject_count = 0\n",
    "    if first_parse:\n",
    "        exon_norm_insert_lengths = [[] for i in xrange(len(DMD_exons_merged))]\n",
    "    else:\n",
    "        if exon_norm_cutoffs is None or len(exon_norm_cutoffs) != len(DMD_exons_merged):\n",
    "            util.stop_err('exon_norm_cutoffs, {}, must be same length as DMD_exons_merged, {}'.format(\n",
    "                len(exon_norm_cutoffs) if exon_norm_cutoffs else None, len(DMD_exons_merged)), raise_err=False)\n",
    "        \n",
    "        # Get headers for subject_contingency_table\n",
    "        headers = ['subject', 'date_modified', 'full_bam_paired_read_count', 'full_bam_25%', 'full_bam_median', 'full_bam_75%']\n",
    "        # exon_fields = ['total', 'lower_outl', 'lower_poisson', 'upper_outl', 'upper_poisson']\n",
    "        exon_fields = ['total', 'lower_outl', 'upper_outl']\n",
    "        headers += ['{}_{}'.format(exon_label, field) for exon_label in exon_labels for field in exon_fields]        \n",
    "        subject_contingency_table = [headers]\n",
    "    \n",
    "    for root, dirs, files in os.walk('/mnt/vep/subjects'):\n",
    "        if root.endswith('re86'):\n",
    "            continue\n",
    "\n",
    "        for file_name in files:\n",
    "            if file_name.endswith('.bam'):\n",
    "                # Can filter for only certain subjects if requested\n",
    "                if subj_name_filter is not None and subj_name_filter not in file_name:\n",
    "                    continue\n",
    "                # The following subject does not have legit data\n",
    "                if 'FPWB-0001-0309' in file_name:\n",
    "                    continue\n",
    "                if '{}.bai'.format(file_name) not in files:\n",
    "                    print '{} is missing an index file'.format(file_name)\n",
    "                    continue\n",
    "\n",
    "                file_path = os.path.join(root, file_name)\n",
    "                date_modified = os.path.getmtime(file_path)\n",
    "                if first_parse and date_modified < 1465401045:\n",
    "                    util.add_to_dict(skipped_counts, 'bam_file_too_old')\n",
    "                    continue\n",
    "\n",
    "                subject = os.path.splitext(file_name)[0]\n",
    "                bamfile = pysam.AlignmentFile(file_path, \"rb\")\n",
    "                full_bam_insert_lengths = get_all_subject_insert_lengths(bamfile)\n",
    "\n",
    "                # First, get median and iqr range of bam file to normalize insert lengths\n",
    "                bam_median = np.median(full_bam_insert_lengths)\n",
    "                bam_upper_iqr = np.percentile(full_bam_insert_lengths, 75)\n",
    "                bam_lower_iqr = np.percentile(full_bam_insert_lengths, 25)\n",
    "                bam_iqr_size = bam_upper_iqr - bam_lower_iqr\n",
    "                if not first_parse:\n",
    "                    # In second parse, get upper and lower cutoffs for each subject to count\n",
    "                    # the number of insert lengths that are outliers\n",
    "                    exon_outl_counts = [[0, 0, 0] for i in range(len(DMD_exons_merged))]\n",
    "\n",
    "                bamfile = pysam.AlignmentFile(file_path, \"rb\")            \n",
    "                for read in bamfile.fetch('X', start=31137345, end=33229636):\n",
    "                    if read.is_read1 and not read.is_unmapped and read.mapping_quality == 60 and not read.mate_is_unmapped and read.is_proper_pair:\n",
    "                        insert_length = read.template_length\n",
    "                        if read.is_reverse == read.mate_is_reverse:\n",
    "                            util.add_to_dict(skipped_counts, 'tandem_pair')\n",
    "                            continue\n",
    "                        elif read.is_reverse:\n",
    "                            orientation = 'RF'\n",
    "                            insert_length *= -1\n",
    "                        else:\n",
    "                            orientation = 'FR'\n",
    "\n",
    "                        if insert_length <= 0:\n",
    "                            util.add_to_dict(skipped_counts, 'negative_insert_length')\n",
    "                            continue\n",
    "\n",
    "                        # Determine which exon the read pair overlaps with, if any\n",
    "                        pair_start = min(read.reference_start, read.next_reference_start)\n",
    "                        pair_end = pair_start + insert_length\n",
    "                        exon_num = get_exon_num(pair_start, pair_end, skipped_counts)\n",
    "                        if exon_num is None:\n",
    "                            continue\n",
    "\n",
    "                        # Normalize insert length for each subject by subtracting the subject's median insert length\n",
    "                        # and dividing by the IQR for the subject\n",
    "                        norm_insert_length = (insert_length - bam_median) / float(bam_iqr_size)\n",
    "                        if first_parse:\n",
    "                            # On the first parse, store all normalized insert lengths for each exon,\n",
    "                            # to allow for calculation of what will constitute an outlier for any exon\n",
    "                            exon_norm_insert_lengths[exon_num].append(norm_insert_length)\n",
    "                        else:\n",
    "                            # On the second parse, check if normalized insert length is beyond the exon's cutoff point,\n",
    "                            # and keep track of the number of outliers on both the low and high ends\n",
    "                            exon_outl_counts[exon_num][0] += 1\n",
    "                            if norm_insert_length < exon_norm_cutoffs[exon_num][0]:\n",
    "                                exon_outl_counts[exon_num][1] += 1\n",
    "                            elif norm_insert_length > exon_norm_cutoffs[exon_num][1]:\n",
    "                                exon_outl_counts[exon_num][2] += 1\n",
    "                                            \n",
    "                if not first_parse:\n",
    "                    # Begin with the overall subject data, and create contingency table\n",
    "                    # by looking at each subject's number of insert length outliers in each exon\n",
    "                    subject_data = [subject, date_modified, len(full_bam_insert_lengths), bam_lower_iqr, bam_median, bam_upper_iqr]\n",
    "                    subject_data += list(itertools.chain(*exon_outl_counts))\n",
    "                    # Commented out the poisson code for now since scipy.stats cannot be imported on the amazon instance\n",
    "#                     for total, lower, upper in exon_insert_lengths:\n",
    "#                         expected = total * cutoff_fraction\n",
    "#                         lower_poisson = 1 - poisson.cdf(lower, expected)\n",
    "#                         upper_poisson = 1 - poisson.cdf(upper, expected)\n",
    "#                         subject_data += [total, lower, lower_poisson, upper, upper_poisson]\n",
    "                    \n",
    "\n",
    "                    if len(subject_data) != len(headers):\n",
    "                        util.stop_err('Unequal length of headers vs subject_data: {} vs {}'.format(len(subject_data), len(headers)))\n",
    "                    subject_contingency_table.append(subject_data)\n",
    "                subject_count += 1\n",
    "                if subject_count % 5 == 0:\n",
    "                    print 'Finished parsing {} subjects'.format(subject_count)\n",
    "\n",
    "    # Print counts of skipped reads\n",
    "    print 'Finished parsing all {} subjects in the {} parse'.format(subject_count, 'first' if first_parse else 'second')\n",
    "    for k, v in skipped_counts.items():\n",
    "        print k, v\n",
    "    return exon_norm_insert_lengths if first_parse else subject_contingency_table"
   ]
  },
  {
   "cell_type": "markdown",
   "metadata": {},
   "source": [
    "#### Do first parse of subject insert lengths to get all normalized insert lengths for each exon across all subjects. Use this data to determine normalized outlier cutoffs for each exon"
   ]
  },
  {
   "cell_type": "code",
   "execution_count": 101,
   "metadata": {
    "collapsed": false,
    "scrolled": true
   },
   "outputs": [
    {
     "name": "stdout",
     "output_type": "stream",
     "text": [
      "Finished parsing 5 subjects\n",
      "Finished parsing 10 subjects\n",
      "Finished parsing 15 subjects\n",
      "Finished parsing 20 subjects\n",
      "Finished parsing 25 subjects\n",
      "Finished parsing 30 subjects\n",
      "Finished parsing 35 subjects\n",
      "Finished parsing 40 subjects\n",
      "Finished parsing 45 subjects\n",
      "Finished parsing 50 subjects\n",
      "Finished parsing 55 subjects\n",
      "Finished parsing 60 subjects\n",
      "Finished parsing 65 subjects\n",
      "FK2R-0000-151I.bam is missing an index file\n",
      "Finished parsing 70 subjects\n",
      "Finished parsing 75 subjects\n",
      "Finished parsing 80 subjects\n",
      "Finished parsing 85 subjects\n",
      "Finished parsing 90 subjects\n",
      "Finished parsing 95 subjects\n",
      "Finished parsing 100 subjects\n",
      "Finished parsing 105 subjects\n",
      "Finished parsing 110 subjects\n",
      "Finished parsing 115 subjects\n",
      "Finished parsing 120 subjects\n",
      "Finished parsing 125 subjects\n",
      "Finished parsing 130 subjects\n",
      "Finished parsing 135 subjects\n",
      "Finished parsing 140 subjects\n",
      "Finished parsing 145 subjects\n",
      "Finished parsing 150 subjects\n",
      "Finished parsing 155 subjects\n",
      "Finished parsing 160 subjects\n",
      "Finished parsing 165 subjects\n",
      "Finished parsing 170 subjects\n",
      "Finished parsing 175 subjects\n",
      "Finished parsing 180 subjects\n",
      "MCLR-NA12-8911.bam is missing an index file\n",
      "Finished parsing 185 subjects\n",
      "Finished parsing all 187 subjects in the first parse\n",
      "outside_of_exon 1108520\n",
      "in_two_exons 15\n",
      "bam_file_too_old 245\n",
      "in_between_joined_exons 16488\n",
      "less_than_20_bp_overlap 148796\n",
      "tandem_pair 126\n",
      "negative_insert_length 107\n",
      "CPU times: user 20min 20s, sys: 19.2 s, total: 20min 39s\n",
      "Wall time: 21min 22s\n"
     ]
    }
   ],
   "source": [
    "%%time\n",
    "# testing_data = parse_subject_insert_lengths(first_parse=True, subj_name_filter='FRMR-00SC-714V')\n",
    "# exon_norm_insert_lengths = parse_subject_insert_lengths(first_parse=True, subj_name_filter='RMR')\n",
    "all_exon_norm_insert_lengths = parse_subject_insert_lengths(first_parse=True)\n",
    "\n",
    "# Get cutoffs for each exon, and dump list to a pickle\n",
    "exon_norm_cutoffs = [(np.percentile(norm_insert_lengths, 1), np.percentile(norm_insert_lengths, 99))\n",
    "                    for norm_insert_lengths in all_exon_norm_insert_lengths]\n",
    "with open('exon_norm_cutoffs.pickle', 'wb') as handle:\n",
    "    pickle.dump(exon_norm_cutoffs, handle, protocol=pickle.HIGHEST_PROTOCOL)"
   ]
  },
  {
   "cell_type": "markdown",
   "metadata": {},
   "source": [
    "#### Also load exon normalized cutoffs to csv for easier plotting with pandas"
   ]
  },
  {
   "cell_type": "code",
   "execution_count": 110,
   "metadata": {
    "collapsed": false
   },
   "outputs": [],
   "source": [
    "cutoffs = [(exon_labels[i], len(norm_insert_lengths), np.percentile(norm_insert_lengths, 1), np.percentile(norm_insert_lengths, 99))\n",
    "           for i, norm_insert_lengths in enumerate(exon_norm_insert_lengths)]\n",
    "\n",
    "cutoffs.insert(0, ('Exon', 'read_pair_count', 'lower_cutoff', 'upper_cutoff'))\n",
    "exon_norm_cutoffs_df = pd.DataFrame(cutoffs)\n",
    "exon_norm_cutoffs_df.to_csv(\"../exon_data/exon_norm_cutoffs.csv\")"
   ]
  },
  {
   "cell_type": "code",
   "execution_count": 113,
   "metadata": {
    "collapsed": false
   },
   "outputs": [
    {
     "data": {
      "text/plain": [
       "<matplotlib.legend.Legend at 0x7f6b2c20c4d0>"
      ]
     },
     "execution_count": 113,
     "metadata": {},
     "output_type": "execute_result"
    },
    {
     "data": {
      "image/png": "[encoded data removed]",
      "text/plain": [
       "<matplotlib.figure.Figure at 0x7f6b2cb62210>"
      ]
     },
     "metadata": {},
     "output_type": "display_data"
    }
   ],
   "source": [
    "exon_norm_cutoffs_df = pd.read_csv(\"../exon_data/exon_norm_cutoffs.csv\", header=1)\n",
    "for item in exon_norm_cutoffs_df.columns[3:]:\n",
    "    exon_norm_cutoffs_df[item].plot()\n",
    "plt.legend(loc='best')"
   ]
  },
  {
   "cell_type": "code",
   "execution_count": 103,
   "metadata": {
    "collapsed": false
   },
   "outputs": [
    {
     "name": "stdout",
     "output_type": "stream",
     "text": [
      "┌─────────┬────────┬─────────┬─────────┬─────────┬─────────┬────────┬────────┬────────┐\n",
      "│ Exon    │ Count  │ 1%      │ 5%      │ 25%     │ 50%     │ 75%    │ 95%    │ 99%    │\n",
      "├─────────┼────────┼─────────┼─────────┼─────────┼─────────┼────────┼────────┼────────┤\n",
      "│ Ex1     │ 126604 │ -1.0909 │ -0.8273 │  -0.386 │  0.0982 │ 0.6854 │ 1.6293 │ 2.2325 │\n",
      "├─────────┼────────┼─────────┼─────────┼─────────┼─────────┼────────┼────────┼────────┤\n",
      "│ Ex2     │  20905 │  -0.943 │ -0.7174 │ -0.3148 │    0.18 │ 0.7267 │ 1.6266 │    2.3 │\n",
      "├─────────┼────────┼─────────┼─────────┼─────────┼─────────┼────────┼────────┼────────┤\n",
      "│ Ex3     │  46888 │ -1.1394 │ -0.8571 │ -0.4054 │  0.0759 │ 0.7173 │ 1.6612 │ 2.3113 │\n",
      "├─────────┼────────┼─────────┼─────────┼─────────┼─────────┼────────┼────────┼────────┤\n",
      "│ Ex4     │  72809 │ -1.0577 │ -0.7551 │ -0.2645 │  0.2288 │ 0.7122 │ 1.4909 │ 2.0725 │\n",
      "├─────────┼────────┼─────────┼─────────┼─────────┼─────────┼────────┼────────┼────────┤\n",
      "│ Ex5     │  32450 │  -1.129 │ -0.8841 │ -0.4968 │ -0.1267 │ 0.4159 │ 1.3535 │ 2.1307 │\n",
      "├─────────┼────────┼─────────┼─────────┼─────────┼─────────┼────────┼────────┼────────┤\n",
      "│ Ex6     │  55651 │ -1.0705 │ -0.8362 │ -0.4332 │  0.0845 │ 0.6094 │ 1.5162 │ 2.1044 │\n",
      "├─────────┼────────┼─────────┼─────────┼─────────┼─────────┼────────┼────────┼────────┤\n",
      "│ Ex7     │  88282 │ -0.9196 │ -0.6423 │ -0.1961 │  0.2033 │ 0.7193 │ 1.5823 │ 2.1842 │\n",
      "├─────────┼────────┼─────────┼─────────┼─────────┼─────────┼────────┼────────┼────────┤\n",
      "│ Ex8     │  62575 │ -1.0255 │ -0.7779 │ -0.4138 │  0.0429 │ 0.6115 │ 1.5529 │ 2.1572 │\n",
      "├─────────┼────────┼─────────┼─────────┼─────────┼─────────┼────────┼────────┼────────┤\n",
      "│ Ex9     │  27988 │ -0.9868 │  -0.708 │ -0.2313 │  0.1926 │  0.812 │ 1.6667 │  2.221 │\n",
      "├─────────┼────────┼─────────┼─────────┼─────────┼─────────┼────────┼────────┼────────┤\n",
      "│ Ex10    │  51164 │ -1.0164 │ -0.8042 │  -0.338 │  0.1438 │  0.708 │ 1.6611 │ 2.2523 │\n",
      "├─────────┼────────┼─────────┼─────────┼─────────┼─────────┼────────┼────────┼────────┤\n",
      "│ Ex11    │  45993 │    -1.0 │ -0.7319 │  -0.298 │  0.1596 │ 0.7032 │ 1.5734 │ 2.1721 │\n",
      "├─────────┼────────┼─────────┼─────────┼─────────┼─────────┼────────┼────────┼────────┤\n",
      "│ Ex12    │  34439 │   -1.22 │ -0.9249 │  -0.483 │ -0.0654 │ 0.4955 │ 1.3493 │ 1.9637 │\n",
      "├─────────┼────────┼─────────┼─────────┼─────────┼─────────┼────────┼────────┼────────┤\n",
      "│ Ex13    │  33860 │ -1.0957 │ -0.7815 │ -0.3228 │  0.1273 │ 0.6842 │ 1.5674 │  2.194 │\n",
      "├─────────┼────────┼─────────┼─────────┼─────────┼─────────┼────────┼────────┼────────┤\n",
      "│ Ex14    │  32617 │ -1.0657 │  -0.797 │ -0.3987 │  -0.015 │ 0.5248 │ 1.5091 │ 2.1981 │\n",
      "├─────────┼────────┼─────────┼─────────┼─────────┼─────────┼────────┼────────┼────────┤\n",
      "│ Ex15    │  50764 │ -1.1309 │ -0.8634 │ -0.4872 │ -0.0867 │ 0.4457 │ 1.3392 │   1.96 │\n",
      "├─────────┼────────┼─────────┼─────────┼─────────┼─────────┼────────┼────────┼────────┤\n",
      "│ Ex16    │  33342 │ -1.0804 │ -0.7667 │ -0.3481 │  0.1156 │ 0.7394 │ 1.6423 │ 2.2586 │\n",
      "├─────────┼────────┼─────────┼─────────┼─────────┼─────────┼────────┼────────┼────────┤\n",
      "│ Ex17    │  46262 │ -0.9561 │ -0.6642 │ -0.2568 │  0.2128 │ 0.8267 │ 1.7351 │  2.339 │\n",
      "├─────────┼────────┼─────────┼─────────┼─────────┼─────────┼────────┼────────┼────────┤\n",
      "│ Ex18    │  23490 │ -1.0556 │ -0.8056 │ -0.4039 │  0.0435 │ 0.5608 │ 1.4765 │ 2.1001 │\n",
      "├─────────┼────────┼─────────┼─────────┼─────────┼─────────┼────────┼────────┼────────┤\n",
      "│ Ex19    │  55203 │ -0.9236 │ -0.6547 │ -0.1972 │   0.293 │ 0.9007 │  1.816 │ 2.4117 │\n",
      "├─────────┼────────┼─────────┼─────────┼─────────┼─────────┼────────┼────────┼────────┤\n",
      "│ Ex20    │  89737 │ -1.0532 │ -0.7886 │  -0.383 │     0.0 │ 0.5493 │  1.457 │ 2.0538 │\n",
      "├─────────┼────────┼─────────┼─────────┼─────────┼─────────┼────────┼────────┼────────┤\n",
      "│ Ex21    │  37064 │ -1.1691 │ -0.9106 │ -0.5188 │ -0.1176 │ 0.4437 │ 1.3941 │ 1.9786 │\n",
      "├─────────┼────────┼─────────┼─────────┼─────────┼─────────┼────────┼────────┼────────┤\n",
      "│ Ex22    │  62405 │ -1.0311 │ -0.7911 │ -0.3467 │  0.0872 │ 0.6358 │ 1.5152 │ 2.1071 │\n",
      "├─────────┼────────┼─────────┼─────────┼─────────┼─────────┼────────┼────────┼────────┤\n",
      "│ Ex23    │  40348 │ -1.1545 │ -0.8652 │ -0.4643 │ -0.0504 │ 0.5238 │ 1.4754 │ 2.1263 │\n",
      "├─────────┼────────┼─────────┼─────────┼─────────┼─────────┼────────┼────────┼────────┤\n",
      "│ Ex24    │  34788 │ -1.0204 │ -0.7124 │ -0.1224 │  0.4146 │ 1.0318 │  1.913 │ 2.5065 │\n",
      "├─────────┼────────┼─────────┼─────────┼─────────┼─────────┼────────┼────────┼────────┤\n",
      "│ Ex25    │  80410 │ -1.0455 │ -0.8116 │    -0.4 │  0.0133 │ 0.5238 │ 1.3902 │ 2.0133 │\n",
      "├─────────┼────────┼─────────┼─────────┼─────────┼─────────┼────────┼────────┼────────┤\n",
      "│ Ex26    │  36134 │ -1.0143 │ -0.7007 │ -0.1504 │  0.3382 │ 0.9051 │ 1.7961 │ 2.4064 │\n",
      "├─────────┼────────┼─────────┼─────────┼─────────┼─────────┼────────┼────────┼────────┤\n",
      "│ Ex27    │  65207 │ -1.1304 │ -0.8277 │ -0.3709 │  0.0667 │ 0.5984 │ 1.5985 │ 2.2549 │\n",
      "├─────────┼────────┼─────────┼─────────┼─────────┼─────────┼────────┼────────┼────────┤\n",
      "│ Ex28    │  34836 │ -1.0471 │ -0.7951 │ -0.3772 │  0.0986 │   0.75 │ 1.6331 │  2.185 │\n",
      "├─────────┼────────┼─────────┼─────────┼─────────┼─────────┼────────┼────────┼────────┤\n",
      "│ Ex29    │  56326 │ -1.0331 │ -0.7447 │ -0.3188 │  0.1972 │ 0.7881 │ 1.7086 │ 2.3076 │\n",
      "├─────────┼────────┼─────────┼─────────┼─────────┼─────────┼────────┼────────┼────────┤\n",
      "│ Ex30    │  26820 │ -1.1337 │ -0.8649 │ -0.4667 │  0.0545 │ 0.7129 │ 1.6692 │ 2.2688 │\n",
      "├─────────┼────────┼─────────┼─────────┼─────────┼─────────┼────────┼────────┼────────┤\n",
      "│ Ex31    │  42611 │ -1.0074 │ -0.7552 │ -0.3688 │  -0.008 │  0.487 │ 1.3517 │ 2.0507 │\n",
      "├─────────┼────────┼─────────┼─────────┼─────────┼─────────┼────────┼────────┼────────┤\n",
      "│ Ex32    │  43341 │ -0.9018 │  -0.538 │  0.0464 │  0.4918 │ 1.0569 │ 1.9682 │ 2.5732 │\n",
      "├─────────┼────────┼─────────┼─────────┼─────────┼─────────┼────────┼────────┼────────┤\n",
      "│ Ex33    │  63080 │ -1.0266 │ -0.7589 │ -0.3355 │  0.1016 │ 0.6815 │  1.594 │ 2.1935 │\n",
      "├─────────┼────────┼─────────┼─────────┼─────────┼─────────┼────────┼────────┼────────┤\n",
      "│ Ex34    │  38062 │ -0.9338 │ -0.6029 │ -0.0145 │  0.4697 │ 1.0791 │ 2.0622 │ 2.6604 │\n",
      "├─────────┼────────┼─────────┼─────────┼─────────┼─────────┼────────┼────────┼────────┤\n",
      "│ Ex35    │  38501 │    -1.0 │ -0.7619 │  -0.268 │  0.1824 │ 0.7426 │ 1.6328 │ 2.2905 │\n",
      "├─────────┼────────┼─────────┼─────────┼─────────┼─────────┼────────┼────────┼────────┤\n",
      "│ Ex36    │  44267 │ -0.8945 │ -0.6386 │ -0.1371 │  0.3401 │ 0.9043 │ 1.7547 │ 2.3497 │\n",
      "├─────────┼────────┼─────────┼─────────┼─────────┼─────────┼────────┼────────┼────────┤\n",
      "│ Ex37    │  46933 │  -1.096 │ -0.8105 │ -0.3399 │  0.2553 │ 0.8347 │ 1.6832 │ 2.2885 │\n",
      "├─────────┼────────┼─────────┼─────────┼─────────┼─────────┼────────┼────────┼────────┤\n",
      "│ Ex38    │  25850 │ -1.1344 │ -0.9026 │ -0.5202 │ -0.1172 │ 0.4158 │ 1.4315 │ 2.0703 │\n",
      "├─────────┼────────┼─────────┼─────────┼─────────┼─────────┼────────┼────────┼────────┤\n",
      "│ Ex39    │  37902 │ -1.1558 │ -0.8559 │ -0.4338 │ -0.0069 │ 0.5402 │ 1.6818 │ 2.4429 │\n",
      "├─────────┼────────┼─────────┼─────────┼─────────┼─────────┼────────┼────────┼────────┤\n",
      "│ Ex40    │  44829 │ -1.1014 │ -0.8258 │ -0.3077 │    0.14 │ 0.7178 │ 1.6548 │ 2.2584 │\n",
      "├─────────┼────────┼─────────┼─────────┼─────────┼─────────┼────────┼────────┼────────┤\n",
      "│ Ex41    │  40335 │ -0.9827 │ -0.7333 │ -0.2848 │  0.1859 │ 0.7564 │ 1.6847 │ 2.3275 │\n",
      "├─────────┼────────┼─────────┼─────────┼─────────┼─────────┼────────┼────────┼────────┤\n",
      "│ Ex42    │  34746 │  -0.975 │ -0.6939 │ -0.0602 │  0.4422 │ 1.0789 │   2.04 │  2.618 │\n",
      "├─────────┼────────┼─────────┼─────────┼─────────┼─────────┼────────┼────────┼────────┤\n",
      "│ Ex43    │  48856 │ -1.1139 │ -0.8397 │  -0.462 │ -0.1331 │ 0.4132 │ 1.3443 │    2.0 │\n",
      "├─────────┼────────┼─────────┼─────────┼─────────┼─────────┼────────┼────────┼────────┤\n",
      "│ Ex44|45 │ 135538 │ -1.0464 │ -0.7778 │ -0.3846 │   0.036 │ 0.6115 │ 1.5423 │ 2.1733 │\n",
      "├─────────┼────────┼─────────┼─────────┼─────────┼─────────┼────────┼────────┼────────┤\n",
      "│ Ex46    │  36996 │  -1.039 │   -0.74 │ -0.1463 │  0.4931 │ 1.1083 │  1.993 │ 2.5902 │\n",
      "├─────────┼────────┼─────────┼─────────┼─────────┼─────────┼────────┼────────┼────────┤\n",
      "│ Ex47    │  72759 │ -0.9386 │ -0.6748 │ -0.1457 │  0.3169 │ 0.9071 │  1.773 │ 2.2868 │\n",
      "├─────────┼────────┼─────────┼─────────┼─────────┼─────────┼────────┼────────┼────────┤\n",
      "│ Ex48|49 │ 119501 │ -1.0455 │  -0.777 │ -0.3456 │  0.0643 │ 0.6569 │ 1.7372 │ 2.3444 │\n",
      "├─────────┼────────┼─────────┼─────────┼─────────┼─────────┼────────┼────────┼────────┤\n",
      "│ Ex50    │  33575 │ -1.1092 │ -0.7828 │ -0.2409 │  0.3217 │ 0.9745 │ 1.7801 │ 2.3222 │\n",
      "├─────────┼────────┼─────────┼─────────┼─────────┼─────────┼────────┼────────┼────────┤\n",
      "│ Ex51    │  38685 │ -1.0634 │ -0.7908 │ -0.3205 │  0.2029 │ 0.8041 │ 1.7375 │ 2.3525 │\n",
      "├─────────┼────────┼─────────┼─────────┼─────────┼─────────┼────────┼────────┼────────┤\n",
      "│ Ex52    │  29333 │    -1.0 │ -0.7126 │ -0.2374 │  0.3451 │    1.0 │ 1.9534 │ 2.5372 │\n",
      "├─────────┼────────┼─────────┼─────────┼─────────┼─────────┼────────┼────────┼────────┤\n",
      "│ Ex53    │  59820 │ -1.1261 │   -0.82 │ -0.4014 │  0.1076 │ 0.7298 │ 1.6457 │ 2.2658 │\n",
      "├─────────┼────────┼─────────┼─────────┼─────────┼─────────┼────────┼────────┼────────┤\n",
      "│ Ex54    │  32486 │ -1.0516 │ -0.7265 │  -0.245 │  0.2377 │ 0.8675 │ 1.8406 │ 2.4936 │\n",
      "├─────────┼────────┼─────────┼─────────┼─────────┼─────────┼────────┼────────┼────────┤\n",
      "│ Ex55    │  71648 │ -1.0851 │ -0.8571 │  -0.415 │  0.0205 │ 0.6405 │ 1.7203 │ 2.3603 │\n",
      "├─────────┼────────┼─────────┼─────────┼─────────┼─────────┼────────┼────────┼────────┤\n",
      "│ Ex56    │  32994 │ -1.0071 │ -0.7609 │ -0.3333 │  0.1103 │ 0.6496 │    1.4 │ 1.9433 │\n",
      "├─────────┼────────┼─────────┼─────────┼─────────┼─────────┼────────┼────────┼────────┤\n",
      "│ Ex57    │  24301 │ -1.0214 │ -0.8125 │ -0.2615 │   0.109 │ 0.6642 │ 1.8158 │ 2.4371 │\n",
      "├─────────┼────────┼─────────┼─────────┼─────────┼─────────┼────────┼────────┼────────┤\n",
      "│ Ex58    │  35111 │ -1.0789 │ -0.8015 │  -0.345 │  0.1325 │ 0.7091 │ 1.6939 │ 2.2587 │\n",
      "├─────────┼────────┼─────────┼─────────┼─────────┼─────────┼────────┼────────┼────────┤\n",
      "│ Ex59    │  43575 │ -1.0462 │ -0.7188 │ -0.2727 │  0.2298 │  0.777 │ 1.6838 │ 2.2552 │\n",
      "├─────────┼────────┼─────────┼─────────┼─────────┼─────────┼────────┼────────┼────────┤\n",
      "│ Ex60    │  65015 │ -1.0512 │  -0.795 │ -0.3239 │  0.1895 │ 0.7848 │ 1.6543 │  2.258 │\n",
      "├─────────┼────────┼─────────┼─────────┼─────────┼─────────┼────────┼────────┼────────┤\n",
      "│ Ex61    │  36994 │  -1.126 │ -0.8436 │ -0.4286 │  0.0909 │ 0.8235 │ 1.8065 │ 2.3915 │\n",
      "├─────────┼────────┼─────────┼─────────┼─────────┼─────────┼────────┼────────┼────────┤\n",
      "│ Ex62    │  62378 │ -0.9533 │ -0.7153 │ -0.3125 │  0.2403 │ 0.8765 │ 1.7867 │ 2.4016 │\n",
      "├─────────┼────────┼─────────┼─────────┼─────────┼─────────┼────────┼────────┼────────┤\n",
      "│ Ex63    │  27025 │ -1.1151 │ -0.8273 │ -0.2994 │  0.2667 │ 0.8482 │ 1.7152 │ 2.2945 │\n",
      "├─────────┼────────┼─────────┼─────────┼─────────┼─────────┼────────┼────────┼────────┤\n",
      "│ Ex64    │  38539 │ -1.0861 │ -0.8267 │ -0.3791 │ -0.0336 │ 0.4255 │  1.331 │ 1.9394 │\n",
      "├─────────┼────────┼─────────┼─────────┼─────────┼─────────┼────────┼────────┼────────┤\n",
      "│ Ex65|66 │  59049 │ -0.9668 │ -0.7341 │ -0.2585 │  0.2115 │ 0.7532 │ 1.6535 │ 2.2721 │\n",
      "├─────────┼────────┼─────────┼─────────┼─────────┼─────────┼────────┼────────┼────────┤\n",
      "│ Ex67    │  45292 │   -1.05 │ -0.7549 │ -0.2636 │  0.2785 │ 0.8774 │ 1.8067 │ 2.3846 │\n",
      "├─────────┼────────┼─────────┼─────────┼─────────┼─────────┼────────┼────────┼────────┤\n",
      "│ Ex68    │  55050 │ -0.9736 │ -0.6972 │ -0.2701 │  0.0957 │ 0.5429 │ 1.4135 │ 2.0227 │\n",
      "├─────────┼────────┼─────────┼─────────┼─────────┼─────────┼────────┼────────┼────────┤\n",
      "│ Ex69    │  36676 │ -0.9934 │ -0.7518 │ -0.1818 │   0.392 │ 1.0147 │ 1.8369 │ 2.4161 │\n",
      "├─────────┼────────┼─────────┼─────────┼─────────┼─────────┼────────┼────────┼────────┤\n",
      "│ Ex70    │  41529 │ -1.0764 │ -0.7924 │ -0.3436 │  0.1314 │ 0.7323 │ 1.6504 │ 2.2159 │\n",
      "├─────────┼────────┼─────────┼─────────┼─────────┼─────────┼────────┼────────┼────────┤\n",
      "│ Ex71    │  21215 │ -1.2576 │ -1.0129 │ -0.6161 │ -0.2301 │ 0.3535 │ 1.2344 │ 1.8813 │\n",
      "├─────────┼────────┼─────────┼─────────┼─────────┼─────────┼────────┼────────┼────────┤\n",
      "│ Ex72    │  36812 │ -1.0723 │ -0.7616 │ -0.3716 │  0.0273 │ 0.4833 │ 1.4063 │ 2.1137 │\n",
      "├─────────┼────────┼─────────┼─────────┼─────────┼─────────┼────────┼────────┼────────┤\n",
      "│ Ex73    │  37323 │ -1.0909 │ -0.8133 │ -0.3838 │  0.0748 │   0.58 │ 1.5371 │ 2.1792 │\n",
      "├─────────┼────────┼─────────┼─────────┼─────────┼─────────┼────────┼────────┼────────┤\n",
      "│ Ex74    │  55945 │  -0.961 │ -0.6879 │ -0.1571 │  0.3857 │  0.965 │ 1.8045 │ 2.3779 │\n",
      "├─────────┼────────┼─────────┼─────────┼─────────┼─────────┼────────┼────────┼────────┤\n",
      "│ Ex75    │  29194 │ -0.9085 │ -0.6577 │ -0.1439 │  0.3565 │ 1.0148 │ 1.9268 │ 2.5395 │\n",
      "├─────────┼────────┼─────────┼─────────┼─────────┼─────────┼────────┼────────┼────────┤\n",
      "│ Ex76    │  30801 │ -1.1324 │ -0.8192 │ -0.4054 │  0.0175 │ 0.5446 │  1.448 │   2.15 │\n",
      "├─────────┼────────┼─────────┼─────────┼─────────┼─────────┼────────┼────────┼────────┤\n",
      "│ Ex77    │  48131 │ -0.9738 │ -0.7219 │ -0.2628 │  0.2929 │ 0.9167 │ 1.8396 │ 2.4119 │\n",
      "├─────────┼────────┼─────────┼─────────┼─────────┼─────────┼────────┼────────┼────────┤\n",
      "│ Ex78    │  22788 │ -0.7645 │ -0.3995 │  0.1969 │   0.719 │ 1.2714 │ 2.1347 │ 2.6614 │\n",
      "├─────────┼────────┼─────────┼─────────┼─────────┼─────────┼────────┼────────┼────────┤\n",
      "│ Ex79    │  31814 │ -0.9155 │ -0.6156 │ -0.1883 │  0.1811 │ 0.7283 │ 1.4807 │ 2.1171 │\n",
      "└─────────┴────────┴─────────┴─────────┴─────────┴─────────┴────────┴────────┴────────┘\n"
     ]
    }
   ],
   "source": [
    "wanted_percentiles = [1, 5, 25, 50, 75, 95, 99]\n",
    "headers = ['Exon', 'Count'] + ['{}%'.format(perc) for perc in wanted_percentiles]\n",
    "exon_norm_table = [headers]\n",
    "# cutoff_fraction = 0.01\n",
    "# cutoff_percent = 100.0 * cutoff_fraction\n",
    "for i, norm_insert_lengths in enumerate(exon_norm_insert_lengths):    \n",
    "    exon_stats = [np.percentile(norm_insert_lengths, perc) for perc in wanted_percentiles]\n",
    "    exon_norm_table.append([exon_labels[i], len(norm_insert_lengths)] + [round(item, 4) for item in exon_stats])\n",
    "#     print exon_labels[exon_num], len(norm_insert_lengths), np.percentile(norm_insert_lengths, 1), np.percentile(norm_insert_lengths, 99)\n",
    "print tabletext.to_text(exon_norm_table)"
   ]
  },
  {
   "cell_type": "markdown",
   "metadata": {},
   "source": [
    "#### Do second parse of subject insert lengths to create subject contingency table counting number of insert lengths that are outliers for each subject within each exon"
   ]
  },
  {
   "cell_type": "code",
   "execution_count": 105,
   "metadata": {
    "collapsed": false,
    "scrolled": true
   },
   "outputs": [
    {
     "name": "stdout",
     "output_type": "stream",
     "text": [
      "Finished parsing 5 subjects\n",
      "Finished parsing 10 subjects\n",
      "Finished parsing 15 subjects\n",
      "Finished parsing 20 subjects\n",
      "Finished parsing 25 subjects\n",
      "Finished parsing 30 subjects\n",
      "Finished parsing 35 subjects\n",
      "Finished parsing 40 subjects\n",
      "Finished parsing 45 subjects\n",
      "Finished parsing 50 subjects\n",
      "Finished parsing 55 subjects\n",
      "Finished parsing 60 subjects\n",
      "Finished parsing 65 subjects\n",
      "Finished parsing 70 subjects\n",
      "Finished parsing 75 subjects\n",
      "Finished parsing 80 subjects\n",
      "Finished parsing 85 subjects\n",
      "Finished parsing 90 subjects\n",
      "Finished parsing 95 subjects\n",
      "Finished parsing 100 subjects\n",
      "Finished parsing 105 subjects\n",
      "Finished parsing 110 subjects\n",
      "Finished parsing 115 subjects\n",
      "Finished parsing 120 subjects\n",
      "Finished parsing 125 subjects\n",
      "Finished parsing 130 subjects\n",
      "Finished parsing 135 subjects\n",
      "Finished parsing 140 subjects\n",
      "Finished parsing 145 subjects\n",
      "Finished parsing 150 subjects\n",
      "Finished parsing 155 subjects\n",
      "FK2R-0000-151I.bam is missing an index file\n",
      "Finished parsing 160 subjects\n",
      "Finished parsing 165 subjects\n",
      "Finished parsing 170 subjects\n",
      "Finished parsing 175 subjects\n",
      "Finished parsing 180 subjects\n",
      "Finished parsing 185 subjects\n",
      "Finished parsing 190 subjects\n",
      "Finished parsing 195 subjects\n",
      "Finished parsing 200 subjects\n",
      "Finished parsing 205 subjects\n",
      "Finished parsing 210 subjects\n",
      "Finished parsing 215 subjects\n",
      "Finished parsing 220 subjects\n",
      "Finished parsing 225 subjects\n",
      "Finished parsing 230 subjects\n",
      "Finished parsing 235 subjects\n",
      "Finished parsing 240 subjects\n",
      "Finished parsing 245 subjects\n",
      "Finished parsing 250 subjects\n",
      "Finished parsing 255 subjects\n",
      "Finished parsing 260 subjects\n",
      "Finished parsing 265 subjects\n",
      "Finished parsing 270 subjects\n",
      "Finished parsing 275 subjects\n",
      "Finished parsing 280 subjects\n",
      "Finished parsing 285 subjects\n",
      "Finished parsing 290 subjects\n",
      "Finished parsing 295 subjects\n",
      "Finished parsing 300 subjects\n",
      "Finished parsing 305 subjects\n",
      "Finished parsing 310 subjects\n",
      "Finished parsing 315 subjects\n",
      "Finished parsing 320 subjects\n",
      "Finished parsing 325 subjects\n",
      "Finished parsing 330 subjects\n",
      "Finished parsing 335 subjects\n",
      "Finished parsing 340 subjects\n",
      "Finished parsing 345 subjects\n",
      "Finished parsing 350 subjects\n",
      "Finished parsing 355 subjects\n",
      "Finished parsing 360 subjects\n",
      "Finished parsing 365 subjects\n",
      "Finished parsing 370 subjects\n",
      "Finished parsing 375 subjects\n",
      "Finished parsing 380 subjects\n",
      "Finished parsing 385 subjects\n",
      "Finished parsing 390 subjects\n",
      "Finished parsing 395 subjects\n",
      "Finished parsing 400 subjects\n",
      "Finished parsing 405 subjects\n",
      "Finished parsing 410 subjects\n",
      "Finished parsing 415 subjects\n",
      "Finished parsing 420 subjects\n",
      "Finished parsing 425 subjects\n",
      "MCLR-NA12-8911.bam is missing an index file\n",
      "Finished parsing 430 subjects\n",
      "Finished parsing all 432 subjects in the second parse\n",
      "outside_of_exon 1658131\n",
      "in_two_exons 59\n",
      "in_between_joined_exons 27028\n",
      "less_than_20_bp_overlap 237490\n",
      "tandem_pair 1349\n",
      "negative_insert_length 368\n",
      "CPU times: user 33min 10s, sys: 31.6 s, total: 33min 42s\n",
      "Wall time: 34min 48s\n"
     ]
    }
   ],
   "source": [
    "%%time\n",
    "# subj_contingency_table = parse_subject_insert_lengths(first_parse=False, exon_norm_cutoffs=exon_norm_cutoffs, subj_name_filter='FRMR-00SC-714V')\n",
    "initial_contingency_table_full = parse_subject_insert_lengths(first_parse=False, exon_norm_cutoffs=exon_norm_cutoffs)\n",
    "\n",
    "# Convert to pandas data frame and export to csv\n",
    "contingency_table_df = pd.DataFrame(initial_contingency_table_full)\n",
    "contingency_table_df.to_csv(\"../exon_data/PEM_contingency_table_initial.csv\")"
   ]
  },
  {
   "cell_type": "markdown",
   "metadata": {},
   "source": [
    "#### ** All code below this point is not currently being used, but I'm not deleting it yet because we may come back to some of it"
   ]
  },
  {
   "cell_type": "markdown",
   "metadata": {},
   "source": [
    "#### Check if only filtering for subjects with good data makes a significant difference when determing the normalized exon means- determined it to not make a significant difference, so this filter is not needed"
   ]
  },
  {
   "cell_type": "code",
   "execution_count": 53,
   "metadata": {
    "collapsed": false
   },
   "outputs": [
    {
     "data": {
      "text/plain": [
       "<matplotlib.legend.Legend at 0x7f6b34e58990>"
      ]
     },
     "execution_count": 53,
     "metadata": {},
     "output_type": "execute_result"
    },
    {
     "data": {
      "image/png": "[encoded data removed]",
      "text/plain": [
       "<matplotlib.figure.Figure at 0x7f6b34e58f50>"
      ]
     },
     "metadata": {},
     "output_type": "display_data"
    }
   ],
   "source": [
    "exon_counts = df.filter(regex=('Ex.+_count'))\n",
    "subject_counts = exon_counts.T.describe().T\n",
    "\n",
    "high_qual_subjects = df[(subject_counts['25%'] > 86) & (subject_counts['50%'] > 200)]\n",
    "high_qual_exon_stats = high_qual_subjects.filter(regex=('_50%')).describe().T\n",
    "\n",
    "# for item in ['25%', '50%', '75%']:\n",
    "for item in high_qual_exon_stats.columns[3:]:\n",
    "    high_qual_exon_stats[item].plot()\n",
    "plt.legend(loc='best')"
   ]
  },
  {
   "cell_type": "markdown",
   "metadata": {},
   "source": [
    "#### Get insert length stats for each exon"
   ]
  },
  {
   "cell_type": "code",
   "execution_count": 47,
   "metadata": {
    "collapsed": false,
    "scrolled": true
   },
   "outputs": [
    {
     "name": "stdout",
     "output_type": "stream",
     "text": [
      "┌───────┬────────────┬─────────────┬──────────────┐\n",
      "│ Exon  │ Read Count │ 0.1% Cutoff │ 99.9% Cutoff │\n",
      "├───────┼────────────┼─────────────┼──────────────┤\n",
      "│     1 │     206022 │        47.0 │        686.0 │\n",
      "├───────┼────────────┼─────────────┼──────────────┤\n",
      "│     2 │      32373 │        53.0 │      682.256 │\n",
      "├───────┼────────────┼─────────────┼──────────────┤\n",
      "│     3 │      78665 │        45.0 │        698.0 │\n",
      "├───────┼────────────┼─────────────┼──────────────┤\n",
      "│     4 │     120276 │      48.275 │        672.0 │\n",
      "├───────┼────────────┼─────────────┼──────────────┤\n",
      "│     5 │      54335 │        47.0 │      679.332 │\n",
      "├───────┼────────────┼─────────────┼──────────────┤\n",
      "│     6 │      89717 │        48.0 │        681.0 │\n",
      "├───────┼────────────┼─────────────┼──────────────┤\n",
      "│     7 │     138561 │        58.0 │        682.0 │\n",
      "├───────┼────────────┼─────────────┼──────────────┤\n",
      "│     8 │     102512 │        47.0 │      678.489 │\n",
      "├───────┼────────────┼─────────────┼──────────────┤\n",
      "│     9 │      50444 │        51.0 │      712.671 │\n",
      "├───────┼────────────┼─────────────┼──────────────┤\n",
      "│    10 │      81148 │        51.0 │        691.0 │\n",
      "├───────┼────────────┼─────────────┼──────────────┤\n",
      "│    11 │      80264 │        43.0 │      689.474 │\n",
      "├───────┼────────────┼─────────────┼──────────────┤\n",
      "│    12 │      55954 │        43.0 │      692.094 │\n",
      "├───────┼────────────┼─────────────┼──────────────┤\n",
      "│    13 │      57173 │        46.0 │      704.656 │\n",
      "├───────┼────────────┼─────────────┼──────────────┤\n",
      "│    14 │      48250 │        50.0 │        679.0 │\n",
      "├───────┼────────────┼─────────────┼──────────────┤\n",
      "│    15 │      72564 │        42.0 │        658.0 │\n",
      "├───────┼────────────┼─────────────┼──────────────┤\n",
      "│    16 │      63823 │        44.0 │      715.178 │\n",
      "├───────┼────────────┼─────────────┼──────────────┤\n",
      "│    17 │      84049 │        49.0 │        718.0 │\n",
      "├───────┼────────────┼─────────────┼──────────────┤\n",
      "│    18 │      42198 │        52.0 │      697.606 │\n",
      "├───────┼────────────┼─────────────┼──────────────┤\n",
      "│    19 │      91641 │        48.0 │        708.0 │\n",
      "├───────┼────────────┼─────────────┼──────────────┤\n",
      "│    20 │     137781 │        45.0 │        672.0 │\n",
      "├───────┼────────────┼─────────────┼──────────────┤\n",
      "│    21 │      57417 │        41.0 │      692.584 │\n",
      "├───────┼────────────┼─────────────┼──────────────┤\n",
      "│    22 │     109733 │        50.0 │      670.268 │\n",
      "├───────┼────────────┼─────────────┼──────────────┤\n",
      "│    23 │      65980 │        46.0 │        680.0 │\n",
      "├───────┼────────────┼─────────────┼──────────────┤\n",
      "│    24 │      64082 │        49.0 │        739.0 │\n",
      "├───────┼────────────┼─────────────┼──────────────┤\n",
      "│    25 │     124292 │        47.0 │        657.0 │\n",
      "├───────┼────────────┼─────────────┼──────────────┤\n",
      "│    26 │      67008 │        48.0 │      715.965 │\n",
      "├───────┼────────────┼─────────────┼──────────────┤\n",
      "│    27 │     103027 │        43.0 │      682.974 │\n",
      "├───────┼────────────┼─────────────┼──────────────┤\n",
      "│    28 │      53178 │        49.0 │        685.0 │\n",
      "├───────┼────────────┼─────────────┼──────────────┤\n",
      "│    29 │      94878 │        52.0 │        698.0 │\n",
      "├───────┼────────────┼─────────────┼──────────────┤\n",
      "│    30 │      43756 │        42.0 │       707.49 │\n",
      "├───────┼────────────┼─────────────┼──────────────┤\n",
      "│    31 │      60021 │        49.0 │        673.0 │\n",
      "├───────┼────────────┼─────────────┼──────────────┤\n",
      "│    32 │      82625 │        52.0 │        747.0 │\n",
      "├───────┼────────────┼─────────────┼──────────────┤\n",
      "│    33 │     114351 │        49.0 │        693.3 │\n",
      "├───────┼────────────┼─────────────┼──────────────┤\n",
      "│    34 │      71411 │        52.0 │       732.77 │\n",
      "├───────┼────────────┼─────────────┼──────────────┤\n",
      "│    35 │      70719 │        48.0 │      706.846 │\n",
      "├───────┼────────────┼─────────────┼──────────────┤\n",
      "│    36 │      78971 │        59.0 │        718.0 │\n",
      "├───────┼────────────┼─────────────┼──────────────┤\n",
      "│    37 │      80670 │        44.0 │        703.0 │\n",
      "├───────┼────────────┼─────────────┼──────────────┤\n",
      "│    38 │      41576 │        43.0 │       671.85 │\n",
      "├───────┼────────────┼─────────────┼──────────────┤\n",
      "│    39 │      64791 │       44.79 │       711.42 │\n",
      "├───────┼────────────┼─────────────┼──────────────┤\n",
      "│    40 │      71443 │      53.442 │      694.558 │\n",
      "├───────┼────────────┼─────────────┼──────────────┤\n",
      "│    41 │      74997 │        49.0 │        709.0 │\n",
      "├───────┼────────────┼─────────────┼──────────────┤\n",
      "│    42 │      66638 │        52.0 │      738.363 │\n",
      "├───────┼────────────┼─────────────┼──────────────┤\n",
      "│    43 │      81017 │        44.0 │      697.984 │\n",
      "├───────┼────────────┼─────────────┼──────────────┤\n",
      "│    44 │      90690 │        46.0 │      722.622 │\n",
      "├───────┼────────────┼─────────────┼──────────────┤\n",
      "│    45 │     115270 │        47.0 │        627.0 │\n",
      "├───────┼────────────┼─────────────┼──────────────┤\n",
      "│    46 │      72034 │      46.033 │      732.967 │\n",
      "├───────┼────────────┼─────────────┼──────────────┤\n",
      "│    47 │     120368 │        49.0 │      698.633 │\n",
      "├───────┼────────────┼─────────────┼──────────────┤\n",
      "│    48 │      81701 │        47.0 │        743.0 │\n",
      "├───────┼────────────┼─────────────┼──────────────┤\n",
      "│    49 │     111844 │        49.0 │        681.0 │\n",
      "├───────┼────────────┼─────────────┼──────────────┤\n",
      "│    50 │      53046 │        48.0 │      733.955 │\n",
      "├───────┼────────────┼─────────────┼──────────────┤\n",
      "│    51 │      67856 │        50.0 │       722.29 │\n",
      "├───────┼────────────┼─────────────┼──────────────┤\n",
      "│    52 │      58244 │      48.243 │      730.757 │\n",
      "├───────┼────────────┼─────────────┼──────────────┤\n",
      "│    53 │      93557 │        45.0 │        691.0 │\n",
      "├───────┼────────────┼─────────────┼──────────────┤\n",
      "│    54 │      54884 │        46.0 │      730.117 │\n",
      "├───────┼────────────┼─────────────┼──────────────┤\n",
      "│    55 │     120149 │      45.148 │        705.0 │\n",
      "├───────┼────────────┼─────────────┼──────────────┤\n",
      "│    56 │      58340 │        47.0 │      662.661 │\n",
      "├───────┼────────────┼─────────────┼──────────────┤\n",
      "│    57 │      44194 │        44.0 │      707.614 │\n",
      "├───────┼────────────┼─────────────┼──────────────┤\n",
      "│    58 │      59927 │        47.0 │      702.074 │\n",
      "├───────┼────────────┼─────────────┼──────────────┤\n",
      "│    59 │      72177 │        52.0 │        706.0 │\n",
      "├───────┼────────────┼─────────────┼──────────────┤\n",
      "│    60 │     110656 │        46.0 │      694.345 │\n",
      "├───────┼────────────┼─────────────┼──────────────┤\n",
      "│    61 │      72565 │        44.0 │      726.872 │\n",
      "├───────┼────────────┼─────────────┼──────────────┤\n",
      "│    62 │     105268 │        48.0 │        696.0 │\n",
      "├───────┼────────────┼─────────────┼──────────────┤\n",
      "│    63 │      51083 │        45.0 │      726.672 │\n",
      "├───────┼────────────┼─────────────┼──────────────┤\n",
      "│    64 │      56257 │        47.0 │        661.0 │\n",
      "├───────┼────────────┼─────────────┼──────────────┤\n",
      "│ 65/66 │      97909 │        49.0 │      692.092 │\n",
      "├───────┼────────────┼─────────────┼──────────────┤\n",
      "│    67 │      79772 │        46.0 │        716.0 │\n",
      "├───────┼────────────┼─────────────┼──────────────┤\n",
      "│    68 │      77359 │        49.0 │      672.642 │\n",
      "├───────┼────────────┼─────────────┼──────────────┤\n",
      "│    69 │      73087 │        46.0 │        745.0 │\n",
      "├───────┼────────────┼─────────────┼──────────────┤\n",
      "│    70 │      68998 │        47.0 │        700.0 │\n",
      "├───────┼────────────┼─────────────┼──────────────┤\n",
      "│    71 │      30097 │        45.0 │        651.0 │\n",
      "├───────┼────────────┼─────────────┼──────────────┤\n",
      "│    72 │      57291 │        48.0 │       700.42 │\n",
      "├───────┼────────────┼─────────────┼──────────────┤\n",
      "│    73 │      54174 │        45.0 │      680.827 │\n",
      "├───────┼────────────┼─────────────┼──────────────┤\n",
      "│    74 │     101219 │        50.0 │      720.782 │\n",
      "├───────┼────────────┼─────────────┼──────────────┤\n",
      "│    75 │      57959 │        54.0 │      733.042 │\n",
      "├───────┼────────────┼─────────────┼──────────────┤\n",
      "│    76 │      51053 │        47.0 │        689.0 │\n",
      "├───────┼────────────┼─────────────┼──────────────┤\n",
      "│    77 │      79785 │        53.0 │        711.0 │\n",
      "├───────┼────────────┼─────────────┼──────────────┤\n",
      "│    78 │      45031 │        70.0 │       750.91 │\n",
      "├───────┼────────────┼─────────────┼──────────────┤\n",
      "│    79 │      48722 │      53.442 │        674.0 │\n",
      "└───────┴────────────┴─────────────┴──────────────┘\n"
     ]
    }
   ],
   "source": [
    "exon_outlier_marks = [['Exon', 'Read Count', '0.1% Cutoff', '99.9% Cutoff']]\n",
    "\n",
    "exon_stats_dict = {}\n",
    "for exon_index, insert_lengths in exon_insert_lengths.items():\n",
    "    exon_upper = np.percentile(insert_lengths, 99.9)\n",
    "    exon_lower = np.percentile(insert_lengths, 0.1)    \n",
    "    if exon_index == 64:\n",
    "        exon = '65/66'\n",
    "    elif exon_index > 64:\n",
    "        exon = exon_index + 2\n",
    "    else:\n",
    "        exon = exon_index + 1\n",
    "    exon_outlier_marks.append([exon, len(insert_lengths), exon_lower, exon_upper])\n",
    "    exon_stats_dict[exon_index] = [exon_lower, exon_upper]\n",
    "    \n",
    "#     clipped_exon_insert_lengths = [item for item in insert_lengths if 0 < item < 800]\n",
    "#     plt.hist(clipped_exon_insert_lengths)\n",
    "#     plt.title(\"Exon {} ({} reads)\".format(exon, len(clipped_exon_insert_lengths)))\n",
    "#     plt.xlabel(\"Insert Length\")\n",
    "#     plt.ylabel(\"Count\")\n",
    "#     plt.show()\n",
    "print tabletext.to_text(exon_outlier_marks)"
   ]
  },
  {
   "cell_type": "markdown",
   "metadata": {},
   "source": [
    "#### Plot a histogram of all insert lengths across all exons"
   ]
  },
  {
   "cell_type": "code",
   "execution_count": 33,
   "metadata": {
    "collapsed": false
   },
   "outputs": [
    {
     "name": "stdout",
     "output_type": "stream",
     "text": [
      "704.0 47.0\n"
     ]
    },
    {
     "data": {
      "image/png": "[encoded data removed]",
      "text/plain": [
       "<matplotlib.figure.Figure at 0x7f69b1ba4450>"
      ]
     },
     "metadata": {},
     "output_type": "display_data"
    }
   ],
   "source": [
    "all_insert_lengths = list(itertools.chain(*exon_insert_lengths.values()))\n",
    "print np.percentile(all_insert_lengths, 99.9), np.percentile(all_insert_lengths, 0.1)\n",
    "# print np.percentile(all_insert_lengths, 0.1)\n",
    "clipped_insert_lengths = [item for item in all_insert_lengths if 0 < item < 800]\n",
    "bad_insert_lengths = [item for item in all_insert_lengths if item < 0 or item > 800]\n",
    "# print len(bad_insert_lengths)\n",
    "\n",
    "# Plot a histogram of distribution of insert lengths across all exons for each orientation\n",
    "plt.hist(clipped_insert_lengths)\n",
    "plt.title(\"{} reads\".format(len(clipped_insert_lengths)))\n",
    "plt.xlabel(\"Insert Length\")\n",
    "plt.ylabel(\"Count\")\n",
    "plt.show()"
   ]
  }
 ],
 "metadata": {
  "anaconda-cloud": {},
  "kernelspec": {
   "display_name": "Python [default]",
   "language": "python",
   "name": "python2"
  },
  "language_info": {
   "codemirror_mode": {
    "name": "ipython",
    "version": 2
   },
   "file_extension": ".py",
   "mimetype": "text/x-python",
   "name": "python",
   "nbconvert_exporter": "python",
   "pygments_lexer": "ipython2",
   "version": "2.7.12"
  }
 },
 "nbformat": 4,
 "nbformat_minor": 2
}
