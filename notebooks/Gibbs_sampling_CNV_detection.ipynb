{
 "cells": [
  {
   "cell_type": "code",
   "execution_count": 116,
   "metadata": {
    "collapsed": false
   },
   "outputs": [],
   "source": [
    "import pysam\n",
    "import numpy as np\n",
    "import random\n",
    "import matplotlib.pyplot as plt\n",
    "import pandas as pd\n",
    "from collections import Counter\n",
    "from genepeeks.common import utilities as util\n",
    "import seaborn as sns\n",
    "\n",
    "%matplotlib inline"
   ]
  },
  {
   "cell_type": "code",
   "execution_count": 2,
   "metadata": {
    "collapsed": false
   },
   "outputs": [
    {
     "name": "stdout",
     "output_type": "stream",
     "text": [
      "Finished loading the gene collection from the genepeeks-prod database with a single entries with a query of {'_id': 'DMD'} after 0.27 sec\n"
     ]
    }
   ],
   "source": [
    "DMD_ensembl = util.Mongo.get_collection_data('gene', wanted_db='prod', query={'_id': 'DMD'}, find_one=True, single_field='ensembl')\n",
    "DMD_exons = util.get_nested_value(DMD_ensembl, ('is_primary', 'transcripts', 'is_primary', 'exons'))\n",
    "# had to make local change in utilities \n",
    "DMD_exons_merged = util.merge_intervals(DMD_exons, min_dist=200, include_index=True)\n",
    "exon_labels = ['Ex' + exon['index'] for exon in DMD_exons_merged]"
   ]
  },
  {
   "cell_type": "code",
   "execution_count": 3,
   "metadata": {
    "collapsed": false
   },
   "outputs": [
    {
     "name": "stdout",
     "output_type": "stream",
     "text": [
      "2702\n"
     ]
    }
   ],
   "source": [
    "# DMD exon/gene coordinates and useful regions (coordinates taken from IGV b37 reference)\n",
    "EXON46 = [31950197, 31950344]\n",
    "EXON47 = [31947713, 31947862]\n",
    "EXON48 = [31893308, 31893490]\n",
    "EXON49 = [31854835, 31854939]\n",
    "EXON50 = [31838092, 31838200]\n",
    "EXON51 = [31792077, 31792309]\n",
    "DMD = [31115794, 33357558]  # taken from ensembl GRCh37\n",
    "\n",
    "# deletion of partial exons\n",
    "EX48_50_PART = [31838130, 31893308]\n",
    "\n",
    "# for consistency with exon labeling in Ensembl\n",
    "exon_dict = {exon['index']: [exon['start'], exon['end']] for exon in DMD_exons_merged}\n",
    "print exon_dict['1'][1] - exon_dict['1'][0]"
   ]
  },
  {
   "cell_type": "code",
   "execution_count": 4,
   "metadata": {
    "collapsed": true
   },
   "outputs": [],
   "source": [
    "# workaround to force real time print output in notebooks\n",
    "# see http://stackoverflow.com/questions/29772158/make-ipython-notebook-print-in-real-time\n",
    "import sys\n",
    "oldsysstdout = sys.stdout\n",
    "class flushfile():\n",
    "    def __init__(self, f):\n",
    "        self.f = f\n",
    "    def __getattr__(self,name): \n",
    "        return object.__getattribute__(self.f, name)\n",
    "    def write(self, x):\n",
    "        self.f.write(x)\n",
    "        self.f.flush()\n",
    "    def flush(self):\n",
    "        self.f.flush()\n",
    "sys.stdout = flushfile(sys.stdout)"
   ]
  },
  {
   "cell_type": "markdown",
   "metadata": {},
   "source": [
    "## Starting Data"
   ]
  },
  {
   "cell_type": "code",
   "execution_count": 5,
   "metadata": {
    "collapsed": false
   },
   "outputs": [
    {
     "name": "stdout",
     "output_type": "stream",
     "text": [
      "(1266, 88)\n"
     ]
    },
    {
     "data": {
      "text/html": [
       "<div>\n",
       "<table border=\"1\" class=\"dataframe\">\n",
       "  <thead>\n",
       "    <tr style=\"text-align: right;\">\n",
       "      <th></th>\n",
       "      <th>id</th>\n",
       "      <th>subject</th>\n",
       "      <th>specimen</th>\n",
       "      <th>sample</th>\n",
       "      <th>gender</th>\n",
       "      <th>sequencer</th>\n",
       "      <th>flow_cell_id</th>\n",
       "      <th>lane</th>\n",
       "      <th>bwa_version</th>\n",
       "      <th>date_modified</th>\n",
       "      <th>...</th>\n",
       "      <th>Ex70</th>\n",
       "      <th>Ex71</th>\n",
       "      <th>Ex72</th>\n",
       "      <th>Ex73</th>\n",
       "      <th>Ex74</th>\n",
       "      <th>Ex75</th>\n",
       "      <th>Ex76</th>\n",
       "      <th>Ex77</th>\n",
       "      <th>Ex78</th>\n",
       "      <th>Ex79</th>\n",
       "    </tr>\n",
       "  </thead>\n",
       "  <tbody>\n",
       "    <tr>\n",
       "      <th>1</th>\n",
       "      <td>FCLR-GP01-2121_1-M1-1_HGGF5AFXX-L001</td>\n",
       "      <td>FCLR-GP01-2121</td>\n",
       "      <td>FCLR-GP01-2121_1</td>\n",
       "      <td>FCLR-GP01-2121_1-M1-1</td>\n",
       "      <td>F</td>\n",
       "      <td>M1</td>\n",
       "      <td>HGGF5AFXX</td>\n",
       "      <td>L001</td>\n",
       "      <td>0.7.15-r1140</td>\n",
       "      <td>1970-01-01 00:00:01.477955702</td>\n",
       "      <td>...</td>\n",
       "      <td>102</td>\n",
       "      <td>42</td>\n",
       "      <td>76</td>\n",
       "      <td>55</td>\n",
       "      <td>139</td>\n",
       "      <td>44</td>\n",
       "      <td>30</td>\n",
       "      <td>71</td>\n",
       "      <td>12</td>\n",
       "      <td>81</td>\n",
       "    </tr>\n",
       "    <tr>\n",
       "      <th>2</th>\n",
       "      <td>FCLR-GP01-2121_1-M1-1_HGGF5AFXX-L002</td>\n",
       "      <td>FCLR-GP01-2121</td>\n",
       "      <td>FCLR-GP01-2121_1</td>\n",
       "      <td>FCLR-GP01-2121_1-M1-1</td>\n",
       "      <td>F</td>\n",
       "      <td>M1</td>\n",
       "      <td>HGGF5AFXX</td>\n",
       "      <td>L002</td>\n",
       "      <td>0.7.15-r1140</td>\n",
       "      <td>1970-01-01 00:00:01.477955702</td>\n",
       "      <td>...</td>\n",
       "      <td>85</td>\n",
       "      <td>60</td>\n",
       "      <td>77</td>\n",
       "      <td>38</td>\n",
       "      <td>121</td>\n",
       "      <td>40</td>\n",
       "      <td>52</td>\n",
       "      <td>71</td>\n",
       "      <td>14</td>\n",
       "      <td>67</td>\n",
       "    </tr>\n",
       "    <tr>\n",
       "      <th>3</th>\n",
       "      <td>FCLR-GP01-2121_1-M1-1_HGGF5AFXX-L003</td>\n",
       "      <td>FCLR-GP01-2121</td>\n",
       "      <td>FCLR-GP01-2121_1</td>\n",
       "      <td>FCLR-GP01-2121_1-M1-1</td>\n",
       "      <td>F</td>\n",
       "      <td>M1</td>\n",
       "      <td>HGGF5AFXX</td>\n",
       "      <td>L003</td>\n",
       "      <td>0.7.15-r1140</td>\n",
       "      <td>1970-01-01 00:00:01.477955702</td>\n",
       "      <td>...</td>\n",
       "      <td>143</td>\n",
       "      <td>45</td>\n",
       "      <td>76</td>\n",
       "      <td>37</td>\n",
       "      <td>137</td>\n",
       "      <td>37</td>\n",
       "      <td>33</td>\n",
       "      <td>74</td>\n",
       "      <td>6</td>\n",
       "      <td>38</td>\n",
       "    </tr>\n",
       "    <tr>\n",
       "      <th>4</th>\n",
       "      <td>FCLR-GP01-2121_1-M1-1_HGGF5AFXX-L004</td>\n",
       "      <td>FCLR-GP01-2121</td>\n",
       "      <td>FCLR-GP01-2121_1</td>\n",
       "      <td>FCLR-GP01-2121_1-M1-1</td>\n",
       "      <td>F</td>\n",
       "      <td>M1</td>\n",
       "      <td>HGGF5AFXX</td>\n",
       "      <td>L004</td>\n",
       "      <td>0.7.15-r1140</td>\n",
       "      <td>1970-01-01 00:00:01.477955702</td>\n",
       "      <td>...</td>\n",
       "      <td>152</td>\n",
       "      <td>32</td>\n",
       "      <td>96</td>\n",
       "      <td>51</td>\n",
       "      <td>117</td>\n",
       "      <td>29</td>\n",
       "      <td>32</td>\n",
       "      <td>79</td>\n",
       "      <td>9</td>\n",
       "      <td>56</td>\n",
       "    </tr>\n",
       "    <tr>\n",
       "      <th>5</th>\n",
       "      <td>MESB-0009-690N_ACGT.1.P1.1</td>\n",
       "      <td>MESB-0009-690N</td>\n",
       "      <td>MESB-0009-690N_ACGT_1</td>\n",
       "      <td>MESB-0009-690N_ACGT.1.P1.1</td>\n",
       "      <td>M</td>\n",
       "      <td>P1</td>\n",
       "      <td>NaN</td>\n",
       "      <td>NaN</td>\n",
       "      <td>0.7.10-r789</td>\n",
       "      <td>1970-01-01 00:00:01.465400971</td>\n",
       "      <td>...</td>\n",
       "      <td>36</td>\n",
       "      <td>22</td>\n",
       "      <td>48</td>\n",
       "      <td>64</td>\n",
       "      <td>64</td>\n",
       "      <td>36</td>\n",
       "      <td>44</td>\n",
       "      <td>10</td>\n",
       "      <td>1</td>\n",
       "      <td>6</td>\n",
       "    </tr>\n",
       "  </tbody>\n",
       "</table>\n",
       "<p>5 rows × 88 columns</p>\n",
       "</div>"
      ],
      "text/plain": [
       "                                     id         subject  \\\n",
       "1  FCLR-GP01-2121_1-M1-1_HGGF5AFXX-L001  FCLR-GP01-2121   \n",
       "2  FCLR-GP01-2121_1-M1-1_HGGF5AFXX-L002  FCLR-GP01-2121   \n",
       "3  FCLR-GP01-2121_1-M1-1_HGGF5AFXX-L003  FCLR-GP01-2121   \n",
       "4  FCLR-GP01-2121_1-M1-1_HGGF5AFXX-L004  FCLR-GP01-2121   \n",
       "5            MESB-0009-690N_ACGT.1.P1.1  MESB-0009-690N   \n",
       "\n",
       "                specimen                      sample gender sequencer  \\\n",
       "1       FCLR-GP01-2121_1       FCLR-GP01-2121_1-M1-1      F        M1   \n",
       "2       FCLR-GP01-2121_1       FCLR-GP01-2121_1-M1-1      F        M1   \n",
       "3       FCLR-GP01-2121_1       FCLR-GP01-2121_1-M1-1      F        M1   \n",
       "4       FCLR-GP01-2121_1       FCLR-GP01-2121_1-M1-1      F        M1   \n",
       "5  MESB-0009-690N_ACGT_1  MESB-0009-690N_ACGT.1.P1.1      M        P1   \n",
       "\n",
       "  flow_cell_id  lane   bwa_version                 date_modified  ...   Ex70  \\\n",
       "1    HGGF5AFXX  L001  0.7.15-r1140 1970-01-01 00:00:01.477955702  ...    102   \n",
       "2    HGGF5AFXX  L002  0.7.15-r1140 1970-01-01 00:00:01.477955702  ...     85   \n",
       "3    HGGF5AFXX  L003  0.7.15-r1140 1970-01-01 00:00:01.477955702  ...    143   \n",
       "4    HGGF5AFXX  L004  0.7.15-r1140 1970-01-01 00:00:01.477955702  ...    152   \n",
       "5          NaN   NaN   0.7.10-r789 1970-01-01 00:00:01.465400971  ...     36   \n",
       "\n",
       "   Ex71  Ex72  Ex73  Ex74  Ex75  Ex76  Ex77  Ex78  Ex79  \n",
       "1    42    76    55   139    44    30    71    12    81  \n",
       "2    60    77    38   121    40    52    71    14    67  \n",
       "3    45    76    37   137    37    33    74     6    38  \n",
       "4    32    96    51   117    29    32    79     9    56  \n",
       "5    22    48    64    64    36    44    10     1     6  \n",
       "\n",
       "[5 rows x 88 columns]"
      ]
     },
     "execution_count": 5,
     "metadata": {},
     "output_type": "execute_result"
    }
   ],
   "source": [
    "# get full dataset and also subsets based on gender, sequencer, etc\n",
    "coverage_df = pd.read_csv('../exon_data/coverage_matrix.csv', header=1, index_col=0)\n",
    "coverage_df.index.name = None\n",
    "coverage_df.date_modified = pd.to_datetime(coverage_df.date_modified)\n",
    "coverage_df_f = coverage_df[coverage_df.gender == 'F']\n",
    "coverage_df_m = coverage_df[coverage_df.gender == 'M']\n",
    "coverage_df_RMA = coverage_df[coverage_df.subject.str.contains('FRMR')]\n",
    "coverage_df_M1 = coverage_df[coverage_df.sequencer == 'M1']\n",
    "coverage_df_M1_f = coverage_df_f[coverage_df_f.sequencer == 'M1']\n",
    "coverage_df_T1_f = coverage_df_f[coverage_df_f.sequencer == 'T1']\n",
    "print coverage_df.shape\n",
    "coverage_df.head()"
   ]
  },
  {
   "cell_type": "code",
   "execution_count": 6,
   "metadata": {
    "collapsed": true
   },
   "outputs": [],
   "source": [
    "# function for reshaping data frames so that exons are observations (rows) and subjects are variables (columns)\n",
    "def reshape_df(df, include_stats=False, subject_droplist=None):\n",
    "    df_nodate = df.drop('date_modified', axis=1)\n",
    "    df_grouped = df_nodate.groupby(['subject']).sum()\n",
    "    df_norm = df_grouped.div(df_grouped.sum(axis=1), axis=0)\n",
    "    df_norm = df_norm.transpose().reset_index()\n",
    "    df_norm.rename(columns={'index': 'Exon'}, inplace=True)\n",
    "\n",
    "    if subject_droplist:\n",
    "        for subject in subject_droplist:\n",
    "            df_norm.drop(subject, axis=1, inplace=True)\n",
    "    if include_stats:\n",
    "        df_norm['Mean'] = df_norm.mean(axis=1)\n",
    "        df_norm['SD'] = df_norm.std(axis=1)\n",
    "    return df_norm"
   ]
  },
  {
   "cell_type": "code",
   "execution_count": 7,
   "metadata": {
    "collapsed": false
   },
   "outputs": [
    {
     "name": "stdout",
     "output_type": "stream",
     "text": [
      "78\n"
     ]
    },
    {
     "data": {
      "text/plain": [
       "array([ 0.04589008,  0.00181261,  0.0111598 ,  0.01918853,  0.01104113,\n",
       "        0.0166613 ,  0.0166843 ,  0.01212952,  0.00371631,  0.01597643,\n",
       "        0.01188   ,  0.00994347,  0.00875295,  0.00676731,  0.0183255 ,\n",
       "        0.007394  ,  0.00961452,  0.00514529,  0.01048072,  0.02985736,\n",
       "        0.01276754,  0.01643603,  0.01196839,  0.00946219,  0.02820376,\n",
       "        0.01037773,  0.02059615,  0.0089391 ,  0.01577857,  0.00666614,\n",
       "        0.009583  ,  0.00995351,  0.02010135,  0.00837557,  0.01176132,\n",
       "        0.0112656 ,  0.01252437,  0.00844386,  0.01113459,  0.01235549,\n",
       "        0.01049119,  0.0076502 ,  0.01632141,  0.01293299,  0.02815898,\n",
       "        0.00908641,  0.0234396 ,  0.01244374,  0.0216019 ,  0.00885256,\n",
       "        0.01000741,  0.00725296,  0.02025866,  0.00825177,  0.02257343,\n",
       "        0.00719029,  0.00731126,  0.00843966,  0.01311383,  0.02040325,\n",
       "        0.00818417,  0.01599219,  0.00793946,  0.01305769,  0.02064807,\n",
       "        0.01183257,  0.01847446,  0.00963051,  0.01236458,  0.00579499,\n",
       "        0.01297981,  0.00794532,  0.016388  ,  0.00560888,  0.00448081,\n",
       "        0.01090791,  0.00193023,  0.01094343])"
      ]
     },
     "execution_count": 7,
     "metadata": {},
     "output_type": "execute_result"
    }
   ],
   "source": [
    "# use RMA samples for initial probability vector -- note that all RMA individuals used the M1 mixin panel\n",
    "# this is only the females in RMA\n",
    "print coverage_df_RMA.sequencer.unique()\n",
    "RMA_norm = reshape_df(coverage_df_RMA, include_stats=True)\n",
    "RMA_norm.head()\n",
    "X_probs = np.array(RMA_norm.Mean)\n",
    "print len(X_probs)\n",
    "X_probs"
   ]
  },
  {
   "cell_type": "markdown",
   "metadata": {},
   "source": [
    "## Gibbs Sampling\n"
   ]
  },
  {
   "cell_type": "markdown",
   "metadata": {},
   "source": [
    "The full gene product of DMD consists of 78 exons, each with its own copy number in each subject ($\\mathbf{C} = \\{c_1, c_2, ..., c_{78}\\}$), where $c_i \\in{1,2,3...}$ For this simple model, assume that the $c_i$ are distributed discrete uniformly with support $ z = \\{1,2,3\\}$. \n",
    "\n",
    "We also know \"intensity\" values across the exons $\\mathbf{X}= \\{x_1, x_2,..., x_{78}\\}$, and we let $$\\mathbf{P} = \\dfrac{\\mathbf{C}\\mathbf{X}}{\\sum_i c_ix_i} = \\{p_1, p_2, ..., p_{78}\\}$$ \n",
    "\n",
    "This generates probability values for the multinomial distribution from which we will sample the reads for a single simulated \"sequencing run\". When testing a real subject's data, we still use the known $\\mathbf{X}$ but use data $Y$ from the subject.\n",
    "\n",
    "Initialize the intensities $\\mathbf{X}$ (see X_probs above). Initialize $c_i$ values based on basic prior distribution. Assume 5000 reads per sample/subject and initialize a single sequencing run $Y = \\{y_1, y_2, ... y_{78}\\}$. \n",
    "\n",
    "At each iteration $t$, sample $c_i^t$ from the posterior distribution\n",
    "$$f_{C^t|Y, C_j^t}(c) = \\dfrac{\\Pi_j (p_j|c_i=c)^{y_j}}{\\sum_c \\Pi_j (p_j|c_i=c)^{y_j}} $$ \n",
    "where $$ C_j^t = \\{ c_1^t,...c_{i-1}^t, c_{i+1}^{t-1}, ... c_{78}^{t-1} \\}$$\n",
    "\n",
    "Normally this expression would include the prior distribution over $c$ but it easily cancels out as the uniform. (This expression also does not include the multinomial constant). \n",
    "\n",
    "After setting $c_i^t$, sample new sequencing run $Y$. Alternatively, could sample new sequencing run $Y^t$ only once per iteration $t$. \n",
    "\n",
    "Implementation considerations: $\\Pi_j (p_j|c_i=c)^{y_j}$ generates underflow in Python, but trying to use the log of the posterior distribution leads to \n",
    "$$  \\sum y_j \\log (p_j|c_i=c) - \\log \\sum \\Pi_j (p_j|c_i=c)^{y_j}$$\n",
    "\n",
    "Solution: Convert to log space and divide by the maximal likelihood to normalize (and keep values shrinking too close to 0):\n",
    "$$ \\dfrac{\\exp\\left(\\sum y_j \\log (p_j|c_i=c) - \\max_c \\sum y_j \\log (p_j|c_i=c)\\right)}{\\sum_c \\exp\\left(\\sum y_j \\log (p_j|c_i=c) - \\max_c \\sum y_j \\log (p_j|c_i=c)\\right)}$$ \n"
   ]
  },
  {
   "cell_type": "code",
   "execution_count": 126,
   "metadata": {
    "collapsed": false
   },
   "outputs": [],
   "source": [
    "def generate_gibbs_df(cnv_support, X_probs, data=None, cnv=None, total_reads=5000, iterations=10000, burn_in=1000):\n",
    "    '''Performs Gibbs sampling given a support vector for CNVs, an intensity vector and subject data (optional)'''\n",
    "    if not cnv:\n",
    "        # generate initial guess for exon copy numbers using uniform prior distribution\n",
    "        cnv = np.random.choice(cnv_support, size=len(X_probs)) \n",
    "    print cnv \n",
    "    normed_probs_first = np.multiply(cnv, X_probs) / np.sum(np.multiply(cnv, X_probs))\n",
    "    if not data:\n",
    "        data = np.random.multinomial(total_reads, normed_probs_first)\n",
    "    gibbs_data = np.zeros((len(X_probs), iterations))\n",
    "    \n",
    "    likelihoods = np.zeros(iterations)\n",
    "    for i in range(iterations):\n",
    "        if (i+1) % (iterations / 20) == 0:\n",
    "            print 'Finished {} iterations'.format(i)\n",
    "        for exon in range(len(X_probs)):\n",
    "            test = np.zeros(len(cnv_support))\n",
    "            for value in cnv_support:\n",
    "                cnv[exon] = value\n",
    "                # get new normed probabilities given test value\n",
    "                normed_probs_test = np.multiply(cnv, X_probs) / np.sum(np.multiply(cnv, X_probs)) \n",
    "                log_likelihood =  np.sum(np.multiply(np.log(normed_probs_test), data))\n",
    "                test[value - 1] = log_likelihood\n",
    "            test = test - np.max(test)\n",
    "            sample_probs = np.exp(test)\n",
    "            sample_probs = sample_probs / np.sum(sample_probs)\n",
    "            new_cnv = np.random.choice(cnv_support, p = sample_probs)\n",
    "            cnv[exon] = new_cnv\n",
    "            gibbs_data[exon, i] = new_cnv\n",
    "    \n",
    "        likelihoods[i] = np.sum(np.multiply(np.log(np.multiply(cnv, X_probs) / np.sum(np.multiply(cnv, X_probs))), data))\n",
    "    gibbs_data_results = np.zeros((len(X_probs), len(cnv_support)))\n",
    "    # get proportions using burn-in of 1000 iterations \n",
    "    for index in range(len(X_probs)):\n",
    "        gibbs_data_results[index] = np.bincount(gibbs_data[index][burn_in:].astype(np.int64), \n",
    "                                                minlength=len(cnv_support)+1)[1:]\n",
    "    gibbs_data_results = gibbs_data_results / float(iterations - burn_in)\n",
    "    \n",
    "    gibbs_df = pd.DataFrame(gibbs_data_results, columns =['copy_{}'.format(cnv) for cnv in cnv_support]).reset_index()\n",
    "    gibbs_df.rename(columns={'index': 'Exon'}, inplace=True)\n",
    "    gibbs_df.Exon = gibbs_df.Exon + 1\n",
    "    \n",
    "    return gibbs_data, gibbs_data_results, likelihoods, gibbs_df"
   ]
  },
  {
   "cell_type": "code",
   "execution_count": 127,
   "metadata": {
    "collapsed": false
   },
   "outputs": [
    {
     "name": "stdout",
     "output_type": "stream",
     "text": [
      "[3 2 2 3 3 2 1 3 3 2 1 2 1 3 1 1 1 2 1 2 1 3 3 3 1 3 1 1 1 3 3 1 1 1 3 2 1\n",
      " 2 1 1 2 1 1 2 1 2 2 3 2 1 2 3 1 2 2 3 1 3 3 1 3 3 1 3 1 3 3 1 1 2 1 3 3 2\n",
      " 1 1 1 2]\n",
      "Finished 499 iterations\n",
      "Finished 999 iterations\n",
      "Finished 1499 iterations\n",
      "Finished 1999 iterations\n",
      "Finished 2499 iterations\n",
      "Finished 2999 iterations\n",
      "Finished 3499 iterations\n",
      "Finished 3999 iterations\n",
      "Finished 4499 iterations\n",
      "Finished 4999 iterations\n",
      "Finished 5499 iterations\n",
      "Finished 5999 iterations\n",
      "Finished 6499 iterations\n",
      "Finished 6999 iterations\n",
      "Finished 7499 iterations\n",
      "Finished 7999 iterations\n",
      "Finished 8499 iterations\n",
      "Finished 8999 iterations\n",
      "Finished 9499 iterations\n",
      "Finished 9999 iterations\n"
     ]
    }
   ],
   "source": [
    "cnv_support = [1,2,3]\n",
    "gibbs_data2, gibbs_data_results2, logliks, gibbs_df2 = generate_gibbs_df(cnv_support, X_probs, total_reads=5000, \n",
    "                                                                        iterations=10000)"
   ]
  },
  {
   "cell_type": "code",
   "execution_count": 125,
   "metadata": {
    "collapsed": false
   },
   "outputs": [
    {
     "data": {
      "text/html": [
       "<div>\n",
       "<table border=\"1\" class=\"dataframe\">\n",
       "  <thead>\n",
       "    <tr style=\"text-align: right;\">\n",
       "      <th></th>\n",
       "      <th>Exon</th>\n",
       "      <th>copy_1</th>\n",
       "      <th>copy_2</th>\n",
       "      <th>copy_3</th>\n",
       "    </tr>\n",
       "  </thead>\n",
       "  <tbody>\n",
       "    <tr>\n",
       "      <th>0</th>\n",
       "      <td>1</td>\n",
       "      <td>1.0</td>\n",
       "      <td>0.0</td>\n",
       "      <td>0.0</td>\n",
       "    </tr>\n",
       "    <tr>\n",
       "      <th>1</th>\n",
       "      <td>2</td>\n",
       "      <td>1.0</td>\n",
       "      <td>0.0</td>\n",
       "      <td>0.0</td>\n",
       "    </tr>\n",
       "    <tr>\n",
       "      <th>2</th>\n",
       "      <td>3</td>\n",
       "      <td>1.0</td>\n",
       "      <td>0.0</td>\n",
       "      <td>0.0</td>\n",
       "    </tr>\n",
       "    <tr>\n",
       "      <th>3</th>\n",
       "      <td>4</td>\n",
       "      <td>1.0</td>\n",
       "      <td>0.0</td>\n",
       "      <td>0.0</td>\n",
       "    </tr>\n",
       "    <tr>\n",
       "      <th>4</th>\n",
       "      <td>5</td>\n",
       "      <td>1.0</td>\n",
       "      <td>0.0</td>\n",
       "      <td>0.0</td>\n",
       "    </tr>\n",
       "    <tr>\n",
       "      <th>5</th>\n",
       "      <td>6</td>\n",
       "      <td>1.0</td>\n",
       "      <td>0.0</td>\n",
       "      <td>0.0</td>\n",
       "    </tr>\n",
       "    <tr>\n",
       "      <th>6</th>\n",
       "      <td>7</td>\n",
       "      <td>1.0</td>\n",
       "      <td>0.0</td>\n",
       "      <td>0.0</td>\n",
       "    </tr>\n",
       "    <tr>\n",
       "      <th>7</th>\n",
       "      <td>8</td>\n",
       "      <td>1.0</td>\n",
       "      <td>0.0</td>\n",
       "      <td>0.0</td>\n",
       "    </tr>\n",
       "    <tr>\n",
       "      <th>8</th>\n",
       "      <td>9</td>\n",
       "      <td>1.0</td>\n",
       "      <td>0.0</td>\n",
       "      <td>0.0</td>\n",
       "    </tr>\n",
       "    <tr>\n",
       "      <th>9</th>\n",
       "      <td>10</td>\n",
       "      <td>1.0</td>\n",
       "      <td>0.0</td>\n",
       "      <td>0.0</td>\n",
       "    </tr>\n",
       "  </tbody>\n",
       "</table>\n",
       "</div>"
      ],
      "text/plain": [
       "   Exon  copy_1  copy_2  copy_3\n",
       "0     1     1.0     0.0     0.0\n",
       "1     2     1.0     0.0     0.0\n",
       "2     3     1.0     0.0     0.0\n",
       "3     4     1.0     0.0     0.0\n",
       "4     5     1.0     0.0     0.0\n",
       "5     6     1.0     0.0     0.0\n",
       "6     7     1.0     0.0     0.0\n",
       "7     8     1.0     0.0     0.0\n",
       "8     9     1.0     0.0     0.0\n",
       "9    10     1.0     0.0     0.0"
      ]
     },
     "execution_count": 125,
     "metadata": {},
     "output_type": "execute_result"
    }
   ],
   "source": [
    "gibbs_df2.head(10)"
   ]
  },
  {
   "cell_type": "code",
   "execution_count": 115,
   "metadata": {
    "collapsed": false
   },
   "outputs": [
    {
     "name": "stdout",
     "output_type": "stream",
     "text": [
      "[-20552.25114066 -20545.22154291 -20550.78214684 -20548.1067413\n",
      " -20544.09917654 -20549.99529527 -20547.34934187 -20545.8873025\n",
      " -20545.93720042 -20545.26960207]\n"
     ]
    },
    {
     "data": {
      "text/plain": [
       "<function matplotlib.pyplot.show>"
      ]
     },
     "execution_count": 115,
     "metadata": {},
     "output_type": "execute_result"
    },
    {
     "data": {
      "image/png": "[encoded data removed]",
      "text/plain": [
       "<matplotlib.figure.Figure at 0x112523650>"
      ]
     },
     "metadata": {},
     "output_type": "display_data"
    }
   ],
   "source": [
    "print logliks[:10]\n",
    "# why don't likelihoods converge as iterations continue?\n",
    "plt.figure()\n",
    "plt.plot(range(len(logliks)), logliks, '.')\n",
    "# plt.hist(logliks, bins=150)\n",
    "plt.show"
   ]
  },
  {
   "cell_type": "markdown",
   "metadata": {},
   "source": [
    "## Gibbs Sampling with simulated deletion data (with real subject template)"
   ]
  },
  {
   "cell_type": "code",
   "execution_count": null,
   "metadata": {
    "collapsed": true
   },
   "outputs": [],
   "source": []
  }
 ],
 "metadata": {
  "kernelspec": {
   "display_name": "Python 2",
   "language": "python",
   "name": "python2"
  },
  "language_info": {
   "codemirror_mode": {
    "name": "ipython",
    "version": 2
   },
   "file_extension": ".py",
   "mimetype": "text/x-python",
   "name": "python",
   "nbconvert_exporter": "python",
   "pygments_lexer": "ipython2",
   "version": "2.7.11"
  }
 },
 "nbformat": 4,
 "nbformat_minor": 2
}
