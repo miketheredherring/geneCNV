{
 "cells": [
  {
   "cell_type": "markdown",
   "metadata": {},
   "source": [
    "## Gibbs sampling to estimate copy number distribution across DMD exons"
   ]
  },
  {
   "cell_type": "code",
   "execution_count": 1,
   "metadata": {
    "collapsed": false
   },
   "outputs": [
    {
     "name": "stderr",
     "output_type": "stream",
     "text": [
      "INFO:config:Using default ini file from: /Users/jfreidin/Dropbox (GenePeeks)/genepeeks-science/genepeeks/common/../../conf/genepeeks.ini\n"
     ]
    }
   ],
   "source": [
    "import os\n",
    "import pysam\n",
    "import numpy as np\n",
    "import random\n",
    "from genepeeks.common import utilities as util\n",
    "import matplotlib.pyplot as plt\n",
    "import pandas as pd\n",
    "from collections import Counter\n",
    "import seaborn as sns\n",
    "# to clean up later -- temporary fix\n",
    "import sys\n",
    "sys.path.append(os.path.join(os.getcwd(), '..'))\n",
    "from cnv import utilities as DMD_util\n",
    "from cnv import coverage_matrix as cov\n",
    "\n",
    "%matplotlib inline"
   ]
  },
  {
   "cell_type": "code",
   "execution_count": 2,
   "metadata": {
    "collapsed": false
   },
   "outputs": [
    {
     "name": "stdout",
     "output_type": "stream",
     "text": [
      "There are 78 merged exons, with the following exons being merged: ['65|66']\n"
     ]
    }
   ],
   "source": [
    "DMD_exons_merged, exon_labels = DMD_util.get_merged_exons()"
   ]
  },
  {
   "cell_type": "code",
   "execution_count": 3,
   "metadata": {
    "collapsed": false
   },
   "outputs": [],
   "source": [
    "# deletion of partial exons\n",
    "EX48_50_PART = [31838130, 31893308]\n",
    "\n",
    "# for consistency with exon labeling in Ensembl\n",
    "exon_dict = {exon['index']: [exon['start'], exon['end']] for exon in DMD_exons_merged}"
   ]
  },
  {
   "cell_type": "code",
   "execution_count": 4,
   "metadata": {
    "collapsed": true
   },
   "outputs": [],
   "source": [
    "# workaround to force real time print output in notebooks\n",
    "# see http://stackoverflow.com/questions/29772158/make-ipython-notebook-print-in-real-time\n",
    "import sys\n",
    "oldsysstdout = sys.stdout\n",
    "class flushfile():\n",
    "    def __init__(self, f):\n",
    "        self.f = f\n",
    "    def __getattr__(self,name): \n",
    "        return object.__getattribute__(self.f, name)\n",
    "    def write(self, x):\n",
    "        self.f.write(x)\n",
    "        self.f.flush()\n",
    "    def flush(self):\n",
    "        self.f.flush()\n",
    "sys.stdout = flushfile(sys.stdout)"
   ]
  },
  {
   "cell_type": "markdown",
   "metadata": {},
   "source": [
    "## Control data -- exon intensities"
   ]
  },
  {
   "cell_type": "code",
   "execution_count": 5,
   "metadata": {
    "collapsed": false
   },
   "outputs": [
    {
     "name": "stdout",
     "output_type": "stream",
     "text": [
      "['M1' 'P1' 'P3' 'P2' 'T1' 'T4' 'T3' 'T2']\n",
      "(1230, 91)\n"
     ]
    },
    {
     "data": {
      "text/html": [
       "<div>\n",
       "<table border=\"1\" class=\"dataframe\">\n",
       "  <thead>\n",
       "    <tr style=\"text-align: right;\">\n",
       "      <th></th>\n",
       "      <th>id</th>\n",
       "      <th>subject</th>\n",
       "      <th>specimen</th>\n",
       "      <th>sample</th>\n",
       "      <th>gender</th>\n",
       "      <th>sequencer</th>\n",
       "      <th>flow_cell_id</th>\n",
       "      <th>lane</th>\n",
       "      <th>bwa_version</th>\n",
       "      <th>date_modified</th>\n",
       "      <th>...</th>\n",
       "      <th>Ex71</th>\n",
       "      <th>Ex72</th>\n",
       "      <th>Ex73</th>\n",
       "      <th>Ex74</th>\n",
       "      <th>Ex75</th>\n",
       "      <th>Ex76</th>\n",
       "      <th>Ex77</th>\n",
       "      <th>Ex78</th>\n",
       "      <th>Ex79</th>\n",
       "      <th>date</th>\n",
       "    </tr>\n",
       "  </thead>\n",
       "  <tbody>\n",
       "    <tr>\n",
       "      <th>0</th>\n",
       "      <td>FCLR-GP01-2121_1-M1-1_HGGF5AFXX-L001</td>\n",
       "      <td>FCLR-GP01-2121</td>\n",
       "      <td>FCLR-GP01-2121_1</td>\n",
       "      <td>FCLR-GP01-2121_1-M1-1</td>\n",
       "      <td>F</td>\n",
       "      <td>M1</td>\n",
       "      <td>HGGF5AFXX</td>\n",
       "      <td>L001</td>\n",
       "      <td>0.7.15-r1140</td>\n",
       "      <td>2016-10-31 23:15:02</td>\n",
       "      <td>...</td>\n",
       "      <td>44</td>\n",
       "      <td>76</td>\n",
       "      <td>77</td>\n",
       "      <td>139</td>\n",
       "      <td>58</td>\n",
       "      <td>63</td>\n",
       "      <td>77</td>\n",
       "      <td>23</td>\n",
       "      <td>81</td>\n",
       "      <td>2016-10-31</td>\n",
       "    </tr>\n",
       "    <tr>\n",
       "      <th>1</th>\n",
       "      <td>FCLR-GP01-2121_1-M1-1_HGGF5AFXX-L002</td>\n",
       "      <td>FCLR-GP01-2121</td>\n",
       "      <td>FCLR-GP01-2121_1</td>\n",
       "      <td>FCLR-GP01-2121_1-M1-1</td>\n",
       "      <td>F</td>\n",
       "      <td>M1</td>\n",
       "      <td>HGGF5AFXX</td>\n",
       "      <td>L002</td>\n",
       "      <td>0.7.15-r1140</td>\n",
       "      <td>2016-10-31 23:15:02</td>\n",
       "      <td>...</td>\n",
       "      <td>65</td>\n",
       "      <td>77</td>\n",
       "      <td>57</td>\n",
       "      <td>121</td>\n",
       "      <td>50</td>\n",
       "      <td>95</td>\n",
       "      <td>78</td>\n",
       "      <td>27</td>\n",
       "      <td>67</td>\n",
       "      <td>2016-10-31</td>\n",
       "    </tr>\n",
       "    <tr>\n",
       "      <th>2</th>\n",
       "      <td>FCLR-GP01-2121_1-M1-1_HGGF5AFXX-L003</td>\n",
       "      <td>FCLR-GP01-2121</td>\n",
       "      <td>FCLR-GP01-2121_1</td>\n",
       "      <td>FCLR-GP01-2121_1-M1-1</td>\n",
       "      <td>F</td>\n",
       "      <td>M1</td>\n",
       "      <td>HGGF5AFXX</td>\n",
       "      <td>L003</td>\n",
       "      <td>0.7.15-r1140</td>\n",
       "      <td>2016-10-31 23:15:02</td>\n",
       "      <td>...</td>\n",
       "      <td>53</td>\n",
       "      <td>76</td>\n",
       "      <td>52</td>\n",
       "      <td>137</td>\n",
       "      <td>51</td>\n",
       "      <td>78</td>\n",
       "      <td>85</td>\n",
       "      <td>23</td>\n",
       "      <td>38</td>\n",
       "      <td>2016-10-31</td>\n",
       "    </tr>\n",
       "    <tr>\n",
       "      <th>3</th>\n",
       "      <td>FCLR-GP01-2121_1-M1-1_HGGF5AFXX-L004</td>\n",
       "      <td>FCLR-GP01-2121</td>\n",
       "      <td>FCLR-GP01-2121_1</td>\n",
       "      <td>FCLR-GP01-2121_1-M1-1</td>\n",
       "      <td>F</td>\n",
       "      <td>M1</td>\n",
       "      <td>HGGF5AFXX</td>\n",
       "      <td>L004</td>\n",
       "      <td>0.7.15-r1140</td>\n",
       "      <td>2016-10-31 23:15:02</td>\n",
       "      <td>...</td>\n",
       "      <td>34</td>\n",
       "      <td>96</td>\n",
       "      <td>71</td>\n",
       "      <td>117</td>\n",
       "      <td>46</td>\n",
       "      <td>76</td>\n",
       "      <td>88</td>\n",
       "      <td>29</td>\n",
       "      <td>56</td>\n",
       "      <td>2016-10-31</td>\n",
       "    </tr>\n",
       "    <tr>\n",
       "      <th>4</th>\n",
       "      <td>MESB-0009-690N_ACGT.1.P1.1</td>\n",
       "      <td>MESB-0009-690N</td>\n",
       "      <td>MESB-0009-690N_ACGT_1</td>\n",
       "      <td>MESB-0009-690N_ACGT.1.P1.1</td>\n",
       "      <td>M</td>\n",
       "      <td>P1</td>\n",
       "      <td>NaN</td>\n",
       "      <td>NaN</td>\n",
       "      <td>0.7.10-r789</td>\n",
       "      <td>2016-06-08 15:49:31</td>\n",
       "      <td>...</td>\n",
       "      <td>22</td>\n",
       "      <td>48</td>\n",
       "      <td>74</td>\n",
       "      <td>64</td>\n",
       "      <td>42</td>\n",
       "      <td>50</td>\n",
       "      <td>10</td>\n",
       "      <td>1</td>\n",
       "      <td>6</td>\n",
       "      <td>2016-06-08</td>\n",
       "    </tr>\n",
       "  </tbody>\n",
       "</table>\n",
       "<p>5 rows × 91 columns</p>\n",
       "</div>"
      ],
      "text/plain": [
       "                                     id         subject  \\\n",
       "0  FCLR-GP01-2121_1-M1-1_HGGF5AFXX-L001  FCLR-GP01-2121   \n",
       "1  FCLR-GP01-2121_1-M1-1_HGGF5AFXX-L002  FCLR-GP01-2121   \n",
       "2  FCLR-GP01-2121_1-M1-1_HGGF5AFXX-L003  FCLR-GP01-2121   \n",
       "3  FCLR-GP01-2121_1-M1-1_HGGF5AFXX-L004  FCLR-GP01-2121   \n",
       "4            MESB-0009-690N_ACGT.1.P1.1  MESB-0009-690N   \n",
       "\n",
       "                specimen                      sample gender sequencer  \\\n",
       "0       FCLR-GP01-2121_1       FCLR-GP01-2121_1-M1-1      F        M1   \n",
       "1       FCLR-GP01-2121_1       FCLR-GP01-2121_1-M1-1      F        M1   \n",
       "2       FCLR-GP01-2121_1       FCLR-GP01-2121_1-M1-1      F        M1   \n",
       "3       FCLR-GP01-2121_1       FCLR-GP01-2121_1-M1-1      F        M1   \n",
       "4  MESB-0009-690N_ACGT_1  MESB-0009-690N_ACGT.1.P1.1      M        P1   \n",
       "\n",
       "  flow_cell_id  lane   bwa_version       date_modified     ...      Ex71  \\\n",
       "0    HGGF5AFXX  L001  0.7.15-r1140 2016-10-31 23:15:02     ...        44   \n",
       "1    HGGF5AFXX  L002  0.7.15-r1140 2016-10-31 23:15:02     ...        65   \n",
       "2    HGGF5AFXX  L003  0.7.15-r1140 2016-10-31 23:15:02     ...        53   \n",
       "3    HGGF5AFXX  L004  0.7.15-r1140 2016-10-31 23:15:02     ...        34   \n",
       "4          NaN   NaN   0.7.10-r789 2016-06-08 15:49:31     ...        22   \n",
       "\n",
       "   Ex72  Ex73  Ex74  Ex75  Ex76  Ex77  Ex78  Ex79        date  \n",
       "0    76    77   139    58    63    77    23    81  2016-10-31  \n",
       "1    77    57   121    50    95    78    27    67  2016-10-31  \n",
       "2    76    52   137    51    78    85    23    38  2016-10-31  \n",
       "3    96    71   117    46    76    88    29    56  2016-10-31  \n",
       "4    48    74    64    42    50    10     1     6  2016-06-08  \n",
       "\n",
       "[5 rows x 91 columns]"
      ]
     },
     "execution_count": 5,
     "metadata": {},
     "output_type": "execute_result"
    }
   ],
   "source": [
    "# get full dataset and also subsets based on gender, sequencer, etc\n",
    "coverage_df = pd.read_csv('../exon_data/coverage_matrix.csv', header=0, index_col=0)\n",
    "coverage_df.is_rerun.values == False\n",
    "# remove rerun data and coding region counts\n",
    "coverage_df = coverage_df[coverage_df.is_rerun == False]\n",
    "coverage_df.drop(['is_rerun'], axis=1, inplace=True)\n",
    "coverage_df.index.name = None\n",
    "coverage_df.date_modified = pd.to_datetime(coverage_df.date_modified, unit='s')\n",
    "coverage_df['date'] = coverage_df.date_modified.dt.date\n",
    "coverage_df_f = coverage_df[coverage_df.gender == 'F']\n",
    "coverage_df_m = coverage_df[coverage_df.gender == 'M']\n",
    "coverage_df_RMA = coverage_df[coverage_df.subject.str.contains('FRMR')]\n",
    "coverage_df_M1 = coverage_df[coverage_df.sequencer == 'M1']\n",
    "coverage_df_M1_f = coverage_df_f[coverage_df_f.sequencer == 'M1']\n",
    "coverage_df_T1_f = coverage_df_f[coverage_df_f.sequencer == 'T1']\n",
    "coverage_df_T2_f = coverage_df_f[coverage_df_f.sequencer == 'T2']\n",
    "coverage_df_T3_f = coverage_df_f[coverage_df_f.sequencer == 'T3']\n",
    "coverage_df_T4_f = coverage_df_f[coverage_df_f.sequencer == 'T4']\n",
    "coverage_df_P1_f = coverage_df_f[coverage_df_f.sequencer == 'P1']\n",
    "print coverage_df.sequencer.unique()\n",
    "print coverage_df.shape\n",
    "coverage_df.head()"
   ]
  },
  {
   "cell_type": "code",
   "execution_count": 6,
   "metadata": {
    "collapsed": true
   },
   "outputs": [],
   "source": [
    "# function for reshaping data frames so that exons are observations (rows) and subjects are variables (columns)\n",
    "# make sure datetimes have been converted to datetime objects before using\n",
    "def reshape_df(df, include_stats=False, subject_droplist=None, df_counts_wanted=False):\n",
    "    df_grouped = df.groupby(['subject']).sum()\n",
    "    df_norm = df_grouped.div(df_grouped.sum(axis=1), axis=0)\n",
    "    df_norm = df_norm.transpose().reset_index()\n",
    "    df_norm.rename(columns={'index': 'Exon'}, inplace=True)\n",
    "\n",
    "    if subject_droplist:\n",
    "        for subject in subject_droplist:\n",
    "            df_norm.drop(subject, axis=1, inplace=True)\n",
    "    if include_stats:\n",
    "        df_norm['Mean'] = df_norm.mean(axis=1)\n",
    "        df_norm['SD'] = df_norm.std(axis=1)\n",
    "    if df_counts_wanted:\n",
    "        return df_norm, df_grouped\n",
    "    else:\n",
    "        return df_norm"
   ]
  },
  {
   "cell_type": "code",
   "execution_count": 7,
   "metadata": {
    "collapsed": false
   },
   "outputs": [
    {
     "name": "stdout",
     "output_type": "stream",
     "text": [
      "['M1']\n",
      "Length of exon prob vector: 78\n"
     ]
    },
    {
     "data": {
      "text/html": [
       "<div>\n",
       "<table border=\"1\" class=\"dataframe\">\n",
       "  <thead>\n",
       "    <tr style=\"text-align: right;\">\n",
       "      <th>subject</th>\n",
       "      <th>Exon</th>\n",
       "      <th>FRMR-0070-444H</th>\n",
       "      <th>FRMR-0081-1987</th>\n",
       "      <th>FRMR-0085-579V</th>\n",
       "      <th>FRMR-00AG-860T</th>\n",
       "      <th>FRMR-00AW-8645</th>\n",
       "      <th>FRMR-00BB-772T</th>\n",
       "      <th>FRMR-00CS-821F</th>\n",
       "      <th>FRMR-00DM-853C</th>\n",
       "      <th>FRMR-00GC-803L</th>\n",
       "      <th>...</th>\n",
       "      <th>FRMR-00MS-704S</th>\n",
       "      <th>FRMR-00NC-7632</th>\n",
       "      <th>FRMR-00SA-876L</th>\n",
       "      <th>FRMR-00SB-851W</th>\n",
       "      <th>FRMR-00SC-714V</th>\n",
       "      <th>FRMR-00SD-679G</th>\n",
       "      <th>FRMR-00ST-841F</th>\n",
       "      <th>FRMR-00TS-8464</th>\n",
       "      <th>Mean</th>\n",
       "      <th>SD</th>\n",
       "    </tr>\n",
       "  </thead>\n",
       "  <tbody>\n",
       "    <tr>\n",
       "      <th>0</th>\n",
       "      <td>Ex1</td>\n",
       "      <td>0.039897</td>\n",
       "      <td>0.043291</td>\n",
       "      <td>0.038417</td>\n",
       "      <td>0.043620</td>\n",
       "      <td>0.039123</td>\n",
       "      <td>0.040485</td>\n",
       "      <td>0.039708</td>\n",
       "      <td>0.040878</td>\n",
       "      <td>0.045125</td>\n",
       "      <td>...</td>\n",
       "      <td>0.043579</td>\n",
       "      <td>0.046018</td>\n",
       "      <td>0.038485</td>\n",
       "      <td>0.039989</td>\n",
       "      <td>0.043555</td>\n",
       "      <td>0.037319</td>\n",
       "      <td>0.045118</td>\n",
       "      <td>0.040692</td>\n",
       "      <td>0.042155</td>\n",
       "      <td>0.002726</td>\n",
       "    </tr>\n",
       "    <tr>\n",
       "      <th>1</th>\n",
       "      <td>Ex2</td>\n",
       "      <td>0.004678</td>\n",
       "      <td>0.005073</td>\n",
       "      <td>0.005041</td>\n",
       "      <td>0.005331</td>\n",
       "      <td>0.005397</td>\n",
       "      <td>0.004894</td>\n",
       "      <td>0.004709</td>\n",
       "      <td>0.004108</td>\n",
       "      <td>0.005038</td>\n",
       "      <td>...</td>\n",
       "      <td>0.005191</td>\n",
       "      <td>0.004444</td>\n",
       "      <td>0.004449</td>\n",
       "      <td>0.005499</td>\n",
       "      <td>0.004628</td>\n",
       "      <td>0.006340</td>\n",
       "      <td>0.005937</td>\n",
       "      <td>0.005740</td>\n",
       "      <td>0.005039</td>\n",
       "      <td>0.000552</td>\n",
       "    </tr>\n",
       "    <tr>\n",
       "      <th>2</th>\n",
       "      <td>Ex3</td>\n",
       "      <td>0.012082</td>\n",
       "      <td>0.011451</td>\n",
       "      <td>0.011480</td>\n",
       "      <td>0.011187</td>\n",
       "      <td>0.011614</td>\n",
       "      <td>0.012285</td>\n",
       "      <td>0.012389</td>\n",
       "      <td>0.012783</td>\n",
       "      <td>0.012536</td>\n",
       "      <td>...</td>\n",
       "      <td>0.012038</td>\n",
       "      <td>0.012118</td>\n",
       "      <td>0.012041</td>\n",
       "      <td>0.012671</td>\n",
       "      <td>0.011442</td>\n",
       "      <td>0.010723</td>\n",
       "      <td>0.014282</td>\n",
       "      <td>0.013281</td>\n",
       "      <td>0.012197</td>\n",
       "      <td>0.000780</td>\n",
       "    </tr>\n",
       "    <tr>\n",
       "      <th>3</th>\n",
       "      <td>Ex4</td>\n",
       "      <td>0.018110</td>\n",
       "      <td>0.017262</td>\n",
       "      <td>0.017888</td>\n",
       "      <td>0.022636</td>\n",
       "      <td>0.017079</td>\n",
       "      <td>0.015429</td>\n",
       "      <td>0.021727</td>\n",
       "      <td>0.019059</td>\n",
       "      <td>0.020194</td>\n",
       "      <td>...</td>\n",
       "      <td>0.021530</td>\n",
       "      <td>0.021213</td>\n",
       "      <td>0.019180</td>\n",
       "      <td>0.017283</td>\n",
       "      <td>0.019932</td>\n",
       "      <td>0.015830</td>\n",
       "      <td>0.021847</td>\n",
       "      <td>0.021208</td>\n",
       "      <td>0.019499</td>\n",
       "      <td>0.002122</td>\n",
       "    </tr>\n",
       "    <tr>\n",
       "      <th>4</th>\n",
       "      <td>Ex5</td>\n",
       "      <td>0.009605</td>\n",
       "      <td>0.010441</td>\n",
       "      <td>0.010781</td>\n",
       "      <td>0.012763</td>\n",
       "      <td>0.009086</td>\n",
       "      <td>0.009238</td>\n",
       "      <td>0.011827</td>\n",
       "      <td>0.011468</td>\n",
       "      <td>0.009755</td>\n",
       "      <td>...</td>\n",
       "      <td>0.009813</td>\n",
       "      <td>0.008397</td>\n",
       "      <td>0.010155</td>\n",
       "      <td>0.009478</td>\n",
       "      <td>0.009228</td>\n",
       "      <td>0.010383</td>\n",
       "      <td>0.010177</td>\n",
       "      <td>0.010012</td>\n",
       "      <td>0.010142</td>\n",
       "      <td>0.000944</td>\n",
       "    </tr>\n",
       "  </tbody>\n",
       "</table>\n",
       "<p>5 rows × 25 columns</p>\n",
       "</div>"
      ],
      "text/plain": [
       "subject Exon  FRMR-0070-444H  FRMR-0081-1987  FRMR-0085-579V  FRMR-00AG-860T  \\\n",
       "0        Ex1        0.039897        0.043291        0.038417        0.043620   \n",
       "1        Ex2        0.004678        0.005073        0.005041        0.005331   \n",
       "2        Ex3        0.012082        0.011451        0.011480        0.011187   \n",
       "3        Ex4        0.018110        0.017262        0.017888        0.022636   \n",
       "4        Ex5        0.009605        0.010441        0.010781        0.012763   \n",
       "\n",
       "subject  FRMR-00AW-8645  FRMR-00BB-772T  FRMR-00CS-821F  FRMR-00DM-853C  \\\n",
       "0              0.039123        0.040485        0.039708        0.040878   \n",
       "1              0.005397        0.004894        0.004709        0.004108   \n",
       "2              0.011614        0.012285        0.012389        0.012783   \n",
       "3              0.017079        0.015429        0.021727        0.019059   \n",
       "4              0.009086        0.009238        0.011827        0.011468   \n",
       "\n",
       "subject  FRMR-00GC-803L    ...     FRMR-00MS-704S  FRMR-00NC-7632  \\\n",
       "0              0.045125    ...           0.043579        0.046018   \n",
       "1              0.005038    ...           0.005191        0.004444   \n",
       "2              0.012536    ...           0.012038        0.012118   \n",
       "3              0.020194    ...           0.021530        0.021213   \n",
       "4              0.009755    ...           0.009813        0.008397   \n",
       "\n",
       "subject  FRMR-00SA-876L  FRMR-00SB-851W  FRMR-00SC-714V  FRMR-00SD-679G  \\\n",
       "0              0.038485        0.039989        0.043555        0.037319   \n",
       "1              0.004449        0.005499        0.004628        0.006340   \n",
       "2              0.012041        0.012671        0.011442        0.010723   \n",
       "3              0.019180        0.017283        0.019932        0.015830   \n",
       "4              0.010155        0.009478        0.009228        0.010383   \n",
       "\n",
       "subject  FRMR-00ST-841F  FRMR-00TS-8464      Mean        SD  \n",
       "0              0.045118        0.040692  0.042155  0.002726  \n",
       "1              0.005937        0.005740  0.005039  0.000552  \n",
       "2              0.014282        0.013281  0.012197  0.000780  \n",
       "3              0.021847        0.021208  0.019499  0.002122  \n",
       "4              0.010177        0.010012  0.010142  0.000944  \n",
       "\n",
       "[5 rows x 25 columns]"
      ]
     },
     "execution_count": 7,
     "metadata": {},
     "output_type": "execute_result"
    }
   ],
   "source": [
    "# use RMA samples for initial intensity vector -- note that all RMA individuals used the M1 mixin panel\n",
    "# this is only the females in RMA\n",
    "print coverage_df_RMA.sequencer.unique()\n",
    "columns_keep = ['subject'] + [column for column in coverage_df.columns if 'Ex' in column]\n",
    "# coverage_df_RMA.drop(['TSID_only', 'TSO_only'], axis=1, inplace=True)\n",
    "RMA_subset = coverage_df_RMA[columns_keep]\n",
    "RMA_norm = reshape_df(RMA_subset, include_stats=True)\n",
    "RMA_norm.head()\n",
    "X_probs = np.array(RMA_norm.Mean)\n",
    "print 'Length of exon prob vector: {}'.format(len(X_probs))\n",
    "X_probs\n",
    "RMA_norm.head()"
   ]
  },
  {
   "cell_type": "code",
   "execution_count": 8,
   "metadata": {
    "collapsed": false
   },
   "outputs": [
    {
     "data": {
      "text/plain": [
       "array([datetime.date(2016, 6, 24), datetime.date(2016, 6, 25)], dtype=object)"
      ]
     },
     "execution_count": 8,
     "metadata": {},
     "output_type": "execute_result"
    }
   ],
   "source": [
    "# checking dates of RMA samples -- all RMA samples seem to have been run within a day of each other in June 2016\n",
    "# in fact, this is just the last time the bams were modified, the samples were run earlier in the year, see below\n",
    "coverage_df_RMA.date.unique()"
   ]
  },
  {
   "cell_type": "markdown",
   "metadata": {},
   "source": [
    "## Gibbs Sampling\n"
   ]
  },
  {
   "cell_type": "markdown",
   "metadata": {},
   "source": [
    "The full gene product of DMD consists of 78 exons, each with its own copy number in each subject ($\\mathbf{C} = \\{c_1, c_2, ..., c_{78}\\}$), where $c_i \\in{1,2,3...}$ For this simple model, assume that the $c_i$ are distributed discrete uniformly with support $ \\{1,2,3\\}$. \n",
    "\n",
    "We also know \"intensity\" values across the exons $\\mathbf{X}= \\{x_1, x_2,..., x_{78}\\}$, and we let $$\\mathbf{P} = \\dfrac{\\mathbf{C}\\mathbf{X}}{\\sum_i c_ix_i} = \\{p_1, p_2, ..., p_{78}\\}$$ \n",
    "\n",
    "This generates probability values for the multinomial distribution from which we will sample the reads for a single simulated \"sequencing run\". \n",
    "\n",
    "Initialize the intensities $\\mathbf{X}$ (see X_probs above). Initialize $c_i$ values based on basic prior distribution. Assume 5000 reads per sample/subject and initialize a single sequencing run $Y = \\{y_1, y_2, ... y_{78}\\}$. When testing a real subject's data, we still use the known $\\mathbf{X}$ but use data $Y$ from the subject where $y_i$ represents the number of reads mapped to exon $i$.\n",
    "\n",
    "At each iteration $t$, sample $c_i^t$ from the posterior distribution\n",
    "$$f_{C^t|Y, C_{-i}^t}(c) = \\dfrac{\\Pi_{j=1}^{78} (p_j|c_i=c)^{y_j}}{\\sum_c \\Pi_{j=1}^{78} (p_j|c_i=c)^{y_j}} $$ \n",
    "where $$ C_{-i}^t = \\{ c_1^t,...c_{i-1}^t, c_{i+1}^{t-1}, ... c_{78}^{t-1} \\}$$\n",
    "\n",
    "Normally this expression would include the prior distribution over $c$ but it easily cancels out as the uniform. (This expression also does not include the multinomial constant). \n",
    "\n",
    "**Implementation considerations**: $\\Pi_j (p_j|c_i=c)^{y_j}$ can cause under/overflow in Python (or washout of values too close to 0), but trying to use the log of the posterior distribution leads to \n",
    "$$  \\sum y_j \\log (p_j|c_i=c) - \\log \\sum \\Pi_j (p_j|c_i=c)^{y_j}$$\n",
    "\n",
    "**Solution**: Convert to log space and divide by the maximal likelihood to normalize (and keep values from shrinking too close to 0):\n",
    "$$ \\dfrac{\\exp\\left(\\sum y_j \\log (p_j|c_i=c) - \\max_c \\sum y_j \\log (p_j|c_i=c)\\right)}{\\sum_c \\exp\\left(\\sum y_j \\log (p_j|c_i=c) - \\max_c \\sum y_j \\log (p_j|c_i=c)\\right)}$$ \n",
    "\n",
    "Store the $C^t$ values only for iterations $t=1000... 10,000$. This allows for a burn-in period of 1000 iterations during which the sampling distributions are likely to be least accurate. To reduce auto-correlation, only include every hundredth sampling in final analysis as well. For each exon $i$, count the proportions of samples falling into each possible copy number across the relevant subset of iterations. \n"
   ]
  },
  {
   "cell_type": "markdown",
   "metadata": {},
   "source": [
    "### Next Steps\n",
    "* Incorporate more complex and representative prior for the copy number distribution (in particular, there should be higher prior probability for 2 copies of exon)\n",
    "* Determine more accurate estimate of burn-in period (strange log-likelihood behavior, should converge as iterations increase)\n",
    "* Account for increased likelihood of copy number correlation between neighboring exons\n",
    "* Consider modifying prior for two exon deletion hotspots (around 45-50 and 18-20)\n",
    "* **Incorporate step for correcting for mixin-based discrepancies**\n"
   ]
  },
  {
   "cell_type": "code",
   "execution_count": 9,
   "metadata": {
    "collapsed": false
   },
   "outputs": [],
   "source": [
    "def generate_gibbs_df(cnv_support, X_probs, data=None, cnv=None, total_reads=5000, iterations=10000, burn_in=1000,\n",
    "                      df_wanted=True, exon_labels=None):\n",
    "    '''Performs Gibbs sampling given a support vector for CNVs, an intensity vector and subject data (optional)'''\n",
    "    if cnv is None:\n",
    "        # generate initial guess for exon copy numbers using uniform prior distribution\n",
    "        cnv = np.random.choice(cnv_support, size=len(X_probs)) \n",
    "    print cnv \n",
    "    normed_probs_first = np.multiply(cnv, X_probs) / np.sum(np.multiply(cnv, X_probs))\n",
    "    if data is None:\n",
    "        data = np.random.multinomial(total_reads, normed_probs_first)\n",
    "    gibbs_data = np.zeros((len(X_probs), iterations))\n",
    "    \n",
    "    likelihoods = np.zeros(iterations)\n",
    "    for i in range(iterations):\n",
    "        if (i+1) % (iterations / 20) == 0:\n",
    "            print 'Finished {} iterations'.format(i)\n",
    "        for exon in range(len(X_probs)):\n",
    "            test = np.zeros(len(cnv_support))\n",
    "            for value in cnv_support:\n",
    "                cnv[exon] = value\n",
    "                # get new normed probabilities given test value\n",
    "                normed_probs_test = np.multiply(cnv, X_probs) / np.sum(np.multiply(cnv, X_probs)) \n",
    "                log_likelihood =  np.sum(np.multiply(np.log(normed_probs_test), data))\n",
    "                test[value - 1] = log_likelihood\n",
    "            test = test - np.max(test)\n",
    "            sample_probs = np.exp(test)\n",
    "            sample_probs = sample_probs / np.sum(sample_probs)\n",
    "            new_cnv = np.random.choice(cnv_support, p = sample_probs)\n",
    "            cnv[exon] = new_cnv\n",
    "            gibbs_data[exon, i] = new_cnv\n",
    "        log_probs = np.log(np.multiply(cnv, X_probs) / np.sum(np.multiply(cnv, X_probs)))\n",
    "        likelihoods[i] = np.sum(np.multiply(log_probs, data))\n",
    "    \n",
    "    # get proportions using burn-in of 1000 iterations \n",
    "    gibbs_data_results = np.zeros((len(X_probs), len(cnv_support)))\n",
    "    for index in range(len(X_probs)):\n",
    "        # exclude samples before burn in and then take only every 100th sample to reduce autocorrelation\n",
    "        gibbs_slice = gibbs_data[index][burn_in:][::100]\n",
    "        gibbs_data_results[index] = np.bincount(gibbs_slice.astype(np.int64), \n",
    "                                                minlength=len(cnv_support)+1)[1:]\n",
    "    gibbs_data_results = gibbs_data_results / float(len(gibbs_slice))\n",
    "    \n",
    "    if df_wanted:\n",
    "        gibbs_df = pd.DataFrame(gibbs_data_results, columns =['copy_{}'.format(cnv) for cnv in cnv_support])\n",
    "        gibbs_df['Exon'] = exon_labels\n",
    "        return gibbs_data, gibbs_data_results, likelihoods, gibbs_df\n",
    "    \n",
    "    return gibbs_data, gibbs_data_results, likelihoods"
   ]
  },
  {
   "cell_type": "code",
   "execution_count": 10,
   "metadata": {
    "collapsed": false
   },
   "outputs": [
    {
     "name": "stdout",
     "output_type": "stream",
     "text": [
      "[2 2 1 3 3 1 1 2 3 3 1 1 2 3 2 2 3 1 1 1 1 3 1 3 2 3 1 3 1 2 1 1 3 2 3 1 3\n",
      " 2 2 3 1 3 1 3 2 2 3 1 3 2 1 1 3 1 1 2 1 2 1 3 1 1 3 1 1 2 2 1 3 3 2 3 1 3\n",
      " 3 3 1 3]\n",
      "Finished 499 iterations\n",
      "Finished 999 iterations\n",
      "Finished 1499 iterations\n",
      "Finished 1999 iterations\n",
      "Finished 2499 iterations\n",
      "Finished 2999 iterations\n",
      "Finished 3499 iterations\n",
      "Finished 3999 iterations\n",
      "Finished 4499 iterations\n",
      "Finished 4999 iterations\n",
      "Finished 5499 iterations\n",
      "Finished 5999 iterations\n",
      "Finished 6499 iterations\n",
      "Finished 6999 iterations\n",
      "Finished 7499 iterations\n",
      "Finished 7999 iterations\n",
      "Finished 8499 iterations\n",
      "Finished 8999 iterations\n",
      "Finished 9499 iterations\n",
      "Finished 9999 iterations\n"
     ]
    }
   ],
   "source": [
    "cnv_support = [1,2,3]\n",
    "gibbs_data2, gibbs_data_results2, logliks, gibbs_df2 = generate_gibbs_df(cnv_support, X_probs, total_reads=5000, \n",
    "                                                                        iterations=10000)"
   ]
  },
  {
   "cell_type": "code",
   "execution_count": 11,
   "metadata": {
    "collapsed": false
   },
   "outputs": [
    {
     "data": {
      "text/html": [
       "<div>\n",
       "<table border=\"1\" class=\"dataframe\">\n",
       "  <thead>\n",
       "    <tr style=\"text-align: right;\">\n",
       "      <th></th>\n",
       "      <th>copy_1</th>\n",
       "      <th>copy_2</th>\n",
       "      <th>copy_3</th>\n",
       "      <th>Exon</th>\n",
       "    </tr>\n",
       "  </thead>\n",
       "  <tbody>\n",
       "    <tr>\n",
       "      <th>0</th>\n",
       "      <td>0.0</td>\n",
       "      <td>1.000000</td>\n",
       "      <td>0.000000</td>\n",
       "      <td>None</td>\n",
       "    </tr>\n",
       "    <tr>\n",
       "      <th>1</th>\n",
       "      <td>0.0</td>\n",
       "      <td>0.133333</td>\n",
       "      <td>0.866667</td>\n",
       "      <td>None</td>\n",
       "    </tr>\n",
       "    <tr>\n",
       "      <th>2</th>\n",
       "      <td>1.0</td>\n",
       "      <td>0.000000</td>\n",
       "      <td>0.000000</td>\n",
       "      <td>None</td>\n",
       "    </tr>\n",
       "    <tr>\n",
       "      <th>3</th>\n",
       "      <td>0.0</td>\n",
       "      <td>0.000000</td>\n",
       "      <td>1.000000</td>\n",
       "      <td>None</td>\n",
       "    </tr>\n",
       "    <tr>\n",
       "      <th>4</th>\n",
       "      <td>0.0</td>\n",
       "      <td>0.044444</td>\n",
       "      <td>0.955556</td>\n",
       "      <td>None</td>\n",
       "    </tr>\n",
       "  </tbody>\n",
       "</table>\n",
       "</div>"
      ],
      "text/plain": [
       "   copy_1    copy_2    copy_3  Exon\n",
       "0     0.0  1.000000  0.000000  None\n",
       "1     0.0  0.133333  0.866667  None\n",
       "2     1.0  0.000000  0.000000  None\n",
       "3     0.0  0.000000  1.000000  None\n",
       "4     0.0  0.044444  0.955556  None"
      ]
     },
     "execution_count": 11,
     "metadata": {},
     "output_type": "execute_result"
    }
   ],
   "source": [
    "gibbs_df2.head()"
   ]
  },
  {
   "cell_type": "code",
   "execution_count": 12,
   "metadata": {
    "collapsed": false
   },
   "outputs": [
    {
     "name": "stdout",
     "output_type": "stream",
     "text": [
      "[ True  True  True  True  True  True  True  True  True  True  True  True\n",
      "  True  True  True False  True  True  True  True  True  True  True  True\n",
      "  True  True  True  True  True  True  True  True False  True  True  True\n",
      "  True  True  True  True  True  True  True  True  True  True  True  True\n",
      "  True  True  True  True  True  True  True  True  True  True  True False\n",
      "  True  True  True  True  True  True  True  True  True  True  True  True\n",
      "  True  True  True  True  True  True]\n",
      "[ True  True  True  True  True  True  True  True  True  True  True  True\n",
      "  True  True  True  True  True  True  True  True  True  True  True  True\n",
      "  True  True  True  True  True  True  True  True False  True  True  True\n",
      "  True  True False  True  True  True  True  True  True  True  True  True\n",
      "  True  True  True  True  True  True  True  True  True  True  True  True\n",
      "  True  True  True  True  True  True  True  True  True  True  True  True\n",
      " False  True  True  True  True  True]\n",
      "[ True  True  True  True  True  True  True  True  True  True  True  True\n",
      "  True  True  True False  True  True  True  True  True  True  True  True\n",
      "  True  True  True  True  True  True  True False  True  True  True  True\n",
      "  True  True False  True  True  True  True  True  True  True  True  True\n",
      "  True  True  True  True  True  True  True  True  True  True  True  True\n",
      "  True  True  True  True  True  True  True  True  True  True  True  True\n",
      " False  True  True  True  True  True]\n"
     ]
    }
   ],
   "source": [
    "# trying to figure out why the log-likelihoods don't seem to increase significantly\n",
    "cnv9000 = gibbs_data2[:,9000]\n",
    "cnv9100 = gibbs_data2[:,9100]\n",
    "cnv9200 = gibbs_data2[:,9200]\n",
    "cnv9300 = gibbs_data2[:,9300]\n",
    "print cnv9000 == cnv9100\n",
    "print cnv9100 == cnv9200\n",
    "print cnv9200 == cnv9300"
   ]
  },
  {
   "cell_type": "code",
   "execution_count": 13,
   "metadata": {
    "collapsed": false
   },
   "outputs": [
    {
     "name": "stdout",
     "output_type": "stream",
     "text": [
      "[-20824.92704798 -20828.3368518  -20825.60353709 -20830.71068084\n",
      " -20830.16972868 -20826.93420999 -20830.56165894 -20827.55872334\n",
      " -20827.96338367 -20827.92196801]\n",
      "[-20824.92704798 -20828.70276497 -20825.68253411 -20837.04904368\n",
      " -20828.4536511  -20826.37053273 -20830.21343517 -20831.20783916\n",
      " -20832.50769485 -20841.95939649]\n"
     ]
    },
    {
     "data": {
      "text/plain": [
       "<function matplotlib.pyplot.show>"
      ]
     },
     "execution_count": 13,
     "metadata": {},
     "output_type": "execute_result"
    },
    {
     "data": {
      "image/png": "[encoded data removed]",
      "text/plain": [
       "<matplotlib.figure.Figure at 0x10e954b90>"
      ]
     },
     "metadata": {},
     "output_type": "display_data"
    },
    {
     "data": {
      "image/png": "[encoded data removed]",
      "text/plain": [
       "<matplotlib.figure.Figure at 0x10e928b10>"
      ]
     },
     "metadata": {},
     "output_type": "display_data"
    }
   ],
   "source": [
    "print logliks[:10]\n",
    "print logliks[9990:]\n",
    "# why don't likelihoods converge as iterations continue?\n",
    "plt.figure()\n",
    "plt.plot(range(len(logliks[::100])), logliks[::100], '.')\n",
    "# plt.hist(logliks, bins=150)\n",
    "plt.figure()\n",
    "plt.plot(range(len(logliks)), logliks, '.')\n",
    "plt.show"
   ]
  },
  {
   "cell_type": "markdown",
   "metadata": {},
   "source": [
    "Further investigation reveals that the likelihoods are likely already in a zone of convergence so we don't see any directed convergence as iterations increase."
   ]
  },
  {
   "cell_type": "markdown",
   "metadata": {},
   "source": [
    "## Gibbs Sampling with simulated deletion data (with real subject templates)"
   ]
  },
  {
   "cell_type": "markdown",
   "metadata": {},
   "source": [
    "### Getting and cleaning subject data"
   ]
  },
  {
   "cell_type": "code",
   "execution_count": 14,
   "metadata": {
    "collapsed": false
   },
   "outputs": [
    {
     "name": "stderr",
     "output_type": "stream",
     "text": [
      "TSO only: 1660 intervals over 356614 bp\n",
      "TSID only: 154 intervals over 161703 bp\n",
      "\n",
      "Creating coverage_matrix with 6 subjects\n",
      "------------------------------------------------------------\n",
      "Time per 1 unit/s: 8.63 sec, Counts: 1/6\n",
      "TE: 8.63 sec, ETR: 43.17 sec, ETT: 51.80 sec \n",
      "----------------------------------------\n",
      "Time per 1 unit/s: 8.21 sec, Counts: 2/6\n",
      "TE: 16.84 sec, ETR: 33.69 sec, ETT: 50.53 sec \n",
      "----------------------------------------\n",
      "Time per 1 unit/s: 5.51 sec, Counts: 3/6\n",
      "TE: 22.36 sec, ETR: 22.36 sec, ETT: 44.71 sec \n",
      "----------------------------------------\n",
      "Time per 1 unit/s: 5.45 sec, Counts: 4/6\n",
      "TE: 27.81 sec, ETR: 13.91 sec, ETT: 41.72 sec \n",
      "----------------------------------------\n",
      "Time per 1 unit/s: 9.98 sec, Counts: 5/6\n",
      "TE: 37.79 sec, ETR: 7.56 sec, ETT: 45.35 sec \n",
      "----------------------------------------\n",
      "Total time for 6 entries: 47.79 sec\n",
      "............................................................\n",
      "483 reads were skipped due to MAPQ below 60\n"
     ]
    }
   ],
   "source": [
    "reload(cov)\n",
    "test_subjects_num = cov.coverageMatrix().create_coverage_matrix(DMD_exons_merged, \n",
    "                                                                exon_labels, bam_dir='../bams/test_subjects')"
   ]
  },
  {
   "cell_type": "code",
   "execution_count": 15,
   "metadata": {
    "collapsed": false
   },
   "outputs": [],
   "source": [
    "# The following code largely replaced by coverageMatrix() use from python_library.\n",
    "\n",
    "# simulated_muts = ['FPWB-0000-822R_4850_delPEM', 'FGPC-4ZPF-J0F1_1619_delPEM', 'FGPC-0000-444F_30_dupPEM',\n",
    "#                   'FPWB-0000-822R', 'FGPC-4ZPF-J0F1', 'FGPC-0000-444F']\n",
    "# # using Max's code to build coverage matrix from test subject bamfile\n",
    "# base_headers = ['subject', 'specimen', 'sample', 'gender', 'sequencer', 'flow_cell_id', 'lane', 'date_modified']\n",
    "# coverage_matrix = [base_headers + exon_labels]\n",
    "# for filename in simulated_muts:\n",
    "#     subject_coverages = {}\n",
    "#     file_path = '../bams/{}.bam'.format(filename)\n",
    "#     date_modified = os.path.getmtime(file_path)\n",
    "#     bamfile = pysam.AlignmentFile(file_path, \"rb\")\n",
    "#     for RG in bamfile.header['RG']:\n",
    "#         orig_subject, specimen_sample, flow_cell_lane = RG['ID'].split('_')\n",
    "#         subject = RG['SM']\n",
    "#         gender = subject[0]\n",
    "#         specimen_num, sequencer, sample = specimen_sample.split('-')\n",
    "#         specimen = '{}_{}'.format(subject, specimen_num)\n",
    "#         sample = '{}_{}'.format(subject, specimen_sample)\n",
    "#         flow_cell_id, lane = flow_cell_lane.rsplit('-', 1)\n",
    "#         row = [subject, specimen, sample, gender, sequencer, flow_cell_id, lane, date_modified]\n",
    "#         subject_coverages[RG['ID']] = row + [0] * len(DMD_exons_merged)\n",
    "\n",
    "#     for read in bamfile.fetch('X', start=31137345, end=33229636):\n",
    "#         if not read.is_unmapped and read.mapping_quality == 60:\n",
    "#             # Find what exon each read falls in, and increase that exon's coverage by 1\n",
    "#             interval_info = util.in_interval(read.reference_start, DMD_exons_merged, get_interval=True)\n",
    "#             if not interval_info[0]:\n",
    "#                 # If the start of the read is not in an exon, check the end of the read\n",
    "#                 interval_info = util.in_interval(read.reference_end, DMD_exons_merged, get_interval=True)\n",
    "#             if interval_info[0]:\n",
    "#                 exon_num = interval_info[1]\n",
    "#                 subject_coverages[read.get_tag('RG')][exon_num + len(base_headers)] += 1\n",
    "\n",
    "#     coverage_matrix += subject_coverages.values()\n",
    "# coverage_matrix = np.array(coverage_matrix)"
   ]
  },
  {
   "cell_type": "code",
   "execution_count": 16,
   "metadata": {
    "collapsed": false
   },
   "outputs": [
    {
     "name": "stdout",
     "output_type": "stream",
     "text": [
      "['FGPC-0000-444F' 'FGPC-0000-444F_dup' 'FGPC-4ZPF-J0F1'\n",
      " 'FGPC-4ZPF-J0F1_del' 'FPWB-0000-822R' 'FPWB-0000-822R_del']\n"
     ]
    }
   ],
   "source": [
    "# test_subjects = pd.DataFrame(coverage_matrix[1:], columns=coverage_matrix[0])\n",
    "# test_subjects_num = test_subjects.apply(lambda x: pd.to_numeric(x, errors='ignore'))\n",
    "\n",
    "# fix datetime objects in dataframe\n",
    "test_subjects_num.date_modified = pd.to_datetime(test_subjects_num.date_modified, unit='s')\n",
    "test_subjects_num['date'] = test_subjects_num.date_modified.dt.date\n",
    "\n",
    "# drop unnecessary columns (is_rerun, and coding regions)\n",
    "gibbs_columns = ['subject'] + [column for column in test_subjects_num.columns if 'Ex' in column]\n",
    "test_subjects_num = test_subjects_num[gibbs_columns]\n",
    "print test_subjects_num.subject.unique()\n",
    "# print test_subjects_num.date.unique()"
   ]
  },
  {
   "cell_type": "markdown",
   "metadata": {},
   "source": [
    "### Checking dates for subjects used for simulations \n",
    "Even though these dates indicate that the original bams were generated around the same dates as the RMA subjects (June 24-25, 2016), these files must have been modified after their initial generation. \n",
    "* Subject FGPC-0000-444F was actually created in GIST in May 2015 - sample was run in October 2015, run 69\n",
    "* Subject FGPC-4ZPF-J0F1 was created in GIST in Feb. 2016 -- sample was run in Feb 2016, part of run 79\n",
    "* Subject FPWB-0000-822R was created in GIST April 2015 - but sample was run Jan 2016, part of run 77\n",
    "\n",
    "RMA subjects sequenced around March 2016 - runs 80-81"
   ]
  },
  {
   "cell_type": "code",
   "execution_count": 17,
   "metadata": {
    "collapsed": false
   },
   "outputs": [],
   "source": [
    "subject_norm, subject_counts = reshape_df(test_subjects_num, df_counts_wanted=True)"
   ]
  },
  {
   "cell_type": "code",
   "execution_count": 18,
   "metadata": {
    "collapsed": false
   },
   "outputs": [
    {
     "data": {
      "text/html": [
       "<div>\n",
       "<table border=\"1\" class=\"dataframe\">\n",
       "  <thead>\n",
       "    <tr style=\"text-align: right;\">\n",
       "      <th>subject</th>\n",
       "      <th>Exon</th>\n",
       "      <th>FGPC-0000-444F</th>\n",
       "      <th>FGPC-0000-444F_dup</th>\n",
       "      <th>FGPC-4ZPF-J0F1</th>\n",
       "      <th>FGPC-4ZPF-J0F1_del</th>\n",
       "      <th>FPWB-0000-822R</th>\n",
       "      <th>FPWB-0000-822R_del</th>\n",
       "    </tr>\n",
       "  </thead>\n",
       "  <tbody>\n",
       "    <tr>\n",
       "      <th>0</th>\n",
       "      <td>Ex1</td>\n",
       "      <td>0.040142</td>\n",
       "      <td>0.039973</td>\n",
       "      <td>0.048767</td>\n",
       "      <td>0.049546</td>\n",
       "      <td>0.045417</td>\n",
       "      <td>0.046463</td>\n",
       "    </tr>\n",
       "    <tr>\n",
       "      <th>1</th>\n",
       "      <td>Ex2</td>\n",
       "      <td>0.005421</td>\n",
       "      <td>0.005398</td>\n",
       "      <td>0.003490</td>\n",
       "      <td>0.003545</td>\n",
       "      <td>0.003923</td>\n",
       "      <td>0.004013</td>\n",
       "    </tr>\n",
       "    <tr>\n",
       "      <th>2</th>\n",
       "      <td>Ex3</td>\n",
       "      <td>0.011036</td>\n",
       "      <td>0.010990</td>\n",
       "      <td>0.011386</td>\n",
       "      <td>0.011568</td>\n",
       "      <td>0.011571</td>\n",
       "      <td>0.011837</td>\n",
       "    </tr>\n",
       "    <tr>\n",
       "      <th>3</th>\n",
       "      <td>Ex4</td>\n",
       "      <td>0.016723</td>\n",
       "      <td>0.016653</td>\n",
       "      <td>0.016502</td>\n",
       "      <td>0.016766</td>\n",
       "      <td>0.017075</td>\n",
       "      <td>0.017468</td>\n",
       "    </tr>\n",
       "    <tr>\n",
       "      <th>4</th>\n",
       "      <td>Ex5</td>\n",
       "      <td>0.010469</td>\n",
       "      <td>0.010425</td>\n",
       "      <td>0.011179</td>\n",
       "      <td>0.011357</td>\n",
       "      <td>0.009381</td>\n",
       "      <td>0.009597</td>\n",
       "    </tr>\n",
       "  </tbody>\n",
       "</table>\n",
       "</div>"
      ],
      "text/plain": [
       "subject Exon  FGPC-0000-444F  FGPC-0000-444F_dup  FGPC-4ZPF-J0F1  \\\n",
       "0        Ex1        0.040142            0.039973        0.048767   \n",
       "1        Ex2        0.005421            0.005398        0.003490   \n",
       "2        Ex3        0.011036            0.010990        0.011386   \n",
       "3        Ex4        0.016723            0.016653        0.016502   \n",
       "4        Ex5        0.010469            0.010425        0.011179   \n",
       "\n",
       "subject  FGPC-4ZPF-J0F1_del  FPWB-0000-822R  FPWB-0000-822R_del  \n",
       "0                  0.049546        0.045417            0.046463  \n",
       "1                  0.003545        0.003923            0.004013  \n",
       "2                  0.011568        0.011571            0.011837  \n",
       "3                  0.016766        0.017075            0.017468  \n",
       "4                  0.011357        0.009381            0.009597  "
      ]
     },
     "execution_count": 18,
     "metadata": {},
     "output_type": "execute_result"
    }
   ],
   "source": [
    "subject_norm.head()"
   ]
  },
  {
   "cell_type": "code",
   "execution_count": 19,
   "metadata": {
    "collapsed": false
   },
   "outputs": [
    {
     "data": {
      "text/html": [
       "<div>\n",
       "<table border=\"1\" class=\"dataframe\">\n",
       "  <thead>\n",
       "    <tr style=\"text-align: right;\">\n",
       "      <th></th>\n",
       "      <th>Ex1</th>\n",
       "      <th>Ex2</th>\n",
       "      <th>Ex3</th>\n",
       "      <th>Ex4</th>\n",
       "      <th>Ex5</th>\n",
       "      <th>Ex6</th>\n",
       "      <th>Ex7</th>\n",
       "      <th>Ex8</th>\n",
       "      <th>Ex9</th>\n",
       "      <th>Ex10</th>\n",
       "      <th>...</th>\n",
       "      <th>Ex70</th>\n",
       "      <th>Ex71</th>\n",
       "      <th>Ex72</th>\n",
       "      <th>Ex73</th>\n",
       "      <th>Ex74</th>\n",
       "      <th>Ex75</th>\n",
       "      <th>Ex76</th>\n",
       "      <th>Ex77</th>\n",
       "      <th>Ex78</th>\n",
       "      <th>Ex79</th>\n",
       "    </tr>\n",
       "    <tr>\n",
       "      <th>subject</th>\n",
       "      <th></th>\n",
       "      <th></th>\n",
       "      <th></th>\n",
       "      <th></th>\n",
       "      <th></th>\n",
       "      <th></th>\n",
       "      <th></th>\n",
       "      <th></th>\n",
       "      <th></th>\n",
       "      <th></th>\n",
       "      <th></th>\n",
       "      <th></th>\n",
       "      <th></th>\n",
       "      <th></th>\n",
       "      <th></th>\n",
       "      <th></th>\n",
       "      <th></th>\n",
       "      <th></th>\n",
       "      <th></th>\n",
       "      <th></th>\n",
       "      <th></th>\n",
       "    </tr>\n",
       "  </thead>\n",
       "  <tbody>\n",
       "    <tr>\n",
       "      <th>FGPC-0000-444F</th>\n",
       "      <td>2266</td>\n",
       "      <td>306</td>\n",
       "      <td>623</td>\n",
       "      <td>944</td>\n",
       "      <td>591</td>\n",
       "      <td>714</td>\n",
       "      <td>1341</td>\n",
       "      <td>1064</td>\n",
       "      <td>411</td>\n",
       "      <td>715</td>\n",
       "      <td>...</td>\n",
       "      <td>659</td>\n",
       "      <td>272</td>\n",
       "      <td>729</td>\n",
       "      <td>631</td>\n",
       "      <td>847</td>\n",
       "      <td>523</td>\n",
       "      <td>424</td>\n",
       "      <td>622</td>\n",
       "      <td>292</td>\n",
       "      <td>553</td>\n",
       "    </tr>\n",
       "    <tr>\n",
       "      <th>FGPC-0000-444F_dup</th>\n",
       "      <td>2266</td>\n",
       "      <td>306</td>\n",
       "      <td>623</td>\n",
       "      <td>944</td>\n",
       "      <td>591</td>\n",
       "      <td>714</td>\n",
       "      <td>1341</td>\n",
       "      <td>1064</td>\n",
       "      <td>411</td>\n",
       "      <td>715</td>\n",
       "      <td>...</td>\n",
       "      <td>659</td>\n",
       "      <td>272</td>\n",
       "      <td>729</td>\n",
       "      <td>631</td>\n",
       "      <td>847</td>\n",
       "      <td>523</td>\n",
       "      <td>424</td>\n",
       "      <td>622</td>\n",
       "      <td>292</td>\n",
       "      <td>553</td>\n",
       "    </tr>\n",
       "    <tr>\n",
       "      <th>FGPC-4ZPF-J0F1</th>\n",
       "      <td>1649</td>\n",
       "      <td>118</td>\n",
       "      <td>385</td>\n",
       "      <td>558</td>\n",
       "      <td>378</td>\n",
       "      <td>554</td>\n",
       "      <td>720</td>\n",
       "      <td>603</td>\n",
       "      <td>257</td>\n",
       "      <td>455</td>\n",
       "      <td>...</td>\n",
       "      <td>347</td>\n",
       "      <td>178</td>\n",
       "      <td>442</td>\n",
       "      <td>363</td>\n",
       "      <td>466</td>\n",
       "      <td>265</td>\n",
       "      <td>237</td>\n",
       "      <td>391</td>\n",
       "      <td>179</td>\n",
       "      <td>447</td>\n",
       "    </tr>\n",
       "    <tr>\n",
       "      <th>FGPC-4ZPF-J0F1_del</th>\n",
       "      <td>1649</td>\n",
       "      <td>118</td>\n",
       "      <td>385</td>\n",
       "      <td>558</td>\n",
       "      <td>378</td>\n",
       "      <td>554</td>\n",
       "      <td>720</td>\n",
       "      <td>603</td>\n",
       "      <td>257</td>\n",
       "      <td>455</td>\n",
       "      <td>...</td>\n",
       "      <td>347</td>\n",
       "      <td>178</td>\n",
       "      <td>442</td>\n",
       "      <td>363</td>\n",
       "      <td>466</td>\n",
       "      <td>265</td>\n",
       "      <td>237</td>\n",
       "      <td>391</td>\n",
       "      <td>179</td>\n",
       "      <td>447</td>\n",
       "    </tr>\n",
       "    <tr>\n",
       "      <th>FPWB-0000-822R</th>\n",
       "      <td>2987</td>\n",
       "      <td>258</td>\n",
       "      <td>761</td>\n",
       "      <td>1123</td>\n",
       "      <td>617</td>\n",
       "      <td>1150</td>\n",
       "      <td>1462</td>\n",
       "      <td>1247</td>\n",
       "      <td>451</td>\n",
       "      <td>960</td>\n",
       "      <td>...</td>\n",
       "      <td>799</td>\n",
       "      <td>358</td>\n",
       "      <td>758</td>\n",
       "      <td>562</td>\n",
       "      <td>990</td>\n",
       "      <td>469</td>\n",
       "      <td>518</td>\n",
       "      <td>698</td>\n",
       "      <td>308</td>\n",
       "      <td>698</td>\n",
       "    </tr>\n",
       "  </tbody>\n",
       "</table>\n",
       "<p>5 rows × 78 columns</p>\n",
       "</div>"
      ],
      "text/plain": [
       "                     Ex1  Ex2  Ex3   Ex4  Ex5   Ex6   Ex7   Ex8  Ex9  Ex10  \\\n",
       "subject                                                                      \n",
       "FGPC-0000-444F      2266  306  623   944  591   714  1341  1064  411   715   \n",
       "FGPC-0000-444F_dup  2266  306  623   944  591   714  1341  1064  411   715   \n",
       "FGPC-4ZPF-J0F1      1649  118  385   558  378   554   720   603  257   455   \n",
       "FGPC-4ZPF-J0F1_del  1649  118  385   558  378   554   720   603  257   455   \n",
       "FPWB-0000-822R      2987  258  761  1123  617  1150  1462  1247  451   960   \n",
       "\n",
       "                    ...   Ex70  Ex71  Ex72  Ex73  Ex74  Ex75  Ex76  Ex77  \\\n",
       "subject             ...                                                    \n",
       "FGPC-0000-444F      ...    659   272   729   631   847   523   424   622   \n",
       "FGPC-0000-444F_dup  ...    659   272   729   631   847   523   424   622   \n",
       "FGPC-4ZPF-J0F1      ...    347   178   442   363   466   265   237   391   \n",
       "FGPC-4ZPF-J0F1_del  ...    347   178   442   363   466   265   237   391   \n",
       "FPWB-0000-822R      ...    799   358   758   562   990   469   518   698   \n",
       "\n",
       "                    Ex78  Ex79  \n",
       "subject                         \n",
       "FGPC-0000-444F       292   553  \n",
       "FGPC-0000-444F_dup   292   553  \n",
       "FGPC-4ZPF-J0F1       179   447  \n",
       "FGPC-4ZPF-J0F1_del   179   447  \n",
       "FPWB-0000-822R       308   698  \n",
       "\n",
       "[5 rows x 78 columns]"
      ]
     },
     "execution_count": 19,
     "metadata": {},
     "output_type": "execute_result"
    }
   ],
   "source": [
    "subject_counts.head()"
   ]
  },
  {
   "cell_type": "code",
   "execution_count": 20,
   "metadata": {
    "collapsed": false
   },
   "outputs": [
    {
     "name": "stdout",
     "output_type": "stream",
     "text": [
      "FGPC-0000-444F total reads: 56450\n",
      "FGPC-0000-444F_dup total reads: 56688\n",
      "FGPC-4ZPF-J0F1 total reads: 33814\n",
      "FGPC-4ZPF-J0F1_del total reads: 33282\n",
      "FPWB-0000-822R total reads: 65769\n",
      "FPWB-0000-822R_del total reads: 64288\n"
     ]
    }
   ],
   "source": [
    "# get number of reads for each subject\n",
    "for i in range(len(subject_counts)):\n",
    "    print '{} total reads: {}'.format(subject_counts.index[i], np.sum(np.array(subject_counts.iloc[i])))"
   ]
  },
  {
   "cell_type": "code",
   "execution_count": 21,
   "metadata": {
    "collapsed": false
   },
   "outputs": [
    {
     "name": "stdout",
     "output_type": "stream",
     "text": [
      "[2987  258  761 1123  617 1150 1462 1247  451  960  736  524  498  521 1085\n",
      "  702  980  406  824 1722  798  978  776  590 1622  648 1149  573  984  503\n",
      "  789  648 1264  550  741  717  802  501  689  761  737  602  944  996 1775\n",
      "  585 1372  390  755  238  553  415 1159  508 1214  525  470  492  775 1322\n",
      "  732 1138  556  796 1346  802 1233  603  799  358  758  562  990  469  518\n",
      "  698  308  698]\n"
     ]
    }
   ],
   "source": [
    "subject_data = np.array(subject_counts.loc['FPWB-0000-822R_del'])\n",
    "print subject_data\n",
    "subject_data_half = subject_data / 2\n",
    "subject_data_sixth = subject_data / 6"
   ]
  },
  {
   "cell_type": "code",
   "execution_count": 22,
   "metadata": {
    "collapsed": true
   },
   "outputs": [],
   "source": [
    "subject_data_del16 = np.array(subject_counts.loc['FGPC-4ZPF-J0F1_del'])\n",
    "subject_data_dup30 = np.array(subject_counts.loc['FGPC-0000-444F_dup'])"
   ]
  },
  {
   "cell_type": "markdown",
   "metadata": {},
   "source": [
    "## Running Gibbs Sampler (simulated deletion 48-50), subject FPWB-0000-822R\n",
    "\n",
    "We run the Gibbs sampler on a subject with a simulated deletion in exons 48-50. We continue to use the female RMA mean exon coverage ratios as our known exon intensity vector (note that this subject was not an RMA subject). Both the RMA samples and this subject's samples were run using a mix-in panel (M1). The sampler is seeded with a probable expected cnv vector (all copy numbers initialized to 2 -- see df_822R) and a randomly generated cnv vector (see df_822R2). As expected, this did not affect the final probability averages. This subject has a very large number of reads (~60k), so we also simulate an analogous subject with half and 1/6th the total coverage (see df_822R3, df_822R4). As expected, this generated more uncertainty in the final results."
   ]
  },
  {
   "cell_type": "code",
   "execution_count": 23,
   "metadata": {
    "collapsed": true
   },
   "outputs": [],
   "source": [
    "norm_start = 2 * np.ones(78).astype(np.int64)"
   ]
  },
  {
   "cell_type": "code",
   "execution_count": 24,
   "metadata": {
    "collapsed": false,
    "scrolled": true
   },
   "outputs": [
    {
     "name": "stdout",
     "output_type": "stream",
     "text": [
      "[2 2 2 2 2 2 2 2 2 2 2 2 2 2 2 2 2 2 2 2 2 2 2 2 2 2 2 2 2 2 2 2 2 2 2 2 2\n",
      " 2 2 2 2 2 2 2 2 2 2 2 2 2 2 2 2 2 2 2 2 2 2 2 2 2 2 2 2 2 2 2 2 2 2 2 2 2\n",
      " 2 2 2 2]\n",
      "Finished 499 iterations\n",
      "Finished 999 iterations\n",
      "Finished 1499 iterations\n",
      "Finished 1999 iterations\n",
      "Finished 2499 iterations\n",
      "Finished 2999 iterations\n",
      "Finished 3499 iterations\n",
      "Finished 3999 iterations\n",
      "Finished 4499 iterations\n",
      "Finished 4999 iterations\n",
      "Finished 5499 iterations\n",
      "Finished 5999 iterations\n",
      "Finished 6499 iterations\n",
      "Finished 6999 iterations\n",
      "Finished 7499 iterations\n",
      "Finished 7999 iterations\n",
      "Finished 8499 iterations\n",
      "Finished 8999 iterations\n",
      "Finished 9499 iterations\n",
      "Finished 9999 iterations\n"
     ]
    }
   ],
   "source": [
    "# with norm (most probable) starting cnv distribution\n",
    "cnv_support = [1,2,3]\n",
    "norm_start = 2 * np.ones(78).astype(np.int64)\n",
    "gibbs_data_822R, gibbs_data_results_822R, logliks_822R, gibbs_df_822R = generate_gibbs_df(cnv_support, \n",
    "                                                                        X_probs, cnv=norm_start, data=subject_data, \n",
    "                                                                        iterations=10000, exon_labels=exon_labels)"
   ]
  },
  {
   "cell_type": "code",
   "execution_count": 25,
   "metadata": {
    "collapsed": false,
    "scrolled": true
   },
   "outputs": [
    {
     "name": "stdout",
     "output_type": "stream",
     "text": [
      "[3 1 3 3 2 2 3 3 3 2 2 3 1 1 1 2 2 3 3 1 1 2 3 1 3 3 3 1 1 3 3 1 1 1 2 1 3\n",
      " 1 3 2 3 2 3 1 3 1 3 2 2 2 1 1 1 1 2 1 2 2 1 3 2 1 2 1 1 2 2 2 3 1 3 1 3 2\n",
      " 1 2 1 2]\n",
      "Finished 499 iterations\n",
      "Finished 999 iterations\n",
      "Finished 1499 iterations\n",
      "Finished 1999 iterations\n",
      "Finished 2499 iterations\n",
      "Finished 2999 iterations\n",
      "Finished 3499 iterations\n",
      "Finished 3999 iterations\n",
      "Finished 4499 iterations\n",
      "Finished 4999 iterations\n",
      "Finished 5499 iterations\n",
      "Finished 5999 iterations\n",
      "Finished 6499 iterations\n",
      "Finished 6999 iterations\n",
      "Finished 7499 iterations\n",
      "Finished 7999 iterations\n",
      "Finished 8499 iterations\n",
      "Finished 8999 iterations\n",
      "Finished 9499 iterations\n",
      "Finished 9999 iterations\n"
     ]
    }
   ],
   "source": [
    "# with random cnv distribution\n",
    "cnv_support = [1,2,3]\n",
    "gibbs_data_822R2, gibbs_data_results_822R2, logliks_822R2, gibbs_df_822R2 = generate_gibbs_df(cnv_support, \n",
    "                                                                        X_probs, data=subject_data, \n",
    "                                                                        iterations=10000, exon_labels=exon_labels)"
   ]
  },
  {
   "cell_type": "code",
   "execution_count": 26,
   "metadata": {
    "collapsed": false,
    "scrolled": true
   },
   "outputs": [
    {
     "name": "stdout",
     "output_type": "stream",
     "text": [
      "[2 2 2 2 2 2 2 2 2 2 2 2 2 2 2 2 2 2 2 2 2 2 2 2 2 2 2 2 2 2 2 2 2 2 2 2 2\n",
      " 2 2 2 2 2 2 2 2 2 2 2 2 2 2 2 2 2 2 2 2 2 2 2 2 2 2 2 2 2 2 2 2 2 2 2 2 2\n",
      " 2 2 2 2]\n",
      "Finished 499 iterations\n",
      "Finished 999 iterations\n",
      "Finished 1499 iterations\n",
      "Finished 1999 iterations\n",
      "Finished 2499 iterations\n",
      "Finished 2999 iterations\n",
      "Finished 3499 iterations\n",
      "Finished 3999 iterations\n",
      "Finished 4499 iterations\n",
      "Finished 4999 iterations\n",
      "Finished 5499 iterations\n",
      "Finished 5999 iterations\n",
      "Finished 6499 iterations\n",
      "Finished 6999 iterations\n",
      "Finished 7499 iterations\n",
      "Finished 7999 iterations\n",
      "Finished 8499 iterations\n",
      "Finished 8999 iterations\n",
      "Finished 9499 iterations\n",
      "Finished 9999 iterations\n"
     ]
    }
   ],
   "source": [
    "# with norm starting cnvs and half the subject's original coverage\n",
    "cnv_support = [1,2,3]\n",
    "norm_start = 2 * np.ones(78).astype(np.int64)\n",
    "gibbs_data_822R3, gibbs_data_results_822R3, logliks_822R3, gibbs_df_822R3 = generate_gibbs_df(cnv_support, \n",
    "                                                                        X_probs, cnv=norm_start, \n",
    "                                                                        data=subject_data_half, \n",
    "                                                                        iterations=10000, exon_labels=exon_labels)"
   ]
  },
  {
   "cell_type": "code",
   "execution_count": 27,
   "metadata": {
    "collapsed": false,
    "scrolled": true
   },
   "outputs": [
    {
     "name": "stdout",
     "output_type": "stream",
     "text": [
      "[1 2 2 1 2 1 1 3 1 1 1 3 1 3 2 3 2 3 1 3 3 3 1 1 1 2 3 1 1 1 2 1 3 3 3 3 1\n",
      " 2 1 1 3 1 3 1 1 1 2 2 1 3 1 3 3 3 3 3 1 2 1 2 3 2 1 1 1 3 1 1 3 1 2 2 3 1\n",
      " 2 3 3 2]\n",
      "Finished 499 iterations\n",
      "Finished 999 iterations\n",
      "Finished 1499 iterations\n",
      "Finished 1999 iterations\n",
      "Finished 2499 iterations\n",
      "Finished 2999 iterations\n",
      "Finished 3499 iterations\n",
      "Finished 3999 iterations\n",
      "Finished 4499 iterations\n",
      "Finished 4999 iterations\n",
      "Finished 5499 iterations\n",
      "Finished 5999 iterations\n",
      "Finished 6499 iterations\n",
      "Finished 6999 iterations\n",
      "Finished 7499 iterations\n",
      "Finished 7999 iterations\n",
      "Finished 8499 iterations\n",
      "Finished 8999 iterations\n",
      "Finished 9499 iterations\n",
      "Finished 9999 iterations\n"
     ]
    }
   ],
   "source": [
    "# with random starting cnvs and one sixth the subject's original coverage\n",
    "cnv_support = [1,2,3]\n",
    "gibbs_data_822R4, gibbs_data_results_822R4, logliks_822R4, gibbs_df_822R4 = generate_gibbs_df(cnv_support, \n",
    "                                                                        X_probs,  \n",
    "                                                                        data=subject_data_sixth, \n",
    "                                                                        iterations=10000, exon_labels=exon_labels)"
   ]
  },
  {
   "cell_type": "markdown",
   "metadata": {},
   "source": [
    "## Investigation into convergence\n",
    "We plot the distribution of log likelihoods with the sample with 1/6th of coverage -- trying to observe the most variability possible. We see a mostly discrete set of possible likelihoods since only a few of the exons actually vary in sampled copy number from iteration to iteration. We also observe that the majority of the iteration samples produce a higher log likelihood, with fewer iterations producing lower log likelihoods. "
   ]
  },
  {
   "cell_type": "code",
   "execution_count": 28,
   "metadata": {
    "collapsed": false
   },
   "outputs": [
    {
     "name": "stdout",
     "output_type": "stream",
     "text": [
      "10000\n"
     ]
    },
    {
     "data": {
      "image/png": "[encoded data removed]",
      "text/plain": [
       "<matplotlib.figure.Figure at 0x10fa47190>"
      ]
     },
     "metadata": {},
     "output_type": "display_data"
    },
    {
     "data": {
      "image/png": "[encoded data removed]",
      "text/plain": [
       "<matplotlib.figure.Figure at 0x10fae1550>"
      ]
     },
     "metadata": {},
     "output_type": "display_data"
    }
   ],
   "source": [
    "# again, no convergence?? has it already mostly converged?\n",
    "plt.figure()\n",
    "plt.plot(range(len(logliks_822R4[::100])), logliks_822R4[::100], '.')\n",
    "plt.xlabel('Iteration'), plt.ylabel('Log Likelihood')\n",
    "plt.figure()\n",
    "plt.hist(logliks_822R4, bins=150)\n",
    "plt.xlabel('Log Likelihoods')\n",
    "print len(logliks_822R4)"
   ]
  },
  {
   "cell_type": "code",
   "execution_count": 29,
   "metadata": {
    "collapsed": true
   },
   "outputs": [],
   "source": [
    "# reference: http://chrisalbon.com/python/matplotlib_percentage_stacked_bar_plot.html\n",
    "def create_stacked_bars(df, title): \n",
    "    f, ax = plt.subplots(1, figsize=(10,5))\n",
    "    bar_width = 1\n",
    "\n",
    "    bar_l = [i for i in range(len(df['copy_1']))] \n",
    "    tick_pos = [i + bar_width for i in bar_l] \n",
    "\n",
    "    # loop through these later\n",
    "    # Create a bar chart in position bar_1\n",
    "    ax.bar(bar_l, df.copy_1, label='1 Copy', alpha=0.9, color='#019600', width=bar_width, edgecolor='white')\n",
    "\n",
    "    ax.bar(bar_l, df.copy_2, bottom=df.copy_1, label='2 Copy', alpha=0.9, color='#3C5F5A', width=bar_width,\n",
    "           edgecolor='white')\n",
    "\n",
    "    ax.bar(bar_l, df.copy_3, bottom=[i+j for i,j in zip(df.copy_1, df.copy_2)], label='3 Copy',\n",
    "           alpha=0.9, color='#219AD8', width=bar_width, edgecolor='white')\n",
    "\n",
    "    # getting just the number designation for each exon group as its label\n",
    "    plt.xticks(tick_pos, df['Exon'].str.split('x').str[-1])\n",
    "    ax.set_ylabel(\"Probabilities\")\n",
    "    ax.set_xlabel(\"Exons\")\n",
    "\n",
    "    plt.xlim([min(tick_pos)-2*bar_width, max(tick_pos)+bar_width])\n",
    "    plt.ylim(-0.1, 1.1)\n",
    "\n",
    "    plt.setp(plt.gca().get_xticklabels(), rotation=90, horizontalalignment='right')\n",
    "    plt.legend(loc='upper center', bbox_to_anchor=(0.5, -0.15),\n",
    "               fancybox=True, shadow=True, ncol=3)\n",
    "    plt.title(title)\n",
    "    plt.show()"
   ]
  },
  {
   "cell_type": "markdown",
   "metadata": {},
   "source": [
    "## Visualizing Results"
   ]
  },
  {
   "cell_type": "code",
   "execution_count": 30,
   "metadata": {
    "collapsed": false
   },
   "outputs": [
    {
     "data": {
      "image/png": "[encoded data removed]",
      "text/plain": [
       "<matplotlib.figure.Figure at 0x1110a5c50>"
      ]
     },
     "metadata": {},
     "output_type": "display_data"
    }
   ],
   "source": [
    "# note that this subject has a simulated deletion in exons 48-50 -- Gibbs sampler run with normed start values\n",
    "create_stacked_bars(gibbs_df_822R, 'Del 48-50, expected cnv start values')"
   ]
  },
  {
   "cell_type": "code",
   "execution_count": 31,
   "metadata": {
    "collapsed": false
   },
   "outputs": [
    {
     "data": {
      "image/png": "[encoded data removed]",
      "text/plain": [
       "<matplotlib.figure.Figure at 0x10f144a90>"
      ]
     },
     "metadata": {},
     "output_type": "display_data"
    }
   ],
   "source": [
    "# note that this subject has a simulated deletion in exons 48-50 -- Gibbs sampler run with random start values\n",
    "create_stacked_bars(gibbs_df_822R2, 'Del 48-50, random cnv start values')"
   ]
  },
  {
   "cell_type": "code",
   "execution_count": 32,
   "metadata": {
    "collapsed": false
   },
   "outputs": [
    {
     "data": {
      "image/png": "[encoded data removed]",
      "text/plain": [
       "<matplotlib.figure.Figure at 0x110c80550>"
      ]
     },
     "metadata": {},
     "output_type": "display_data"
    }
   ],
   "source": [
    "# note that this subject has a simulated deletion in exons 48-50 \n",
    "create_stacked_bars(gibbs_df_822R3, 'Del 48-50, expected cnv start values, half coverage')"
   ]
  },
  {
   "cell_type": "markdown",
   "metadata": {},
   "source": [
    "Poor coverage of exons 2 and 78 has likely led to increased probabilities of abnormal copy numbers in these exons. Note that exon 65 is actually 65 and 66, so later exon labels are 1 off."
   ]
  },
  {
   "cell_type": "code",
   "execution_count": 33,
   "metadata": {
    "collapsed": false
   },
   "outputs": [
    {
     "data": {
      "image/png": "[encoded data removed]",
      "text/plain": [
       "<matplotlib.figure.Figure at 0x110ef13d0>"
      ]
     },
     "metadata": {},
     "output_type": "display_data"
    }
   ],
   "source": [
    "# note that this subject has a simulated deletion in exons 48-50 \n",
    "create_stacked_bars(gibbs_df_822R4, 'Del 48-50, random cnv start values, sixth coverage')"
   ]
  },
  {
   "cell_type": "markdown",
   "metadata": {},
   "source": [
    "## Results for simulated deletion (exons 16-19), subject FGPC-4ZPF-J0F1"
   ]
  },
  {
   "cell_type": "code",
   "execution_count": 34,
   "metadata": {
    "collapsed": false,
    "scrolled": true
   },
   "outputs": [
    {
     "name": "stdout",
     "output_type": "stream",
     "text": [
      "[2 3 2 2 3 3 1 2 1 3 3 2 2 3 1 2 3 2 3 1 2 3 2 1 1 3 3 2 2 1 1 2 3 3 1 3 3\n",
      " 3 3 3 3 3 2 3 3 3 2 2 3 1 3 1 1 2 1 3 3 3 1 3 1 3 2 1 1 3 1 3 1 2 2 3 2 3\n",
      " 1 3 1 1]\n",
      "Finished 499 iterations\n",
      "Finished 999 iterations\n",
      "Finished 1499 iterations\n",
      "Finished 1999 iterations\n",
      "Finished 2499 iterations\n",
      "Finished 2999 iterations\n",
      "Finished 3499 iterations\n",
      "Finished 3999 iterations\n",
      "Finished 4499 iterations\n",
      "Finished 4999 iterations\n",
      "Finished 5499 iterations\n",
      "Finished 5999 iterations\n",
      "Finished 6499 iterations\n",
      "Finished 6999 iterations\n",
      "Finished 7499 iterations\n",
      "Finished 7999 iterations\n",
      "Finished 8499 iterations\n",
      "Finished 8999 iterations\n",
      "Finished 9499 iterations\n",
      "Finished 9999 iterations\n"
     ]
    }
   ],
   "source": [
    "cnv_support = [1,2,3]\n",
    "gibbs_data_J0F1, gibbs_data_results_J0F1, logliks_J0F1, gibbs_df_J0F1 = generate_gibbs_df(cnv_support, \n",
    "                                                                        X_probs, data=subject_data_del16, \n",
    "                                                                        iterations=10000, exon_labels=exon_labels)"
   ]
  },
  {
   "cell_type": "code",
   "execution_count": 35,
   "metadata": {
    "collapsed": false
   },
   "outputs": [
    {
     "data": {
      "image/png": "[encoded data removed]",
      "text/plain": [
       "<matplotlib.figure.Figure at 0x110eb2fd0>"
      ]
     },
     "metadata": {},
     "output_type": "display_data"
    }
   ],
   "source": [
    "create_stacked_bars(gibbs_df_J0F1, 'Del 16-19, random cnv start values, full coverage')"
   ]
  },
  {
   "cell_type": "markdown",
   "metadata": {},
   "source": [
    "### Comments\n",
    "* Seem to have several false duplications called here"
   ]
  },
  {
   "cell_type": "markdown",
   "metadata": {},
   "source": [
    "## Results for simulated duplication (exon 30), subject FGPC-0000-444F"
   ]
  },
  {
   "cell_type": "code",
   "execution_count": 36,
   "metadata": {
    "collapsed": false,
    "scrolled": true
   },
   "outputs": [
    {
     "name": "stdout",
     "output_type": "stream",
     "text": [
      "[3 1 1 1 2 2 2 3 2 1 2 1 2 3 1 1 3 1 3 2 3 3 1 1 2 3 2 2 1 2 3 2 2 3 3 1 1\n",
      " 3 2 1 1 3 3 3 2 1 3 2 2 2 3 3 3 1 3 2 1 1 3 3 2 2 1 2 3 3 2 3 3 1 1 2 2 1\n",
      " 2 2 1 2]\n",
      "Finished 499 iterations\n",
      "Finished 999 iterations\n",
      "Finished 1499 iterations\n",
      "Finished 1999 iterations\n",
      "Finished 2499 iterations\n",
      "Finished 2999 iterations\n",
      "Finished 3499 iterations\n",
      "Finished 3999 iterations\n",
      "Finished 4499 iterations\n",
      "Finished 4999 iterations\n",
      "Finished 5499 iterations\n",
      "Finished 5999 iterations\n",
      "Finished 6499 iterations\n",
      "Finished 6999 iterations\n",
      "Finished 7499 iterations\n",
      "Finished 7999 iterations\n",
      "Finished 8499 iterations\n",
      "Finished 8999 iterations\n",
      "Finished 9499 iterations\n",
      "Finished 9999 iterations\n"
     ]
    }
   ],
   "source": [
    "cnv_support = [1,2,3]\n",
    "gibbs_data_444F, gibbs_data_results_444F, logliks_444F, gibbs_df_444F = generate_gibbs_df(cnv_support, \n",
    "                                                                        X_probs, data=subject_data_dup30, \n",
    "                                                                        iterations=10000, exon_labels=exon_labels)"
   ]
  },
  {
   "cell_type": "code",
   "execution_count": 37,
   "metadata": {
    "collapsed": false
   },
   "outputs": [
    {
     "data": {
      "image/png": "[encoded data removed]",
      "text/plain": [
       "<matplotlib.figure.Figure at 0x110d07fd0>"
      ]
     },
     "metadata": {},
     "output_type": "display_data"
    }
   ],
   "source": [
    "create_stacked_bars(gibbs_df_444F, 'Dup 30, random cnv start values, full coverage')"
   ]
  },
  {
   "cell_type": "markdown",
   "metadata": {},
   "source": [
    "## Comparing to subjects' original data (without mutations)\n",
    "\n",
    "The original subject data does not produce significantly different results outside of the simulated mutation regions, though subjects J0F1 and 444F both still show elevated exon coverage in several exons -- likely due to mixin batch effects?"
   ]
  },
  {
   "cell_type": "code",
   "execution_count": 38,
   "metadata": {
    "collapsed": true
   },
   "outputs": [],
   "source": [
    "subject_data_J0F1 = np.array(subject_counts.loc['FGPC-4ZPF-J0F1'])\n",
    "subject_data_444F = np.array(subject_counts.loc['FGPC-0000-444F'])\n",
    "subject_data_822R = np.array(subject_counts.loc['FPWB-0000-822R'])"
   ]
  },
  {
   "cell_type": "code",
   "execution_count": 39,
   "metadata": {
    "collapsed": false
   },
   "outputs": [
    {
     "name": "stdout",
     "output_type": "stream",
     "text": [
      "[3 3 1 3 2 2 1 3 2 1 1 2 2 2 1 1 2 2 3 1 2 3 2 3 3 3 1 1 3 1 2 1 3 2 3 1 1\n",
      " 2 3 1 1 3 1 3 1 2 3 3 1 3 1 3 2 3 2 1 1 2 3 3 3 2 3 1 2 3 2 3 2 1 1 3 3 2\n",
      " 1 2 2 3]\n",
      "Finished 499 iterations\n",
      "Finished 999 iterations\n",
      "Finished 1499 iterations\n",
      "Finished 1999 iterations\n",
      "Finished 2499 iterations\n",
      "Finished 2999 iterations\n",
      "Finished 3499 iterations\n",
      "Finished 3999 iterations\n",
      "Finished 4499 iterations\n",
      "Finished 4999 iterations\n",
      "Finished 5499 iterations\n",
      "Finished 5999 iterations\n",
      "Finished 6499 iterations\n",
      "Finished 6999 iterations\n",
      "Finished 7499 iterations\n",
      "Finished 7999 iterations\n",
      "Finished 8499 iterations\n",
      "Finished 8999 iterations\n",
      "Finished 9499 iterations\n",
      "Finished 9999 iterations\n"
     ]
    }
   ],
   "source": [
    "cnv_support = [1,2,3]\n",
    "gibbs_data_822Rc, gibbs_data_results_822Rc, logliks_822Rc, gibbs_df_822Rc = generate_gibbs_df(cnv_support, \n",
    "                                                                        X_probs, data=subject_data_822R, \n",
    "                                                                        iterations=10000, exon_labels=exon_labels)"
   ]
  },
  {
   "cell_type": "code",
   "execution_count": 40,
   "metadata": {
    "collapsed": false
   },
   "outputs": [
    {
     "data": {
      "image/png": "[encoded data removed]",
      "text/plain": [
       "<matplotlib.figure.Figure at 0x10fd3bc10>"
      ]
     },
     "metadata": {},
     "output_type": "display_data"
    }
   ],
   "source": [
    "create_stacked_bars(gibbs_df_822Rc, 'Sub 822R, random cnv start values, full coverage')"
   ]
  },
  {
   "cell_type": "code",
   "execution_count": 41,
   "metadata": {
    "collapsed": false
   },
   "outputs": [
    {
     "name": "stdout",
     "output_type": "stream",
     "text": [
      "[3 1 2 1 3 1 1 3 2 1 3 3 2 1 1 3 3 3 1 1 3 1 2 1 3 2 2 3 1 3 3 3 1 3 1 2 2\n",
      " 1 2 2 3 2 1 1 2 2 2 1 3 1 2 3 1 2 1 3 2 1 3 3 1 2 1 2 2 3 1 2 1 2 1 3 2 2\n",
      " 2 3 3 2]\n",
      "Finished 499 iterations\n",
      "Finished 999 iterations\n",
      "Finished 1499 iterations\n",
      "Finished 1999 iterations\n",
      "Finished 2499 iterations\n",
      "Finished 2999 iterations\n",
      "Finished 3499 iterations\n",
      "Finished 3999 iterations\n",
      "Finished 4499 iterations\n",
      "Finished 4999 iterations\n",
      "Finished 5499 iterations\n",
      "Finished 5999 iterations\n",
      "Finished 6499 iterations\n",
      "Finished 6999 iterations\n",
      "Finished 7499 iterations\n",
      "Finished 7999 iterations\n",
      "Finished 8499 iterations\n",
      "Finished 8999 iterations\n",
      "Finished 9499 iterations\n",
      "Finished 9999 iterations\n",
      "CPU times: user 52.4 s, sys: 92.5 ms, total: 52.5 s\n",
      "Wall time: 52.5 s\n"
     ]
    }
   ],
   "source": [
    "%%time\n",
    "cnv_support = [1,2,3]\n",
    "gibbs_data_J0F12, gibbs_data_results_J0F12, logliks_J0F12, gibbs_df_J0F12 = generate_gibbs_df(cnv_support, \n",
    "                                                                        X_probs, data=subject_data_J0F1, \n",
    "                                                                        iterations=10000, exon_labels=exon_labels)"
   ]
  },
  {
   "cell_type": "code",
   "execution_count": 42,
   "metadata": {
    "collapsed": false
   },
   "outputs": [
    {
     "data": {
      "image/png": "[encoded data removed]",
      "text/plain": [
       "<matplotlib.figure.Figure at 0x10fe80a90>"
      ]
     },
     "metadata": {},
     "output_type": "display_data"
    }
   ],
   "source": [
    "create_stacked_bars(gibbs_df_J0F12, 'Sub J0F1, random cnv start values, full coverage')"
   ]
  },
  {
   "cell_type": "code",
   "execution_count": 43,
   "metadata": {
    "collapsed": false
   },
   "outputs": [
    {
     "name": "stdout",
     "output_type": "stream",
     "text": [
      "[1 1 2 3 3 3 1 3 1 3 2 2 3 1 2 3 2 2 3 1 1 3 1 2 2 1 2 2 2 3 3 1 2 1 2 2 2\n",
      " 3 1 1 1 3 3 1 3 3 3 3 2 1 1 2 1 2 1 1 2 3 2 1 2 1 1 2 1 3 3 3 3 2 2 1 2 3\n",
      " 1 1 1 1]\n",
      "Finished 499 iterations\n",
      "Finished 999 iterations\n",
      "Finished 1499 iterations\n",
      "Finished 1999 iterations\n",
      "Finished 2499 iterations\n",
      "Finished 2999 iterations\n",
      "Finished 3499 iterations\n",
      "Finished 3999 iterations\n",
      "Finished 4499 iterations\n",
      "Finished 4999 iterations\n",
      "Finished 5499 iterations\n",
      "Finished 5999 iterations\n",
      "Finished 6499 iterations\n",
      "Finished 6999 iterations\n",
      "Finished 7499 iterations\n",
      "Finished 7999 iterations\n",
      "Finished 8499 iterations\n",
      "Finished 8999 iterations\n",
      "Finished 9499 iterations\n",
      "Finished 9999 iterations\n"
     ]
    }
   ],
   "source": [
    "cnv_support = [1,2,3]\n",
    "gibbs_data_444F2, gibbs_data_results_444F2, logliks_444F2, gibbs_df_444F2 = generate_gibbs_df(cnv_support, \n",
    "                                                                        X_probs, data=subject_data_444F, \n",
    "                                                                        iterations=10000, exon_labels=exon_labels)"
   ]
  },
  {
   "cell_type": "code",
   "execution_count": 44,
   "metadata": {
    "collapsed": false
   },
   "outputs": [
    {
     "data": {
      "image/png": "[encoded data removed]",
      "text/plain": [
       "<matplotlib.figure.Figure at 0x10fec0dd0>"
      ]
     },
     "metadata": {},
     "output_type": "display_data"
    }
   ],
   "source": [
    "create_stacked_bars(gibbs_df_444F2, 'Sub 444F, random cnv start values, full coverage')"
   ]
  },
  {
   "cell_type": "code",
   "execution_count": null,
   "metadata": {
    "collapsed": true
   },
   "outputs": [],
   "source": []
  }
 ],
 "metadata": {
  "kernelspec": {
   "display_name": "Python 2",
   "language": "python",
   "name": "python2"
  },
  "language_info": {
   "codemirror_mode": {
    "name": "ipython",
    "version": 2
   },
   "file_extension": ".py",
   "mimetype": "text/x-python",
   "name": "python",
   "nbconvert_exporter": "python",
   "pygments_lexer": "ipython2",
   "version": "2.7.13"
  }
 },
 "nbformat": 4,
 "nbformat_minor": 2
}
