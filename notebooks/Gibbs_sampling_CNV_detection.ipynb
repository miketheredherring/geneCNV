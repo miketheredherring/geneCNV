{
 "cells": [
  {
   "cell_type": "markdown",
   "metadata": {},
   "source": [
    "## Gibbs sampling to estimate copy number distribution across DMD exons"
   ]
  },
  {
   "cell_type": "code",
   "execution_count": 371,
   "metadata": {
    "collapsed": false
   },
   "outputs": [],
   "source": [
    "import os\n",
    "import pysam\n",
    "import numpy as np\n",
    "import random\n",
    "import matplotlib.pyplot as plt\n",
    "import pandas as pd\n",
    "from collections import Counter\n",
    "from genepeeks.common import utilities as util\n",
    "import seaborn as sns\n",
    "\n",
    "%matplotlib inline"
   ]
  },
  {
   "cell_type": "code",
   "execution_count": 283,
   "metadata": {
    "collapsed": false
   },
   "outputs": [
    {
     "name": "stdout",
     "output_type": "stream",
     "text": [
      "Finished loading the gene collection from the genepeeks-prod database with a single entries with a query of {'_id': 'DMD'} after 0.25 sec\n"
     ]
    }
   ],
   "source": [
    "DMD_ensembl = util.Mongo.get_collection_data('gene', wanted_db='prod', query={'_id': 'DMD'}, find_one=True, single_field='ensembl')\n",
    "DMD_exons = util.get_nested_value(DMD_ensembl, ('is_primary', 'transcripts', 'is_primary', 'exons'))\n",
    "# had to make local change in utilities \n",
    "DMD_exons_merged = util.merge_intervals(DMD_exons, min_dist=200, include_index=True)\n",
    "exon_labels = ['Ex' + exon['index'] for exon in DMD_exons_merged] # this exon label gets used later"
   ]
  },
  {
   "cell_type": "code",
   "execution_count": 3,
   "metadata": {
    "collapsed": false
   },
   "outputs": [
    {
     "name": "stdout",
     "output_type": "stream",
     "text": [
      "2702\n"
     ]
    }
   ],
   "source": [
    "# DMD exon/gene coordinates and useful regions (coordinates taken from IGV b37 reference)\n",
    "# EXON46 = [31950197, 31950344]\n",
    "# EXON47 = [31947713, 31947862]\n",
    "# EXON48 = [31893308, 31893490]\n",
    "# EXON49 = [31854835, 31854939]\n",
    "# EXON50 = [31838092, 31838200]\n",
    "# EXON51 = [31792077, 31792309]\n",
    "# DMD = [31115794, 33357558]  # taken from ensembl GRCh37\n",
    "\n",
    "# deletion of partial exons\n",
    "EX48_50_PART = [31838130, 31893308]\n",
    "\n",
    "# for consistency with exon labeling in Ensembl\n",
    "exon_dict = {exon['index']: [exon['start'], exon['end']] for exon in DMD_exons_merged}\n",
    "print exon_dict['1'][1] - exon_dict['1'][0]"
   ]
  },
  {
   "cell_type": "code",
   "execution_count": 4,
   "metadata": {
    "collapsed": true
   },
   "outputs": [],
   "source": [
    "# workaround to force real time print output in notebooks\n",
    "# see http://stackoverflow.com/questions/29772158/make-ipython-notebook-print-in-real-time\n",
    "import sys\n",
    "oldsysstdout = sys.stdout\n",
    "class flushfile():\n",
    "    def __init__(self, f):\n",
    "        self.f = f\n",
    "    def __getattr__(self,name): \n",
    "        return object.__getattribute__(self.f, name)\n",
    "    def write(self, x):\n",
    "        self.f.write(x)\n",
    "        self.f.flush()\n",
    "    def flush(self):\n",
    "        self.f.flush()\n",
    "sys.stdout = flushfile(sys.stdout)"
   ]
  },
  {
   "cell_type": "markdown",
   "metadata": {},
   "source": [
    "## Control data -- exon intensities"
   ]
  },
  {
   "cell_type": "code",
   "execution_count": 365,
   "metadata": {
    "collapsed": false
   },
   "outputs": [
    {
     "name": "stdout",
     "output_type": "stream",
     "text": [
      "(1266, 89)\n"
     ]
    },
    {
     "data": {
      "text/html": [
       "<div>\n",
       "<table border=\"1\" class=\"dataframe\">\n",
       "  <thead>\n",
       "    <tr style=\"text-align: right;\">\n",
       "      <th></th>\n",
       "      <th>id</th>\n",
       "      <th>subject</th>\n",
       "      <th>specimen</th>\n",
       "      <th>sample</th>\n",
       "      <th>gender</th>\n",
       "      <th>sequencer</th>\n",
       "      <th>flow_cell_id</th>\n",
       "      <th>lane</th>\n",
       "      <th>bwa_version</th>\n",
       "      <th>date_modified</th>\n",
       "      <th>...</th>\n",
       "      <th>Ex71</th>\n",
       "      <th>Ex72</th>\n",
       "      <th>Ex73</th>\n",
       "      <th>Ex74</th>\n",
       "      <th>Ex75</th>\n",
       "      <th>Ex76</th>\n",
       "      <th>Ex77</th>\n",
       "      <th>Ex78</th>\n",
       "      <th>Ex79</th>\n",
       "      <th>date</th>\n",
       "    </tr>\n",
       "  </thead>\n",
       "  <tbody>\n",
       "    <tr>\n",
       "      <th>1</th>\n",
       "      <td>FCLR-GP01-2121_1-M1-1_HGGF5AFXX-L001</td>\n",
       "      <td>FCLR-GP01-2121</td>\n",
       "      <td>FCLR-GP01-2121_1</td>\n",
       "      <td>FCLR-GP01-2121_1-M1-1</td>\n",
       "      <td>F</td>\n",
       "      <td>M1</td>\n",
       "      <td>HGGF5AFXX</td>\n",
       "      <td>L001</td>\n",
       "      <td>0.7.15-r1140</td>\n",
       "      <td>2016-10-31 23:15:02</td>\n",
       "      <td>...</td>\n",
       "      <td>42</td>\n",
       "      <td>76</td>\n",
       "      <td>55</td>\n",
       "      <td>139</td>\n",
       "      <td>44</td>\n",
       "      <td>30</td>\n",
       "      <td>71</td>\n",
       "      <td>12</td>\n",
       "      <td>81</td>\n",
       "      <td>2016-10-31</td>\n",
       "    </tr>\n",
       "    <tr>\n",
       "      <th>2</th>\n",
       "      <td>FCLR-GP01-2121_1-M1-1_HGGF5AFXX-L002</td>\n",
       "      <td>FCLR-GP01-2121</td>\n",
       "      <td>FCLR-GP01-2121_1</td>\n",
       "      <td>FCLR-GP01-2121_1-M1-1</td>\n",
       "      <td>F</td>\n",
       "      <td>M1</td>\n",
       "      <td>HGGF5AFXX</td>\n",
       "      <td>L002</td>\n",
       "      <td>0.7.15-r1140</td>\n",
       "      <td>2016-10-31 23:15:02</td>\n",
       "      <td>...</td>\n",
       "      <td>60</td>\n",
       "      <td>77</td>\n",
       "      <td>38</td>\n",
       "      <td>121</td>\n",
       "      <td>40</td>\n",
       "      <td>52</td>\n",
       "      <td>71</td>\n",
       "      <td>14</td>\n",
       "      <td>67</td>\n",
       "      <td>2016-10-31</td>\n",
       "    </tr>\n",
       "    <tr>\n",
       "      <th>3</th>\n",
       "      <td>FCLR-GP01-2121_1-M1-1_HGGF5AFXX-L003</td>\n",
       "      <td>FCLR-GP01-2121</td>\n",
       "      <td>FCLR-GP01-2121_1</td>\n",
       "      <td>FCLR-GP01-2121_1-M1-1</td>\n",
       "      <td>F</td>\n",
       "      <td>M1</td>\n",
       "      <td>HGGF5AFXX</td>\n",
       "      <td>L003</td>\n",
       "      <td>0.7.15-r1140</td>\n",
       "      <td>2016-10-31 23:15:02</td>\n",
       "      <td>...</td>\n",
       "      <td>45</td>\n",
       "      <td>76</td>\n",
       "      <td>37</td>\n",
       "      <td>137</td>\n",
       "      <td>37</td>\n",
       "      <td>33</td>\n",
       "      <td>74</td>\n",
       "      <td>6</td>\n",
       "      <td>38</td>\n",
       "      <td>2016-10-31</td>\n",
       "    </tr>\n",
       "    <tr>\n",
       "      <th>4</th>\n",
       "      <td>FCLR-GP01-2121_1-M1-1_HGGF5AFXX-L004</td>\n",
       "      <td>FCLR-GP01-2121</td>\n",
       "      <td>FCLR-GP01-2121_1</td>\n",
       "      <td>FCLR-GP01-2121_1-M1-1</td>\n",
       "      <td>F</td>\n",
       "      <td>M1</td>\n",
       "      <td>HGGF5AFXX</td>\n",
       "      <td>L004</td>\n",
       "      <td>0.7.15-r1140</td>\n",
       "      <td>2016-10-31 23:15:02</td>\n",
       "      <td>...</td>\n",
       "      <td>32</td>\n",
       "      <td>96</td>\n",
       "      <td>51</td>\n",
       "      <td>117</td>\n",
       "      <td>29</td>\n",
       "      <td>32</td>\n",
       "      <td>79</td>\n",
       "      <td>9</td>\n",
       "      <td>56</td>\n",
       "      <td>2016-10-31</td>\n",
       "    </tr>\n",
       "    <tr>\n",
       "      <th>5</th>\n",
       "      <td>MESB-0009-690N_ACGT.1.P1.1</td>\n",
       "      <td>MESB-0009-690N</td>\n",
       "      <td>MESB-0009-690N_ACGT_1</td>\n",
       "      <td>MESB-0009-690N_ACGT.1.P1.1</td>\n",
       "      <td>M</td>\n",
       "      <td>P1</td>\n",
       "      <td>NaN</td>\n",
       "      <td>NaN</td>\n",
       "      <td>0.7.10-r789</td>\n",
       "      <td>2016-06-08 15:49:31</td>\n",
       "      <td>...</td>\n",
       "      <td>22</td>\n",
       "      <td>48</td>\n",
       "      <td>64</td>\n",
       "      <td>64</td>\n",
       "      <td>36</td>\n",
       "      <td>44</td>\n",
       "      <td>10</td>\n",
       "      <td>1</td>\n",
       "      <td>6</td>\n",
       "      <td>2016-06-08</td>\n",
       "    </tr>\n",
       "  </tbody>\n",
       "</table>\n",
       "<p>5 rows × 89 columns</p>\n",
       "</div>"
      ],
      "text/plain": [
       "                                     id         subject  \\\n",
       "1  FCLR-GP01-2121_1-M1-1_HGGF5AFXX-L001  FCLR-GP01-2121   \n",
       "2  FCLR-GP01-2121_1-M1-1_HGGF5AFXX-L002  FCLR-GP01-2121   \n",
       "3  FCLR-GP01-2121_1-M1-1_HGGF5AFXX-L003  FCLR-GP01-2121   \n",
       "4  FCLR-GP01-2121_1-M1-1_HGGF5AFXX-L004  FCLR-GP01-2121   \n",
       "5            MESB-0009-690N_ACGT.1.P1.1  MESB-0009-690N   \n",
       "\n",
       "                specimen                      sample gender sequencer  \\\n",
       "1       FCLR-GP01-2121_1       FCLR-GP01-2121_1-M1-1      F        M1   \n",
       "2       FCLR-GP01-2121_1       FCLR-GP01-2121_1-M1-1      F        M1   \n",
       "3       FCLR-GP01-2121_1       FCLR-GP01-2121_1-M1-1      F        M1   \n",
       "4       FCLR-GP01-2121_1       FCLR-GP01-2121_1-M1-1      F        M1   \n",
       "5  MESB-0009-690N_ACGT_1  MESB-0009-690N_ACGT.1.P1.1      M        P1   \n",
       "\n",
       "  flow_cell_id  lane   bwa_version       date_modified     ...      Ex71  \\\n",
       "1    HGGF5AFXX  L001  0.7.15-r1140 2016-10-31 23:15:02     ...        42   \n",
       "2    HGGF5AFXX  L002  0.7.15-r1140 2016-10-31 23:15:02     ...        60   \n",
       "3    HGGF5AFXX  L003  0.7.15-r1140 2016-10-31 23:15:02     ...        45   \n",
       "4    HGGF5AFXX  L004  0.7.15-r1140 2016-10-31 23:15:02     ...        32   \n",
       "5          NaN   NaN   0.7.10-r789 2016-06-08 15:49:31     ...        22   \n",
       "\n",
       "   Ex72  Ex73  Ex74  Ex75  Ex76  Ex77  Ex78  Ex79        date  \n",
       "1    76    55   139    44    30    71    12    81  2016-10-31  \n",
       "2    77    38   121    40    52    71    14    67  2016-10-31  \n",
       "3    76    37   137    37    33    74     6    38  2016-10-31  \n",
       "4    96    51   117    29    32    79     9    56  2016-10-31  \n",
       "5    48    64    64    36    44    10     1     6  2016-06-08  \n",
       "\n",
       "[5 rows x 89 columns]"
      ]
     },
     "execution_count": 365,
     "metadata": {},
     "output_type": "execute_result"
    }
   ],
   "source": [
    "# get full dataset and also subsets based on gender, sequencer, etc\n",
    "coverage_df = pd.read_csv('../exon_data/coverage_matrix.csv', header=1, index_col=0)\n",
    "coverage_df.index.name = None\n",
    "coverage_df.date_modified = pd.to_datetime(coverage_df.date_modified, unit='s')\n",
    "coverage_df['date'] = coverage_df.date_modified.dt.date\n",
    "coverage_df_f = coverage_df[coverage_df.gender == 'F']\n",
    "coverage_df_m = coverage_df[coverage_df.gender == 'M']\n",
    "coverage_df_RMA = coverage_df[coverage_df.subject.str.contains('FRMR')]\n",
    "coverage_df_M1 = coverage_df[coverage_df.sequencer == 'M1']\n",
    "coverage_df_M1_f = coverage_df_f[coverage_df_f.sequencer == 'M1']\n",
    "coverage_df_T1_f = coverage_df_f[coverage_df_f.sequencer == 'T1']\n",
    "print coverage_df.shape\n",
    "coverage_df.head()"
   ]
  },
  {
   "cell_type": "code",
   "execution_count": 366,
   "metadata": {
    "collapsed": true
   },
   "outputs": [],
   "source": [
    "# function for reshaping data frames so that exons are observations (rows) and subjects are variables (columns)\n",
    "# make sure datetimes have been converted to datetime objects before using\n",
    "def reshape_df(df, include_stats=False, subject_droplist=None, df_counts_wanted=False):\n",
    "    df_grouped = df.groupby(['subject']).sum()\n",
    "    df_norm = df_grouped.div(df_grouped.sum(axis=1), axis=0)\n",
    "    df_norm = df_norm.transpose().reset_index()\n",
    "    df_norm.rename(columns={'index': 'Exon'}, inplace=True)\n",
    "\n",
    "    if subject_droplist:\n",
    "        for subject in subject_droplist:\n",
    "            df_norm.drop(subject, axis=1, inplace=True)\n",
    "    if include_stats:\n",
    "        df_norm['Mean'] = df_norm.mean(axis=1)\n",
    "        df_norm['SD'] = df_norm.std(axis=1)\n",
    "    if df_counts_wanted:\n",
    "        return df_norm, df_grouped\n",
    "    else:\n",
    "        return df_norm"
   ]
  },
  {
   "cell_type": "code",
   "execution_count": 390,
   "metadata": {
    "collapsed": false
   },
   "outputs": [
    {
     "name": "stdout",
     "output_type": "stream",
     "text": [
      "['M1']\n",
      "78\n"
     ]
    },
    {
     "data": {
      "text/html": [
       "<div>\n",
       "<table border=\"1\" class=\"dataframe\">\n",
       "  <thead>\n",
       "    <tr style=\"text-align: right;\">\n",
       "      <th>subject</th>\n",
       "      <th>Exon</th>\n",
       "      <th>FRMR-0070-444H</th>\n",
       "      <th>FRMR-0081-1987</th>\n",
       "      <th>FRMR-0085-579V</th>\n",
       "      <th>FRMR-00AG-860T</th>\n",
       "      <th>FRMR-00AW-8645</th>\n",
       "      <th>FRMR-00BB-772T</th>\n",
       "      <th>FRMR-00CS-821F</th>\n",
       "      <th>FRMR-00DM-853C</th>\n",
       "      <th>FRMR-00GC-803L</th>\n",
       "      <th>...</th>\n",
       "      <th>FRMR-00MS-704S</th>\n",
       "      <th>FRMR-00NC-7632</th>\n",
       "      <th>FRMR-00SA-876L</th>\n",
       "      <th>FRMR-00SB-851W</th>\n",
       "      <th>FRMR-00SC-714V</th>\n",
       "      <th>FRMR-00SD-679G</th>\n",
       "      <th>FRMR-00ST-841F</th>\n",
       "      <th>FRMR-00TS-8464</th>\n",
       "      <th>Mean</th>\n",
       "      <th>SD</th>\n",
       "    </tr>\n",
       "  </thead>\n",
       "  <tbody>\n",
       "    <tr>\n",
       "      <th>0</th>\n",
       "      <td>Ex1</td>\n",
       "      <td>0.043410</td>\n",
       "      <td>0.046888</td>\n",
       "      <td>0.041839</td>\n",
       "      <td>0.047436</td>\n",
       "      <td>0.042754</td>\n",
       "      <td>0.044030</td>\n",
       "      <td>0.043325</td>\n",
       "      <td>0.044394</td>\n",
       "      <td>0.049125</td>\n",
       "      <td>...</td>\n",
       "      <td>0.047474</td>\n",
       "      <td>0.049913</td>\n",
       "      <td>0.041827</td>\n",
       "      <td>0.043412</td>\n",
       "      <td>0.047473</td>\n",
       "      <td>0.040683</td>\n",
       "      <td>0.049380</td>\n",
       "      <td>0.044282</td>\n",
       "      <td>0.045890</td>\n",
       "      <td>0.002980</td>\n",
       "    </tr>\n",
       "    <tr>\n",
       "      <th>1</th>\n",
       "      <td>Ex2</td>\n",
       "      <td>0.001823</td>\n",
       "      <td>0.001920</td>\n",
       "      <td>0.001819</td>\n",
       "      <td>0.001878</td>\n",
       "      <td>0.002115</td>\n",
       "      <td>0.001833</td>\n",
       "      <td>0.001460</td>\n",
       "      <td>0.001570</td>\n",
       "      <td>0.001887</td>\n",
       "      <td>...</td>\n",
       "      <td>0.001696</td>\n",
       "      <td>0.001457</td>\n",
       "      <td>0.001612</td>\n",
       "      <td>0.001898</td>\n",
       "      <td>0.001795</td>\n",
       "      <td>0.002227</td>\n",
       "      <td>0.002079</td>\n",
       "      <td>0.001681</td>\n",
       "      <td>0.001813</td>\n",
       "      <td>0.000274</td>\n",
       "    </tr>\n",
       "    <tr>\n",
       "      <th>2</th>\n",
       "      <td>Ex3</td>\n",
       "      <td>0.011077</td>\n",
       "      <td>0.011095</td>\n",
       "      <td>0.010518</td>\n",
       "      <td>0.009593</td>\n",
       "      <td>0.010601</td>\n",
       "      <td>0.011386</td>\n",
       "      <td>0.010802</td>\n",
       "      <td>0.011919</td>\n",
       "      <td>0.011628</td>\n",
       "      <td>...</td>\n",
       "      <td>0.011040</td>\n",
       "      <td>0.010678</td>\n",
       "      <td>0.011174</td>\n",
       "      <td>0.011885</td>\n",
       "      <td>0.010244</td>\n",
       "      <td>0.009834</td>\n",
       "      <td>0.012735</td>\n",
       "      <td>0.011960</td>\n",
       "      <td>0.011160</td>\n",
       "      <td>0.000778</td>\n",
       "    </tr>\n",
       "    <tr>\n",
       "      <th>3</th>\n",
       "      <td>Ex4</td>\n",
       "      <td>0.018180</td>\n",
       "      <td>0.017203</td>\n",
       "      <td>0.017662</td>\n",
       "      <td>0.023065</td>\n",
       "      <td>0.016674</td>\n",
       "      <td>0.015053</td>\n",
       "      <td>0.021078</td>\n",
       "      <td>0.018842</td>\n",
       "      <td>0.019988</td>\n",
       "      <td>...</td>\n",
       "      <td>0.020950</td>\n",
       "      <td>0.020907</td>\n",
       "      <td>0.018906</td>\n",
       "      <td>0.017222</td>\n",
       "      <td>0.018785</td>\n",
       "      <td>0.015447</td>\n",
       "      <td>0.021608</td>\n",
       "      <td>0.020530</td>\n",
       "      <td>0.019189</td>\n",
       "      <td>0.002110</td>\n",
       "    </tr>\n",
       "    <tr>\n",
       "      <th>4</th>\n",
       "      <td>Ex5</td>\n",
       "      <td>0.010451</td>\n",
       "      <td>0.011308</td>\n",
       "      <td>0.011741</td>\n",
       "      <td>0.013880</td>\n",
       "      <td>0.009930</td>\n",
       "      <td>0.010047</td>\n",
       "      <td>0.012904</td>\n",
       "      <td>0.012455</td>\n",
       "      <td>0.010619</td>\n",
       "      <td>...</td>\n",
       "      <td>0.010690</td>\n",
       "      <td>0.009108</td>\n",
       "      <td>0.011037</td>\n",
       "      <td>0.010289</td>\n",
       "      <td>0.010058</td>\n",
       "      <td>0.011319</td>\n",
       "      <td>0.011138</td>\n",
       "      <td>0.010895</td>\n",
       "      <td>0.011041</td>\n",
       "      <td>0.001030</td>\n",
       "    </tr>\n",
       "  </tbody>\n",
       "</table>\n",
       "<p>5 rows × 25 columns</p>\n",
       "</div>"
      ],
      "text/plain": [
       "subject Exon  FRMR-0070-444H  FRMR-0081-1987  FRMR-0085-579V  FRMR-00AG-860T  \\\n",
       "0        Ex1        0.043410        0.046888        0.041839        0.047436   \n",
       "1        Ex2        0.001823        0.001920        0.001819        0.001878   \n",
       "2        Ex3        0.011077        0.011095        0.010518        0.009593   \n",
       "3        Ex4        0.018180        0.017203        0.017662        0.023065   \n",
       "4        Ex5        0.010451        0.011308        0.011741        0.013880   \n",
       "\n",
       "subject  FRMR-00AW-8645  FRMR-00BB-772T  FRMR-00CS-821F  FRMR-00DM-853C  \\\n",
       "0              0.042754        0.044030        0.043325        0.044394   \n",
       "1              0.002115        0.001833        0.001460        0.001570   \n",
       "2              0.010601        0.011386        0.010802        0.011919   \n",
       "3              0.016674        0.015053        0.021078        0.018842   \n",
       "4              0.009930        0.010047        0.012904        0.012455   \n",
       "\n",
       "subject  FRMR-00GC-803L    ...     FRMR-00MS-704S  FRMR-00NC-7632  \\\n",
       "0              0.049125    ...           0.047474        0.049913   \n",
       "1              0.001887    ...           0.001696        0.001457   \n",
       "2              0.011628    ...           0.011040        0.010678   \n",
       "3              0.019988    ...           0.020950        0.020907   \n",
       "4              0.010619    ...           0.010690        0.009108   \n",
       "\n",
       "subject  FRMR-00SA-876L  FRMR-00SB-851W  FRMR-00SC-714V  FRMR-00SD-679G  \\\n",
       "0              0.041827        0.043412        0.047473        0.040683   \n",
       "1              0.001612        0.001898        0.001795        0.002227   \n",
       "2              0.011174        0.011885        0.010244        0.009834   \n",
       "3              0.018906        0.017222        0.018785        0.015447   \n",
       "4              0.011037        0.010289        0.010058        0.011319   \n",
       "\n",
       "subject  FRMR-00ST-841F  FRMR-00TS-8464      Mean        SD  \n",
       "0              0.049380        0.044282  0.045890  0.002980  \n",
       "1              0.002079        0.001681  0.001813  0.000274  \n",
       "2              0.012735        0.011960  0.011160  0.000778  \n",
       "3              0.021608        0.020530  0.019189  0.002110  \n",
       "4              0.011138        0.010895  0.011041  0.001030  \n",
       "\n",
       "[5 rows x 25 columns]"
      ]
     },
     "execution_count": 390,
     "metadata": {},
     "output_type": "execute_result"
    }
   ],
   "source": [
    "# use RMA samples for initial intensity vector -- note that all RMA individuals used the M1 mixin panel\n",
    "# this is only the females in RMA\n",
    "print coverage_df_RMA.sequencer.unique()\n",
    "RMA_norm = reshape_df(coverage_df_RMA, include_stats=True)\n",
    "RMA_norm.head()\n",
    "X_probs = np.array(RMA_norm.Mean)\n",
    "print len(X_probs)\n",
    "X_probs\n",
    "RMA_norm.head()"
   ]
  },
  {
   "cell_type": "code",
   "execution_count": 394,
   "metadata": {
    "collapsed": false
   },
   "outputs": [
    {
     "data": {
      "text/plain": [
       "array([datetime.date(2016, 6, 24), datetime.date(2016, 6, 25)], dtype=object)"
      ]
     },
     "execution_count": 394,
     "metadata": {},
     "output_type": "execute_result"
    }
   ],
   "source": [
    "# checking dates of RMA samples -- all RMA samples seem to have been run within a day of each other in June 2016\n",
    "# in fact, this is just the last time the bams were modified, the samples were run earlier in the year, see below\n",
    "coverage_df_RMA.date.unique()"
   ]
  },
  {
   "cell_type": "markdown",
   "metadata": {},
   "source": [
    "## Gibbs Sampling\n"
   ]
  },
  {
   "cell_type": "markdown",
   "metadata": {},
   "source": [
    "The full gene product of DMD consists of 78 exons, each with its own copy number in each subject ($\\mathbf{C} = \\{c_1, c_2, ..., c_{78}\\}$), where $c_i \\in{1,2,3...}$ For this simple model, assume that the $c_i$ are distributed discrete uniformly with support $ \\{1,2,3\\}$. \n",
    "\n",
    "We also know \"intensity\" values across the exons $\\mathbf{X}= \\{x_1, x_2,..., x_{78}\\}$, and we let $$\\mathbf{P} = \\dfrac{\\mathbf{C}\\mathbf{X}}{\\sum_i c_ix_i} = \\{p_1, p_2, ..., p_{78}\\}$$ \n",
    "\n",
    "This generates probability values for the multinomial distribution from which we will sample the reads for a single simulated \"sequencing run\". \n",
    "\n",
    "Initialize the intensities $\\mathbf{X}$ (see X_probs above). Initialize $c_i$ values based on basic prior distribution. Assume 5000 reads per sample/subject and initialize a single sequencing run $Y = \\{y_1, y_2, ... y_{78}\\}$. When testing a real subject's data, we still use the known $\\mathbf{X}$ but use data $Y$ from the subject where $y_i$ represents the number of reads mapped to exon $i$.\n",
    "\n",
    "At each iteration $t$, sample $c_i^t$ from the posterior distribution\n",
    "$$f_{C^t|Y, C_{-i}^t}(c) = \\dfrac{\\Pi_{j=1}^{78} (p_j|c_i=c)^{y_j}}{\\sum_c \\Pi_{j=1}^{78} (p_j|c_i=c)^{y_j}} $$ \n",
    "where $$ C_{-i}^t = \\{ c_1^t,...c_{i-1}^t, c_{i+1}^{t-1}, ... c_{78}^{t-1} \\}$$\n",
    "\n",
    "Normally this expression would include the prior distribution over $c$ but it easily cancels out as the uniform. (This expression also does not include the multinomial constant). \n",
    "\n",
    "**Implementation considerations**: $\\Pi_j (p_j|c_i=c)^{y_j}$ can cause under/overflow in Python (or washout of values too close to 0), but trying to use the log of the posterior distribution leads to \n",
    "$$  \\sum y_j \\log (p_j|c_i=c) - \\log \\sum \\Pi_j (p_j|c_i=c)^{y_j}$$\n",
    "\n",
    "**Solution**: Convert to log space and divide by the maximal likelihood to normalize (and keep values from shrinking too close to 0):\n",
    "$$ \\dfrac{\\exp\\left(\\sum y_j \\log (p_j|c_i=c) - \\max_c \\sum y_j \\log (p_j|c_i=c)\\right)}{\\sum_c \\exp\\left(\\sum y_j \\log (p_j|c_i=c) - \\max_c \\sum y_j \\log (p_j|c_i=c)\\right)}$$ \n",
    "\n",
    "Store the $C^t$ values only for iterations $t=1000... 10,000$. This allows for a burn-in period of 1000 iterations during which the sampling distributions are likely to be least accurate. To reduce auto-correlation, only include every hundredth sampling in final analysis as well. For each exon $i$, count the proportions of samples falling into each possible copy number across the relevant subset of iterations. \n"
   ]
  },
  {
   "cell_type": "markdown",
   "metadata": {},
   "source": [
    "### Next Steps\n",
    "* Incorporate more complex and representative prior for the copy number distribution (in particular, there should be higher prior probability for 2 copies of exon)\n",
    "* Determine more accurate estimate of burn-in period (strange log-likelihood behavior, should converge as iterations increase)\n",
    "* Account for increased likelihood of copy number correlation between neighboring exons\n",
    "* Consider modifying prior for two exon deletion hotspots (around 45-50 and 18-20)\n",
    "* **Incorporate step for correcting for mixin-based discrepancies**\n"
   ]
  },
  {
   "cell_type": "code",
   "execution_count": 250,
   "metadata": {
    "collapsed": false
   },
   "outputs": [],
   "source": [
    "def generate_gibbs_df(cnv_support, X_probs, data=None, cnv=None, total_reads=5000, iterations=10000, burn_in=1000):\n",
    "    '''Performs Gibbs sampling given a support vector for CNVs, an intensity vector and subject data (optional)'''\n",
    "    if cnv is None:\n",
    "        # generate initial guess for exon copy numbers using uniform prior distribution\n",
    "        cnv = np.random.choice(cnv_support, size=len(X_probs)) \n",
    "    print cnv \n",
    "    normed_probs_first = np.multiply(cnv, X_probs) / np.sum(np.multiply(cnv, X_probs))\n",
    "    if data is None:\n",
    "        data = np.random.multinomial(total_reads, normed_probs_first)\n",
    "    gibbs_data = np.zeros((len(X_probs), iterations))\n",
    "    \n",
    "    likelihoods = np.zeros(iterations)\n",
    "    for i in range(iterations):\n",
    "        if (i+1) % (iterations / 20) == 0:\n",
    "            print 'Finished {} iterations'.format(i)\n",
    "        for exon in range(len(X_probs)):\n",
    "            test = np.zeros(len(cnv_support))\n",
    "            for value in cnv_support:\n",
    "                cnv[exon] = value\n",
    "                # get new normed probabilities given test value\n",
    "                normed_probs_test = np.multiply(cnv, X_probs) / np.sum(np.multiply(cnv, X_probs)) \n",
    "                log_likelihood =  np.sum(np.multiply(np.log(normed_probs_test), data))\n",
    "                test[value - 1] = log_likelihood\n",
    "            test = test - np.max(test)\n",
    "            sample_probs = np.exp(test)\n",
    "            sample_probs = sample_probs / np.sum(sample_probs)\n",
    "            new_cnv = np.random.choice(cnv_support, p = sample_probs)\n",
    "            cnv[exon] = new_cnv\n",
    "            gibbs_data[exon, i] = new_cnv\n",
    "        log_probs = np.log(np.multiply(cnv, X_probs) / np.sum(np.multiply(cnv, X_probs)))\n",
    "        likelihoods[i] = np.sum(np.multiply(log_probs, data))\n",
    "    \n",
    "    # get proportions using burn-in of 1000 iterations \n",
    "    gibbs_data_results = np.zeros((len(X_probs), len(cnv_support)))\n",
    "    for index in range(len(X_probs)):\n",
    "        # exclude samples before burn in and then take only every 100th sample to reduce autocorrelation\n",
    "        gibbs_slice = gibbs_data[index][burn_in:][::100]\n",
    "        gibbs_data_results[index] = np.bincount(gibbs_slice.astype(np.int64), \n",
    "                                                minlength=len(cnv_support)+1)[1:]\n",
    "    gibbs_data_results = gibbs_data_results / float(len(gibbs_slice))\n",
    "    \n",
    "    gibbs_df = pd.DataFrame(gibbs_data_results, columns =['copy_{}'.format(cnv) for cnv in cnv_support]).reset_index()\n",
    "    gibbs_df.rename(columns={'index': 'Exon'}, inplace=True)\n",
    "    gibbs_df.Exon = gibbs_df.Exon + 1\n",
    "    \n",
    "    return gibbs_data, gibbs_data_results, likelihoods, gibbs_df"
   ]
  },
  {
   "cell_type": "code",
   "execution_count": 251,
   "metadata": {
    "collapsed": false
   },
   "outputs": [
    {
     "name": "stdout",
     "output_type": "stream",
     "text": [
      "[2 2 2 2 1 3 3 2 1 2 1 3 3 1 3 2 1 2 3 2 1 3 3 1 2 2 3 1 1 1 3 2 3 1 2 1 3\n",
      " 1 3 3 1 2 1 2 3 1 1 2 1 3 2 3 3 1 3 3 3 2 2 3 3 3 1 3 1 3 3 3 2 2 1 1 2 3\n",
      " 3 1 1 1]\n",
      "Finished 499 iterations\n",
      "Finished 999 iterations\n",
      "Finished 1499 iterations\n",
      "Finished 1999 iterations\n",
      "Finished 2499 iterations\n",
      "Finished 2999 iterations\n",
      "Finished 3499 iterations\n",
      "Finished 3999 iterations\n",
      "Finished 4499 iterations\n",
      "Finished 4999 iterations\n",
      "Finished 5499 iterations\n",
      "Finished 5999 iterations\n",
      "Finished 6499 iterations\n",
      "Finished 6999 iterations\n",
      "Finished 7499 iterations\n",
      "Finished 7999 iterations\n",
      "Finished 8499 iterations\n",
      "Finished 8999 iterations\n",
      "Finished 9499 iterations\n",
      "Finished 9999 iterations\n"
     ]
    }
   ],
   "source": [
    "cnv_support = [1,2,3]\n",
    "gibbs_data2, gibbs_data_results2, logliks, gibbs_df2 = generate_gibbs_df(cnv_support, X_probs, total_reads=5000, \n",
    "                                                                        iterations=10000)"
   ]
  },
  {
   "cell_type": "code",
   "execution_count": 252,
   "metadata": {
    "collapsed": false
   },
   "outputs": [
    {
     "data": {
      "text/html": [
       "<div>\n",
       "<table border=\"1\" class=\"dataframe\">\n",
       "  <thead>\n",
       "    <tr style=\"text-align: right;\">\n",
       "      <th></th>\n",
       "      <th>Exon</th>\n",
       "      <th>copy_1</th>\n",
       "      <th>copy_2</th>\n",
       "      <th>copy_3</th>\n",
       "    </tr>\n",
       "  </thead>\n",
       "  <tbody>\n",
       "    <tr>\n",
       "      <th>0</th>\n",
       "      <td>1</td>\n",
       "      <td>0.000000</td>\n",
       "      <td>1.000000</td>\n",
       "      <td>0.000000</td>\n",
       "    </tr>\n",
       "    <tr>\n",
       "      <th>1</th>\n",
       "      <td>2</td>\n",
       "      <td>0.366667</td>\n",
       "      <td>0.522222</td>\n",
       "      <td>0.111111</td>\n",
       "    </tr>\n",
       "    <tr>\n",
       "      <th>2</th>\n",
       "      <td>3</td>\n",
       "      <td>0.000000</td>\n",
       "      <td>0.855556</td>\n",
       "      <td>0.144444</td>\n",
       "    </tr>\n",
       "    <tr>\n",
       "      <th>3</th>\n",
       "      <td>4</td>\n",
       "      <td>0.000000</td>\n",
       "      <td>1.000000</td>\n",
       "      <td>0.000000</td>\n",
       "    </tr>\n",
       "    <tr>\n",
       "      <th>4</th>\n",
       "      <td>5</td>\n",
       "      <td>1.000000</td>\n",
       "      <td>0.000000</td>\n",
       "      <td>0.000000</td>\n",
       "    </tr>\n",
       "    <tr>\n",
       "      <th>5</th>\n",
       "      <td>6</td>\n",
       "      <td>0.000000</td>\n",
       "      <td>0.000000</td>\n",
       "      <td>1.000000</td>\n",
       "    </tr>\n",
       "    <tr>\n",
       "      <th>6</th>\n",
       "      <td>7</td>\n",
       "      <td>0.000000</td>\n",
       "      <td>0.011111</td>\n",
       "      <td>0.988889</td>\n",
       "    </tr>\n",
       "    <tr>\n",
       "      <th>7</th>\n",
       "      <td>8</td>\n",
       "      <td>0.000000</td>\n",
       "      <td>1.000000</td>\n",
       "      <td>0.000000</td>\n",
       "    </tr>\n",
       "    <tr>\n",
       "      <th>8</th>\n",
       "      <td>9</td>\n",
       "      <td>0.822222</td>\n",
       "      <td>0.177778</td>\n",
       "      <td>0.000000</td>\n",
       "    </tr>\n",
       "    <tr>\n",
       "      <th>9</th>\n",
       "      <td>10</td>\n",
       "      <td>0.000000</td>\n",
       "      <td>1.000000</td>\n",
       "      <td>0.000000</td>\n",
       "    </tr>\n",
       "  </tbody>\n",
       "</table>\n",
       "</div>"
      ],
      "text/plain": [
       "   Exon    copy_1    copy_2    copy_3\n",
       "0     1  0.000000  1.000000  0.000000\n",
       "1     2  0.366667  0.522222  0.111111\n",
       "2     3  0.000000  0.855556  0.144444\n",
       "3     4  0.000000  1.000000  0.000000\n",
       "4     5  1.000000  0.000000  0.000000\n",
       "5     6  0.000000  0.000000  1.000000\n",
       "6     7  0.000000  0.011111  0.988889\n",
       "7     8  0.000000  1.000000  0.000000\n",
       "8     9  0.822222  0.177778  0.000000\n",
       "9    10  0.000000  1.000000  0.000000"
      ]
     },
     "execution_count": 252,
     "metadata": {},
     "output_type": "execute_result"
    }
   ],
   "source": [
    "gibbs_df2.head(10)"
   ]
  },
  {
   "cell_type": "code",
   "execution_count": 269,
   "metadata": {
    "collapsed": false
   },
   "outputs": [
    {
     "name": "stdout",
     "output_type": "stream",
     "text": [
      "[ True  True  True  True  True  True  True  True  True  True  True  True\n",
      "  True  True  True  True  True False  True  True  True  True  True  True\n",
      "  True  True  True  True  True  True  True  True  True  True  True  True\n",
      "  True  True  True  True False  True  True  True  True  True  True  True\n",
      "  True False  True  True  True  True  True  True  True  True  True  True\n",
      " False  True  True  True  True False  True False  True  True  True  True\n",
      "  True False False  True  True  True]\n",
      "[ True False False  True  True  True  True  True  True  True  True  True\n",
      "  True  True  True  True  True False  True  True  True  True  True  True\n",
      "  True  True  True  True  True  True  True  True  True  True  True  True\n",
      "  True  True  True  True False  True  True  True  True  True  True  True\n",
      "  True  True  True  True False  True  True  True  True  True False  True\n",
      "  True  True  True  True  True False  True  True  True  True  True  True\n",
      "  True False  True  True  True  True]\n",
      "[ True False  True  True  True  True  True  True  True  True  True  True\n",
      "  True  True  True  True  True False  True  True  True  True  True  True\n",
      "  True False  True  True  True  True  True  True  True  True  True  True\n",
      "  True  True  True  True  True  True  True  True  True  True  True  True\n",
      "  True  True  True  True False  True  True  True  True  True False  True\n",
      "  True  True  True  True  True  True  True  True  True  True  True  True\n",
      "  True False  True  True  True  True]\n"
     ]
    }
   ],
   "source": [
    "# trying to figure out why the log-likelihoods don't seem to increase significantly\n",
    "cnv9000 = gibbs_data2[:,9000]\n",
    "cnv9100 = gibbs_data2[:,9100]\n",
    "cnv9200 = gibbs_data2[:,9200]\n",
    "cnv9300 = gibbs_data2[:,9300]\n",
    "print cnv9000 == cnv9100\n",
    "print cnv9100 == cnv9200\n",
    "print cnv9200 == cnv9300"
   ]
  },
  {
   "cell_type": "code",
   "execution_count": 260,
   "metadata": {
    "collapsed": false
   },
   "outputs": [
    {
     "name": "stdout",
     "output_type": "stream",
     "text": [
      "[-20588.85187458 -20587.90233702 -20590.02351235 -20585.44453171\n",
      " -20587.79933716 -20588.6450237  -20587.16716169 -20584.54174261\n",
      " -20593.18970537 -20585.65857471]\n",
      "[-20593.4962198  -20587.63112981 -20591.03008159 -20587.3911948\n",
      " -20586.35380999 -20591.08132329 -20589.63450924 -20586.57994475\n",
      " -20593.51861308 -20588.83879327]\n"
     ]
    },
    {
     "data": {
      "text/plain": [
       "<function matplotlib.pyplot.show>"
      ]
     },
     "execution_count": 260,
     "metadata": {},
     "output_type": "execute_result"
    },
    {
     "data": {
      "image/png": "[encoded data removed]",
      "text/plain": [
       "<matplotlib.figure.Figure at 0x111fc3150>"
      ]
     },
     "metadata": {},
     "output_type": "display_data"
    },
    {
     "data": {
      "image/png": "[encoded data removed]",
      "text/plain": [
       "<matplotlib.figure.Figure at 0x116f61950>"
      ]
     },
     "metadata": {},
     "output_type": "display_data"
    }
   ],
   "source": [
    "print logliks[:10]\n",
    "print logliks[9990:]\n",
    "# why don't likelihoods converge as iterations continue?\n",
    "plt.figure()\n",
    "plt.plot(range(len(logliks[::100])), logliks[::100], '.')\n",
    "# plt.hist(logliks, bins=150)\n",
    "plt.figure()\n",
    "plt.plot(range(len(logliks)), logliks, '.')\n",
    "plt.show"
   ]
  },
  {
   "cell_type": "markdown",
   "metadata": {},
   "source": [
    "## Gibbs Sampling with simulated deletion data (with real subject templates)"
   ]
  },
  {
   "cell_type": "markdown",
   "metadata": {},
   "source": [
    "### Getting and cleaning subject data"
   ]
  },
  {
   "cell_type": "code",
   "execution_count": 372,
   "metadata": {
    "collapsed": false
   },
   "outputs": [],
   "source": [
    "simulated_muts = ['FPWB-0000-822R_4850_delPEM', 'FGPC-4ZPF-J0F1_1619_delPEM', 'FGPC-0000-444F_30_dupPEM',\n",
    "                  'FPWB-0000-822R', 'FGPC-4ZPF-J0F1', 'FGPC-0000-444F']\n",
    "# using Max's code to build coverage matrix from test subject bamfile\n",
    "base_headers = ['subject', 'specimen', 'sample', 'gender', 'sequencer', 'flow_cell_id', 'lane', 'date_modified']\n",
    "coverage_matrix = [base_headers + exon_labels]\n",
    "for filename in simulated_muts:\n",
    "    subject_coverages = {}\n",
    "    file_path = '../bams/{}.bam'.format(filename)\n",
    "    date_modified = os.path.getmtime(file_path)\n",
    "    bamfile = pysam.AlignmentFile(file_path, \"rb\")\n",
    "    for RG in bamfile.header['RG']:\n",
    "        orig_subject, specimen_sample, flow_cell_lane = RG['ID'].split('_')\n",
    "        subject = RG['SM']\n",
    "        gender = subject[0]\n",
    "        specimen_num, sequencer, sample = specimen_sample.split('-')\n",
    "        specimen = '{}_{}'.format(subject, specimen_num)\n",
    "        sample = '{}_{}'.format(subject, specimen_sample)\n",
    "        flow_cell_id, lane = flow_cell_lane.rsplit('-', 1)\n",
    "        row = [subject, specimen, sample, gender, sequencer, flow_cell_id, lane, date_modified]\n",
    "        subject_coverages[RG['ID']] = row + [0] * len(DMD_exons_merged)\n",
    "\n",
    "    for read in bamfile.fetch('X', start=31137345, end=33229636):\n",
    "        if not read.is_unmapped and read.mapping_quality == 60:\n",
    "            # Find what exon each read falls in, and increase that exon's coverage by 1\n",
    "            interval_info = util.in_interval(read.reference_start, DMD_exons_merged, get_interval=True)\n",
    "            if not interval_info[0]:\n",
    "                # If the start of the read is not in an exon, check the end of the read\n",
    "                interval_info = util.in_interval(read.reference_end, DMD_exons_merged, get_interval=True)\n",
    "            if interval_info[0]:\n",
    "                exon_num = interval_info[1]\n",
    "                subject_coverages[read.get_tag('RG')][exon_num + len(base_headers)] += 1\n",
    "\n",
    "    coverage_matrix += subject_coverages.values()\n",
    "coverage_matrix = np.array(coverage_matrix)"
   ]
  },
  {
   "cell_type": "code",
   "execution_count": 378,
   "metadata": {
    "collapsed": false
   },
   "outputs": [
    {
     "name": "stdout",
     "output_type": "stream",
     "text": [
      "['FPWB-0000-822R_del' 'FGPC-4ZPF-J0F1_del' 'FGPC-0000-444F_dup'\n",
      " 'FPWB-0000-822R' 'FGPC-4ZPF-J0F1' 'FGPC-0000-444F']\n",
      "[datetime.date(2017, 2, 17) datetime.date(2016, 6, 25)\n",
      " datetime.date(2016, 6, 24)]\n"
     ]
    }
   ],
   "source": [
    "test_subjects = pd.DataFrame(coverage_matrix[1:], columns=coverage_matrix[0])\n",
    "test_subjects_num = test_subjects.apply(lambda x: pd.to_numeric(x, errors='ignore'))\n",
    "test_subjects_num.date_modified = pd.to_datetime(test_subjects_num.date_modified, unit='s')\n",
    "test_subjects_num['date'] = test_subjects_num.date_modified.dt.date\n",
    "print test_subjects_num.subject.unique()\n",
    "print test_subjects_num.date.unique()\n",
    "#test_subjects_num.head(25)"
   ]
  },
  {
   "cell_type": "markdown",
   "metadata": {},
   "source": [
    "### Checking dates for subjects used for simulations \n",
    "Even though these dates indicate that the original bams were generated around the same dates as the RMA subjects (June 24-25, 2016), these files must have been modified after their initial generation. \n",
    "* Subject FGPC-0000-444F was actually created in GIST in May 2015 - sample was run in October 2015, run 69\n",
    "* Subject FGPC-4ZPF-J0F1 was created in GIST in Feb. 2016 -- sample was run in Feb 2016, part of run 79\n",
    "* Subject FPWB-0000-822R was created in GIST April 2015 - but sample was run Jan 2016, part of run 77\n",
    "\n",
    "RMA subjects sequenced around March 2016 - runs 80-81"
   ]
  },
  {
   "cell_type": "code",
   "execution_count": 330,
   "metadata": {
    "collapsed": false
   },
   "outputs": [],
   "source": [
    "subject_norm, subject_counts = reshape_df(test_subjects_num, df_counts_wanted=True)"
   ]
  },
  {
   "cell_type": "code",
   "execution_count": 341,
   "metadata": {
    "collapsed": false
   },
   "outputs": [
    {
     "data": {
      "text/html": [
       "<div>\n",
       "<table border=\"1\" class=\"dataframe\">\n",
       "  <thead>\n",
       "    <tr style=\"text-align: right;\">\n",
       "      <th>subject</th>\n",
       "      <th>Exon</th>\n",
       "      <th>FGPC-0000-444F</th>\n",
       "      <th>FGPC-0000-444F_dup</th>\n",
       "      <th>FGPC-4ZPF-J0F1</th>\n",
       "      <th>FGPC-4ZPF-J0F1_del</th>\n",
       "      <th>FPWB-0000-822R</th>\n",
       "      <th>FPWB-0000-822R_del</th>\n",
       "    </tr>\n",
       "  </thead>\n",
       "  <tbody>\n",
       "    <tr>\n",
       "      <th>0</th>\n",
       "      <td>Ex1</td>\n",
       "      <td>0.043713</td>\n",
       "      <td>0.043581</td>\n",
       "      <td>0.052746</td>\n",
       "      <td>0.053373</td>\n",
       "      <td>0.049208</td>\n",
       "      <td>0.050400</td>\n",
       "    </tr>\n",
       "    <tr>\n",
       "      <th>1</th>\n",
       "      <td>Ex2</td>\n",
       "      <td>0.001987</td>\n",
       "      <td>0.001981</td>\n",
       "      <td>0.001056</td>\n",
       "      <td>0.001068</td>\n",
       "      <td>0.001088</td>\n",
       "      <td>0.001114</td>\n",
       "    </tr>\n",
       "    <tr>\n",
       "      <th>2</th>\n",
       "      <td>Ex3</td>\n",
       "      <td>0.010340</td>\n",
       "      <td>0.010309</td>\n",
       "      <td>0.010236</td>\n",
       "      <td>0.010357</td>\n",
       "      <td>0.010712</td>\n",
       "      <td>0.010971</td>\n",
       "    </tr>\n",
       "    <tr>\n",
       "      <th>3</th>\n",
       "      <td>Ex4</td>\n",
       "      <td>0.016667</td>\n",
       "      <td>0.016617</td>\n",
       "      <td>0.016345</td>\n",
       "      <td>0.016539</td>\n",
       "      <td>0.017155</td>\n",
       "      <td>0.017571</td>\n",
       "    </tr>\n",
       "    <tr>\n",
       "      <th>4</th>\n",
       "      <td>Ex5</td>\n",
       "      <td>0.011401</td>\n",
       "      <td>0.011366</td>\n",
       "      <td>0.012091</td>\n",
       "      <td>0.012235</td>\n",
       "      <td>0.010168</td>\n",
       "      <td>0.010414</td>\n",
       "    </tr>\n",
       "    <tr>\n",
       "      <th>5</th>\n",
       "      <td>Ex6</td>\n",
       "      <td>0.013774</td>\n",
       "      <td>0.013732</td>\n",
       "      <td>0.017721</td>\n",
       "      <td>0.017931</td>\n",
       "      <td>0.018952</td>\n",
       "      <td>0.019411</td>\n",
       "    </tr>\n",
       "    <tr>\n",
       "      <th>6</th>\n",
       "      <td>Ex7</td>\n",
       "      <td>0.017478</td>\n",
       "      <td>0.017425</td>\n",
       "      <td>0.015610</td>\n",
       "      <td>0.015795</td>\n",
       "      <td>0.016282</td>\n",
       "      <td>0.016676</td>\n",
       "    </tr>\n",
       "    <tr>\n",
       "      <th>7</th>\n",
       "      <td>Ex8</td>\n",
       "      <td>0.011864</td>\n",
       "      <td>0.011828</td>\n",
       "      <td>0.011643</td>\n",
       "      <td>0.011781</td>\n",
       "      <td>0.011618</td>\n",
       "      <td>0.011900</td>\n",
       "    </tr>\n",
       "    <tr>\n",
       "      <th>8</th>\n",
       "      <td>Ex9</td>\n",
       "      <td>0.004630</td>\n",
       "      <td>0.004616</td>\n",
       "      <td>0.004510</td>\n",
       "      <td>0.004564</td>\n",
       "      <td>0.003873</td>\n",
       "      <td>0.003967</td>\n",
       "    </tr>\n",
       "    <tr>\n",
       "      <th>9</th>\n",
       "      <td>Ex10</td>\n",
       "      <td>0.013137</td>\n",
       "      <td>0.013097</td>\n",
       "      <td>0.014234</td>\n",
       "      <td>0.014403</td>\n",
       "      <td>0.015178</td>\n",
       "      <td>0.015545</td>\n",
       "    </tr>\n",
       "    <tr>\n",
       "      <th>10</th>\n",
       "      <td>Ex11</td>\n",
       "      <td>0.010996</td>\n",
       "      <td>0.010963</td>\n",
       "      <td>0.009660</td>\n",
       "      <td>0.009775</td>\n",
       "      <td>0.010053</td>\n",
       "      <td>0.010296</td>\n",
       "    </tr>\n",
       "    <tr>\n",
       "      <th>11</th>\n",
       "      <td>Ex12</td>\n",
       "      <td>0.010012</td>\n",
       "      <td>0.009982</td>\n",
       "      <td>0.008444</td>\n",
       "      <td>0.008545</td>\n",
       "      <td>0.008635</td>\n",
       "      <td>0.008844</td>\n",
       "    </tr>\n",
       "    <tr>\n",
       "      <th>12</th>\n",
       "      <td>Ex13</td>\n",
       "      <td>0.008546</td>\n",
       "      <td>0.008520</td>\n",
       "      <td>0.009980</td>\n",
       "      <td>0.010098</td>\n",
       "      <td>0.008207</td>\n",
       "      <td>0.008406</td>\n",
       "    </tr>\n",
       "    <tr>\n",
       "      <th>13</th>\n",
       "      <td>Ex14</td>\n",
       "      <td>0.007331</td>\n",
       "      <td>0.007308</td>\n",
       "      <td>0.006589</td>\n",
       "      <td>0.006668</td>\n",
       "      <td>0.005850</td>\n",
       "      <td>0.005992</td>\n",
       "    </tr>\n",
       "    <tr>\n",
       "      <th>14</th>\n",
       "      <td>Ex15</td>\n",
       "      <td>0.013542</td>\n",
       "      <td>0.013501</td>\n",
       "      <td>0.014394</td>\n",
       "      <td>0.014565</td>\n",
       "      <td>0.017880</td>\n",
       "      <td>0.018313</td>\n",
       "    </tr>\n",
       "    <tr>\n",
       "      <th>15</th>\n",
       "      <td>Ex16</td>\n",
       "      <td>0.006115</td>\n",
       "      <td>0.006097</td>\n",
       "      <td>0.007325</td>\n",
       "      <td>0.004790</td>\n",
       "      <td>0.008207</td>\n",
       "      <td>0.008406</td>\n",
       "    </tr>\n",
       "    <tr>\n",
       "      <th>16</th>\n",
       "      <td>Ex17</td>\n",
       "      <td>0.009993</td>\n",
       "      <td>0.009962</td>\n",
       "      <td>0.008860</td>\n",
       "      <td>0.006376</td>\n",
       "      <td>0.010893</td>\n",
       "      <td>0.011157</td>\n",
       "    </tr>\n",
       "    <tr>\n",
       "      <th>17</th>\n",
       "      <td>Ex18</td>\n",
       "      <td>0.006327</td>\n",
       "      <td>0.006308</td>\n",
       "      <td>0.003934</td>\n",
       "      <td>0.002589</td>\n",
       "      <td>0.004861</td>\n",
       "      <td>0.004979</td>\n",
       "    </tr>\n",
       "    <tr>\n",
       "      <th>18</th>\n",
       "      <td>Ex19</td>\n",
       "      <td>0.013021</td>\n",
       "      <td>0.012982</td>\n",
       "      <td>0.011355</td>\n",
       "      <td>0.006214</td>\n",
       "      <td>0.010053</td>\n",
       "      <td>0.010296</td>\n",
       "    </tr>\n",
       "    <tr>\n",
       "      <th>19</th>\n",
       "      <td>Ex20</td>\n",
       "      <td>0.031000</td>\n",
       "      <td>0.030907</td>\n",
       "      <td>0.026133</td>\n",
       "      <td>0.026444</td>\n",
       "      <td>0.028279</td>\n",
       "      <td>0.028964</td>\n",
       "    </tr>\n",
       "    <tr>\n",
       "      <th>20</th>\n",
       "      <td>Ex21</td>\n",
       "      <td>0.012809</td>\n",
       "      <td>0.012770</td>\n",
       "      <td>0.011579</td>\n",
       "      <td>0.011717</td>\n",
       "      <td>0.013151</td>\n",
       "      <td>0.013469</td>\n",
       "    </tr>\n",
       "    <tr>\n",
       "      <th>21</th>\n",
       "      <td>Ex22</td>\n",
       "      <td>0.016802</td>\n",
       "      <td>0.016752</td>\n",
       "      <td>0.018136</td>\n",
       "      <td>0.018352</td>\n",
       "      <td>0.014947</td>\n",
       "      <td>0.015309</td>\n",
       "    </tr>\n",
       "    <tr>\n",
       "      <th>22</th>\n",
       "      <td>Ex23</td>\n",
       "      <td>0.012134</td>\n",
       "      <td>0.012097</td>\n",
       "      <td>0.010652</td>\n",
       "      <td>0.010778</td>\n",
       "      <td>0.012788</td>\n",
       "      <td>0.013098</td>\n",
       "    </tr>\n",
       "    <tr>\n",
       "      <th>23</th>\n",
       "      <td>Ex24</td>\n",
       "      <td>0.010436</td>\n",
       "      <td>0.010405</td>\n",
       "      <td>0.010268</td>\n",
       "      <td>0.010390</td>\n",
       "      <td>0.009723</td>\n",
       "      <td>0.009958</td>\n",
       "    </tr>\n",
       "    <tr>\n",
       "      <th>24</th>\n",
       "      <td>Ex25</td>\n",
       "      <td>0.026409</td>\n",
       "      <td>0.026329</td>\n",
       "      <td>0.025429</td>\n",
       "      <td>0.025731</td>\n",
       "      <td>0.026730</td>\n",
       "      <td>0.027377</td>\n",
       "    </tr>\n",
       "    <tr>\n",
       "      <th>25</th>\n",
       "      <td>Ex26</td>\n",
       "      <td>0.010764</td>\n",
       "      <td>0.010732</td>\n",
       "      <td>0.010971</td>\n",
       "      <td>0.011102</td>\n",
       "      <td>0.010679</td>\n",
       "      <td>0.010937</td>\n",
       "    </tr>\n",
       "    <tr>\n",
       "      <th>26</th>\n",
       "      <td>Ex27</td>\n",
       "      <td>0.020468</td>\n",
       "      <td>0.020406</td>\n",
       "      <td>0.023254</td>\n",
       "      <td>0.023531</td>\n",
       "      <td>0.018935</td>\n",
       "      <td>0.019394</td>\n",
       "    </tr>\n",
       "    <tr>\n",
       "      <th>27</th>\n",
       "      <td>Ex28</td>\n",
       "      <td>0.008719</td>\n",
       "      <td>0.008693</td>\n",
       "      <td>0.011259</td>\n",
       "      <td>0.011393</td>\n",
       "      <td>0.008240</td>\n",
       "      <td>0.008439</td>\n",
       "    </tr>\n",
       "    <tr>\n",
       "      <th>28</th>\n",
       "      <td>Ex29</td>\n",
       "      <td>0.015838</td>\n",
       "      <td>0.015790</td>\n",
       "      <td>0.015290</td>\n",
       "      <td>0.015471</td>\n",
       "      <td>0.016216</td>\n",
       "      <td>0.016609</td>\n",
       "    </tr>\n",
       "    <tr>\n",
       "      <th>29</th>\n",
       "      <td>Ex30</td>\n",
       "      <td>0.008141</td>\n",
       "      <td>0.011136</td>\n",
       "      <td>0.007101</td>\n",
       "      <td>0.007185</td>\n",
       "      <td>0.006938</td>\n",
       "      <td>0.007106</td>\n",
       "    </tr>\n",
       "    <tr>\n",
       "      <th>...</th>\n",
       "      <td>...</td>\n",
       "      <td>...</td>\n",
       "      <td>...</td>\n",
       "      <td>...</td>\n",
       "      <td>...</td>\n",
       "      <td>...</td>\n",
       "      <td>...</td>\n",
       "    </tr>\n",
       "    <tr>\n",
       "      <th>48</th>\n",
       "      <td>Ex49</td>\n",
       "      <td>0.020487</td>\n",
       "      <td>0.020425</td>\n",
       "      <td>0.020344</td>\n",
       "      <td>0.020585</td>\n",
       "      <td>0.019858</td>\n",
       "      <td>0.009351</td>\n",
       "    </tr>\n",
       "    <tr>\n",
       "      <th>49</th>\n",
       "      <td>Ex50</td>\n",
       "      <td>0.008758</td>\n",
       "      <td>0.008732</td>\n",
       "      <td>0.008413</td>\n",
       "      <td>0.008512</td>\n",
       "      <td>0.008948</td>\n",
       "      <td>0.003545</td>\n",
       "    </tr>\n",
       "    <tr>\n",
       "      <th>50</th>\n",
       "      <td>Ex51</td>\n",
       "      <td>0.010533</td>\n",
       "      <td>0.010501</td>\n",
       "      <td>0.009180</td>\n",
       "      <td>0.009289</td>\n",
       "      <td>0.009113</td>\n",
       "      <td>0.009334</td>\n",
       "    </tr>\n",
       "    <tr>\n",
       "      <th>51</th>\n",
       "      <td>Ex52</td>\n",
       "      <td>0.007581</td>\n",
       "      <td>0.007558</td>\n",
       "      <td>0.006941</td>\n",
       "      <td>0.007024</td>\n",
       "      <td>0.006493</td>\n",
       "      <td>0.006650</td>\n",
       "    </tr>\n",
       "    <tr>\n",
       "      <th>52</th>\n",
       "      <td>Ex53</td>\n",
       "      <td>0.018539</td>\n",
       "      <td>0.018483</td>\n",
       "      <td>0.016441</td>\n",
       "      <td>0.016636</td>\n",
       "      <td>0.019100</td>\n",
       "      <td>0.019563</td>\n",
       "    </tr>\n",
       "    <tr>\n",
       "      <th>53</th>\n",
       "      <td>Ex54</td>\n",
       "      <td>0.008006</td>\n",
       "      <td>0.007982</td>\n",
       "      <td>0.009500</td>\n",
       "      <td>0.009613</td>\n",
       "      <td>0.008372</td>\n",
       "      <td>0.008574</td>\n",
       "    </tr>\n",
       "    <tr>\n",
       "      <th>54</th>\n",
       "      <td>Ex55</td>\n",
       "      <td>0.023072</td>\n",
       "      <td>0.023002</td>\n",
       "      <td>0.020024</td>\n",
       "      <td>0.020262</td>\n",
       "      <td>0.020006</td>\n",
       "      <td>0.020491</td>\n",
       "    </tr>\n",
       "    <tr>\n",
       "      <th>55</th>\n",
       "      <td>Ex56</td>\n",
       "      <td>0.006405</td>\n",
       "      <td>0.006385</td>\n",
       "      <td>0.006269</td>\n",
       "      <td>0.006344</td>\n",
       "      <td>0.006987</td>\n",
       "      <td>0.007157</td>\n",
       "    </tr>\n",
       "    <tr>\n",
       "      <th>56</th>\n",
       "      <td>Ex57</td>\n",
       "      <td>0.007986</td>\n",
       "      <td>0.007962</td>\n",
       "      <td>0.007901</td>\n",
       "      <td>0.007995</td>\n",
       "      <td>0.007745</td>\n",
       "      <td>0.007933</td>\n",
       "    </tr>\n",
       "    <tr>\n",
       "      <th>57</th>\n",
       "      <td>Ex58</td>\n",
       "      <td>0.009626</td>\n",
       "      <td>0.009597</td>\n",
       "      <td>0.008700</td>\n",
       "      <td>0.008804</td>\n",
       "      <td>0.008009</td>\n",
       "      <td>0.008203</td>\n",
       "    </tr>\n",
       "    <tr>\n",
       "      <th>58</th>\n",
       "      <td>Ex59</td>\n",
       "      <td>0.012713</td>\n",
       "      <td>0.012674</td>\n",
       "      <td>0.013306</td>\n",
       "      <td>0.013465</td>\n",
       "      <td>0.012772</td>\n",
       "      <td>0.013081</td>\n",
       "    </tr>\n",
       "    <tr>\n",
       "      <th>59</th>\n",
       "      <td>Ex60</td>\n",
       "      <td>0.020603</td>\n",
       "      <td>0.020540</td>\n",
       "      <td>0.020599</td>\n",
       "      <td>0.020844</td>\n",
       "      <td>0.021786</td>\n",
       "      <td>0.022314</td>\n",
       "    </tr>\n",
       "    <tr>\n",
       "      <th>60</th>\n",
       "      <td>Ex61</td>\n",
       "      <td>0.008199</td>\n",
       "      <td>0.008174</td>\n",
       "      <td>0.007357</td>\n",
       "      <td>0.007444</td>\n",
       "      <td>0.008734</td>\n",
       "      <td>0.008946</td>\n",
       "    </tr>\n",
       "    <tr>\n",
       "      <th>61</th>\n",
       "      <td>Ex62</td>\n",
       "      <td>0.016281</td>\n",
       "      <td>0.016232</td>\n",
       "      <td>0.015450</td>\n",
       "      <td>0.015633</td>\n",
       "      <td>0.016315</td>\n",
       "      <td>0.016710</td>\n",
       "    </tr>\n",
       "    <tr>\n",
       "      <th>62</th>\n",
       "      <td>Ex63</td>\n",
       "      <td>0.007041</td>\n",
       "      <td>0.007020</td>\n",
       "      <td>0.009820</td>\n",
       "      <td>0.009937</td>\n",
       "      <td>0.009163</td>\n",
       "      <td>0.009385</td>\n",
       "    </tr>\n",
       "    <tr>\n",
       "      <th>63</th>\n",
       "      <td>Ex64</td>\n",
       "      <td>0.013735</td>\n",
       "      <td>0.013694</td>\n",
       "      <td>0.013626</td>\n",
       "      <td>0.013788</td>\n",
       "      <td>0.013118</td>\n",
       "      <td>0.013436</td>\n",
       "    </tr>\n",
       "    <tr>\n",
       "      <th>64</th>\n",
       "      <td>Ex65|66</td>\n",
       "      <td>0.019831</td>\n",
       "      <td>0.019771</td>\n",
       "      <td>0.024502</td>\n",
       "      <td>0.024793</td>\n",
       "      <td>0.022182</td>\n",
       "      <td>0.022719</td>\n",
       "    </tr>\n",
       "    <tr>\n",
       "      <th>65</th>\n",
       "      <td>Ex67</td>\n",
       "      <td>0.013311</td>\n",
       "      <td>0.013271</td>\n",
       "      <td>0.011739</td>\n",
       "      <td>0.011879</td>\n",
       "      <td>0.012557</td>\n",
       "      <td>0.012862</td>\n",
       "    </tr>\n",
       "    <tr>\n",
       "      <th>66</th>\n",
       "      <td>Ex68</td>\n",
       "      <td>0.020217</td>\n",
       "      <td>0.020156</td>\n",
       "      <td>0.017817</td>\n",
       "      <td>0.018028</td>\n",
       "      <td>0.020319</td>\n",
       "      <td>0.020812</td>\n",
       "    </tr>\n",
       "    <tr>\n",
       "      <th>67</th>\n",
       "      <td>Ex69</td>\n",
       "      <td>0.009761</td>\n",
       "      <td>0.009732</td>\n",
       "      <td>0.009212</td>\n",
       "      <td>0.009322</td>\n",
       "      <td>0.009937</td>\n",
       "      <td>0.010178</td>\n",
       "    </tr>\n",
       "    <tr>\n",
       "      <th>68</th>\n",
       "      <td>Ex70</td>\n",
       "      <td>0.012713</td>\n",
       "      <td>0.012674</td>\n",
       "      <td>0.011099</td>\n",
       "      <td>0.011231</td>\n",
       "      <td>0.013167</td>\n",
       "      <td>0.013486</td>\n",
       "    </tr>\n",
       "    <tr>\n",
       "      <th>69</th>\n",
       "      <td>Ex71</td>\n",
       "      <td>0.004958</td>\n",
       "      <td>0.004943</td>\n",
       "      <td>0.005246</td>\n",
       "      <td>0.005308</td>\n",
       "      <td>0.005389</td>\n",
       "      <td>0.005519</td>\n",
       "    </tr>\n",
       "    <tr>\n",
       "      <th>70</th>\n",
       "      <td>Ex72</td>\n",
       "      <td>0.014063</td>\n",
       "      <td>0.014021</td>\n",
       "      <td>0.014138</td>\n",
       "      <td>0.014306</td>\n",
       "      <td>0.012492</td>\n",
       "      <td>0.012794</td>\n",
       "    </tr>\n",
       "    <tr>\n",
       "      <th>71</th>\n",
       "      <td>Ex73</td>\n",
       "      <td>0.008662</td>\n",
       "      <td>0.008635</td>\n",
       "      <td>0.008508</td>\n",
       "      <td>0.008610</td>\n",
       "      <td>0.006559</td>\n",
       "      <td>0.006718</td>\n",
       "    </tr>\n",
       "    <tr>\n",
       "      <th>72</th>\n",
       "      <td>Ex74</td>\n",
       "      <td>0.016339</td>\n",
       "      <td>0.016290</td>\n",
       "      <td>0.014906</td>\n",
       "      <td>0.015083</td>\n",
       "      <td>0.016315</td>\n",
       "      <td>0.016710</td>\n",
       "    </tr>\n",
       "    <tr>\n",
       "      <th>73</th>\n",
       "      <td>Ex75</td>\n",
       "      <td>0.007408</td>\n",
       "      <td>0.007385</td>\n",
       "      <td>0.006845</td>\n",
       "      <td>0.006926</td>\n",
       "      <td>0.006015</td>\n",
       "      <td>0.006161</td>\n",
       "    </tr>\n",
       "    <tr>\n",
       "      <th>74</th>\n",
       "      <td>Ex76</td>\n",
       "      <td>0.004495</td>\n",
       "      <td>0.004481</td>\n",
       "      <td>0.003806</td>\n",
       "      <td>0.003852</td>\n",
       "      <td>0.004515</td>\n",
       "      <td>0.004625</td>\n",
       "    </tr>\n",
       "    <tr>\n",
       "      <th>75</th>\n",
       "      <td>Ex77</td>\n",
       "      <td>0.011112</td>\n",
       "      <td>0.011078</td>\n",
       "      <td>0.011835</td>\n",
       "      <td>0.011976</td>\n",
       "      <td>0.010959</td>\n",
       "      <td>0.011224</td>\n",
       "    </tr>\n",
       "    <tr>\n",
       "      <th>76</th>\n",
       "      <td>Ex78</td>\n",
       "      <td>0.002643</td>\n",
       "      <td>0.002635</td>\n",
       "      <td>0.002655</td>\n",
       "      <td>0.002686</td>\n",
       "      <td>0.002406</td>\n",
       "      <td>0.002464</td>\n",
       "    </tr>\n",
       "    <tr>\n",
       "      <th>77</th>\n",
       "      <td>Ex79</td>\n",
       "      <td>0.010649</td>\n",
       "      <td>0.010616</td>\n",
       "      <td>0.014266</td>\n",
       "      <td>0.014436</td>\n",
       "      <td>0.011470</td>\n",
       "      <td>0.011748</td>\n",
       "    </tr>\n",
       "  </tbody>\n",
       "</table>\n",
       "<p>78 rows × 7 columns</p>\n",
       "</div>"
      ],
      "text/plain": [
       "subject     Exon  FGPC-0000-444F  FGPC-0000-444F_dup  FGPC-4ZPF-J0F1  \\\n",
       "0            Ex1        0.043713            0.043581        0.052746   \n",
       "1            Ex2        0.001987            0.001981        0.001056   \n",
       "2            Ex3        0.010340            0.010309        0.010236   \n",
       "3            Ex4        0.016667            0.016617        0.016345   \n",
       "4            Ex5        0.011401            0.011366        0.012091   \n",
       "5            Ex6        0.013774            0.013732        0.017721   \n",
       "6            Ex7        0.017478            0.017425        0.015610   \n",
       "7            Ex8        0.011864            0.011828        0.011643   \n",
       "8            Ex9        0.004630            0.004616        0.004510   \n",
       "9           Ex10        0.013137            0.013097        0.014234   \n",
       "10          Ex11        0.010996            0.010963        0.009660   \n",
       "11          Ex12        0.010012            0.009982        0.008444   \n",
       "12          Ex13        0.008546            0.008520        0.009980   \n",
       "13          Ex14        0.007331            0.007308        0.006589   \n",
       "14          Ex15        0.013542            0.013501        0.014394   \n",
       "15          Ex16        0.006115            0.006097        0.007325   \n",
       "16          Ex17        0.009993            0.009962        0.008860   \n",
       "17          Ex18        0.006327            0.006308        0.003934   \n",
       "18          Ex19        0.013021            0.012982        0.011355   \n",
       "19          Ex20        0.031000            0.030907        0.026133   \n",
       "20          Ex21        0.012809            0.012770        0.011579   \n",
       "21          Ex22        0.016802            0.016752        0.018136   \n",
       "22          Ex23        0.012134            0.012097        0.010652   \n",
       "23          Ex24        0.010436            0.010405        0.010268   \n",
       "24          Ex25        0.026409            0.026329        0.025429   \n",
       "25          Ex26        0.010764            0.010732        0.010971   \n",
       "26          Ex27        0.020468            0.020406        0.023254   \n",
       "27          Ex28        0.008719            0.008693        0.011259   \n",
       "28          Ex29        0.015838            0.015790        0.015290   \n",
       "29          Ex30        0.008141            0.011136        0.007101   \n",
       "..           ...             ...                 ...             ...   \n",
       "48          Ex49        0.020487            0.020425        0.020344   \n",
       "49          Ex50        0.008758            0.008732        0.008413   \n",
       "50          Ex51        0.010533            0.010501        0.009180   \n",
       "51          Ex52        0.007581            0.007558        0.006941   \n",
       "52          Ex53        0.018539            0.018483        0.016441   \n",
       "53          Ex54        0.008006            0.007982        0.009500   \n",
       "54          Ex55        0.023072            0.023002        0.020024   \n",
       "55          Ex56        0.006405            0.006385        0.006269   \n",
       "56          Ex57        0.007986            0.007962        0.007901   \n",
       "57          Ex58        0.009626            0.009597        0.008700   \n",
       "58          Ex59        0.012713            0.012674        0.013306   \n",
       "59          Ex60        0.020603            0.020540        0.020599   \n",
       "60          Ex61        0.008199            0.008174        0.007357   \n",
       "61          Ex62        0.016281            0.016232        0.015450   \n",
       "62          Ex63        0.007041            0.007020        0.009820   \n",
       "63          Ex64        0.013735            0.013694        0.013626   \n",
       "64       Ex65|66        0.019831            0.019771        0.024502   \n",
       "65          Ex67        0.013311            0.013271        0.011739   \n",
       "66          Ex68        0.020217            0.020156        0.017817   \n",
       "67          Ex69        0.009761            0.009732        0.009212   \n",
       "68          Ex70        0.012713            0.012674        0.011099   \n",
       "69          Ex71        0.004958            0.004943        0.005246   \n",
       "70          Ex72        0.014063            0.014021        0.014138   \n",
       "71          Ex73        0.008662            0.008635        0.008508   \n",
       "72          Ex74        0.016339            0.016290        0.014906   \n",
       "73          Ex75        0.007408            0.007385        0.006845   \n",
       "74          Ex76        0.004495            0.004481        0.003806   \n",
       "75          Ex77        0.011112            0.011078        0.011835   \n",
       "76          Ex78        0.002643            0.002635        0.002655   \n",
       "77          Ex79        0.010649            0.010616        0.014266   \n",
       "\n",
       "subject  FGPC-4ZPF-J0F1_del  FPWB-0000-822R  FPWB-0000-822R_del  \n",
       "0                  0.053373        0.049208            0.050400  \n",
       "1                  0.001068        0.001088            0.001114  \n",
       "2                  0.010357        0.010712            0.010971  \n",
       "3                  0.016539        0.017155            0.017571  \n",
       "4                  0.012235        0.010168            0.010414  \n",
       "5                  0.017931        0.018952            0.019411  \n",
       "6                  0.015795        0.016282            0.016676  \n",
       "7                  0.011781        0.011618            0.011900  \n",
       "8                  0.004564        0.003873            0.003967  \n",
       "9                  0.014403        0.015178            0.015545  \n",
       "10                 0.009775        0.010053            0.010296  \n",
       "11                 0.008545        0.008635            0.008844  \n",
       "12                 0.010098        0.008207            0.008406  \n",
       "13                 0.006668        0.005850            0.005992  \n",
       "14                 0.014565        0.017880            0.018313  \n",
       "15                 0.004790        0.008207            0.008406  \n",
       "16                 0.006376        0.010893            0.011157  \n",
       "17                 0.002589        0.004861            0.004979  \n",
       "18                 0.006214        0.010053            0.010296  \n",
       "19                 0.026444        0.028279            0.028964  \n",
       "20                 0.011717        0.013151            0.013469  \n",
       "21                 0.018352        0.014947            0.015309  \n",
       "22                 0.010778        0.012788            0.013098  \n",
       "23                 0.010390        0.009723            0.009958  \n",
       "24                 0.025731        0.026730            0.027377  \n",
       "25                 0.011102        0.010679            0.010937  \n",
       "26                 0.023531        0.018935            0.019394  \n",
       "27                 0.011393        0.008240            0.008439  \n",
       "28                 0.015471        0.016216            0.016609  \n",
       "29                 0.007185        0.006938            0.007106  \n",
       "..                      ...             ...                 ...  \n",
       "48                 0.020585        0.019858            0.009351  \n",
       "49                 0.008512        0.008948            0.003545  \n",
       "50                 0.009289        0.009113            0.009334  \n",
       "51                 0.007024        0.006493            0.006650  \n",
       "52                 0.016636        0.019100            0.019563  \n",
       "53                 0.009613        0.008372            0.008574  \n",
       "54                 0.020262        0.020006            0.020491  \n",
       "55                 0.006344        0.006987            0.007157  \n",
       "56                 0.007995        0.007745            0.007933  \n",
       "57                 0.008804        0.008009            0.008203  \n",
       "58                 0.013465        0.012772            0.013081  \n",
       "59                 0.020844        0.021786            0.022314  \n",
       "60                 0.007444        0.008734            0.008946  \n",
       "61                 0.015633        0.016315            0.016710  \n",
       "62                 0.009937        0.009163            0.009385  \n",
       "63                 0.013788        0.013118            0.013436  \n",
       "64                 0.024793        0.022182            0.022719  \n",
       "65                 0.011879        0.012557            0.012862  \n",
       "66                 0.018028        0.020319            0.020812  \n",
       "67                 0.009322        0.009937            0.010178  \n",
       "68                 0.011231        0.013167            0.013486  \n",
       "69                 0.005308        0.005389            0.005519  \n",
       "70                 0.014306        0.012492            0.012794  \n",
       "71                 0.008610        0.006559            0.006718  \n",
       "72                 0.015083        0.016315            0.016710  \n",
       "73                 0.006926        0.006015            0.006161  \n",
       "74                 0.003852        0.004515            0.004625  \n",
       "75                 0.011976        0.010959            0.011224  \n",
       "76                 0.002686        0.002406            0.002464  \n",
       "77                 0.014436        0.011470            0.011748  \n",
       "\n",
       "[78 rows x 7 columns]"
      ]
     },
     "execution_count": 341,
     "metadata": {},
     "output_type": "execute_result"
    }
   ],
   "source": [
    "subject_norm.head(78)"
   ]
  },
  {
   "cell_type": "code",
   "execution_count": 333,
   "metadata": {
    "collapsed": false
   },
   "outputs": [
    {
     "data": {
      "text/html": [
       "<div>\n",
       "<table border=\"1\" class=\"dataframe\">\n",
       "  <thead>\n",
       "    <tr style=\"text-align: right;\">\n",
       "      <th></th>\n",
       "      <th>Ex1</th>\n",
       "      <th>Ex2</th>\n",
       "      <th>Ex3</th>\n",
       "      <th>Ex4</th>\n",
       "      <th>Ex5</th>\n",
       "      <th>Ex6</th>\n",
       "      <th>Ex7</th>\n",
       "      <th>Ex8</th>\n",
       "      <th>Ex9</th>\n",
       "      <th>Ex10</th>\n",
       "      <th>...</th>\n",
       "      <th>Ex70</th>\n",
       "      <th>Ex71</th>\n",
       "      <th>Ex72</th>\n",
       "      <th>Ex73</th>\n",
       "      <th>Ex74</th>\n",
       "      <th>Ex75</th>\n",
       "      <th>Ex76</th>\n",
       "      <th>Ex77</th>\n",
       "      <th>Ex78</th>\n",
       "      <th>Ex79</th>\n",
       "    </tr>\n",
       "    <tr>\n",
       "      <th>subject</th>\n",
       "      <th></th>\n",
       "      <th></th>\n",
       "      <th></th>\n",
       "      <th></th>\n",
       "      <th></th>\n",
       "      <th></th>\n",
       "      <th></th>\n",
       "      <th></th>\n",
       "      <th></th>\n",
       "      <th></th>\n",
       "      <th></th>\n",
       "      <th></th>\n",
       "      <th></th>\n",
       "      <th></th>\n",
       "      <th></th>\n",
       "      <th></th>\n",
       "      <th></th>\n",
       "      <th></th>\n",
       "      <th></th>\n",
       "      <th></th>\n",
       "      <th></th>\n",
       "    </tr>\n",
       "  </thead>\n",
       "  <tbody>\n",
       "    <tr>\n",
       "      <th>FGPC-0000-444F</th>\n",
       "      <td>2266</td>\n",
       "      <td>103</td>\n",
       "      <td>536</td>\n",
       "      <td>864</td>\n",
       "      <td>591</td>\n",
       "      <td>714</td>\n",
       "      <td>906</td>\n",
       "      <td>615</td>\n",
       "      <td>240</td>\n",
       "      <td>681</td>\n",
       "      <td>...</td>\n",
       "      <td>659</td>\n",
       "      <td>257</td>\n",
       "      <td>729</td>\n",
       "      <td>449</td>\n",
       "      <td>847</td>\n",
       "      <td>384</td>\n",
       "      <td>233</td>\n",
       "      <td>576</td>\n",
       "      <td>137</td>\n",
       "      <td>552</td>\n",
       "    </tr>\n",
       "    <tr>\n",
       "      <th>FGPC-0000-444F_dup</th>\n",
       "      <td>2266</td>\n",
       "      <td>103</td>\n",
       "      <td>536</td>\n",
       "      <td>864</td>\n",
       "      <td>591</td>\n",
       "      <td>714</td>\n",
       "      <td>906</td>\n",
       "      <td>615</td>\n",
       "      <td>240</td>\n",
       "      <td>681</td>\n",
       "      <td>...</td>\n",
       "      <td>659</td>\n",
       "      <td>257</td>\n",
       "      <td>729</td>\n",
       "      <td>449</td>\n",
       "      <td>847</td>\n",
       "      <td>384</td>\n",
       "      <td>233</td>\n",
       "      <td>576</td>\n",
       "      <td>137</td>\n",
       "      <td>552</td>\n",
       "    </tr>\n",
       "    <tr>\n",
       "      <th>FGPC-4ZPF-J0F1</th>\n",
       "      <td>1649</td>\n",
       "      <td>33</td>\n",
       "      <td>320</td>\n",
       "      <td>511</td>\n",
       "      <td>378</td>\n",
       "      <td>554</td>\n",
       "      <td>488</td>\n",
       "      <td>364</td>\n",
       "      <td>141</td>\n",
       "      <td>445</td>\n",
       "      <td>...</td>\n",
       "      <td>347</td>\n",
       "      <td>164</td>\n",
       "      <td>442</td>\n",
       "      <td>266</td>\n",
       "      <td>466</td>\n",
       "      <td>214</td>\n",
       "      <td>119</td>\n",
       "      <td>370</td>\n",
       "      <td>83</td>\n",
       "      <td>446</td>\n",
       "    </tr>\n",
       "    <tr>\n",
       "      <th>FGPC-4ZPF-J0F1_del</th>\n",
       "      <td>1649</td>\n",
       "      <td>33</td>\n",
       "      <td>320</td>\n",
       "      <td>511</td>\n",
       "      <td>378</td>\n",
       "      <td>554</td>\n",
       "      <td>488</td>\n",
       "      <td>364</td>\n",
       "      <td>141</td>\n",
       "      <td>445</td>\n",
       "      <td>...</td>\n",
       "      <td>347</td>\n",
       "      <td>164</td>\n",
       "      <td>442</td>\n",
       "      <td>266</td>\n",
       "      <td>466</td>\n",
       "      <td>214</td>\n",
       "      <td>119</td>\n",
       "      <td>370</td>\n",
       "      <td>83</td>\n",
       "      <td>446</td>\n",
       "    </tr>\n",
       "    <tr>\n",
       "      <th>FPWB-0000-822R</th>\n",
       "      <td>2986</td>\n",
       "      <td>66</td>\n",
       "      <td>650</td>\n",
       "      <td>1041</td>\n",
       "      <td>617</td>\n",
       "      <td>1150</td>\n",
       "      <td>988</td>\n",
       "      <td>705</td>\n",
       "      <td>235</td>\n",
       "      <td>921</td>\n",
       "      <td>...</td>\n",
       "      <td>799</td>\n",
       "      <td>327</td>\n",
       "      <td>758</td>\n",
       "      <td>398</td>\n",
       "      <td>990</td>\n",
       "      <td>365</td>\n",
       "      <td>274</td>\n",
       "      <td>665</td>\n",
       "      <td>146</td>\n",
       "      <td>696</td>\n",
       "    </tr>\n",
       "  </tbody>\n",
       "</table>\n",
       "<p>5 rows × 78 columns</p>\n",
       "</div>"
      ],
      "text/plain": [
       "                     Ex1  Ex2  Ex3   Ex4  Ex5   Ex6  Ex7  Ex8  Ex9  Ex10  \\\n",
       "subject                                                                    \n",
       "FGPC-0000-444F      2266  103  536   864  591   714  906  615  240   681   \n",
       "FGPC-0000-444F_dup  2266  103  536   864  591   714  906  615  240   681   \n",
       "FGPC-4ZPF-J0F1      1649   33  320   511  378   554  488  364  141   445   \n",
       "FGPC-4ZPF-J0F1_del  1649   33  320   511  378   554  488  364  141   445   \n",
       "FPWB-0000-822R      2986   66  650  1041  617  1150  988  705  235   921   \n",
       "\n",
       "                    ...   Ex70  Ex71  Ex72  Ex73  Ex74  Ex75  Ex76  Ex77  \\\n",
       "subject             ...                                                    \n",
       "FGPC-0000-444F      ...    659   257   729   449   847   384   233   576   \n",
       "FGPC-0000-444F_dup  ...    659   257   729   449   847   384   233   576   \n",
       "FGPC-4ZPF-J0F1      ...    347   164   442   266   466   214   119   370   \n",
       "FGPC-4ZPF-J0F1_del  ...    347   164   442   266   466   214   119   370   \n",
       "FPWB-0000-822R      ...    799   327   758   398   990   365   274   665   \n",
       "\n",
       "                    Ex78  Ex79  \n",
       "subject                         \n",
       "FGPC-0000-444F       137   552  \n",
       "FGPC-0000-444F_dup   137   552  \n",
       "FGPC-4ZPF-J0F1        83   446  \n",
       "FGPC-4ZPF-J0F1_del    83   446  \n",
       "FPWB-0000-822R       146   696  \n",
       "\n",
       "[5 rows x 78 columns]"
      ]
     },
     "execution_count": 333,
     "metadata": {},
     "output_type": "execute_result"
    }
   ],
   "source": [
    "subject_counts.head()"
   ]
  },
  {
   "cell_type": "code",
   "execution_count": 344,
   "metadata": {
    "collapsed": false
   },
   "outputs": [
    {
     "name": "stdout",
     "output_type": "stream",
     "text": [
      "FGPC-0000-444F total reads: 51838\n",
      "FGPC-0000-444F_dup total reads: 51995\n",
      "FGPC-4ZPF-J0F1 total reads: 31263\n",
      "FGPC-4ZPF-J0F1_del total reads: 30896\n",
      "FPWB-0000-822R total reads: 60681\n",
      "FPWB-0000-822R_del total reads: 59246\n"
     ]
    }
   ],
   "source": [
    "# get number of reads for each subject\n",
    "for i in range(len(subject_counts)):\n",
    "    print '{} total reads: {}'.format(subject_counts.index[i], np.sum(np.array(subject_counts.iloc[i])))"
   ]
  },
  {
   "cell_type": "code",
   "execution_count": 300,
   "metadata": {
    "collapsed": false
   },
   "outputs": [
    {
     "name": "stdout",
     "output_type": "stream",
     "text": [
      "[2986   66  650 1041  617 1150  988  705  235  921  610  524  498  355 1085\n",
      "  498  661  295  610 1716  798  907  776  590 1622  648 1149  500  984  421\n",
      "  541  648 1263  538  741  717  802  501  689  761  654  561  944  860 1775\n",
      "  585 1372  360  630  222  553  394 1159  508 1214  424  470  486  775 1322\n",
      "  530  990  556  796 1346  762 1233  603  799  327  758  398  990  365  274\n",
      "  665  146  696]\n"
     ]
    }
   ],
   "source": [
    "subject_data = np.array(subject_counts.loc['FPWB-0000-822R_del'])\n",
    "print subject_data\n",
    "subject_data_half = subject_data / 2\n",
    "subject_data_sixth = subject_data / 6"
   ]
  },
  {
   "cell_type": "code",
   "execution_count": null,
   "metadata": {
    "collapsed": true
   },
   "outputs": [],
   "source": [
    "subject_data_del16 = np.array(subject_counts.loc['FGPC-4ZPF-J0F1_del'])\n",
    "subject_data_dup30 = np.array(subject_counts.loc['FGPC-0000-444F_dup'])"
   ]
  },
  {
   "cell_type": "markdown",
   "metadata": {},
   "source": [
    "## Running Gibbs Sampler (simulated deletion 48-50), subject FPWB-0000-822R\n",
    "\n",
    "We run the Gibbs sampler on a subject with a simulated deletion in exons 48-50. We continue to use the female RMA mean exon coverage ratios as our known exon intensity vector (note that this subject was not an RMA subject). Both the RMA samples and this subject's samples were run using a mix-in panel (M1). The sampler is seeded with a probable expected cnv vector (all copy numbers initialized to 2 -- see df_822R) and a randomly generated cnv vector (see df_822R2). As expected, this did not affect the final probability averages. This subject has a very large number of reads (~60k), so we also simulate an analogous subject with half and 1/6th the total coverage (see df_822R3, df_822R4). As expected, this generated more uncertainty in the final results."
   ]
  },
  {
   "cell_type": "code",
   "execution_count": 214,
   "metadata": {
    "collapsed": true
   },
   "outputs": [],
   "source": [
    "norm_start = 2 * np.ones(78).astype(np.int64)"
   ]
  },
  {
   "cell_type": "code",
   "execution_count": 238,
   "metadata": {
    "collapsed": false,
    "scrolled": true
   },
   "outputs": [
    {
     "name": "stdout",
     "output_type": "stream",
     "text": [
      "[2 2 2 2 2 2 2 2 2 2 2 2 2 2 2 2 2 2 2 2 2 2 2 2 2 2 2 2 2 2 2 2 2 2 2 2 2\n",
      " 2 2 2 2 2 2 2 2 2 2 2 2 2 2 2 2 2 2 2 2 2 2 2 2 2 2 2 2 2 2 2 2 2 2 2 2 2\n",
      " 2 2 2 2]\n",
      "Finished 499 iterations\n",
      "Finished 999 iterations\n",
      "Finished 1499 iterations\n",
      "Finished 1999 iterations\n",
      "Finished 2499 iterations\n",
      "Finished 2999 iterations\n",
      "Finished 3499 iterations\n",
      "Finished 3999 iterations\n",
      "Finished 4499 iterations\n",
      "Finished 4999 iterations\n",
      "Finished 5499 iterations\n",
      "Finished 5999 iterations\n",
      "Finished 6499 iterations\n",
      "Finished 6999 iterations\n",
      "Finished 7499 iterations\n",
      "Finished 7999 iterations\n",
      "Finished 8499 iterations\n",
      "Finished 8999 iterations\n",
      "Finished 9499 iterations\n",
      "Finished 9999 iterations\n"
     ]
    }
   ],
   "source": [
    "# with norm (most probable) starting cnv distribution\n",
    "cnv_support = [1,2,3]\n",
    "norm_start = 2 * np.ones(78).astype(np.int64)\n",
    "gibbs_data_822R, gibbs_data_results_822R, logliks_822R, gibbs_df_822R = generate_gibbs_df(cnv_support, \n",
    "                                                                        X_probs, cnv=norm_start, data=subject_data, \n",
    "                                                                        iterations=10000)"
   ]
  },
  {
   "cell_type": "code",
   "execution_count": 230,
   "metadata": {
    "collapsed": false,
    "scrolled": true
   },
   "outputs": [
    {
     "name": "stdout",
     "output_type": "stream",
     "text": [
      "[2 2 1 2 2 1 1 2 3 2 3 2 2 3 1 2 2 2 2 1 2 1 2 2 2 1 2 3 1 1 3 3 2 1 3 2 3\n",
      " 2 3 1 2 1 3 2 1 3 2 1 2 1 3 1 3 1 3 1 3 1 2 3 3 3 1 2 3 3 2 2 3 2 3 1 3 2\n",
      " 2 1 1 3]\n",
      "Finished 499 iterations\n",
      "Finished 999 iterations\n",
      "Finished 1499 iterations\n",
      "Finished 1999 iterations\n",
      "Finished 2499 iterations\n",
      "Finished 2999 iterations\n",
      "Finished 3499 iterations\n",
      "Finished 3999 iterations\n",
      "Finished 4499 iterations\n",
      "Finished 4999 iterations\n",
      "Finished 5499 iterations\n",
      "Finished 5999 iterations\n",
      "Finished 6499 iterations\n",
      "Finished 6999 iterations\n",
      "Finished 7499 iterations\n",
      "Finished 7999 iterations\n",
      "Finished 8499 iterations\n",
      "Finished 8999 iterations\n",
      "Finished 9499 iterations\n",
      "Finished 9999 iterations\n",
      "90\n"
     ]
    }
   ],
   "source": [
    "# with random cnv distribution\n",
    "cnv_support = [1,2,3]\n",
    "gibbs_data_822R2, gibbs_data_results_822R2, logliks_822R2, gibbs_df_822R2 = generate_gibbs_df(cnv_support, \n",
    "                                                                        X_probs, data=subject_data, \n",
    "                                                                        iterations=10000)"
   ]
  },
  {
   "cell_type": "code",
   "execution_count": 239,
   "metadata": {
    "collapsed": false,
    "scrolled": true
   },
   "outputs": [
    {
     "name": "stdout",
     "output_type": "stream",
     "text": [
      "[2 2 2 2 2 2 2 2 2 2 2 2 2 2 2 2 2 2 2 2 2 2 2 2 2 2 2 2 2 2 2 2 2 2 2 2 2\n",
      " 2 2 2 2 2 2 2 2 2 2 2 2 2 2 2 2 2 2 2 2 2 2 2 2 2 2 2 2 2 2 2 2 2 2 2 2 2\n",
      " 2 2 2 2]\n",
      "Finished 499 iterations\n",
      "Finished 999 iterations\n",
      "Finished 1499 iterations\n",
      "Finished 1999 iterations\n",
      "Finished 2499 iterations\n",
      "Finished 2999 iterations\n",
      "Finished 3499 iterations\n",
      "Finished 3999 iterations\n",
      "Finished 4499 iterations\n",
      "Finished 4999 iterations\n",
      "Finished 5499 iterations\n",
      "Finished 5999 iterations\n",
      "Finished 6499 iterations\n",
      "Finished 6999 iterations\n",
      "Finished 7499 iterations\n",
      "Finished 7999 iterations\n",
      "Finished 8499 iterations\n",
      "Finished 8999 iterations\n",
      "Finished 9499 iterations\n",
      "Finished 9999 iterations\n"
     ]
    }
   ],
   "source": [
    "# with norm starting cnvs and half the subject's original coverage\n",
    "cnv_support = [1,2,3]\n",
    "norm_start = 2 * np.ones(78).astype(np.int64)\n",
    "gibbs_data_822R3, gibbs_data_results_822R3, logliks_822R3, gibbs_df_822R3 = generate_gibbs_df(cnv_support, \n",
    "                                                                        X_probs, cnv=norm_start, \n",
    "                                                                        data=subject_data_half, \n",
    "                                                                        iterations=10000)"
   ]
  },
  {
   "cell_type": "code",
   "execution_count": 240,
   "metadata": {
    "collapsed": false,
    "scrolled": true
   },
   "outputs": [
    {
     "name": "stdout",
     "output_type": "stream",
     "text": [
      "[2 1 1 3 2 1 3 1 2 2 2 1 3 1 3 3 2 3 2 3 2 2 2 2 1 1 3 2 3 2 3 2 2 3 2 3 1\n",
      " 2 2 2 1 2 2 2 2 1 3 1 2 1 3 3 2 2 3 3 1 1 1 3 1 3 1 2 2 1 1 2 1 2 1 1 1 2\n",
      " 3 1 1 2]\n",
      "Finished 499 iterations\n",
      "Finished 999 iterations\n",
      "Finished 1499 iterations\n",
      "Finished 1999 iterations\n",
      "Finished 2499 iterations\n",
      "Finished 2999 iterations\n",
      "Finished 3499 iterations\n",
      "Finished 3999 iterations\n",
      "Finished 4499 iterations\n",
      "Finished 4999 iterations\n",
      "Finished 5499 iterations\n",
      "Finished 5999 iterations\n",
      "Finished 6499 iterations\n",
      "Finished 6999 iterations\n",
      "Finished 7499 iterations\n",
      "Finished 7999 iterations\n",
      "Finished 8499 iterations\n",
      "Finished 8999 iterations\n",
      "Finished 9499 iterations\n",
      "Finished 9999 iterations\n"
     ]
    }
   ],
   "source": [
    "# with random starting cnvs and one sixth the subject's original coverage\n",
    "cnv_support = [1,2,3]\n",
    "gibbs_data_822R4, gibbs_data_results_822R4, logliks_822R4, gibbs_df_822R4 = generate_gibbs_df(cnv_support, \n",
    "                                                                        X_probs,  \n",
    "                                                                        data=subject_data_sixth, \n",
    "                                                                        iterations=10000)"
   ]
  },
  {
   "cell_type": "markdown",
   "metadata": {},
   "source": [
    "## Investigation into convergence"
   ]
  },
  {
   "cell_type": "code",
   "execution_count": 389,
   "metadata": {
    "collapsed": false
   },
   "outputs": [
    {
     "name": "stdout",
     "output_type": "stream",
     "text": [
      "10000\n"
     ]
    },
    {
     "data": {
      "image/png": "[encoded data removed]",
      "text/plain": [
       "<matplotlib.figure.Figure at 0x111eb5850>"
      ]
     },
     "metadata": {},
     "output_type": "display_data"
    },
    {
     "data": {
      "image/png": "[encoded data removed]",
      "text/plain": [
       "<matplotlib.figure.Figure at 0x114f325d0>"
      ]
     },
     "metadata": {},
     "output_type": "display_data"
    }
   ],
   "source": [
    "# again, no convergence?? has it already mostly converged?\n",
    "plt.figure()\n",
    "plt.plot(range(len(logliks_822R4[::100])), logliks_822R4[::100], '.')\n",
    "plt.xlabel('Iteration'), plt.ylabel('Log Likelihood')\n",
    "plt.figure()\n",
    "plt.hist(logliks_822R4, bins=150)\n",
    "plt.xlabel('Log Likelihoods')\n",
    "print len(logliks_822R4)"
   ]
  },
  {
   "cell_type": "code",
   "execution_count": 217,
   "metadata": {
    "collapsed": true
   },
   "outputs": [],
   "source": [
    "# reference: http://chrisalbon.com/python/matplotlib_percentage_stacked_bar_plot.html\n",
    "def create_stacked_bars(df, title): \n",
    "    f, ax = plt.subplots(1, figsize=(10,5))\n",
    "    bar_width = 1\n",
    "\n",
    "    bar_l = [i for i in range(len(df['copy_1']))] \n",
    "    tick_pos = [i + bar_width for i in bar_l] \n",
    "\n",
    "    # loop through these later\n",
    "    # Create a bar chart in position bar_1\n",
    "    ax.bar(bar_l, df.copy_1, label='1 Copy', alpha=0.9, color='#019600', width=bar_width, edgecolor='white')\n",
    "\n",
    "    ax.bar(bar_l, df.copy_2, bottom=df.copy_1, label='2 Copy', alpha=0.9, color='#3C5F5A', width=bar_width,\n",
    "           edgecolor='white')\n",
    "\n",
    "    ax.bar(bar_l, df.copy_3, bottom=[i+j for i,j in zip(df.copy_1, df.copy_2)], label='3 Copy',\n",
    "           alpha=0.9, color='#219AD8', width=bar_width, edgecolor='white')\n",
    "\n",
    "    plt.xticks(tick_pos, df['Exon'])\n",
    "    ax.set_ylabel(\"Probabilities\")\n",
    "    ax.set_xlabel(\"Exons\")\n",
    "\n",
    "    plt.xlim([min(tick_pos)-2*bar_width, max(tick_pos)+bar_width])\n",
    "    plt.ylim(-0.1, 1.1)\n",
    "\n",
    "    plt.setp(plt.gca().get_xticklabels(), rotation=90, horizontalalignment='right')\n",
    "    plt.legend(loc='upper center', bbox_to_anchor=(0.5, -0.1),\n",
    "               fancybox=True, shadow=True, ncol=3)\n",
    "    plt.title(title)\n",
    "    plt.show()"
   ]
  },
  {
   "cell_type": "markdown",
   "metadata": {},
   "source": [
    "## Visualizing Results"
   ]
  },
  {
   "cell_type": "code",
   "execution_count": 241,
   "metadata": {
    "collapsed": false
   },
   "outputs": [
    {
     "data": {
      "image/png": "[encoded data removed]",
      "text/plain": [
       "<matplotlib.figure.Figure at 0x1121f7950>"
      ]
     },
     "metadata": {},
     "output_type": "display_data"
    }
   ],
   "source": [
    "# note that this subject has a simulated deletion in exons 48-50 -- Gibbs sampler run with normed start values\n",
    "create_stacked_bars(gibbs_df_822R, 'Del 48-50, expected cnv start values')"
   ]
  },
  {
   "cell_type": "code",
   "execution_count": 242,
   "metadata": {
    "collapsed": false
   },
   "outputs": [
    {
     "data": {
      "image/png": "[encoded data removed]",
      "text/plain": [
       "<matplotlib.figure.Figure at 0x113c55210>"
      ]
     },
     "metadata": {},
     "output_type": "display_data"
    }
   ],
   "source": [
    "# note that this subject has a simulated deletion in exons 48-50 -- Gibbs sampler run with random start values\n",
    "create_stacked_bars(gibbs_df_822R2, 'Del 48-50, random cnv start values')"
   ]
  },
  {
   "cell_type": "code",
   "execution_count": 243,
   "metadata": {
    "collapsed": false
   },
   "outputs": [
    {
     "data": {
      "image/png": "[encoded data removed]",
      "text/plain": [
       "<matplotlib.figure.Figure at 0x11257e950>"
      ]
     },
     "metadata": {},
     "output_type": "display_data"
    }
   ],
   "source": [
    "# note that this subject has a simulated deletion in exons 48-50 \n",
    "create_stacked_bars(gibbs_df_822R3, 'Del 48-50, expected cnv start values, half coverage')"
   ]
  },
  {
   "cell_type": "markdown",
   "metadata": {},
   "source": [
    "Poor coverage of exons 2 and 78 has likely led to increased probabilities of abnormal copy numbers in these exons. Note that exon 65 is actually 65 and 66, so later exon labels are 1 off."
   ]
  },
  {
   "cell_type": "code",
   "execution_count": 244,
   "metadata": {
    "collapsed": false
   },
   "outputs": [
    {
     "data": {
      "image/png": "[encoded data removed]",
      "text/plain": [
       "<matplotlib.figure.Figure at 0x1125571d0>"
      ]
     },
     "metadata": {},
     "output_type": "display_data"
    }
   ],
   "source": [
    "# note that this subject has a simulated deletion in exons 48-50 \n",
    "create_stacked_bars(gibbs_df_822R4, 'Del 48-50, random cnv start values, sixth coverage')"
   ]
  },
  {
   "cell_type": "markdown",
   "metadata": {},
   "source": [
    "## Results for simulated deletion (exons 16-19), subject FGPC-4ZPF-J0F1"
   ]
  },
  {
   "cell_type": "code",
   "execution_count": 303,
   "metadata": {
    "collapsed": false,
    "scrolled": true
   },
   "outputs": [
    {
     "name": "stdout",
     "output_type": "stream",
     "text": [
      "[3 3 3 1 1 1 1 3 2 2 3 2 3 3 3 3 3 2 3 1 3 3 1 3 3 2 3 2 1 2 1 3 1 3 3 1 2\n",
      " 2 2 1 1 3 3 1 1 1 2 1 2 1 2 2 3 2 3 2 1 3 2 3 3 3 2 1 2 2 2 1 2 3 3 3 1 3\n",
      " 2 3 1 1]\n",
      "Finished 499 iterations\n",
      "Finished 999 iterations\n",
      "Finished 1499 iterations\n",
      "Finished 1999 iterations\n",
      "Finished 2499 iterations\n",
      "Finished 2999 iterations\n",
      "Finished 3499 iterations\n",
      "Finished 3999 iterations\n",
      "Finished 4499 iterations\n",
      "Finished 4999 iterations\n",
      "Finished 5499 iterations\n",
      "Finished 5999 iterations\n",
      "Finished 6499 iterations\n",
      "Finished 6999 iterations\n",
      "Finished 7499 iterations\n",
      "Finished 7999 iterations\n",
      "Finished 8499 iterations\n",
      "Finished 8999 iterations\n",
      "Finished 9499 iterations\n",
      "Finished 9999 iterations\n"
     ]
    }
   ],
   "source": [
    "cnv_support = [1,2,3]\n",
    "gibbs_data_J0F1, gibbs_data_results_J0F1, logliks_J0F1, gibbs_df_J0F1 = generate_gibbs_df(cnv_support, \n",
    "                                                                        X_probs, data=subject_data_del16, \n",
    "                                                                        iterations=10000)"
   ]
  },
  {
   "cell_type": "code",
   "execution_count": 304,
   "metadata": {
    "collapsed": false
   },
   "outputs": [
    {
     "data": {
      "image/png": "[encoded data removed]",
      "text/plain": [
       "<matplotlib.figure.Figure at 0x115139290>"
      ]
     },
     "metadata": {},
     "output_type": "display_data"
    }
   ],
   "source": [
    "create_stacked_bars(gibbs_df_J0F1, 'Del 16-19, random cnv start values, full coverage')"
   ]
  },
  {
   "cell_type": "markdown",
   "metadata": {},
   "source": [
    "### Comments\n",
    "* Seem to have several false duplications called here"
   ]
  },
  {
   "cell_type": "markdown",
   "metadata": {},
   "source": [
    "## Results for simulated duplication (exon 30), subject FGPC-0000-444F"
   ]
  },
  {
   "cell_type": "code",
   "execution_count": 305,
   "metadata": {
    "collapsed": false,
    "scrolled": true
   },
   "outputs": [
    {
     "name": "stdout",
     "output_type": "stream",
     "text": [
      "[1 1 2 2 2 2 3 3 2 1 2 1 3 1 1 1 3 1 1 2 3 2 2 1 3 3 2 1 1 3 2 2 2 3 3 3 3\n",
      " 1 2 3 1 1 2 2 3 2 2 1 1 1 2 1 3 2 2 2 1 2 2 1 3 3 3 2 2 1 2 2 2 3 2 2 1 2\n",
      " 3 1 2 1]\n",
      "Finished 499 iterations\n",
      "Finished 999 iterations\n",
      "Finished 1499 iterations\n",
      "Finished 1999 iterations\n",
      "Finished 2499 iterations\n",
      "Finished 2999 iterations\n",
      "Finished 3499 iterations\n",
      "Finished 3999 iterations\n",
      "Finished 4499 iterations\n",
      "Finished 4999 iterations\n",
      "Finished 5499 iterations\n",
      "Finished 5999 iterations\n",
      "Finished 6499 iterations\n",
      "Finished 6999 iterations\n",
      "Finished 7499 iterations\n",
      "Finished 7999 iterations\n",
      "Finished 8499 iterations\n",
      "Finished 8999 iterations\n",
      "Finished 9499 iterations\n",
      "Finished 9999 iterations\n"
     ]
    }
   ],
   "source": [
    "cnv_support = [1,2,3]\n",
    "gibbs_data_444F, gibbs_data_results_444F, logliks_444F, gibbs_df_444F = generate_gibbs_df(cnv_support, \n",
    "                                                                        X_probs, data=subject_data_dup30, \n",
    "                                                                        iterations=10000)"
   ]
  },
  {
   "cell_type": "code",
   "execution_count": 306,
   "metadata": {
    "collapsed": false
   },
   "outputs": [
    {
     "data": {
      "image/png": "[encoded data removed]",
      "text/plain": [
       "<matplotlib.figure.Figure at 0x113e6e650>"
      ]
     },
     "metadata": {},
     "output_type": "display_data"
    }
   ],
   "source": [
    "create_stacked_bars(gibbs_df_444F, 'Dup 30, random cnv start values, full coverage')"
   ]
  },
  {
   "cell_type": "markdown",
   "metadata": {},
   "source": [
    "## Comparing to subjects' original data (without mutations)\n",
    "\n",
    "The original subject data does not produce significantly different results outside of the simulated mutation regions, though subjects J0F1 and 444F both still show elevated exon coverage in several exons -- likely due to mixin batch effects?"
   ]
  },
  {
   "cell_type": "code",
   "execution_count": 346,
   "metadata": {
    "collapsed": true
   },
   "outputs": [],
   "source": [
    "subject_data_J0F1 = np.array(subject_counts.loc['FGPC-4ZPF-J0F1'])\n",
    "subject_data_444F = np.array(subject_counts.loc['FGPC-0000-444F'])\n",
    "subject_data_822R = np.array(subject_counts.loc['FPWB-0000-822R'])"
   ]
  },
  {
   "cell_type": "code",
   "execution_count": 349,
   "metadata": {
    "collapsed": false
   },
   "outputs": [
    {
     "name": "stdout",
     "output_type": "stream",
     "text": [
      "[3 1 3 3 3 2 2 1 1 2 1 1 1 1 1 3 1 1 1 3 2 1 3 3 1 2 1 2 3 1 3 3 1 1 1 3 3\n",
      " 2 1 2 2 1 1 2 3 3 3 1 1 2 1 3 3 3 2 2 2 3 2 2 2 2 2 3 2 1 2 2 1 1 2 2 3 3\n",
      " 1 1 3 2]\n",
      "Finished 499 iterations\n",
      "Finished 999 iterations\n",
      "Finished 1499 iterations\n",
      "Finished 1999 iterations\n",
      "Finished 2499 iterations\n",
      "Finished 2999 iterations\n",
      "Finished 3499 iterations\n",
      "Finished 3999 iterations\n",
      "Finished 4499 iterations\n",
      "Finished 4999 iterations\n",
      "Finished 5499 iterations\n",
      "Finished 5999 iterations\n",
      "Finished 6499 iterations\n",
      "Finished 6999 iterations\n",
      "Finished 7499 iterations\n",
      "Finished 7999 iterations\n",
      "Finished 8499 iterations\n",
      "Finished 8999 iterations\n",
      "Finished 9499 iterations\n",
      "Finished 9999 iterations\n"
     ]
    }
   ],
   "source": [
    "cnv_support = [1,2,3]\n",
    "gibbs_data_822Rc, gibbs_data_results_822Rc, logliks_822Rc, gibbs_df_822Rc = generate_gibbs_df(cnv_support, \n",
    "                                                                        X_probs, data=subject_data_822R, \n",
    "                                                                        iterations=10000)"
   ]
  },
  {
   "cell_type": "code",
   "execution_count": 350,
   "metadata": {
    "collapsed": false
   },
   "outputs": [
    {
     "data": {
      "image/png": "[encoded data removed]",
      "text/plain": [
       "<matplotlib.figure.Figure at 0x11257e610>"
      ]
     },
     "metadata": {},
     "output_type": "display_data"
    }
   ],
   "source": [
    "create_stacked_bars(gibbs_df_822Rc, 'Sub 822R, random cnv start values, full coverage')"
   ]
  },
  {
   "cell_type": "code",
   "execution_count": 393,
   "metadata": {
    "collapsed": false
   },
   "outputs": [
    {
     "name": "stdout",
     "output_type": "stream",
     "text": [
      "[3 2 3 2 1 3 3 3 1 1 2 3 1 3 2 1 2 2 1 1 1 3 3 2 2 3 1 1 1 1 1 1 3 1 1 3 1\n",
      " 2 2 1 3 2 2 3 3 2 1 3 1 3 2 3 3 1 2 1 1 1 2 1 3 1 2 2 1 3 3 2 1 2 1 3 2 1\n",
      " 3 1 3 2]\n",
      "Finished 499 iterations\n",
      "Finished 999 iterations\n",
      "Finished 1499 iterations\n",
      "Finished 1999 iterations\n",
      "Finished 2499 iterations\n",
      "Finished 2999 iterations\n",
      "Finished 3499 iterations\n",
      "Finished 3999 iterations\n",
      "Finished 4499 iterations\n",
      "Finished 4999 iterations\n",
      "Finished 5499 iterations\n",
      "Finished 5999 iterations\n",
      "Finished 6499 iterations\n",
      "Finished 6999 iterations\n",
      "Finished 7499 iterations\n",
      "Finished 7999 iterations\n",
      "Finished 8499 iterations\n",
      "Finished 8999 iterations\n",
      "Finished 9499 iterations\n",
      "Finished 9999 iterations\n",
      "CPU times: user 54.7 s, sys: 590 ms, total: 55.3 s\n",
      "Wall time: 56.2 s\n"
     ]
    }
   ],
   "source": [
    "%%time\n",
    "cnv_support = [1,2,3]\n",
    "gibbs_data_J0F12, gibbs_data_results_J0F12, logliks_J0F12, gibbs_df_J0F12 = generate_gibbs_df(cnv_support, \n",
    "                                                                        X_probs, data=subject_data_J0F1, \n",
    "                                                                        iterations=10000)"
   ]
  },
  {
   "cell_type": "code",
   "execution_count": 343,
   "metadata": {
    "collapsed": false
   },
   "outputs": [
    {
     "data": {
      "image/png": "[encoded data removed]",
      "text/plain": [
       "<matplotlib.figure.Figure at 0x114a48ed0>"
      ]
     },
     "metadata": {},
     "output_type": "display_data"
    }
   ],
   "source": [
    "create_stacked_bars(gibbs_df_J0F12, 'Sub J0F1, random cnv start values, full coverage')"
   ]
  },
  {
   "cell_type": "code",
   "execution_count": 335,
   "metadata": {
    "collapsed": false
   },
   "outputs": [
    {
     "name": "stdout",
     "output_type": "stream",
     "text": [
      "[3 3 2 1 3 2 1 3 3 3 3 3 2 2 2 3 1 3 1 3 2 2 1 2 2 3 3 3 3 1 2 2 2 1 1 2 2\n",
      " 3 1 1 1 1 3 1 3 3 1 2 1 3 2 2 1 1 1 1 2 3 2 3 2 2 2 2 3 3 1 1 1 2 1 2 3 2\n",
      " 3 2 3 2]\n",
      "Finished 499 iterations\n",
      "Finished 999 iterations\n",
      "Finished 1499 iterations\n",
      "Finished 1999 iterations\n",
      "Finished 2499 iterations\n",
      "Finished 2999 iterations\n",
      "Finished 3499 iterations\n",
      "Finished 3999 iterations\n",
      "Finished 4499 iterations\n",
      "Finished 4999 iterations\n",
      "Finished 5499 iterations\n",
      "Finished 5999 iterations\n",
      "Finished 6499 iterations\n",
      "Finished 6999 iterations\n",
      "Finished 7499 iterations\n",
      "Finished 7999 iterations\n",
      "Finished 8499 iterations\n",
      "Finished 8999 iterations\n",
      "Finished 9499 iterations\n",
      "Finished 9999 iterations\n"
     ]
    }
   ],
   "source": [
    "cnv_support = [1,2,3]\n",
    "gibbs_data_444F2, gibbs_data_results_444F2, logliks_444F2, gibbs_df_444F2 = generate_gibbs_df(cnv_support, \n",
    "                                                                        X_probs, data=subject_data_444F, \n",
    "                                                                        iterations=10000)"
   ]
  },
  {
   "cell_type": "code",
   "execution_count": 336,
   "metadata": {
    "collapsed": false
   },
   "outputs": [
    {
     "data": {
      "image/png": "[encoded data removed]",
      "text/plain": [
       "<matplotlib.figure.Figure at 0x114e06850>"
      ]
     },
     "metadata": {},
     "output_type": "display_data"
    }
   ],
   "source": [
    "create_stacked_bars(gibbs_df_444F2, 'Sub 444F, random cnv start values, full coverage')"
   ]
  },
  {
   "cell_type": "code",
   "execution_count": null,
   "metadata": {
    "collapsed": true
   },
   "outputs": [],
   "source": []
  }
 ],
 "metadata": {
  "kernelspec": {
   "display_name": "Python 2",
   "language": "python",
   "name": "python2"
  },
  "language_info": {
   "codemirror_mode": {
    "name": "ipython",
    "version": 2
   },
   "file_extension": ".py",
   "mimetype": "text/x-python",
   "name": "python",
   "nbconvert_exporter": "python",
   "pygments_lexer": "ipython2",
   "version": "2.7.11"
  }
 },
 "nbformat": 4,
 "nbformat_minor": 2
}
