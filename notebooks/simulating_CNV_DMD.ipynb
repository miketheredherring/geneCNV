{
 "cells": [
  {
   "cell_type": "markdown",
   "metadata": {},
   "source": [
    "## Alignment Statistics and Deletion Simulation with pysam"
   ]
  },
  {
   "cell_type": "code",
   "execution_count": 2,
   "metadata": {
    "collapsed": false
   },
   "outputs": [],
   "source": [
    "import pysam\n",
    "import numpy as np\n",
    "import random\n",
    "import matplotlib.pyplot as plt\n",
    "import pandas as pd\n",
    "import os\n",
    "from collections import Counter\n",
    "from genepeeks.common import utilities as util\n",
    "\n",
    "%matplotlib inline"
   ]
  },
  {
   "cell_type": "code",
   "execution_count": 3,
   "metadata": {
    "collapsed": false
   },
   "outputs": [
    {
     "name": "stdout",
     "output_type": "stream",
     "text": [
      "Finished loading ensembl within the gene collection from the genepeeks-prod database with a single entries with a query of {'_id': 'DMD'} after 0.45 sec\n"
     ]
    }
   ],
   "source": [
    "DMD_ensembl = util.Mongo.get_collection_data('gene', wanted_db='prod', query={'_id': 'DMD'}, find_one=True, single_field='ensembl')\n",
    "DMD_exons = util.get_nested_value(DMD_ensembl, ('is_primary', 'transcripts', 'is_primary', 'exons'))\n",
    "DMD_exons_merged = util.merge_intervals(DMD_exons, min_dist=200, include_index=True)\n",
    "exon_labels = ['Ex' + exon['index'] for exon in DMD_exons_merged]"
   ]
  },
  {
   "cell_type": "code",
   "execution_count": 4,
   "metadata": {
    "collapsed": false
   },
   "outputs": [
    {
     "name": "stdout",
     "output_type": "stream",
     "text": [
      "2702\n"
     ]
    }
   ],
   "source": [
    "# DMD exon/gene coordinates and useful regions (coordinates taken from IGV b37 reference)\n",
    "# IMPORTANT: any future simulations should be created with the coordinates taken from mongo\n",
    "EXON46 = [31950197, 31950344]\n",
    "EXON47 = [31947713, 31947862]\n",
    "EXON48 = [31893308, 31893490]\n",
    "EXON49 = [31854835, 31854939]\n",
    "EXON50 = [31838092, 31838200]\n",
    "EXON51 = [31792077, 31792309]\n",
    "DMD = [31115794, 33357558]  # taken from ensembl GRCh37\n",
    "\n",
    "# deletion of partial exons\n",
    "EX48_50_PART = [31838130, 31893308]\n",
    "\n",
    "# for consistency with exon labeling in Ensembl\n",
    "exon_dict = {exon['index']: [exon['start'], exon['end']] for exon in DMD_exons_merged}\n",
    "# curious about size of first exon which appears to be quite large\n",
    "print exon_dict['1'][1] - exon_dict['1'][0]"
   ]
  },
  {
   "cell_type": "code",
   "execution_count": 5,
   "metadata": {
    "collapsed": true
   },
   "outputs": [],
   "source": [
    "# Velina's local bam files for testing (names are consistent with subject/sample names)\n",
    "bamfiles = ['FGPC-0000-444F.bam', 'FGPC-8V7M-82J3.bam', 'FPWB-0000-840T.bam', 'MGPC-6KHG-N0LS.bam']"
   ]
  },
  {
   "cell_type": "code",
   "execution_count": 6,
   "metadata": {
    "collapsed": false
   },
   "outputs": [],
   "source": [
    "# workaround to force real time print output in notebooks\n",
    "# see http://stackoverflow.com/questions/29772158/make-ipython-notebook-print-in-real-time\n",
    "import sys\n",
    "oldsysstdout = sys.stdout\n",
    "class flushfile():\n",
    "    def __init__(self, f):\n",
    "        self.f = f\n",
    "    def __getattr__(self,name): \n",
    "        return object.__getattribute__(self.f, name)\n",
    "    def write(self, x):\n",
    "        self.f.write(x)\n",
    "        self.f.flush()\n",
    "    def flush(self):\n",
    "        self.f.flush()\n",
    "sys.stdout = flushfile(sys.stdout)"
   ]
  },
  {
   "cell_type": "markdown",
   "metadata": {},
   "source": [
    "## Some exploration with exon length/coordinates"
   ]
  },
  {
   "cell_type": "code",
   "execution_count": 7,
   "metadata": {
    "collapsed": false
   },
   "outputs": [
    {
     "name": "stdout",
     "output_type": "stream",
     "text": [
      "Exon 1 Coordinates: [31137345, 31140047]\n"
     ]
    },
    {
     "data": {
      "text/plain": [
       "(<matplotlib.text.Text at 0x112f55110>, <matplotlib.text.Text at 0x112f69f90>)"
      ]
     },
     "execution_count": 7,
     "metadata": {},
     "output_type": "execute_result"
    },
    {
     "data": {
      "image/png": "[encoded data removed]",
      "text/plain": [
       "<matplotlib.figure.Figure at 0x112eb9d10>"
      ]
     },
     "metadata": {},
     "output_type": "display_data"
    }
   ],
   "source": [
    "exon_lengths = [coord[1] - coord[0] for exon, coord in exon_dict.items() if exon != '1']\n",
    "print 'Exon 1 Coordinates: {}'.format(exon_dict['1'])\n",
    "plt.figure()\n",
    "plt.hist(exon_lengths, bins=12)\n",
    "plt.xlabel('Exon Length'), plt.ylabel('Count')"
   ]
  },
  {
   "cell_type": "markdown",
   "metadata": {},
   "source": [
    "## Playing around with pysam and samtools"
   ]
  },
  {
   "cell_type": "code",
   "execution_count": 8,
   "metadata": {
    "collapsed": false
   },
   "outputs": [
    {
     "name": "stdout",
     "output_type": "stream",
     "text": [
      "('1', '2', '3', '4', '5', '6', '7', '8', '9', '10', '11', '12', '13', '14', '15', '16', '17', '18', '19', '20', '21', '22', 'X', 'Y', 'MT')\n"
     ]
    }
   ],
   "source": [
    "bamfile = pysam.AlignmentFile('../bams/FGPC-0000-444F.bam', 'rb')\n",
    "print bamfile.references"
   ]
  },
  {
   "cell_type": "code",
   "execution_count": 9,
   "metadata": {
    "collapsed": false
   },
   "outputs": [
    {
     "name": "stdout",
     "output_type": "stream",
     "text": [
      "['SQ', 'RG', 'PG', 'HD']\n"
     ]
    },
    {
     "data": {
      "text/plain": [
       "[{'ID': 'FGPC-0000-444F_1-M1-1_H5FGFAFXX-L004',\n",
       "  'LB': 'FGPC-0000-444F_1-M1',\n",
       "  'PL': 'ILLUMINA',\n",
       "  'PU': 'H5FGFAFXX-L004',\n",
       "  'SM': 'FGPC-0000-444F'},\n",
       " {'ID': 'FGPC-0000-444F_1-M1-1_H5FGFAFXX-L003',\n",
       "  'LB': 'FGPC-0000-444F_1-M1',\n",
       "  'PL': 'ILLUMINA',\n",
       "  'PU': 'H5FGFAFXX-L003',\n",
       "  'SM': 'FGPC-0000-444F'},\n",
       " {'ID': 'FGPC-0000-444F_1-M1-1_H5FGFAFXX-L002',\n",
       "  'LB': 'FGPC-0000-444F_1-M1',\n",
       "  'PL': 'ILLUMINA',\n",
       "  'PU': 'H5FGFAFXX-L002',\n",
       "  'SM': 'FGPC-0000-444F'},\n",
       " {'ID': 'FGPC-0000-444F_1-M1-1_H5FGFAFXX-L001',\n",
       "  'LB': 'FGPC-0000-444F_1-M1',\n",
       "  'PL': 'ILLUMINA',\n",
       "  'PU': 'H5FGFAFXX-L001',\n",
       "  'SM': 'FGPC-0000-444F'}]"
      ]
     },
     "execution_count": 9,
     "metadata": {},
     "output_type": "execute_result"
    }
   ],
   "source": [
    "# header breakdown\n",
    "print bamfile.header.keys()\n",
    "# take template header from existing bamfile\n",
    "template_header = bamfile.header\n",
    "template_header['RG']"
   ]
  },
  {
   "cell_type": "code",
   "execution_count": 10,
   "metadata": {
    "collapsed": false
   },
   "outputs": [
    {
     "name": "stdout",
     "output_type": "stream",
     "text": [
      "NS500214:178:H5FGFAFXX:1:11101:1977:9301\t147\t22\t31854685\t60\t151M\t22\t31854633\t151\tAAGCTTTGCCTCTTCTATTACAGTATGGCCAGTATTTCCTTACAAGTTATTTCACTGATTATAAATAGTCCACGTCAATGGCAAATGTACAACAGGGGAAGCATAACCCATTATGAGGTAATGGATATTGCTAGAGGTTGCTTCATTACCT\tarray('B', [12, 23, 18, 28, 27, 28, 25, 27, 29, 12, 26, 29, 29, 10, 33, 24, 29, 29, 27, 28, 30, 31, 26, 27, 29, 25, 9, 31, 32, 13, 32, 31, 27, 29, 24, 29, 28, 32, 33, 24, 27, 26, 34, 30, 32, 31, 29, 27, 29, 29, 29, 28, 34, 28, 33, 10, 29, 30, 30, 23, 30, 23, 31, 31, 30, 28, 33, 25, 29, 33, 35, 29, 28, 33, 29, 29, 31, 30, 31, 31, 32, 35, 31, 31, 30, 30, 33, 28, 29, 35, 31, 29, 35, 33, 31, 32, 25, 35, 32, 34, 33, 36, 31, 23, 32, 30, 34, 34, 36, 31, 31, 23, 31, 31, 35, 34, 32, 33, 29, 32, 31, 31, 32, 35, 31, 29, 31, 24, 31, 33, 35, 29, 34, 35, 34, 32, 33, 31, 31, 33, 35, 31, 30, 36, 31, 31, 28, 30, 29, 31, 29])\t[('BD', 'KMNLCKONPONMMNNLLKMLMMMKNMMLMMMMKKBLMNLJMLLKMKJKKBLNMMNLNKIJKJDKJKMMLLLLKMMKJMLLLKCJMJLLKKJKLLIILKJLLMJIJKHLMJIJMLKLKMJJNMMNKKKJNNMLLLNMLKPPNNQQNMPLNKK'), ('MD', '0C12G137'), ('BI', 'OQPODKOQQQQQQQQPPOQPRQPPRRQRQRQPPOGPRPONPOOOQMOOOGOQPQPPQONOOOHNOOPPQPPQOPQONQQPQOHNQNOPOONOQQMNPOOQPQOOMOLPQONNQPMQNOONQQPQOOOMPPPOOMQPNNQRQQSSQQSPPNN'), ('NM', 2), ('AS', 145), ('XS', 0), ('RG', 'FGPC-0000-444F_1-M1-1_H5FGFAFXX-L001')]\n"
     ]
    }
   ],
   "source": [
    "# does not output in same format as actual samfile -- see documentation for breakdown\n",
    "iterable = bamfile.fetch('X', *EXON49)\n",
    "example_read = iterable.next()\n",
    "print example_read"
   ]
  },
  {
   "cell_type": "code",
   "execution_count": 11,
   "metadata": {
    "collapsed": false
   },
   "outputs": [
    {
     "name": "stdout",
     "output_type": "stream",
     "text": [
      "NS500214:178:H5FGFAFXX:1:11101:1977:9301\t99\t22\t31854633\t60\t151M\t22\t31854685\t151\tGTTAATAGCCTTAAGATCACAATATATAAATAGGATATGCTGATCAAAAAGACAGCTTTGCCTCTGCTATTACAGTATGGCCAGTATTTCCTTACAAGTTATTTCACTGATTATAAATAGTCCACGTCAATGGCAAATGTACAACAGGGGA\tarray('B', [27, 28, 28, 26, 27, 31, 29, 35, 32, 32, 34, 32, 28, 30, 35, 30, 31, 35, 31, 33, 31, 31, 31, 29, 31, 29, 31, 24, 31, 31, 31, 23, 35, 34, 30, 31, 29, 31, 36, 25, 34, 36, 30, 31, 35, 31, 31, 31, 30, 31, 35, 29, 32, 31, 34, 32, 34, 32, 32, 36, 33, 32, 34, 35, 31, 36, 33, 33, 28, 30, 32, 28, 33, 31, 34, 29, 28, 30, 35, 13, 20, 9, 30, 34, 29, 28, 30, 31, 31, 34, 9, 31, 31, 28, 32, 30, 30, 33, 28, 31, 28, 30, 31, 31, 34, 30, 31, 32, 25, 25, 30, 31, 18, 26, 25, 30, 30, 23, 28, 29, 29, 30, 9, 26, 17, 24, 28, 31, 29, 11, 23, 26, 19, 17, 26, 26, 29, 29, 34, 28, 27, 23, 26, 26, 18, 25, 28, 14, 24, 23, 21])\t[('BD', 'KKKJMNNPQOOMLLMNNOMLKJKKKJJJIAJJLMLLJJMLLLMLMLIAAAKLMJMMLJCKLLLKKLLLKJJILJMMLJMLKLLMMLJJCKLLKJMJJLNKJKKDLMLMMNMKJKKJBKKMNNMMLLMNMJKNMMOKCLOMNOMLMLONIIM'), ('MD', '151'), ('BI', 'NNNOQRRSRRSQPOPPQQPONMOONONONGNNOOPPNNPPPPPPPOLFFFNNOMOOPNGNPPQMNPPPNNNOONPQPOQPQPQPQPONHOPQOOONMOQNOONHOPOPQQQNOOONGOPPRRQRPPRRQNPRQRQNHQSQQPOMLLNPLLQ'), ('NM', 0), ('AS', 151), ('XS', 0), ('RG', 'FGPC-0000-444F_1-M1-1_H5FGFAFXX-L001')]\n",
      "True\n"
     ]
    },
    {
     "data": {
      "text/plain": [
       "True"
      ]
     },
     "execution_count": 11,
     "metadata": {},
     "output_type": "execute_result"
    }
   ],
   "source": [
    "# keep track of qnames, match between read pairs since they are consistent\n",
    "# illustrate how to find mate\n",
    "example_read_mate = bamfile.mate(example_read)\n",
    "print example_read_mate\n",
    "print example_read_mate.is_read1\n",
    "example_read_mate.qname == example_read.qname"
   ]
  },
  {
   "cell_type": "code",
   "execution_count": 12,
   "metadata": {
    "collapsed": false
   },
   "outputs": [
    {
     "data": {
      "text/plain": [
       "[('BD',\n",
       "  'KMNLCKONPONMMNNLLKMLMMMKNMMLMMMMKKBLMNLJMLLKMKJKKBLNMMNLNKIJKJDKJKMMLLLLKMMKJMLLLKCJMJLLKKJKLLIILKJLLMJIJKHLMJIJMLKLKMJJNMMNKKKJNNMLLLNMLKPPNNQQNMPLNKK'),\n",
       " ('MD', '0C12G137'),\n",
       " ('BI',\n",
       "  'OQPODKOQQQQQQQQPPOQPRQPPRRQRQRQPPOGPRPONPOOOQMOOOGOQPQPPQONOOOHNOOPPQPPQOPQONQQPQOHNQNOPOONOQQMNPOOQPQOOMOLPQONNQPMQNOONQQPQOOOMPPPOOMQPNNQRQQSSQQSPPNN'),\n",
       " ('NM', 2),\n",
       " ('AS', 145),\n",
       " ('XS', 0),\n",
       " ('RG', 'FGPC-0000-444F_1-M1-1_H5FGFAFXX-L001')]"
      ]
     },
     "execution_count": 12,
     "metadata": {},
     "output_type": "execute_result"
    }
   ],
   "source": [
    "example_read.get_tags()"
   ]
  },
  {
   "cell_type": "code",
   "execution_count": 13,
   "metadata": {
    "collapsed": false
   },
   "outputs": [
    {
     "name": "stdout",
     "output_type": "stream",
     "text": [
      "31854685\n",
      "31854835\n"
     ]
    }
   ],
   "source": [
    "print example_read.reference_start\n",
    "print EXON49[0]"
   ]
  },
  {
   "cell_type": "code",
   "execution_count": 14,
   "metadata": {
    "collapsed": false
   },
   "outputs": [],
   "source": [
    "coverage = bamfile.count_coverage('X', *EXON49)"
   ]
  },
  {
   "cell_type": "code",
   "execution_count": 15,
   "metadata": {
    "collapsed": false
   },
   "outputs": [
    {
     "name": "stdout",
     "output_type": "stream",
     "text": [
      "104\n",
      "array('L', [0L, 0L, 1L, 260L, 1L, 0L, 0L, 0L, 0L, 0L, 0L, 281L, 0L, 0L, 0L, 0L, 1L, 0L, 0L, 0L, 0L, 0L, 0L, 0L, 0L, 0L, 2L, 0L, 0L, 0L, 0L, 299L, 0L, 287L, 284L, 285L, 1L, 0L, 1L, 0L, 0L, 2L, 0L, 0L, 0L, 1L, 0L, 319L, 0L, 308L, 1L, 315L, 323L, 307L, 305L, 0L, 1L, 0L, 0L, 0L, 0L, 0L, 2L, 301L, 1L, 303L, 0L, 0L, 1L, 1L, 0L, 1L, 0L, 0L, 0L, 0L, 0L, 339L, 0L, 0L, 0L, 0L, 0L, 326L, 303L, 0L, 1L, 0L, 0L, 0L, 289L, 0L, 0L, 0L, 0L, 307L, 0L, 0L, 0L, 0L, 0L, 0L, 0L, 0L])\n"
     ]
    }
   ],
   "source": [
    "print len(coverage[0])\n",
    "print coverage[0]"
   ]
  },
  {
   "cell_type": "code",
   "execution_count": 16,
   "metadata": {
    "collapsed": false
   },
   "outputs": [
    {
     "data": {
      "text/plain": [
       "'X'"
      ]
     },
     "execution_count": 16,
     "metadata": {},
     "output_type": "execute_result"
    }
   ],
   "source": [
    "# getting reference name\n",
    "bamfile.getrname(example_read.reference_id)"
   ]
  },
  {
   "cell_type": "code",
   "execution_count": 17,
   "metadata": {
    "collapsed": false
   },
   "outputs": [
    {
     "name": "stdout",
     "output_type": "stream",
     "text": [
      "CPU times: user 7.78 s, sys: 152 ms, total: 7.93 s\n",
      "Wall time: 8.02 s\n"
     ]
    }
   ],
   "source": [
    "%%time\n",
    "# next two cells testing pysam's samtools integration (specifically samtools view and merge)\n",
    "infile = '../bams/FGPC-8V7M-82J3.bam'\n",
    "outfile = '../bams/FGPC-8V7M-82J3_ch22.bam'\n",
    "pysam.view('-b', '-o' + outfile, infile, '21', '22', catch_stdout=False)\n",
    "pysam.index(outfile)"
   ]
  },
  {
   "cell_type": "code",
   "execution_count": 18,
   "metadata": {
    "collapsed": false
   },
   "outputs": [
    {
     "name": "stdout",
     "output_type": "stream",
     "text": [
      "CPU times: user 16.3 s, sys: 258 ms, total: 16.6 s\n",
      "Wall time: 16.8 s\n"
     ]
    }
   ],
   "source": [
    "%%time\n",
    "infile = '../bams/FGPC-8V7M-82J3.bam'\n",
    "outfile = '../bams/FGPC-8V7M-82J3_ch20.bam'\n",
    "pysam.view('-b', '-o' + outfile, infile, '20', catch_stdout=False)\n",
    "# pysam.index(outfile)\n",
    "\n",
    "pysam.merge('-f', '../bams/combined.bam', outfile, '../bams/FGPC-8V7M-82J3_ch22.bam', catch_stdout=False)"
   ]
  },
  {
   "cell_type": "markdown",
   "metadata": {},
   "source": [
    "## Recording Alignment Statistics and Insert Lengths\n",
    "\n",
    "Low mapping quality could indicate both external homology and self-similarity in the DMD gene, which could complicate techniques based on read coverage."
   ]
  },
  {
   "cell_type": "code",
   "execution_count": 19,
   "metadata": {
    "collapsed": true
   },
   "outputs": [],
   "source": [
    "def alignment_stats(bamfile_name, reference, region, minmapQ=30):\n",
    "    '''Prints alignment stats across reads in particular region in BAM. \n",
    "       reference -- ref or chrm number\n",
    "       region -- list or tuple with region bounds\n",
    "    '''\n",
    "    with pysam.AlignmentFile(bamfile_name, 'rb') as bamfile:\n",
    "        stats = Counter()\n",
    "        print '{} \\nChromosome {} Region {} Stats:'.format(bamfile_name, reference, region)\n",
    "        for read in bamfile.fetch(reference, *region):\n",
    "            stats['total'] += 1\n",
    "            stats['qcfail'] += int(read.is_qcfail)\n",
    "\n",
    "            stats['paired'] += int(read.is_paired)\n",
    "            stats['read1'] += int(read.is_read1)\n",
    "            stats['read2'] += int(read.is_read2)\n",
    "            \n",
    "            if read.is_unmapped:\n",
    "                stats['unmapped'] += 1\n",
    "                continue\n",
    "\n",
    "            stats['mapq <= 30'] += int(read.mapping_quality <= minmapQ)\n",
    "\n",
    "            stats['mapped'] += 1\n",
    "            if read.is_proper_pair:\n",
    "                stats['proper pair'] += 1\n",
    "                if abs(read.template_length) > 850:\n",
    "                    stats['long_insert'] += 1\n",
    "                    print '\\tlong insert/error: {}'.format(read.template_length)\n",
    "                else:\n",
    "                    stats['insert_lengths'] += (abs(read.template_length) if read.is_read1 else 0)\n",
    "\n",
    "        stats['avg insert length'] = stats['insert_lengths'] / float(stats['read1'])\n",
    "        output_order = ('total', 'mapped', 'unmapped', 'paired', 'read1', 'read2', \n",
    "                        'proper pair', 'qcfail', 'mapq <= 30', 'long_insert', 'avg insert length')\n",
    "\n",
    "        for key in output_order:\n",
    "            if key == 'avg insert length':\n",
    "                print '\\t{}: {}'.format(key, stats[key])\n",
    "            else:\n",
    "                print '\\t{}: {}, Prop: {}'.format(key, stats[key], stats[key] / float(stats['total']))"
   ]
  },
  {
   "cell_type": "code",
   "execution_count": 20,
   "metadata": {
    "collapsed": false
   },
   "outputs": [
    {
     "name": "stdout",
     "output_type": "stream",
     "text": [
      "../bams/FGPC-0000-444F.bam \n",
      "Chromosome X Region [31854835, 31854939] Stats:\n",
      "\ttotal: 680, Prop: 1.0\n",
      "\tmapped: 680, Prop: 1.0\n",
      "\tunmapped: 0, Prop: 0.0\n",
      "\tpaired: 680, Prop: 1.0\n",
      "\tread1: 342, Prop: 0.502941176471\n",
      "\tread2: 338, Prop: 0.497058823529\n",
      "\tproper pair: 680, Prop: 1.0\n",
      "\tqcfail: 0, Prop: 0.0\n",
      "\tmapq <= 30: 0, Prop: 0.0\n",
      "\tlong_insert: 0, Prop: 0.0\n",
      "\tavg insert length: 226.011695906\n"
     ]
    }
   ],
   "source": [
    "alignment_stats('../bams/FGPC-0000-444F.bam', 'X', EXON49)"
   ]
  },
  {
   "cell_type": "code",
   "execution_count": 21,
   "metadata": {
    "collapsed": false,
    "scrolled": false
   },
   "outputs": [
    {
     "name": "stdout",
     "output_type": "stream",
     "text": [
      "../bams/FGPC-0000-444F.bam \n",
      "Chromosome X Region [31115794, 33357558] Stats:\n",
      "\tlong insert/error: 87733677\n",
      "\tlong insert/error: 36406070\n",
      "\tlong insert/error: 67357711\n",
      "\ttotal: 88693, Prop: 1.0\n",
      "\tmapped: 88577, Prop: 0.998692117755\n",
      "\tunmapped: 116, Prop: 0.0013078822455\n",
      "\tpaired: 88693, Prop: 1.0\n",
      "\tread1: 44343, Prop: 0.499960538036\n",
      "\tread2: 44350, Prop: 0.500039461964\n",
      "\tproper pair: 88301, Prop: 0.995580259998\n",
      "\tqcfail: 0, Prop: 0.0\n",
      "\tmapq <= 30: 180, Prop: 0.00202947244991\n",
      "\tlong_insert: 3, Prop: 3.38245408319e-05\n",
      "\tavg insert length: 246.341519518\n",
      "../bams/FGPC-8V7M-82J3.bam \n",
      "Chromosome X Region [31115794, 33357558] Stats:\n",
      "\tlong insert/error: 8528942\n",
      "\tlong insert/error: -3886263\n",
      "\ttotal: 19239, Prop: 1.0\n",
      "\tmapped: 19235, Prop: 0.999792088986\n",
      "\tunmapped: 4, Prop: 0.000207911014086\n",
      "\tpaired: 19239, Prop: 1.0\n",
      "\tread1: 9621, Prop: 0.50007796663\n",
      "\tread2: 9618, Prop: 0.49992203337\n",
      "\tproper pair: 19209, Prop: 0.998440667394\n",
      "\tqcfail: 0, Prop: 0.0\n",
      "\tmapq <= 30: 29, Prop: 0.00150735485212\n",
      "\tlong_insert: 2, Prop: 0.000103955507043\n",
      "\tavg insert length: 232.779232928\n",
      "../bams/FPWB-0000-840T.bam \n",
      "Chromosome X Region [31115794, 33357558] Stats:\n",
      "\tlong insert/error: 45328884\n",
      "\tlong insert/error: 42059688\n",
      "\tlong insert/error: 90499310\n",
      "\tlong insert/error: 109798660\n",
      "\tlong insert/error: 120075025\n",
      "\tlong insert/error: 34330200\n",
      "\ttotal: 116333, Prop: 1.0\n",
      "\tmapped: 116191, Prop: 0.99877936613\n",
      "\tunmapped: 142, Prop: 0.00122063387001\n",
      "\tpaired: 116333, Prop: 1.0\n",
      "\tread1: 58181, Prop: 0.500124642191\n",
      "\tread2: 58152, Prop: 0.499875357809\n",
      "\tproper pair: 115867, Prop: 0.995994257863\n",
      "\tqcfail: 0, Prop: 0.0\n",
      "\tmapq <= 30: 293, Prop: 0.00251863185854\n",
      "\tlong_insert: 6, Prop: 5.15760790146e-05\n",
      "\tavg insert length: 302.194410546\n",
      "../bams/MGPC-6KHG-N0LS.bam \n",
      "Chromosome X Region [31115794, 33357558] Stats:\n",
      "\tlong insert/error: 79779343\n",
      "\tlong insert/error: -1226\n",
      "\tlong insert/error: -1476\n",
      "\ttotal: 18874, Prop: 1.0\n",
      "\tmapped: 18867, Prop: 0.999629119424\n",
      "\tunmapped: 7, Prop: 0.000370880576454\n",
      "\tpaired: 18874, Prop: 1.0\n",
      "\tread1: 9437, Prop: 0.5\n",
      "\tread2: 9437, Prop: 0.5\n",
      "\tproper pair: 18822, Prop: 0.997244887146\n",
      "\tqcfail: 0, Prop: 0.0\n",
      "\tmapq <= 30: 82, Prop: 0.00434460103847\n",
      "\tlong_insert: 3, Prop: 0.00015894881848\n",
      "\tavg insert length: 278.86372788\n"
     ]
    }
   ],
   "source": [
    "for bam in bamfiles:\n",
    "    alignment_stats('../bams/{}'.format(bam), 'X', DMD)"
   ]
  },
  {
   "cell_type": "markdown",
   "metadata": {},
   "source": [
    "### Conclusions\n",
    "Mapping quality seems to be fairly high across DMD gene (only 0.1-0.4% of reads have mapQ less than 30) for 4 samples tested here. \n",
    "\n",
    "Repeat with more samples -- could also check specific regions, add check to see if reads with low mapQ are also short or low quality reads. \n",
    "\n",
    "In addition, dot plots of several different regions of the gene (region compared to itself) indicate few patterns of self-similarity within the gene.\n",
    "\n",
    "Pixel gradient is based on proportion of matching bases with window size 25. No gradation below 20% homology. See plot titles for region coordinates.\n",
    "\n",
    "<img src=\"images/region1_dot.png\" width=\"500\">\n",
    "<img src=\"images/region2_dot.png\" width=\"500\">\n",
    "<img src=\"images/region3_dot.png\" width=\"500\">"
   ]
  },
  {
   "cell_type": "markdown",
   "metadata": {},
   "source": [
    "## Writing basic BAMs with simulated deletions and duplications"
   ]
  },
  {
   "cell_type": "code",
   "execution_count": 22,
   "metadata": {
    "collapsed": false
   },
   "outputs": [],
   "source": [
    "def simulate_exon_CNV(outfile, infile_bam, chrom_ref, mut_region, CNV_type='deletion', region_buffer=0, mult_factor=0.5, \n",
    "                      output_full=False, before_wanted=None, after_wanted=None):\n",
    "    ''' Simulates deletion in specified region by reducing the number of aligned reads in region \n",
    "        by specified depletion_factor. Assumes bam file is sorted.\n",
    "        chrom_ref -- '1', 'X', etc\n",
    "        mut_region -- two element list with region limits for region to be deleted/duplicated, eg. [34000000, 34560000]\n",
    "        CNV_type -- 'deletion' or 'duplication'\n",
    "        region_buffer -- number of bp by which to extend region on either end (reads often extend past exons)\n",
    "        mult_factor -- float indicating factor to multiply by read count (should be > 1 for duplications)\n",
    "        output_full -- option to generate complete bam file (all chromosomes) vs bam file with just chrom_ref\n",
    "    '''\n",
    "    if mut_region[0] > mut_region[1]:\n",
    "        raise ValueError('Region boundaries invalid')\n",
    "    mut_region = [mut_region[0] - region_buffer, mut_region[1] + region_buffer]\n",
    "        \n",
    "    template_bam = pysam.AlignmentFile(infile_bam, 'rb')\n",
    "    template_header = template_bam.header\n",
    "    for RG in template_header['RG']:\n",
    "        RG['SM'] = '{}_{}'.format(RG['SM'], ('del' if CNV_type == 'deletion' else 'dup'))\n",
    "    \n",
    "    with pysam.AlignmentFile(outfile, 'wb', header=template_header) as outf:\n",
    "        keep_reads = []\n",
    "        total_reads = []\n",
    "        started_mut = False\n",
    "        finished_mut = False\n",
    "        for read in template_bam.fetch(chrom_ref):\n",
    "            if (\n",
    "                (read.reference_end >= mut_region[0] or started_mut) and \n",
    "                read.reference_start <= mut_region[1]\n",
    "               ):\n",
    "                if not started_mut:\n",
    "                    started_mut = True\n",
    "                if read.is_paired and read.is_read1:\n",
    "                    if random.random() < (mult_factor if CNV_type == 'deletion' else mult_factor - 1.0):\n",
    "                        keep_reads.append(read.qname)\n",
    "                total_reads.append(read)\n",
    "                    \n",
    "            elif read.reference_start > mut_region[1]:\n",
    "                if finished_mut:\n",
    "                    outf.write(read)\n",
    "                else:\n",
    "                    print 'Writing to outfile from mutation region'\n",
    "                    for saved_read in total_reads:\n",
    "                        if CNV_type == 'duplication':\n",
    "                            outf.write(saved_read)\n",
    "                        if saved_read.qname in keep_reads:\n",
    "                            outf.write(saved_read)\n",
    "                    finished_mut = True\n",
    "                    outf.write(read)\n",
    "            else:\n",
    "                outf.write(read)\n",
    "        total_mate_names = [read.qname for read in total_reads if read.is_read2]\n",
    "        distant_mates = [name for name in keep_reads if name not in total_mate_names]\n",
    "        print 'Finished generating reads in bamfile for desired chrom_ref'\n",
    "        print 'Number of distant mates: {}'.format(len(distant_mates))\n",
    "        print 'Total number of mates to keep: {}'.format(len(keep_reads))\n",
    "    \n",
    "    # generates bam file for all chroms before desired and separate bam file for all chroms after; \n",
    "    # then merges three bam files -- might require clean up of extra files after running\n",
    "    if output_full:\n",
    "        ref_list = list(template_bam.references)\n",
    "        index = ref_list.index(chrom_ref)\n",
    "        \n",
    "        if not before_wanted:   \n",
    "            before = ref_list[:index]\n",
    "            before_wanted = '{}_before_{}.bam'.format(os.path.splitext(infile_bam)[0], chrom_ref)\n",
    "            pysam.view('-b', '-o' + before_wanted, infile_bam, *before, catch_stdout=False)\n",
    "            print 'Finished generating bamfile for refs before chrom_ref'\n",
    "            \n",
    "        if not after_wanted:\n",
    "            after = ref_list[(index + 1):]\n",
    "            after_wanted = '{}_after_{}.bam'.format(os.path.splitext(infile_bam)[0], chrom_ref)\n",
    "            pysam.view('-b', '-o' + after_wanted, infile_bam, *after, catch_stdout=False)\n",
    "            print 'Finished generating bamfile for refs after chrom_ref'\n",
    "\n",
    "        outfile_full = '{}_full.bam'.format(os.path.splitext(outfile)[0])\n",
    "        pysam.merge('-f', outfile_full, before_wanted, outfile, after_wanted, catch_stdout=False)\n",
    "        print 'Finished merging all bamfiles into final output'\n",
    "        \n",
    "        template_bam.close()\n",
    "        pysam.index(outfile_full)\n",
    "    else:\n",
    "        pysam.index(outfile)\n",
    "        \n",
    "    print 'Finished creating index file for final output bamfile'"
   ]
  },
  {
   "cell_type": "code",
   "execution_count": 23,
   "metadata": {
    "collapsed": false
   },
   "outputs": [
    {
     "name": "stdout",
     "output_type": "stream",
     "text": [
      "Writing to outfile from mutation region\n",
      "Finished generating reads in bamfile for desired chrom_ref\n",
      "Number of distant mates: 75\n",
      "Total number of mates to keep: 353\n",
      "Finished creating index file for final output bamfile\n",
      "CPU times: user 1min 10s, sys: 1.37 s, total: 1min 11s\n",
      "Wall time: 1min 12s\n"
     ]
    }
   ],
   "source": [
    "%%time\n",
    "# assuming bams live in bams directory\n",
    "outfile = '../bams/FGPC-0000-444F_49_del.bam'\n",
    "simulate_exon_CNV(outfile, '../bams/FGPC-0000-444F.bam', 'X', exon_dict['49'], mult_factor=0.5)"
   ]
  },
  {
   "cell_type": "code",
   "execution_count": 24,
   "metadata": {
    "collapsed": false
   },
   "outputs": [
    {
     "name": "stdout",
     "output_type": "stream",
     "text": [
      "Writing to outfile from mutation region\n",
      "Finished generating reads in bamfile for desired chrom_ref\n",
      "Number of distant mates: 33\n",
      "Total number of mates to keep: 137\n",
      "Finished creating index file for final output bamfile\n",
      "CPU times: user 1min 7s, sys: 1.04 s, total: 1min 8s\n",
      "Wall time: 1min 9s\n"
     ]
    }
   ],
   "source": [
    "%%time\n",
    "# testing deletion\n",
    "# assuming bams live in bams directory -- this time with ensembl exon def\n",
    "outfile = '../bams/FGPC-0000-444F_30_delPEM.bam'\n",
    "simulate_exon_CNV(outfile, '../bams/FGPC-0000-444F.bam', 'X', exon_dict['30'], mult_factor=0.5)"
   ]
  },
  {
   "cell_type": "code",
   "execution_count": 25,
   "metadata": {
    "collapsed": false
   },
   "outputs": [
    {
     "name": "stdout",
     "output_type": "stream",
     "text": [
      "Writing to outfile from mutation region\n",
      "Finished generating reads in bamfile for desired chrom_ref\n",
      "Number of distant mates: 32\n",
      "Total number of mates to keep: 135\n",
      "Finished creating index file for final output bamfile\n",
      "CPU times: user 1min 7s, sys: 1.07 s, total: 1min 8s\n",
      "Wall time: 1min 9s\n"
     ]
    }
   ],
   "source": [
    "%%time\n",
    "# testing duplication\n",
    "# assuming bams live in bams directory -- this time with ensembl exon def\n",
    "outfile = '../bams/FGPC-0000-444F_30_dupPEM.bam'\n",
    "simulate_exon_CNV(outfile, '../bams/FGPC-0000-444F.bam', 'X', exon_dict['30'], CNV_type='duplication', mult_factor=1.5)"
   ]
  },
  {
   "cell_type": "code",
   "execution_count": 26,
   "metadata": {
    "collapsed": false
   },
   "outputs": [
    {
     "name": "stdout",
     "output_type": "stream",
     "text": [
      "Writing to outfile from mutation region\n",
      "Finished generating reads in bamfile for desired chrom_ref\n",
      "Number of distant mates: 58\n",
      "Total number of mates to keep: 1012\n",
      "Finished creating index file for final output bamfile\n",
      "CPU times: user 1min 22s, sys: 1.43 s, total: 1min 24s\n",
      "Wall time: 1min 24s\n"
     ]
    }
   ],
   "source": [
    "%%time\n",
    "# another deletion\n",
    "# assuming bams live in bams directory -- this time with ensembl exon def\n",
    "outfile = '../bams/FPWB-0000-840T_45_delPEM.bam'\n",
    "simulate_exon_CNV(outfile, '../bams/FPWB-0000-840T.bam', 'X', exon_dict['45'], CNV_type='deletion', region_buffer=500,\n",
    "                  mult_factor=0.5)"
   ]
  },
  {
   "cell_type": "code",
   "execution_count": 27,
   "metadata": {
    "collapsed": false
   },
   "outputs": [
    {
     "name": "stdout",
     "output_type": "stream",
     "text": [
      "Writing to outfile from mutation region\n",
      "Finished generating reads in bamfile for desired chrom_ref\n",
      "Number of distant mates: 143\n",
      "Total number of mates to keep: 242\n",
      "Finished creating index file for final output bamfile\n",
      "CPU times: user 1min 24s, sys: 1.47 s, total: 1min 26s\n",
      "Wall time: 1min 26s\n"
     ]
    }
   ],
   "source": [
    "%%time\n",
    "# another duplication\n",
    "# assuming bams live in bams directory -- this time with ensembl exon def\n",
    "outfile = '../bams/FPWB-0000-840T_19_dupPEM.bam'\n",
    "simulate_exon_CNV(outfile, '../bams/FPWB-0000-840T.bam', 'X', exon_dict['19'], CNV_type='duplication', mult_factor=1.5)"
   ]
  },
  {
   "cell_type": "markdown",
   "metadata": {},
   "source": [
    "### Testing output of full bamfile (including other chromosomes) \n",
    "Note that these cells will run quite slowly."
   ]
  },
  {
   "cell_type": "code",
   "execution_count": 28,
   "metadata": {
    "collapsed": false
   },
   "outputs": [
    {
     "name": "stdout",
     "output_type": "stream",
     "text": [
      "Writing to outfile from mutation region\n",
      "Finished generating reads in bamfile for desired chrom_ref\n",
      "Number of distant mates: 0\n",
      "Total number of mates to keep: 61\n",
      "Finished generating bamfile for refs before chrom_ref\n",
      "Finished generating bamfile for refs after chrom_ref\n",
      "Finished merging all bamfiles into final output\n",
      "Finished creating index file for final output bamfile\n",
      "CPU times: user 9min 20s, sys: 18 s, total: 9min 38s\n",
      "Wall time: 9min 50s\n"
     ]
    }
   ],
   "source": [
    "%%time\n",
    "# this is a relatively small bamfile (only about 1.5 GB) -- outputting full bamfile is quite slow in general\n",
    "infile = '../bams/FGPC-8V7M-82J3.bam'\n",
    "outfile = '../bams/FGPC-8V7M-82J3_48-50_del0.35.bam'\n",
    "simulate_exon_CNV(outfile, infile, 'X', EX48_50_PART, mult_factor=0.35, output_full=True)"
   ]
  },
  {
   "cell_type": "code",
   "execution_count": 29,
   "metadata": {
    "collapsed": false,
    "scrolled": true
   },
   "outputs": [
    {
     "name": "stdout",
     "output_type": "stream",
     "text": [
      "Writing to outfile from mutation region\n",
      "Finished generating reads in bamfile for desired chrom_ref\n",
      "Number of distant mates: 0\n",
      "Total number of mates to keep: 103\n",
      "Finished merging all bamfiles into final output\n",
      "Finished creating index file for final output bamfile\n",
      "CPU times: user 5min 11s, sys: 10.3 s, total: 5min 21s\n",
      "Wall time: 5min 27s\n"
     ]
    }
   ],
   "source": [
    "%%time\n",
    "infile = '../bams/FGPC-8V7M-82J3.bam'\n",
    "outfile = '../bams/FGPC-8V7M-82J3_48-50_del.bam'\n",
    "before_wanted = '../bams/FGPC-8V7M-82J3_before_X.bam'\n",
    "after_wanted = '../bams/FGPC-8V7M-82J3_after_X.bam'\n",
    "simulate_exon_CNV(outfile, infile, 'X', EX48_50_PART, mult_factor=0.5, output_full=True, \n",
    "                  before_wanted=before_wanted, after_wanted=after_wanted)"
   ]
  },
  {
   "cell_type": "markdown",
   "metadata": {
    "collapsed": true
   },
   "source": [
    "### Generating deletion of exons 48-50"
   ]
  },
  {
   "cell_type": "code",
   "execution_count": 30,
   "metadata": {
    "collapsed": false
   },
   "outputs": [
    {
     "name": "stdout",
     "output_type": "stream",
     "text": [
      "Writing to outfile from mutation region\n",
      "Finished generating reads in bamfile for desired chrom_ref\n",
      "Number of distant mates: 94\n",
      "Total number of mates to keep: 958\n",
      "Finished creating index file for final output bamfile\n",
      "CPU times: user 1min 30s, sys: 3.34 s, total: 1min 33s\n",
      "Wall time: 1min 35s\n"
     ]
    }
   ],
   "source": [
    "%%time\n",
    "ex48_50 = [exon_dict['48'][0], exon_dict['50'][1]]\n",
    "outfile = '../bams/FPWB-0000-822R_4850_delPEM.bam'\n",
    "simulate_exon_CNV(outfile, '../bams/FPWB-0000-822R.bam', 'X', ex48_50, CNV_type='deletion', mult_factor=0.5)"
   ]
  },
  {
   "cell_type": "markdown",
   "metadata": {},
   "source": [
    "### Generating deletion of exons 16-19"
   ]
  },
  {
   "cell_type": "code",
   "execution_count": 31,
   "metadata": {
    "collapsed": false
   },
   "outputs": [
    {
     "name": "stdout",
     "output_type": "stream",
     "text": [
      "Writing to outfile from mutation region\n",
      "Finished generating reads in bamfile for desired chrom_ref\n",
      "Number of distant mates: 62\n",
      "Total number of mates to keep: 868\n",
      "Finished creating index file for final output bamfile\n",
      "CPU times: user 47 s, sys: 1.91 s, total: 48.9 s\n",
      "Wall time: 50.2 s\n"
     ]
    }
   ],
   "source": [
    "%%time\n",
    "# note slightly higher mult_factor here\n",
    "ex16_19 = [exon_dict['16'][0], exon_dict['19'][1]]\n",
    "outfile = '../bams/FGPC-4ZPF-J0F1_1619_delPEM.bam'\n",
    "simulate_exon_CNV(outfile, '../bams/FGPC-4ZPF-J0F1.bam', 'X', ex16_19, CNV_type='deletion', mult_factor=0.65)"
   ]
  },
  {
   "cell_type": "code",
   "execution_count": null,
   "metadata": {
    "collapsed": true
   },
   "outputs": [],
   "source": []
  }
 ],
 "metadata": {
  "anaconda-cloud": {},
  "kernelspec": {
   "display_name": "Python 2",
   "language": "python",
   "name": "python2"
  },
  "language_info": {
   "codemirror_mode": {
    "name": "ipython",
    "version": 2
   },
   "file_extension": ".py",
   "mimetype": "text/x-python",
   "name": "python",
   "nbconvert_exporter": "python",
   "pygments_lexer": "ipython2",
   "version": "2.7.13"
  }
 },
 "nbformat": 4,
 "nbformat_minor": 0
}
