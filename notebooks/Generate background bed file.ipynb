{
 "cells": [
  {
   "cell_type": "code",
   "execution_count": 33,
   "metadata": {
    "collapsed": false
   },
   "outputs": [],
   "source": [
    "import os\n",
    "os.environ['GP_INI_FILE'] = os.path.join(os.environ['HOME'], 'Dropbox (GenePeeks)',\n",
    "                                         'genepeeks-science', 'conf', 'genepeeks.ini')\n",
    "from genepeeks.common import utilities as util\n",
    "from biorest.genepeeks import GenepeeksRestClient\n",
    "import config\n",
    "import pysam\n",
    "import cPickle"
   ]
  },
  {
   "cell_type": "code",
   "execution_count": 28,
   "metadata": {
    "collapsed": false
   },
   "outputs": [
    {
     "data": {
      "text/plain": [
       "[u'ACADM',\n",
       " u'AGL',\n",
       " u'ALG6',\n",
       " u'ATM',\n",
       " u'COQ2',\n",
       " u'ESCO2',\n",
       " u'FASTKD2',\n",
       " u'FH',\n",
       " u'GALC',\n",
       " u'GFM1',\n",
       " u'NBN',\n",
       " u'OSTM1',\n",
       " u'RNASEH2B',\n",
       " u'SLC17A5',\n",
       " u'SLC35D1',\n",
       " u'SUCLA2',\n",
       " u'TMEM67',\n",
       " u'TRIM37',\n",
       " u'TTPA']"
      ]
     },
     "execution_count": 28,
     "metadata": {},
     "output_type": "execute_result"
    }
   ],
   "source": [
    "# Get the list of genes marked 'housekeeping'.\n",
    "client = GenepeeksRestClient(remove_request_logs=True, **config.API_CONNECTIONS['prod'])\n",
    "housekeeping_genes = client.get_genes(params={'housekeeping': True}, all=True)\n",
    "[gene['gene'] for gene in housekeeping_genes]"
   ]
  },
  {
   "cell_type": "code",
   "execution_count": 40,
   "metadata": {
    "collapsed": false
   },
   "outputs": [
    {
     "data": {
      "text/plain": [
       "[{'end': 31140057, 'label': 'Ex1', 'start': 31137344},\n",
       " {'end': 31144800, 'label': 'Ex2', 'start': 31144748},\n",
       " {'end': 31152321, 'label': 'Ex3', 'start': 31152208},\n",
       " {'end': 31164541, 'label': 'Ex4', 'start': 31164397},\n",
       " {'end': 31165645, 'label': 'Ex5', 'start': 31165381},\n",
       " {'end': 31187728, 'label': 'Ex6', 'start': 31187549},\n",
       " {'end': 31190540, 'label': 'Ex7', 'start': 31190454},\n",
       " {'end': 31191731, 'label': 'Ex8', 'start': 31191645},\n",
       " {'end': 31196932, 'label': 'Ex9-10', 'start': 31196038},\n",
       " {'end': 31198608, 'label': 'Ex11', 'start': 31198476},\n",
       " {'end': 31201031, 'label': 'Ex12', 'start': 31200844},\n",
       " {'end': 31222245, 'label': 'Ex13', 'start': 31222067},\n",
       " {'end': 31224794, 'label': 'Ex14', 'start': 31224688},\n",
       " {'end': 31227826, 'label': 'Ex15', 'start': 31227604},\n",
       " {'end': 31241248, 'label': 'Ex16', 'start': 31241153},\n",
       " {'end': 31279143, 'label': 'Ex17', 'start': 31279061},\n",
       " {'end': 31285024, 'label': 'Target17', 'start': 31284916},\n",
       " {'end': 31341785, 'label': 'Ex18', 'start': 31341704},\n",
       " {'end': 31366761, 'label': 'Ex19', 'start': 31366662},\n",
       " {'end': 31462754, 'label': 'Ex20', 'start': 31462587},\n",
       " {'end': 31497230, 'label': 'Ex21-22', 'start': 31496212},\n",
       " {'end': 31515071, 'label': 'Ex23', 'start': 31514894},\n",
       " {'end': 31525580, 'label': 'Ex24', 'start': 31525387},\n",
       " {'end': 31526415, 'label': 'Target24', 'start': 31526314},\n",
       " {'end': 31645989, 'label': 'Ex25', 'start': 31645779},\n",
       " {'end': 31676271, 'label': 'Ex26', 'start': 31676096},\n",
       " {'end': 31697713, 'label': 'Ex27', 'start': 31697481},\n",
       " {'end': 31747875, 'label': 'Ex28', 'start': 31747737},\n",
       " {'end': 31792319, 'label': 'Ex29', 'start': 31792066},\n",
       " {'end': 31838210, 'label': 'Ex30', 'start': 31838081},\n",
       " {'end': 31854949, 'label': 'Ex31', 'start': 31854824},\n",
       " {'end': 31893500, 'label': 'Ex32', 'start': 31893297},\n",
       " {'end': 31947872, 'label': 'Ex33', 'start': 31947702},\n",
       " {'end': 31950354, 'label': 'Ex34', 'start': 31950186},\n",
       " {'end': 31986641, 'label': 'Ex35', 'start': 31986445},\n",
       " {'end': 32173586, 'label': 'Target36', 'start': 32173488},\n",
       " {'end': 32235190, 'label': 'Ex36', 'start': 32235022},\n",
       " {'end': 32305828, 'label': 'Ex37', 'start': 32305635},\n",
       " {'end': 32328403, 'label': 'Ex38', 'start': 32328188},\n",
       " {'end': 32360409, 'label': 'Ex39', 'start': 32360206},\n",
       " {'end': 32361413, 'label': 'Ex40', 'start': 32361240},\n",
       " {'end': 32364207, 'label': 'Ex41', 'start': 32364049},\n",
       " {'end': 32366655, 'label': 'Ex42', 'start': 32366512},\n",
       " {'end': 32381085, 'label': 'Ex43', 'start': 32380894},\n",
       " {'end': 32383326, 'label': 'Ex44-45', 'start': 32382688},\n",
       " {'end': 32398807, 'label': 'Ex46', 'start': 32398616},\n",
       " {'end': 32404592, 'label': 'Ex47', 'start': 32404416},\n",
       " {'end': 32408308, 'label': 'Ex48-49', 'start': 32407607},\n",
       " {'end': 32430371, 'label': 'Ex50', 'start': 32429858},\n",
       " {'end': 32456517, 'label': 'Ex51', 'start': 32456347},\n",
       " {'end': 32459441, 'label': 'Ex52', 'start': 32459286},\n",
       " {'end': 32466765, 'label': 'Ex53', 'start': 32466562},\n",
       " {'end': 32472959, 'label': 'Ex54', 'start': 32472768},\n",
       " {'end': 32481721, 'label': 'Ex55', 'start': 32481545},\n",
       " {'end': 32482826, 'label': 'Ex56', 'start': 32482692},\n",
       " {'end': 32486837, 'label': 'Ex57', 'start': 32486604},\n",
       " {'end': 32490436, 'label': 'Ex58', 'start': 32490270},\n",
       " {'end': 32503226, 'label': 'Ex59', 'start': 32503025},\n",
       " {'end': 32509645, 'label': 'Ex60', 'start': 32509383},\n",
       " {'end': 32519969, 'label': 'Ex61', 'start': 32519861},\n",
       " {'end': 32536258, 'label': 'Ex62', 'start': 32536114},\n",
       " {'end': 32563461, 'label': 'Ex63', 'start': 32563265},\n",
       " {'end': 32584008, 'label': 'Ex64', 'start': 32583808},\n",
       " {'end': 32591973, 'label': 'Ex65-66', 'start': 32591636},\n",
       " {'end': 32614003, 'label': 'Ex67', 'start': 32613863},\n",
       " {'end': 32632580, 'label': 'Ex68', 'start': 32632409},\n",
       " {'end': 32662440, 'label': 'Ex69', 'start': 32662238},\n",
       " {'end': 32663279, 'label': 'Ex70', 'start': 32663070},\n",
       " {'end': 32716125, 'label': 'Ex71', 'start': 32715976},\n",
       " {'end': 32717420, 'label': 'Ex72', 'start': 32717218},\n",
       " {'end': 32827738, 'label': 'Ex73', 'start': 32827599},\n",
       " {'end': 32834767, 'label': 'Ex74', 'start': 32834574},\n",
       " {'end': 32841514, 'label': 'Ex75', 'start': 32841401},\n",
       " {'end': 32862987, 'label': 'Ex76', 'start': 32862889},\n",
       " {'end': 32867947, 'label': 'Ex77', 'start': 32867834},\n",
       " {'end': 33038327, 'label': 'Ex78', 'start': 33038245},\n",
       " {'end': 33146544, 'label': 'Target77', 'start': 33146180},\n",
       " {'end': 33229673, 'label': 'Ex79', 'start': 33229388},\n",
       " {'end': 33357726, 'label': 'Target79', 'start': 33357365}]"
      ]
     },
     "execution_count": 40,
     "metadata": {},
     "output_type": "execute_result"
    }
   ],
   "source": [
    "with open('training_targets.pickle') as f:\n",
    "    targets = cPickle.load(f)\n",
    "sorted(targets, key=lambda target: target['start'])"
   ]
  },
  {
   "cell_type": "code",
   "execution_count": 46,
   "metadata": {
    "collapsed": false
   },
   "outputs": [],
   "source": [
    "with open('training_targets.bed', 'w') as f:\n",
    "    for target in sorted(targets, key=lambda target: target['start']):\n",
    "        print >> f, '{}\\t{}\\t{}\\t{}'.format('chrX', target['start'], target['end'], target['label'])"
   ]
  },
  {
   "cell_type": "code",
   "execution_count": null,
   "metadata": {
    "collapsed": true
   },
   "outputs": [],
   "source": []
  }
 ],
 "metadata": {
  "kernelspec": {
   "display_name": "Python 2",
   "language": "python",
   "name": "python2"
  },
  "language_info": {
   "codemirror_mode": {
    "name": "ipython",
    "version": 2
   },
   "file_extension": ".py",
   "mimetype": "text/x-python",
   "name": "python",
   "nbconvert_exporter": "python",
   "pygments_lexer": "ipython2",
   "version": "2.7.13"
  }
 },
 "nbformat": 4,
 "nbformat_minor": 2
}
