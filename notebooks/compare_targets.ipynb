{
 "cells": [
  {
   "cell_type": "code",
   "execution_count": 2,
   "metadata": {
    "collapsed": false,
    "deletable": true,
    "editable": true
   },
   "outputs": [
    {
     "name": "stderr",
     "output_type": "stream",
     "text": [
      "INFO:config:Using default ini file from: /Users/msilver/Dropbox (GenePeeks)/Max_workspace/genepeeks-science/genepeeks/common/../../conf/genepeeks.ini\n"
     ]
    }
   ],
   "source": [
    "import sys, os\n",
    "sys.path.append(os.path.join(os.getcwd(), '..'))\n",
    "from cnv import utilities as cnv_util\n",
    "from cnv import coverage_matrix as cm\n",
    "import pandas as pd\n",
    "from genepeeks.common import utilities as util\n",
    "import tabletext"
   ]
  },
  {
   "cell_type": "code",
   "execution_count": 83,
   "metadata": {
    "collapsed": false,
    "deletable": true,
    "editable": true
   },
   "outputs": [
    {
     "data": {
      "text/plain": [
       "<module 'genepeeks.common.utilities' from '/Users/msilver/Dropbox (GenePeeks)/Max_workspace/genepeeks-science/genepeeks/common/utilities.pyc'>"
      ]
     },
     "execution_count": 83,
     "metadata": {},
     "output_type": "execute_result"
    }
   ],
   "source": [
    "reload(cnv_util)\n",
    "reload(util)"
   ]
  },
  {
   "cell_type": "markdown",
   "metadata": {
    "deletable": true,
    "editable": true
   },
   "source": [
    "#### Compile all DMD interval lists to compare (primary ensembl transcript, all ensembl transcripts, or from TruSight Inherited Disease). Can optionally choose to restrict to only coding regions, or to include full exons including UTR"
   ]
  },
  {
   "cell_type": "code",
   "execution_count": 87,
   "metadata": {
    "collapsed": false,
    "deletable": true,
    "editable": true
   },
   "outputs": [],
   "source": [
    "def get_targets_d(only_coding_regions):\n",
    "    interval_args = {'min_dist': 200, 'only_coding_regions': only_coding_regions, 'print_merged_exons': False}\n",
    "    targets_d = {\n",
    "        'full_ensembl': {'intervals': cnv_util.get_merged_exons(only_primary_transcript=False, **interval_args)[0]},\n",
    "        'primary': {'intervals': cnv_util.get_merged_exons(only_primary_transcript=True, **interval_args)[0]},\n",
    "    }\n",
    "    bedfile_paths = {\n",
    "        'TSID': os.path.join('..', 'inputs', 'TruSight_Inherited_Disease_Manifest_A.bed'),\n",
    "    #     'TSO': os.path.join('..', 'inputs', 'TruSight-One-BED-May-2014.txt')\n",
    "    }\n",
    "    for name, file_p in bedfile_paths.items():\n",
    "        df = pd.read_csv(file_p, delimiter='\\t', header=None, names=('chrom', 'start', 'end', 'id'))\n",
    "        X_df = df[df['chrom'] == 'chrX'].sort_values(by='start')\n",
    "        X_df['gene'] = [ID.split('.')[0] for ID in X_df['id']]\n",
    "        DMD_intervals = map(dict, dict(X_df[X_df['gene'] == 'DMD'].T).values())\n",
    "        targets_d[name] = {'intervals': util.merge_intervals(DMD_intervals, include_index=True, min_dist=200)}\n",
    "    return targets_d"
   ]
  },
  {
   "cell_type": "markdown",
   "metadata": {
    "deletable": true,
    "editable": true
   },
   "source": [
    "#### Output all intervals that vary between the different panel's intervals"
   ]
  },
  {
   "cell_type": "code",
   "execution_count": 79,
   "metadata": {
    "collapsed": true,
    "deletable": true,
    "editable": true
   },
   "outputs": [],
   "source": [
    "def output_differences(only_coding_regions):\n",
    "    print 'only_coding_regions: {}'.format(only_coding_regions)\n",
    "    targets_d = get_targets_d(only_coding_regions)\n",
    "    all_interval_ranges = []\n",
    "    for name, targets in targets_d.items():\n",
    "        targets['ranges'] = [(intrv['start'], intrv['end']) for intrv in targets['intervals']]\n",
    "        all_interval_ranges.append(targets['intervals'])\n",
    "    full_intervals = util.interval_union(*all_interval_ranges)\n",
    "\n",
    "    panels = targets_d.keys()\n",
    "    intrv_fields = ['Index', 'Length']\n",
    "    headers = ['{}_{}'.format(panel, field) for panel in panels for field in intrv_fields]\n",
    "    table = [headers]\n",
    "    for intrv in full_intervals:\n",
    "        region = (intrv['start'], intrv['end'])\n",
    "        if any(region not in target['ranges'] for target in targets_d.values()):\n",
    "            disagreement = []\n",
    "            for panel in panels:\n",
    "                intervals = targets_d[panel]['intervals']\n",
    "                exon_indexes = util.in_interval(region, intervals)\n",
    "                if exon_indexes is None:\n",
    "                    index = length = start = end = None\n",
    "                else:\n",
    "                    target = intervals[exon_indexes[0]]\n",
    "                    index = target['index']\n",
    "                    start = target['start']\n",
    "                    end = target['end']\n",
    "                    length = target['end'] - target['start'] + 1\n",
    "                disagreement += [index, length]\n",
    "            table.append(disagreement)\n",
    "    print tabletext.to_text(table), '\\n'"
   ]
  },
  {
   "cell_type": "markdown",
   "metadata": {
    "deletable": true,
    "editable": true
   },
   "source": [
    "#### Output differences when looking at only coding regions"
   ]
  },
  {
   "cell_type": "code",
   "execution_count": 88,
   "metadata": {
    "collapsed": false,
    "deletable": true,
    "editable": true,
    "scrolled": true
   },
   "outputs": [
    {
     "name": "stdout",
     "output_type": "stream",
     "text": [
      "only_coding_regions: True\n",
      "┌────────────┬─────────────┬───────────────┬────────────────┬────────────────────┬─────────────────────┐\n",
      "│ TSID_Index │ TSID_Length │ primary_Index │ primary_Length │ full_ensembl_Index │ full_ensembl_Length │\n",
      "├────────────┼─────────────┼───────────────┼────────────────┼────────────────────┼─────────────────────┤\n",
      "│ 1          │        2703 │ 1             │             12 │ 1                  │                  98 │\n",
      "├────────────┼─────────────┼───────────────┼────────────────┼────────────────────┼─────────────────────┤\n",
      "│ 10         │         611 │ 10            │            137 │ 10                 │                 137 │\n",
      "├────────────┼─────────────┼───────────────┼────────────────┼────────────────────┼─────────────────────┤\n",
      "│ 18         │          98 │ None          │ None           │ 18                 │                  20 │\n",
      "├────────────┼─────────────┼───────────────┼────────────────┼────────────────────┼─────────────────────┤\n",
      "│ 26         │          91 │ None          │ None           │ None               │ None                │\n",
      "├────────────┼─────────────┼───────────────┼────────────────┼────────────────────┼─────────────────────┤\n",
      "│ 33         │         105 │ 31            │            102 │ 32                 │                 102 │\n",
      "├────────────┼─────────────┼───────────────┼────────────────┼────────────────────┼─────────────────────┤\n",
      "│ 34         │         183 │ 32            │            186 │ 33                 │                 186 │\n",
      "├────────────┼─────────────┼───────────────┼────────────────┼────────────────────┼─────────────────────┤\n",
      "│ 38         │          99 │ None          │ None           │ None               │ None                │\n",
      "├────────────┼─────────────┼───────────────┼────────────────┼────────────────────┼─────────────────────┤\n",
      "│ None       │ None        │ None          │ None           │ 41                 │                   9 │\n",
      "├────────────┼─────────────┼───────────────┼────────────────┼────────────────────┼─────────────────────┤\n",
      "│ 53|54      │         503 │ 50            │            162 │ 52                 │                 162 │\n",
      "├────────────┼─────────────┼───────────────┼────────────────┼────────────────────┼─────────────────────┤\n",
      "│ 66         │         124 │ 62            │            124 │ 64                 │                 175 │\n",
      "├────────────┼─────────────┼───────────────┼────────────────┼────────────────────┼─────────────────────┤\n",
      "│ 83         │         365 │ None          │ None           │ 81                 │                  19 │\n",
      "├────────────┼─────────────┼───────────────┼────────────────┼────────────────────┼─────────────────────┤\n",
      "│ 84         │         275 │ 79            │             31 │ 82                 │                  31 │\n",
      "├────────────┼─────────────┼───────────────┼────────────────┼────────────────────┼─────────────────────┤\n",
      "│ 85         │         351 │ None          │ None           │ 83                 │                   7 │\n",
      "└────────────┴─────────────┴───────────────┴────────────────┴────────────────────┴─────────────────────┘ \n",
      "\n"
     ]
    }
   ],
   "source": [
    "output_differences(True)"
   ]
  },
  {
   "cell_type": "markdown",
   "metadata": {
    "deletable": true,
    "editable": true
   },
   "source": [
    "#### Output differences when including UTRs"
   ]
  },
  {
   "cell_type": "code",
   "execution_count": 84,
   "metadata": {
    "collapsed": false,
    "deletable": true,
    "editable": true
   },
   "outputs": [
    {
     "name": "stdout",
     "output_type": "stream",
     "text": [
      "only_coding_regions: False\n",
      "There are 90 merged exons, with the following exons being merged: ['71|72']\n",
      "There are 78 merged exons, with the following exons being merged: ['65|66']\n",
      "┌────────────┬─────────────┬───────────────┬────────────────┬────────────────────┬─────────────────────┐\n",
      "│ TSID_Index │ TSID_Length │ primary_Index │ primary_Length │ full_ensembl_Index │ full_ensembl_Length │\n",
      "├────────────┼─────────────┼───────────────┼────────────────┼────────────────────┼─────────────────────┤\n",
      "│ None       │ None        │ None          │ None           │ 1                  │                 507 │\n",
      "├────────────┼─────────────┼───────────────┼────────────────┼────────────────────┼─────────────────────┤\n",
      "│ 1          │        2703 │ 1             │           2703 │ 2                  │                2712 │\n",
      "├────────────┼─────────────┼───────────────┼────────────────┼────────────────────┼─────────────────────┤\n",
      "│ 10         │         611 │ 10            │            137 │ 11                 │                 367 │\n",
      "├────────────┼─────────────┼───────────────┼────────────────┼────────────────────┼─────────────────────┤\n",
      "│ 12         │         167 │ 12            │            167 │ 13                 │                 190 │\n",
      "├────────────┼─────────────┼───────────────┼────────────────┼────────────────────┼─────────────────────┤\n",
      "│ 18         │          98 │ None          │ None           │ 19                 │                 143 │\n",
      "├────────────┼─────────────┼───────────────┼────────────────┼────────────────────┼─────────────────────┤\n",
      "│ None       │ None        │ None          │ None           │ 22                 │                 103 │\n",
      "├────────────┼─────────────┼───────────────┼────────────────┼────────────────────┼─────────────────────┤\n",
      "│ 26         │          91 │ None          │ None           │ 28                 │                 274 │\n",
      "├────────────┼─────────────┼───────────────┼────────────────┼────────────────────┼─────────────────────┤\n",
      "│ 33         │         105 │ 31            │            102 │ 35                 │                 102 │\n",
      "├────────────┼─────────────┼───────────────┼────────────────┼────────────────────┼─────────────────────┤\n",
      "│ 34         │         183 │ 32            │            186 │ 36                 │                 186 │\n",
      "├────────────┼─────────────┼───────────────┼────────────────┼────────────────────┼─────────────────────┤\n",
      "│ 38         │          99 │ None          │ None           │ 40                 │                  99 │\n",
      "├────────────┼─────────────┼───────────────┼────────────────┼────────────────────┼─────────────────────┤\n",
      "│ None       │ None        │ None          │ None           │ 45                 │                 220 │\n",
      "├────────────┼─────────────┼───────────────┼────────────────┼────────────────────┼─────────────────────┤\n",
      "│ 53|54      │         503 │ 50            │            162 │ 56                 │                 162 │\n",
      "├────────────┼─────────────┼───────────────┼────────────────┼────────────────────┼─────────────────────┤\n",
      "│ 66         │         124 │ 62            │            124 │ 68                 │                1536 │\n",
      "├────────────┼─────────────┼───────────────┼────────────────┼────────────────────┼─────────────────────┤\n",
      "│ None       │ None        │ None          │ None           │ 84                 │                 140 │\n",
      "├────────────┼─────────────┼───────────────┼────────────────┼────────────────────┼─────────────────────┤\n",
      "│ None       │ None        │ None          │ None           │ 86                 │                  27 │\n",
      "├────────────┼─────────────┼───────────────┼────────────────┼────────────────────┼─────────────────────┤\n",
      "│ 83         │         365 │ None          │ None           │ 87                 │                 365 │\n",
      "├────────────┼─────────────┼───────────────┼────────────────┼────────────────────┼─────────────────────┤\n",
      "│ None       │ None        │ None          │ None           │ 88                 │                  49 │\n",
      "├────────────┼─────────────┼───────────────┼────────────────┼────────────────────┼─────────────────────┤\n",
      "│ None       │ None        │ None          │ None           │ 89                 │                 403 │\n",
      "├────────────┼─────────────┼───────────────┼────────────────┼────────────────────┼─────────────────────┤\n",
      "│ 84         │         275 │ 79            │            238 │ 90                 │                 273 │\n",
      "├────────────┼─────────────┼───────────────┼────────────────┼────────────────────┼─────────────────────┤\n",
      "│ 85         │         351 │ None          │ None           │ 91                 │                 183 │\n",
      "└────────────┴─────────────┴───────────────┴────────────────┴────────────────────┴─────────────────────┘ \n",
      "\n"
     ]
    }
   ],
   "source": [
    "output_differences(False)"
   ]
  },
  {
   "cell_type": "code",
   "execution_count": null,
   "metadata": {
    "collapsed": true,
    "deletable": true,
    "editable": true
   },
   "outputs": [],
   "source": []
  }
 ],
 "metadata": {
  "kernelspec": {
   "display_name": "Python 2",
   "language": "python",
   "name": "python2"
  },
  "language_info": {
   "codemirror_mode": {
    "name": "ipython",
    "version": 2
   },
   "file_extension": ".py",
   "mimetype": "text/x-python",
   "name": "python",
   "nbconvert_exporter": "python",
   "pygments_lexer": "ipython2",
   "version": "2.7.11"
  }
 },
 "nbformat": 4,
 "nbformat_minor": 2
}
