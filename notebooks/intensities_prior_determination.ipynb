{
 "cells": [
  {
   "cell_type": "markdown",
   "metadata": {},
   "source": [
    "# Hyperparameter estimation for logistic normal prior distribution"
   ]
  },
  {
   "cell_type": "code",
   "execution_count": 1,
   "metadata": {
    "collapsed": false
   },
   "outputs": [
    {
     "name": "stderr",
     "output_type": "stream",
     "text": [
      "INFO:config:Using ini file set by environment: /Users/velina/Documents/GitHub/genepeeks-science/conf/genepeeks.ini\n",
      "/Users/velina/.pyenv/versions/2.7.11/envs/dmd/lib/python2.7/site-packages/matplotlib/__init__.py:1357: UserWarning:  This call to matplotlib.use() has no effect\n",
      "because the backend has already been chosen;\n",
      "matplotlib.use() must be called *before* pylab, matplotlib.pyplot,\n",
      "or matplotlib.backends is imported for the first time.\n",
      "\n",
      "  warnings.warn(_use_error_msg)\n"
     ]
    }
   ],
   "source": [
    "import os\n",
    "import pysam\n",
    "import copy\n",
    "import numpy as np\n",
    "import random\n",
    "import matplotlib.pyplot as plt\n",
    "import pandas as pd\n",
    "from collections import Counter\n",
    "from genepeeks.common import utilities as util\n",
    "import seaborn as sns\n",
    "# to clean up later -- temporary fix\n",
    "import sys\n",
    "sys.path.append(os.path.join(os.getcwd(), '..'))\n",
    "from cnv import utilities as DMD_util\n",
    "from cnv import coverage_matrix as cov\n",
    "import statsmodels.formula.api as sm\n",
    "from sklearn import linear_model\n",
    "import scipy.stats\n",
    "\n",
    "%matplotlib inline"
   ]
  },
  {
   "cell_type": "code",
   "execution_count": 4,
   "metadata": {
    "collapsed": true
   },
   "outputs": [],
   "source": [
    "# workaround to force real time print output in notebooks\n",
    "# see http://stackoverflow.com/questions/29772158/make-ipython-notebook-print-in-real-time\n",
    "import sys\n",
    "oldsysstdout = sys.stdout\n",
    "class flushfile():\n",
    "    def __init__(self, f):\n",
    "        self.f = f\n",
    "    def __getattr__(self,name): \n",
    "        return object.__getattribute__(self.f, name)\n",
    "    def write(self, x):\n",
    "        self.f.write(x)\n",
    "        self.f.flush()\n",
    "    def flush(self):\n",
    "        self.f.flush()\n",
    "sys.stdout = flushfile(sys.stdout)"
   ]
  },
  {
   "cell_type": "markdown",
   "metadata": {},
   "source": [
    "## Fitting Logistic Normal Distributions\n",
    "\n",
    "Here we use the EM algorithm presented by Huang and Malisiewicz http://people.csail.mit.edu/tomasz/papers/huang_hln_tech_report_2006.pdf (with more complete formulation by Hoff http://www.stat.washington.edu/people/pdhoff/Preprints/nhed.old.pdf) for estimating the hyperparameters of a hierarchical logistic MVN distribution.\n",
    "\n",
    "Briefly, we assume in our model that the sequencing reads of a normal (non-carrier) individual will be distributed across $k$ exons according to a multinomial distribution with probability vector $\\mathbf{p}$. Our model also assumes that for each individual, $\\mathbf{p}$ is generated as follows:\n",
    "$$ \\mathbf{v} = \\{v_1,...v_{k-1}\\} \\sim MVN(\\mathbf{\\mu}, \\mathbf{\\Sigma}) $$ where $\\mathbf{\\mu}$ is of length $k-1$ and $\\mathbf{\\Sigma}$ is a $k-1$ dim covariance vector. \n",
    "Set $v_k=0$ and let $$p_i = \\dfrac{\\exp{v_i}}{\\sum_{i=1}^k \\exp {v_i}}$$\n",
    "Note that we can hold $v_k = 0$ and limit this distribution to the $k-1$ simplex without loss of specificity, because of the softmax normalization step. (This also makes intuitive sense since the $k$ components of $\\mathbf{p}$ must sum to 1, so $p_k$ can be fully determined from the other vector components.)\n",
    "\n",
    "Since we don't know the $\\mathbf{v}$ for our subjects, we can try to infer the maximum likelihood estimates of $\\mathbf{\\mu}$ and $\\mathbf{\\Sigma}$ using an expectation maximization algorithm, where we alternate estimating the true values of $\\mathbf{v_1}, ... \\mathbf{v_N}$ for $N$ subjects total and iteratively maximizing the conditional expectation of the log likelihood. This can be done fairly easily thanks to the nifty normal approximation to the conditional distribution of the $\\mathbf{v}$ vectors."
   ]
  },
  {
   "cell_type": "code",
   "execution_count": 529,
   "metadata": {
    "collapsed": true
   },
   "outputs": [],
   "source": [
    "# note that the log-likelihood here is negative since we want to maximize it\n",
    "# initial reshaping and flattening at end of each function are for compatibility with scipy.optimize.fmin_cg\n",
    "def loglike_vcond(z, n, edf, mu, inv_cov):\n",
    "    \"\"\"Calculates the negative log likelihood of z (v in our notation above) conditional on the data and current values of \n",
    "    mu and cov\"\"\"\n",
    "    z = z.reshape((-1,1))\n",
    "    pz = np.exp(z - np.amax(z))\n",
    "    pz = pz / (np.exp(-np.amax(z)) + np.sum(pz))\n",
    "    \n",
    "    neg_loglike = (-(n * np.dot(z.flatten(), edf.flatten()) - n * np.log(1 + np.sum(np.exp(z))) - \n",
    "                   0.5 *np.dot(np.dot((z - mu).T, inv_cov), (z - mu))))\n",
    "    \n",
    "    return neg_loglike[0][0]\n",
    "\n",
    "# gradient of the conditional log-likelihood \n",
    "def grad_vcond(z, n, edf, mu, inv_cov):\n",
    "    z = z.reshape((-1,1))\n",
    "    pz = np.exp(z - np.amax(z))\n",
    "    pz = pz / (np.exp(-np.amax(z)) + np.sum(pz))\n",
    "    \n",
    "    grad = -(n * (edf - pz) - np.dot(inv_cov,(z - mu)))\n",
    "    return grad.flatten()"
   ]
  },
  {
   "cell_type": "code",
   "execution_count": 530,
   "metadata": {
    "collapsed": true
   },
   "outputs": [],
   "source": [
    "# based on matlab code from https://www.mathworks.com/matlabcentral/fileexchange/11275-hlnfit\n",
    "def conditional_mode(y, mu, cov, EMiter, initialz):\n",
    "    \"\"\"Calculates the conditional mode of z (v above) given data for a single individual and current estimates\n",
    "    of mu and cov\n",
    "    y -- kx1 array of read counts in each exon for single individual (histogram of multinomial draws)\n",
    "    mu -- currrent estimate of mu, k-1 x 1 array\n",
    "    cov -- current estimate of cov, k-1 x k-1 array\n",
    "    initialz -- initial estimate for z, k-1 x 1 array \n",
    "    \n",
    "    Returns \n",
    "    mu_hat -- conditional mode of z, k-1 x 1 array\n",
    "    cov_hat -- inverse of the negative hessian calculated using conditional mode mu_hat, k-1 x k-1 array\n",
    "    loglike -- log-likelihood of z and data after convergence, float\n",
    "    \"\"\"\n",
    "    max_iterations = 25 \n",
    "    tol = 1e-9\n",
    "    k = len(mu)+1\n",
    "    initialz = initialz.reshape(-1, 1)\n",
    "    z = initialz\n",
    "    n = np.sum(y)\n",
    "    edf = (y / float(n))[:-1].reshape(-1, 1) # must be column vector\n",
    "    inv_cov = np.linalg.inv(cov)\n",
    "    grad = np.zeros((k-1, 1))\n",
    "    neg_hess = np.zeros((k-1, k-1))\n",
    "\n",
    "    change = tol+1\n",
    "    iters = 0\n",
    "    # authors use previously implemented code for Polak-Ribiere -- instead of recreating, we use \n",
    "    # the scipy implemented version here\n",
    "    args = (n, edf, mu, inv_cov)\n",
    "    z = scipy.optimize.fmin_cg(loglike_vcond, z, fprime=grad_vcond, args=args, maxiter=20, disp=0).reshape((-1, 1))\n",
    "    z_cg = z\n",
    "    \n",
    "    # Newton-raphson after coarse optimization with Polak-Ribiere\n",
    "    tries = 0\n",
    "    while iters < max_iterations and change > tol:\n",
    "        oldz = z\n",
    "        \n",
    "        pz = np.exp(z - np.amax(z))\n",
    "        pz = pz / (np.exp(-np.amax(z)) + np.sum(pz))\n",
    "        \n",
    "        # gradient with respect to unnormalized intensities (z vector)\n",
    "        grad = n * (edf - pz) - np.dot(inv_cov, (z - mu))\n",
    "        # negative hessian (second derivative)\n",
    "        neg_hess = inv_cov + n * (np.diag(pz.flatten())) - n * (np.dot(pz, pz.T)) # note outer product here\n",
    "        z = z + np.dot(np.linalg.inv(neg_hess), grad)\n",
    "        \n",
    "        change = np.amax(np.absolute(z - oldz))\n",
    "        iters += 1\n",
    "        \n",
    "        # try reinitializing with different values if stuck\n",
    "        if iters > max_iterations - 1:\n",
    "            z = initialz + 2 * (np.random.rand(k-1, 1) - 0.5 * np.ones((k-1, 1)))\n",
    "            iters = 0\n",
    "            tries += 1\n",
    "        \n",
    "        # something is probably wrong if this is actually happening\n",
    "        if tries > max(EMiter * 5, 20):\n",
    "            logger.info('Giving up on Newton Raphson, change is {}'.format(change))\n",
    "            z = z_cg  # why reset to original starting value in authors' code? shouldn't it be z_cg\n",
    "            iters = max_iterations \n",
    "            \n",
    "    mu_hat = z\n",
    "    cov_hat = np.linalg.inv(neg_hess)\n",
    "    # conditional log likelihood\n",
    "    loglike = (n * np.dot(z.flatten(), edf.flatten()) - n * np.log(1 + np.sum(np.exp(z))) - \n",
    "               0.5 *np.dot(np.dot((z - mu).T, inv_cov), (z - mu)))\n",
    "    \n",
    "    return mu_hat, cov_hat, loglike "
   ]
  },
  {
   "cell_type": "code",
   "execution_count": 550,
   "metadata": {
    "collapsed": true
   },
   "outputs": [],
   "source": [
    "def hln_EM(Y, logger, max_iterations=25, tol=1e-6):\n",
    "    \"\"\"Returns estimates for mu and cov after EM on subject data.\n",
    "    Y -- N x k matrix where k is the number of exons and N is the number of subjects\n",
    "    logger -- logger object to pass logging to\n",
    "    \"\"\"\n",
    "    m = Y.shape[0]\n",
    "    k = Y.shape[1]\n",
    "    mu = np.zeros((k-1, 1))\n",
    "    cov = np.eye(k-1)\n",
    "    mu_hat = np.zeros((k-1, m))\n",
    "    cov_hat = np.zeros((k-1, k-1, m))\n",
    "    per_doc_loglikes = np.zeros((m, 1))\n",
    "    \n",
    "    change = tol+1\n",
    "    iters = 0\n",
    "    mu_hat = np.tile(mu, [1, m])\n",
    "    \n",
    "    while iters < max_iterations and change > tol:\n",
    "        oldmu = mu\n",
    "        oldcov = cov\n",
    "        \n",
    "        # for each subject\n",
    "        for i in range(m):\n",
    "            mu_hat[:, i:i+1], cov_hat[:, :, i], per_doc_loglikes[i]= conditional_mode(Y[i, :], mu, cov, \n",
    "                                                                                      iters, mu_hat[:, i])\n",
    "            \n",
    "        # update based on maximization with normal approximation\n",
    "        mu = (1. / m) * np.sum(mu_hat, axis=1).reshape((-1, 1))\n",
    "        c_mu_hat = mu_hat - np.tile(mu, [1, m])\n",
    "        cov = (1. / m) * (np.dot(c_mu_hat, c_mu_hat.T) + np.sum(cov_hat, axis=2))\n",
    "        \n",
    "        change = np.amax([np.amax(np.absolute(mu - oldmu)), np.amax(np.absolute(cov - oldcov))])\n",
    "        iters += 1\n",
    "        logger.info('iteration: {}, change: {}'.format(iters, change))\n",
    "    \n",
    "    return mu, cov"
   ]
  },
  {
   "cell_type": "code",
   "execution_count": 533,
   "metadata": {
    "collapsed": true
   },
   "outputs": [],
   "source": [
    "def gen_hln_samples(numdocs, numdraws, mu, cov):\n",
    "    \"\"\"Generate probability vectors for multinomial distributions from hierarchical logistic normal model\"\"\"\n",
    "    X = np.exp(np.random.multivariate_normal(mu, cov, numdocs))\n",
    "    X = np.concatenate((X, np.ones((numdocs, 1))), axis=1)\n",
    "    X = X / X.sum(axis=1)[:, None]  # add the extra dimension so matrix division returns properly\n",
    "    \n",
    "    Y = np.zeros((numdocs, len(mu)+1))\n",
    "    for i in range(len(X)):\n",
    "        Y[i] = np.random.multinomial(numdraws, X[i])\n",
    "    \n",
    "    return Y, X"
   ]
  },
  {
   "cell_type": "markdown",
   "metadata": {},
   "source": [
    "## Comparing results to authors' code \n",
    "We can run the authors' code (with some modifications and additions) in Octave to make sure we have fully replicated their results. "
   ]
  },
  {
   "cell_type": "code",
   "execution_count": 544,
   "metadata": {
    "collapsed": false
   },
   "outputs": [
    {
     "data": {
      "text/plain": [
       "{'Y': array([[ 305.,  507.,  188.],\n",
       "        [ 297.,  482.,  221.],\n",
       "        [ 259.,  551.,  190.],\n",
       "        [ 299.,  512.,  189.],\n",
       "        [ 312.,  505.,  183.],\n",
       "        [ 310.,  481.,  209.],\n",
       "        [ 272.,  491.,  237.],\n",
       "        [ 277.,  484.,  239.],\n",
       "        [ 277.,  544.,  179.],\n",
       "        [ 320.,  460.,  220.]]),\n",
       " '__globals__': [],\n",
       " '__header__': 'MATLAB 5.0 MAT-file, written by Octave 4.0.3, 2017-03-21 15:07:13 UTC',\n",
       " '__version__': '1.0',\n",
       " 'cov2': array([[ 0.00833967,  0.00854695],\n",
       "        [ 0.00854695,  0.01493686]]),\n",
       " 'mu2': array([[ 0.35593017],\n",
       "        [ 0.89423146]])}"
      ]
     },
     "execution_count": 544,
     "metadata": {},
     "output_type": "execute_result"
    }
   ],
   "source": [
    "import scipy.io as sio\n",
    "# load small data vector generated in Octave -- contains data Y, and estimates for mu and cov generated from authors \n",
    "# code\n",
    "mat_results = sio.loadmat('hln_test.mat')\n",
    "mat_results"
   ]
  },
  {
   "cell_type": "code",
   "execution_count": 545,
   "metadata": {
    "collapsed": false
   },
   "outputs": [
    {
     "data": {
      "text/plain": [
       "array([[ 305.,  507.,  188.],\n",
       "       [ 297.,  482.,  221.],\n",
       "       [ 259.,  551.,  190.],\n",
       "       [ 299.,  512.,  189.],\n",
       "       [ 312.,  505.,  183.],\n",
       "       [ 310.,  481.,  209.],\n",
       "       [ 272.,  491.,  237.],\n",
       "       [ 277.,  484.,  239.],\n",
       "       [ 277.,  544.,  179.],\n",
       "       [ 320.,  460.,  220.]])"
      ]
     },
     "execution_count": 545,
     "metadata": {},
     "output_type": "execute_result"
    }
   ],
   "source": [
    "logger = util.create_logging(to_console=True)\n",
    "matlabY = mat_results['Y']"
   ]
  },
  {
   "cell_type": "code",
   "execution_count": 551,
   "metadata": {
    "collapsed": false
   },
   "outputs": [
    {
     "name": "stderr",
     "output_type": "stream",
     "text": [
      "iteration: 1, change: 0.975913527554\n",
      "iteration: 2, change: 0.00868498326572\n",
      "iteration: 3, change: 0.00289232091609\n",
      "iteration: 4, change: 0.00140479774334\n",
      "iteration: 5, change: 0.000807556236879\n",
      "iteration: 6, change: 0.000512390120469\n",
      "iteration: 7, change: 0.000347439741851\n",
      "iteration: 8, change: 0.000247202847967\n",
      "iteration: 9, change: 0.000182345843859\n",
      "iteration: 10, change: 0.000138247200433\n",
      "iteration: 11, change: 0.000107036913986\n",
      "iteration: 12, change: 8.42188332113e-05\n",
      "iteration: 13, change: 6.70934340157e-05\n",
      "iteration: 14, change: 5.39677404802e-05\n",
      "iteration: 15, change: 4.37376676068e-05\n",
      "iteration: 16, change: 3.56573471156e-05\n",
      "iteration: 17, change: 2.92067897325e-05\n",
      "iteration: 18, change: 2.40132887877e-05\n",
      "iteration: 19, change: 1.98031965732e-05\n",
      "iteration: 20, change: 1.6371408168e-05\n",
      "iteration: 21, change: 1.35614752995e-05\n",
      "iteration: 22, change: 1.12522856737e-05\n",
      "iteration: 23, change: 9.34890863911e-06\n",
      "iteration: 24, change: 7.77615465508e-06\n",
      "iteration: 25, change: 6.47394635318e-06\n"
     ]
    }
   ],
   "source": [
    "ml_mu, ml_cov = hln_EM(matlabY, logger)"
   ]
  },
  {
   "cell_type": "code",
   "execution_count": 552,
   "metadata": {
    "collapsed": false
   },
   "outputs": [
    {
     "name": "stdout",
     "output_type": "stream",
     "text": [
      "Max difference in mu estimates: 7.77156117238e-14\n",
      "Max difference in cov estimates: 4.80540954251e-13\n"
     ]
    }
   ],
   "source": [
    "# compare our values to theirs -- they match!\n",
    "print 'Max difference in mu estimates: {}'.format(np.amax(ml_mu - mat_results['mu2']))\n",
    "print 'Max difference in cov estimates: {}'.format(np.amax(ml_cov - mat_results['cov2']))"
   ]
  },
  {
   "cell_type": "code",
   "execution_count": 553,
   "metadata": {
    "collapsed": false
   },
   "outputs": [
    {
     "name": "stdout",
     "output_type": "stream",
     "text": [
      "[ 0.45700162  0.90425833] [[ 0.0329542   0.00252362]\n",
      " [ 0.00252362  0.07946448]]\n"
     ]
    }
   ],
   "source": [
    "# replicating authors' test code for testing of correctness and goodness of estimates\n",
    "logger = util.create_logging(to_console=True) \n",
    "\n",
    "dim = 2\n",
    "mu = np.random.rand(dim)\n",
    "cov = scipy.stats.invwishart.rvs(10 * dim, np.eye(dim))\n",
    "numdocs = 500\n",
    "numdraws = 1000\n",
    "# draw from multivariate and then multinomial\n",
    "Y, X = gen_hln_samples(numdocs, numdraws, mu, cov)\n",
    "# print true values\n",
    "print mu, cov"
   ]
  },
  {
   "cell_type": "code",
   "execution_count": 555,
   "metadata": {
    "collapsed": false
   },
   "outputs": [
    {
     "name": "stderr",
     "output_type": "stream",
     "text": [
      "iteration: 1, change: 0.95150326202\n",
      "iteration: 2, change: 0.0115403019838\n",
      "iteration: 3, change: 0.00294447982645\n",
      "iteration: 4, change: 0.000997187849446\n",
      "iteration: 5, change: 0.00036901849309\n",
      "iteration: 6, change: 0.000141063633415\n",
      "iteration: 7, change: 5.46193505482e-05\n",
      "iteration: 8, change: 2.1262587017e-05\n",
      "iteration: 9, change: 8.29734463553e-06\n",
      "iteration: 10, change: 3.24173642206e-06\n",
      "iteration: 11, change: 1.26733689628e-06\n",
      "iteration: 12, change: 4.9564050765e-07\n",
      "iteration: 13, change: 1.93883675864e-07\n",
      "iteration: 14, change: 7.58542712462e-08\n",
      "iteration: 15, change: 2.96798962005e-08\n",
      "iteration: 16, change: 1.16137793549e-08\n",
      "iteration: 17, change: 4.54468240124e-09\n",
      "iteration: 18, change: 1.77848176464e-09\n",
      "iteration: 19, change: 6.9597552721e-10\n",
      "iteration: 20, change: 2.72296470094e-10\n",
      "iteration: 21, change: 1.0651224347e-10\n",
      "iteration: 22, change: 4.17744588921e-11\n"
     ]
    },
    {
     "name": "stdout",
     "output_type": "stream",
     "text": [
      "CPU times: user 5.7 s, sys: 41.1 ms, total: 5.74 s\n",
      "Wall time: 5.76 s\n"
     ]
    }
   ],
   "source": [
    "%%time\n",
    "mu_est, cov_est = hln_EM(Y, logger, 32, 1e-10)"
   ]
  },
  {
   "cell_type": "code",
   "execution_count": 556,
   "metadata": {
    "collapsed": false
   },
   "outputs": [
    {
     "data": {
      "text/plain": [
       "(array([[ 0.4725024 ],\n",
       "        [ 0.91180186]]), array([[ 0.03241518,  0.00646411],\n",
       "        [ 0.00646411,  0.08541071]]))"
      ]
     },
     "execution_count": 556,
     "metadata": {},
     "output_type": "execute_result"
    }
   ],
   "source": [
    "# what values did we get?\n",
    "mu_est, cov_est"
   ]
  },
  {
   "cell_type": "code",
   "execution_count": 563,
   "metadata": {
    "collapsed": false
   },
   "outputs": [
    {
     "name": "stdout",
     "output_type": "stream",
     "text": [
      "Max error in mu: 0.0155007813668\n",
      "Max error in cov: 0.00594623002017\n"
     ]
    }
   ],
   "source": [
    "# max error in estimates\n",
    "print 'Max error in mu: {}'.format(np.amax(np.absolute(mu - mu_est.flatten())))\n",
    "print 'Max error in cov: {}'.format(np.amax(np.absolute(cov.flatten() - cov_est.flatten())))"
   ]
  },
  {
   "cell_type": "markdown",
   "metadata": {},
   "source": [
    "### End of logistic normal parameter estimation"
   ]
  },
  {
   "cell_type": "markdown",
   "metadata": {},
   "source": [
    "## Exon coverage by panel type"
   ]
  },
  {
   "cell_type": "code",
   "execution_count": 3,
   "metadata": {
    "collapsed": false
   },
   "outputs": [
    {
     "name": "stdout",
     "output_type": "stream",
     "text": [
      "2702\n",
      "[31137345, 31140047]\n",
      "[33229399, 33229636]\n"
     ]
    }
   ],
   "source": [
    "# DMD exon/gene coordinates and useful regions (coordinates taken from IGV b37 reference) -- not used anymore\n",
    "# EXON46 = [31950197, 31950344]\n",
    "# EXON47 = [31947713, 31947862]\n",
    "# EXON48 = [31893308, 31893490]\n",
    "# EXON49 = [31854835, 31854939]\n",
    "# EXON50 = [31838092, 31838200]\n",
    "# EXON51 = [31792077, 31792309]\n",
    "# DMD = [31115794, 33357558]  # taken from ensembl GRCh37\n",
    "\n",
    "# deletion of partial exons\n",
    "EX48_50_PART = [31838130, 31893308]\n",
    "\n",
    "# for consistency with exon labeling in Ensembl\n",
    "exon_dict = {exon['index']: [exon['start'], exon['end']] for exon in DMD_exons_merged}\n",
    "print exon_dict['1'][1] - exon_dict['1'][0]\n",
    "print exon_dict['1']\n",
    "print exon_dict['79']"
   ]
  },
  {
   "cell_type": "code",
   "execution_count": 2,
   "metadata": {
    "collapsed": false
   },
   "outputs": [
    {
     "name": "stdout",
     "output_type": "stream",
     "text": [
      "There are 78 merged exons, with the following exons being merged: ['65|66']\n"
     ]
    }
   ],
   "source": [
    "DMD_exons_merged, exon_labels = DMD_util.get_merged_exons()"
   ]
  },
  {
   "cell_type": "code",
   "execution_count": 240,
   "metadata": {
    "collapsed": false
   },
   "outputs": [
    {
     "name": "stdout",
     "output_type": "stream",
     "text": [
      "['M1' 'P1' 'P3' 'P2' 'T1' 'T4' 'T3' 'T2']\n",
      "(1230, 92)\n"
     ]
    },
    {
     "data": {
      "text/html": [
       "<div>\n",
       "<table border=\"1\" class=\"dataframe\">\n",
       "  <thead>\n",
       "    <tr style=\"text-align: right;\">\n",
       "      <th></th>\n",
       "      <th>id</th>\n",
       "      <th>subject</th>\n",
       "      <th>specimen</th>\n",
       "      <th>sample</th>\n",
       "      <th>gender</th>\n",
       "      <th>sequencer</th>\n",
       "      <th>flow_cell_id</th>\n",
       "      <th>lane</th>\n",
       "      <th>bwa_version</th>\n",
       "      <th>date_modified</th>\n",
       "      <th>...</th>\n",
       "      <th>Ex72</th>\n",
       "      <th>Ex73</th>\n",
       "      <th>Ex74</th>\n",
       "      <th>Ex75</th>\n",
       "      <th>Ex76</th>\n",
       "      <th>Ex77</th>\n",
       "      <th>Ex78</th>\n",
       "      <th>Ex79</th>\n",
       "      <th>date</th>\n",
       "      <th>tsid_ratio</th>\n",
       "    </tr>\n",
       "  </thead>\n",
       "  <tbody>\n",
       "    <tr>\n",
       "      <th>0</th>\n",
       "      <td>FCLR-GP01-2121_1-M1-1_HGGF5AFXX-L001</td>\n",
       "      <td>FCLR-GP01-2121</td>\n",
       "      <td>FCLR-GP01-2121_1</td>\n",
       "      <td>FCLR-GP01-2121_1-M1-1</td>\n",
       "      <td>F</td>\n",
       "      <td>M1</td>\n",
       "      <td>HGGF5AFXX</td>\n",
       "      <td>L001</td>\n",
       "      <td>0.7.15-r1140</td>\n",
       "      <td>2016-10-31 23:15:02</td>\n",
       "      <td>...</td>\n",
       "      <td>76</td>\n",
       "      <td>77</td>\n",
       "      <td>139</td>\n",
       "      <td>58</td>\n",
       "      <td>63</td>\n",
       "      <td>77</td>\n",
       "      <td>23</td>\n",
       "      <td>81</td>\n",
       "      <td>2016-10-31</td>\n",
       "      <td>0.098774</td>\n",
       "    </tr>\n",
       "    <tr>\n",
       "      <th>1</th>\n",
       "      <td>FCLR-GP01-2121_1-M1-1_HGGF5AFXX-L002</td>\n",
       "      <td>FCLR-GP01-2121</td>\n",
       "      <td>FCLR-GP01-2121_1</td>\n",
       "      <td>FCLR-GP01-2121_1-M1-1</td>\n",
       "      <td>F</td>\n",
       "      <td>M1</td>\n",
       "      <td>HGGF5AFXX</td>\n",
       "      <td>L002</td>\n",
       "      <td>0.7.15-r1140</td>\n",
       "      <td>2016-10-31 23:15:02</td>\n",
       "      <td>...</td>\n",
       "      <td>77</td>\n",
       "      <td>57</td>\n",
       "      <td>121</td>\n",
       "      <td>50</td>\n",
       "      <td>95</td>\n",
       "      <td>78</td>\n",
       "      <td>27</td>\n",
       "      <td>67</td>\n",
       "      <td>2016-10-31</td>\n",
       "      <td>0.096824</td>\n",
       "    </tr>\n",
       "    <tr>\n",
       "      <th>2</th>\n",
       "      <td>FCLR-GP01-2121_1-M1-1_HGGF5AFXX-L003</td>\n",
       "      <td>FCLR-GP01-2121</td>\n",
       "      <td>FCLR-GP01-2121_1</td>\n",
       "      <td>FCLR-GP01-2121_1-M1-1</td>\n",
       "      <td>F</td>\n",
       "      <td>M1</td>\n",
       "      <td>HGGF5AFXX</td>\n",
       "      <td>L003</td>\n",
       "      <td>0.7.15-r1140</td>\n",
       "      <td>2016-10-31 23:15:02</td>\n",
       "      <td>...</td>\n",
       "      <td>76</td>\n",
       "      <td>52</td>\n",
       "      <td>137</td>\n",
       "      <td>51</td>\n",
       "      <td>78</td>\n",
       "      <td>85</td>\n",
       "      <td>23</td>\n",
       "      <td>38</td>\n",
       "      <td>2016-10-31</td>\n",
       "      <td>0.095321</td>\n",
       "    </tr>\n",
       "    <tr>\n",
       "      <th>3</th>\n",
       "      <td>FCLR-GP01-2121_1-M1-1_HGGF5AFXX-L004</td>\n",
       "      <td>FCLR-GP01-2121</td>\n",
       "      <td>FCLR-GP01-2121_1</td>\n",
       "      <td>FCLR-GP01-2121_1-M1-1</td>\n",
       "      <td>F</td>\n",
       "      <td>M1</td>\n",
       "      <td>HGGF5AFXX</td>\n",
       "      <td>L004</td>\n",
       "      <td>0.7.15-r1140</td>\n",
       "      <td>2016-10-31 23:15:02</td>\n",
       "      <td>...</td>\n",
       "      <td>96</td>\n",
       "      <td>71</td>\n",
       "      <td>117</td>\n",
       "      <td>46</td>\n",
       "      <td>76</td>\n",
       "      <td>88</td>\n",
       "      <td>29</td>\n",
       "      <td>56</td>\n",
       "      <td>2016-10-31</td>\n",
       "      <td>0.096840</td>\n",
       "    </tr>\n",
       "    <tr>\n",
       "      <th>4</th>\n",
       "      <td>MESB-0009-690N_ACGT.1.P1.1</td>\n",
       "      <td>MESB-0009-690N</td>\n",
       "      <td>MESB-0009-690N_ACGT_1</td>\n",
       "      <td>MESB-0009-690N_ACGT.1.P1.1</td>\n",
       "      <td>M</td>\n",
       "      <td>P1</td>\n",
       "      <td>NaN</td>\n",
       "      <td>NaN</td>\n",
       "      <td>0.7.10-r789</td>\n",
       "      <td>2016-06-08 15:49:31</td>\n",
       "      <td>...</td>\n",
       "      <td>48</td>\n",
       "      <td>74</td>\n",
       "      <td>64</td>\n",
       "      <td>42</td>\n",
       "      <td>50</td>\n",
       "      <td>10</td>\n",
       "      <td>1</td>\n",
       "      <td>6</td>\n",
       "      <td>2016-06-08</td>\n",
       "      <td>0.996922</td>\n",
       "    </tr>\n",
       "  </tbody>\n",
       "</table>\n",
       "<p>5 rows × 92 columns</p>\n",
       "</div>"
      ],
      "text/plain": [
       "                                     id         subject  \\\n",
       "0  FCLR-GP01-2121_1-M1-1_HGGF5AFXX-L001  FCLR-GP01-2121   \n",
       "1  FCLR-GP01-2121_1-M1-1_HGGF5AFXX-L002  FCLR-GP01-2121   \n",
       "2  FCLR-GP01-2121_1-M1-1_HGGF5AFXX-L003  FCLR-GP01-2121   \n",
       "3  FCLR-GP01-2121_1-M1-1_HGGF5AFXX-L004  FCLR-GP01-2121   \n",
       "4            MESB-0009-690N_ACGT.1.P1.1  MESB-0009-690N   \n",
       "\n",
       "                specimen                      sample gender sequencer  \\\n",
       "0       FCLR-GP01-2121_1       FCLR-GP01-2121_1-M1-1      F        M1   \n",
       "1       FCLR-GP01-2121_1       FCLR-GP01-2121_1-M1-1      F        M1   \n",
       "2       FCLR-GP01-2121_1       FCLR-GP01-2121_1-M1-1      F        M1   \n",
       "3       FCLR-GP01-2121_1       FCLR-GP01-2121_1-M1-1      F        M1   \n",
       "4  MESB-0009-690N_ACGT_1  MESB-0009-690N_ACGT.1.P1.1      M        P1   \n",
       "\n",
       "  flow_cell_id  lane   bwa_version       date_modified     ...      Ex72  \\\n",
       "0    HGGF5AFXX  L001  0.7.15-r1140 2016-10-31 23:15:02     ...        76   \n",
       "1    HGGF5AFXX  L002  0.7.15-r1140 2016-10-31 23:15:02     ...        77   \n",
       "2    HGGF5AFXX  L003  0.7.15-r1140 2016-10-31 23:15:02     ...        76   \n",
       "3    HGGF5AFXX  L004  0.7.15-r1140 2016-10-31 23:15:02     ...        96   \n",
       "4          NaN   NaN   0.7.10-r789 2016-06-08 15:49:31     ...        48   \n",
       "\n",
       "   Ex73  Ex74  Ex75  Ex76  Ex77  Ex78  Ex79        date  tsid_ratio  \n",
       "0    77   139    58    63    77    23    81  2016-10-31    0.098774  \n",
       "1    57   121    50    95    78    27    67  2016-10-31    0.096824  \n",
       "2    52   137    51    78    85    23    38  2016-10-31    0.095321  \n",
       "3    71   117    46    76    88    29    56  2016-10-31    0.096840  \n",
       "4    74    64    42    50    10     1     6  2016-06-08    0.996922  \n",
       "\n",
       "[5 rows x 92 columns]"
      ]
     },
     "execution_count": 240,
     "metadata": {},
     "output_type": "execute_result"
    }
   ],
   "source": [
    "# get full dataset and also subsets based on gender, sequencer, etc\n",
    "coverage_df = pd.read_csv('../exon_data/coverage_matrix.csv', header=0, index_col=0)\n",
    "coverage_df.is_rerun.values == False\n",
    "# remove rerun data\n",
    "coverage_df = coverage_df[coverage_df.is_rerun == False]\n",
    "coverage_df.drop('is_rerun', axis=1, inplace=True)\n",
    "coverage_df.index.name = None\n",
    "# convert dates to datetime\n",
    "coverage_df.date_modified = pd.to_datetime(coverage_df.date_modified, unit='s')\n",
    "coverage_df['date'] = coverage_df.date_modified.dt.date\n",
    "# get tsid/tso ratio\n",
    "coverage_df['tsid_ratio'] = coverage_df.TSID_only / (coverage_df.TSID_only + coverage_df.TSO_only)\n",
    "# split by gender\n",
    "coverage_df_f = coverage_df[coverage_df.gender == 'F']\n",
    "coverage_df_m = coverage_df[coverage_df.gender == 'M']\n",
    "# only females in RMA\n",
    "coverage_df_RMA = coverage_df[coverage_df.subject.str.contains('FRMR')]\n",
    "coverage_df_M1 = coverage_df[coverage_df.sequencer == 'M1']\n",
    "grouped_seq = coverage_df.groupby('sequencer')\n",
    "group_dict = {x: grouped_seq.get_group(x) for x in grouped_seq.groups}\n",
    "print coverage_df.sequencer.unique()\n",
    "print coverage_df.shape\n",
    "coverage_df.head()"
   ]
  },
  {
   "cell_type": "code",
   "execution_count": 6,
   "metadata": {
    "collapsed": false
   },
   "outputs": [
    {
     "data": {
      "text/plain": [
       "(<matplotlib.text.Text at 0x111254e10>, <matplotlib.text.Text at 0x111336510>)"
      ]
     },
     "execution_count": 6,
     "metadata": {},
     "output_type": "execute_result"
    },
    {
     "data": {
      "image/png": "[encoded data removed]",
      "text/plain": [
       "<matplotlib.figure.Figure at 0x11102c790>"
      ]
     },
     "metadata": {},
     "output_type": "display_data"
    },
    {
     "data": {
      "image/png": "[encoded data removed]",
      "text/plain": [
       "<matplotlib.figure.Figure at 0x109283250>"
      ]
     },
     "metadata": {},
     "output_type": "display_data"
    }
   ],
   "source": [
    "plt.figure()\n",
    "plt.hist(coverage_df_M1.tsid_ratio)\n",
    "plt.xlabel('TSID Ratio'), plt.title('TSID Ratio Distribution across all mixin panel subjects')\n",
    "\n",
    "plt.figure()\n",
    "plt.hist(coverage_df_RMA.tsid_ratio, bins=20)\n",
    "plt.xlabel('TSID Ratio'), plt.title('TSID Ratio Distribution across RMA females')"
   ]
  },
  {
   "cell_type": "code",
   "execution_count": 7,
   "metadata": {
    "collapsed": false
   },
   "outputs": [
    {
     "data": {
      "text/plain": [
       "<matplotlib.text.Text at 0x10adb08d0>"
      ]
     },
     "execution_count": 7,
     "metadata": {},
     "output_type": "execute_result"
    },
    {
     "data": {
      "image/png": "[encoded data removed]",
      "text/plain": [
       "<matplotlib.figure.Figure at 0x10adb0c90>"
      ]
     },
     "metadata": {},
     "output_type": "display_data"
    }
   ],
   "source": [
    "coverage_df_control = coverage_df_f[(coverage_df_f.tsid_ratio < 0.45) & (coverage_df_f.tsid_ratio > 0.3)]\n",
    "plt.figure()\n",
    "plt.hist(coverage_df_control.tsid_ratio)\n",
    "plt.xlabel('TSID only ratio')"
   ]
  },
  {
   "cell_type": "markdown",
   "metadata": {},
   "source": [
    "There appears to be a subset of M1 subjects who were run on a very different version of the panel (with a significantly different TSID_only ratio -- around 0.1 instead of 0.38)"
   ]
  },
  {
   "cell_type": "code",
   "execution_count": 184,
   "metadata": {
    "collapsed": false
   },
   "outputs": [
    {
     "data": {
      "text/plain": [
       "(array([  6.,   2.,   7.,   8.,  11.,  18.,  12.,  10.,   4.,   4.]),\n",
       " array([ 0.01182062,  0.01257072,  0.01332082,  0.01407093,  0.01482103,\n",
       "         0.01557113,  0.01632124,  0.01707134,  0.01782144,  0.01857154,\n",
       "         0.01932165]),\n",
       " <a list of 10 Patch objects>)"
      ]
     },
     "execution_count": 184,
     "metadata": {},
     "output_type": "execute_result"
    },
    {
     "data": {
      "image/png": "[encoded data removed]",
      "text/plain": [
       "<matplotlib.figure.Figure at 0x113294790>"
      ]
     },
     "metadata": {},
     "output_type": "display_data"
    }
   ],
   "source": [
    "control = coverage_df_control.drop(['tsid_ratio', 'TSID_only', 'TSO_only'], axis=1)\n",
    "control_grouped = control.groupby('subject').sum()\n",
    "control_norm = control_grouped.div(control_grouped.sum(axis=1), axis=0)\n",
    "control_norm.head()\n",
    "plt.figure()\n",
    "plt.hist(control_norm.Ex15)"
   ]
  },
  {
   "cell_type": "markdown",
   "metadata": {},
   "source": [
    "## Gibbs Sampling -- new prior multinomial logistic prior will be added here and below\n"
   ]
  },
  {
   "cell_type": "markdown",
   "metadata": {},
   "source": [
    "The full gene product of DMD consists of 78 exons, each with its own copy number in each subject ($\\mathbf{C} = \\{c_1, c_2, ..., c_{78}\\}$), where $c_i \\in{1,2,3...}$ For this simple model, assume that the $c_i$ are distributed discrete uniformly with support $ \\{1,2,3\\}$. \n",
    "\n",
    "This model also includes \"intensity\" values across the exons $\\mathbf{X}= \\{x_1, x_2,..., x_{78}\\}$, and we let $$\\mathbf{P} = \\dfrac{\\mathbf{C}\\mathbf{X}}{\\sum_i c_ix_i} = \\{p_1, p_2, ..., p_{78}\\}$$ \n",
    "From here we let $k = 78$ to represent the model more generally.\n",
    "\n",
    "Thus our generative model assumes that the reads for every sequencing run (whether simulated or real) are distributed according to a multinomial distribution with probability vector $\\mathbf{P}$. Furthermore, we assume that $\\mathbf{X}$ are drawn from a Dirichlet distribution with known vector of priors $\\mathbf{\\gamma}$. If we let $\\mathbf{Y}$ represent the data from a single subject (where $y_i$ represents the number of reads mapped to exon $i$), we can write the joint distribution as:\n",
    "\n",
    "$$ \n",
    "\\begin{align}\n",
    "\\Pr(\\mathbf{C}, \\mathbf{Y}, \\mathbf{X}; \\mathbf{\\gamma}) \\;\\; &\\propto \\;\\;\\prod_{i=1}^k p_i^{y_i} \\prod_{i=1}^k x_i^{\\gamma_i - 1} \\\\\n",
    "&\\propto \\;\\;\\prod_{i=1}^k \\left(\\dfrac{c_ix_i}{\\sum c_ix_i}\\right)^{y_i} \\prod_{i=1}^k x_i^{\\gamma_i - 1} \\\\\n",
    "&\\propto \\;\\;\\left(\\dfrac{1}{\\sum c_ix_i}\\right)^\\mathbb{T} \\prod_{i=1}^k \\left(c_ix_i\\right)^{y_i} \\prod_{i=1}^k x_i^{\\gamma_i - 1} \\\\\n",
    "&\\propto \\;\\;\\left(\\dfrac{1}{\\sum c_ix_i}\\right)^\\mathbb{T} \\prod_{i=1}^k c_i^{y_i} x_i^{y_i + \\gamma_i - 1}\n",
    "\\end{align}\n",
    "$$\n",
    "Note that we have left out the normalization constants for the multinomial and Dirichlet distributions and $\\mathbb{T} = \\sum_i y_i$ represents the total number of reads in $\\mathbf{Y}$. Thus the complete joint distribution would be \n",
    "$$ \\Pr(\\mathbf{C}, \\mathbf{Y}, \\mathbf{X}; \\mathbf{\\gamma}) \\;\\; = \\;\\; \\dfrac{\\mathbb{T}!}{y_1!... y_k!} \\dfrac{\\Gamma (\\sum \\gamma_i)}{\\prod \\Gamma (\\gamma_i)}\\left(\\dfrac{1}{\\sum c_ix_i}\\right)^\\mathbb{T} \\prod_{i=1}^k c_i^{y_i} x_i^{y_i + \\gamma_i - 1} $$\n",
    "\n",
    "**Running the Gibbs Sampler**\n",
    "\n",
    "Initialize the intensities $\\mathbf{X}$ from $\\text{Dirichlet}(\\gamma)$ where the desired coverage ratios have been appropriately scaled to increase the bias of the prior. Initialize $c_i$ values based on basic prior distribution. If testing (without subject data), we can also generate fake subject data. \n",
    "\n",
    "At each iteration $t$, sample $c_i^t$ from the posterior distribution\n",
    "$$f_{C^t|Y, C_{-i}^t}(c) = \\dfrac{\\left(\\dfrac{1}{\\sum c_jx_j}\\right)^\\mathbb{T} \\prod_{j=1}^k c_j^{y_j} x_j^{y_j + \\gamma_j - 1} \\vert c_i = c} {\\sum_c \\left(\\dfrac{1}{\\sum c_jx_j}\\right)^\\mathbb{T} \\prod_{j=1}^k c_j^{y_j} x_j^{y_j + \\gamma_j - 1} \\vert c_i = c}$$ \n",
    "where $$ \\mathbf{C_{-i}}^t = \\{ c_1^t,...c_{i-1}^t, c_{i+1}^{t-1}, ... c_{78}^{t-1} \\}$$\n",
    "\n",
    "\n",
    "\n",
    "Normally this expression would include the prior distribution over $c$ but it easily cancels out as the uniform. (This expression also does not include the multinomial or dirichlet constants). In fact, we can also cancel some of the $x_j$ terms:\n",
    "$$f_{C^t|Y, C_{-i}^t}(c) = \\dfrac{\\left(\\dfrac{1}{\\sum c_jx_j}\\right)^\\mathbb{T} \\prod_{j=1}^k c_j^{y_i} \\vert c_i = c} {\\sum_c \\left(\\dfrac{1}{\\sum c_jx_j}\\right)^\\mathbb{T} \\prod_{j=1}^k c_j^{y_j} \\vert c_i = c}$$\n",
    "At the end of each iteration, we also need to resample $\\mathbf{X}$. Normally the Dirichlet is the conjugate prior of the multinomial, but in our case we have the more complex posterior:\n",
    "\n",
    "$$ \\begin{align}\n",
    "\\Pr(\\mathbf{X} | \\mathbf{Y}, \\mathbf{C}; \\gamma) &\\propto \\Pr(\\mathbf{X}|\\gamma) \\Pr(\\mathbf{Y}, \\mathbf{C} | \\mathbf{X}) \\\\\n",
    "&\\propto \\prod x_i^{\\gamma_i -1} \\prod \\left(\\dfrac{c_i x_i}{\\sum c_ix_i} \\right)^{y_i} \\\\\n",
    "&\\propto \\prod \\dfrac{c_i^{y_i}x_i^{y_i + \\gamma_i -1}}{\\left(\\sum c_ix_i \\right)^{y_i}}\n",
    "\\end{align} $$\n",
    "\n",
    "$$ \\prod_{i=1}^k \\dfrac{x_i^{y_i + \\gamma_i -1}}{\\left(\\sum c_ix_i \\right)^{y_i}} $$\n",
    "\n",
    "**Implementation considerations**: $\\prod_{j=1}^k c_j^{y_i} x_j^{y_j + \\gamma_j - 1}$ can cause under/overflow in Python (or washout of values too close to 0)\n",
    "\n",
    "**Solution**: Convert to log space and divide by the maximal likelihood to normalize (and keep values from shrinking too close to 0):\n",
    "\n",
    "In other words, calculate the value below for each $c_i = c$ and then divide by their sum to normalize.\n",
    "$$ \\exp\\left(-\\mathbb{T} \\log(\\sum c_jx_j) +  \\sum (y_j \\log c_j + (y_j + \\gamma_j -1)\\log x_j) - \\max_c \\left( -\\mathbb{T} \\log(\\sum c_jx_j) +  \\sum (y_j \\log c_j + (y_j + \\gamma_j -1)\\log x_j) \\right) \\right)$$ \n",
    "\n",
    "Store the $C^t$ values only for iterations $t=1000... 10,000$. This allows for a burn-in period of 1000 iterations during which the sampling distributions are likely to be least accurate. To reduce auto-correlation, only include every hundredth sampling in final analysis as well. For each exon $i$, count the proportions of samples falling into each possible copy number across the relevant subset of iterations. \n"
   ]
  },
  {
   "cell_type": "markdown",
   "metadata": {},
   "source": [
    "### Next Steps\n",
    "* Incorporate more complex and representative prior for the copy number distribution (in particular, there should be higher prior probability for 2 copies of exon)\n",
    "* Determine more accurate estimate of burn-in period (strange log-likelihood behavior, should converge as iterations increase)\n",
    "* Account for increased likelihood of copy number correlation between neighboring exons\n",
    "* Consider modifying prior for two exon deletion hotspots (around 45-50 and 18-20)\n",
    "* **Incorporate step for correcting for mixin-based discrepancies**\n"
   ]
  },
  {
   "cell_type": "code",
   "execution_count": 619,
   "metadata": {
    "collapsed": false
   },
   "outputs": [
    {
     "data": {
      "text/plain": [
       "array([ 0.04215466,  0.00503887,  0.01219685,  0.01949855,  0.01014229,\n",
       "        0.01530697,  0.02292741,  0.01966598,  0.00658655,  0.01536095,\n",
       "        0.01302953,  0.00913421,  0.0080407 ,  0.00969923,  0.01683406,\n",
       "        0.00958058,  0.01332116,  0.0064703 ,  0.01296143,  0.02752234,\n",
       "        0.01172826,  0.01629112,  0.01099417,  0.00869235,  0.02590953,\n",
       "        0.00953366,  0.01891899,  0.00953329,  0.01449503,  0.00728083,\n",
       "        0.01279229,  0.00914364,  0.01849212,  0.00803307,  0.01080465,\n",
       "        0.01037349,  0.01150525,  0.00775733,  0.01022832,  0.01134996,\n",
       "        0.01079948,  0.00765549,  0.0149941 ,  0.01410612,  0.02586731,\n",
       "        0.00834665,  0.02153014,  0.01143097,  0.02477873,  0.00813239,\n",
       "        0.0091945 ,  0.00700924,  0.01860981,  0.00758001,  0.02073513,\n",
       "        0.00858007,  0.00671624,  0.00783585,  0.01204692,  0.01874403,\n",
       "        0.01044444,  0.01646457,  0.00729369,  0.01199439,  0.01896777,\n",
       "        0.01145101,  0.01696939,  0.00884788,  0.01135852,  0.00577898,\n",
       "        0.01192208,  0.01010805,  0.01505487,  0.00693784,  0.00772894,\n",
       "        0.01089128,  0.00371116,  0.010052  ])"
      ]
     },
     "execution_count": 619,
     "metadata": {},
     "output_type": "execute_result"
    }
   ],
   "source": [
    "X_probs "
   ]
  },
  {
   "cell_type": "code",
   "execution_count": 804,
   "metadata": {
    "collapsed": false
   },
   "outputs": [],
   "source": [
    "def generate_gibbs_df(cnv_support, X_priors, data=None, cnv=None, scale=7e4, sim_reads=3e4, iterations=10000, burn_in=1000,\n",
    "                      df_wanted=True, exon_labels=None):\n",
    "    '''Performs Gibbs sampling given a support vector for CNVs, an intensity vector and subject data (optional)'''\n",
    "    # initialization of cnv counts and intensity vector\n",
    "    if cnv is None:\n",
    "        # generate initial guess for exon copy numbers using uniform prior distribution\n",
    "        cnv = np.random.choice(cnv_support, size=len(X_priors)) \n",
    "    print cnv\n",
    "    # we're using a scaling factor for the X_priors (small ratios give too much variability in the dirichlet)\n",
    "    X_vect = np.random.dirichlet(X_priors * scale)\n",
    "    # consider returning this vector along with initial cnv vector\n",
    "    normed_probs_first = np.multiply(cnv, X_vect) / np.sum(np.multiply(cnv, X_vect))\n",
    "    # for testing only\n",
    "    if data is None:\n",
    "        data = np.random.multinomial(sim_reads, normed_probs_first)\n",
    "    \n",
    "    gibbs_cnv_data = np.zeros((len(X_priors), iterations))\n",
    "    gibbs_X = np.zeros((iterations, len(X_priors)))\n",
    "    likelihoods = np.zeros(iterations)\n",
    "    \n",
    "    # begin iterations\n",
    "    for i in range(iterations):\n",
    "        if iterations > 20 and (i+1) % (iterations / 20) == 0:\n",
    "            print 'Finished {} iterations'.format(i)\n",
    "        # sample all cnv values\n",
    "        for exon in range(len(X_priors)):\n",
    "            test = np.zeros(len(cnv_support))\n",
    "            old = cnv[exon]\n",
    "            for value in cnv_support:\n",
    "                cnv[exon] = value\n",
    "                # get new normed probabilities given test value and priors for exon intensities\n",
    "                log_probs_norm = np.sum(data) * -1 * np.log(np.sum(np.multiply(cnv, X_vect)))\n",
    "                log_likelihood = (log_probs_norm + \n",
    "                                 np.sum(np.multiply(np.log(cnv), data)))\n",
    "                test[value - 1] = log_likelihood\n",
    "            test = test - np.max(test)\n",
    "            sample_probs = np.exp(test)\n",
    "            sample_probs = sample_probs / np.sum(sample_probs)\n",
    "            new_cnv = np.random.choice(cnv_support, p = sample_probs)\n",
    "            cnv[exon] = new_cnv\n",
    "            gibbs_cnv_data[exon, i] = new_cnv\n",
    "        # sample new X_vect after updating with data -- this is not the real posterior\n",
    "        X_vect = np.random.dirichlet(X_priors * scale + data)\n",
    "        gibbs_X[i] = X_vect\n",
    "        \n",
    "        log_probs_norm_fin = np.sum(data) * -1 * np.log(np.sum(np.multiply(cnv, X_vect)))\n",
    "        likelihoods[i] = (log_probs_norm + \n",
    "                          np.sum(np.multiply(np.log(cnv), data) + \n",
    "                                 np.multiply((data + (X_priors * scale) - 1), np.log(X_vect))))\n",
    "    \n",
    "    # get proportions using burn-in of 1000 iterations \n",
    "    gibbs_data_results = np.zeros((len(X_priors), len(cnv_support)))\n",
    "    for index in range(len(X_priors)):\n",
    "        # exclude samples before burn in and then take only every 100th sample to reduce autocorrelation\n",
    "        gibbs_slice = gibbs_cnv_data[index][burn_in:][::100]\n",
    "        gibbs_data_results[index] = np.bincount(gibbs_slice.astype(np.int64), \n",
    "                                                minlength=len(cnv_support)+1)[1:]\n",
    "    gibbs_data_results = gibbs_data_results / float(len(gibbs_slice))\n",
    "    \n",
    "    # return df for easier visualization\n",
    "    if df_wanted:\n",
    "        gibbs_df = pd.DataFrame(gibbs_data_results, columns =['copy_{}'.format(cnv) for cnv in cnv_support])\n",
    "        gibbs_df['Exon'] = exon_labels\n",
    "        return gibbs_cnv_data, gibbs_X, gibbs_data_results, likelihoods, gibbs_df\n",
    "    \n",
    "    return gibbs_cnv_data, gibbs_X, gibbs_data_results, likelihoods"
   ]
  },
  {
   "cell_type": "markdown",
   "metadata": {
    "collapsed": true
   },
   "source": [
    "## Rerunning Gibbs Sampling with varying intensity vectors\n",
    "The gibbs sampling done here will be performed with intensity vectors based on subsets of subjects with similar TSID_only ratios to the individual test subject. "
   ]
  },
  {
   "cell_type": "code",
   "execution_count": 391,
   "metadata": {
    "collapsed": false
   },
   "outputs": [
    {
     "name": "stdout",
     "output_type": "stream",
     "text": [
      "['M1']\n",
      "78\n"
     ]
    },
    {
     "data": {
      "text/html": [
       "<div>\n",
       "<table border=\"1\" class=\"dataframe\">\n",
       "  <thead>\n",
       "    <tr style=\"text-align: right;\">\n",
       "      <th>subject</th>\n",
       "      <th>Exon</th>\n",
       "      <th>FRMR-0070-444H</th>\n",
       "      <th>FRMR-0081-1987</th>\n",
       "      <th>FRMR-0085-579V</th>\n",
       "      <th>FRMR-00AG-860T</th>\n",
       "      <th>FRMR-00AW-8645</th>\n",
       "      <th>FRMR-00BB-772T</th>\n",
       "      <th>FRMR-00CS-821F</th>\n",
       "      <th>FRMR-00DM-853C</th>\n",
       "      <th>FRMR-00GC-803L</th>\n",
       "      <th>...</th>\n",
       "      <th>FRMR-00MS-704S</th>\n",
       "      <th>FRMR-00NC-7632</th>\n",
       "      <th>FRMR-00SA-876L</th>\n",
       "      <th>FRMR-00SB-851W</th>\n",
       "      <th>FRMR-00SC-714V</th>\n",
       "      <th>FRMR-00SD-679G</th>\n",
       "      <th>FRMR-00ST-841F</th>\n",
       "      <th>FRMR-00TS-8464</th>\n",
       "      <th>Mean</th>\n",
       "      <th>SD</th>\n",
       "    </tr>\n",
       "  </thead>\n",
       "  <tbody>\n",
       "    <tr>\n",
       "      <th>0</th>\n",
       "      <td>Ex1</td>\n",
       "      <td>0.039897</td>\n",
       "      <td>0.043291</td>\n",
       "      <td>0.038417</td>\n",
       "      <td>0.043620</td>\n",
       "      <td>0.039123</td>\n",
       "      <td>0.040485</td>\n",
       "      <td>0.039708</td>\n",
       "      <td>0.040878</td>\n",
       "      <td>0.045125</td>\n",
       "      <td>...</td>\n",
       "      <td>0.043579</td>\n",
       "      <td>0.046018</td>\n",
       "      <td>0.038485</td>\n",
       "      <td>0.039989</td>\n",
       "      <td>0.043555</td>\n",
       "      <td>0.037319</td>\n",
       "      <td>0.045118</td>\n",
       "      <td>0.040692</td>\n",
       "      <td>0.042155</td>\n",
       "      <td>0.002726</td>\n",
       "    </tr>\n",
       "    <tr>\n",
       "      <th>1</th>\n",
       "      <td>Ex2</td>\n",
       "      <td>0.004678</td>\n",
       "      <td>0.005073</td>\n",
       "      <td>0.005041</td>\n",
       "      <td>0.005331</td>\n",
       "      <td>0.005397</td>\n",
       "      <td>0.004894</td>\n",
       "      <td>0.004709</td>\n",
       "      <td>0.004108</td>\n",
       "      <td>0.005038</td>\n",
       "      <td>...</td>\n",
       "      <td>0.005191</td>\n",
       "      <td>0.004444</td>\n",
       "      <td>0.004449</td>\n",
       "      <td>0.005499</td>\n",
       "      <td>0.004628</td>\n",
       "      <td>0.006340</td>\n",
       "      <td>0.005937</td>\n",
       "      <td>0.005740</td>\n",
       "      <td>0.005039</td>\n",
       "      <td>0.000552</td>\n",
       "    </tr>\n",
       "    <tr>\n",
       "      <th>2</th>\n",
       "      <td>Ex3</td>\n",
       "      <td>0.012082</td>\n",
       "      <td>0.011451</td>\n",
       "      <td>0.011480</td>\n",
       "      <td>0.011187</td>\n",
       "      <td>0.011614</td>\n",
       "      <td>0.012285</td>\n",
       "      <td>0.012389</td>\n",
       "      <td>0.012783</td>\n",
       "      <td>0.012536</td>\n",
       "      <td>...</td>\n",
       "      <td>0.012038</td>\n",
       "      <td>0.012118</td>\n",
       "      <td>0.012041</td>\n",
       "      <td>0.012671</td>\n",
       "      <td>0.011442</td>\n",
       "      <td>0.010723</td>\n",
       "      <td>0.014282</td>\n",
       "      <td>0.013281</td>\n",
       "      <td>0.012197</td>\n",
       "      <td>0.000780</td>\n",
       "    </tr>\n",
       "    <tr>\n",
       "      <th>3</th>\n",
       "      <td>Ex4</td>\n",
       "      <td>0.018110</td>\n",
       "      <td>0.017262</td>\n",
       "      <td>0.017888</td>\n",
       "      <td>0.022636</td>\n",
       "      <td>0.017079</td>\n",
       "      <td>0.015429</td>\n",
       "      <td>0.021727</td>\n",
       "      <td>0.019059</td>\n",
       "      <td>0.020194</td>\n",
       "      <td>...</td>\n",
       "      <td>0.021530</td>\n",
       "      <td>0.021213</td>\n",
       "      <td>0.019180</td>\n",
       "      <td>0.017283</td>\n",
       "      <td>0.019932</td>\n",
       "      <td>0.015830</td>\n",
       "      <td>0.021847</td>\n",
       "      <td>0.021208</td>\n",
       "      <td>0.019499</td>\n",
       "      <td>0.002122</td>\n",
       "    </tr>\n",
       "    <tr>\n",
       "      <th>4</th>\n",
       "      <td>Ex5</td>\n",
       "      <td>0.009605</td>\n",
       "      <td>0.010441</td>\n",
       "      <td>0.010781</td>\n",
       "      <td>0.012763</td>\n",
       "      <td>0.009086</td>\n",
       "      <td>0.009238</td>\n",
       "      <td>0.011827</td>\n",
       "      <td>0.011468</td>\n",
       "      <td>0.009755</td>\n",
       "      <td>...</td>\n",
       "      <td>0.009813</td>\n",
       "      <td>0.008397</td>\n",
       "      <td>0.010155</td>\n",
       "      <td>0.009478</td>\n",
       "      <td>0.009228</td>\n",
       "      <td>0.010383</td>\n",
       "      <td>0.010177</td>\n",
       "      <td>0.010012</td>\n",
       "      <td>0.010142</td>\n",
       "      <td>0.000944</td>\n",
       "    </tr>\n",
       "  </tbody>\n",
       "</table>\n",
       "<p>5 rows × 25 columns</p>\n",
       "</div>"
      ],
      "text/plain": [
       "subject Exon  FRMR-0070-444H  FRMR-0081-1987  FRMR-0085-579V  FRMR-00AG-860T  \\\n",
       "0        Ex1        0.039897        0.043291        0.038417        0.043620   \n",
       "1        Ex2        0.004678        0.005073        0.005041        0.005331   \n",
       "2        Ex3        0.012082        0.011451        0.011480        0.011187   \n",
       "3        Ex4        0.018110        0.017262        0.017888        0.022636   \n",
       "4        Ex5        0.009605        0.010441        0.010781        0.012763   \n",
       "\n",
       "subject  FRMR-00AW-8645  FRMR-00BB-772T  FRMR-00CS-821F  FRMR-00DM-853C  \\\n",
       "0              0.039123        0.040485        0.039708        0.040878   \n",
       "1              0.005397        0.004894        0.004709        0.004108   \n",
       "2              0.011614        0.012285        0.012389        0.012783   \n",
       "3              0.017079        0.015429        0.021727        0.019059   \n",
       "4              0.009086        0.009238        0.011827        0.011468   \n",
       "\n",
       "subject  FRMR-00GC-803L    ...     FRMR-00MS-704S  FRMR-00NC-7632  \\\n",
       "0              0.045125    ...           0.043579        0.046018   \n",
       "1              0.005038    ...           0.005191        0.004444   \n",
       "2              0.012536    ...           0.012038        0.012118   \n",
       "3              0.020194    ...           0.021530        0.021213   \n",
       "4              0.009755    ...           0.009813        0.008397   \n",
       "\n",
       "subject  FRMR-00SA-876L  FRMR-00SB-851W  FRMR-00SC-714V  FRMR-00SD-679G  \\\n",
       "0              0.038485        0.039989        0.043555        0.037319   \n",
       "1              0.004449        0.005499        0.004628        0.006340   \n",
       "2              0.012041        0.012671        0.011442        0.010723   \n",
       "3              0.019180        0.017283        0.019932        0.015830   \n",
       "4              0.010155        0.009478        0.009228        0.010383   \n",
       "\n",
       "subject  FRMR-00ST-841F  FRMR-00TS-8464      Mean        SD  \n",
       "0              0.045118        0.040692  0.042155  0.002726  \n",
       "1              0.005937        0.005740  0.005039  0.000552  \n",
       "2              0.014282        0.013281  0.012197  0.000780  \n",
       "3              0.021847        0.021208  0.019499  0.002122  \n",
       "4              0.010177        0.010012  0.010142  0.000944  \n",
       "\n",
       "[5 rows x 25 columns]"
      ]
     },
     "execution_count": 391,
     "metadata": {},
     "output_type": "execute_result"
    }
   ],
   "source": [
    "# use RMA samples for initial intensity vector -- note that all RMA individuals used the M1 mixin panel\n",
    "# this is only the females in RMA\n",
    "print coverage_df_RMA.sequencer.unique()\n",
    "rma_ex = coverage_df_RMA[gibbs_columns]\n",
    "RMA_norm = reshape_df(rma_ex, include_stats=True)\n",
    "RMA_norm.head()\n",
    "X_probs = np.array(RMA_norm.Mean)\n",
    "print len(X_probs)\n",
    "X_probs\n",
    "RMA_norm.head()"
   ]
  },
  {
   "cell_type": "code",
   "execution_count": 303,
   "metadata": {
    "collapsed": false
   },
   "outputs": [
    {
     "data": {
      "text/html": [
       "<div>\n",
       "<table border=\"1\" class=\"dataframe\">\n",
       "  <thead>\n",
       "    <tr style=\"text-align: right;\">\n",
       "      <th>subject</th>\n",
       "      <th>Exon</th>\n",
       "      <th>FRMR-00AW-8645</th>\n",
       "      <th>FRMR-00GC-803L</th>\n",
       "      <th>FRMR-00JD-7770</th>\n",
       "      <th>FRMR-00JM-865U</th>\n",
       "      <th>FRMR-00MM-839J</th>\n",
       "      <th>FRMR-00MS-704S</th>\n",
       "      <th>FRMR-00NC-7632</th>\n",
       "      <th>Mean</th>\n",
       "      <th>SD</th>\n",
       "    </tr>\n",
       "  </thead>\n",
       "  <tbody>\n",
       "    <tr>\n",
       "      <th>0</th>\n",
       "      <td>Ex1</td>\n",
       "      <td>0.039123</td>\n",
       "      <td>0.045125</td>\n",
       "      <td>0.045128</td>\n",
       "      <td>0.044675</td>\n",
       "      <td>0.044764</td>\n",
       "      <td>0.043579</td>\n",
       "      <td>0.046018</td>\n",
       "      <td>0.044059</td>\n",
       "      <td>0.002124</td>\n",
       "    </tr>\n",
       "    <tr>\n",
       "      <th>1</th>\n",
       "      <td>Ex2</td>\n",
       "      <td>0.005397</td>\n",
       "      <td>0.005038</td>\n",
       "      <td>0.005161</td>\n",
       "      <td>0.005173</td>\n",
       "      <td>0.004583</td>\n",
       "      <td>0.005191</td>\n",
       "      <td>0.004444</td>\n",
       "      <td>0.004998</td>\n",
       "      <td>0.000324</td>\n",
       "    </tr>\n",
       "    <tr>\n",
       "      <th>2</th>\n",
       "      <td>Ex3</td>\n",
       "      <td>0.011614</td>\n",
       "      <td>0.012536</td>\n",
       "      <td>0.012873</td>\n",
       "      <td>0.012155</td>\n",
       "      <td>0.011836</td>\n",
       "      <td>0.012038</td>\n",
       "      <td>0.012118</td>\n",
       "      <td>0.012167</td>\n",
       "      <td>0.000391</td>\n",
       "    </tr>\n",
       "    <tr>\n",
       "      <th>3</th>\n",
       "      <td>Ex4</td>\n",
       "      <td>0.017079</td>\n",
       "      <td>0.020194</td>\n",
       "      <td>0.020702</td>\n",
       "      <td>0.021155</td>\n",
       "      <td>0.020224</td>\n",
       "      <td>0.021530</td>\n",
       "      <td>0.021213</td>\n",
       "      <td>0.020300</td>\n",
       "      <td>0.001395</td>\n",
       "    </tr>\n",
       "    <tr>\n",
       "      <th>4</th>\n",
       "      <td>Ex5</td>\n",
       "      <td>0.009086</td>\n",
       "      <td>0.009755</td>\n",
       "      <td>0.010380</td>\n",
       "      <td>0.010345</td>\n",
       "      <td>0.010234</td>\n",
       "      <td>0.009813</td>\n",
       "      <td>0.008397</td>\n",
       "      <td>0.009716</td>\n",
       "      <td>0.000682</td>\n",
       "    </tr>\n",
       "  </tbody>\n",
       "</table>\n",
       "</div>"
      ],
      "text/plain": [
       "subject Exon  FRMR-00AW-8645  FRMR-00GC-803L  FRMR-00JD-7770  FRMR-00JM-865U  \\\n",
       "0        Ex1        0.039123        0.045125        0.045128        0.044675   \n",
       "1        Ex2        0.005397        0.005038        0.005161        0.005173   \n",
       "2        Ex3        0.011614        0.012536        0.012873        0.012155   \n",
       "3        Ex4        0.017079        0.020194        0.020702        0.021155   \n",
       "4        Ex5        0.009086        0.009755        0.010380        0.010345   \n",
       "\n",
       "subject  FRMR-00MM-839J  FRMR-00MS-704S  FRMR-00NC-7632      Mean        SD  \n",
       "0              0.044764        0.043579        0.046018  0.044059  0.002124  \n",
       "1              0.004583        0.005191        0.004444  0.004998  0.000324  \n",
       "2              0.011836        0.012038        0.012118  0.012167  0.000391  \n",
       "3              0.020224        0.021530        0.021213  0.020300  0.001395  \n",
       "4              0.010234        0.009813        0.008397  0.009716  0.000682  "
      ]
     },
     "execution_count": 303,
     "metadata": {},
     "output_type": "execute_result"
    }
   ],
   "source": [
    "# more refined subset based on tsid_ratios\n",
    "gibbs_columns = ['subject'] + [column for column in rma_subset.columns if 'Ex' in column]\n",
    "\n",
    "rma38 = rma_subset[gibbs_columns]\n",
    "rma38_norm = reshape_df(rma38, include_stats=True)\n",
    "X_probs38 = np.array(rma38_norm.Mean)\n",
    "rma38_norm.head()"
   ]
  },
  {
   "cell_type": "code",
   "execution_count": 741,
   "metadata": {
    "collapsed": false
   },
   "outputs": [
    {
     "name": "stdout",
     "output_type": "stream",
     "text": [
      "[  4.51288618e-06   1.04841442e-07   1.52665496e-07   1.94712220e-06\n",
      "   4.64597497e-07   2.64857077e-06   2.76699878e-06   5.53924561e-07\n",
      "   2.39413775e-07   6.70546053e-07   4.36535102e-07   3.14621056e-07\n",
      "   6.33629856e-07   6.68560886e-08   1.07180846e-06   3.07127719e-07\n",
      "   1.09843232e-06   1.21862016e-07   1.21106937e-06   1.66611969e-06\n",
      "   7.98581676e-07   6.21120498e-07   5.67704903e-07   6.44884301e-07\n",
      "   6.15230736e-07   8.97684875e-07   2.34245009e-06   2.31578253e-07\n",
      "   7.98362370e-07   4.22333112e-07   1.38605569e-07   5.25180328e-07\n",
      "   1.35902452e-06   1.02318248e-06   6.62485467e-07   1.12283187e-06\n",
      "   1.56995061e-06   8.49927042e-07   2.27578872e-07   5.86724035e-07\n",
      "   2.43451361e-07   7.89526673e-07   1.03612278e-06   1.68796636e-06\n",
      "   2.06001009e-06   5.90821403e-07   1.20270314e-06   5.93455486e-07\n",
      "   2.56890064e-06   4.11123915e-07   9.05985572e-07   7.84081775e-07\n",
      "   4.27119593e-07   4.21728937e-07   6.08296535e-07   2.03837445e-07\n",
      "   1.15396492e-07   1.93552139e-07   3.52668078e-08   1.01295399e-06\n",
      "   1.07226769e-06   7.50407339e-07   4.35357856e-07   7.69239248e-07\n",
      "   1.84336670e-06   1.43809960e-06   3.44917276e-07   1.34642588e-06\n",
      "   8.11867574e-08   1.41781064e-06   1.00034977e-06   8.90170694e-07\n",
      "   4.14489071e-07   5.61153760e-07   1.05103798e-07   2.02990385e-07\n",
      "   2.05321130e-07   2.74031032e-07]\n",
      "[  2.47736716e-06   2.92525049e-07   7.06960819e-07   1.16978795e-06\n",
      "   5.65939234e-07   8.77312656e-07   1.34442275e-06   1.11819413e-06\n",
      "   3.65574182e-07   8.94941251e-07   7.09946283e-07   5.20327417e-07\n",
      "   4.57548333e-07   5.60405511e-07   9.70312938e-07   5.61913966e-07\n",
      "   7.42988059e-07   3.67784346e-07   7.14467396e-07   1.58919056e-06\n",
      "   6.92488880e-07   9.67869255e-07   5.82671615e-07   4.96005851e-07\n",
      "   1.47097345e-06   5.49994419e-07   1.10406897e-06   5.35576464e-07\n",
      "   8.67639560e-07   4.12954730e-07   7.38263149e-07   5.88110068e-07\n",
      "   1.02438551e-06   4.49988973e-07   6.27315553e-07   6.11704040e-07\n",
      "   6.96763968e-07   4.53737996e-07   5.55708741e-07   6.52902150e-07\n",
      "   6.13841594e-07   4.43410868e-07   8.28685748e-07   8.45278529e-07\n",
      "   1.52231500e-06   4.99373097e-07   1.30531894e-06   6.46186050e-07\n",
      "   1.40272653e-06   4.54262673e-07   5.28852490e-07   4.02841735e-07\n",
      "   1.08096192e-06   4.77451983e-07   1.13909825e-06   4.79358306e-07\n",
      "   3.91887950e-07   4.54371221e-07   7.22351165e-07   1.06507067e-06\n",
      "   6.01898557e-07   9.41790464e-07   4.34966392e-07   6.83713467e-07\n",
      "   1.11113846e-06   7.13372016e-07   1.03610510e-06   5.06906583e-07\n",
      "   6.55471972e-07   3.38486757e-07   7.14481433e-07   5.68526644e-07\n",
      "   8.44978428e-07   4.06426765e-07   4.47342482e-07   6.36996219e-07\n",
      "   2.37919103e-07   6.06901802e-07]\n"
     ]
    }
   ],
   "source": [
    "test_scale = 3e4\n",
    "test_mse = []\n",
    "# print scipy.stats.dirichlet.mean(test_scale * np.array(rma38_norm.Mean))\n",
    "print np.power(np.array(rma38_norm.SD), 2)\n",
    "print scipy.stats.dirichlet.var(1.7e4 * np.array(rma38_norm.Mean))\n",
    "# for i in range(len(rma38_norm.columns) - 3):\n",
    "#     test_pdf.append(scipy.stats.dirichlet.pdf(rma38_norm[rma38_norm.columns[i+1]], test_scale * rma38_norm.Mean))\n",
    "# test_pdf\n",
    "for i in np.linspace(0.1, 10, 100):\n",
    "    test_scale = i * 1e4\n",
    "    sample_var = np.power(np.array(rma38_norm.SD)[1:], 2)\n",
    "    dir_var = scipy.stats.dirichlet.var(test_scale * np.array(rma38_norm.Mean)[1:])\n",
    "    mse = np.mean(np.square(sample_var - dir_var))\n",
    "    test_mse.append(mse)"
   ]
  },
  {
   "cell_type": "code",
   "execution_count": 740,
   "metadata": {
    "collapsed": false
   },
   "outputs": [
    {
     "data": {
      "text/plain": [
       "1.7000000000000002"
      ]
     },
     "execution_count": 740,
     "metadata": {},
     "output_type": "execute_result"
    }
   ],
   "source": [
    "np.linspace(0.1, 10, 100)[np.argmin(test_mse)]"
   ]
  },
  {
   "cell_type": "code",
   "execution_count": 801,
   "metadata": {
    "collapsed": false
   },
   "outputs": [
    {
     "data": {
      "image/png": "[encoded data removed]",
      "text/plain": [
       "<matplotlib.figure.Figure at 0x11a91b790>"
      ]
     },
     "metadata": {},
     "output_type": "display_data"
    }
   ],
   "source": [
    "test_scale = 9e4\n",
    "test_many = np.random.dirichlet(test_scale * np.array(rma38_norm.Mean), 1000)\n",
    "plt.figure()\n",
    "plt.hist(test_many[:, 1])\n",
    "plt.xlabel('Coverage ratio for exon 2')\n",
    "for cover in rma38_norm.iloc[1][1:-2]:\n",
    "    plt.axvline(x=cover)"
   ]
  },
  {
   "cell_type": "code",
   "execution_count": 346,
   "metadata": {
    "collapsed": false
   },
   "outputs": [
    {
     "data": {
      "text/html": [
       "<div>\n",
       "<table border=\"1\" class=\"dataframe\">\n",
       "  <thead>\n",
       "    <tr style=\"text-align: right;\">\n",
       "      <th>subject</th>\n",
       "      <th>Exon</th>\n",
       "      <th>FGPC-1PR1-SON4</th>\n",
       "      <th>FGPC-INSR-YI4C</th>\n",
       "      <th>Mean</th>\n",
       "      <th>SD</th>\n",
       "    </tr>\n",
       "  </thead>\n",
       "  <tbody>\n",
       "    <tr>\n",
       "      <th>0</th>\n",
       "      <td>Ex1</td>\n",
       "      <td>0.050868</td>\n",
       "      <td>0.050952</td>\n",
       "      <td>0.050910</td>\n",
       "      <td>0.000042</td>\n",
       "    </tr>\n",
       "    <tr>\n",
       "      <th>1</th>\n",
       "      <td>Ex2</td>\n",
       "      <td>0.006013</td>\n",
       "      <td>0.006189</td>\n",
       "      <td>0.006101</td>\n",
       "      <td>0.000088</td>\n",
       "    </tr>\n",
       "    <tr>\n",
       "      <th>2</th>\n",
       "      <td>Ex3</td>\n",
       "      <td>0.011639</td>\n",
       "      <td>0.011508</td>\n",
       "      <td>0.011573</td>\n",
       "      <td>0.000066</td>\n",
       "    </tr>\n",
       "    <tr>\n",
       "      <th>3</th>\n",
       "      <td>Ex4</td>\n",
       "      <td>0.018458</td>\n",
       "      <td>0.020505</td>\n",
       "      <td>0.019482</td>\n",
       "      <td>0.001024</td>\n",
       "    </tr>\n",
       "    <tr>\n",
       "      <th>4</th>\n",
       "      <td>Ex5</td>\n",
       "      <td>0.010982</td>\n",
       "      <td>0.012079</td>\n",
       "      <td>0.011531</td>\n",
       "      <td>0.000549</td>\n",
       "    </tr>\n",
       "  </tbody>\n",
       "</table>\n",
       "</div>"
      ],
      "text/plain": [
       "subject Exon  FGPC-1PR1-SON4  FGPC-INSR-YI4C      Mean        SD\n",
       "0        Ex1        0.050868        0.050952  0.050910  0.000042\n",
       "1        Ex2        0.006013        0.006189  0.006101  0.000088\n",
       "2        Ex3        0.011639        0.011508  0.011573  0.000066\n",
       "3        Ex4        0.018458        0.020505  0.019482  0.001024\n",
       "4        Ex5        0.010982        0.012079  0.011531  0.000549"
      ]
     },
     "execution_count": 346,
     "metadata": {},
     "output_type": "execute_result"
    }
   ],
   "source": [
    "# subset for subject J0F1 \n",
    "m1_43 = m1_subset43[gibbs_columns]\n",
    "m1_43_norm = reshape_df(m1_43, include_stats=True)\n",
    "X_probs43 = np.array(m1_43_norm.Mean)\n",
    "m1_43_norm.head()"
   ]
  },
  {
   "cell_type": "code",
   "execution_count": 719,
   "metadata": {
    "collapsed": false
   },
   "outputs": [
    {
     "data": {
      "image/png": "[encoded data removed]",
      "text/plain": [
       "<matplotlib.figure.Figure at 0x118edc150>"
      ]
     },
     "metadata": {},
     "output_type": "display_data"
    }
   ],
   "source": [
    "test_scale = 3e4\n",
    "test_many = np.random.dirichlet(test_scale * np.array(m1_43_norm.Mean), 1000)\n",
    "plt.figure()\n",
    "plt.hist(test_many[:, 12])\n",
    "for cover in m1_43_norm.iloc[12][1:-2]:\n",
    "    plt.axvline(x=cover)"
   ]
  },
  {
   "cell_type": "code",
   "execution_count": 680,
   "metadata": {
    "collapsed": false
   },
   "outputs": [
    {
     "name": "stderr",
     "output_type": "stream",
     "text": [
      "TSO only: 1660 intervals over 356613 bp\n",
      "TSID only: 154 intervals over 161606 bp\n",
      "Finished parsing all 6 subjects\n",
      "165124 reads were skipped due to outside_of_exon\n",
      "4612 reads were skipped due to MAPQ below 60\n"
     ]
    }
   ],
   "source": [
    "# generating coverage counts for superset of exons\n",
    "reload(cov)\n",
    "test_subjects_num = cov.coverageMatrix().create_coverage_matrix(tsid_exons_merged, \n",
    "                                                                tsid_exon_labels, bam_dir='../bams/test_subjects')"
   ]
  },
  {
   "cell_type": "code",
   "execution_count": 286,
   "metadata": {
    "collapsed": false
   },
   "outputs": [
    {
     "name": "stderr",
     "output_type": "stream",
     "text": [
      "TSO only: 1660 intervals over 356613 bp\n",
      "TSID only: 154 intervals over 161606 bp\n",
      "Finished parsing all 6 subjects\n",
      "187493 reads were skipped due to outside_of_exon\n",
      "4492 reads were skipped due to MAPQ below 60\n"
     ]
    },
    {
     "name": "stdout",
     "output_type": "stream",
     "text": [
      "CPU times: user 5.51 s, sys: 102 ms, total: 5.61 s\n",
      "Wall time: 5.69 s\n"
     ]
    }
   ],
   "source": [
    "%%time\n",
    "# generating coverage counts for only primary transcript exons, note that this will run slowly if coverageMatrix()\n",
    "# code has not been updated \n",
    "reload(cov)\n",
    "test_subjects_prim = cov.coverageMatrix().create_coverage_matrix(DMD_exons_merged, \n",
    "                                                                 exon_labels, bam_dir='../bams/test_subjects')"
   ]
  },
  {
   "cell_type": "code",
   "execution_count": 287,
   "metadata": {
    "collapsed": false
   },
   "outputs": [
    {
     "name": "stdout",
     "output_type": "stream",
     "text": [
      "['FGPC-0000-444F' 'FGPC-0000-444F_dup' 'FGPC-4ZPF-J0F1'\n",
      " 'FGPC-4ZPF-J0F1_del' 'FPWB-0000-822R' 'FPWB-0000-822R_del']\n",
      "[datetime.date(2016, 6, 24) datetime.date(2017, 2, 17)\n",
      " datetime.date(2016, 6, 25)]\n"
     ]
    },
    {
     "data": {
      "text/html": [
       "<div>\n",
       "<table border=\"1\" class=\"dataframe\">\n",
       "  <thead>\n",
       "    <tr style=\"text-align: right;\">\n",
       "      <th></th>\n",
       "      <th>id</th>\n",
       "      <th>subject</th>\n",
       "      <th>specimen</th>\n",
       "      <th>sample</th>\n",
       "      <th>gender</th>\n",
       "      <th>sequencer</th>\n",
       "      <th>flow_cell_id</th>\n",
       "      <th>lane</th>\n",
       "      <th>bwa_version</th>\n",
       "      <th>date_modified</th>\n",
       "      <th>TSID_only</th>\n",
       "      <th>TSO_only</th>\n",
       "    </tr>\n",
       "  </thead>\n",
       "  <tbody>\n",
       "    <tr>\n",
       "      <th>0</th>\n",
       "      <td>FGPC-0000-444F_1-M1-1_H5FGFAFXX-L004</td>\n",
       "      <td>FGPC-0000-444F</td>\n",
       "      <td>FGPC-0000-444F_1</td>\n",
       "      <td>FGPC-0000-444F_1-M1-1</td>\n",
       "      <td>F</td>\n",
       "      <td>M1</td>\n",
       "      <td>H5FGFAFXX</td>\n",
       "      <td>L004</td>\n",
       "      <td>0.7.13-r1126</td>\n",
       "      <td>2016-06-24 22:20:44</td>\n",
       "      <td>55974</td>\n",
       "      <td>92663</td>\n",
       "    </tr>\n",
       "    <tr>\n",
       "      <th>1</th>\n",
       "      <td>FGPC-0000-444F_1-M1-1_H5FGFAFXX-L002</td>\n",
       "      <td>FGPC-0000-444F</td>\n",
       "      <td>FGPC-0000-444F_1</td>\n",
       "      <td>FGPC-0000-444F_1-M1-1</td>\n",
       "      <td>F</td>\n",
       "      <td>M1</td>\n",
       "      <td>H5FGFAFXX</td>\n",
       "      <td>L002</td>\n",
       "      <td>0.7.13-r1126</td>\n",
       "      <td>2016-06-24 22:20:44</td>\n",
       "      <td>59880</td>\n",
       "      <td>97132</td>\n",
       "    </tr>\n",
       "    <tr>\n",
       "      <th>2</th>\n",
       "      <td>FGPC-0000-444F_1-M1-1_H5FGFAFXX-L003</td>\n",
       "      <td>FGPC-0000-444F</td>\n",
       "      <td>FGPC-0000-444F_1</td>\n",
       "      <td>FGPC-0000-444F_1-M1-1</td>\n",
       "      <td>F</td>\n",
       "      <td>M1</td>\n",
       "      <td>H5FGFAFXX</td>\n",
       "      <td>L003</td>\n",
       "      <td>0.7.13-r1126</td>\n",
       "      <td>2016-06-24 22:20:44</td>\n",
       "      <td>57005</td>\n",
       "      <td>92448</td>\n",
       "    </tr>\n",
       "    <tr>\n",
       "      <th>3</th>\n",
       "      <td>FGPC-0000-444F_1-M1-1_H5FGFAFXX-L001</td>\n",
       "      <td>FGPC-0000-444F</td>\n",
       "      <td>FGPC-0000-444F_1</td>\n",
       "      <td>FGPC-0000-444F_1-M1-1</td>\n",
       "      <td>F</td>\n",
       "      <td>M1</td>\n",
       "      <td>H5FGFAFXX</td>\n",
       "      <td>L001</td>\n",
       "      <td>0.7.13-r1126</td>\n",
       "      <td>2016-06-24 22:20:44</td>\n",
       "      <td>59975</td>\n",
       "      <td>97833</td>\n",
       "    </tr>\n",
       "    <tr>\n",
       "      <th>4</th>\n",
       "      <td>FGPC-0000-444F_1-M1-1_H5FGFAFXX-L004</td>\n",
       "      <td>FGPC-0000-444F_dup</td>\n",
       "      <td>FGPC-0000-444F_dup_1</td>\n",
       "      <td>FGPC-0000-444F_dup_1-M1-1</td>\n",
       "      <td>F</td>\n",
       "      <td>M1</td>\n",
       "      <td>H5FGFAFXX</td>\n",
       "      <td>L004</td>\n",
       "      <td>0.7.13-r1126</td>\n",
       "      <td>2017-02-17 17:23:06</td>\n",
       "      <td>55974</td>\n",
       "      <td>92663</td>\n",
       "    </tr>\n",
       "  </tbody>\n",
       "</table>\n",
       "</div>"
      ],
      "text/plain": [
       "                                     id             subject  \\\n",
       "0  FGPC-0000-444F_1-M1-1_H5FGFAFXX-L004      FGPC-0000-444F   \n",
       "1  FGPC-0000-444F_1-M1-1_H5FGFAFXX-L002      FGPC-0000-444F   \n",
       "2  FGPC-0000-444F_1-M1-1_H5FGFAFXX-L003      FGPC-0000-444F   \n",
       "3  FGPC-0000-444F_1-M1-1_H5FGFAFXX-L001      FGPC-0000-444F   \n",
       "4  FGPC-0000-444F_1-M1-1_H5FGFAFXX-L004  FGPC-0000-444F_dup   \n",
       "\n",
       "               specimen                     sample gender sequencer  \\\n",
       "0      FGPC-0000-444F_1      FGPC-0000-444F_1-M1-1      F        M1   \n",
       "1      FGPC-0000-444F_1      FGPC-0000-444F_1-M1-1      F        M1   \n",
       "2      FGPC-0000-444F_1      FGPC-0000-444F_1-M1-1      F        M1   \n",
       "3      FGPC-0000-444F_1      FGPC-0000-444F_1-M1-1      F        M1   \n",
       "4  FGPC-0000-444F_dup_1  FGPC-0000-444F_dup_1-M1-1      F        M1   \n",
       "\n",
       "  flow_cell_id  lane   bwa_version       date_modified  TSID_only  TSO_only  \n",
       "0    H5FGFAFXX  L004  0.7.13-r1126 2016-06-24 22:20:44      55974     92663  \n",
       "1    H5FGFAFXX  L002  0.7.13-r1126 2016-06-24 22:20:44      59880     97132  \n",
       "2    H5FGFAFXX  L003  0.7.13-r1126 2016-06-24 22:20:44      57005     92448  \n",
       "3    H5FGFAFXX  L001  0.7.13-r1126 2016-06-24 22:20:44      59975     97833  \n",
       "4    H5FGFAFXX  L004  0.7.13-r1126 2017-02-17 17:23:06      55974     92663  "
      ]
     },
     "execution_count": 287,
     "metadata": {},
     "output_type": "execute_result"
    }
   ],
   "source": [
    "# test_subjects = pd.DataFrame(coverage_matrix[1:], columns=coverage_matrix[0])\n",
    "# test_subjects_num = test_subjects.apply(lambda x: pd.to_numeric(x, errors='ignore'))\n",
    "test_subjects_prim.date_modified = pd.to_datetime(test_subjects_prim.date_modified, unit='s')\n",
    "test_subjects_prim['date'] = test_subjects_prim.date_modified.dt.date\n",
    "# drop unnecessary columns (is_rerun, and coding regions)\n",
    "# test_subjects_num.drop(['is_rerun'], axis=1, inplace=True)\n",
    "test_subjects_sub = test_subjects_prim[gibbs_columns]\n",
    "test_subjects_rel = test_subjects_num[test_subjects_num.columns[:12]]\n",
    "# test_subjects_rel['tsid_ratio'] = test_subjects_rel.TSID_only / (test_subjects_rel.TSID_only + test_subjects_rel.TSO_only)\n",
    "print test_subjects_num.subject.unique()\n",
    "print test_subjects_num.date.unique()\n",
    "test_subjects_rel.head()"
   ]
  },
  {
   "cell_type": "code",
   "execution_count": 300,
   "metadata": {
    "collapsed": false
   },
   "outputs": [
    {
     "data": {
      "text/html": [
       "<div>\n",
       "<table border=\"1\" class=\"dataframe\">\n",
       "  <thead>\n",
       "    <tr style=\"text-align: right;\">\n",
       "      <th></th>\n",
       "      <th>Ex1</th>\n",
       "      <th>Ex2</th>\n",
       "      <th>Ex3</th>\n",
       "      <th>Ex4</th>\n",
       "      <th>Ex5</th>\n",
       "      <th>Ex6</th>\n",
       "      <th>Ex7</th>\n",
       "      <th>Ex8</th>\n",
       "      <th>Ex9</th>\n",
       "      <th>Ex10</th>\n",
       "      <th>...</th>\n",
       "      <th>Ex70</th>\n",
       "      <th>Ex71</th>\n",
       "      <th>Ex72</th>\n",
       "      <th>Ex73</th>\n",
       "      <th>Ex74</th>\n",
       "      <th>Ex75</th>\n",
       "      <th>Ex76</th>\n",
       "      <th>Ex77</th>\n",
       "      <th>Ex78</th>\n",
       "      <th>Ex79</th>\n",
       "    </tr>\n",
       "    <tr>\n",
       "      <th>subject</th>\n",
       "      <th></th>\n",
       "      <th></th>\n",
       "      <th></th>\n",
       "      <th></th>\n",
       "      <th></th>\n",
       "      <th></th>\n",
       "      <th></th>\n",
       "      <th></th>\n",
       "      <th></th>\n",
       "      <th></th>\n",
       "      <th></th>\n",
       "      <th></th>\n",
       "      <th></th>\n",
       "      <th></th>\n",
       "      <th></th>\n",
       "      <th></th>\n",
       "      <th></th>\n",
       "      <th></th>\n",
       "      <th></th>\n",
       "      <th></th>\n",
       "      <th></th>\n",
       "    </tr>\n",
       "  </thead>\n",
       "  <tbody>\n",
       "    <tr>\n",
       "      <th>FGPC-0000-444F</th>\n",
       "      <td>2266</td>\n",
       "      <td>306</td>\n",
       "      <td>623</td>\n",
       "      <td>944</td>\n",
       "      <td>591</td>\n",
       "      <td>714</td>\n",
       "      <td>1341</td>\n",
       "      <td>1064</td>\n",
       "      <td>411</td>\n",
       "      <td>715</td>\n",
       "      <td>...</td>\n",
       "      <td>659</td>\n",
       "      <td>272</td>\n",
       "      <td>729</td>\n",
       "      <td>631</td>\n",
       "      <td>847</td>\n",
       "      <td>523</td>\n",
       "      <td>424</td>\n",
       "      <td>622</td>\n",
       "      <td>292</td>\n",
       "      <td>552</td>\n",
       "    </tr>\n",
       "    <tr>\n",
       "      <th>FGPC-0000-444F_dup</th>\n",
       "      <td>2266</td>\n",
       "      <td>306</td>\n",
       "      <td>623</td>\n",
       "      <td>944</td>\n",
       "      <td>591</td>\n",
       "      <td>714</td>\n",
       "      <td>1341</td>\n",
       "      <td>1064</td>\n",
       "      <td>411</td>\n",
       "      <td>715</td>\n",
       "      <td>...</td>\n",
       "      <td>659</td>\n",
       "      <td>272</td>\n",
       "      <td>729</td>\n",
       "      <td>631</td>\n",
       "      <td>847</td>\n",
       "      <td>523</td>\n",
       "      <td>424</td>\n",
       "      <td>622</td>\n",
       "      <td>292</td>\n",
       "      <td>552</td>\n",
       "    </tr>\n",
       "    <tr>\n",
       "      <th>FGPC-4ZPF-J0F1</th>\n",
       "      <td>1649</td>\n",
       "      <td>118</td>\n",
       "      <td>385</td>\n",
       "      <td>558</td>\n",
       "      <td>378</td>\n",
       "      <td>554</td>\n",
       "      <td>720</td>\n",
       "      <td>603</td>\n",
       "      <td>257</td>\n",
       "      <td>455</td>\n",
       "      <td>...</td>\n",
       "      <td>347</td>\n",
       "      <td>178</td>\n",
       "      <td>442</td>\n",
       "      <td>363</td>\n",
       "      <td>466</td>\n",
       "      <td>265</td>\n",
       "      <td>237</td>\n",
       "      <td>391</td>\n",
       "      <td>179</td>\n",
       "      <td>446</td>\n",
       "    </tr>\n",
       "    <tr>\n",
       "      <th>FGPC-4ZPF-J0F1_del</th>\n",
       "      <td>1649</td>\n",
       "      <td>118</td>\n",
       "      <td>385</td>\n",
       "      <td>558</td>\n",
       "      <td>378</td>\n",
       "      <td>554</td>\n",
       "      <td>720</td>\n",
       "      <td>603</td>\n",
       "      <td>257</td>\n",
       "      <td>455</td>\n",
       "      <td>...</td>\n",
       "      <td>347</td>\n",
       "      <td>178</td>\n",
       "      <td>442</td>\n",
       "      <td>363</td>\n",
       "      <td>466</td>\n",
       "      <td>265</td>\n",
       "      <td>237</td>\n",
       "      <td>391</td>\n",
       "      <td>179</td>\n",
       "      <td>446</td>\n",
       "    </tr>\n",
       "    <tr>\n",
       "      <th>FPWB-0000-822R</th>\n",
       "      <td>2986</td>\n",
       "      <td>258</td>\n",
       "      <td>761</td>\n",
       "      <td>1123</td>\n",
       "      <td>617</td>\n",
       "      <td>1150</td>\n",
       "      <td>1462</td>\n",
       "      <td>1247</td>\n",
       "      <td>451</td>\n",
       "      <td>960</td>\n",
       "      <td>...</td>\n",
       "      <td>799</td>\n",
       "      <td>358</td>\n",
       "      <td>758</td>\n",
       "      <td>562</td>\n",
       "      <td>990</td>\n",
       "      <td>469</td>\n",
       "      <td>518</td>\n",
       "      <td>698</td>\n",
       "      <td>308</td>\n",
       "      <td>696</td>\n",
       "    </tr>\n",
       "  </tbody>\n",
       "</table>\n",
       "<p>5 rows × 78 columns</p>\n",
       "</div>"
      ],
      "text/plain": [
       "                     Ex1  Ex2  Ex3   Ex4  Ex5   Ex6   Ex7   Ex8  Ex9  Ex10  \\\n",
       "subject                                                                      \n",
       "FGPC-0000-444F      2266  306  623   944  591   714  1341  1064  411   715   \n",
       "FGPC-0000-444F_dup  2266  306  623   944  591   714  1341  1064  411   715   \n",
       "FGPC-4ZPF-J0F1      1649  118  385   558  378   554   720   603  257   455   \n",
       "FGPC-4ZPF-J0F1_del  1649  118  385   558  378   554   720   603  257   455   \n",
       "FPWB-0000-822R      2986  258  761  1123  617  1150  1462  1247  451   960   \n",
       "\n",
       "                    ...   Ex70  Ex71  Ex72  Ex73  Ex74  Ex75  Ex76  Ex77  \\\n",
       "subject             ...                                                    \n",
       "FGPC-0000-444F      ...    659   272   729   631   847   523   424   622   \n",
       "FGPC-0000-444F_dup  ...    659   272   729   631   847   523   424   622   \n",
       "FGPC-4ZPF-J0F1      ...    347   178   442   363   466   265   237   391   \n",
       "FGPC-4ZPF-J0F1_del  ...    347   178   442   363   466   265   237   391   \n",
       "FPWB-0000-822R      ...    799   358   758   562   990   469   518   698   \n",
       "\n",
       "                    Ex78  Ex79  \n",
       "subject                         \n",
       "FGPC-0000-444F       292   552  \n",
       "FGPC-0000-444F_dup   292   552  \n",
       "FGPC-4ZPF-J0F1       179   446  \n",
       "FGPC-4ZPF-J0F1_del   179   446  \n",
       "FPWB-0000-822R       308   696  \n",
       "\n",
       "[5 rows x 78 columns]"
      ]
     },
     "execution_count": 300,
     "metadata": {},
     "output_type": "execute_result"
    }
   ],
   "source": [
    "subject_norm, subject_counts = reshape_df(test_subjects_sub, df_counts_wanted=True)\n",
    "subject_counts.head()"
   ]
  },
  {
   "cell_type": "code",
   "execution_count": 720,
   "metadata": {
    "collapsed": false
   },
   "outputs": [
    {
     "data": {
      "text/html": [
       "<div>\n",
       "<table border=\"1\" class=\"dataframe\">\n",
       "  <thead>\n",
       "    <tr style=\"text-align: right;\">\n",
       "      <th>subject</th>\n",
       "      <th>Exon</th>\n",
       "      <th>FGPC-0000-444F</th>\n",
       "      <th>FGPC-0000-444F_dup</th>\n",
       "      <th>FGPC-4ZPF-J0F1</th>\n",
       "      <th>FGPC-4ZPF-J0F1_del</th>\n",
       "      <th>FPWB-0000-822R</th>\n",
       "      <th>FPWB-0000-822R_del</th>\n",
       "    </tr>\n",
       "  </thead>\n",
       "  <tbody>\n",
       "    <tr>\n",
       "      <th>0</th>\n",
       "      <td>Ex1</td>\n",
       "      <td>0.040142</td>\n",
       "      <td>0.040015</td>\n",
       "      <td>0.048768</td>\n",
       "      <td>0.049482</td>\n",
       "      <td>0.045403</td>\n",
       "      <td>0.046511</td>\n",
       "    </tr>\n",
       "    <tr>\n",
       "      <th>1</th>\n",
       "      <td>Ex2</td>\n",
       "      <td>0.005421</td>\n",
       "      <td>0.005404</td>\n",
       "      <td>0.003490</td>\n",
       "      <td>0.003541</td>\n",
       "      <td>0.003923</td>\n",
       "      <td>0.004019</td>\n",
       "    </tr>\n",
       "    <tr>\n",
       "      <th>2</th>\n",
       "      <td>Ex3</td>\n",
       "      <td>0.011037</td>\n",
       "      <td>0.011001</td>\n",
       "      <td>0.011386</td>\n",
       "      <td>0.011553</td>\n",
       "      <td>0.011571</td>\n",
       "      <td>0.011854</td>\n",
       "    </tr>\n",
       "    <tr>\n",
       "      <th>3</th>\n",
       "      <td>Ex4</td>\n",
       "      <td>0.016723</td>\n",
       "      <td>0.016670</td>\n",
       "      <td>0.016503</td>\n",
       "      <td>0.016744</td>\n",
       "      <td>0.017076</td>\n",
       "      <td>0.017492</td>\n",
       "    </tr>\n",
       "    <tr>\n",
       "      <th>4</th>\n",
       "      <td>Ex5</td>\n",
       "      <td>0.010470</td>\n",
       "      <td>0.010436</td>\n",
       "      <td>0.011179</td>\n",
       "      <td>0.011343</td>\n",
       "      <td>0.009382</td>\n",
       "      <td>0.009611</td>\n",
       "    </tr>\n",
       "    <tr>\n",
       "      <th>5</th>\n",
       "      <td>Ex6</td>\n",
       "      <td>0.012649</td>\n",
       "      <td>0.012608</td>\n",
       "      <td>0.016384</td>\n",
       "      <td>0.016624</td>\n",
       "      <td>0.017486</td>\n",
       "      <td>0.017913</td>\n",
       "    </tr>\n",
       "    <tr>\n",
       "      <th>6</th>\n",
       "      <td>Ex7</td>\n",
       "      <td>0.023756</td>\n",
       "      <td>0.023680</td>\n",
       "      <td>0.021294</td>\n",
       "      <td>0.021605</td>\n",
       "      <td>0.022230</td>\n",
       "      <td>0.022773</td>\n",
       "    </tr>\n",
       "    <tr>\n",
       "      <th>7</th>\n",
       "      <td>Ex8</td>\n",
       "      <td>0.018849</td>\n",
       "      <td>0.018789</td>\n",
       "      <td>0.017833</td>\n",
       "      <td>0.018095</td>\n",
       "      <td>0.018961</td>\n",
       "      <td>0.019424</td>\n",
       "    </tr>\n",
       "    <tr>\n",
       "      <th>8</th>\n",
       "      <td>Ex9</td>\n",
       "      <td>0.007281</td>\n",
       "      <td>0.007258</td>\n",
       "      <td>0.007601</td>\n",
       "      <td>0.007712</td>\n",
       "      <td>0.006858</td>\n",
       "      <td>0.007025</td>\n",
       "    </tr>\n",
       "    <tr>\n",
       "      <th>9</th>\n",
       "      <td>Ex10</td>\n",
       "      <td>0.012666</td>\n",
       "      <td>0.012626</td>\n",
       "      <td>0.013456</td>\n",
       "      <td>0.013653</td>\n",
       "      <td>0.014597</td>\n",
       "      <td>0.014953</td>\n",
       "    </tr>\n",
       "    <tr>\n",
       "      <th>10</th>\n",
       "      <td>Ex11</td>\n",
       "      <td>0.011993</td>\n",
       "      <td>0.011955</td>\n",
       "      <td>0.010765</td>\n",
       "      <td>0.010923</td>\n",
       "      <td>0.011191</td>\n",
       "      <td>0.011464</td>\n",
       "    </tr>\n",
       "    <tr>\n",
       "      <th>11</th>\n",
       "      <td>Ex12</td>\n",
       "      <td>0.009194</td>\n",
       "      <td>0.009165</td>\n",
       "      <td>0.007808</td>\n",
       "      <td>0.007922</td>\n",
       "      <td>0.007968</td>\n",
       "      <td>0.008162</td>\n",
       "    </tr>\n",
       "    <tr>\n",
       "      <th>12</th>\n",
       "      <td>Ex13</td>\n",
       "      <td>0.007848</td>\n",
       "      <td>0.007823</td>\n",
       "      <td>0.009227</td>\n",
       "      <td>0.009362</td>\n",
       "      <td>0.007572</td>\n",
       "      <td>0.007757</td>\n",
       "    </tr>\n",
       "    <tr>\n",
       "      <th>13</th>\n",
       "      <td>Ex14</td>\n",
       "      <td>0.009726</td>\n",
       "      <td>0.009695</td>\n",
       "      <td>0.009730</td>\n",
       "      <td>0.009872</td>\n",
       "      <td>0.007922</td>\n",
       "      <td>0.008115</td>\n",
       "    </tr>\n",
       "    <tr>\n",
       "      <th>14</th>\n",
       "      <td>Ex15</td>\n",
       "      <td>0.012436</td>\n",
       "      <td>0.012396</td>\n",
       "      <td>0.013308</td>\n",
       "      <td>0.013503</td>\n",
       "      <td>0.016498</td>\n",
       "      <td>0.016900</td>\n",
       "    </tr>\n",
       "  </tbody>\n",
       "</table>\n",
       "</div>"
      ],
      "text/plain": [
       "subject  Exon  FGPC-0000-444F  FGPC-0000-444F_dup  FGPC-4ZPF-J0F1  \\\n",
       "0         Ex1        0.040142            0.040015        0.048768   \n",
       "1         Ex2        0.005421            0.005404        0.003490   \n",
       "2         Ex3        0.011037            0.011001        0.011386   \n",
       "3         Ex4        0.016723            0.016670        0.016503   \n",
       "4         Ex5        0.010470            0.010436        0.011179   \n",
       "5         Ex6        0.012649            0.012608        0.016384   \n",
       "6         Ex7        0.023756            0.023680        0.021294   \n",
       "7         Ex8        0.018849            0.018789        0.017833   \n",
       "8         Ex9        0.007281            0.007258        0.007601   \n",
       "9        Ex10        0.012666            0.012626        0.013456   \n",
       "10       Ex11        0.011993            0.011955        0.010765   \n",
       "11       Ex12        0.009194            0.009165        0.007808   \n",
       "12       Ex13        0.007848            0.007823        0.009227   \n",
       "13       Ex14        0.009726            0.009695        0.009730   \n",
       "14       Ex15        0.012436            0.012396        0.013308   \n",
       "\n",
       "subject  FGPC-4ZPF-J0F1_del  FPWB-0000-822R  FPWB-0000-822R_del  \n",
       "0                  0.049482        0.045403            0.046511  \n",
       "1                  0.003541        0.003923            0.004019  \n",
       "2                  0.011553        0.011571            0.011854  \n",
       "3                  0.016744        0.017076            0.017492  \n",
       "4                  0.011343        0.009382            0.009611  \n",
       "5                  0.016624        0.017486            0.017913  \n",
       "6                  0.021605        0.022230            0.022773  \n",
       "7                  0.018095        0.018961            0.019424  \n",
       "8                  0.007712        0.006858            0.007025  \n",
       "9                  0.013653        0.014597            0.014953  \n",
       "10                 0.010923        0.011191            0.011464  \n",
       "11                 0.007922        0.007968            0.008162  \n",
       "12                 0.009362        0.007572            0.007757  \n",
       "13                 0.009872        0.007922            0.008115  \n",
       "14                 0.013503        0.016498            0.016900  "
      ]
     },
     "execution_count": 720,
     "metadata": {},
     "output_type": "execute_result"
    }
   ],
   "source": [
    "subject_norm.head(15)"
   ]
  },
  {
   "cell_type": "code",
   "execution_count": 301,
   "metadata": {
    "collapsed": false
   },
   "outputs": [
    {
     "data": {
      "text/plain": [
       "array([2266,  306,  623,  944,  591,  714, 1341, 1064,  411,  715,  677,\n",
       "        519,  443,  549,  702,  448,  784,  433,  926, 1608,  664,  933,\n",
       "        629,  541, 1369,  558, 1061,  528,  821,  500,  684,  525,  947,\n",
       "        485,  638,  645,  667,  497,  642,  689,  641,  480,  709,  901,\n",
       "       1494,  468, 1202,  630, 1307,  454,  546,  414,  961,  415, 1196,\n",
       "        447,  414,  503,  659, 1068,  588,  942,  365,  712, 1028,  713,\n",
       "       1048,  506,  659,  272,  729,  631,  847,  523,  424,  622,  292,\n",
       "        552])"
      ]
     },
     "execution_count": 301,
     "metadata": {},
     "output_type": "execute_result"
    }
   ],
   "source": [
    "data_dict = {subject.split('-')[-1]: np.array(subject_counts.loc[subject]) for subject in test_subjects_sub.subject.unique()}\n",
    "data_dict['444F']"
   ]
  },
  {
   "cell_type": "code",
   "execution_count": 805,
   "metadata": {
    "collapsed": false,
    "scrolled": true
   },
   "outputs": [
    {
     "name": "stdout",
     "output_type": "stream",
     "text": [
      "[3 1 1 1 2 3 2 2 1 2 3 3 1 3 1 3 1 1 1 1 3 2 2 1 2 3 2 3 3 3 1 1 3 2 1 1 1\n",
      " 1 1 1 2 1 3 3 1 1 2 3 2 2 1 2 3 1 3 3 3 1 1 1 3 2 1 3 2 2 1 1 1 1 1 2 1 1\n",
      " 1 1 2 2]\n",
      "Finished 499 iterations\n",
      "Finished 999 iterations\n",
      "Finished 1499 iterations\n",
      "Finished 1999 iterations\n",
      "Finished 2499 iterations\n",
      "Finished 2999 iterations\n",
      "Finished 3499 iterations\n",
      "Finished 3999 iterations\n",
      "Finished 4499 iterations\n",
      "Finished 4999 iterations\n",
      "Finished 5499 iterations\n",
      "Finished 5999 iterations\n",
      "Finished 6499 iterations\n",
      "Finished 6999 iterations\n",
      "Finished 7499 iterations\n",
      "Finished 7999 iterations\n",
      "Finished 8499 iterations\n",
      "Finished 8999 iterations\n",
      "Finished 9499 iterations\n",
      "Finished 9999 iterations\n",
      "CPU times: user 58.1 s, sys: 480 ms, total: 58.6 s\n",
      "Wall time: 59.5 s\n"
     ]
    }
   ],
   "source": [
    "%%time\n",
    "# with random cnv distribution\n",
    "cnv_support = [1,2,3]\n",
    "gibbs_data_822R, gibbsX_822R, gibbs_data_results_822R, logliks_822R, gibbs_df_822R = generate_gibbs_df(cnv_support, \n",
    "                                                                        X_probs38, data=data_dict['822R_del'], \n",
    "                                                                        iterations=10000, exon_labels=exon_labels)"
   ]
  },
  {
   "cell_type": "code",
   "execution_count": 806,
   "metadata": {
    "collapsed": false,
    "scrolled": true
   },
   "outputs": [
    {
     "name": "stdout",
     "output_type": "stream",
     "text": [
      "[3 1 3 1 1 2 3 2 1 1 1 3 1 2 1 2 3 3 3 1 2 2 2 2 1 1 1 3 3 2 1 2 2 2 2 1 2\n",
      " 2 1 1 3 3 1 3 1 1 2 1 1 1 1 3 1 3 2 1 3 2 3 3 2 2 3 1 3 2 2 1 3 3 3 2 3 3\n",
      " 1 3 2 3]\n",
      "Finished 499 iterations\n",
      "Finished 999 iterations\n",
      "Finished 1499 iterations\n",
      "Finished 1999 iterations\n",
      "Finished 2499 iterations\n",
      "Finished 2999 iterations\n",
      "Finished 3499 iterations\n",
      "Finished 3999 iterations\n",
      "Finished 4499 iterations\n",
      "Finished 4999 iterations\n",
      "Finished 5499 iterations\n",
      "Finished 5999 iterations\n",
      "Finished 6499 iterations\n",
      "Finished 6999 iterations\n",
      "Finished 7499 iterations\n",
      "Finished 7999 iterations\n",
      "Finished 8499 iterations\n",
      "Finished 8999 iterations\n",
      "Finished 9499 iterations\n",
      "Finished 9999 iterations\n"
     ]
    }
   ],
   "source": [
    "# with random cnv distribution\n",
    "cnv_support = [1,2,3]\n",
    "gibbs_data_822Rc, gibbsX_822Rc, gibbs_data_results_822Rc, logliks_822Rc, gibbs_df_822Rc = generate_gibbs_df(cnv_support, \n",
    "                                                                        X_probs38, data=data_dict['822R'], \n",
    "                                                                        iterations=10000, exon_labels=exon_labels)"
   ]
  },
  {
   "cell_type": "code",
   "execution_count": 477,
   "metadata": {
    "collapsed": true
   },
   "outputs": [],
   "source": [
    "# reference: http://chrisalbon.com/python/matplotlib_percentage_stacked_bar_plot.html\n",
    "def create_stacked_bars(df, title): \n",
    "    f, ax = plt.subplots(1, figsize=(15,7))\n",
    "    bar_width = 1\n",
    "\n",
    "    bar_l = [i for i in range(len(df['copy_1']))] \n",
    "    tick_pos = [i + bar_width for i in bar_l] \n",
    "\n",
    "    # loop through these later\n",
    "    # Create a bar chart in position bar_1\n",
    "    ax.bar(bar_l, df.copy_1, label='1 Copy', alpha=0.9, color='#019600', width=bar_width, edgecolor='white')\n",
    "\n",
    "    ax.bar(bar_l, df.copy_2, bottom=df.copy_1, label='2 Copy', alpha=0.9, color='#3C5F5A', width=bar_width,\n",
    "           edgecolor='white')\n",
    "\n",
    "    ax.bar(bar_l, df.copy_3, bottom=[i+j for i,j in zip(df.copy_1, df.copy_2)], label='3 Copy',\n",
    "           alpha=0.9, color='#219AD8', width=bar_width, edgecolor='white')\n",
    "\n",
    "    # getting just the number designation for each exon group as its label\n",
    "    plt.xticks(tick_pos, df['Exon'].str.split('x').str[-1])\n",
    "    ax.set_ylabel(\"Probabilities\")\n",
    "    ax.set_xlabel(\"Exons\")\n",
    "\n",
    "    plt.xlim([min(tick_pos)-2*bar_width, max(tick_pos)+bar_width])\n",
    "    plt.ylim(-0.1, 1.1)\n",
    "\n",
    "    plt.setp(plt.gca().get_xticklabels(), rotation=60, horizontalalignment='right')\n",
    "    plt.legend(loc='upper center', bbox_to_anchor=(0.5, -0.15),\n",
    "               fancybox=True, shadow=True, ncol=3)\n",
    "    plt.title(title)\n",
    "    plt.show()"
   ]
  },
  {
   "cell_type": "code",
   "execution_count": 807,
   "metadata": {
    "collapsed": false
   },
   "outputs": [
    {
     "data": {
      "image/png": "[encoded data removed]",
      "text/plain": [
       "<matplotlib.figure.Figure at 0x113eb9550>"
      ]
     },
     "metadata": {},
     "output_type": "display_data"
    }
   ],
   "source": [
    "create_stacked_bars(gibbs_df_822R, 'Del 48-50, Sub 822R, random cnv start values, full coverage')"
   ]
  },
  {
   "cell_type": "code",
   "execution_count": 808,
   "metadata": {
    "collapsed": false,
    "scrolled": false
   },
   "outputs": [
    {
     "data": {
      "image/png": "[encoded data removed]",
      "text/plain": [
       "<matplotlib.figure.Figure at 0x11a529910>"
      ]
     },
     "metadata": {},
     "output_type": "display_data"
    }
   ],
   "source": [
    "create_stacked_bars(gibbs_df_822Rc, 'Sub 822R, random cnv start values, full coverage')"
   ]
  },
  {
   "cell_type": "code",
   "execution_count": 651,
   "metadata": {
    "collapsed": false
   },
   "outputs": [
    {
     "data": {
      "text/plain": [
       "(<matplotlib.text.Text at 0x116a6af10>, <matplotlib.text.Text at 0x11100c910>)"
      ]
     },
     "execution_count": 651,
     "metadata": {},
     "output_type": "execute_result"
    },
    {
     "data": {
      "image/png": "[encoded data removed]",
      "text/plain": [
       "<matplotlib.figure.Figure at 0x11757c450>"
      ]
     },
     "metadata": {},
     "output_type": "display_data"
    }
   ],
   "source": [
    "plt.figure()\n",
    "plt.plot(range(len(logliks_822R2)), logliks_822R2, '.')\n",
    "plt.xlabel('Iteration'), plt.ylabel('Log Likelihood')"
   ]
  },
  {
   "cell_type": "code",
   "execution_count": 667,
   "metadata": {
    "collapsed": false
   },
   "outputs": [],
   "source": [
    "# this subject's mutation was simulated with a 0.65 mult factor (instead of 0.5) so I'm correcting for it here\n",
    "data_dict['J0F1_del'][15:19] = (data_dict['J0F1_del'][15:19]) * (0.5 / 0.65)"
   ]
  },
  {
   "cell_type": "code",
   "execution_count": 813,
   "metadata": {
    "collapsed": false,
    "scrolled": true
   },
   "outputs": [
    {
     "name": "stdout",
     "output_type": "stream",
     "text": [
      "[3 1 3 1 3 1 1 1 1 3 1 3 1 3 1 3 1 3 2 3 1 3 2 2 2 1 1 2 3 3 1 3 2 3 2 3 1\n",
      " 3 1 1 3 1 2 1 2 2 3 1 3 2 1 1 3 2 1 2 2 1 3 3 1 2 1 1 1 1 2 2 2 1 1 2 2 1\n",
      " 3 3 3 3]\n",
      "Finished 499 iterations\n",
      "Finished 999 iterations\n",
      "Finished 1499 iterations\n",
      "Finished 1999 iterations\n",
      "Finished 2499 iterations\n",
      "Finished 2999 iterations\n",
      "Finished 3499 iterations\n",
      "Finished 3999 iterations\n",
      "Finished 4499 iterations\n",
      "Finished 4999 iterations\n",
      "Finished 5499 iterations\n",
      "Finished 5999 iterations\n",
      "Finished 6499 iterations\n",
      "Finished 6999 iterations\n",
      "Finished 7499 iterations\n",
      "Finished 7999 iterations\n",
      "Finished 8499 iterations\n",
      "Finished 8999 iterations\n",
      "Finished 9499 iterations\n",
      "Finished 9999 iterations\n",
      "CPU times: user 56.7 s, sys: 324 ms, total: 57 s\n",
      "Wall time: 57.6 s\n"
     ]
    }
   ],
   "source": [
    "%%time\n",
    "cnv_support = [1,2,3]\n",
    "gibbs_data_J0F1, gibbsX_J0F1, gibbs_data_results_J0F1, logliks_J0F1, gibbs_df_J0F1 = generate_gibbs_df(cnv_support, \n",
    "                                                                        X_probs43, data=data_dict['J0F1_del'], \n",
    "                                                                        iterations=10000, exon_labels=exon_labels)"
   ]
  },
  {
   "cell_type": "code",
   "execution_count": 814,
   "metadata": {
    "collapsed": false,
    "scrolled": true
   },
   "outputs": [
    {
     "name": "stdout",
     "output_type": "stream",
     "text": [
      "[3 3 3 3 3 1 1 2 3 3 3 1 2 1 3 3 1 1 3 3 3 2 3 2 3 1 3 3 2 1 3 3 1 3 1 1 1\n",
      " 1 2 1 2 1 1 1 3 2 2 3 2 1 2 2 3 3 1 1 3 1 2 3 3 1 1 2 1 3 1 1 1 2 2 2 2 3\n",
      " 2 2 1 3]\n",
      "Finished 499 iterations\n",
      "Finished 999 iterations\n",
      "Finished 1499 iterations\n",
      "Finished 1999 iterations\n",
      "Finished 2499 iterations\n",
      "Finished 2999 iterations\n",
      "Finished 3499 iterations\n",
      "Finished 3999 iterations\n",
      "Finished 4499 iterations\n",
      "Finished 4999 iterations\n",
      "Finished 5499 iterations\n",
      "Finished 5999 iterations\n",
      "Finished 6499 iterations\n",
      "Finished 6999 iterations\n",
      "Finished 7499 iterations\n",
      "Finished 7999 iterations\n",
      "Finished 8499 iterations\n",
      "Finished 8999 iterations\n",
      "Finished 9499 iterations\n",
      "Finished 9999 iterations\n"
     ]
    }
   ],
   "source": [
    "cnv_support = [1,2,3]\n",
    "gibbs_data_J0F1c, gibbsX_J0F1c, gibbs_data_results_J0F1c, logliks_J0F1c, gibbs_df_J0F1c = generate_gibbs_df(cnv_support, \n",
    "                                                                        X_probs43, data=data_dict['J0F1'], \n",
    "                                                                        iterations=10000, exon_labels=exon_labels)"
   ]
  },
  {
   "cell_type": "code",
   "execution_count": 815,
   "metadata": {
    "collapsed": false
   },
   "outputs": [
    {
     "data": {
      "image/png": "[encoded data removed]",
      "text/plain": [
       "<matplotlib.figure.Figure at 0x117828410>"
      ]
     },
     "metadata": {},
     "output_type": "display_data"
    }
   ],
   "source": [
    "create_stacked_bars(gibbs_df_J0F1, 'Del 16-19, Sub J0F1, random cnv start values, full coverage')"
   ]
  },
  {
   "cell_type": "code",
   "execution_count": 816,
   "metadata": {
    "collapsed": false
   },
   "outputs": [
    {
     "data": {
      "image/png": "[encoded data removed]",
      "text/plain": [
       "<matplotlib.figure.Figure at 0x117621a90>"
      ]
     },
     "metadata": {},
     "output_type": "display_data"
    }
   ],
   "source": [
    "create_stacked_bars(gibbs_df_J0F1c, 'Sub J0F1, random cnv start values, full coverage')"
   ]
  },
  {
   "cell_type": "code",
   "execution_count": 786,
   "metadata": {
    "collapsed": false,
    "scrolled": true
   },
   "outputs": [
    {
     "name": "stdout",
     "output_type": "stream",
     "text": [
      "[1 1 1 1 3 3 3 3 3 3 1 2 2 2 1 3 2 2 2 2 2 1 3 3 3 2 1 3 3 1 3 2 2 1 1 1 1\n",
      " 3 2 3 3 3 1 3 3 3 2 1 3 1 1 3 1 2 1 1 2 1 1 3 1 3 3 3 2 2 3 3 1 2 2 2 2 1\n",
      " 3 2 2 1]\n",
      "Finished 499 iterations\n",
      "Finished 999 iterations\n",
      "Finished 1499 iterations\n",
      "Finished 1999 iterations\n",
      "Finished 2499 iterations\n",
      "Finished 2999 iterations\n",
      "Finished 3499 iterations\n",
      "Finished 3999 iterations\n",
      "Finished 4499 iterations\n",
      "Finished 4999 iterations\n",
      "Finished 5499 iterations\n",
      "Finished 5999 iterations\n",
      "Finished 6499 iterations\n",
      "Finished 6999 iterations\n",
      "Finished 7499 iterations\n",
      "Finished 7999 iterations\n",
      "Finished 8499 iterations\n",
      "Finished 8999 iterations\n",
      "Finished 9499 iterations\n",
      "Finished 9999 iterations\n",
      "780000\n",
      "True\n"
     ]
    }
   ],
   "source": [
    "cnv_support = [1,2,3]\n",
    "gibbs_data_444F, gibbsX_444F, gibbs_data_results_444F, logliks_444F, gibbs_df_444F = generate_gibbs_df(cnv_support, \n",
    "                                                                        X_probs38, data=data_dict['444F_dup'], \n",
    "                                                                        iterations=10000, exon_labels=exon_labels)"
   ]
  },
  {
   "cell_type": "code",
   "execution_count": 787,
   "metadata": {
    "collapsed": false,
    "scrolled": true
   },
   "outputs": [
    {
     "name": "stdout",
     "output_type": "stream",
     "text": [
      "[2 3 3 3 3 2 1 3 2 1 1 3 2 2 1 2 3 3 3 3 3 1 1 1 3 1 2 1 2 3 3 3 2 1 1 2 2\n",
      " 2 1 1 2 1 1 2 1 3 1 1 2 1 3 1 1 2 2 1 3 1 1 2 3 2 3 2 1 2 1 3 1 3 2 3 2 3\n",
      " 1 1 1 1]\n",
      "Finished 499 iterations\n",
      "Finished 999 iterations\n",
      "Finished 1499 iterations\n",
      "Finished 1999 iterations\n",
      "Finished 2499 iterations\n",
      "Finished 2999 iterations\n",
      "Finished 3499 iterations\n",
      "Finished 3999 iterations\n",
      "Finished 4499 iterations\n",
      "Finished 4999 iterations\n",
      "Finished 5499 iterations\n",
      "Finished 5999 iterations\n",
      "Finished 6499 iterations\n",
      "Finished 6999 iterations\n",
      "Finished 7499 iterations\n",
      "Finished 7999 iterations\n",
      "Finished 8499 iterations\n",
      "Finished 8999 iterations\n",
      "Finished 9499 iterations\n",
      "Finished 9999 iterations\n",
      "780000\n",
      "True\n"
     ]
    }
   ],
   "source": [
    "cnv_support = [1,2,3]\n",
    "gibbs_data_444Fc, gibbsX_444Fc, gibbs_data_results_444Fc, logliks_444Fc, gibbs_df_444Fc = generate_gibbs_df(cnv_support, \n",
    "                                                                        X_probs38, data=data_dict['444F'], \n",
    "                                                                        iterations=10000, exon_labels=exon_labels)"
   ]
  },
  {
   "cell_type": "code",
   "execution_count": 788,
   "metadata": {
    "collapsed": false
   },
   "outputs": [
    {
     "data": {
      "image/png": "[encoded data removed]",
      "text/plain": [
       "<matplotlib.figure.Figure at 0x11aba3690>"
      ]
     },
     "metadata": {},
     "output_type": "display_data"
    }
   ],
   "source": [
    "create_stacked_bars(gibbs_df_444F, 'Dup 30, Sub 444F, random cnv start values, full coverage')"
   ]
  },
  {
   "cell_type": "code",
   "execution_count": 789,
   "metadata": {
    "collapsed": false
   },
   "outputs": [
    {
     "data": {
      "image/png": "[encoded data removed]",
      "text/plain": [
       "<matplotlib.figure.Figure at 0x1107d4210>"
      ]
     },
     "metadata": {},
     "output_type": "display_data"
    }
   ],
   "source": [
    "create_stacked_bars(gibbs_df_444Fc, 'Sub 444F, random cnv start values, full coverage')"
   ]
  },
  {
   "cell_type": "markdown",
   "metadata": {},
   "source": [
    "This subject (and any simulated mutations based on her) will probably be excluded from future tests because her bams are actually merged files from the results of sequencing with at least two different mixin panels. This might explain the abnormal exon coverage ratios for at least some exons."
   ]
  },
  {
   "cell_type": "code",
   "execution_count": 273,
   "metadata": {
    "collapsed": false
   },
   "outputs": [
    {
     "data": {
      "text/plain": [
       "subject\n",
       "FGPC-0000-444F        0.349709\n",
       "FGPC-0000-444F_dup    0.349709\n",
       "FGPC-4ZPF-J0F1        0.404720\n",
       "FGPC-4ZPF-J0F1_del    0.404720\n",
       "FPWB-0000-822R        0.351999\n",
       "FPWB-0000-822R_del    0.351999\n",
       "Name: TSID_only, dtype: float64"
      ]
     },
     "execution_count": 273,
     "metadata": {},
     "output_type": "execute_result"
    }
   ],
   "source": [
    "estimate_prop_full = (test_norm_rel.TSID_only - regression_full.params[0]) / regression_full.params[1]\n",
    "estimate_prop_full"
   ]
  },
  {
   "cell_type": "code",
   "execution_count": null,
   "metadata": {
    "collapsed": true
   },
   "outputs": [],
   "source": []
  }
 ],
 "metadata": {
  "kernelspec": {
   "display_name": "Python 2",
   "language": "python",
   "name": "python2"
  }
 },
 "nbformat": 4,
 "nbformat_minor": 2
}
