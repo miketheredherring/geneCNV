{
 "cells": [
  {
   "cell_type": "code",
   "execution_count": 51,
   "metadata": {
    "collapsed": false
   },
   "outputs": [],
   "source": [
    "import pandas as pd\n",
    "from genepeeks.common import utilities as util\n",
    "%matplotlib inline\n",
    "import matplotlib.pyplot as plt\n",
    "import numpy as np\n",
    "import tabletext\n",
    "from scipy.stats import poisson"
   ]
  },
  {
   "cell_type": "markdown",
   "metadata": {},
   "source": [
    "#### Add poisson values to PEM contingency table since scipy.stats could not be imported on amazon instance"
   ]
  },
  {
   "cell_type": "code",
   "execution_count": 123,
   "metadata": {
    "collapsed": false
   },
   "outputs": [],
   "source": [
    "initial_df = pd.read_csv(\"../exon_data/PEM_contingency_table_initial.csv\", header=1)\n",
    "\n",
    "cutoff_fraction = 0.01\n",
    "headers = []\n",
    "final_contingency_table = []\n",
    "exon_fields = ['total', 'lower_outl', 'lower_poisson', 'upper_outl', 'upper_poisson']\n",
    "for i, header in enumerate(initial_df.columns):\n",
    "    if not header.startswith('Ex'):\n",
    "        if i != 0:\n",
    "            headers.append(header)\n",
    "        for subj_i, item in enumerate(initial_df[header]):\n",
    "            if i == 0:\n",
    "                final_contingency_table.append([])\n",
    "            else:\n",
    "                final_contingency_table[subj_i].append(item)\n",
    "    if header.endswith('total'):\n",
    "        exon = header.split('_')[0]\n",
    "        for field in exon_fields:\n",
    "            headers.append('{}_{}'.format(exon, field))\n",
    "        \n",
    "        exon_values = zip(initial_df[header], initial_df[initial_df.columns[i + 1]], initial_df[initial_df.columns[i + 2]])\n",
    "        for subj_i, (total, lower, upper) in enumerate(exon_values):\n",
    "            expected = total * cutoff_fraction\n",
    "            lower_poisson = 1.0 - poisson.cdf(lower, expected)\n",
    "            upper_poisson = 1.0 - poisson.cdf(upper, expected)\n",
    "\n",
    "            subj_exon_stats = [total, lower, lower_poisson, upper, upper_poisson]\n",
    "            final_contingency_table[subj_i] += subj_exon_stats\n",
    "            \n",
    "final_contingency_table.insert(0, headers)\n",
    "\n",
    "# Convert to pandas data frame and export to csv\n",
    "final_df = pd.DataFrame(final_contingency_table)\n",
    "final_df.to_csv(\"../exon_data/PEM_contingency_table_final.csv\")"
   ]
  },
  {
   "cell_type": "markdown",
   "metadata": {},
   "source": [
    "#### Load final contingency table from csv as pandas dataframe, and filter out old subjects if requested"
   ]
  },
  {
   "cell_type": "code",
   "execution_count": 124,
   "metadata": {
    "collapsed": true
   },
   "outputs": [],
   "source": [
    "final_df = pd.read_csv(\"../exon_data/PEM_contingency_table_final.csv\", header=1)\n",
    "\n",
    "# If requested, only look at subjects that were not from the initial batch of created subjects\n",
    "only_new_subjects = True\n",
    "relevant_df = final_df[final_df['date_modified'] > 1465401045] if only_new_subjects else final_df"
   ]
  },
  {
   "cell_type": "markdown",
   "metadata": {},
   "source": [
    "#### Look at the number of subjects with low p values for each exon"
   ]
  },
  {
   "cell_type": "code",
   "execution_count": 101,
   "metadata": {
    "collapsed": false
   },
   "outputs": [
    {
     "name": "stdout",
     "output_type": "stream",
     "text": [
      "┌─────────┬────────────────────────┬────────────────────────┬────────────────────────┬────────────────────────┐\n",
      "│ Exon    │ Count with CDF < 1e-05 │ Count with CDF < 1e-06 │ Count with CDF < 1e-07 │ Count with CDF < 1e-08 │\n",
      "├─────────┼────────────────────────┼────────────────────────┼────────────────────────┼────────────────────────┤\n",
      "│ Ex1     │                      0 │                      0 │                      0 │                      0 │\n",
      "├─────────┼────────────────────────┼────────────────────────┼────────────────────────┼────────────────────────┤\n",
      "│ Ex2     │                      0 │                      0 │                      0 │                      0 │\n",
      "├─────────┼────────────────────────┼────────────────────────┼────────────────────────┼────────────────────────┤\n",
      "│ Ex3     │                      0 │                      0 │                      0 │                      0 │\n",
      "├─────────┼────────────────────────┼────────────────────────┼────────────────────────┼────────────────────────┤\n",
      "│ Ex4     │                      0 │                      0 │                      0 │                      0 │\n",
      "├─────────┼────────────────────────┼────────────────────────┼────────────────────────┼────────────────────────┤\n",
      "│ Ex5     │                      0 │                      0 │                      0 │                      0 │\n",
      "├─────────┼────────────────────────┼────────────────────────┼────────────────────────┼────────────────────────┤\n",
      "│ Ex6     │                      0 │                      0 │                      0 │                      0 │\n",
      "├─────────┼────────────────────────┼────────────────────────┼────────────────────────┼────────────────────────┤\n",
      "│ Ex7     │                      0 │                      0 │                      0 │                      0 │\n",
      "├─────────┼────────────────────────┼────────────────────────┼────────────────────────┼────────────────────────┤\n",
      "│ Ex8     │                      0 │                      0 │                      0 │                      0 │\n",
      "├─────────┼────────────────────────┼────────────────────────┼────────────────────────┼────────────────────────┤\n",
      "│ Ex9     │                      0 │                      0 │                      0 │                      0 │\n",
      "├─────────┼────────────────────────┼────────────────────────┼────────────────────────┼────────────────────────┤\n",
      "│ Ex10    │                      0 │                      0 │                      0 │                      0 │\n",
      "├─────────┼────────────────────────┼────────────────────────┼────────────────────────┼────────────────────────┤\n",
      "│ Ex11    │                      0 │                      0 │                      0 │                      0 │\n",
      "├─────────┼────────────────────────┼────────────────────────┼────────────────────────┼────────────────────────┤\n",
      "│ Ex12    │                      0 │                      0 │                      0 │                      0 │\n",
      "├─────────┼────────────────────────┼────────────────────────┼────────────────────────┼────────────────────────┤\n",
      "│ Ex13    │                      0 │                      0 │                      0 │                      0 │\n",
      "├─────────┼────────────────────────┼────────────────────────┼────────────────────────┼────────────────────────┤\n",
      "│ Ex14    │                      0 │                      0 │                      0 │                      0 │\n",
      "├─────────┼────────────────────────┼────────────────────────┼────────────────────────┼────────────────────────┤\n",
      "│ Ex15    │                      1 │                      0 │                      0 │                      0 │\n",
      "├─────────┼────────────────────────┼────────────────────────┼────────────────────────┼────────────────────────┤\n",
      "│ Ex16    │                      0 │                      0 │                      0 │                      0 │\n",
      "├─────────┼────────────────────────┼────────────────────────┼────────────────────────┼────────────────────────┤\n",
      "│ Ex17    │                      0 │                      0 │                      0 │                      0 │\n",
      "├─────────┼────────────────────────┼────────────────────────┼────────────────────────┼────────────────────────┤\n",
      "│ Ex18    │                      0 │                      0 │                      0 │                      0 │\n",
      "├─────────┼────────────────────────┼────────────────────────┼────────────────────────┼────────────────────────┤\n",
      "│ Ex19    │                      0 │                      0 │                      0 │                      0 │\n",
      "├─────────┼────────────────────────┼────────────────────────┼────────────────────────┼────────────────────────┤\n",
      "│ Ex20    │                      0 │                      0 │                      0 │                      0 │\n",
      "├─────────┼────────────────────────┼────────────────────────┼────────────────────────┼────────────────────────┤\n",
      "│ Ex21    │                      0 │                      0 │                      0 │                      0 │\n",
      "├─────────┼────────────────────────┼────────────────────────┼────────────────────────┼────────────────────────┤\n",
      "│ Ex22    │                      0 │                      0 │                      0 │                      0 │\n",
      "├─────────┼────────────────────────┼────────────────────────┼────────────────────────┼────────────────────────┤\n",
      "│ Ex23    │                      0 │                      0 │                      0 │                      0 │\n",
      "├─────────┼────────────────────────┼────────────────────────┼────────────────────────┼────────────────────────┤\n",
      "│ Ex24    │                      0 │                      0 │                      0 │                      0 │\n",
      "├─────────┼────────────────────────┼────────────────────────┼────────────────────────┼────────────────────────┤\n",
      "│ Ex25    │                      0 │                      0 │                      0 │                      0 │\n",
      "├─────────┼────────────────────────┼────────────────────────┼────────────────────────┼────────────────────────┤\n",
      "│ Ex26    │                      0 │                      0 │                      0 │                      0 │\n",
      "├─────────┼────────────────────────┼────────────────────────┼────────────────────────┼────────────────────────┤\n",
      "│ Ex27    │                      0 │                      0 │                      0 │                      0 │\n",
      "├─────────┼────────────────────────┼────────────────────────┼────────────────────────┼────────────────────────┤\n",
      "│ Ex28    │                      0 │                      0 │                      0 │                      0 │\n",
      "├─────────┼────────────────────────┼────────────────────────┼────────────────────────┼────────────────────────┤\n",
      "│ Ex29    │                      1 │                      1 │                      1 │                      0 │\n",
      "├─────────┼────────────────────────┼────────────────────────┼────────────────────────┼────────────────────────┤\n",
      "│ Ex30    │                      0 │                      0 │                      0 │                      0 │\n",
      "├─────────┼────────────────────────┼────────────────────────┼────────────────────────┼────────────────────────┤\n",
      "│ Ex31    │                      0 │                      0 │                      0 │                      0 │\n",
      "├─────────┼────────────────────────┼────────────────────────┼────────────────────────┼────────────────────────┤\n",
      "│ Ex32    │                      0 │                      0 │                      0 │                      0 │\n",
      "├─────────┼────────────────────────┼────────────────────────┼────────────────────────┼────────────────────────┤\n",
      "│ Ex33    │                      1 │                      1 │                      1 │                      1 │\n",
      "├─────────┼────────────────────────┼────────────────────────┼────────────────────────┼────────────────────────┤\n",
      "│ Ex34    │                      0 │                      0 │                      0 │                      0 │\n",
      "├─────────┼────────────────────────┼────────────────────────┼────────────────────────┼────────────────────────┤\n",
      "│ Ex35    │                      0 │                      0 │                      0 │                      0 │\n",
      "├─────────┼────────────────────────┼────────────────────────┼────────────────────────┼────────────────────────┤\n",
      "│ Ex36    │                      0 │                      0 │                      0 │                      0 │\n",
      "├─────────┼────────────────────────┼────────────────────────┼────────────────────────┼────────────────────────┤\n",
      "│ Ex37    │                      0 │                      0 │                      0 │                      0 │\n",
      "├─────────┼────────────────────────┼────────────────────────┼────────────────────────┼────────────────────────┤\n",
      "│ Ex38    │                      0 │                      0 │                      0 │                      0 │\n",
      "├─────────┼────────────────────────┼────────────────────────┼────────────────────────┼────────────────────────┤\n",
      "│ Ex39    │                      0 │                      0 │                      0 │                      0 │\n",
      "├─────────┼────────────────────────┼────────────────────────┼────────────────────────┼────────────────────────┤\n",
      "│ Ex40    │                      0 │                      0 │                      0 │                      0 │\n",
      "├─────────┼────────────────────────┼────────────────────────┼────────────────────────┼────────────────────────┤\n",
      "│ Ex41    │                      0 │                      0 │                      0 │                      0 │\n",
      "├─────────┼────────────────────────┼────────────────────────┼────────────────────────┼────────────────────────┤\n",
      "│ Ex42    │                      1 │                      1 │                      1 │                      1 │\n",
      "├─────────┼────────────────────────┼────────────────────────┼────────────────────────┼────────────────────────┤\n",
      "│ Ex43    │                      0 │                      0 │                      0 │                      0 │\n",
      "├─────────┼────────────────────────┼────────────────────────┼────────────────────────┼────────────────────────┤\n",
      "│ Ex44|45 │                      1 │                      0 │                      0 │                      0 │\n",
      "├─────────┼────────────────────────┼────────────────────────┼────────────────────────┼────────────────────────┤\n",
      "│ Ex46    │                      1 │                      1 │                      1 │                      0 │\n",
      "├─────────┼────────────────────────┼────────────────────────┼────────────────────────┼────────────────────────┤\n",
      "│ Ex47    │                      1 │                      1 │                      1 │                      1 │\n",
      "├─────────┼────────────────────────┼────────────────────────┼────────────────────────┼────────────────────────┤\n",
      "│ Ex48|49 │                      0 │                      0 │                      0 │                      0 │\n",
      "├─────────┼────────────────────────┼────────────────────────┼────────────────────────┼────────────────────────┤\n",
      "│ Ex50    │                      0 │                      0 │                      0 │                      0 │\n",
      "├─────────┼────────────────────────┼────────────────────────┼────────────────────────┼────────────────────────┤\n",
      "│ Ex51    │                      1 │                      0 │                      0 │                      0 │\n",
      "├─────────┼────────────────────────┼────────────────────────┼────────────────────────┼────────────────────────┤\n",
      "│ Ex52    │                      0 │                      0 │                      0 │                      0 │\n",
      "├─────────┼────────────────────────┼────────────────────────┼────────────────────────┼────────────────────────┤\n",
      "│ Ex53    │                      0 │                      0 │                      0 │                      0 │\n",
      "├─────────┼────────────────────────┼────────────────────────┼────────────────────────┼────────────────────────┤\n",
      "│ Ex54    │                      0 │                      0 │                      0 │                      0 │\n",
      "├─────────┼────────────────────────┼────────────────────────┼────────────────────────┼────────────────────────┤\n",
      "│ Ex55    │                      0 │                      0 │                      0 │                      0 │\n",
      "├─────────┼────────────────────────┼────────────────────────┼────────────────────────┼────────────────────────┤\n",
      "│ Ex56    │                      0 │                      0 │                      0 │                      0 │\n",
      "├─────────┼────────────────────────┼────────────────────────┼────────────────────────┼────────────────────────┤\n",
      "│ Ex57    │                      0 │                      0 │                      0 │                      0 │\n",
      "├─────────┼────────────────────────┼────────────────────────┼────────────────────────┼────────────────────────┤\n",
      "│ Ex58    │                      0 │                      0 │                      0 │                      0 │\n",
      "├─────────┼────────────────────────┼────────────────────────┼────────────────────────┼────────────────────────┤\n",
      "│ Ex59    │                      0 │                      0 │                      0 │                      0 │\n",
      "├─────────┼────────────────────────┼────────────────────────┼────────────────────────┼────────────────────────┤\n",
      "│ Ex60    │                      3 │                      0 │                      0 │                      0 │\n",
      "├─────────┼────────────────────────┼────────────────────────┼────────────────────────┼────────────────────────┤\n",
      "│ Ex61    │                      0 │                      0 │                      0 │                      0 │\n",
      "├─────────┼────────────────────────┼────────────────────────┼────────────────────────┼────────────────────────┤\n",
      "│ Ex62    │                      0 │                      0 │                      0 │                      0 │\n",
      "├─────────┼────────────────────────┼────────────────────────┼────────────────────────┼────────────────────────┤\n",
      "│ Ex63    │                      0 │                      0 │                      0 │                      0 │\n",
      "├─────────┼────────────────────────┼────────────────────────┼────────────────────────┼────────────────────────┤\n",
      "│ Ex64    │                      0 │                      0 │                      0 │                      0 │\n",
      "├─────────┼────────────────────────┼────────────────────────┼────────────────────────┼────────────────────────┤\n",
      "│ Ex65|66 │                      0 │                      0 │                      0 │                      0 │\n",
      "├─────────┼────────────────────────┼────────────────────────┼────────────────────────┼────────────────────────┤\n",
      "│ Ex67    │                      0 │                      0 │                      0 │                      0 │\n",
      "├─────────┼────────────────────────┼────────────────────────┼────────────────────────┼────────────────────────┤\n",
      "│ Ex68    │                      1 │                      0 │                      0 │                      0 │\n",
      "├─────────┼────────────────────────┼────────────────────────┼────────────────────────┼────────────────────────┤\n",
      "│ Ex69    │                      0 │                      0 │                      0 │                      0 │\n",
      "├─────────┼────────────────────────┼────────────────────────┼────────────────────────┼────────────────────────┤\n",
      "│ Ex70    │                      0 │                      0 │                      0 │                      0 │\n",
      "├─────────┼────────────────────────┼────────────────────────┼────────────────────────┼────────────────────────┤\n",
      "│ Ex71    │                      0 │                      0 │                      0 │                      0 │\n",
      "├─────────┼────────────────────────┼────────────────────────┼────────────────────────┼────────────────────────┤\n",
      "│ Ex72    │                      0 │                      0 │                      0 │                      0 │\n",
      "├─────────┼────────────────────────┼────────────────────────┼────────────────────────┼────────────────────────┤\n",
      "│ Ex73    │                      0 │                      0 │                      0 │                      0 │\n",
      "├─────────┼────────────────────────┼────────────────────────┼────────────────────────┼────────────────────────┤\n",
      "│ Ex74    │                      0 │                      0 │                      0 │                      0 │\n",
      "├─────────┼────────────────────────┼────────────────────────┼────────────────────────┼────────────────────────┤\n",
      "│ Ex75    │                      0 │                      0 │                      0 │                      0 │\n",
      "├─────────┼────────────────────────┼────────────────────────┼────────────────────────┼────────────────────────┤\n",
      "│ Ex76    │                      0 │                      0 │                      0 │                      0 │\n",
      "├─────────┼────────────────────────┼────────────────────────┼────────────────────────┼────────────────────────┤\n",
      "│ Ex77    │                      0 │                      0 │                      0 │                      0 │\n",
      "├─────────┼────────────────────────┼────────────────────────┼────────────────────────┼────────────────────────┤\n",
      "│ Ex78    │                      0 │                      0 │                      0 │                      0 │\n",
      "├─────────┼────────────────────────┼────────────────────────┼────────────────────────┼────────────────────────┤\n",
      "│ Ex79    │                      1 │                      0 │                      0 │                      0 │\n",
      "└─────────┴────────────────────────┴────────────────────────┴────────────────────────┴────────────────────────┘\n"
     ]
    },
    {
     "data": {
      "image/png": "[encoded data removed]",
      "text/plain": [
       "<matplotlib.figure.Figure at 0x10934fc90>"
      ]
     },
     "metadata": {},
     "output_type": "display_data"
    },
    {
     "data": {
      "image/png": "[encoded data removed]",
      "text/plain": [
       "<matplotlib.figure.Figure at 0x1090459d0>"
      ]
     },
     "metadata": {},
     "output_type": "display_data"
    },
    {
     "data": {
      "image/png": "[encoded data removed]",
      "text/plain": [
       "<matplotlib.figure.Figure at 0x109c88510>"
      ]
     },
     "metadata": {},
     "output_type": "display_data"
    },
    {
     "data": {
      "image/png": "[encoded data removed]",
      "text/plain": [
       "<matplotlib.figure.Figure at 0x109091550>"
      ]
     },
     "metadata": {},
     "output_type": "display_data"
    }
   ],
   "source": [
    "p_val_cutoffs = [0.00001, 0.000001, 0.0000001, 0.00000001]\n",
    "headers = ['Exon'] + ['Count with p < {}'.format(cutoff) for cutoff in p_val_cutoffs]\n",
    "exon_low_p_val_count = [headers]\n",
    "all_p_values = {'Lower': [], 'Upper': []}\n",
    "\n",
    "for i, col in enumerate(relevant_df.columns):\n",
    "    if 'upper_poisson' in col:\n",
    "        exon = col.split('_')[0]\n",
    "        exon_upper_poisson = relevant_df[col]\n",
    "        all_p_values['Upper'] += list(exon_upper_poisson)\n",
    "        all_p_values['Lower'] += list(relevant_df[relevant_df.columns[i-2]])\n",
    "        exon_data = [exon] + [len(filter(lambda x: x < cutoff, exon_upper_poisson)) for cutoff in p_val_cutoffs]\n",
    "        exon_low_p_val_count.append(exon_data)\n",
    "        \n",
    "#         plt.hist(upper_list, bins=50)\n",
    "#         plt.title(\"{} Insert Length CDF\".format(exon))\n",
    "#         plt.ylabel(\"Count\")\n",
    "#         plt.show()\n",
    "        \n",
    "print tabletext.to_text(exon_low_p_val_count)\n",
    "\n",
    "# Plot histograms of all the p_values\n",
    "for outl_side, p_values in all_p_values.items():\n",
    "    plt.hist(p_values, bins=100)\n",
    "    plt.title(\"{} Insert Length CDF\".format(outl_side))\n",
    "    plt.ylabel(\"Count\")\n",
    "    plt.show()\n",
    "\n",
    "    clipped_p_values = [item for item in p_values if item < 0.005]\n",
    "    plt.hist(clipped_p_values, bins=50)\n",
    "    plt.title(\"{} Insert Length CDF Low end\".format(outl_side))\n",
    "    plt.ylabel(\"Count\")\n",
    "    plt.show()\n"
   ]
  },
  {
   "cell_type": "markdown",
   "metadata": {},
   "source": [
    "#### Look at the number of exons with low p values for each subject"
   ]
  },
  {
   "cell_type": "code",
   "execution_count": 119,
   "metadata": {
    "collapsed": false
   },
   "outputs": [
    {
     "name": "stdout",
     "output_type": "stream",
     "text": [
      "┌────────────────┬──────────────────────┬──────────────────────┬──────────────────────┬──────────────────────┐\n",
      "│ Subject        │ Exons with p < 1e-05 │ Exons with p < 1e-06 │ Exons with p < 1e-07 │ Exons with p < 1e-08 │\n",
      "├────────────────┼──────────────────────┼──────────────────────┼──────────────────────┼──────────────────────┤\n",
      "│ FPFC-JABH-UI96 │                    2 │                    2 │                    2 │                    1 │\n",
      "├────────────────┼──────────────────────┼──────────────────────┼──────────────────────┼──────────────────────┤\n",
      "│ FGPC-IVLC-WFZD │                    1 │                    1 │                    1 │                    1 │\n",
      "├────────────────┼──────────────────────┼──────────────────────┼──────────────────────┼──────────────────────┤\n",
      "│ FPWB-0001-315V │                    2 │                    1 │                    1 │                    0 │\n",
      "├────────────────┼──────────────────────┼──────────────────────┼──────────────────────┼──────────────────────┤\n",
      "│ FCLR-NA20-399A │                    1 │                    1 │                    1 │                    1 │\n",
      "└────────────────┴──────────────────────┴──────────────────────┴──────────────────────┴──────────────────────┘\n"
     ]
    }
   ],
   "source": [
    "headers = ['Subject'] + ['Exons with p < {}'.format(cutoff) for cutoff in p_val_cutoffs]\n",
    "subject_outlier_counts = [headers]\n",
    "for subject_i in xrange(final_df.shape[0]):\n",
    "    subject_data = final_df.iloc[subject_i]\n",
    "    # Filter out old subjects\n",
    "    if subject_data['date_modified'] < 1465401045:\n",
    "        continue\n",
    "    upper_poisson_values = subject_data.filter(regex=('upper_poisson'))\n",
    "    subject_stats = [final_df['subject'][subject_i]] + [len(filter(lambda x: x < cutoff, upper_poisson_values)) for cutoff in p_val_cutoffs]\n",
    "    if subject_stats[2]:\n",
    "        subject_outlier_counts.append(subject_stats)\n",
    "print tabletext.to_text(subject_outlier_counts)"
   ]
  },
  {
   "cell_type": "markdown",
   "metadata": {},
   "source": [
    "#### Examine recent subjects that had too many outliers in Exon 33 (examining false positives)"
   ]
  },
  {
   "cell_type": "code",
   "execution_count": 122,
   "metadata": {
    "collapsed": false,
    "scrolled": true
   },
   "outputs": [
    {
     "data": {
      "text/html": [
       "<div>\n",
       "<table border=\"1\" class=\"dataframe\">\n",
       "  <thead>\n",
       "    <tr style=\"text-align: right;\">\n",
       "      <th></th>\n",
       "      <th>subject</th>\n",
       "      <th>Ex33_total</th>\n",
       "      <th>Ex33_lower_outl</th>\n",
       "      <th>Ex33_lower_poisson</th>\n",
       "      <th>Ex33_upper_outl</th>\n",
       "      <th>Ex33_upper_poisson</th>\n",
       "    </tr>\n",
       "  </thead>\n",
       "  <tbody>\n",
       "    <tr>\n",
       "      <th>173</th>\n",
       "      <td>FGPC-IVLC-WFZD</td>\n",
       "      <td>215</td>\n",
       "      <td>3</td>\n",
       "      <td>0.170907</td>\n",
       "      <td>14</td>\n",
       "      <td>9.963701e-09</td>\n",
       "    </tr>\n",
       "  </tbody>\n",
       "</table>\n",
       "</div>"
      ],
      "text/plain": [
       "            subject  Ex33_total  Ex33_lower_outl  Ex33_lower_poisson  \\\n",
       "173  FGPC-IVLC-WFZD         215                3            0.170907   \n",
       "\n",
       "     Ex33_upper_outl  Ex33_upper_poisson  \n",
       "173               14        9.963701e-09  "
      ]
     },
     "execution_count": 122,
     "metadata": {},
     "output_type": "execute_result"
    }
   ],
   "source": [
    "final_df[(final_df['Ex33_upper_poisson'] < 0.00001) & (final_df['date_modified'] > 1465401045)].filter(regex=('Ex33|subject|cutoff')).sort_values(by='Ex33_upper_outl', ascending=False)\n"
   ]
  },
  {
   "cell_type": "code",
   "execution_count": null,
   "metadata": {
    "collapsed": true
   },
   "outputs": [],
   "source": []
  }
 ],
 "metadata": {
  "kernelspec": {
   "display_name": "Python 2",
   "language": "python",
   "name": "python2"
  },
  "language_info": {
   "codemirror_mode": {
    "name": "ipython",
    "version": 2
   },
   "file_extension": ".py",
   "mimetype": "text/x-python",
   "name": "python",
   "nbconvert_exporter": "python",
   "pygments_lexer": "ipython2",
   "version": "2.7.11"
  }
 },
 "nbformat": 4,
 "nbformat_minor": 2
}
