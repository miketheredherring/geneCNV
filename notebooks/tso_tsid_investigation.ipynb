{
 "cells": [
  {
   "cell_type": "markdown",
   "metadata": {},
   "source": [
    "# Investigating differences in coverage between TSO and TSID "
   ]
  },
  {
   "cell_type": "code",
   "execution_count": 352,
   "metadata": {
    "collapsed": false
   },
   "outputs": [],
   "source": [
    "import os\n",
    "import pysam\n",
    "import copy\n",
    "import numpy as np\n",
    "import random\n",
    "import matplotlib.pyplot as plt\n",
    "import pandas as pd\n",
    "from collections import Counter\n",
    "from genepeeks.common import utilities as util\n",
    "import seaborn as sns\n",
    "# to clean up later -- temporary fix\n",
    "import sys\n",
    "sys.path.append(os.path.join(os.getcwd(), '..'))\n",
    "from python_library import DMD_utilities as DMD_util\n",
    "from python_library import coverage_matrix as cov\n",
    "import statsmodels.formula.api as sm\n",
    "from sklearn import linear_model\n",
    "\n",
    "%matplotlib inline"
   ]
  },
  {
   "cell_type": "code",
   "execution_count": 435,
   "metadata": {
    "collapsed": false
   },
   "outputs": [
    {
     "name": "stdout",
     "output_type": "stream",
     "text": [
      "The following exons were merged: ['65|66']\n"
     ]
    }
   ],
   "source": [
    "DMD_exons_merged, exon_labels = DMD_util.get_DMD_exons_merged()"
   ]
  },
  {
   "cell_type": "code",
   "execution_count": 436,
   "metadata": {
    "collapsed": false
   },
   "outputs": [
    {
     "name": "stdout",
     "output_type": "stream",
     "text": [
      "2702\n",
      "[31137345, 31140047]\n",
      "[33229399, 33229636]\n"
     ]
    }
   ],
   "source": [
    "# DMD exon/gene coordinates and useful regions (coordinates taken from IGV b37 reference) -- not used anymore\n",
    "# EXON46 = [31950197, 31950344]\n",
    "# EXON47 = [31947713, 31947862]\n",
    "# EXON48 = [31893308, 31893490]\n",
    "# EXON49 = [31854835, 31854939]\n",
    "# EXON50 = [31838092, 31838200]\n",
    "# EXON51 = [31792077, 31792309]\n",
    "# DMD = [31115794, 33357558]  # taken from ensembl GRCh37\n",
    "\n",
    "# deletion of partial exons\n",
    "EX48_50_PART = [31838130, 31893308]\n",
    "\n",
    "# for consistency with exon labeling in Ensembl\n",
    "exon_dict = {exon['index']: [exon['start'], exon['end']] for exon in DMD_exons_merged}\n",
    "print exon_dict['1'][1] - exon_dict['1'][0]\n",
    "print exon_dict['1']\n",
    "print exon_dict['79']"
   ]
  },
  {
   "cell_type": "code",
   "execution_count": 5,
   "metadata": {
    "collapsed": true
   },
   "outputs": [],
   "source": [
    "# workaround to force real time print output in notebooks\n",
    "# see http://stackoverflow.com/questions/29772158/make-ipython-notebook-print-in-real-time\n",
    "import sys\n",
    "oldsysstdout = sys.stdout\n",
    "class flushfile():\n",
    "    def __init__(self, f):\n",
    "        self.f = f\n",
    "    def __getattr__(self,name): \n",
    "        return object.__getattribute__(self.f, name)\n",
    "    def write(self, x):\n",
    "        self.f.write(x)\n",
    "        self.f.flush()\n",
    "    def flush(self):\n",
    "        self.f.flush()\n",
    "sys.stdout = flushfile(sys.stdout)"
   ]
  },
  {
   "cell_type": "markdown",
   "metadata": {},
   "source": [
    "## Merging bamfiles for subject in mixin experiment (does not need to be run again)"
   ]
  },
  {
   "cell_type": "code",
   "execution_count": 179,
   "metadata": {
    "collapsed": false
   },
   "outputs": [
    {
     "name": "stdout",
     "output_type": "stream",
     "text": [
      "Finished merging files for FPWB-0001-1232_1-T2\n",
      "Finished merging files for FPWB-0001-1232_1-T3\n",
      "Finished merging files for FPWB-0001-1232_1-T4\n",
      "Finished merging files for FPWB-0001-1232_1-T5\n"
     ]
    }
   ],
   "source": [
    "outfiles_0001 = ['FPWB-0001-1232_1-T2', 'FPWB-0001-1232_1-T3', 'FPWB-0001-1232_1-T4', 'FPWB-0001-1232_1-T5']\n",
    "for name in outfiles_0001:\n",
    "    full_bam = '../bams/mixin_exp/{}.bam'.format(name)\n",
    "    component_bams = ['../bams/mixin_exp/{}-1_H5FGFAFXX-L00{}.bam'.format(name, num) for num in range(1,5)]\n",
    "    pysam.merge(full_bam, *component_bams, catch_stdout=False)\n",
    "    print 'Finished merging files for {}'.format(name)\n",
    "    pysam.index(full_bam)"
   ]
  },
  {
   "cell_type": "markdown",
   "metadata": {},
   "source": [
    "## Investigating interval differences between TSO/TSID panels and canonical transcript\n",
    "Also beginning of creation of superset of exons/intervals to use during Gibbs sampling/assay."
   ]
  },
  {
   "cell_type": "code",
   "execution_count": 447,
   "metadata": {
    "collapsed": false,
    "scrolled": true
   },
   "outputs": [],
   "source": [
    "intervals = {\n",
    "    'tsid': {'file': '/Users/velina/Downloads/trusight_inherited_disease_manifest_a.bed'},\n",
    "    'tso': {'file': '/Users/velina/Downloads/TruSight_One_v1.1.bed'}\n",
    "}\n",
    "\n",
    "for name, intrv_info in intervals.items():\n",
    "    df = pd.read_csv(intrv_info['file'], delimiter='\\t', header=None, names=('chrom', 'start', 'end', 'id'))\n",
    "    intrv_info['X_df'] = df[df['chrom'] == 'chrX'].sort_values(by='start')\n",
    "    # these coordinates based on the beginning/end of DMD according to tso/tsid exon superset\n",
    "    intrv_info['dmd_df'] = intrv_info['X_df'][(intrv_info['X_df'].start >= 31137344) & (intrv_info['X_df'].end <= 33357726)]\n",
    "    intrv_info['intrv_list_X'] = map(dict, dict(intrv_info['X_df'].T).values())\n",
    "    intrv_info['intrv_list_dmd'] = map(dict, dict(intrv_info['dmd_df'].T).values())"
   ]
  },
  {
   "cell_type": "code",
   "execution_count": 448,
   "metadata": {
    "collapsed": false
   },
   "outputs": [
    {
     "data": {
      "text/html": [
       "<div>\n",
       "<table border=\"1\" class=\"dataframe\">\n",
       "  <thead>\n",
       "    <tr style=\"text-align: right;\">\n",
       "      <th></th>\n",
       "      <th>chr</th>\n",
       "      <th>start</th>\n",
       "      <th>end</th>\n",
       "      <th>name</th>\n",
       "    </tr>\n",
       "  </thead>\n",
       "  <tbody>\n",
       "    <tr>\n",
       "      <th>7303</th>\n",
       "      <td>chrX</td>\n",
       "      <td>31137345</td>\n",
       "      <td>31140047</td>\n",
       "      <td>DMD.chrX.31137345.31140047</td>\n",
       "    </tr>\n",
       "    <tr>\n",
       "      <th>7304</th>\n",
       "      <td>chrX</td>\n",
       "      <td>31144759</td>\n",
       "      <td>31144790</td>\n",
       "      <td>DMD.chrX.31144759.31144790</td>\n",
       "    </tr>\n",
       "    <tr>\n",
       "      <th>7305</th>\n",
       "      <td>chrX</td>\n",
       "      <td>31152219</td>\n",
       "      <td>31152311</td>\n",
       "      <td>DMD.chrX.31152219.31152311</td>\n",
       "    </tr>\n",
       "    <tr>\n",
       "      <th>7306</th>\n",
       "      <td>chrX</td>\n",
       "      <td>31164408</td>\n",
       "      <td>31164531</td>\n",
       "      <td>DMD.chrX.31164408.31164531</td>\n",
       "    </tr>\n",
       "    <tr>\n",
       "      <th>7307</th>\n",
       "      <td>chrX</td>\n",
       "      <td>31165392</td>\n",
       "      <td>31165635</td>\n",
       "      <td>DMD.chrX.31165392.31165635</td>\n",
       "    </tr>\n",
       "  </tbody>\n",
       "</table>\n",
       "</div>"
      ],
      "text/plain": [
       "       chr     start       end                        name\n",
       "7303  chrX  31137345  31140047  DMD.chrX.31137345.31140047\n",
       "7304  chrX  31144759  31144790  DMD.chrX.31144759.31144790\n",
       "7305  chrX  31152219  31152311  DMD.chrX.31152219.31152311\n",
       "7306  chrX  31164408  31164531  DMD.chrX.31164408.31164531\n",
       "7307  chrX  31165392  31165635  DMD.chrX.31165392.31165635"
      ]
     },
     "execution_count": 448,
     "metadata": {},
     "output_type": "execute_result"
    }
   ],
   "source": [
    "tsid_dmd.head()"
   ]
  },
  {
   "cell_type": "code",
   "execution_count": 66,
   "metadata": {
    "collapsed": false
   },
   "outputs": [
    {
     "name": "stdout",
     "output_type": "stream",
     "text": [
      "TSO only: 1664 intervals over 358595 bp\n",
      "TSID only: 207 intervals over 185619 bp\n"
     ]
    }
   ],
   "source": [
    "# finding interval differences using utilities function\n",
    "reload(util)\n",
    "tsid_only = util.interval_diff(intervals['tso']['intrv_list_X'], intervals['tsid']['intrv_list_X'], extend_by=100)\n",
    "tso_only = util.interval_diff(intervals['tsid']['intrv_list_X'], intervals['tso']['intrv_list_X'], extend_by=100)\n",
    "print 'TSO only: {} intervals over {} bp'.format(len(tso_only), util.add_intervals(tso_only))\n",
    "print 'TSID only: {} intervals over {} bp'.format(len(tsid_only), util.add_intervals(tsid_only))"
   ]
  },
  {
   "cell_type": "code",
   "execution_count": 71,
   "metadata": {
    "collapsed": false
   },
   "outputs": [
    {
     "name": "stdout",
     "output_type": "stream",
     "text": [
      "85\n",
      "85\n"
     ]
    }
   ],
   "source": [
    "# checking number of intervals in each panel for DMD -- seems to be equal even though some intervals don't match\n",
    "print len(intervals['tsid']['intrv_list_dmd'])\n",
    "print len(intervals['tso']['intrv_list_dmd'])"
   ]
  },
  {
   "cell_type": "markdown",
   "metadata": {},
   "source": [
    "The method below should not be used for larger genome regions -- not optimized at all, but I wanted a quick and dirty way to find out which intervals in the two panels (or transcript sets) did not match up with an interval in the other set. This method returns full intervals (not interval differences) from both sets that do not have a mate in the other set. Note that even if one interval is much larger than the other, it will still be counted as mated if there is a small overlap between the two sets."
   ]
  },
  {
   "cell_type": "code",
   "execution_count": 191,
   "metadata": {
    "collapsed": true
   },
   "outputs": [],
   "source": [
    "def distinct_intervals(interval_list1, interval_list2, min_overlap=100):\n",
    "    interval_list1_sort = sorted(copy.deepcopy(interval_list1), key=lambda interval: interval['start'])\n",
    "    interval_list2_sort = sorted(copy.deepcopy(interval_list2), key=lambda interval: interval['start'])\n",
    "    \n",
    "    list1_inc_ind = []\n",
    "    list2_inc_ind = []\n",
    "    \n",
    "    for i, interval in enumerate(interval_list1_sort):\n",
    "        for i2, interval2 in enumerate(interval_list2_sort):\n",
    "            if interval['end'] < interval2['start'] or interval['start'] > interval2['end']:\n",
    "                continue\n",
    "            else:\n",
    "                if interval['start'] <= interval2['start'] and interval['end'] >= interval2['end']:\n",
    "                    list1_inc_ind.append(i)\n",
    "                    list2_inc_ind.append(i2)\n",
    "                elif interval['start'] <= interval2['start']:\n",
    "                    if interval['end'] - interval2['start'] >= min_overlap:\n",
    "                        list1_inc_ind.append(i)\n",
    "                        list2_inc_ind.append(i2)\n",
    "                elif interval['end'] >= interval2['end']:\n",
    "                    if interval2['end'] - interval['start'] >= min_overlap:\n",
    "                        list1_inc_ind.append(i)\n",
    "                        list2_inc_ind.append(i2)\n",
    "                else:\n",
    "                    list1_inc_ind.append(i)\n",
    "                    list2_inc_ind.append(i2)\n",
    "                            \n",
    "    list1_match = list(set(list1_inc_ind))\n",
    "    list2_match = list(set(list2_inc_ind))\n",
    "    \n",
    "    list1_only_ind = [ind for ind in range(len(interval_list1_sort)) if ind not in list1_match]\n",
    "    list2_only_ind = [ind for ind in range(len(interval_list2_sort)) if ind not in list2_match]\n",
    "    \n",
    "    list1_only = [interval_list1_sort[ind] for ind in list1_only_ind]\n",
    "    list2_only = [interval_list2_sort[ind] for ind in list2_only_ind]\n",
    "#     print list1_inc_ind\n",
    "#     print list2_inc_ind\n",
    "#     print interval_list2_sort[53]\n",
    "    \n",
    "    return list1_only, list2_only, list1_only_ind, list2_only_ind"
   ]
  },
  {
   "cell_type": "code",
   "execution_count": 192,
   "metadata": {
    "collapsed": false
   },
   "outputs": [
    {
     "name": "stdout",
     "output_type": "stream",
     "text": [
      "TSO only: 0 intervals over 0 bp\n",
      "TSID only: 1 intervals over 99 bp\n",
      "[{'chrom': 'chrX', 'start': 32173488, 'end': 32173586, 'id': 'DMD.chrX.32173488.32173586'}]\n",
      "[37]\n"
     ]
    }
   ],
   "source": [
    "# finding distinct intervals in DMD\n",
    "tso_only_dmd, tsid_only_dmd, tso_only_ind, tsid_only_ind = distinct_intervals(intervals['tso']['intrv_list_dmd'], intervals['tsid']['intrv_list_dmd'], \n",
    "                                                                              min_overlap=10)\n",
    "print 'TSO only: {} intervals over {} bp'.format(len(tso_only_dmd), util.add_intervals(tso_only_dmd))\n",
    "print 'TSID only: {} intervals over {} bp'.format(len(tsid_only_dmd), util.add_intervals(tsid_only_dmd))\n",
    "print tsid_only_dmd\n",
    "print tsid_only_ind"
   ]
  },
  {
   "cell_type": "markdown",
   "metadata": {},
   "source": [
    "One interval in TSID actually contains two intervals in TSO (DMD.chrX.32430136.32430371) because it includes the untranslated regions of two ending exons for two different transcripts. One interval in TSID is not contained at all in TSO. "
   ]
  },
  {
   "cell_type": "markdown",
   "metadata": {},
   "source": [
    "**Now we want to see what overlaps exist between the primary transcript and the TSID intervals.**"
   ]
  },
  {
   "cell_type": "code",
   "execution_count": 193,
   "metadata": {
    "collapsed": false
   },
   "outputs": [
    {
     "name": "stdout",
     "output_type": "stream",
     "text": [
      "TSID only: 6 intervals\n",
      "prim_transcript only: 0 intervals\n",
      "[{'chrom': 'chrX', 'start': 31284927, 'end': 31285024, 'id': 'DMD.chrX.31284927.31285024'}, {'chrom': 'chrX', 'start': 31526325, 'end': 31526415, 'id': 'DMD.chrX.31526325.31526415'}, {'chrom': 'chrX', 'start': 32173488, 'end': 32173586, 'id': 'DMD.chrX.32173488.32173586'}, {'chrom': 'chrX', 'start': 32430136, 'end': 32430371, 'id': 'DMD.chrX.32430136.32430371'}, {'chrom': 'chrX', 'start': 33146180, 'end': 33146544, 'id': 'DMD.chrX.33146180.33146544'}, {'chrom': 'chrX', 'start': 33357376, 'end': 33357726, 'id': 'DMD.chrX.33357376.33357726'}]\n",
      "\n",
      "The following exons in the TSID panel are NOT included in the canonical DMD transcript\n",
      "[18, 26, 38, 54, 83, 85]\n"
     ]
    }
   ],
   "source": [
    "prim_trans_only, tsid_exc, prim_trans_ind, tsid_ind = distinct_intervals(DMD_exons_merged, intervals['tsid']['intrv_list_dmd'], \n",
    "                                                                          min_overlap=10)\n",
    "print 'TSID only: {} intervals'.format(len(tsid_exc))\n",
    "print 'prim_transcript only: {} intervals'.format(len(prim_trans_only))\n",
    "print tsid_exc\n",
    "print '\\nThe following exons in the TSID panel are NOT included in the canonical DMD transcript'\n",
    "print list(np.array(tsid_ind) + 1)"
   ]
  },
  {
   "cell_type": "code",
   "execution_count": 449,
   "metadata": {
    "collapsed": false
   },
   "outputs": [],
   "source": [
    "# sorting and indexing tsid interval set\n",
    "tsid_sorted = sorted(copy.deepcopy(intervals['tsid']['intrv_list_dmd']), key=lambda interval: interval['start'])\n",
    "for ind, interval in enumerate(tsid_sorted):\n",
    "    interval['index'] = ind + 1"
   ]
  },
  {
   "cell_type": "markdown",
   "metadata": {},
   "source": [
    "## Exon coverage by panel type"
   ]
  },
  {
   "cell_type": "code",
   "execution_count": 326,
   "metadata": {
    "collapsed": false
   },
   "outputs": [
    {
     "name": "stdout",
     "output_type": "stream",
     "text": [
      "['M1' 'P1' 'P3' 'P2' 'T1' 'T4' 'T3' 'T2']\n",
      "(1230, 92)\n"
     ]
    },
    {
     "data": {
      "text/html": [
       "<div>\n",
       "<table border=\"1\" class=\"dataframe\">\n",
       "  <thead>\n",
       "    <tr style=\"text-align: right;\">\n",
       "      <th></th>\n",
       "      <th>id</th>\n",
       "      <th>subject</th>\n",
       "      <th>specimen</th>\n",
       "      <th>sample</th>\n",
       "      <th>gender</th>\n",
       "      <th>sequencer</th>\n",
       "      <th>flow_cell_id</th>\n",
       "      <th>lane</th>\n",
       "      <th>bwa_version</th>\n",
       "      <th>date_modified</th>\n",
       "      <th>...</th>\n",
       "      <th>Ex72</th>\n",
       "      <th>Ex73</th>\n",
       "      <th>Ex74</th>\n",
       "      <th>Ex75</th>\n",
       "      <th>Ex76</th>\n",
       "      <th>Ex77</th>\n",
       "      <th>Ex78</th>\n",
       "      <th>Ex79</th>\n",
       "      <th>date</th>\n",
       "      <th>tsid_ratio</th>\n",
       "    </tr>\n",
       "  </thead>\n",
       "  <tbody>\n",
       "    <tr>\n",
       "      <th>0</th>\n",
       "      <td>FCLR-GP01-2121_1-M1-1_HGGF5AFXX-L001</td>\n",
       "      <td>FCLR-GP01-2121</td>\n",
       "      <td>FCLR-GP01-2121_1</td>\n",
       "      <td>FCLR-GP01-2121_1-M1-1</td>\n",
       "      <td>F</td>\n",
       "      <td>M1</td>\n",
       "      <td>HGGF5AFXX</td>\n",
       "      <td>L001</td>\n",
       "      <td>0.7.15-r1140</td>\n",
       "      <td>2016-10-31 23:15:02</td>\n",
       "      <td>...</td>\n",
       "      <td>76</td>\n",
       "      <td>77</td>\n",
       "      <td>139</td>\n",
       "      <td>58</td>\n",
       "      <td>63</td>\n",
       "      <td>77</td>\n",
       "      <td>23</td>\n",
       "      <td>81</td>\n",
       "      <td>2016-10-31</td>\n",
       "      <td>0.098774</td>\n",
       "    </tr>\n",
       "    <tr>\n",
       "      <th>1</th>\n",
       "      <td>FCLR-GP01-2121_1-M1-1_HGGF5AFXX-L002</td>\n",
       "      <td>FCLR-GP01-2121</td>\n",
       "      <td>FCLR-GP01-2121_1</td>\n",
       "      <td>FCLR-GP01-2121_1-M1-1</td>\n",
       "      <td>F</td>\n",
       "      <td>M1</td>\n",
       "      <td>HGGF5AFXX</td>\n",
       "      <td>L002</td>\n",
       "      <td>0.7.15-r1140</td>\n",
       "      <td>2016-10-31 23:15:02</td>\n",
       "      <td>...</td>\n",
       "      <td>77</td>\n",
       "      <td>57</td>\n",
       "      <td>121</td>\n",
       "      <td>50</td>\n",
       "      <td>95</td>\n",
       "      <td>78</td>\n",
       "      <td>27</td>\n",
       "      <td>67</td>\n",
       "      <td>2016-10-31</td>\n",
       "      <td>0.096824</td>\n",
       "    </tr>\n",
       "    <tr>\n",
       "      <th>2</th>\n",
       "      <td>FCLR-GP01-2121_1-M1-1_HGGF5AFXX-L003</td>\n",
       "      <td>FCLR-GP01-2121</td>\n",
       "      <td>FCLR-GP01-2121_1</td>\n",
       "      <td>FCLR-GP01-2121_1-M1-1</td>\n",
       "      <td>F</td>\n",
       "      <td>M1</td>\n",
       "      <td>HGGF5AFXX</td>\n",
       "      <td>L003</td>\n",
       "      <td>0.7.15-r1140</td>\n",
       "      <td>2016-10-31 23:15:02</td>\n",
       "      <td>...</td>\n",
       "      <td>76</td>\n",
       "      <td>52</td>\n",
       "      <td>137</td>\n",
       "      <td>51</td>\n",
       "      <td>78</td>\n",
       "      <td>85</td>\n",
       "      <td>23</td>\n",
       "      <td>38</td>\n",
       "      <td>2016-10-31</td>\n",
       "      <td>0.095321</td>\n",
       "    </tr>\n",
       "    <tr>\n",
       "      <th>3</th>\n",
       "      <td>FCLR-GP01-2121_1-M1-1_HGGF5AFXX-L004</td>\n",
       "      <td>FCLR-GP01-2121</td>\n",
       "      <td>FCLR-GP01-2121_1</td>\n",
       "      <td>FCLR-GP01-2121_1-M1-1</td>\n",
       "      <td>F</td>\n",
       "      <td>M1</td>\n",
       "      <td>HGGF5AFXX</td>\n",
       "      <td>L004</td>\n",
       "      <td>0.7.15-r1140</td>\n",
       "      <td>2016-10-31 23:15:02</td>\n",
       "      <td>...</td>\n",
       "      <td>96</td>\n",
       "      <td>71</td>\n",
       "      <td>117</td>\n",
       "      <td>46</td>\n",
       "      <td>76</td>\n",
       "      <td>88</td>\n",
       "      <td>29</td>\n",
       "      <td>56</td>\n",
       "      <td>2016-10-31</td>\n",
       "      <td>0.096840</td>\n",
       "    </tr>\n",
       "    <tr>\n",
       "      <th>4</th>\n",
       "      <td>MESB-0009-690N_ACGT.1.P1.1</td>\n",
       "      <td>MESB-0009-690N</td>\n",
       "      <td>MESB-0009-690N_ACGT_1</td>\n",
       "      <td>MESB-0009-690N_ACGT.1.P1.1</td>\n",
       "      <td>M</td>\n",
       "      <td>P1</td>\n",
       "      <td>NaN</td>\n",
       "      <td>NaN</td>\n",
       "      <td>0.7.10-r789</td>\n",
       "      <td>2016-06-08 15:49:31</td>\n",
       "      <td>...</td>\n",
       "      <td>48</td>\n",
       "      <td>74</td>\n",
       "      <td>64</td>\n",
       "      <td>42</td>\n",
       "      <td>50</td>\n",
       "      <td>10</td>\n",
       "      <td>1</td>\n",
       "      <td>6</td>\n",
       "      <td>2016-06-08</td>\n",
       "      <td>0.996922</td>\n",
       "    </tr>\n",
       "  </tbody>\n",
       "</table>\n",
       "<p>5 rows × 92 columns</p>\n",
       "</div>"
      ],
      "text/plain": [
       "                                     id         subject  \\\n",
       "0  FCLR-GP01-2121_1-M1-1_HGGF5AFXX-L001  FCLR-GP01-2121   \n",
       "1  FCLR-GP01-2121_1-M1-1_HGGF5AFXX-L002  FCLR-GP01-2121   \n",
       "2  FCLR-GP01-2121_1-M1-1_HGGF5AFXX-L003  FCLR-GP01-2121   \n",
       "3  FCLR-GP01-2121_1-M1-1_HGGF5AFXX-L004  FCLR-GP01-2121   \n",
       "4            MESB-0009-690N_ACGT.1.P1.1  MESB-0009-690N   \n",
       "\n",
       "                specimen                      sample gender sequencer  \\\n",
       "0       FCLR-GP01-2121_1       FCLR-GP01-2121_1-M1-1      F        M1   \n",
       "1       FCLR-GP01-2121_1       FCLR-GP01-2121_1-M1-1      F        M1   \n",
       "2       FCLR-GP01-2121_1       FCLR-GP01-2121_1-M1-1      F        M1   \n",
       "3       FCLR-GP01-2121_1       FCLR-GP01-2121_1-M1-1      F        M1   \n",
       "4  MESB-0009-690N_ACGT_1  MESB-0009-690N_ACGT.1.P1.1      M        P1   \n",
       "\n",
       "  flow_cell_id  lane   bwa_version       date_modified     ...      Ex72  \\\n",
       "0    HGGF5AFXX  L001  0.7.15-r1140 2016-10-31 23:15:02     ...        76   \n",
       "1    HGGF5AFXX  L002  0.7.15-r1140 2016-10-31 23:15:02     ...        77   \n",
       "2    HGGF5AFXX  L003  0.7.15-r1140 2016-10-31 23:15:02     ...        76   \n",
       "3    HGGF5AFXX  L004  0.7.15-r1140 2016-10-31 23:15:02     ...        96   \n",
       "4          NaN   NaN   0.7.10-r789 2016-06-08 15:49:31     ...        48   \n",
       "\n",
       "   Ex73  Ex74  Ex75  Ex76  Ex77  Ex78  Ex79        date  tsid_ratio  \n",
       "0    77   139    58    63    77    23    81  2016-10-31    0.098774  \n",
       "1    57   121    50    95    78    27    67  2016-10-31    0.096824  \n",
       "2    52   137    51    78    85    23    38  2016-10-31    0.095321  \n",
       "3    71   117    46    76    88    29    56  2016-10-31    0.096840  \n",
       "4    74    64    42    50    10     1     6  2016-06-08    0.996922  \n",
       "\n",
       "[5 rows x 92 columns]"
      ]
     },
     "execution_count": 326,
     "metadata": {},
     "output_type": "execute_result"
    }
   ],
   "source": [
    "# get full dataset and also subsets based on gender, sequencer, etc\n",
    "coverage_df = pd.read_csv('../exon_data/coverage_matrix.csv', header=0, index_col=0)\n",
    "coverage_df.is_rerun.values == False\n",
    "# remove rerun data\n",
    "coverage_df = coverage_df[coverage_df.is_rerun == False]\n",
    "coverage_df.drop('is_rerun', axis=1, inplace=True)\n",
    "coverage_df.index.name = None\n",
    "# convert dates to datetime\n",
    "coverage_df.date_modified = pd.to_datetime(coverage_df.date_modified, unit='s')\n",
    "coverage_df['date'] = coverage_df.date_modified.dt.date\n",
    "# get tsid/tso ratio\n",
    "coverage_df['tsid_ratio'] = coverage_df.TSID_only / (coverage_df.TSID_only + coverage_df.TSO_only)\n",
    "# split by gender\n",
    "coverage_df_f = coverage_df[coverage_df.gender == 'F']\n",
    "coverage_df_m = coverage_df[coverage_df.gender == 'M']\n",
    "# only females in RMA\n",
    "coverage_df_RMA = coverage_df[coverage_df.subject.str.contains('FRMR')]\n",
    "coverage_df_M1 = coverage_df[coverage_df.sequencer == 'M1']\n",
    "grouped_seq = coverage_df.groupby('sequencer')\n",
    "group_dict = {x: grouped_seq.get_group(x) for x in grouped_seq.groups}\n",
    "print coverage_df.sequencer.unique()\n",
    "print coverage_df.shape\n",
    "coverage_df.head()"
   ]
  },
  {
   "cell_type": "code",
   "execution_count": 327,
   "metadata": {
    "collapsed": false
   },
   "outputs": [
    {
     "data": {
      "text/plain": [
       "(<matplotlib.text.Text at 0x10aca3610>, <matplotlib.text.Text at 0x114573350>)"
      ]
     },
     "execution_count": 327,
     "metadata": {},
     "output_type": "execute_result"
    },
    {
     "data": {
      "image/png": "[encoded data removed]",
      "text/plain": [
       "<matplotlib.figure.Figure at 0x110ace790>"
      ]
     },
     "metadata": {},
     "output_type": "display_data"
    },
    {
     "data": {
      "image/png": "[encoded data removed]",
      "text/plain": [
       "<matplotlib.figure.Figure at 0x110a67ed0>"
      ]
     },
     "metadata": {},
     "output_type": "display_data"
    }
   ],
   "source": [
    "plt.figure()\n",
    "plt.hist(coverage_df_M1.tsid_ratio)\n",
    "plt.xlabel('TSID Ratio'), plt.title('TSID Ratio Distribution across all mixin panel subjects')\n",
    "\n",
    "plt.figure()\n",
    "plt.hist(coverage_df_RMA.tsid_ratio, bins=20)\n",
    "plt.xlabel('TSID Ratio'), plt.title('TSID Ratio Distribution across RMA females')"
   ]
  },
  {
   "cell_type": "markdown",
   "metadata": {},
   "source": [
    "There appears to be a subset of M1 subjects who were run on a very different version of the panel (with a significantly different TSID_only ratio -- around 0.1 instead of 0.38)"
   ]
  },
  {
   "cell_type": "markdown",
   "metadata": {},
   "source": [
    "## TSID coverage distribution across RMA flowcells"
   ]
  },
  {
   "cell_type": "code",
   "execution_count": 329,
   "metadata": {
    "collapsed": false
   },
   "outputs": [
    {
     "name": "stdout",
     "output_type": "stream",
     "text": [
      "['HGGF5AFXX' nan 'H533WAFXX' 'H7MWWAFXX' 'H7YMLAFXX' 'H2VLJAFXX'\n",
      " '000000000-AGDT3' 'H7VJGAFXX' 'H7G3KAFXX' '000000000-AT52C' 'HGGFJAFXX'\n",
      " '000000000-AAYUW' '000000000-AGD1M' '000000000-AJ573' 'HCMNKAFXX'\n",
      " 'H5LHKAFXX' '000000000-AMJGN' 'HGKY2AFXX' 'H753VAFXX' 'HGVCHAFXX'\n",
      " 'H52VTAFXX' '000000000-AD90E' 'H5FGFAFXX' '000000000-AHD8Y' 'HJH5FAFXX'\n",
      " '000000000-AHV0C' '000000000-AHU6L' '000000000-AD6V5' '000000000-AGD4F'\n",
      " '000000000-AMLHN' 'XXXXXXXXX']\n"
     ]
    },
    {
     "data": {
      "text/plain": [
       "Index([u'id', u'subject', u'specimen', u'sample', u'gender', u'sequencer',\n",
       "       u'flow_cell_id', u'lane', u'bwa_version', u'date_modified',\n",
       "       u'TSID_only', u'TSO_only', u'Ex1', u'Ex2', u'Ex3', u'Ex4', u'Ex5',\n",
       "       u'Ex6', u'Ex7', u'Ex8', u'Ex9', u'Ex10', u'Ex11', u'Ex12', u'Ex13',\n",
       "       u'Ex14', u'Ex15', u'Ex16', u'Ex17', u'Ex18', u'Ex19', u'Ex20', u'Ex21',\n",
       "       u'Ex22', u'Ex23', u'Ex24', u'Ex25', u'Ex26', u'Ex27', u'Ex28', u'Ex29',\n",
       "       u'Ex30', u'Ex31', u'Ex32', u'Ex33', u'Ex34', u'Ex35', u'Ex36', u'Ex37',\n",
       "       u'Ex38', u'Ex39', u'Ex40', u'Ex41', u'Ex42', u'Ex43', u'Ex44', u'Ex45',\n",
       "       u'Ex46', u'Ex47', u'Ex48', u'Ex49', u'Ex50', u'Ex51', u'Ex52', u'Ex53',\n",
       "       u'Ex54', u'Ex55', u'Ex56', u'Ex57', u'Ex58', u'Ex59', u'Ex60', u'Ex61',\n",
       "       u'Ex62', u'Ex63', u'Ex64', u'Ex65|66', u'Ex67', u'Ex68', u'Ex69',\n",
       "       u'Ex70', u'Ex71', u'Ex72', u'Ex73', u'Ex74', u'Ex75', u'Ex76', u'Ex77',\n",
       "       u'Ex78', u'Ex79', u'date', u'tsid_ratio'],\n",
       "      dtype='object')"
      ]
     },
     "execution_count": 329,
     "metadata": {},
     "output_type": "execute_result"
    }
   ],
   "source": [
    "print coverage_df.flow_cell_id.unique()\n",
    "coverage_df.columns"
   ]
  },
  {
   "cell_type": "code",
   "execution_count": 243,
   "metadata": {
    "collapsed": false
   },
   "outputs": [
    {
     "data": {
      "text/html": [
       "<div>\n",
       "<table border=\"1\" class=\"dataframe\">\n",
       "  <thead>\n",
       "    <tr style=\"text-align: right;\">\n",
       "      <th></th>\n",
       "      <th>subject</th>\n",
       "      <th>flow_cell_id</th>\n",
       "      <th>TSID_only</th>\n",
       "      <th>TSO_only</th>\n",
       "      <th>Ex1</th>\n",
       "      <th>Ex2</th>\n",
       "      <th>Ex3</th>\n",
       "      <th>Ex4</th>\n",
       "      <th>Ex5</th>\n",
       "      <th>Ex6</th>\n",
       "      <th>...</th>\n",
       "      <th>Ex71</th>\n",
       "      <th>Ex72</th>\n",
       "      <th>Ex73</th>\n",
       "      <th>Ex74</th>\n",
       "      <th>Ex75</th>\n",
       "      <th>Ex76</th>\n",
       "      <th>Ex77</th>\n",
       "      <th>Ex78</th>\n",
       "      <th>Ex79</th>\n",
       "      <th>tsid_ratio</th>\n",
       "    </tr>\n",
       "  </thead>\n",
       "  <tbody>\n",
       "    <tr>\n",
       "      <th>0</th>\n",
       "      <td>FRMR-0070-444H</td>\n",
       "      <td>H7YMLAFXX</td>\n",
       "      <td>156976</td>\n",
       "      <td>282080</td>\n",
       "      <td>1595</td>\n",
       "      <td>187</td>\n",
       "      <td>483</td>\n",
       "      <td>724</td>\n",
       "      <td>384</td>\n",
       "      <td>665</td>\n",
       "      <td>...</td>\n",
       "      <td>219</td>\n",
       "      <td>453</td>\n",
       "      <td>373</td>\n",
       "      <td>590</td>\n",
       "      <td>265</td>\n",
       "      <td>290</td>\n",
       "      <td>392</td>\n",
       "      <td>149</td>\n",
       "      <td>378</td>\n",
       "      <td>0.357531</td>\n",
       "    </tr>\n",
       "    <tr>\n",
       "      <th>1</th>\n",
       "      <td>FRMR-0081-1987</td>\n",
       "      <td>H7YMLAFXX</td>\n",
       "      <td>160152</td>\n",
       "      <td>285380</td>\n",
       "      <td>1758</td>\n",
       "      <td>206</td>\n",
       "      <td>465</td>\n",
       "      <td>701</td>\n",
       "      <td>424</td>\n",
       "      <td>678</td>\n",
       "      <td>...</td>\n",
       "      <td>213</td>\n",
       "      <td>444</td>\n",
       "      <td>391</td>\n",
       "      <td>632</td>\n",
       "      <td>283</td>\n",
       "      <td>331</td>\n",
       "      <td>430</td>\n",
       "      <td>142</td>\n",
       "      <td>375</td>\n",
       "      <td>0.359462</td>\n",
       "    </tr>\n",
       "    <tr>\n",
       "      <th>2</th>\n",
       "      <td>FRMR-0085-579V</td>\n",
       "      <td>H7YMLAFXX</td>\n",
       "      <td>129883</td>\n",
       "      <td>229052</td>\n",
       "      <td>1265</td>\n",
       "      <td>166</td>\n",
       "      <td>378</td>\n",
       "      <td>589</td>\n",
       "      <td>355</td>\n",
       "      <td>548</td>\n",
       "      <td>...</td>\n",
       "      <td>158</td>\n",
       "      <td>336</td>\n",
       "      <td>307</td>\n",
       "      <td>500</td>\n",
       "      <td>225</td>\n",
       "      <td>273</td>\n",
       "      <td>381</td>\n",
       "      <td>139</td>\n",
       "      <td>312</td>\n",
       "      <td>0.361857</td>\n",
       "    </tr>\n",
       "    <tr>\n",
       "      <th>3</th>\n",
       "      <td>FRMR-00AG-860T</td>\n",
       "      <td>H7VJGAFXX</td>\n",
       "      <td>125027</td>\n",
       "      <td>214899</td>\n",
       "      <td>1162</td>\n",
       "      <td>142</td>\n",
       "      <td>298</td>\n",
       "      <td>603</td>\n",
       "      <td>340</td>\n",
       "      <td>379</td>\n",
       "      <td>...</td>\n",
       "      <td>140</td>\n",
       "      <td>310</td>\n",
       "      <td>276</td>\n",
       "      <td>412</td>\n",
       "      <td>171</td>\n",
       "      <td>218</td>\n",
       "      <td>292</td>\n",
       "      <td>101</td>\n",
       "      <td>268</td>\n",
       "      <td>0.367807</td>\n",
       "    </tr>\n",
       "    <tr>\n",
       "      <th>4</th>\n",
       "      <td>FRMR-00AW-8645</td>\n",
       "      <td>H7VJGAFXX</td>\n",
       "      <td>171201</td>\n",
       "      <td>271591</td>\n",
       "      <td>1718</td>\n",
       "      <td>237</td>\n",
       "      <td>510</td>\n",
       "      <td>750</td>\n",
       "      <td>399</td>\n",
       "      <td>619</td>\n",
       "      <td>...</td>\n",
       "      <td>194</td>\n",
       "      <td>516</td>\n",
       "      <td>437</td>\n",
       "      <td>673</td>\n",
       "      <td>346</td>\n",
       "      <td>329</td>\n",
       "      <td>467</td>\n",
       "      <td>211</td>\n",
       "      <td>464</td>\n",
       "      <td>0.386640</td>\n",
       "    </tr>\n",
       "  </tbody>\n",
       "</table>\n",
       "<p>5 rows × 83 columns</p>\n",
       "</div>"
      ],
      "text/plain": [
       "          subject flow_cell_id  TSID_only  TSO_only   Ex1  Ex2  Ex3  Ex4  Ex5  \\\n",
       "0  FRMR-0070-444H    H7YMLAFXX     156976    282080  1595  187  483  724  384   \n",
       "1  FRMR-0081-1987    H7YMLAFXX     160152    285380  1758  206  465  701  424   \n",
       "2  FRMR-0085-579V    H7YMLAFXX     129883    229052  1265  166  378  589  355   \n",
       "3  FRMR-00AG-860T    H7VJGAFXX     125027    214899  1162  142  298  603  340   \n",
       "4  FRMR-00AW-8645    H7VJGAFXX     171201    271591  1718  237  510  750  399   \n",
       "\n",
       "   Ex6     ...      Ex71  Ex72  Ex73  Ex74  Ex75  Ex76  Ex77  Ex78  Ex79  \\\n",
       "0  665     ...       219   453   373   590   265   290   392   149   378   \n",
       "1  678     ...       213   444   391   632   283   331   430   142   375   \n",
       "2  548     ...       158   336   307   500   225   273   381   139   312   \n",
       "3  379     ...       140   310   276   412   171   218   292   101   268   \n",
       "4  619     ...       194   516   437   673   346   329   467   211   464   \n",
       "\n",
       "   tsid_ratio  \n",
       "0    0.357531  \n",
       "1    0.359462  \n",
       "2    0.361857  \n",
       "3    0.367807  \n",
       "4    0.386640  \n",
       "\n",
       "[5 rows x 83 columns]"
      ]
     },
     "execution_count": 243,
     "metadata": {},
     "output_type": "execute_result"
    }
   ],
   "source": [
    "# coverage_df_RMA.drop('tsid_ratio', axis=1, inplace=True)\n",
    "by_flow = coverage_df_RMA.groupby(['subject', 'flow_cell_id']).sum()\n",
    "by_flow['tsid_ratio'] = by_flow.TSID_only / (by_flow.TSID_only + by_flow.TSO_only)\n",
    "by_flow.reset_index(inplace=True)\n",
    "by_flow.head()"
   ]
  },
  {
   "cell_type": "code",
   "execution_count": 271,
   "metadata": {
    "collapsed": false
   },
   "outputs": [
    {
     "name": "stdout",
     "output_type": "stream",
     "text": [
      "0.367750170657\n"
     ]
    },
    {
     "data": {
      "image/png": "[encoded data removed]",
      "text/plain": [
       "<matplotlib.figure.Figure at 0x111609910>"
      ]
     },
     "metadata": {},
     "output_type": "display_data"
    }
   ],
   "source": [
    "print np.mean(by_flow.tsid_ratio)\n",
    "plt.figure()\n",
    "for flowcell in by_flow.flow_cell_id.unique():\n",
    "    plt.hist(by_flow[by_flow.flow_cell_id == flowcell].tsid_ratio, bins=20, alpha=0.65, label=flowcell, range=[0.35, 0.39])\n",
    "plt.legend(loc='upper right')\n",
    "plt.show()"
   ]
  },
  {
   "cell_type": "markdown",
   "metadata": {},
   "source": [
    "## Subset of M1/RMA subjects to correspond to test subject by tsid_ratio\n",
    "Before trying to infer exon intensity values based on tsid_only ratios, we will simply estimate them based on data from subjects with similar tsid_only ratios. We subset the data (using subjects from different runs than the test subject when possible) and will later generate new intensity vectors (X_probs) to feed into the gibbs sampler."
   ]
  },
  {
   "cell_type": "markdown",
   "metadata": {},
   "source": [
    "### Subset for J0F1\n",
    "This subject has a very large tsid_only ratio -- higher than any found in the RMA subject pool, so we take the subset from among all mixin panel subjects, making sure to exclude this subject herself. There seem to be only two other subjects (from the same run) with a similar tsid_ratio. "
   ]
  },
  {
   "cell_type": "code",
   "execution_count": 330,
   "metadata": {
    "collapsed": false
   },
   "outputs": [
    {
     "data": {
      "text/html": [
       "<div>\n",
       "<table border=\"1\" class=\"dataframe\">\n",
       "  <thead>\n",
       "    <tr style=\"text-align: right;\">\n",
       "      <th></th>\n",
       "      <th>TSID_only</th>\n",
       "      <th>TSO_only</th>\n",
       "      <th>Ex1</th>\n",
       "      <th>Ex2</th>\n",
       "      <th>Ex3</th>\n",
       "      <th>Ex4</th>\n",
       "      <th>Ex5</th>\n",
       "      <th>Ex6</th>\n",
       "      <th>Ex7</th>\n",
       "      <th>Ex8</th>\n",
       "      <th>...</th>\n",
       "      <th>Ex71</th>\n",
       "      <th>Ex72</th>\n",
       "      <th>Ex73</th>\n",
       "      <th>Ex74</th>\n",
       "      <th>Ex75</th>\n",
       "      <th>Ex76</th>\n",
       "      <th>Ex77</th>\n",
       "      <th>Ex78</th>\n",
       "      <th>Ex79</th>\n",
       "      <th>tsid_ratio</th>\n",
       "    </tr>\n",
       "    <tr>\n",
       "      <th>subject</th>\n",
       "      <th></th>\n",
       "      <th></th>\n",
       "      <th></th>\n",
       "      <th></th>\n",
       "      <th></th>\n",
       "      <th></th>\n",
       "      <th></th>\n",
       "      <th></th>\n",
       "      <th></th>\n",
       "      <th></th>\n",
       "      <th></th>\n",
       "      <th></th>\n",
       "      <th></th>\n",
       "      <th></th>\n",
       "      <th></th>\n",
       "      <th></th>\n",
       "      <th></th>\n",
       "      <th></th>\n",
       "      <th></th>\n",
       "      <th></th>\n",
       "      <th></th>\n",
       "    </tr>\n",
       "  </thead>\n",
       "  <tbody>\n",
       "    <tr>\n",
       "      <th>FCLR-GP01-2121</th>\n",
       "      <td>51800</td>\n",
       "      <td>482527</td>\n",
       "      <td>874</td>\n",
       "      <td>154</td>\n",
       "      <td>350</td>\n",
       "      <td>532</td>\n",
       "      <td>233</td>\n",
       "      <td>400</td>\n",
       "      <td>372</td>\n",
       "      <td>331</td>\n",
       "      <td>...</td>\n",
       "      <td>196</td>\n",
       "      <td>325</td>\n",
       "      <td>257</td>\n",
       "      <td>514</td>\n",
       "      <td>205</td>\n",
       "      <td>312</td>\n",
       "      <td>328</td>\n",
       "      <td>102</td>\n",
       "      <td>242</td>\n",
       "      <td>0.096944</td>\n",
       "    </tr>\n",
       "    <tr>\n",
       "      <th>FCLR-GP08-753E</th>\n",
       "      <td>49210</td>\n",
       "      <td>445523</td>\n",
       "      <td>800</td>\n",
       "      <td>190</td>\n",
       "      <td>300</td>\n",
       "      <td>434</td>\n",
       "      <td>282</td>\n",
       "      <td>400</td>\n",
       "      <td>392</td>\n",
       "      <td>351</td>\n",
       "      <td>...</td>\n",
       "      <td>139</td>\n",
       "      <td>319</td>\n",
       "      <td>248</td>\n",
       "      <td>536</td>\n",
       "      <td>135</td>\n",
       "      <td>268</td>\n",
       "      <td>265</td>\n",
       "      <td>120</td>\n",
       "      <td>252</td>\n",
       "      <td>0.099468</td>\n",
       "    </tr>\n",
       "    <tr>\n",
       "      <th>FCLR-GP17-435H</th>\n",
       "      <td>30645</td>\n",
       "      <td>285049</td>\n",
       "      <td>482</td>\n",
       "      <td>99</td>\n",
       "      <td>194</td>\n",
       "      <td>259</td>\n",
       "      <td>164</td>\n",
       "      <td>255</td>\n",
       "      <td>264</td>\n",
       "      <td>232</td>\n",
       "      <td>...</td>\n",
       "      <td>106</td>\n",
       "      <td>226</td>\n",
       "      <td>146</td>\n",
       "      <td>315</td>\n",
       "      <td>103</td>\n",
       "      <td>174</td>\n",
       "      <td>194</td>\n",
       "      <td>80</td>\n",
       "      <td>142</td>\n",
       "      <td>0.097072</td>\n",
       "    </tr>\n",
       "    <tr>\n",
       "      <th>FCLR-GP20-399A</th>\n",
       "      <td>47471</td>\n",
       "      <td>439068</td>\n",
       "      <td>758</td>\n",
       "      <td>115</td>\n",
       "      <td>361</td>\n",
       "      <td>420</td>\n",
       "      <td>229</td>\n",
       "      <td>337</td>\n",
       "      <td>318</td>\n",
       "      <td>349</td>\n",
       "      <td>...</td>\n",
       "      <td>128</td>\n",
       "      <td>252</td>\n",
       "      <td>256</td>\n",
       "      <td>525</td>\n",
       "      <td>146</td>\n",
       "      <td>273</td>\n",
       "      <td>279</td>\n",
       "      <td>120</td>\n",
       "      <td>229</td>\n",
       "      <td>0.097569</td>\n",
       "    </tr>\n",
       "    <tr>\n",
       "      <th>FCLR-GP20-731O</th>\n",
       "      <td>45035</td>\n",
       "      <td>409323</td>\n",
       "      <td>679</td>\n",
       "      <td>165</td>\n",
       "      <td>314</td>\n",
       "      <td>384</td>\n",
       "      <td>252</td>\n",
       "      <td>332</td>\n",
       "      <td>298</td>\n",
       "      <td>275</td>\n",
       "      <td>...</td>\n",
       "      <td>128</td>\n",
       "      <td>260</td>\n",
       "      <td>235</td>\n",
       "      <td>445</td>\n",
       "      <td>104</td>\n",
       "      <td>205</td>\n",
       "      <td>275</td>\n",
       "      <td>99</td>\n",
       "      <td>235</td>\n",
       "      <td>0.099118</td>\n",
       "    </tr>\n",
       "  </tbody>\n",
       "</table>\n",
       "<p>5 rows × 81 columns</p>\n",
       "</div>"
      ],
      "text/plain": [
       "                TSID_only  TSO_only  Ex1  Ex2  Ex3  Ex4  Ex5  Ex6  Ex7  Ex8  \\\n",
       "subject                                                                       \n",
       "FCLR-GP01-2121      51800    482527  874  154  350  532  233  400  372  331   \n",
       "FCLR-GP08-753E      49210    445523  800  190  300  434  282  400  392  351   \n",
       "FCLR-GP17-435H      30645    285049  482   99  194  259  164  255  264  232   \n",
       "FCLR-GP20-399A      47471    439068  758  115  361  420  229  337  318  349   \n",
       "FCLR-GP20-731O      45035    409323  679  165  314  384  252  332  298  275   \n",
       "\n",
       "                   ...      Ex71  Ex72  Ex73  Ex74  Ex75  Ex76  Ex77  Ex78  \\\n",
       "subject            ...                                                       \n",
       "FCLR-GP01-2121     ...       196   325   257   514   205   312   328   102   \n",
       "FCLR-GP08-753E     ...       139   319   248   536   135   268   265   120   \n",
       "FCLR-GP17-435H     ...       106   226   146   315   103   174   194    80   \n",
       "FCLR-GP20-399A     ...       128   252   256   525   146   273   279   120   \n",
       "FCLR-GP20-731O     ...       128   260   235   445   104   205   275    99   \n",
       "\n",
       "                Ex79  tsid_ratio  \n",
       "subject                           \n",
       "FCLR-GP01-2121   242    0.096944  \n",
       "FCLR-GP08-753E   252    0.099468  \n",
       "FCLR-GP17-435H   142    0.097072  \n",
       "FCLR-GP20-399A   229    0.097569  \n",
       "FCLR-GP20-731O   235    0.099118  \n",
       "\n",
       "[5 rows x 81 columns]"
      ]
     },
     "execution_count": 330,
     "metadata": {},
     "output_type": "execute_result"
    }
   ],
   "source": [
    "# subsetting female mixin subjects with tsid_only ratios similar to that of subject J0F1\n",
    "by_subject = coverage_df_M1[coverage_df_M1.gender == 'F'].groupby('subject').sum()\n",
    "by_subject['tsid_ratio'] = by_subject.TSID_only / (by_subject.TSID_only + by_subject.TSO_only)\n",
    "by_subject.head()"
   ]
  },
  {
   "cell_type": "code",
   "execution_count": 345,
   "metadata": {
    "collapsed": false
   },
   "outputs": [],
   "source": [
    "subject43 = list(by_subject[(by_subject.tsid_ratio > 0.41) & (by_subject.tsid_ratio < 0.47)].index)\n",
    "subject43.remove('FGPC-4ZPF-J0F1')\n",
    "m1_subset43 = coverage_df[coverage_df.subject.isin(subject43)]"
   ]
  },
  {
   "cell_type": "markdown",
   "metadata": {},
   "source": [
    "### Subset for 822R and 444F\n",
    "Neither of these subjects were run with the RMA samples, but they have very similar tsid_ratios to a subset of them."
   ]
  },
  {
   "cell_type": "code",
   "execution_count": 276,
   "metadata": {
    "collapsed": false
   },
   "outputs": [
    {
     "data": {
      "text/plain": [
       "4     FRMR-00AW-8645\n",
       "8     FRMR-00GC-803L\n",
       "10    FRMR-00JD-7770\n",
       "11    FRMR-00JM-865U\n",
       "13    FRMR-00MM-839J\n",
       "14    FRMR-00MS-704S\n",
       "15    FRMR-00NC-7632\n",
       "Name: subject, dtype: object"
      ]
     },
     "execution_count": 276,
     "metadata": {},
     "output_type": "execute_result"
    }
   ],
   "source": [
    "subjects38 = by_flow[(by_flow.tsid_ratio < 0.39) & (by_flow.tsid_ratio > 0.37)]['subject']\n",
    "subjects38"
   ]
  },
  {
   "cell_type": "code",
   "execution_count": 279,
   "metadata": {
    "collapsed": false
   },
   "outputs": [
    {
     "data": {
      "text/html": [
       "<div>\n",
       "<table border=\"1\" class=\"dataframe\">\n",
       "  <thead>\n",
       "    <tr style=\"text-align: right;\">\n",
       "      <th></th>\n",
       "      <th>id</th>\n",
       "      <th>subject</th>\n",
       "      <th>specimen</th>\n",
       "      <th>sample</th>\n",
       "      <th>gender</th>\n",
       "      <th>sequencer</th>\n",
       "      <th>flow_cell_id</th>\n",
       "      <th>lane</th>\n",
       "      <th>bwa_version</th>\n",
       "      <th>date_modified</th>\n",
       "      <th>...</th>\n",
       "      <th>Ex71</th>\n",
       "      <th>Ex72</th>\n",
       "      <th>Ex73</th>\n",
       "      <th>Ex74</th>\n",
       "      <th>Ex75</th>\n",
       "      <th>Ex76</th>\n",
       "      <th>Ex77</th>\n",
       "      <th>Ex78</th>\n",
       "      <th>Ex79</th>\n",
       "      <th>date</th>\n",
       "    </tr>\n",
       "  </thead>\n",
       "  <tbody>\n",
       "    <tr>\n",
       "      <th>161</th>\n",
       "      <td>FRMR-00NC-7632_1-M1-1_H7VJGAFXX-L001</td>\n",
       "      <td>FRMR-00NC-7632</td>\n",
       "      <td>FRMR-00NC-7632_1</td>\n",
       "      <td>FRMR-00NC-7632_1-M1-1</td>\n",
       "      <td>F</td>\n",
       "      <td>M1</td>\n",
       "      <td>H7VJGAFXX</td>\n",
       "      <td>L001</td>\n",
       "      <td>0.7.13-r1126</td>\n",
       "      <td>2016-06-24 22:24:30</td>\n",
       "      <td>...</td>\n",
       "      <td>56</td>\n",
       "      <td>83</td>\n",
       "      <td>86</td>\n",
       "      <td>162</td>\n",
       "      <td>57</td>\n",
       "      <td>81</td>\n",
       "      <td>105</td>\n",
       "      <td>31</td>\n",
       "      <td>117</td>\n",
       "      <td>2016-06-24</td>\n",
       "    </tr>\n",
       "    <tr>\n",
       "      <th>162</th>\n",
       "      <td>FRMR-00NC-7632_1-M1-1_H7VJGAFXX-L002</td>\n",
       "      <td>FRMR-00NC-7632</td>\n",
       "      <td>FRMR-00NC-7632_1</td>\n",
       "      <td>FRMR-00NC-7632_1-M1-1</td>\n",
       "      <td>F</td>\n",
       "      <td>M1</td>\n",
       "      <td>H7VJGAFXX</td>\n",
       "      <td>L002</td>\n",
       "      <td>0.7.13-r1126</td>\n",
       "      <td>2016-06-24 22:24:30</td>\n",
       "      <td>...</td>\n",
       "      <td>36</td>\n",
       "      <td>97</td>\n",
       "      <td>78</td>\n",
       "      <td>124</td>\n",
       "      <td>68</td>\n",
       "      <td>83</td>\n",
       "      <td>106</td>\n",
       "      <td>31</td>\n",
       "      <td>83</td>\n",
       "      <td>2016-06-24</td>\n",
       "    </tr>\n",
       "    <tr>\n",
       "      <th>163</th>\n",
       "      <td>FRMR-00NC-7632_1-M1-1_H7VJGAFXX-L003</td>\n",
       "      <td>FRMR-00NC-7632</td>\n",
       "      <td>FRMR-00NC-7632_1</td>\n",
       "      <td>FRMR-00NC-7632_1-M1-1</td>\n",
       "      <td>F</td>\n",
       "      <td>M1</td>\n",
       "      <td>H7VJGAFXX</td>\n",
       "      <td>L003</td>\n",
       "      <td>0.7.13-r1126</td>\n",
       "      <td>2016-06-24 22:24:30</td>\n",
       "      <td>...</td>\n",
       "      <td>44</td>\n",
       "      <td>90</td>\n",
       "      <td>80</td>\n",
       "      <td>131</td>\n",
       "      <td>58</td>\n",
       "      <td>71</td>\n",
       "      <td>100</td>\n",
       "      <td>38</td>\n",
       "      <td>94</td>\n",
       "      <td>2016-06-24</td>\n",
       "    </tr>\n",
       "    <tr>\n",
       "      <th>164</th>\n",
       "      <td>FRMR-00NC-7632_1-M1-1_H7VJGAFXX-L004</td>\n",
       "      <td>FRMR-00NC-7632</td>\n",
       "      <td>FRMR-00NC-7632_1</td>\n",
       "      <td>FRMR-00NC-7632_1-M1-1</td>\n",
       "      <td>F</td>\n",
       "      <td>M1</td>\n",
       "      <td>H7VJGAFXX</td>\n",
       "      <td>L004</td>\n",
       "      <td>0.7.13-r1126</td>\n",
       "      <td>2016-06-24 22:24:30</td>\n",
       "      <td>...</td>\n",
       "      <td>53</td>\n",
       "      <td>128</td>\n",
       "      <td>81</td>\n",
       "      <td>158</td>\n",
       "      <td>72</td>\n",
       "      <td>62</td>\n",
       "      <td>109</td>\n",
       "      <td>34</td>\n",
       "      <td>96</td>\n",
       "      <td>2016-06-24</td>\n",
       "    </tr>\n",
       "    <tr>\n",
       "      <th>206</th>\n",
       "      <td>FRMR-00GC-803L_1-M1-1_H7VJGAFXX-L001</td>\n",
       "      <td>FRMR-00GC-803L</td>\n",
       "      <td>FRMR-00GC-803L_1</td>\n",
       "      <td>FRMR-00GC-803L_1-M1-1</td>\n",
       "      <td>F</td>\n",
       "      <td>M1</td>\n",
       "      <td>H7VJGAFXX</td>\n",
       "      <td>L001</td>\n",
       "      <td>0.7.13-r1126</td>\n",
       "      <td>2016-06-25 04:41:41</td>\n",
       "      <td>...</td>\n",
       "      <td>62</td>\n",
       "      <td>164</td>\n",
       "      <td>114</td>\n",
       "      <td>180</td>\n",
       "      <td>107</td>\n",
       "      <td>100</td>\n",
       "      <td>140</td>\n",
       "      <td>38</td>\n",
       "      <td>141</td>\n",
       "      <td>2016-06-25</td>\n",
       "    </tr>\n",
       "  </tbody>\n",
       "</table>\n",
       "<p>5 rows × 91 columns</p>\n",
       "</div>"
      ],
      "text/plain": [
       "                                       id         subject          specimen  \\\n",
       "161  FRMR-00NC-7632_1-M1-1_H7VJGAFXX-L001  FRMR-00NC-7632  FRMR-00NC-7632_1   \n",
       "162  FRMR-00NC-7632_1-M1-1_H7VJGAFXX-L002  FRMR-00NC-7632  FRMR-00NC-7632_1   \n",
       "163  FRMR-00NC-7632_1-M1-1_H7VJGAFXX-L003  FRMR-00NC-7632  FRMR-00NC-7632_1   \n",
       "164  FRMR-00NC-7632_1-M1-1_H7VJGAFXX-L004  FRMR-00NC-7632  FRMR-00NC-7632_1   \n",
       "206  FRMR-00GC-803L_1-M1-1_H7VJGAFXX-L001  FRMR-00GC-803L  FRMR-00GC-803L_1   \n",
       "\n",
       "                    sample gender sequencer flow_cell_id  lane   bwa_version  \\\n",
       "161  FRMR-00NC-7632_1-M1-1      F        M1    H7VJGAFXX  L001  0.7.13-r1126   \n",
       "162  FRMR-00NC-7632_1-M1-1      F        M1    H7VJGAFXX  L002  0.7.13-r1126   \n",
       "163  FRMR-00NC-7632_1-M1-1      F        M1    H7VJGAFXX  L003  0.7.13-r1126   \n",
       "164  FRMR-00NC-7632_1-M1-1      F        M1    H7VJGAFXX  L004  0.7.13-r1126   \n",
       "206  FRMR-00GC-803L_1-M1-1      F        M1    H7VJGAFXX  L001  0.7.13-r1126   \n",
       "\n",
       "          date_modified     ...      Ex71  Ex72  Ex73  Ex74  Ex75  Ex76  Ex77  \\\n",
       "161 2016-06-24 22:24:30     ...        56    83    86   162    57    81   105   \n",
       "162 2016-06-24 22:24:30     ...        36    97    78   124    68    83   106   \n",
       "163 2016-06-24 22:24:30     ...        44    90    80   131    58    71   100   \n",
       "164 2016-06-24 22:24:30     ...        53   128    81   158    72    62   109   \n",
       "206 2016-06-25 04:41:41     ...        62   164   114   180   107   100   140   \n",
       "\n",
       "     Ex78  Ex79        date  \n",
       "161    31   117  2016-06-24  \n",
       "162    31    83  2016-06-24  \n",
       "163    38    94  2016-06-24  \n",
       "164    34    96  2016-06-24  \n",
       "206    38   141  2016-06-25  \n",
       "\n",
       "[5 rows x 91 columns]"
      ]
     },
     "execution_count": 279,
     "metadata": {},
     "output_type": "execute_result"
    }
   ],
   "source": [
    "rma_subset = coverage_df_RMA[coverage_df_RMA.subject.isin(subjects38)]\n",
    "rma_subset.head()"
   ]
  },
  {
   "cell_type": "markdown",
   "metadata": {},
   "source": [
    "### Method to group by subject/sample and normalize"
   ]
  },
  {
   "cell_type": "code",
   "execution_count": 93,
   "metadata": {
    "collapsed": true
   },
   "outputs": [],
   "source": [
    "# function for reshaping data frames so that exons are observations (rows) and subjects are variables (columns)\n",
    "# make sure datetimes have been converted to datetime objects before using\n",
    "def reshape_df(df, include_stats=False, groupby='subject', subject_droplist=None, df_counts_wanted=False):\n",
    "    df_grouped = df.groupby([groupby]).sum()\n",
    "    df_norm = df_grouped.div(df_grouped.sum(axis=1), axis=0)\n",
    "    df_norm = df_norm.transpose().reset_index()\n",
    "    df_norm.rename(columns={'index': 'Exon'}, inplace=True)\n",
    "\n",
    "    if subject_droplist:\n",
    "        for subject in subject_droplist:\n",
    "            df_norm.drop(subject, axis=1, inplace=True)\n",
    "    if include_stats:\n",
    "        df_norm['Mean'] = df_norm.mean(axis=1)\n",
    "        df_norm['SD'] = df_norm.std(axis=1)\n",
    "    if df_counts_wanted:\n",
    "        return df_norm, df_grouped\n",
    "    else:\n",
    "        return df_norm"
   ]
  },
  {
   "cell_type": "markdown",
   "metadata": {},
   "source": [
    "## Investigating consistency between different T panels and P panels\n",
    "T panels are TSO and P panels are TSID. Note that the T2-T4 panels here do not correspond to the labels used in the mixin experiment subjects further below. Unclear why these different sets of subjects have similar names. Also unsure what P2-P3 designate but they all seem to be TSID only subjects."
   ]
  },
  {
   "cell_type": "code",
   "execution_count": 19,
   "metadata": {
    "collapsed": false
   },
   "outputs": [
    {
     "name": "stdout",
     "output_type": "stream",
     "text": [
      "P2: 23\n",
      "P3: 18\n",
      "P1: 364\n",
      "T4: 8\n",
      "T2: 8\n",
      "T3: 8\n",
      "T1: 104\n",
      "M1: 697\n"
     ]
    }
   ],
   "source": [
    "# how many subjects actually included in each sequencing panel set?\n",
    "for panel, df in group_dict.items():\n",
    "    print '{}: {}'.format(panel, len(df))"
   ]
  },
  {
   "cell_type": "code",
   "execution_count": 194,
   "metadata": {
    "collapsed": false
   },
   "outputs": [
    {
     "data": {
      "text/html": [
       "<div>\n",
       "<table border=\"1\" class=\"dataframe\">\n",
       "  <thead>\n",
       "    <tr style=\"text-align: right;\">\n",
       "      <th></th>\n",
       "      <th>t1</th>\n",
       "      <th>t2</th>\n",
       "      <th>t3</th>\n",
       "      <th>t4</th>\n",
       "    </tr>\n",
       "  </thead>\n",
       "  <tbody>\n",
       "    <tr>\n",
       "      <th>0</th>\n",
       "      <td>0.016845</td>\n",
       "      <td>0.014012</td>\n",
       "      <td>0.012813</td>\n",
       "      <td>0.012909</td>\n",
       "    </tr>\n",
       "    <tr>\n",
       "      <th>1</th>\n",
       "      <td>0.003514</td>\n",
       "      <td>0.002874</td>\n",
       "      <td>0.003533</td>\n",
       "      <td>0.003144</td>\n",
       "    </tr>\n",
       "    <tr>\n",
       "      <th>2</th>\n",
       "      <td>0.012617</td>\n",
       "      <td>0.010143</td>\n",
       "      <td>0.009760</td>\n",
       "      <td>0.012048</td>\n",
       "    </tr>\n",
       "    <tr>\n",
       "      <th>3</th>\n",
       "      <td>0.016752</td>\n",
       "      <td>0.013427</td>\n",
       "      <td>0.013768</td>\n",
       "      <td>0.013365</td>\n",
       "    </tr>\n",
       "    <tr>\n",
       "      <th>4</th>\n",
       "      <td>0.011578</td>\n",
       "      <td>0.008844</td>\n",
       "      <td>0.009217</td>\n",
       "      <td>0.010177</td>\n",
       "    </tr>\n",
       "  </tbody>\n",
       "</table>\n",
       "</div>"
      ],
      "text/plain": [
       "         t1        t2        t3        t4\n",
       "0  0.016845  0.014012  0.012813  0.012909\n",
       "1  0.003514  0.002874  0.003533  0.003144\n",
       "2  0.012617  0.010143  0.009760  0.012048\n",
       "3  0.016752  0.013427  0.013768  0.013365\n",
       "4  0.011578  0.008844  0.009217  0.010177"
      ]
     },
     "execution_count": 194,
     "metadata": {},
     "output_type": "execute_result"
    }
   ],
   "source": [
    "normed_dict = {panel: reshape_df(df, include_stats=True) for panel, df in group_dict.items()}\n",
    "\n",
    "tso_means = pd.concat([normed_dict['T1'].Mean, normed_dict['T2'].Mean, normed_dict['T3'].Mean, normed_dict['T4'].Mean], axis=1)\n",
    "tso_means.columns = ['t1', 't2', 't3', 't4']\n",
    "tso_means.head()"
   ]
  },
  {
   "cell_type": "code",
   "execution_count": 195,
   "metadata": {
    "collapsed": false
   },
   "outputs": [
    {
     "data": {
      "text/plain": [
       "<matplotlib.figure.Figure at 0x10d713d90>"
      ]
     },
     "metadata": {},
     "output_type": "display_data"
    },
    {
     "data": {
      "image/png": "[encoded data removed]",
      "text/plain": [
       "<matplotlib.figure.Figure at 0x10e8fbe50>"
      ]
     },
     "metadata": {},
     "output_type": "display_data"
    }
   ],
   "source": [
    "plt.figure()\n",
    "g = sns.pairplot(tso_means)"
   ]
  },
  {
   "cell_type": "code",
   "execution_count": 196,
   "metadata": {
    "collapsed": false
   },
   "outputs": [
    {
     "data": {
      "text/plain": [
       "<matplotlib.figure.Figure at 0x10d7250d0>"
      ]
     },
     "metadata": {},
     "output_type": "display_data"
    },
    {
     "data": {
      "image/png": "[encoded data removed]",
      "text/plain": [
       "<matplotlib.figure.Figure at 0x10ebaf8d0>"
      ]
     },
     "metadata": {},
     "output_type": "display_data"
    }
   ],
   "source": [
    "tsid_means = pd.concat([normed_dict['P1'].Mean, normed_dict['P2'].Mean, normed_dict['P3'].Mean], axis=1)\n",
    "tsid_means.columns = ['p1', 'p2', 'p3']\n",
    "plt.figure()\n",
    "g2 = sns.pairplot(tsid_means)"
   ]
  },
  {
   "cell_type": "code",
   "execution_count": 26,
   "metadata": {
    "collapsed": false
   },
   "outputs": [
    {
     "data": {
      "text/plain": [
       "(<matplotlib.text.Text at 0x111c27d90>, <matplotlib.text.Text at 0x111089610>)"
      ]
     },
     "execution_count": 26,
     "metadata": {},
     "output_type": "execute_result"
    },
    {
     "data": {
      "image/png": "[encoded data removed]",
      "text/plain": [
       "<matplotlib.figure.Figure at 0x111eea750>"
      ]
     },
     "metadata": {},
     "output_type": "display_data"
    }
   ],
   "source": [
    "plt.figure()\n",
    "plt.plot(tso_means.t1, tsid_means.p1, '.')\n",
    "plt.xlabel('TSO Coverage Ratios'), plt.ylabel('TSID Coverage Ratios')"
   ]
  },
  {
   "cell_type": "markdown",
   "metadata": {},
   "source": [
    "Coverage ratios between the largest groups of TSO and TSID subjects (T1 and P1 respectively) do not seem to correlate very well, indicating significantly different levels of coverage between the two panels."
   ]
  },
  {
   "cell_type": "markdown",
   "metadata": {},
   "source": [
    "## Mix-In Experiment Regression"
   ]
  },
  {
   "cell_type": "code",
   "execution_count": 109,
   "metadata": {
    "collapsed": false
   },
   "outputs": [],
   "source": [
    "def set_prop_tsid(row):\n",
    "    if 'T2' in row.name:\n",
    "        return 0.5\n",
    "    elif 'T3' in row.name:\n",
    "        return 0.33\n",
    "    elif 'T4' in row.name:\n",
    "        return 0.2\n",
    "    else:\n",
    "        return 1.0"
   ]
  },
  {
   "cell_type": "code",
   "execution_count": 138,
   "metadata": {
    "collapsed": false
   },
   "outputs": [
    {
     "name": "stdout",
     "output_type": "stream",
     "text": [
      "The following exons were merged: ['53|54', '69|70']\n"
     ]
    }
   ],
   "source": [
    "# the exon of interest is 38 in the tsid panel, note use of tsid_exons_merged instead of DMD_exons_merged\n",
    "# exon 54 is the region that contains the untranslated regions of two first exons\n",
    "# exons 65/66 which have always been merged are now known as 69/70 in the tsid panel\n",
    "\n",
    "tsid_exons_merged = util.merge_intervals(tsid_sorted, min_dist=200, include_index=True)\n",
    "tsid_exon_labels = ['Ex' + exon['index'] for exon in tsid_exons_merged]\n",
    "print 'The following exons were merged: {}'.format([exon['index'] for exon in tsid_exons_merged if not exon['index'].isdigit()]) "
   ]
  },
  {
   "cell_type": "code",
   "execution_count": 180,
   "metadata": {
    "collapsed": false
   },
   "outputs": [
    {
     "name": "stderr",
     "output_type": "stream",
     "text": [
      "Finished parsing all 12 subjects\n",
      "376414 reads were skipped due to outside_of_exon\n",
      "9005 reads were skipped due to MAPQ below 60\n"
     ]
    }
   ],
   "source": [
    "reload(cov)\n",
    "mixin_exp = cov.coverageMatrix().create_coverage_matrix(tsid_exons_merged, tsid_exon_labels, bam_dir='../bams/mixin_exp')"
   ]
  },
  {
   "cell_type": "code",
   "execution_count": 205,
   "metadata": {
    "collapsed": false
   },
   "outputs": [
    {
     "name": "stderr",
     "output_type": "stream",
     "text": [
      "TSO only: 1660 intervals over 356613 bp\n",
      "TSID only: 154 intervals over 161606 bp\n",
      "Finished parsing all 12 subjects\n",
      "376414 reads were skipped due to outside_of_exon\n",
      "9005 reads were skipped due to MAPQ below 60\n"
     ]
    },
    {
     "name": "stdout",
     "output_type": "stream",
     "text": [
      "CPU times: user 37min 41s, sys: 11.4 s, total: 37min 53s\n",
      "Wall time: 38min 8s\n"
     ]
    }
   ],
   "source": [
    "%%time\n",
    "# this second dataset makes use of the total unique reads in TSO and TSID for these subjects\n",
    "reload(DMD_util)\n",
    "reload(cov)\n",
    "mixin_exp2 = cov.coverageMatrix().create_coverage_matrix(tsid_exons_merged, tsid_exon_labels, bam_dir='../bams/mixin_exp')"
   ]
  },
  {
   "cell_type": "code",
   "execution_count": 353,
   "metadata": {
    "collapsed": false
   },
   "outputs": [
    {
     "name": "stderr",
     "output_type": "stream",
     "text": [
      "TSO only: 1660 intervals over 356613 bp\n",
      "TSID only: 154 intervals over 161606 bp\n",
      "Finished parsing all 12 subjects\n",
      "428251 reads were skipped due to outside_of_exon\n",
      "8843 reads were skipped due to MAPQ below 60\n"
     ]
    },
    {
     "name": "stdout",
     "output_type": "stream",
     "text": [
      "CPU times: user 12.1 s, sys: 650 ms, total: 12.7 s\n",
      "Wall time: 13.3 s\n"
     ]
    }
   ],
   "source": [
    "%%time\n",
    "# third dataset gets counts for just primary transcript exons -- used for multivariate linear regression\n",
    "reload(DMD_util)\n",
    "reload(cov)\n",
    "mixin_exp3 = cov.coverageMatrix().create_coverage_matrix(DMD_exons_merged, exon_labels, bam_dir='../bams/mixin_exp')"
   ]
  },
  {
   "cell_type": "code",
   "execution_count": 359,
   "metadata": {
    "collapsed": false
   },
   "outputs": [
    {
     "data": {
      "text/html": [
       "<div>\n",
       "<table border=\"1\" class=\"dataframe\">\n",
       "  <thead>\n",
       "    <tr style=\"text-align: right;\">\n",
       "      <th></th>\n",
       "      <th>Ex1</th>\n",
       "      <th>Ex2</th>\n",
       "      <th>Ex3</th>\n",
       "      <th>Ex4</th>\n",
       "      <th>Ex5</th>\n",
       "      <th>Ex6</th>\n",
       "      <th>Ex7</th>\n",
       "      <th>Ex8</th>\n",
       "      <th>Ex9</th>\n",
       "      <th>Ex10</th>\n",
       "      <th>...</th>\n",
       "      <th>Ex70</th>\n",
       "      <th>Ex71</th>\n",
       "      <th>Ex72</th>\n",
       "      <th>Ex73</th>\n",
       "      <th>Ex74</th>\n",
       "      <th>Ex75</th>\n",
       "      <th>Ex76</th>\n",
       "      <th>Ex77</th>\n",
       "      <th>Ex78</th>\n",
       "      <th>Ex79</th>\n",
       "    </tr>\n",
       "    <tr>\n",
       "      <th>sample</th>\n",
       "      <th></th>\n",
       "      <th></th>\n",
       "      <th></th>\n",
       "      <th></th>\n",
       "      <th></th>\n",
       "      <th></th>\n",
       "      <th></th>\n",
       "      <th></th>\n",
       "      <th></th>\n",
       "      <th></th>\n",
       "      <th></th>\n",
       "      <th></th>\n",
       "      <th></th>\n",
       "      <th></th>\n",
       "      <th></th>\n",
       "      <th></th>\n",
       "      <th></th>\n",
       "      <th></th>\n",
       "      <th></th>\n",
       "      <th></th>\n",
       "      <th></th>\n",
       "    </tr>\n",
       "  </thead>\n",
       "  <tbody>\n",
       "    <tr>\n",
       "      <th>FGPC-0000-444F_1-T2-1</th>\n",
       "      <td>0.047601</td>\n",
       "      <td>0.004639</td>\n",
       "      <td>0.012802</td>\n",
       "      <td>0.016228</td>\n",
       "      <td>0.010851</td>\n",
       "      <td>0.014146</td>\n",
       "      <td>0.023587</td>\n",
       "      <td>0.019473</td>\n",
       "      <td>0.006507</td>\n",
       "      <td>0.013720</td>\n",
       "      <td>...</td>\n",
       "      <td>0.011786</td>\n",
       "      <td>0.004901</td>\n",
       "      <td>0.013228</td>\n",
       "      <td>0.010622</td>\n",
       "      <td>0.012687</td>\n",
       "      <td>0.008884</td>\n",
       "      <td>0.008163</td>\n",
       "      <td>0.011392</td>\n",
       "      <td>0.005131</td>\n",
       "      <td>0.011507</td>\n",
       "    </tr>\n",
       "    <tr>\n",
       "      <th>FGPC-0000-444F_1-T3-1</th>\n",
       "      <td>0.040143</td>\n",
       "      <td>0.005421</td>\n",
       "      <td>0.011037</td>\n",
       "      <td>0.016723</td>\n",
       "      <td>0.010452</td>\n",
       "      <td>0.012649</td>\n",
       "      <td>0.023756</td>\n",
       "      <td>0.018849</td>\n",
       "      <td>0.007281</td>\n",
       "      <td>0.012667</td>\n",
       "      <td>...</td>\n",
       "      <td>0.011674</td>\n",
       "      <td>0.004819</td>\n",
       "      <td>0.012915</td>\n",
       "      <td>0.011178</td>\n",
       "      <td>0.015005</td>\n",
       "      <td>0.009265</td>\n",
       "      <td>0.007511</td>\n",
       "      <td>0.011019</td>\n",
       "      <td>0.005173</td>\n",
       "      <td>0.009779</td>\n",
       "    </tr>\n",
       "    <tr>\n",
       "      <th>FGPC-0000-444F_1-T4-1</th>\n",
       "      <td>0.036070</td>\n",
       "      <td>0.004910</td>\n",
       "      <td>0.011416</td>\n",
       "      <td>0.014629</td>\n",
       "      <td>0.010353</td>\n",
       "      <td>0.012971</td>\n",
       "      <td>0.022424</td>\n",
       "      <td>0.017206</td>\n",
       "      <td>0.006138</td>\n",
       "      <td>0.013974</td>\n",
       "      <td>...</td>\n",
       "      <td>0.013258</td>\n",
       "      <td>0.004542</td>\n",
       "      <td>0.011703</td>\n",
       "      <td>0.010659</td>\n",
       "      <td>0.013728</td>\n",
       "      <td>0.007099</td>\n",
       "      <td>0.007856</td>\n",
       "      <td>0.010803</td>\n",
       "      <td>0.004501</td>\n",
       "      <td>0.009984</td>\n",
       "    </tr>\n",
       "    <tr>\n",
       "      <th>FGPC-0000-444F_1-T5-1</th>\n",
       "      <td>0.051883</td>\n",
       "      <td>0.003374</td>\n",
       "      <td>0.014001</td>\n",
       "      <td>0.012480</td>\n",
       "      <td>0.008434</td>\n",
       "      <td>0.015297</td>\n",
       "      <td>0.023116</td>\n",
       "      <td>0.018779</td>\n",
       "      <td>0.004878</td>\n",
       "      <td>0.014176</td>\n",
       "      <td>...</td>\n",
       "      <td>0.009514</td>\n",
       "      <td>0.002368</td>\n",
       "      <td>0.013968</td>\n",
       "      <td>0.007312</td>\n",
       "      <td>0.014151</td>\n",
       "      <td>0.010345</td>\n",
       "      <td>0.007553</td>\n",
       "      <td>0.011085</td>\n",
       "      <td>0.006132</td>\n",
       "      <td>0.010129</td>\n",
       "    </tr>\n",
       "    <tr>\n",
       "      <th>FPWB-0000-981L_1-T2-1</th>\n",
       "      <td>0.043080</td>\n",
       "      <td>0.005826</td>\n",
       "      <td>0.011771</td>\n",
       "      <td>0.014432</td>\n",
       "      <td>0.010908</td>\n",
       "      <td>0.016949</td>\n",
       "      <td>0.023230</td>\n",
       "      <td>0.021001</td>\n",
       "      <td>0.006545</td>\n",
       "      <td>0.014168</td>\n",
       "      <td>...</td>\n",
       "      <td>0.013041</td>\n",
       "      <td>0.005274</td>\n",
       "      <td>0.013569</td>\n",
       "      <td>0.011315</td>\n",
       "      <td>0.013329</td>\n",
       "      <td>0.009134</td>\n",
       "      <td>0.008750</td>\n",
       "      <td>0.011411</td>\n",
       "      <td>0.005034</td>\n",
       "      <td>0.009949</td>\n",
       "    </tr>\n",
       "  </tbody>\n",
       "</table>\n",
       "<p>5 rows × 78 columns</p>\n",
       "</div>"
      ],
      "text/plain": [
       "                            Ex1       Ex2       Ex3       Ex4       Ex5  \\\n",
       "sample                                                                    \n",
       "FGPC-0000-444F_1-T2-1  0.047601  0.004639  0.012802  0.016228  0.010851   \n",
       "FGPC-0000-444F_1-T3-1  0.040143  0.005421  0.011037  0.016723  0.010452   \n",
       "FGPC-0000-444F_1-T4-1  0.036070  0.004910  0.011416  0.014629  0.010353   \n",
       "FGPC-0000-444F_1-T5-1  0.051883  0.003374  0.014001  0.012480  0.008434   \n",
       "FPWB-0000-981L_1-T2-1  0.043080  0.005826  0.011771  0.014432  0.010908   \n",
       "\n",
       "                            Ex6       Ex7       Ex8       Ex9      Ex10  \\\n",
       "sample                                                                    \n",
       "FGPC-0000-444F_1-T2-1  0.014146  0.023587  0.019473  0.006507  0.013720   \n",
       "FGPC-0000-444F_1-T3-1  0.012649  0.023756  0.018849  0.007281  0.012667   \n",
       "FGPC-0000-444F_1-T4-1  0.012971  0.022424  0.017206  0.006138  0.013974   \n",
       "FGPC-0000-444F_1-T5-1  0.015297  0.023116  0.018779  0.004878  0.014176   \n",
       "FPWB-0000-981L_1-T2-1  0.016949  0.023230  0.021001  0.006545  0.014168   \n",
       "\n",
       "                         ...         Ex70      Ex71      Ex72      Ex73  \\\n",
       "sample                   ...                                              \n",
       "FGPC-0000-444F_1-T2-1    ...     0.011786  0.004901  0.013228  0.010622   \n",
       "FGPC-0000-444F_1-T3-1    ...     0.011674  0.004819  0.012915  0.011178   \n",
       "FGPC-0000-444F_1-T4-1    ...     0.013258  0.004542  0.011703  0.010659   \n",
       "FGPC-0000-444F_1-T5-1    ...     0.009514  0.002368  0.013968  0.007312   \n",
       "FPWB-0000-981L_1-T2-1    ...     0.013041  0.005274  0.013569  0.011315   \n",
       "\n",
       "                           Ex74      Ex75      Ex76      Ex77      Ex78  \\\n",
       "sample                                                                    \n",
       "FGPC-0000-444F_1-T2-1  0.012687  0.008884  0.008163  0.011392  0.005131   \n",
       "FGPC-0000-444F_1-T3-1  0.015005  0.009265  0.007511  0.011019  0.005173   \n",
       "FGPC-0000-444F_1-T4-1  0.013728  0.007099  0.007856  0.010803  0.004501   \n",
       "FGPC-0000-444F_1-T5-1  0.014151  0.010345  0.007553  0.011085  0.006132   \n",
       "FPWB-0000-981L_1-T2-1  0.013329  0.009134  0.008750  0.011411  0.005034   \n",
       "\n",
       "                           Ex79  \n",
       "sample                           \n",
       "FGPC-0000-444F_1-T2-1  0.011507  \n",
       "FGPC-0000-444F_1-T3-1  0.009779  \n",
       "FGPC-0000-444F_1-T4-1  0.009984  \n",
       "FGPC-0000-444F_1-T5-1  0.010129  \n",
       "FPWB-0000-981L_1-T2-1  0.009949  \n",
       "\n",
       "[5 rows x 78 columns]"
      ]
     },
     "execution_count": 359,
     "metadata": {},
     "output_type": "execute_result"
    }
   ],
   "source": [
    "rel_columns = ['sample'] + [column for column in mixin_exp3.columns if 'Ex' in column]\n",
    "mixin3_groups = mixin_exp3[rel_columns].groupby('sample').sum()\n",
    "mixin3_groups = mixin3_groups.div(mixin3_groups.sum(axis=1), axis=0)\n",
    "mixin3_groups.head()"
   ]
  },
  {
   "cell_type": "code",
   "execution_count": 181,
   "metadata": {
    "collapsed": false
   },
   "outputs": [
    {
     "name": "stdout",
     "output_type": "stream",
     "text": [
      "['FGPC-0000-444F' 'FPWB-0000-981L' 'FPWB-0001-1232']\n",
      "[datetime.date(2017, 2, 28)]\n"
     ]
    }
   ],
   "source": [
    "mixin_exp.date_modified = pd.to_datetime(mixin_exp.date_modified, unit='s')\n",
    "mixin_exp['date'] = mixin_exp.date_modified.dt.date\n",
    "# drop unnecessary columns (is_rerun, and coding regions)\n",
    "mixin_exp.drop(['is_rerun'], axis=1, inplace=True)\n",
    "print mixin_exp.subject.unique()\n",
    "print mixin_exp.date.unique()"
   ]
  },
  {
   "cell_type": "code",
   "execution_count": 182,
   "metadata": {
    "collapsed": false
   },
   "outputs": [
    {
     "data": {
      "text/html": [
       "<div>\n",
       "<table border=\"1\" class=\"dataframe\">\n",
       "  <thead>\n",
       "    <tr style=\"text-align: right;\">\n",
       "      <th></th>\n",
       "      <th>Ex1</th>\n",
       "      <th>Ex2</th>\n",
       "      <th>Ex3</th>\n",
       "      <th>Ex4</th>\n",
       "      <th>Ex5</th>\n",
       "      <th>Ex6</th>\n",
       "      <th>Ex7</th>\n",
       "      <th>Ex8</th>\n",
       "      <th>Ex9</th>\n",
       "      <th>Ex10</th>\n",
       "      <th>...</th>\n",
       "      <th>Ex77</th>\n",
       "      <th>Ex78</th>\n",
       "      <th>Ex79</th>\n",
       "      <th>Ex80</th>\n",
       "      <th>Ex81</th>\n",
       "      <th>Ex82</th>\n",
       "      <th>Ex83</th>\n",
       "      <th>Ex84</th>\n",
       "      <th>Ex85</th>\n",
       "      <th>tsid_prop</th>\n",
       "    </tr>\n",
       "    <tr>\n",
       "      <th>sample</th>\n",
       "      <th></th>\n",
       "      <th></th>\n",
       "      <th></th>\n",
       "      <th></th>\n",
       "      <th></th>\n",
       "      <th></th>\n",
       "      <th></th>\n",
       "      <th></th>\n",
       "      <th></th>\n",
       "      <th></th>\n",
       "      <th></th>\n",
       "      <th></th>\n",
       "      <th></th>\n",
       "      <th></th>\n",
       "      <th></th>\n",
       "      <th></th>\n",
       "      <th></th>\n",
       "      <th></th>\n",
       "      <th></th>\n",
       "      <th></th>\n",
       "      <th></th>\n",
       "    </tr>\n",
       "  </thead>\n",
       "  <tbody>\n",
       "    <tr>\n",
       "      <th>FGPC-0000-444F_1-T2-1</th>\n",
       "      <td>0.043195</td>\n",
       "      <td>0.004209</td>\n",
       "      <td>0.011617</td>\n",
       "      <td>0.014726</td>\n",
       "      <td>0.009847</td>\n",
       "      <td>0.012837</td>\n",
       "      <td>0.021404</td>\n",
       "      <td>0.017671</td>\n",
       "      <td>0.005905</td>\n",
       "      <td>0.032203</td>\n",
       "      <td>...</td>\n",
       "      <td>0.009639</td>\n",
       "      <td>0.011513</td>\n",
       "      <td>0.008062</td>\n",
       "      <td>0.007407</td>\n",
       "      <td>0.010338</td>\n",
       "      <td>0.004656</td>\n",
       "      <td>0.010814</td>\n",
       "      <td>0.010531</td>\n",
       "      <td>0.027473</td>\n",
       "      <td>0.50</td>\n",
       "    </tr>\n",
       "    <tr>\n",
       "      <th>FGPC-0000-444F_1-T3-1</th>\n",
       "      <td>0.036531</td>\n",
       "      <td>0.004933</td>\n",
       "      <td>0.010044</td>\n",
       "      <td>0.015219</td>\n",
       "      <td>0.009512</td>\n",
       "      <td>0.011511</td>\n",
       "      <td>0.021619</td>\n",
       "      <td>0.017153</td>\n",
       "      <td>0.006626</td>\n",
       "      <td>0.031453</td>\n",
       "      <td>...</td>\n",
       "      <td>0.010173</td>\n",
       "      <td>0.013655</td>\n",
       "      <td>0.008432</td>\n",
       "      <td>0.006836</td>\n",
       "      <td>0.010028</td>\n",
       "      <td>0.004707</td>\n",
       "      <td>0.011204</td>\n",
       "      <td>0.008980</td>\n",
       "      <td>0.024585</td>\n",
       "      <td>0.33</td>\n",
       "    </tr>\n",
       "    <tr>\n",
       "      <th>FGPC-0000-444F_1-T4-1</th>\n",
       "      <td>0.033073</td>\n",
       "      <td>0.004502</td>\n",
       "      <td>0.010468</td>\n",
       "      <td>0.013413</td>\n",
       "      <td>0.009492</td>\n",
       "      <td>0.011893</td>\n",
       "      <td>0.020560</td>\n",
       "      <td>0.015777</td>\n",
       "      <td>0.005628</td>\n",
       "      <td>0.032041</td>\n",
       "      <td>...</td>\n",
       "      <td>0.009774</td>\n",
       "      <td>0.012587</td>\n",
       "      <td>0.006509</td>\n",
       "      <td>0.007204</td>\n",
       "      <td>0.009905</td>\n",
       "      <td>0.004127</td>\n",
       "      <td>0.009830</td>\n",
       "      <td>0.009248</td>\n",
       "      <td>0.023430</td>\n",
       "      <td>0.20</td>\n",
       "    </tr>\n",
       "    <tr>\n",
       "      <th>FGPC-0000-444F_1-T5-1</th>\n",
       "      <td>0.047463</td>\n",
       "      <td>0.003086</td>\n",
       "      <td>0.012808</td>\n",
       "      <td>0.011417</td>\n",
       "      <td>0.007715</td>\n",
       "      <td>0.013994</td>\n",
       "      <td>0.021147</td>\n",
       "      <td>0.017179</td>\n",
       "      <td>0.004462</td>\n",
       "      <td>0.032762</td>\n",
       "      <td>...</td>\n",
       "      <td>0.006689</td>\n",
       "      <td>0.012945</td>\n",
       "      <td>0.009464</td>\n",
       "      <td>0.006910</td>\n",
       "      <td>0.010140</td>\n",
       "      <td>0.005610</td>\n",
       "      <td>0.007921</td>\n",
       "      <td>0.009342</td>\n",
       "      <td>0.025191</td>\n",
       "      <td>1.00</td>\n",
       "    </tr>\n",
       "    <tr>\n",
       "      <th>FPWB-0000-981L_1-T2-1</th>\n",
       "      <td>0.039004</td>\n",
       "      <td>0.005274</td>\n",
       "      <td>0.010657</td>\n",
       "      <td>0.013067</td>\n",
       "      <td>0.009876</td>\n",
       "      <td>0.015346</td>\n",
       "      <td>0.021032</td>\n",
       "      <td>0.019014</td>\n",
       "      <td>0.005926</td>\n",
       "      <td>0.030995</td>\n",
       "      <td>...</td>\n",
       "      <td>0.010245</td>\n",
       "      <td>0.012068</td>\n",
       "      <td>0.008270</td>\n",
       "      <td>0.007922</td>\n",
       "      <td>0.010332</td>\n",
       "      <td>0.004558</td>\n",
       "      <td>0.010418</td>\n",
       "      <td>0.009029</td>\n",
       "      <td>0.027869</td>\n",
       "      <td>0.50</td>\n",
       "    </tr>\n",
       "  </tbody>\n",
       "</table>\n",
       "<p>5 rows × 84 columns</p>\n",
       "</div>"
      ],
      "text/plain": [
       "                            Ex1       Ex2       Ex3       Ex4       Ex5  \\\n",
       "sample                                                                    \n",
       "FGPC-0000-444F_1-T2-1  0.043195  0.004209  0.011617  0.014726  0.009847   \n",
       "FGPC-0000-444F_1-T3-1  0.036531  0.004933  0.010044  0.015219  0.009512   \n",
       "FGPC-0000-444F_1-T4-1  0.033073  0.004502  0.010468  0.013413  0.009492   \n",
       "FGPC-0000-444F_1-T5-1  0.047463  0.003086  0.012808  0.011417  0.007715   \n",
       "FPWB-0000-981L_1-T2-1  0.039004  0.005274  0.010657  0.013067  0.009876   \n",
       "\n",
       "                            Ex6       Ex7       Ex8       Ex9      Ex10  \\\n",
       "sample                                                                    \n",
       "FGPC-0000-444F_1-T2-1  0.012837  0.021404  0.017671  0.005905  0.032203   \n",
       "FGPC-0000-444F_1-T3-1  0.011511  0.021619  0.017153  0.006626  0.031453   \n",
       "FGPC-0000-444F_1-T4-1  0.011893  0.020560  0.015777  0.005628  0.032041   \n",
       "FGPC-0000-444F_1-T5-1  0.013994  0.021147  0.017179  0.004462  0.032762   \n",
       "FPWB-0000-981L_1-T2-1  0.015346  0.021032  0.019014  0.005926  0.030995   \n",
       "\n",
       "                         ...          Ex77      Ex78      Ex79      Ex80  \\\n",
       "sample                   ...                                               \n",
       "FGPC-0000-444F_1-T2-1    ...      0.009639  0.011513  0.008062  0.007407   \n",
       "FGPC-0000-444F_1-T3-1    ...      0.010173  0.013655  0.008432  0.006836   \n",
       "FGPC-0000-444F_1-T4-1    ...      0.009774  0.012587  0.006509  0.007204   \n",
       "FGPC-0000-444F_1-T5-1    ...      0.006689  0.012945  0.009464  0.006910   \n",
       "FPWB-0000-981L_1-T2-1    ...      0.010245  0.012068  0.008270  0.007922   \n",
       "\n",
       "                           Ex81      Ex82      Ex83      Ex84      Ex85  \\\n",
       "sample                                                                    \n",
       "FGPC-0000-444F_1-T2-1  0.010338  0.004656  0.010814  0.010531  0.027473   \n",
       "FGPC-0000-444F_1-T3-1  0.010028  0.004707  0.011204  0.008980  0.024585   \n",
       "FGPC-0000-444F_1-T4-1  0.009905  0.004127  0.009830  0.009248  0.023430   \n",
       "FGPC-0000-444F_1-T5-1  0.010140  0.005610  0.007921  0.009342  0.025191   \n",
       "FPWB-0000-981L_1-T2-1  0.010332  0.004558  0.010418  0.009029  0.027869   \n",
       "\n",
       "                       tsid_prop  \n",
       "sample                            \n",
       "FGPC-0000-444F_1-T2-1       0.50  \n",
       "FGPC-0000-444F_1-T3-1       0.33  \n",
       "FGPC-0000-444F_1-T4-1       0.20  \n",
       "FGPC-0000-444F_1-T5-1       1.00  \n",
       "FPWB-0000-981L_1-T2-1       0.50  \n",
       "\n",
       "[5 rows x 84 columns]"
      ]
     },
     "execution_count": 182,
     "metadata": {},
     "output_type": "execute_result"
    }
   ],
   "source": [
    "mixin_exp_grouped = mixin_exp.groupby('sample').sum()\n",
    "mixin_norm = mixin_exp_grouped.div(mixin_exp_grouped.sum(axis=1), axis=0)\n",
    "mixin_norm['tsid_prop'] = mixin_norm.apply(set_prop_tsid, axis=1)\n",
    "mixin_norm.head()"
   ]
  },
  {
   "cell_type": "code",
   "execution_count": 183,
   "metadata": {
    "collapsed": false
   },
   "outputs": [
    {
     "name": "stdout",
     "output_type": "stream",
     "text": [
      "Intercept    0.002379\n",
      "tsid_prop    0.011475\n",
      "dtype: float64\n"
     ]
    }
   ],
   "source": [
    "# performing the regression after removing the tsid only results (clearly not linear effect then)\n",
    "mixin_norm2 = mixin_norm[mixin_norm.tsid_prop != 1.0]\n",
    "regression = sm.ols(formula=\"Ex38 ~ tsid_prop\", data=mixin_norm2).fit()\n",
    "print regression.params"
   ]
  },
  {
   "cell_type": "code",
   "execution_count": 184,
   "metadata": {
    "collapsed": false
   },
   "outputs": [
    {
     "name": "stdout",
     "output_type": "stream",
     "text": [
      "                            OLS Regression Results                            \n",
      "==============================================================================\n",
      "Dep. Variable:                   Ex38   R-squared:                       0.921\n",
      "Model:                            OLS   Adj. R-squared:                  0.909\n",
      "Method:                 Least Squares   F-statistic:                     81.34\n",
      "Date:                Tue, 28 Feb 2017   Prob (F-statistic):           4.21e-05\n",
      "Time:                        18:56:37   Log-Likelihood:                 57.348\n",
      "No. Observations:                   9   AIC:                            -110.7\n",
      "Df Residuals:                       7   BIC:                            -110.3\n",
      "Df Model:                           1                                         \n",
      "Covariance Type:            nonrobust                                         \n",
      "==============================================================================\n",
      "                 coef    std err          t      P>|t|      [0.025      0.975]\n",
      "------------------------------------------------------------------------------\n",
      "Intercept      0.0024      0.000      5.127      0.001       0.001       0.003\n",
      "tsid_prop      0.0115      0.001      9.019      0.000       0.008       0.014\n",
      "==============================================================================\n",
      "Omnibus:                        0.862   Durbin-Watson:                   2.529\n",
      "Prob(Omnibus):                  0.650   Jarque-Bera (JB):                0.626\n",
      "Skew:                           0.256   Prob(JB):                        0.731\n",
      "Kurtosis:                       1.814   Cond. No.                         9.11\n",
      "==============================================================================\n",
      "\n",
      "Warnings:\n",
      "[1] Standard Errors assume that the covariance matrix of the errors is correctly specified.\n"
     ]
    },
    {
     "name": "stderr",
     "output_type": "stream",
     "text": [
      "/Users/velina/.pyenv/versions/2.7.11/envs/dmd/lib/python2.7/site-packages/scipy/stats/stats.py:1326: UserWarning: kurtosistest only valid for n>=20 ... continuing anyway, n=9\n",
      "  \"anyway, n=%i\" % int(n))\n"
     ]
    }
   ],
   "source": [
    "print regression.summary()"
   ]
  },
  {
   "cell_type": "markdown",
   "metadata": {},
   "source": [
    "## Plotting coverage ratio of various individual exons as function of TSID proportion\n",
    "Note that Exon 38 (first one) is the only one that appears exclusively in TSID."
   ]
  },
  {
   "cell_type": "code",
   "execution_count": 188,
   "metadata": {
    "collapsed": false,
    "scrolled": true
   },
   "outputs": [
    {
     "data": {
      "text/plain": [
       "(<matplotlib.text.Text at 0x10df3ff90>, <matplotlib.text.Text at 0x10dec9a50>)"
      ]
     },
     "execution_count": 188,
     "metadata": {},
     "output_type": "execute_result"
    },
    {
     "data": {
      "image/png": "[encoded data removed]",
      "text/plain": [
       "<matplotlib.figure.Figure at 0x10db36a90>"
      ]
     },
     "metadata": {},
     "output_type": "display_data"
    },
    {
     "data": {
      "image/png": "[encoded data removed]",
      "text/plain": [
       "<matplotlib.figure.Figure at 0x10c7f4390>"
      ]
     },
     "metadata": {},
     "output_type": "display_data"
    },
    {
     "data": {
      "image/png": "[encoded data removed]",
      "text/plain": [
       "<matplotlib.figure.Figure at 0x10de34490>"
      ]
     },
     "metadata": {},
     "output_type": "display_data"
    },
    {
     "data": {
      "image/png": "[encoded data removed]",
      "text/plain": [
       "<matplotlib.figure.Figure at 0x10de9a390>"
      ]
     },
     "metadata": {},
     "output_type": "display_data"
    },
    {
     "data": {
      "image/png": "[encoded data removed]",
      "text/plain": [
       "<matplotlib.figure.Figure at 0x10df33210>"
      ]
     },
     "metadata": {},
     "output_type": "display_data"
    }
   ],
   "source": [
    "plt.figure()\n",
    "plt.plot(mixin_norm.tsid_prop, mixin_norm.Ex38, '.')\n",
    "plt.xlabel('TSID Mixin Proportion'), plt.ylabel('Exon Coverage Ratio, Ex38 in TSID')\n",
    "plt.title('Coverage Changes for TSID only exon - Exon 38')\n",
    "\n",
    "plt.figure()\n",
    "plt.plot(mixin_norm.tsid_prop, mixin_norm.Ex35, '.')\n",
    "plt.xlabel('TSID Mixin Proportion'), plt.ylabel('Exon Coverage Ratio, Ex35 in TSID')\n",
    "\n",
    "plt.figure()\n",
    "plt.plot(mixin_norm.tsid_prop, mixin_norm.Ex41, '.')\n",
    "plt.xlabel('TSID Mixin Proportion'), plt.ylabel('Exon Coverage Ratio, Ex41 in TSID')\n",
    "\n",
    "plt.figure()\n",
    "plt.plot(mixin_norm.tsid_prop, mixin_norm.Ex26, '.')\n",
    "plt.xlabel('TSID Mixin Proportion'), plt.ylabel('Exon Coverage Ratio, Ex26 in TSID')\n",
    "\n",
    "plt.figure()\n",
    "plt.plot(mixin_norm.tsid_prop, mixin_norm.Ex65, '.')\n",
    "plt.xlabel('TSID Mixin Proportion'), plt.ylabel('Exon Coverage Ratio, Ex65 in TSID')"
   ]
  },
  {
   "cell_type": "markdown",
   "metadata": {},
   "source": [
    "## Checking regression after using full TSID_only and TSO_only coverage counts"
   ]
  },
  {
   "cell_type": "code",
   "execution_count": 212,
   "metadata": {
    "collapsed": false,
    "scrolled": false
   },
   "outputs": [
    {
     "name": "stdout",
     "output_type": "stream",
     "text": [
      "Index([u'id', u'subject', u'specimen', u'sample', u'gender', u'sequencer',\n",
      "       u'flow_cell_id', u'lane', u'bwa_version', u'date_modified',\n",
      "       u'TSID_only', u'TSO_only', u'Ex1', u'Ex2', u'Ex3', u'Ex4', u'Ex5',\n",
      "       u'Ex6', u'Ex7', u'Ex8', u'Ex9', u'Ex10', u'Ex11', u'Ex12', u'Ex13',\n",
      "       u'Ex14', u'Ex15', u'Ex16', u'Ex17', u'Ex18', u'Ex19', u'Ex20', u'Ex21',\n",
      "       u'Ex22', u'Ex23', u'Ex24', u'Ex25', u'Ex26', u'Ex27', u'Ex28', u'Ex29',\n",
      "       u'Ex30', u'Ex31', u'Ex32', u'Ex33', u'Ex34', u'Ex35', u'Ex36', u'Ex37',\n",
      "       u'Ex38', u'Ex39', u'Ex40', u'Ex41', u'Ex42', u'Ex43', u'Ex44', u'Ex45',\n",
      "       u'Ex46', u'Ex47', u'Ex48', u'Ex49', u'Ex50', u'Ex51', u'Ex52',\n",
      "       u'Ex53|54', u'Ex55', u'Ex56', u'Ex57', u'Ex58', u'Ex59', u'Ex60',\n",
      "       u'Ex61', u'Ex62', u'Ex63', u'Ex64', u'Ex65', u'Ex66', u'Ex67', u'Ex68',\n",
      "       u'Ex69|70', u'Ex71', u'Ex72', u'Ex73', u'Ex74', u'Ex75', u'Ex76',\n",
      "       u'Ex77', u'Ex78', u'Ex79', u'Ex80', u'Ex81', u'Ex82', u'Ex83', u'Ex84',\n",
      "       u'Ex85', u'date'],\n",
      "      dtype='object')\n"
     ]
    },
    {
     "data": {
      "text/html": [
       "<div>\n",
       "<table border=\"1\" class=\"dataframe\">\n",
       "  <thead>\n",
       "    <tr style=\"text-align: right;\">\n",
       "      <th></th>\n",
       "      <th>id</th>\n",
       "      <th>subject</th>\n",
       "      <th>specimen</th>\n",
       "      <th>sample</th>\n",
       "      <th>gender</th>\n",
       "      <th>sequencer</th>\n",
       "      <th>flow_cell_id</th>\n",
       "      <th>lane</th>\n",
       "      <th>bwa_version</th>\n",
       "      <th>date_modified</th>\n",
       "      <th>...</th>\n",
       "      <th>Ex77</th>\n",
       "      <th>Ex78</th>\n",
       "      <th>Ex79</th>\n",
       "      <th>Ex80</th>\n",
       "      <th>Ex81</th>\n",
       "      <th>Ex82</th>\n",
       "      <th>Ex83</th>\n",
       "      <th>Ex84</th>\n",
       "      <th>Ex85</th>\n",
       "      <th>date</th>\n",
       "    </tr>\n",
       "  </thead>\n",
       "  <tbody>\n",
       "    <tr>\n",
       "      <th>0</th>\n",
       "      <td>FGPC-0000-444F_1-T2-1_H5FGFAFXX-L004</td>\n",
       "      <td>FGPC-0000-444F</td>\n",
       "      <td>FGPC-0000-444F_1</td>\n",
       "      <td>FGPC-0000-444F_1-T2-1</td>\n",
       "      <td>F</td>\n",
       "      <td>T2</td>\n",
       "      <td>H5FGFAFXX</td>\n",
       "      <td>L004</td>\n",
       "      <td>0.7.10-r789</td>\n",
       "      <td>2017-02-28 15:28:23</td>\n",
       "      <td>...</td>\n",
       "      <td>154</td>\n",
       "      <td>169</td>\n",
       "      <td>156</td>\n",
       "      <td>113</td>\n",
       "      <td>162</td>\n",
       "      <td>78</td>\n",
       "      <td>180</td>\n",
       "      <td>196</td>\n",
       "      <td>486</td>\n",
       "      <td>2017-02-28</td>\n",
       "    </tr>\n",
       "    <tr>\n",
       "      <th>1</th>\n",
       "      <td>FGPC-0000-444F_1-T2-1_H5FGFAFXX-L002</td>\n",
       "      <td>FGPC-0000-444F</td>\n",
       "      <td>FGPC-0000-444F_1</td>\n",
       "      <td>FGPC-0000-444F_1-T2-1</td>\n",
       "      <td>F</td>\n",
       "      <td>T2</td>\n",
       "      <td>H5FGFAFXX</td>\n",
       "      <td>L002</td>\n",
       "      <td>0.7.10-r789</td>\n",
       "      <td>2017-02-28 15:28:23</td>\n",
       "      <td>...</td>\n",
       "      <td>188</td>\n",
       "      <td>175</td>\n",
       "      <td>115</td>\n",
       "      <td>109</td>\n",
       "      <td>168</td>\n",
       "      <td>89</td>\n",
       "      <td>181</td>\n",
       "      <td>167</td>\n",
       "      <td>493</td>\n",
       "      <td>2017-02-28</td>\n",
       "    </tr>\n",
       "    <tr>\n",
       "      <th>2</th>\n",
       "      <td>FGPC-0000-444F_1-T2-1_H5FGFAFXX-L003</td>\n",
       "      <td>FGPC-0000-444F</td>\n",
       "      <td>FGPC-0000-444F_1</td>\n",
       "      <td>FGPC-0000-444F_1-T2-1</td>\n",
       "      <td>F</td>\n",
       "      <td>T2</td>\n",
       "      <td>H5FGFAFXX</td>\n",
       "      <td>L003</td>\n",
       "      <td>0.7.10-r789</td>\n",
       "      <td>2017-02-28 15:28:23</td>\n",
       "      <td>...</td>\n",
       "      <td>162</td>\n",
       "      <td>199</td>\n",
       "      <td>115</td>\n",
       "      <td>147</td>\n",
       "      <td>184</td>\n",
       "      <td>71</td>\n",
       "      <td>191</td>\n",
       "      <td>164</td>\n",
       "      <td>463</td>\n",
       "      <td>2017-02-28</td>\n",
       "    </tr>\n",
       "    <tr>\n",
       "      <th>3</th>\n",
       "      <td>FGPC-0000-444F_1-T2-1_H5FGFAFXX-L001</td>\n",
       "      <td>FGPC-0000-444F</td>\n",
       "      <td>FGPC-0000-444F_1</td>\n",
       "      <td>FGPC-0000-444F_1-T2-1</td>\n",
       "      <td>F</td>\n",
       "      <td>T2</td>\n",
       "      <td>H5FGFAFXX</td>\n",
       "      <td>L001</td>\n",
       "      <td>0.7.10-r789</td>\n",
       "      <td>2017-02-28 15:28:23</td>\n",
       "      <td>...</td>\n",
       "      <td>144</td>\n",
       "      <td>231</td>\n",
       "      <td>156</td>\n",
       "      <td>129</td>\n",
       "      <td>181</td>\n",
       "      <td>75</td>\n",
       "      <td>175</td>\n",
       "      <td>181</td>\n",
       "      <td>405</td>\n",
       "      <td>2017-02-28</td>\n",
       "    </tr>\n",
       "    <tr>\n",
       "      <th>4</th>\n",
       "      <td>FGPC-0000-444F_1-T3-1_H5FGFAFXX-L001</td>\n",
       "      <td>FGPC-0000-444F</td>\n",
       "      <td>FGPC-0000-444F_1</td>\n",
       "      <td>FGPC-0000-444F_1-T3-1</td>\n",
       "      <td>F</td>\n",
       "      <td>T3</td>\n",
       "      <td>H5FGFAFXX</td>\n",
       "      <td>L001</td>\n",
       "      <td>0.7.10-r789</td>\n",
       "      <td>2017-02-28 15:35:04</td>\n",
       "      <td>...</td>\n",
       "      <td>171</td>\n",
       "      <td>229</td>\n",
       "      <td>114</td>\n",
       "      <td>121</td>\n",
       "      <td>179</td>\n",
       "      <td>98</td>\n",
       "      <td>183</td>\n",
       "      <td>153</td>\n",
       "      <td>433</td>\n",
       "      <td>2017-02-28</td>\n",
       "    </tr>\n",
       "  </tbody>\n",
       "</table>\n",
       "<p>5 rows × 96 columns</p>\n",
       "</div>"
      ],
      "text/plain": [
       "                                     id         subject          specimen  \\\n",
       "0  FGPC-0000-444F_1-T2-1_H5FGFAFXX-L004  FGPC-0000-444F  FGPC-0000-444F_1   \n",
       "1  FGPC-0000-444F_1-T2-1_H5FGFAFXX-L002  FGPC-0000-444F  FGPC-0000-444F_1   \n",
       "2  FGPC-0000-444F_1-T2-1_H5FGFAFXX-L003  FGPC-0000-444F  FGPC-0000-444F_1   \n",
       "3  FGPC-0000-444F_1-T2-1_H5FGFAFXX-L001  FGPC-0000-444F  FGPC-0000-444F_1   \n",
       "4  FGPC-0000-444F_1-T3-1_H5FGFAFXX-L001  FGPC-0000-444F  FGPC-0000-444F_1   \n",
       "\n",
       "                  sample gender sequencer flow_cell_id  lane  bwa_version  \\\n",
       "0  FGPC-0000-444F_1-T2-1      F        T2    H5FGFAFXX  L004  0.7.10-r789   \n",
       "1  FGPC-0000-444F_1-T2-1      F        T2    H5FGFAFXX  L002  0.7.10-r789   \n",
       "2  FGPC-0000-444F_1-T2-1      F        T2    H5FGFAFXX  L003  0.7.10-r789   \n",
       "3  FGPC-0000-444F_1-T2-1      F        T2    H5FGFAFXX  L001  0.7.10-r789   \n",
       "4  FGPC-0000-444F_1-T3-1      F        T3    H5FGFAFXX  L001  0.7.10-r789   \n",
       "\n",
       "        date_modified     ...      Ex77  Ex78  Ex79  Ex80  Ex81  Ex82  Ex83  \\\n",
       "0 2017-02-28 15:28:23     ...       154   169   156   113   162    78   180   \n",
       "1 2017-02-28 15:28:23     ...       188   175   115   109   168    89   181   \n",
       "2 2017-02-28 15:28:23     ...       162   199   115   147   184    71   191   \n",
       "3 2017-02-28 15:28:23     ...       144   231   156   129   181    75   175   \n",
       "4 2017-02-28 15:35:04     ...       171   229   114   121   179    98   183   \n",
       "\n",
       "   Ex84  Ex85        date  \n",
       "0   196   486  2017-02-28  \n",
       "1   167   493  2017-02-28  \n",
       "2   164   463  2017-02-28  \n",
       "3   181   405  2017-02-28  \n",
       "4   153   433  2017-02-28  \n",
       "\n",
       "[5 rows x 96 columns]"
      ]
     },
     "execution_count": 212,
     "metadata": {},
     "output_type": "execute_result"
    }
   ],
   "source": [
    "mixin_exp2.date_modified = pd.to_datetime(mixin_exp2.date_modified, unit='s')\n",
    "mixin_exp2['date'] = mixin_exp2.date_modified.dt.date\n",
    "# drop unnecessary columns (is_rerun, and coding regions)\n",
    "# mixin_exp2.drop(['is_rerun'], axis=1, inplace=True)\n",
    "print mixin_exp2.columns\n",
    "mixin_exp2.head()"
   ]
  },
  {
   "cell_type": "code",
   "execution_count": 223,
   "metadata": {
    "collapsed": false
   },
   "outputs": [
    {
     "data": {
      "text/html": [
       "<div>\n",
       "<table border=\"1\" class=\"dataframe\">\n",
       "  <thead>\n",
       "    <tr style=\"text-align: right;\">\n",
       "      <th></th>\n",
       "      <th>TSID_only</th>\n",
       "      <th>TSO_only</th>\n",
       "      <th>tsid_prop</th>\n",
       "    </tr>\n",
       "    <tr>\n",
       "      <th>sample</th>\n",
       "      <th></th>\n",
       "      <th></th>\n",
       "      <th></th>\n",
       "    </tr>\n",
       "  </thead>\n",
       "  <tbody>\n",
       "    <tr>\n",
       "      <th>FGPC-0000-444F_1-T2-1</th>\n",
       "      <td>0.452893</td>\n",
       "      <td>0.547107</td>\n",
       "      <td>0.50</td>\n",
       "    </tr>\n",
       "    <tr>\n",
       "      <th>FGPC-0000-444F_1-T3-1</th>\n",
       "      <td>0.379855</td>\n",
       "      <td>0.620145</td>\n",
       "      <td>0.33</td>\n",
       "    </tr>\n",
       "    <tr>\n",
       "      <th>FGPC-0000-444F_1-T4-1</th>\n",
       "      <td>0.272864</td>\n",
       "      <td>0.727136</td>\n",
       "      <td>0.20</td>\n",
       "    </tr>\n",
       "    <tr>\n",
       "      <th>FGPC-0000-444F_1-T5-1</th>\n",
       "      <td>0.996140</td>\n",
       "      <td>0.003860</td>\n",
       "      <td>1.00</td>\n",
       "    </tr>\n",
       "    <tr>\n",
       "      <th>FPWB-0000-981L_1-T2-1</th>\n",
       "      <td>0.445154</td>\n",
       "      <td>0.554846</td>\n",
       "      <td>0.50</td>\n",
       "    </tr>\n",
       "  </tbody>\n",
       "</table>\n",
       "</div>"
      ],
      "text/plain": [
       "                       TSID_only  TSO_only  tsid_prop\n",
       "sample                                               \n",
       "FGPC-0000-444F_1-T2-1   0.452893  0.547107       0.50\n",
       "FGPC-0000-444F_1-T3-1   0.379855  0.620145       0.33\n",
       "FGPC-0000-444F_1-T4-1   0.272864  0.727136       0.20\n",
       "FGPC-0000-444F_1-T5-1   0.996140  0.003860       1.00\n",
       "FPWB-0000-981L_1-T2-1   0.445154  0.554846       0.50"
      ]
     },
     "execution_count": 223,
     "metadata": {},
     "output_type": "execute_result"
    }
   ],
   "source": [
    "# subset out just the relevant TSID/TSO only columns and other feature columns \n",
    "mixin_exp_rel = mixin_exp2[mixin_exp2.columns[:12]]\n",
    "mixin_rel_grouped = mixin_exp_rel.groupby('sample').sum()\n",
    "mixin_rel_norm = mixin_rel_grouped.div(mixin_rel_grouped.sum(axis=1), axis=0)\n",
    "mixin_rel_norm['tsid_prop'] = mixin_rel_norm.apply(set_prop_tsid, axis=1)\n",
    "# mixin_exp_rel['tsid_only_ratio'] = mixin_exp_rel.TSID_only / (mixin_exp_rel.TSID_only + mixin_exp_rel.TSO_only) \n",
    "#mixin_exp_rel['tsid_prop'] = mixin_exp_rel.apply(set_prop_tsid, axis=1)\n",
    "mixin_rel_norm.head()"
   ]
  },
  {
   "cell_type": "code",
   "execution_count": 224,
   "metadata": {
    "collapsed": false
   },
   "outputs": [
    {
     "name": "stdout",
     "output_type": "stream",
     "text": [
      "Intercept    0.059965\n",
      "tsid_prop    0.914812\n",
      "dtype: float64\n"
     ]
    }
   ],
   "source": [
    "# redoing the regression after removing the tsid only results (clearly not linear effect then)\n",
    "regression_full = sm.ols(formula=\"TSID_only ~ tsid_prop\", data=mixin_rel_norm).fit()\n",
    "print regression_full.params"
   ]
  },
  {
   "cell_type": "code",
   "execution_count": 225,
   "metadata": {
    "collapsed": false,
    "scrolled": true
   },
   "outputs": [
    {
     "name": "stdout",
     "output_type": "stream",
     "text": [
      "                            OLS Regression Results                            \n",
      "==============================================================================\n",
      "Dep. Variable:              TSID_only   R-squared:                       0.982\n",
      "Model:                            OLS   Adj. R-squared:                  0.980\n",
      "Method:                 Least Squares   F-statistic:                     544.4\n",
      "Date:                Thu, 02 Mar 2017   Prob (F-statistic):           4.74e-10\n",
      "Time:                        12:00:49   Log-Likelihood:                 22.328\n",
      "No. Observations:                  12   AIC:                            -40.66\n",
      "Df Residuals:                      10   BIC:                            -39.69\n",
      "Df Model:                           1                                         \n",
      "Covariance Type:            nonrobust                                         \n",
      "==============================================================================\n",
      "                 coef    std err          t      P>|t|      [0.025      0.975]\n",
      "------------------------------------------------------------------------------\n",
      "Intercept      0.0600      0.023      2.586      0.027       0.008       0.112\n",
      "tsid_prop      0.9148      0.039     23.332      0.000       0.827       1.002\n",
      "==============================================================================\n",
      "Omnibus:                        4.050   Durbin-Watson:                   2.073\n",
      "Prob(Omnibus):                  0.132   Jarque-Bera (JB):                2.754\n",
      "Skew:                          -1.133   Prob(JB):                        0.252\n",
      "Kurtosis:                       2.390   Cond. No.                         4.21\n",
      "==============================================================================\n",
      "\n",
      "Warnings:\n",
      "[1] Standard Errors assume that the covariance matrix of the errors is correctly specified.\n"
     ]
    },
    {
     "name": "stderr",
     "output_type": "stream",
     "text": [
      "/Users/velina/.pyenv/versions/2.7.11/envs/dmd/lib/python2.7/site-packages/scipy/stats/stats.py:1326: UserWarning: kurtosistest only valid for n>=20 ... continuing anyway, n=12\n",
      "  \"anyway, n=%i\" % int(n))\n"
     ]
    }
   ],
   "source": [
    "print regression_full.summary()"
   ]
  },
  {
   "cell_type": "code",
   "execution_count": 230,
   "metadata": {
    "collapsed": false
   },
   "outputs": [
    {
     "data": {
      "image/png": "[encoded data removed]",
      "text/plain": [
       "<matplotlib.figure.Figure at 0x109a85a10>"
      ]
     },
     "metadata": {},
     "output_type": "display_data"
    }
   ],
   "source": [
    "X_vec = np.linspace(0.1, 1, 100)\n",
    "reg_vec = X_vec * regression_full.params[1] + regression_full.params[0]\n",
    "\n",
    "plt.figure()\n",
    "plt.plot(mixin_rel_norm.tsid_prop, mixin_rel_norm.TSID_only, '.')\n",
    "plt.plot(X_vec, reg_vec, linewidth=0.75)\n",
    "plt.xlabel('TSID Mixin Proportion'), plt.ylabel('Ratio of TSID only coverage')\n",
    "plt.title('Coverage Changes Across X Chromosome as function of TSID proportion in mixin panel')\n",
    "plt.show()"
   ]
  },
  {
   "cell_type": "markdown",
   "metadata": {},
   "source": [
    "## Multivariate linear regression for exon intensity vector"
   ]
  },
  {
   "cell_type": "code",
   "execution_count": 408,
   "metadata": {
    "collapsed": false
   },
   "outputs": [],
   "source": [
    "merged = pd.merge(mixin_rel_norm, mixin3_groups, left_index=True, right_index=True)\n",
    "merged.head()\n",
    "# checking to see if results are improved after removing the 1.0, 1.0 point -- did not really change results much\n",
    "merged_sub = merged[merged.tsid_prop != 1.0]\n",
    "X = np.array(merged_sub.TSID_only).reshape(-1, 1) # cannot pass array into sklearn 0.19\n",
    "X_2 = np.power(X, 2)\n",
    "X_3 = np.power(X, 3)\n",
    "# adding polynomial terms to feature dataset\n",
    "X_square = np.concatenate((X, X_2), axis=1)\n",
    "Y = merged_sub[merged_sub.columns[3:]].values"
   ]
  },
  {
   "cell_type": "code",
   "execution_count": 450,
   "metadata": {
    "collapsed": false
   },
   "outputs": [
    {
     "name": "stdout",
     "output_type": "stream",
     "text": [
      "(9, 78)\n",
      "(9, 2)\n"
     ]
    }
   ],
   "source": [
    "print Y.shape\n",
    "print X_square.shape"
   ]
  },
  {
   "cell_type": "code",
   "execution_count": 439,
   "metadata": {
    "collapsed": false
   },
   "outputs": [],
   "source": [
    "# generating values to create null model for testing LinearRegression().score()\n",
    "X_basic = np.ones((9,2))\n",
    "Y_basic = np.mean(rma_matrix, axis=0)\n",
    "Y_mean = np.multiply(Y_basic, np.ones((9,78)))"
   ]
  },
  {
   "cell_type": "code",
   "execution_count": 444,
   "metadata": {
    "collapsed": false
   },
   "outputs": [
    {
     "data": {
      "text/plain": [
       "array([ 0.04438591,  0.00997012,  0.02006346, -0.02410728,  0.02270424,\n",
       "       -0.02537585, -0.01773374,  0.01520472, -0.03513553,  0.05428185,\n",
       "       -0.10961783,  0.16305879, -0.00498773,  0.02149682,  0.01542919,\n",
       "       -0.0034013 ,  0.04613222, -0.06233303,  0.00475911, -0.0029829 ,\n",
       "       -0.04737438,  0.051843  ,  0.00313166, -0.00025621,  0.01759751,\n",
       "       -0.04118032,  0.00227083,  0.00562533, -0.0625649 ,  0.08877785,\n",
       "        0.01293125, -0.00812882, -0.14515037,  0.18841022,  0.00921188,\n",
       "       -0.00894015,  0.08854427, -0.10990146,  0.10853472, -0.15814056,\n",
       "        0.04981797, -0.06611081, -0.11816374,  0.16654156, -0.09265977,\n",
       "        0.10206251,  0.04665456, -0.06354426,  0.05032978, -0.05865792,\n",
       "        0.00472818, -0.00046501, -0.00881504,  0.02499577, -0.07504221,\n",
       "        0.1103406 ,  0.04918107, -0.09275555,  0.08093334, -0.10547357,\n",
       "        0.02963196, -0.04905494, -0.02243454,  0.01222203,  0.06843415,\n",
       "       -0.07781846, -0.03524896,  0.03637023,  0.03051058, -0.05044212,\n",
       "        0.03008295, -0.05893542,  0.02379536, -0.05000292, -0.00304857,\n",
       "        0.01753532,  0.03891945, -0.05148824,  0.04473337, -0.09340559,\n",
       "       -0.08972815,  0.10713204, -0.04866573,  0.06210005, -0.09451645,\n",
       "        0.11505396,  0.11930949, -0.14512371, -0.03947187,  0.06151235,\n",
       "       -0.02624443,  0.02294986,  0.00586371,  0.02414075, -0.00522005,\n",
       "       -0.00265891, -0.00091307,  0.01083429,  0.04604625, -0.07210874,\n",
       "       -0.00948343,  0.00157049, -0.02195535,  0.02834881,  0.10053673,\n",
       "       -0.15102226, -0.00982372,  0.0109153 ,  0.02180324, -0.02474504,\n",
       "        0.01844704, -0.03252069, -0.01452917,  0.02345071, -0.0254203 ,\n",
       "        0.01971881, -0.03438348,  0.03001753,  0.03735123, -0.04506291,\n",
       "       -0.03936862,  0.05149346, -0.07120741,  0.09292688, -0.00696195,\n",
       "        0.0077294 ,  0.01038879,  0.00116306, -0.00928872,  0.02027813,\n",
       "       -0.06889532,  0.07784076,  0.01935654, -0.02819186,  0.00684703,\n",
       "       -0.01672142, -0.05400543,  0.06596825,  0.00413617, -0.00492431,\n",
       "        0.05817316, -0.06266666,  0.00317473, -0.00238216,  0.02986851,\n",
       "       -0.05350593,  0.04597363, -0.0467756 , -0.07772439,  0.10138841,\n",
       "        0.03583617, -0.04534944,  0.01382638, -0.00912258,  0.00539656,\n",
       "        0.00051487])"
      ]
     },
     "execution_count": 444,
     "metadata": {},
     "output_type": "execute_result"
    }
   ],
   "source": [
    "# fitting multivariate linear model across intensity vector as function of tsid_only ratio and squared term\n",
    "linmodel = linear_model.LinearRegression() \n",
    "linmodel.fit(X_square, Y)\n",
    "coeff = linmodel.coef_.flatten()\n",
    "interc = linmodel.intercept_"
   ]
  },
  {
   "cell_type": "code",
   "execution_count": 451,
   "metadata": {
    "collapsed": false
   },
   "outputs": [
    {
     "data": {
      "text/plain": [
       "array([[ 0.03989694,  0.00467757,  0.01208164, ...,  0.00980539,\n",
       "         0.00372705,  0.0094552 ],\n",
       "       [ 0.0432909 ,  0.00507277,  0.01145066, ...,  0.01058879,\n",
       "         0.00349676,  0.00923441],\n",
       "       [ 0.03841715,  0.0050413 ,  0.01147959, ...,  0.0115707 ,\n",
       "         0.00422133,  0.00947522],\n",
       "       ..., \n",
       "       [ 0.03731915,  0.00634043,  0.0107234 , ...,  0.01178723,\n",
       "         0.00302128,  0.00982979],\n",
       "       [ 0.04511839,  0.00593663,  0.01428184, ...,  0.00868444,\n",
       "         0.00451184,  0.01017708],\n",
       "       [ 0.04069184,  0.00573958,  0.01328083, ...,  0.01044964,\n",
       "         0.00360333,  0.01037243]])"
      ]
     },
     "execution_count": 451,
     "metadata": {},
     "output_type": "execute_result"
    }
   ],
   "source": [
    "# testing the fitted model on the individual RMA exon intensities\n",
    "rma_tsid_ratio = np.array(by_flow.tsid_ratio).reshape(-1,1)\n",
    "rma_tsid2 = np.power(rma_tsid_ratio, 2)\n",
    "rma_square = np.concatenate((rma_tsid_ratio, rma_tsid2), axis=1)\n",
    "# note that RMA_norm is taken from a lower cell (in Gibbs sampling section) so that must be run first\n",
    "rma_matrix = RMA_norm[RMA_norm.columns[1:-2]].values.T\n",
    "rma_matrix.shape\n",
    "rma_matrix"
   ]
  },
  {
   "cell_type": "code",
   "execution_count": 446,
   "metadata": {
    "collapsed": false
   },
   "outputs": [
    {
     "data": {
      "text/plain": [
       "array([[ 0.04087542,  0.00507775,  0.01164833, ...,  0.0113592 ,\n",
       "         0.00484648,  0.01045183],\n",
       "       [ 0.04097497,  0.00508312,  0.01165705, ...,  0.01136561,\n",
       "         0.00486056,  0.01046297],\n",
       "       [ 0.04109846,  0.00508952,  0.01166758, ...,  0.01137309,\n",
       "         0.0048779 ,  0.01047678],\n",
       "       ..., \n",
       "       [ 0.04146719,  0.00510697,  0.01169725, ...,  0.01139231,\n",
       "         0.00492899,  0.01051797],\n",
       "       [ 0.04139044,  0.00510354,  0.0116913 , ...,  0.01138869,\n",
       "         0.00491845,  0.01050941],\n",
       "       [ 0.04109321,  0.00508926,  0.01166714, ...,  0.01137279,\n",
       "         0.00487717,  0.01047619]])"
      ]
     },
     "execution_count": 446,
     "metadata": {},
     "output_type": "execute_result"
    }
   ],
   "source": [
    "linmodel.predict(rma_square)"
   ]
  },
  {
   "cell_type": "code",
   "execution_count": 452,
   "metadata": {
    "collapsed": false
   },
   "outputs": [
    {
     "data": {
      "text/plain": [
       "-1.0696457047537187"
      ]
     },
     "execution_count": 452,
     "metadata": {},
     "output_type": "execute_result"
    }
   ],
   "source": [
    "# should return coefficient of determination - why is this negative?\n",
    "linmodel.score(rma_square, rma_matrix)"
   ]
  },
  {
   "cell_type": "code",
   "execution_count": 454,
   "metadata": {
    "collapsed": false
   },
   "outputs": [
    {
     "data": {
      "text/plain": [
       "-2.2797204113751495e-17"
      ]
     },
     "execution_count": 454,
     "metadata": {},
     "output_type": "execute_result"
    }
   ],
   "source": [
    "# verifying whether LinearRegression().score() actually returns 0 for null model -- yes it does within tiny error\n",
    "linmodel_null = linear_model.LinearRegression()\n",
    "linmodel_null.fit(X_basic, Y_mean)\n",
    "linmodel_null.score(rma_square, rma_matrix)"
   ]
  },
  {
   "cell_type": "markdown",
   "metadata": {},
   "source": [
    "## Gibbs Sampling\n"
   ]
  },
  {
   "cell_type": "markdown",
   "metadata": {},
   "source": [
    "The full gene product of DMD consists of 78 exons, each with its own copy number in each subject ($\\mathbf{C} = \\{c_1, c_2, ..., c_{78}\\}$), where $c_i \\in{1,2,3...}$ For this simple model, assume that the $c_i$ are distributed discrete uniformly with support $ \\{1,2,3\\}$. \n",
    "\n",
    "We also know \"intensity\" values across the exons $\\mathbf{X}= \\{x_1, x_2,..., x_{78}\\}$, and we let $$\\mathbf{P} = \\dfrac{\\mathbf{C}\\mathbf{X}}{\\sum_i c_ix_i} = \\{p_1, p_2, ..., p_{78}\\}$$ \n",
    "\n",
    "This generates probability values for the multinomial distribution from which we will sample the reads for a single simulated \"sequencing run\". \n",
    "\n",
    "Initialize the intensities $\\mathbf{X}$ (see X_probs above). Initialize $c_i$ values based on basic prior distribution. Assume 5000 reads per sample/subject and initialize a single sequencing run $Y = \\{y_1, y_2, ... y_{78}\\}$. When testing a real subject's data, we still use the known $\\mathbf{X}$ but use data $Y$ from the subject where $y_i$ represents the number of reads mapped to exon $i$.\n",
    "\n",
    "At each iteration $t$, sample $c_i^t$ from the posterior distribution\n",
    "$$f_{C^t|Y, C_{-i}^t}(c) = \\dfrac{\\Pi_{j=1}^{78} (p_j|c_i=c)^{y_j}}{\\sum_c \\Pi_{j=1}^{78} (p_j|c_i=c)^{y_j}} $$ \n",
    "where $$ C_{-i}^t = \\{ c_1^t,...c_{i-1}^t, c_{i+1}^{t-1}, ... c_{78}^{t-1} \\}$$\n",
    "\n",
    "Normally this expression would include the prior distribution over $c$ but it easily cancels out as the uniform. (This expression also does not include the multinomial constant). \n",
    "\n",
    "**Implementation considerations**: $\\Pi_j (p_j|c_i=c)^{y_j}$ can cause under/overflow in Python (or washout of values too close to 0), but trying to use the log of the posterior distribution leads to \n",
    "$$  \\sum y_j \\log (p_j|c_i=c) - \\log \\sum \\Pi_j (p_j|c_i=c)^{y_j}$$\n",
    "\n",
    "**Solution**: Convert to log space and divide by the maximal likelihood to normalize (and keep values from shrinking too close to 0):\n",
    "$$ \\dfrac{\\exp\\left(\\sum y_j \\log (p_j|c_i=c) - \\max_c \\sum y_j \\log (p_j|c_i=c)\\right)}{\\sum_c \\exp\\left(\\sum y_j \\log (p_j|c_i=c) - \\max_c \\sum y_j \\log (p_j|c_i=c)\\right)}$$ \n",
    "\n",
    "Store the $C^t$ values only for iterations $t=1000... 10,000$. This allows for a burn-in period of 1000 iterations during which the sampling distributions are likely to be least accurate. To reduce auto-correlation, only include every hundredth sampling in final analysis as well. For each exon $i$, count the proportions of samples falling into each possible copy number across the relevant subset of iterations. \n"
   ]
  },
  {
   "cell_type": "markdown",
   "metadata": {},
   "source": [
    "### Next Steps\n",
    "* Incorporate more complex and representative prior for the copy number distribution (in particular, there should be higher prior probability for 2 copies of exon)\n",
    "* Determine more accurate estimate of burn-in period (strange log-likelihood behavior, should converge as iterations increase)\n",
    "* Account for increased likelihood of copy number correlation between neighboring exons\n",
    "* Consider modifying prior for two exon deletion hotspots (around 45-50 and 18-20)\n",
    "* **Incorporate step for correcting for mixin-based discrepancies**\n"
   ]
  },
  {
   "cell_type": "code",
   "execution_count": 292,
   "metadata": {
    "collapsed": false
   },
   "outputs": [],
   "source": [
    "def generate_gibbs_df(cnv_support, X_probs, data=None, cnv=None, total_reads=5000, iterations=10000, burn_in=1000,\n",
    "                      df_wanted=True, exon_labels=None):\n",
    "    '''Performs Gibbs sampling given a support vector for CNVs, an intensity vector and subject data (optional)'''\n",
    "    if cnv is None:\n",
    "        # generate initial guess for exon copy numbers using uniform prior distribution\n",
    "        cnv = np.random.choice(cnv_support, size=len(X_probs)) \n",
    "    print cnv \n",
    "    normed_probs_first = np.multiply(cnv, X_probs) / np.sum(np.multiply(cnv, X_probs))\n",
    "    if data is None:\n",
    "        data = np.random.multinomial(total_reads, normed_probs_first)\n",
    "    gibbs_data = np.zeros((len(X_probs), iterations))\n",
    "    \n",
    "    likelihoods = np.zeros(iterations)\n",
    "    for i in range(iterations):\n",
    "        if (i+1) % (iterations / 20) == 0:\n",
    "            print 'Finished {} iterations'.format(i)\n",
    "        for exon in range(len(X_probs)):\n",
    "            test = np.zeros(len(cnv_support))\n",
    "            for value in cnv_support:\n",
    "                cnv[exon] = value\n",
    "                # get new normed probabilities given test value\n",
    "                normed_probs_test = np.multiply(cnv, X_probs) / np.sum(np.multiply(cnv, X_probs)) \n",
    "                log_likelihood =  np.sum(np.multiply(np.log(normed_probs_test), data))\n",
    "                test[value - 1] = log_likelihood\n",
    "            test = test - np.max(test)\n",
    "            sample_probs = np.exp(test)\n",
    "            sample_probs = sample_probs / np.sum(sample_probs)\n",
    "            new_cnv = np.random.choice(cnv_support, p = sample_probs)\n",
    "            cnv[exon] = new_cnv\n",
    "            gibbs_data[exon, i] = new_cnv\n",
    "        log_probs = np.log(np.multiply(cnv, X_probs) / np.sum(np.multiply(cnv, X_probs)))\n",
    "        likelihoods[i] = np.sum(np.multiply(log_probs, data))\n",
    "    \n",
    "    # get proportions using burn-in of 1000 iterations \n",
    "    gibbs_data_results = np.zeros((len(X_probs), len(cnv_support)))\n",
    "    for index in range(len(X_probs)):\n",
    "        # exclude samples before burn in and then take only every 100th sample to reduce autocorrelation\n",
    "        gibbs_slice = gibbs_data[index][burn_in:][::100]\n",
    "        gibbs_data_results[index] = np.bincount(gibbs_slice.astype(np.int64), \n",
    "                                                minlength=len(cnv_support)+1)[1:]\n",
    "    gibbs_data_results = gibbs_data_results / float(len(gibbs_slice))\n",
    "    \n",
    "    if df_wanted:\n",
    "        gibbs_df = pd.DataFrame(gibbs_data_results, columns =['copy_{}'.format(cnv) for cnv in cnv_support])\n",
    "        gibbs_df['Exon'] = exon_labels\n",
    "        return gibbs_data, gibbs_data_results, likelihoods, gibbs_df\n",
    "    \n",
    "    return gibbs_data, gibbs_data_results, likelihoods"
   ]
  },
  {
   "cell_type": "markdown",
   "metadata": {
    "collapsed": true
   },
   "source": [
    "## Rerunning Gibbs Sampling with varying intensity vectors\n",
    "The gibbs sampling done here will be performed with intensity vectors based on subsets of subjects with similar TSID_only ratios to the individual test subject. "
   ]
  },
  {
   "cell_type": "code",
   "execution_count": 391,
   "metadata": {
    "collapsed": false
   },
   "outputs": [
    {
     "name": "stdout",
     "output_type": "stream",
     "text": [
      "['M1']\n",
      "78\n"
     ]
    },
    {
     "data": {
      "text/html": [
       "<div>\n",
       "<table border=\"1\" class=\"dataframe\">\n",
       "  <thead>\n",
       "    <tr style=\"text-align: right;\">\n",
       "      <th>subject</th>\n",
       "      <th>Exon</th>\n",
       "      <th>FRMR-0070-444H</th>\n",
       "      <th>FRMR-0081-1987</th>\n",
       "      <th>FRMR-0085-579V</th>\n",
       "      <th>FRMR-00AG-860T</th>\n",
       "      <th>FRMR-00AW-8645</th>\n",
       "      <th>FRMR-00BB-772T</th>\n",
       "      <th>FRMR-00CS-821F</th>\n",
       "      <th>FRMR-00DM-853C</th>\n",
       "      <th>FRMR-00GC-803L</th>\n",
       "      <th>...</th>\n",
       "      <th>FRMR-00MS-704S</th>\n",
       "      <th>FRMR-00NC-7632</th>\n",
       "      <th>FRMR-00SA-876L</th>\n",
       "      <th>FRMR-00SB-851W</th>\n",
       "      <th>FRMR-00SC-714V</th>\n",
       "      <th>FRMR-00SD-679G</th>\n",
       "      <th>FRMR-00ST-841F</th>\n",
       "      <th>FRMR-00TS-8464</th>\n",
       "      <th>Mean</th>\n",
       "      <th>SD</th>\n",
       "    </tr>\n",
       "  </thead>\n",
       "  <tbody>\n",
       "    <tr>\n",
       "      <th>0</th>\n",
       "      <td>Ex1</td>\n",
       "      <td>0.039897</td>\n",
       "      <td>0.043291</td>\n",
       "      <td>0.038417</td>\n",
       "      <td>0.043620</td>\n",
       "      <td>0.039123</td>\n",
       "      <td>0.040485</td>\n",
       "      <td>0.039708</td>\n",
       "      <td>0.040878</td>\n",
       "      <td>0.045125</td>\n",
       "      <td>...</td>\n",
       "      <td>0.043579</td>\n",
       "      <td>0.046018</td>\n",
       "      <td>0.038485</td>\n",
       "      <td>0.039989</td>\n",
       "      <td>0.043555</td>\n",
       "      <td>0.037319</td>\n",
       "      <td>0.045118</td>\n",
       "      <td>0.040692</td>\n",
       "      <td>0.042155</td>\n",
       "      <td>0.002726</td>\n",
       "    </tr>\n",
       "    <tr>\n",
       "      <th>1</th>\n",
       "      <td>Ex2</td>\n",
       "      <td>0.004678</td>\n",
       "      <td>0.005073</td>\n",
       "      <td>0.005041</td>\n",
       "      <td>0.005331</td>\n",
       "      <td>0.005397</td>\n",
       "      <td>0.004894</td>\n",
       "      <td>0.004709</td>\n",
       "      <td>0.004108</td>\n",
       "      <td>0.005038</td>\n",
       "      <td>...</td>\n",
       "      <td>0.005191</td>\n",
       "      <td>0.004444</td>\n",
       "      <td>0.004449</td>\n",
       "      <td>0.005499</td>\n",
       "      <td>0.004628</td>\n",
       "      <td>0.006340</td>\n",
       "      <td>0.005937</td>\n",
       "      <td>0.005740</td>\n",
       "      <td>0.005039</td>\n",
       "      <td>0.000552</td>\n",
       "    </tr>\n",
       "    <tr>\n",
       "      <th>2</th>\n",
       "      <td>Ex3</td>\n",
       "      <td>0.012082</td>\n",
       "      <td>0.011451</td>\n",
       "      <td>0.011480</td>\n",
       "      <td>0.011187</td>\n",
       "      <td>0.011614</td>\n",
       "      <td>0.012285</td>\n",
       "      <td>0.012389</td>\n",
       "      <td>0.012783</td>\n",
       "      <td>0.012536</td>\n",
       "      <td>...</td>\n",
       "      <td>0.012038</td>\n",
       "      <td>0.012118</td>\n",
       "      <td>0.012041</td>\n",
       "      <td>0.012671</td>\n",
       "      <td>0.011442</td>\n",
       "      <td>0.010723</td>\n",
       "      <td>0.014282</td>\n",
       "      <td>0.013281</td>\n",
       "      <td>0.012197</td>\n",
       "      <td>0.000780</td>\n",
       "    </tr>\n",
       "    <tr>\n",
       "      <th>3</th>\n",
       "      <td>Ex4</td>\n",
       "      <td>0.018110</td>\n",
       "      <td>0.017262</td>\n",
       "      <td>0.017888</td>\n",
       "      <td>0.022636</td>\n",
       "      <td>0.017079</td>\n",
       "      <td>0.015429</td>\n",
       "      <td>0.021727</td>\n",
       "      <td>0.019059</td>\n",
       "      <td>0.020194</td>\n",
       "      <td>...</td>\n",
       "      <td>0.021530</td>\n",
       "      <td>0.021213</td>\n",
       "      <td>0.019180</td>\n",
       "      <td>0.017283</td>\n",
       "      <td>0.019932</td>\n",
       "      <td>0.015830</td>\n",
       "      <td>0.021847</td>\n",
       "      <td>0.021208</td>\n",
       "      <td>0.019499</td>\n",
       "      <td>0.002122</td>\n",
       "    </tr>\n",
       "    <tr>\n",
       "      <th>4</th>\n",
       "      <td>Ex5</td>\n",
       "      <td>0.009605</td>\n",
       "      <td>0.010441</td>\n",
       "      <td>0.010781</td>\n",
       "      <td>0.012763</td>\n",
       "      <td>0.009086</td>\n",
       "      <td>0.009238</td>\n",
       "      <td>0.011827</td>\n",
       "      <td>0.011468</td>\n",
       "      <td>0.009755</td>\n",
       "      <td>...</td>\n",
       "      <td>0.009813</td>\n",
       "      <td>0.008397</td>\n",
       "      <td>0.010155</td>\n",
       "      <td>0.009478</td>\n",
       "      <td>0.009228</td>\n",
       "      <td>0.010383</td>\n",
       "      <td>0.010177</td>\n",
       "      <td>0.010012</td>\n",
       "      <td>0.010142</td>\n",
       "      <td>0.000944</td>\n",
       "    </tr>\n",
       "  </tbody>\n",
       "</table>\n",
       "<p>5 rows × 25 columns</p>\n",
       "</div>"
      ],
      "text/plain": [
       "subject Exon  FRMR-0070-444H  FRMR-0081-1987  FRMR-0085-579V  FRMR-00AG-860T  \\\n",
       "0        Ex1        0.039897        0.043291        0.038417        0.043620   \n",
       "1        Ex2        0.004678        0.005073        0.005041        0.005331   \n",
       "2        Ex3        0.012082        0.011451        0.011480        0.011187   \n",
       "3        Ex4        0.018110        0.017262        0.017888        0.022636   \n",
       "4        Ex5        0.009605        0.010441        0.010781        0.012763   \n",
       "\n",
       "subject  FRMR-00AW-8645  FRMR-00BB-772T  FRMR-00CS-821F  FRMR-00DM-853C  \\\n",
       "0              0.039123        0.040485        0.039708        0.040878   \n",
       "1              0.005397        0.004894        0.004709        0.004108   \n",
       "2              0.011614        0.012285        0.012389        0.012783   \n",
       "3              0.017079        0.015429        0.021727        0.019059   \n",
       "4              0.009086        0.009238        0.011827        0.011468   \n",
       "\n",
       "subject  FRMR-00GC-803L    ...     FRMR-00MS-704S  FRMR-00NC-7632  \\\n",
       "0              0.045125    ...           0.043579        0.046018   \n",
       "1              0.005038    ...           0.005191        0.004444   \n",
       "2              0.012536    ...           0.012038        0.012118   \n",
       "3              0.020194    ...           0.021530        0.021213   \n",
       "4              0.009755    ...           0.009813        0.008397   \n",
       "\n",
       "subject  FRMR-00SA-876L  FRMR-00SB-851W  FRMR-00SC-714V  FRMR-00SD-679G  \\\n",
       "0              0.038485        0.039989        0.043555        0.037319   \n",
       "1              0.004449        0.005499        0.004628        0.006340   \n",
       "2              0.012041        0.012671        0.011442        0.010723   \n",
       "3              0.019180        0.017283        0.019932        0.015830   \n",
       "4              0.010155        0.009478        0.009228        0.010383   \n",
       "\n",
       "subject  FRMR-00ST-841F  FRMR-00TS-8464      Mean        SD  \n",
       "0              0.045118        0.040692  0.042155  0.002726  \n",
       "1              0.005937        0.005740  0.005039  0.000552  \n",
       "2              0.014282        0.013281  0.012197  0.000780  \n",
       "3              0.021847        0.021208  0.019499  0.002122  \n",
       "4              0.010177        0.010012  0.010142  0.000944  \n",
       "\n",
       "[5 rows x 25 columns]"
      ]
     },
     "execution_count": 391,
     "metadata": {},
     "output_type": "execute_result"
    }
   ],
   "source": [
    "# use RMA samples for initial intensity vector -- note that all RMA individuals used the M1 mixin panel\n",
    "# this is only the females in RMA\n",
    "print coverage_df_RMA.sequencer.unique()\n",
    "rma_ex = coverage_df_RMA[gibbs_columns]\n",
    "RMA_norm = reshape_df(rma_ex, include_stats=True)\n",
    "RMA_norm.head()\n",
    "X_probs = np.array(RMA_norm.Mean)\n",
    "print len(X_probs)\n",
    "X_probs\n",
    "RMA_norm.head()"
   ]
  },
  {
   "cell_type": "code",
   "execution_count": 303,
   "metadata": {
    "collapsed": false
   },
   "outputs": [
    {
     "data": {
      "text/html": [
       "<div>\n",
       "<table border=\"1\" class=\"dataframe\">\n",
       "  <thead>\n",
       "    <tr style=\"text-align: right;\">\n",
       "      <th>subject</th>\n",
       "      <th>Exon</th>\n",
       "      <th>FRMR-00AW-8645</th>\n",
       "      <th>FRMR-00GC-803L</th>\n",
       "      <th>FRMR-00JD-7770</th>\n",
       "      <th>FRMR-00JM-865U</th>\n",
       "      <th>FRMR-00MM-839J</th>\n",
       "      <th>FRMR-00MS-704S</th>\n",
       "      <th>FRMR-00NC-7632</th>\n",
       "      <th>Mean</th>\n",
       "      <th>SD</th>\n",
       "    </tr>\n",
       "  </thead>\n",
       "  <tbody>\n",
       "    <tr>\n",
       "      <th>0</th>\n",
       "      <td>Ex1</td>\n",
       "      <td>0.039123</td>\n",
       "      <td>0.045125</td>\n",
       "      <td>0.045128</td>\n",
       "      <td>0.044675</td>\n",
       "      <td>0.044764</td>\n",
       "      <td>0.043579</td>\n",
       "      <td>0.046018</td>\n",
       "      <td>0.044059</td>\n",
       "      <td>0.002124</td>\n",
       "    </tr>\n",
       "    <tr>\n",
       "      <th>1</th>\n",
       "      <td>Ex2</td>\n",
       "      <td>0.005397</td>\n",
       "      <td>0.005038</td>\n",
       "      <td>0.005161</td>\n",
       "      <td>0.005173</td>\n",
       "      <td>0.004583</td>\n",
       "      <td>0.005191</td>\n",
       "      <td>0.004444</td>\n",
       "      <td>0.004998</td>\n",
       "      <td>0.000324</td>\n",
       "    </tr>\n",
       "    <tr>\n",
       "      <th>2</th>\n",
       "      <td>Ex3</td>\n",
       "      <td>0.011614</td>\n",
       "      <td>0.012536</td>\n",
       "      <td>0.012873</td>\n",
       "      <td>0.012155</td>\n",
       "      <td>0.011836</td>\n",
       "      <td>0.012038</td>\n",
       "      <td>0.012118</td>\n",
       "      <td>0.012167</td>\n",
       "      <td>0.000391</td>\n",
       "    </tr>\n",
       "    <tr>\n",
       "      <th>3</th>\n",
       "      <td>Ex4</td>\n",
       "      <td>0.017079</td>\n",
       "      <td>0.020194</td>\n",
       "      <td>0.020702</td>\n",
       "      <td>0.021155</td>\n",
       "      <td>0.020224</td>\n",
       "      <td>0.021530</td>\n",
       "      <td>0.021213</td>\n",
       "      <td>0.020300</td>\n",
       "      <td>0.001395</td>\n",
       "    </tr>\n",
       "    <tr>\n",
       "      <th>4</th>\n",
       "      <td>Ex5</td>\n",
       "      <td>0.009086</td>\n",
       "      <td>0.009755</td>\n",
       "      <td>0.010380</td>\n",
       "      <td>0.010345</td>\n",
       "      <td>0.010234</td>\n",
       "      <td>0.009813</td>\n",
       "      <td>0.008397</td>\n",
       "      <td>0.009716</td>\n",
       "      <td>0.000682</td>\n",
       "    </tr>\n",
       "  </tbody>\n",
       "</table>\n",
       "</div>"
      ],
      "text/plain": [
       "subject Exon  FRMR-00AW-8645  FRMR-00GC-803L  FRMR-00JD-7770  FRMR-00JM-865U  \\\n",
       "0        Ex1        0.039123        0.045125        0.045128        0.044675   \n",
       "1        Ex2        0.005397        0.005038        0.005161        0.005173   \n",
       "2        Ex3        0.011614        0.012536        0.012873        0.012155   \n",
       "3        Ex4        0.017079        0.020194        0.020702        0.021155   \n",
       "4        Ex5        0.009086        0.009755        0.010380        0.010345   \n",
       "\n",
       "subject  FRMR-00MM-839J  FRMR-00MS-704S  FRMR-00NC-7632      Mean        SD  \n",
       "0              0.044764        0.043579        0.046018  0.044059  0.002124  \n",
       "1              0.004583        0.005191        0.004444  0.004998  0.000324  \n",
       "2              0.011836        0.012038        0.012118  0.012167  0.000391  \n",
       "3              0.020224        0.021530        0.021213  0.020300  0.001395  \n",
       "4              0.010234        0.009813        0.008397  0.009716  0.000682  "
      ]
     },
     "execution_count": 303,
     "metadata": {},
     "output_type": "execute_result"
    }
   ],
   "source": [
    "# more refined subset based on tsid_ratios\n",
    "gibbs_columns = ['subject'] + [column for column in rma_subset.columns if 'Ex' in column]\n",
    "\n",
    "rma38 = rma_subset[gibbs_columns]\n",
    "rma38_norm = reshape_df(rma38, include_stats=True)\n",
    "X_probs38 = np.array(rma38_norm.Mean)\n",
    "rma38_norm.head()"
   ]
  },
  {
   "cell_type": "code",
   "execution_count": 346,
   "metadata": {
    "collapsed": false
   },
   "outputs": [
    {
     "data": {
      "text/html": [
       "<div>\n",
       "<table border=\"1\" class=\"dataframe\">\n",
       "  <thead>\n",
       "    <tr style=\"text-align: right;\">\n",
       "      <th>subject</th>\n",
       "      <th>Exon</th>\n",
       "      <th>FGPC-1PR1-SON4</th>\n",
       "      <th>FGPC-INSR-YI4C</th>\n",
       "      <th>Mean</th>\n",
       "      <th>SD</th>\n",
       "    </tr>\n",
       "  </thead>\n",
       "  <tbody>\n",
       "    <tr>\n",
       "      <th>0</th>\n",
       "      <td>Ex1</td>\n",
       "      <td>0.050868</td>\n",
       "      <td>0.050952</td>\n",
       "      <td>0.050910</td>\n",
       "      <td>0.000042</td>\n",
       "    </tr>\n",
       "    <tr>\n",
       "      <th>1</th>\n",
       "      <td>Ex2</td>\n",
       "      <td>0.006013</td>\n",
       "      <td>0.006189</td>\n",
       "      <td>0.006101</td>\n",
       "      <td>0.000088</td>\n",
       "    </tr>\n",
       "    <tr>\n",
       "      <th>2</th>\n",
       "      <td>Ex3</td>\n",
       "      <td>0.011639</td>\n",
       "      <td>0.011508</td>\n",
       "      <td>0.011573</td>\n",
       "      <td>0.000066</td>\n",
       "    </tr>\n",
       "    <tr>\n",
       "      <th>3</th>\n",
       "      <td>Ex4</td>\n",
       "      <td>0.018458</td>\n",
       "      <td>0.020505</td>\n",
       "      <td>0.019482</td>\n",
       "      <td>0.001024</td>\n",
       "    </tr>\n",
       "    <tr>\n",
       "      <th>4</th>\n",
       "      <td>Ex5</td>\n",
       "      <td>0.010982</td>\n",
       "      <td>0.012079</td>\n",
       "      <td>0.011531</td>\n",
       "      <td>0.000549</td>\n",
       "    </tr>\n",
       "  </tbody>\n",
       "</table>\n",
       "</div>"
      ],
      "text/plain": [
       "subject Exon  FGPC-1PR1-SON4  FGPC-INSR-YI4C      Mean        SD\n",
       "0        Ex1        0.050868        0.050952  0.050910  0.000042\n",
       "1        Ex2        0.006013        0.006189  0.006101  0.000088\n",
       "2        Ex3        0.011639        0.011508  0.011573  0.000066\n",
       "3        Ex4        0.018458        0.020505  0.019482  0.001024\n",
       "4        Ex5        0.010982        0.012079  0.011531  0.000549"
      ]
     },
     "execution_count": 346,
     "metadata": {},
     "output_type": "execute_result"
    }
   ],
   "source": [
    "# subset for subject J0F1 \n",
    "m1_43 = m1_subset43[gibbs_columns]\n",
    "m1_43_norm = reshape_df(m1_43, include_stats=True)\n",
    "X_probs43 = np.array(m1_43_norm.Mean)\n",
    "m1_43_norm.head()"
   ]
  },
  {
   "cell_type": "code",
   "execution_count": 254,
   "metadata": {
    "collapsed": false
   },
   "outputs": [
    {
     "name": "stderr",
     "output_type": "stream",
     "text": [
      "TSO only: 1660 intervals over 356613 bp\n",
      "TSID only: 154 intervals over 161606 bp\n",
      "Finished parsing all 6 subjects\n",
      "165124 reads were skipped due to outside_of_exon\n",
      "4612 reads were skipped due to MAPQ below 60\n"
     ]
    }
   ],
   "source": [
    "# generating coverage counts for superset of exons\n",
    "reload(cov)\n",
    "test_subjects_num = cov.coverageMatrix().create_coverage_matrix(tsid_exons_merged, \n",
    "                                                                tsid_exon_labels, bam_dir='../bams/test_subjects')"
   ]
  },
  {
   "cell_type": "code",
   "execution_count": 286,
   "metadata": {
    "collapsed": false
   },
   "outputs": [
    {
     "name": "stderr",
     "output_type": "stream",
     "text": [
      "TSO only: 1660 intervals over 356613 bp\n",
      "TSID only: 154 intervals over 161606 bp\n",
      "Finished parsing all 6 subjects\n",
      "187493 reads were skipped due to outside_of_exon\n",
      "4492 reads were skipped due to MAPQ below 60\n"
     ]
    },
    {
     "name": "stdout",
     "output_type": "stream",
     "text": [
      "CPU times: user 5.51 s, sys: 102 ms, total: 5.61 s\n",
      "Wall time: 5.69 s\n"
     ]
    }
   ],
   "source": [
    "%%time\n",
    "# generating coverage counts for only primary transcript exons, note that this will run slowly if coverageMatrix()\n",
    "# code has not been updated \n",
    "reload(cov)\n",
    "test_subjects_prim = cov.coverageMatrix().create_coverage_matrix(DMD_exons_merged, \n",
    "                                                                 exon_labels, bam_dir='../bams/test_subjects')"
   ]
  },
  {
   "cell_type": "code",
   "execution_count": 287,
   "metadata": {
    "collapsed": false
   },
   "outputs": [
    {
     "name": "stdout",
     "output_type": "stream",
     "text": [
      "['FGPC-0000-444F' 'FGPC-0000-444F_dup' 'FGPC-4ZPF-J0F1'\n",
      " 'FGPC-4ZPF-J0F1_del' 'FPWB-0000-822R' 'FPWB-0000-822R_del']\n",
      "[datetime.date(2016, 6, 24) datetime.date(2017, 2, 17)\n",
      " datetime.date(2016, 6, 25)]\n"
     ]
    },
    {
     "data": {
      "text/html": [
       "<div>\n",
       "<table border=\"1\" class=\"dataframe\">\n",
       "  <thead>\n",
       "    <tr style=\"text-align: right;\">\n",
       "      <th></th>\n",
       "      <th>id</th>\n",
       "      <th>subject</th>\n",
       "      <th>specimen</th>\n",
       "      <th>sample</th>\n",
       "      <th>gender</th>\n",
       "      <th>sequencer</th>\n",
       "      <th>flow_cell_id</th>\n",
       "      <th>lane</th>\n",
       "      <th>bwa_version</th>\n",
       "      <th>date_modified</th>\n",
       "      <th>TSID_only</th>\n",
       "      <th>TSO_only</th>\n",
       "    </tr>\n",
       "  </thead>\n",
       "  <tbody>\n",
       "    <tr>\n",
       "      <th>0</th>\n",
       "      <td>FGPC-0000-444F_1-M1-1_H5FGFAFXX-L004</td>\n",
       "      <td>FGPC-0000-444F</td>\n",
       "      <td>FGPC-0000-444F_1</td>\n",
       "      <td>FGPC-0000-444F_1-M1-1</td>\n",
       "      <td>F</td>\n",
       "      <td>M1</td>\n",
       "      <td>H5FGFAFXX</td>\n",
       "      <td>L004</td>\n",
       "      <td>0.7.13-r1126</td>\n",
       "      <td>2016-06-24 22:20:44</td>\n",
       "      <td>55974</td>\n",
       "      <td>92663</td>\n",
       "    </tr>\n",
       "    <tr>\n",
       "      <th>1</th>\n",
       "      <td>FGPC-0000-444F_1-M1-1_H5FGFAFXX-L002</td>\n",
       "      <td>FGPC-0000-444F</td>\n",
       "      <td>FGPC-0000-444F_1</td>\n",
       "      <td>FGPC-0000-444F_1-M1-1</td>\n",
       "      <td>F</td>\n",
       "      <td>M1</td>\n",
       "      <td>H5FGFAFXX</td>\n",
       "      <td>L002</td>\n",
       "      <td>0.7.13-r1126</td>\n",
       "      <td>2016-06-24 22:20:44</td>\n",
       "      <td>59880</td>\n",
       "      <td>97132</td>\n",
       "    </tr>\n",
       "    <tr>\n",
       "      <th>2</th>\n",
       "      <td>FGPC-0000-444F_1-M1-1_H5FGFAFXX-L003</td>\n",
       "      <td>FGPC-0000-444F</td>\n",
       "      <td>FGPC-0000-444F_1</td>\n",
       "      <td>FGPC-0000-444F_1-M1-1</td>\n",
       "      <td>F</td>\n",
       "      <td>M1</td>\n",
       "      <td>H5FGFAFXX</td>\n",
       "      <td>L003</td>\n",
       "      <td>0.7.13-r1126</td>\n",
       "      <td>2016-06-24 22:20:44</td>\n",
       "      <td>57005</td>\n",
       "      <td>92448</td>\n",
       "    </tr>\n",
       "    <tr>\n",
       "      <th>3</th>\n",
       "      <td>FGPC-0000-444F_1-M1-1_H5FGFAFXX-L001</td>\n",
       "      <td>FGPC-0000-444F</td>\n",
       "      <td>FGPC-0000-444F_1</td>\n",
       "      <td>FGPC-0000-444F_1-M1-1</td>\n",
       "      <td>F</td>\n",
       "      <td>M1</td>\n",
       "      <td>H5FGFAFXX</td>\n",
       "      <td>L001</td>\n",
       "      <td>0.7.13-r1126</td>\n",
       "      <td>2016-06-24 22:20:44</td>\n",
       "      <td>59975</td>\n",
       "      <td>97833</td>\n",
       "    </tr>\n",
       "    <tr>\n",
       "      <th>4</th>\n",
       "      <td>FGPC-0000-444F_1-M1-1_H5FGFAFXX-L004</td>\n",
       "      <td>FGPC-0000-444F_dup</td>\n",
       "      <td>FGPC-0000-444F_dup_1</td>\n",
       "      <td>FGPC-0000-444F_dup_1-M1-1</td>\n",
       "      <td>F</td>\n",
       "      <td>M1</td>\n",
       "      <td>H5FGFAFXX</td>\n",
       "      <td>L004</td>\n",
       "      <td>0.7.13-r1126</td>\n",
       "      <td>2017-02-17 17:23:06</td>\n",
       "      <td>55974</td>\n",
       "      <td>92663</td>\n",
       "    </tr>\n",
       "  </tbody>\n",
       "</table>\n",
       "</div>"
      ],
      "text/plain": [
       "                                     id             subject  \\\n",
       "0  FGPC-0000-444F_1-M1-1_H5FGFAFXX-L004      FGPC-0000-444F   \n",
       "1  FGPC-0000-444F_1-M1-1_H5FGFAFXX-L002      FGPC-0000-444F   \n",
       "2  FGPC-0000-444F_1-M1-1_H5FGFAFXX-L003      FGPC-0000-444F   \n",
       "3  FGPC-0000-444F_1-M1-1_H5FGFAFXX-L001      FGPC-0000-444F   \n",
       "4  FGPC-0000-444F_1-M1-1_H5FGFAFXX-L004  FGPC-0000-444F_dup   \n",
       "\n",
       "               specimen                     sample gender sequencer  \\\n",
       "0      FGPC-0000-444F_1      FGPC-0000-444F_1-M1-1      F        M1   \n",
       "1      FGPC-0000-444F_1      FGPC-0000-444F_1-M1-1      F        M1   \n",
       "2      FGPC-0000-444F_1      FGPC-0000-444F_1-M1-1      F        M1   \n",
       "3      FGPC-0000-444F_1      FGPC-0000-444F_1-M1-1      F        M1   \n",
       "4  FGPC-0000-444F_dup_1  FGPC-0000-444F_dup_1-M1-1      F        M1   \n",
       "\n",
       "  flow_cell_id  lane   bwa_version       date_modified  TSID_only  TSO_only  \n",
       "0    H5FGFAFXX  L004  0.7.13-r1126 2016-06-24 22:20:44      55974     92663  \n",
       "1    H5FGFAFXX  L002  0.7.13-r1126 2016-06-24 22:20:44      59880     97132  \n",
       "2    H5FGFAFXX  L003  0.7.13-r1126 2016-06-24 22:20:44      57005     92448  \n",
       "3    H5FGFAFXX  L001  0.7.13-r1126 2016-06-24 22:20:44      59975     97833  \n",
       "4    H5FGFAFXX  L004  0.7.13-r1126 2017-02-17 17:23:06      55974     92663  "
      ]
     },
     "execution_count": 287,
     "metadata": {},
     "output_type": "execute_result"
    }
   ],
   "source": [
    "# test_subjects = pd.DataFrame(coverage_matrix[1:], columns=coverage_matrix[0])\n",
    "# test_subjects_num = test_subjects.apply(lambda x: pd.to_numeric(x, errors='ignore'))\n",
    "test_subjects_prim.date_modified = pd.to_datetime(test_subjects_prim.date_modified, unit='s')\n",
    "test_subjects_prim['date'] = test_subjects_prim.date_modified.dt.date\n",
    "# drop unnecessary columns (is_rerun, and coding regions)\n",
    "# test_subjects_num.drop(['is_rerun'], axis=1, inplace=True)\n",
    "test_subjects_sub = test_subjects_prim[gibbs_columns]\n",
    "test_subjects_rel = test_subjects_num[test_subjects_num.columns[:12]]\n",
    "# test_subjects_rel['tsid_ratio'] = test_subjects_rel.TSID_only / (test_subjects_rel.TSID_only + test_subjects_rel.TSO_only)\n",
    "print test_subjects_num.subject.unique()\n",
    "print test_subjects_num.date.unique()\n",
    "test_subjects_rel.head()"
   ]
  },
  {
   "cell_type": "code",
   "execution_count": 300,
   "metadata": {
    "collapsed": false
   },
   "outputs": [
    {
     "data": {
      "text/html": [
       "<div>\n",
       "<table border=\"1\" class=\"dataframe\">\n",
       "  <thead>\n",
       "    <tr style=\"text-align: right;\">\n",
       "      <th></th>\n",
       "      <th>Ex1</th>\n",
       "      <th>Ex2</th>\n",
       "      <th>Ex3</th>\n",
       "      <th>Ex4</th>\n",
       "      <th>Ex5</th>\n",
       "      <th>Ex6</th>\n",
       "      <th>Ex7</th>\n",
       "      <th>Ex8</th>\n",
       "      <th>Ex9</th>\n",
       "      <th>Ex10</th>\n",
       "      <th>...</th>\n",
       "      <th>Ex70</th>\n",
       "      <th>Ex71</th>\n",
       "      <th>Ex72</th>\n",
       "      <th>Ex73</th>\n",
       "      <th>Ex74</th>\n",
       "      <th>Ex75</th>\n",
       "      <th>Ex76</th>\n",
       "      <th>Ex77</th>\n",
       "      <th>Ex78</th>\n",
       "      <th>Ex79</th>\n",
       "    </tr>\n",
       "    <tr>\n",
       "      <th>subject</th>\n",
       "      <th></th>\n",
       "      <th></th>\n",
       "      <th></th>\n",
       "      <th></th>\n",
       "      <th></th>\n",
       "      <th></th>\n",
       "      <th></th>\n",
       "      <th></th>\n",
       "      <th></th>\n",
       "      <th></th>\n",
       "      <th></th>\n",
       "      <th></th>\n",
       "      <th></th>\n",
       "      <th></th>\n",
       "      <th></th>\n",
       "      <th></th>\n",
       "      <th></th>\n",
       "      <th></th>\n",
       "      <th></th>\n",
       "      <th></th>\n",
       "      <th></th>\n",
       "    </tr>\n",
       "  </thead>\n",
       "  <tbody>\n",
       "    <tr>\n",
       "      <th>FGPC-0000-444F</th>\n",
       "      <td>2266</td>\n",
       "      <td>306</td>\n",
       "      <td>623</td>\n",
       "      <td>944</td>\n",
       "      <td>591</td>\n",
       "      <td>714</td>\n",
       "      <td>1341</td>\n",
       "      <td>1064</td>\n",
       "      <td>411</td>\n",
       "      <td>715</td>\n",
       "      <td>...</td>\n",
       "      <td>659</td>\n",
       "      <td>272</td>\n",
       "      <td>729</td>\n",
       "      <td>631</td>\n",
       "      <td>847</td>\n",
       "      <td>523</td>\n",
       "      <td>424</td>\n",
       "      <td>622</td>\n",
       "      <td>292</td>\n",
       "      <td>552</td>\n",
       "    </tr>\n",
       "    <tr>\n",
       "      <th>FGPC-0000-444F_dup</th>\n",
       "      <td>2266</td>\n",
       "      <td>306</td>\n",
       "      <td>623</td>\n",
       "      <td>944</td>\n",
       "      <td>591</td>\n",
       "      <td>714</td>\n",
       "      <td>1341</td>\n",
       "      <td>1064</td>\n",
       "      <td>411</td>\n",
       "      <td>715</td>\n",
       "      <td>...</td>\n",
       "      <td>659</td>\n",
       "      <td>272</td>\n",
       "      <td>729</td>\n",
       "      <td>631</td>\n",
       "      <td>847</td>\n",
       "      <td>523</td>\n",
       "      <td>424</td>\n",
       "      <td>622</td>\n",
       "      <td>292</td>\n",
       "      <td>552</td>\n",
       "    </tr>\n",
       "    <tr>\n",
       "      <th>FGPC-4ZPF-J0F1</th>\n",
       "      <td>1649</td>\n",
       "      <td>118</td>\n",
       "      <td>385</td>\n",
       "      <td>558</td>\n",
       "      <td>378</td>\n",
       "      <td>554</td>\n",
       "      <td>720</td>\n",
       "      <td>603</td>\n",
       "      <td>257</td>\n",
       "      <td>455</td>\n",
       "      <td>...</td>\n",
       "      <td>347</td>\n",
       "      <td>178</td>\n",
       "      <td>442</td>\n",
       "      <td>363</td>\n",
       "      <td>466</td>\n",
       "      <td>265</td>\n",
       "      <td>237</td>\n",
       "      <td>391</td>\n",
       "      <td>179</td>\n",
       "      <td>446</td>\n",
       "    </tr>\n",
       "    <tr>\n",
       "      <th>FGPC-4ZPF-J0F1_del</th>\n",
       "      <td>1649</td>\n",
       "      <td>118</td>\n",
       "      <td>385</td>\n",
       "      <td>558</td>\n",
       "      <td>378</td>\n",
       "      <td>554</td>\n",
       "      <td>720</td>\n",
       "      <td>603</td>\n",
       "      <td>257</td>\n",
       "      <td>455</td>\n",
       "      <td>...</td>\n",
       "      <td>347</td>\n",
       "      <td>178</td>\n",
       "      <td>442</td>\n",
       "      <td>363</td>\n",
       "      <td>466</td>\n",
       "      <td>265</td>\n",
       "      <td>237</td>\n",
       "      <td>391</td>\n",
       "      <td>179</td>\n",
       "      <td>446</td>\n",
       "    </tr>\n",
       "    <tr>\n",
       "      <th>FPWB-0000-822R</th>\n",
       "      <td>2986</td>\n",
       "      <td>258</td>\n",
       "      <td>761</td>\n",
       "      <td>1123</td>\n",
       "      <td>617</td>\n",
       "      <td>1150</td>\n",
       "      <td>1462</td>\n",
       "      <td>1247</td>\n",
       "      <td>451</td>\n",
       "      <td>960</td>\n",
       "      <td>...</td>\n",
       "      <td>799</td>\n",
       "      <td>358</td>\n",
       "      <td>758</td>\n",
       "      <td>562</td>\n",
       "      <td>990</td>\n",
       "      <td>469</td>\n",
       "      <td>518</td>\n",
       "      <td>698</td>\n",
       "      <td>308</td>\n",
       "      <td>696</td>\n",
       "    </tr>\n",
       "  </tbody>\n",
       "</table>\n",
       "<p>5 rows × 78 columns</p>\n",
       "</div>"
      ],
      "text/plain": [
       "                     Ex1  Ex2  Ex3   Ex4  Ex5   Ex6   Ex7   Ex8  Ex9  Ex10  \\\n",
       "subject                                                                      \n",
       "FGPC-0000-444F      2266  306  623   944  591   714  1341  1064  411   715   \n",
       "FGPC-0000-444F_dup  2266  306  623   944  591   714  1341  1064  411   715   \n",
       "FGPC-4ZPF-J0F1      1649  118  385   558  378   554   720   603  257   455   \n",
       "FGPC-4ZPF-J0F1_del  1649  118  385   558  378   554   720   603  257   455   \n",
       "FPWB-0000-822R      2986  258  761  1123  617  1150  1462  1247  451   960   \n",
       "\n",
       "                    ...   Ex70  Ex71  Ex72  Ex73  Ex74  Ex75  Ex76  Ex77  \\\n",
       "subject             ...                                                    \n",
       "FGPC-0000-444F      ...    659   272   729   631   847   523   424   622   \n",
       "FGPC-0000-444F_dup  ...    659   272   729   631   847   523   424   622   \n",
       "FGPC-4ZPF-J0F1      ...    347   178   442   363   466   265   237   391   \n",
       "FGPC-4ZPF-J0F1_del  ...    347   178   442   363   466   265   237   391   \n",
       "FPWB-0000-822R      ...    799   358   758   562   990   469   518   698   \n",
       "\n",
       "                    Ex78  Ex79  \n",
       "subject                         \n",
       "FGPC-0000-444F       292   552  \n",
       "FGPC-0000-444F_dup   292   552  \n",
       "FGPC-4ZPF-J0F1       179   446  \n",
       "FGPC-4ZPF-J0F1_del   179   446  \n",
       "FPWB-0000-822R       308   696  \n",
       "\n",
       "[5 rows x 78 columns]"
      ]
     },
     "execution_count": 300,
     "metadata": {},
     "output_type": "execute_result"
    }
   ],
   "source": [
    "subject_norm, subject_counts = reshape_df(test_subjects_sub, df_counts_wanted=True)\n",
    "subject_counts.head()"
   ]
  },
  {
   "cell_type": "code",
   "execution_count": 301,
   "metadata": {
    "collapsed": false
   },
   "outputs": [
    {
     "data": {
      "text/plain": [
       "array([2266,  306,  623,  944,  591,  714, 1341, 1064,  411,  715,  677,\n",
       "        519,  443,  549,  702,  448,  784,  433,  926, 1608,  664,  933,\n",
       "        629,  541, 1369,  558, 1061,  528,  821,  500,  684,  525,  947,\n",
       "        485,  638,  645,  667,  497,  642,  689,  641,  480,  709,  901,\n",
       "       1494,  468, 1202,  630, 1307,  454,  546,  414,  961,  415, 1196,\n",
       "        447,  414,  503,  659, 1068,  588,  942,  365,  712, 1028,  713,\n",
       "       1048,  506,  659,  272,  729,  631,  847,  523,  424,  622,  292,\n",
       "        552])"
      ]
     },
     "execution_count": 301,
     "metadata": {},
     "output_type": "execute_result"
    }
   ],
   "source": [
    "data_dict = {subject.split('-')[-1]: np.array(subject_counts.loc[subject]) for subject in test_subjects_sub.subject.unique()}\n",
    "data_dict['444F']"
   ]
  },
  {
   "cell_type": "code",
   "execution_count": 307,
   "metadata": {
    "collapsed": false,
    "scrolled": true
   },
   "outputs": [
    {
     "name": "stdout",
     "output_type": "stream",
     "text": [
      "[2 2 1 3 2 3 1 2 3 1 3 3 3 1 1 3 2 2 3 3 2 1 2 3 1 3 3 1 3 1 3 3 1 2 3 3 1\n",
      " 2 1 3 3 1 1 1 2 3 3 1 2 2 2 2 3 1 3 3 3 2 2 2 2 3 3 1 3 2 2 1 1 1 3 1 1 3\n",
      " 2 2 1 2]\n",
      "Finished 499 iterations\n",
      "Finished 999 iterations\n",
      "Finished 1499 iterations\n",
      "Finished 1999 iterations\n",
      "Finished 2499 iterations\n",
      "Finished 2999 iterations\n",
      "Finished 3499 iterations\n",
      "Finished 3999 iterations\n",
      "Finished 4499 iterations\n",
      "Finished 4999 iterations\n",
      "Finished 5499 iterations\n",
      "Finished 5999 iterations\n",
      "Finished 6499 iterations\n",
      "Finished 6999 iterations\n",
      "Finished 7499 iterations\n",
      "Finished 7999 iterations\n",
      "Finished 8499 iterations\n",
      "Finished 8999 iterations\n",
      "Finished 9499 iterations\n",
      "Finished 9999 iterations\n"
     ]
    }
   ],
   "source": [
    "# with random cnv distribution\n",
    "cnv_support = [1,2,3]\n",
    "gibbs_data_822R2, gibbs_data_results_822R2, logliks_822R2, gibbs_df_822R2 = generate_gibbs_df(cnv_support, \n",
    "                                                                        X_probs38, data=data_dict['822R_del'], \n",
    "                                                                        iterations=10000, exon_labels=exon_labels)"
   ]
  },
  {
   "cell_type": "code",
   "execution_count": 308,
   "metadata": {
    "collapsed": false,
    "scrolled": true
   },
   "outputs": [
    {
     "name": "stdout",
     "output_type": "stream",
     "text": [
      "[3 2 3 2 2 2 1 1 3 2 3 2 1 2 1 1 3 2 3 1 2 3 1 1 1 3 2 1 1 1 3 1 1 3 1 2 3\n",
      " 2 3 2 3 2 2 3 2 1 2 1 3 3 1 2 1 1 1 3 2 3 2 3 3 1 2 1 1 2 2 3 2 1 2 1 2 2\n",
      " 1 2 3 3]\n",
      "Finished 499 iterations\n",
      "Finished 999 iterations\n",
      "Finished 1499 iterations\n",
      "Finished 1999 iterations\n",
      "Finished 2499 iterations\n",
      "Finished 2999 iterations\n",
      "Finished 3499 iterations\n",
      "Finished 3999 iterations\n",
      "Finished 4499 iterations\n",
      "Finished 4999 iterations\n",
      "Finished 5499 iterations\n",
      "Finished 5999 iterations\n",
      "Finished 6499 iterations\n",
      "Finished 6999 iterations\n",
      "Finished 7499 iterations\n",
      "Finished 7999 iterations\n",
      "Finished 8499 iterations\n",
      "Finished 8999 iterations\n",
      "Finished 9499 iterations\n",
      "Finished 9999 iterations\n"
     ]
    }
   ],
   "source": [
    "# with random cnv distribution\n",
    "cnv_support = [1,2,3]\n",
    "gibbs_data_822Rc, gibbs_data_results_822Rc, logliks_822Rc, gibbs_df_822Rc = generate_gibbs_df(cnv_support, \n",
    "                                                                        X_probs38, data=data_dict['822R'], \n",
    "                                                                        iterations=10000, exon_labels=exon_labels)"
   ]
  },
  {
   "cell_type": "code",
   "execution_count": 305,
   "metadata": {
    "collapsed": true
   },
   "outputs": [],
   "source": [
    "# reference: http://chrisalbon.com/python/matplotlib_percentage_stacked_bar_plot.html\n",
    "def create_stacked_bars(df, title): \n",
    "    f, ax = plt.subplots(1, figsize=(10,5))\n",
    "    bar_width = 1\n",
    "\n",
    "    bar_l = [i for i in range(len(df['copy_1']))] \n",
    "    tick_pos = [i + bar_width for i in bar_l] \n",
    "\n",
    "    # loop through these later\n",
    "    # Create a bar chart in position bar_1\n",
    "    ax.bar(bar_l, df.copy_1, label='1 Copy', alpha=0.9, color='#019600', width=bar_width, edgecolor='white')\n",
    "\n",
    "    ax.bar(bar_l, df.copy_2, bottom=df.copy_1, label='2 Copy', alpha=0.9, color='#3C5F5A', width=bar_width,\n",
    "           edgecolor='white')\n",
    "\n",
    "    ax.bar(bar_l, df.copy_3, bottom=[i+j for i,j in zip(df.copy_1, df.copy_2)], label='3 Copy',\n",
    "           alpha=0.9, color='#219AD8', width=bar_width, edgecolor='white')\n",
    "\n",
    "    # getting just the number designation for each exon group as its label\n",
    "    plt.xticks(tick_pos, df['Exon'].str.split('x').str[-1])\n",
    "    ax.set_ylabel(\"Probabilities\")\n",
    "    ax.set_xlabel(\"Exons\")\n",
    "\n",
    "    plt.xlim([min(tick_pos)-2*bar_width, max(tick_pos)+bar_width])\n",
    "    plt.ylim(-0.1, 1.1)\n",
    "\n",
    "    plt.setp(plt.gca().get_xticklabels(), rotation=90, horizontalalignment='right')\n",
    "    plt.legend(loc='upper center', bbox_to_anchor=(0.5, -0.15),\n",
    "               fancybox=True, shadow=True, ncol=3)\n",
    "    plt.title(title)\n",
    "    plt.show()"
   ]
  },
  {
   "cell_type": "code",
   "execution_count": 309,
   "metadata": {
    "collapsed": false
   },
   "outputs": [
    {
     "data": {
      "image/png": "[encoded data removed]",
      "text/plain": [
       "<matplotlib.figure.Figure at 0x110d9a710>"
      ]
     },
     "metadata": {},
     "output_type": "display_data"
    }
   ],
   "source": [
    "create_stacked_bars(gibbs_df_822R2, 'Del 48-50, Sub 822R, random cnv start values, full coverage')"
   ]
  },
  {
   "cell_type": "code",
   "execution_count": 310,
   "metadata": {
    "collapsed": false,
    "scrolled": false
   },
   "outputs": [
    {
     "data": {
      "image/png": "[encoded data removed]",
      "text/plain": [
       "<matplotlib.figure.Figure at 0x1103881d0>"
      ]
     },
     "metadata": {},
     "output_type": "display_data"
    }
   ],
   "source": [
    "create_stacked_bars(gibbs_df_822Rc, 'Sub 822R, random cnv start values, full coverage')"
   ]
  },
  {
   "cell_type": "code",
   "execution_count": 347,
   "metadata": {
    "collapsed": false,
    "scrolled": true
   },
   "outputs": [
    {
     "name": "stdout",
     "output_type": "stream",
     "text": [
      "[3 3 2 2 2 1 2 1 1 3 3 2 2 2 1 1 2 1 2 3 1 2 2 3 1 3 2 2 2 2 3 3 3 1 1 1 3\n",
      " 3 2 1 1 2 2 1 2 1 3 1 2 3 2 3 2 2 1 1 3 1 1 2 1 2 2 2 3 3 3 1 2 3 2 2 1 1\n",
      " 2 3 1 2]\n",
      "Finished 499 iterations\n",
      "Finished 999 iterations\n",
      "Finished 1499 iterations\n",
      "Finished 1999 iterations\n",
      "Finished 2499 iterations\n",
      "Finished 2999 iterations\n",
      "Finished 3499 iterations\n",
      "Finished 3999 iterations\n",
      "Finished 4499 iterations\n",
      "Finished 4999 iterations\n",
      "Finished 5499 iterations\n",
      "Finished 5999 iterations\n",
      "Finished 6499 iterations\n",
      "Finished 6999 iterations\n",
      "Finished 7499 iterations\n",
      "Finished 7999 iterations\n",
      "Finished 8499 iterations\n",
      "Finished 8999 iterations\n",
      "Finished 9499 iterations\n",
      "Finished 9999 iterations\n"
     ]
    }
   ],
   "source": [
    "cnv_support = [1,2,3]\n",
    "gibbs_data_J0F1, gibbs_data_results_J0F1, logliks_J0F1, gibbs_df_J0F1 = generate_gibbs_df(cnv_support, \n",
    "                                                                        X_probs43, data=data_dict['J0F1_del'], \n",
    "                                                                        iterations=10000, exon_labels=exon_labels)"
   ]
  },
  {
   "cell_type": "code",
   "execution_count": 348,
   "metadata": {
    "collapsed": false,
    "scrolled": true
   },
   "outputs": [
    {
     "name": "stdout",
     "output_type": "stream",
     "text": [
      "[1 2 3 1 1 3 1 3 3 2 1 2 3 3 3 1 1 3 2 2 2 1 2 3 1 1 3 3 2 1 3 3 3 2 3 2 1\n",
      " 1 3 3 2 1 3 1 1 1 2 1 2 3 2 3 2 2 2 2 1 3 1 1 3 3 3 1 1 2 2 1 1 1 3 2 1 2\n",
      " 2 1 2 2]\n",
      "Finished 499 iterations\n",
      "Finished 999 iterations\n",
      "Finished 1499 iterations\n",
      "Finished 1999 iterations\n",
      "Finished 2499 iterations\n",
      "Finished 2999 iterations\n",
      "Finished 3499 iterations\n",
      "Finished 3999 iterations\n",
      "Finished 4499 iterations\n",
      "Finished 4999 iterations\n",
      "Finished 5499 iterations\n",
      "Finished 5999 iterations\n",
      "Finished 6499 iterations\n",
      "Finished 6999 iterations\n",
      "Finished 7499 iterations\n",
      "Finished 7999 iterations\n",
      "Finished 8499 iterations\n",
      "Finished 8999 iterations\n",
      "Finished 9499 iterations\n",
      "Finished 9999 iterations\n"
     ]
    }
   ],
   "source": [
    "cnv_support = [1,2,3]\n",
    "gibbs_data_J0F1c, gibbs_data_results_J0F1c, logliks_J0F1c, gibbs_df_J0F1c = generate_gibbs_df(cnv_support, \n",
    "                                                                        X_probs43, data=data_dict['J0F1'], \n",
    "                                                                        iterations=10000, exon_labels=exon_labels)"
   ]
  },
  {
   "cell_type": "code",
   "execution_count": 349,
   "metadata": {
    "collapsed": false
   },
   "outputs": [
    {
     "data": {
      "image/png": "[encoded data removed]",
      "text/plain": [
       "<matplotlib.figure.Figure at 0x1114717d0>"
      ]
     },
     "metadata": {},
     "output_type": "display_data"
    }
   ],
   "source": [
    "create_stacked_bars(gibbs_df_J0F1, 'Del 16-19, Sub J0F1, random cnv start values, full coverage')"
   ]
  },
  {
   "cell_type": "code",
   "execution_count": 350,
   "metadata": {
    "collapsed": false
   },
   "outputs": [
    {
     "data": {
      "image/png": "[encoded data removed]",
      "text/plain": [
       "<matplotlib.figure.Figure at 0x111475b90>"
      ]
     },
     "metadata": {},
     "output_type": "display_data"
    }
   ],
   "source": [
    "create_stacked_bars(gibbs_df_J0F1c, ' Sub J0F1, random cnv start values, full coverage')"
   ]
  },
  {
   "cell_type": "code",
   "execution_count": 316,
   "metadata": {
    "collapsed": false,
    "scrolled": true
   },
   "outputs": [
    {
     "name": "stdout",
     "output_type": "stream",
     "text": [
      "[1 2 1 3 3 3 2 3 3 2 2 3 3 1 3 1 1 3 1 1 3 1 1 2 1 1 2 2 2 3 3 3 3 2 1 1 2\n",
      " 1 2 3 3 3 3 3 2 1 1 3 3 2 1 3 2 3 3 3 3 2 2 1 2 3 2 3 1 3 2 3 1 2 1 3 3 2\n",
      " 3 2 1 2]\n",
      "Finished 499 iterations\n",
      "Finished 999 iterations\n",
      "Finished 1499 iterations\n",
      "Finished 1999 iterations\n",
      "Finished 2499 iterations\n",
      "Finished 2999 iterations\n",
      "Finished 3499 iterations\n",
      "Finished 3999 iterations\n",
      "Finished 4499 iterations\n",
      "Finished 4999 iterations\n",
      "Finished 5499 iterations\n",
      "Finished 5999 iterations\n",
      "Finished 6499 iterations\n",
      "Finished 6999 iterations\n",
      "Finished 7499 iterations\n",
      "Finished 7999 iterations\n",
      "Finished 8499 iterations\n",
      "Finished 8999 iterations\n",
      "Finished 9499 iterations\n",
      "Finished 9999 iterations\n"
     ]
    }
   ],
   "source": [
    "cnv_support = [1,2,3]\n",
    "gibbs_data_444F, gibbs_data_results_444F, logliks_444F, gibbs_df_444F = generate_gibbs_df(cnv_support, \n",
    "                                                                        X_probs38, data=data_dict['444F_dup'], \n",
    "                                                                        iterations=10000, exon_labels=exon_labels)"
   ]
  },
  {
   "cell_type": "code",
   "execution_count": 317,
   "metadata": {
    "collapsed": false,
    "scrolled": true
   },
   "outputs": [
    {
     "name": "stdout",
     "output_type": "stream",
     "text": [
      "[3 2 3 3 1 3 1 1 2 3 1 3 3 1 2 3 1 1 2 1 2 2 2 3 3 1 2 2 2 3 2 2 3 1 2 1 3\n",
      " 1 1 3 1 1 1 1 2 1 2 3 1 3 2 2 1 3 3 2 3 2 2 2 3 1 2 2 1 3 3 3 3 2 3 2 2 3\n",
      " 3 1 2 3]\n",
      "Finished 499 iterations\n",
      "Finished 999 iterations\n",
      "Finished 1499 iterations\n",
      "Finished 1999 iterations\n",
      "Finished 2499 iterations\n",
      "Finished 2999 iterations\n",
      "Finished 3499 iterations\n",
      "Finished 3999 iterations\n",
      "Finished 4499 iterations\n",
      "Finished 4999 iterations\n",
      "Finished 5499 iterations\n",
      "Finished 5999 iterations\n",
      "Finished 6499 iterations\n",
      "Finished 6999 iterations\n",
      "Finished 7499 iterations\n",
      "Finished 7999 iterations\n",
      "Finished 8499 iterations\n",
      "Finished 8999 iterations\n",
      "Finished 9499 iterations\n",
      "Finished 9999 iterations\n"
     ]
    }
   ],
   "source": [
    "cnv_support = [1,2,3]\n",
    "gibbs_data_444Fc, gibbs_data_results_444Fc, logliks_444Fc, gibbs_df_444Fc = generate_gibbs_df(cnv_support, \n",
    "                                                                        X_probs38, data=data_dict['444F'], \n",
    "                                                                        iterations=10000, exon_labels=exon_labels)"
   ]
  },
  {
   "cell_type": "code",
   "execution_count": 318,
   "metadata": {
    "collapsed": false
   },
   "outputs": [
    {
     "data": {
      "image/png": "[encoded data removed]",
      "text/plain": [
       "<matplotlib.figure.Figure at 0x111794110>"
      ]
     },
     "metadata": {},
     "output_type": "display_data"
    }
   ],
   "source": [
    "create_stacked_bars(gibbs_df_444F, 'Dup 30, Sub 444F, random cnv start values, full coverage')"
   ]
  },
  {
   "cell_type": "code",
   "execution_count": 323,
   "metadata": {
    "collapsed": false
   },
   "outputs": [
    {
     "name": "stdout",
     "output_type": "stream",
     "text": [
      "[31366673, 31366751]\n",
      "[31838092, 31838200]\n",
      "[32841412, 32841504]\n"
     ]
    }
   ],
   "source": [
    "print exon_dict['19']\n",
    "print exon_dict['30']\n",
    "print exon_dict['75']"
   ]
  },
  {
   "cell_type": "code",
   "execution_count": 319,
   "metadata": {
    "collapsed": false
   },
   "outputs": [
    {
     "data": {
      "image/png": "[encoded data removed]",
      "text/plain": [
       "<matplotlib.figure.Figure at 0x110d12ed0>"
      ]
     },
     "metadata": {},
     "output_type": "display_data"
    }
   ],
   "source": [
    "create_stacked_bars(gibbs_df_444Fc, 'Sub 444F, random cnv start values, full coverage')"
   ]
  },
  {
   "cell_type": "markdown",
   "metadata": {},
   "source": [
    "This subject (and any simulated mutations based on her) will probably be excluded from future tests because her bams are actually merged files from the results of sequencing with at least two different mixin panels. This might explain the abnormal exon coverage ratios for at least some exons."
   ]
  },
  {
   "cell_type": "markdown",
   "metadata": {},
   "source": [
    "## Trying to predict underlying TSID ratio (based on single exon and full TSID_only ratios)"
   ]
  },
  {
   "cell_type": "code",
   "execution_count": 174,
   "metadata": {
    "collapsed": false
   },
   "outputs": [
    {
     "name": "stdout",
     "output_type": "stream",
     "text": [
      "subject\n",
      "FGPC-0000-444F        0.00627116\n",
      "FGPC-0000-444F_dup    0.00625301\n",
      "FGPC-4ZPF-J0F1        0.00560036\n",
      "FGPC-4ZPF-J0F1_del    0.00568336\n",
      "FPWB-0000-822R        0.00582354\n",
      "FPWB-0000-822R_del    0.00595155\n",
      "Name: 37, dtype: object\n"
     ]
    }
   ],
   "source": [
    "# getting coverage for Exon38 for these test subjects\n",
    "exon38 = subject_norm.iloc[37]\n",
    "print exon38[1:]"
   ]
  },
  {
   "cell_type": "code",
   "execution_count": 178,
   "metadata": {
    "collapsed": false
   },
   "outputs": [
    {
     "data": {
      "text/plain": [
       "<matplotlib.text.Text at 0x10bedcb10>"
      ]
     },
     "execution_count": 178,
     "metadata": {},
     "output_type": "execute_result"
    },
    {
     "data": {
      "image/png": "[encoded data removed]",
      "text/plain": [
       "<matplotlib.figure.Figure at 0x10c809590>"
      ]
     },
     "metadata": {},
     "output_type": "display_data"
    }
   ],
   "source": [
    "# seeing distribution of Exon38 coverage -- we expect three pairs since each simulated mut subject should have similar \n",
    "# coverage to its original subject\n",
    "plt.figure()\n",
    "plt.hist(exon38[1:])\n",
    "plt.xlabel('Exon Coverage Ratio for Exon 38 - TSID only exon')\n",
    "plt.ylabel('Number of subjects')"
   ]
  },
  {
   "cell_type": "code",
   "execution_count": 200,
   "metadata": {
    "collapsed": false
   },
   "outputs": [
    {
     "name": "stdout",
     "output_type": "stream",
     "text": [
      "subject\n",
      "FGPC-0000-444F        0.339219\n",
      "FGPC-0000-444F_dup    0.337637\n",
      "FGPC-4ZPF-J0F1        0.280759\n",
      "FGPC-4ZPF-J0F1_del    0.287993\n",
      "FPWB-0000-822R        0.300209\n",
      "FPWB-0000-822R_del    0.311365\n",
      "Name: 37, dtype: object\n"
     ]
    }
   ],
   "source": [
    "# get estimated TSID proportion for each subject based on regression coefficients from above -- all should be near 0.33\n",
    "estimate_prop = (exon38[1:] - regression.params[0]) / regression.params[1]\n",
    "print estimate_prop"
   ]
  },
  {
   "cell_type": "code",
   "execution_count": 269,
   "metadata": {
    "collapsed": false
   },
   "outputs": [
    {
     "data": {
      "text/html": [
       "<div>\n",
       "<table border=\"1\" class=\"dataframe\">\n",
       "  <thead>\n",
       "    <tr style=\"text-align: right;\">\n",
       "      <th></th>\n",
       "      <th>TSID_only</th>\n",
       "      <th>TSO_only</th>\n",
       "    </tr>\n",
       "    <tr>\n",
       "      <th>subject</th>\n",
       "      <th></th>\n",
       "      <th></th>\n",
       "    </tr>\n",
       "  </thead>\n",
       "  <tbody>\n",
       "    <tr>\n",
       "      <th>FGPC-0000-444F</th>\n",
       "      <td>0.379883</td>\n",
       "      <td>0.620117</td>\n",
       "    </tr>\n",
       "    <tr>\n",
       "      <th>FGPC-0000-444F_dup</th>\n",
       "      <td>0.379883</td>\n",
       "      <td>0.620117</td>\n",
       "    </tr>\n",
       "    <tr>\n",
       "      <th>FGPC-4ZPF-J0F1</th>\n",
       "      <td>0.430208</td>\n",
       "      <td>0.569792</td>\n",
       "    </tr>\n",
       "    <tr>\n",
       "      <th>FGPC-4ZPF-J0F1_del</th>\n",
       "      <td>0.430208</td>\n",
       "      <td>0.569792</td>\n",
       "    </tr>\n",
       "    <tr>\n",
       "      <th>FPWB-0000-822R</th>\n",
       "      <td>0.381978</td>\n",
       "      <td>0.618022</td>\n",
       "    </tr>\n",
       "  </tbody>\n",
       "</table>\n",
       "</div>"
      ],
      "text/plain": [
       "                    TSID_only  TSO_only\n",
       "subject                                \n",
       "FGPC-0000-444F       0.379883  0.620117\n",
       "FGPC-0000-444F_dup   0.379883  0.620117\n",
       "FGPC-4ZPF-J0F1       0.430208  0.569792\n",
       "FGPC-4ZPF-J0F1_del   0.430208  0.569792\n",
       "FPWB-0000-822R       0.381978  0.618022"
      ]
     },
     "execution_count": 269,
     "metadata": {},
     "output_type": "execute_result"
    }
   ],
   "source": [
    "test_grouped = test_subjects_rel.groupby('subject').sum()\n",
    "test_norm_rel = test_grouped.div(test_grouped.sum(axis=1), axis=0)\n",
    "test_norm_rel.head()"
   ]
  },
  {
   "cell_type": "code",
   "execution_count": 270,
   "metadata": {
    "collapsed": false
   },
   "outputs": [
    {
     "data": {
      "text/plain": [
       "<matplotlib.text.Text at 0x11171bc10>"
      ]
     },
     "execution_count": 270,
     "metadata": {},
     "output_type": "execute_result"
    },
    {
     "data": {
      "image/png": "[encoded data removed]",
      "text/plain": [
       "<matplotlib.figure.Figure at 0x110a3e7d0>"
      ]
     },
     "metadata": {},
     "output_type": "display_data"
    }
   ],
   "source": [
    "plt.figure()\n",
    "plt.hist(test_norm_rel.TSID_only)\n",
    "plt.xlabel('TSID only ratios')\n",
    "plt.ylabel('Number of subjects')"
   ]
  },
  {
   "cell_type": "code",
   "execution_count": 273,
   "metadata": {
    "collapsed": false
   },
   "outputs": [
    {
     "data": {
      "text/plain": [
       "subject\n",
       "FGPC-0000-444F        0.349709\n",
       "FGPC-0000-444F_dup    0.349709\n",
       "FGPC-4ZPF-J0F1        0.404720\n",
       "FGPC-4ZPF-J0F1_del    0.404720\n",
       "FPWB-0000-822R        0.351999\n",
       "FPWB-0000-822R_del    0.351999\n",
       "Name: TSID_only, dtype: float64"
      ]
     },
     "execution_count": 273,
     "metadata": {},
     "output_type": "execute_result"
    }
   ],
   "source": [
    "estimate_prop_full = (test_norm_rel.TSID_only - regression_full.params[0]) / regression_full.params[1]\n",
    "estimate_prop_full"
   ]
  },
  {
   "cell_type": "code",
   "execution_count": null,
   "metadata": {
    "collapsed": true
   },
   "outputs": [],
   "source": []
  }
 ],
 "metadata": {
  "kernelspec": {
   "display_name": "Python 2",
   "language": "python",
   "name": "python2"
  },
  "language_info": {
   "codemirror_mode": {
    "name": "ipython",
    "version": 2
   },
   "file_extension": ".py",
   "mimetype": "text/x-python",
   "name": "python",
   "nbconvert_exporter": "python",
   "pygments_lexer": "ipython2",
   "version": "2.7.11"
  }
 },
 "nbformat": 4,
 "nbformat_minor": 2
}
