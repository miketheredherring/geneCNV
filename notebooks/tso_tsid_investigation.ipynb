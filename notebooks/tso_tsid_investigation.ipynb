{
 "cells": [
  {
   "cell_type": "markdown",
   "metadata": {},
   "source": [
    "## Investigating differences in coverage between TSO and TSID "
   ]
  },
  {
   "cell_type": "code",
   "execution_count": 150,
   "metadata": {
    "collapsed": false
   },
   "outputs": [],
   "source": [
    "import os\n",
    "import pysam\n",
    "import copy\n",
    "import numpy as np\n",
    "import random\n",
    "import matplotlib.pyplot as plt\n",
    "import pandas as pd\n",
    "from collections import Counter\n",
    "from genepeeks.common import utilities as util\n",
    "import seaborn as sns\n",
    "# to clean up later -- temporary fix\n",
    "import sys\n",
    "sys.path.append(os.path.join(os.getcwd(), '..'))\n",
    "from python_library import DMD_utilities as DMD_util\n",
    "from python_library import coverage_matrix as cov\n",
    "import statsmodels.formula.api as sm\n",
    "\n",
    "%matplotlib inline"
   ]
  },
  {
   "cell_type": "code",
   "execution_count": 3,
   "metadata": {
    "collapsed": false
   },
   "outputs": [
    {
     "name": "stdout",
     "output_type": "stream",
     "text": [
      "The following exons were merged: ['65|66']\n"
     ]
    }
   ],
   "source": [
    "# DMD_ensembl = util.Mongo.get_collection_data('gene', wanted_db='prod', query={'_id': 'DMD'}, find_one=True, single_field='ensembl')\n",
    "# DMD_exons = util.get_nested_value(DMD_ensembl, ('is_primary', 'transcripts', 'is_primary', 'exons'))\n",
    "# # had to make local change in utilities \n",
    "# DMD_exons_merged = util.merge_intervals(DMD_exons, min_dist=200, include_index=True)\n",
    "# exon_labels = ['Ex' + exon['index'] for exon in DMD_exons_merged] # this exon label gets used later\n",
    "\n",
    "DMD_exons_merged, exon_labels = DMD_util.get_DMD_exons_merged()"
   ]
  },
  {
   "cell_type": "code",
   "execution_count": 14,
   "metadata": {
    "collapsed": false
   },
   "outputs": [
    {
     "name": "stdout",
     "output_type": "stream",
     "text": [
      "2702\n",
      "[31137345, 31140047]\n",
      "[33229399, 33229636]\n"
     ]
    }
   ],
   "source": [
    "# DMD exon/gene coordinates and useful regions (coordinates taken from IGV b37 reference)\n",
    "# EXON46 = [31950197, 31950344]\n",
    "# EXON47 = [31947713, 31947862]\n",
    "# EXON48 = [31893308, 31893490]\n",
    "# EXON49 = [31854835, 31854939]\n",
    "# EXON50 = [31838092, 31838200]\n",
    "# EXON51 = [31792077, 31792309]\n",
    "# DMD = [31115794, 33357558]  # taken from ensembl GRCh37\n",
    "\n",
    "# deletion of partial exons\n",
    "EX48_50_PART = [31838130, 31893308]\n",
    "\n",
    "# for consistency with exon labeling in Ensembl\n",
    "exon_dict = {exon['index']: [exon['start'], exon['end']] for exon in DMD_exons_merged}\n",
    "print exon_dict['1'][1] - exon_dict['1'][0]\n",
    "print exon_dict['1']\n",
    "print exon_dict['79']"
   ]
  },
  {
   "cell_type": "code",
   "execution_count": 5,
   "metadata": {
    "collapsed": true
   },
   "outputs": [],
   "source": [
    "# workaround to force real time print output in notebooks\n",
    "# see http://stackoverflow.com/questions/29772158/make-ipython-notebook-print-in-real-time\n",
    "import sys\n",
    "oldsysstdout = sys.stdout\n",
    "class flushfile():\n",
    "    def __init__(self, f):\n",
    "        self.f = f\n",
    "    def __getattr__(self,name): \n",
    "        return object.__getattribute__(self.f, name)\n",
    "    def write(self, x):\n",
    "        self.f.write(x)\n",
    "        self.f.flush()\n",
    "    def flush(self):\n",
    "        self.f.flush()\n",
    "sys.stdout = flushfile(sys.stdout)"
   ]
  },
  {
   "cell_type": "markdown",
   "metadata": {},
   "source": [
    "## Merging bamfiles for subject in mixin experiment (does not need to be run again)"
   ]
  },
  {
   "cell_type": "code",
   "execution_count": 179,
   "metadata": {
    "collapsed": false
   },
   "outputs": [
    {
     "name": "stdout",
     "output_type": "stream",
     "text": [
      "Finished merging files for FPWB-0001-1232_1-T2\n",
      "Finished merging files for FPWB-0001-1232_1-T3\n",
      "Finished merging files for FPWB-0001-1232_1-T4\n",
      "Finished merging files for FPWB-0001-1232_1-T5\n"
     ]
    }
   ],
   "source": [
    "outfiles_0001 = ['FPWB-0001-1232_1-T2', 'FPWB-0001-1232_1-T3', 'FPWB-0001-1232_1-T4', 'FPWB-0001-1232_1-T5']\n",
    "for name in outfiles_0001:\n",
    "    full_bam = '../bams/mixin_exp/{}.bam'.format(name)\n",
    "    component_bams = ['../bams/mixin_exp/{}-1_H5FGFAFXX-L00{}.bam'.format(name, num) for num in range(1,5)]\n",
    "    pysam.merge(full_bam, *component_bams, catch_stdout=False)\n",
    "    print 'Finished merging files for {}'.format(name)\n",
    "    pysam.index(full_bam)"
   ]
  },
  {
   "cell_type": "markdown",
   "metadata": {},
   "source": [
    "## Investigating interval differences between TSO/TSID panels and canonical transcript\n",
    "Also beginning of creation of superset of exons/intervals to use during Gibbs sampling/assay."
   ]
  },
  {
   "cell_type": "code",
   "execution_count": 189,
   "metadata": {
    "collapsed": false,
    "scrolled": true
   },
   "outputs": [],
   "source": [
    "tsid_intervals = pd.read_csv('/Users/velina/Downloads/trusight_inherited_disease_manifest_a.bed', sep='\\t', \n",
    "                             header=None, names=['chr', 'start', 'end', 'name'])\n",
    "tso_intervals = pd.read_csv('/Users/velina/Downloads/TruSight_One_v1.1.bed', sep='\\t', header=None, \n",
    "                            names=['chr', 'start', 'end', 'name'])\n",
    "\n",
    "intervals = {\n",
    "    'tsid': {'file': '/Users/velina/Downloads/trusight_inherited_disease_manifest_a.bed'},\n",
    "    'tso': {'file': '/Users/velina/Downloads/TruSight_One_v1.1.bed'}\n",
    "}\n",
    "\n",
    "for name, intrv_info in intervals.items():\n",
    "    df = pd.read_csv(intrv_info['file'], delimiter='\\t', header=None, names=('chrom', 'start', 'end', 'id'))\n",
    "    intrv_info['X_df'] = df[df['chrom'] == 'chrX'].sort_values(by='start')\n",
    "    # these coordinates based on the beginning/end of DMD according to tso/tsid exon superset\n",
    "    intrv_info['dmd_df'] = intrv_info['X_df'][(intrv_info['X_df'].start >= 31137344) & (intrv_info['X_df'].end <= 33357726)]\n",
    "    intrv_info['intrv_list_X'] = map(dict, dict(intrv_info['X_df'].T).values())\n",
    "    intrv_info['intrv_list_dmd'] = map(dict, dict(intrv_info['dmd_df'].T).values())"
   ]
  },
  {
   "cell_type": "code",
   "execution_count": 190,
   "metadata": {
    "collapsed": false
   },
   "outputs": [
    {
     "data": {
      "text/html": [
       "<div>\n",
       "<table border=\"1\" class=\"dataframe\">\n",
       "  <thead>\n",
       "    <tr style=\"text-align: right;\">\n",
       "      <th></th>\n",
       "      <th>chr</th>\n",
       "      <th>start</th>\n",
       "      <th>end</th>\n",
       "      <th>name</th>\n",
       "    </tr>\n",
       "  </thead>\n",
       "  <tbody>\n",
       "    <tr>\n",
       "      <th>7303</th>\n",
       "      <td>chrX</td>\n",
       "      <td>31137345</td>\n",
       "      <td>31140047</td>\n",
       "      <td>DMD.chrX.31137345.31140047</td>\n",
       "    </tr>\n",
       "    <tr>\n",
       "      <th>7304</th>\n",
       "      <td>chrX</td>\n",
       "      <td>31144759</td>\n",
       "      <td>31144790</td>\n",
       "      <td>DMD.chrX.31144759.31144790</td>\n",
       "    </tr>\n",
       "    <tr>\n",
       "      <th>7305</th>\n",
       "      <td>chrX</td>\n",
       "      <td>31152219</td>\n",
       "      <td>31152311</td>\n",
       "      <td>DMD.chrX.31152219.31152311</td>\n",
       "    </tr>\n",
       "    <tr>\n",
       "      <th>7306</th>\n",
       "      <td>chrX</td>\n",
       "      <td>31164408</td>\n",
       "      <td>31164531</td>\n",
       "      <td>DMD.chrX.31164408.31164531</td>\n",
       "    </tr>\n",
       "    <tr>\n",
       "      <th>7307</th>\n",
       "      <td>chrX</td>\n",
       "      <td>31165392</td>\n",
       "      <td>31165635</td>\n",
       "      <td>DMD.chrX.31165392.31165635</td>\n",
       "    </tr>\n",
       "  </tbody>\n",
       "</table>\n",
       "</div>"
      ],
      "text/plain": [
       "       chr     start       end                        name\n",
       "7303  chrX  31137345  31140047  DMD.chrX.31137345.31140047\n",
       "7304  chrX  31144759  31144790  DMD.chrX.31144759.31144790\n",
       "7305  chrX  31152219  31152311  DMD.chrX.31152219.31152311\n",
       "7306  chrX  31164408  31164531  DMD.chrX.31164408.31164531\n",
       "7307  chrX  31165392  31165635  DMD.chrX.31165392.31165635"
      ]
     },
     "execution_count": 190,
     "metadata": {},
     "output_type": "execute_result"
    }
   ],
   "source": [
    "tsid_dmd.head()"
   ]
  },
  {
   "cell_type": "code",
   "execution_count": 66,
   "metadata": {
    "collapsed": false
   },
   "outputs": [
    {
     "name": "stdout",
     "output_type": "stream",
     "text": [
      "TSO only: 1664 intervals over 358595 bp\n",
      "TSID only: 207 intervals over 185619 bp\n"
     ]
    }
   ],
   "source": [
    "# finding interval differences using utilities function\n",
    "reload(util)\n",
    "tsid_only = util.interval_diff(intervals['tso']['intrv_list_X'], intervals['tsid']['intrv_list_X'], extend_by=100)\n",
    "tso_only = util.interval_diff(intervals['tsid']['intrv_list_X'], intervals['tso']['intrv_list_X'], extend_by=100)\n",
    "print 'TSO only: {} intervals over {} bp'.format(len(tso_only), util.add_intervals(tso_only))\n",
    "print 'TSID only: {} intervals over {} bp'.format(len(tsid_only), util.add_intervals(tsid_only))"
   ]
  },
  {
   "cell_type": "code",
   "execution_count": 71,
   "metadata": {
    "collapsed": false
   },
   "outputs": [
    {
     "name": "stdout",
     "output_type": "stream",
     "text": [
      "85\n",
      "85\n"
     ]
    }
   ],
   "source": [
    "# checking number of intervals in each panel for DMD -- seems to be equal even though some intervals don't match\n",
    "print len(intervals['tsid']['intrv_list_dmd'])\n",
    "print len(intervals['tso']['intrv_list_dmd'])"
   ]
  },
  {
   "cell_type": "markdown",
   "metadata": {},
   "source": [
    "The method below should not be used for larger genome regions -- not optimized at all, but I wanted a quick and dirty way to find out which intervals in the two panels (or transcript sets) did not match up with an interval in the other set. This method returns full intervals (not interval differences) from both sets that do not have a mate in the other set. Note that even if one interval is much larger than the other, it will still be counted as mated if there is a small overlap between the two sets."
   ]
  },
  {
   "cell_type": "code",
   "execution_count": 191,
   "metadata": {
    "collapsed": true
   },
   "outputs": [],
   "source": [
    "def distinct_intervals(interval_list1, interval_list2, min_overlap=100):\n",
    "    interval_list1_sort = sorted(copy.deepcopy(interval_list1), key=lambda interval: interval['start'])\n",
    "    interval_list2_sort = sorted(copy.deepcopy(interval_list2), key=lambda interval: interval['start'])\n",
    "    \n",
    "    list1_inc_ind = []\n",
    "    list2_inc_ind = []\n",
    "    \n",
    "    for i, interval in enumerate(interval_list1_sort):\n",
    "        for i2, interval2 in enumerate(interval_list2_sort):\n",
    "            if interval['end'] < interval2['start'] or interval['start'] > interval2['end']:\n",
    "                continue\n",
    "            else:\n",
    "                if interval['start'] <= interval2['start'] and interval['end'] >= interval2['end']:\n",
    "                    list1_inc_ind.append(i)\n",
    "                    list2_inc_ind.append(i2)\n",
    "                elif interval['start'] <= interval2['start']:\n",
    "                    if interval['end'] - interval2['start'] >= min_overlap:\n",
    "                        list1_inc_ind.append(i)\n",
    "                        list2_inc_ind.append(i2)\n",
    "                elif interval['end'] >= interval2['end']:\n",
    "                    if interval2['end'] - interval['start'] >= min_overlap:\n",
    "                        list1_inc_ind.append(i)\n",
    "                        list2_inc_ind.append(i2)\n",
    "                else:\n",
    "                    list1_inc_ind.append(i)\n",
    "                    list2_inc_ind.append(i2)\n",
    "                            \n",
    "    list1_match = list(set(list1_inc_ind))\n",
    "    list2_match = list(set(list2_inc_ind))\n",
    "    \n",
    "    list1_only_ind = [ind for ind in range(len(interval_list1_sort)) if ind not in list1_match]\n",
    "    list2_only_ind = [ind for ind in range(len(interval_list2_sort)) if ind not in list2_match]\n",
    "    \n",
    "    list1_only = [interval_list1_sort[ind] for ind in list1_only_ind]\n",
    "    list2_only = [interval_list2_sort[ind] for ind in list2_only_ind]\n",
    "#     print list1_inc_ind\n",
    "#     print list2_inc_ind\n",
    "#     print interval_list2_sort[53]\n",
    "    \n",
    "    return list1_only, list2_only, list1_only_ind, list2_only_ind"
   ]
  },
  {
   "cell_type": "code",
   "execution_count": 192,
   "metadata": {
    "collapsed": false
   },
   "outputs": [
    {
     "name": "stdout",
     "output_type": "stream",
     "text": [
      "TSO only: 0 intervals over 0 bp\n",
      "TSID only: 1 intervals over 99 bp\n",
      "[{'chrom': 'chrX', 'start': 32173488, 'end': 32173586, 'id': 'DMD.chrX.32173488.32173586'}]\n",
      "[37]\n"
     ]
    }
   ],
   "source": [
    "# finding distinct intervals in DMD\n",
    "tso_only_dmd, tsid_only_dmd, tso_only_ind, tsid_only_ind = distinct_intervals(intervals['tso']['intrv_list_dmd'], intervals['tsid']['intrv_list_dmd'], \n",
    "                                                                              min_overlap=10)\n",
    "print 'TSO only: {} intervals over {} bp'.format(len(tso_only_dmd), util.add_intervals(tso_only_dmd))\n",
    "print 'TSID only: {} intervals over {} bp'.format(len(tsid_only_dmd), util.add_intervals(tsid_only_dmd))\n",
    "print tsid_only_dmd\n",
    "print tsid_only_ind"
   ]
  },
  {
   "cell_type": "markdown",
   "metadata": {},
   "source": [
    "One interval in TSID actually contains two intervals in TSO (DMD.chrX.32430136.32430371) because it includes the untranslated regions of two ending exons for two different transcripts. One interval in TSID is not contained at all in TSO. "
   ]
  },
  {
   "cell_type": "markdown",
   "metadata": {},
   "source": [
    "**Now we want to see what overlaps exist between the primary transcript and the TSID intervals.**"
   ]
  },
  {
   "cell_type": "code",
   "execution_count": 193,
   "metadata": {
    "collapsed": false
   },
   "outputs": [
    {
     "name": "stdout",
     "output_type": "stream",
     "text": [
      "TSID only: 6 intervals\n",
      "prim_transcript only: 0 intervals\n",
      "[{'chrom': 'chrX', 'start': 31284927, 'end': 31285024, 'id': 'DMD.chrX.31284927.31285024'}, {'chrom': 'chrX', 'start': 31526325, 'end': 31526415, 'id': 'DMD.chrX.31526325.31526415'}, {'chrom': 'chrX', 'start': 32173488, 'end': 32173586, 'id': 'DMD.chrX.32173488.32173586'}, {'chrom': 'chrX', 'start': 32430136, 'end': 32430371, 'id': 'DMD.chrX.32430136.32430371'}, {'chrom': 'chrX', 'start': 33146180, 'end': 33146544, 'id': 'DMD.chrX.33146180.33146544'}, {'chrom': 'chrX', 'start': 33357376, 'end': 33357726, 'id': 'DMD.chrX.33357376.33357726'}]\n",
      "\n",
      "The following exons in the TSID panel are NOT included in the canonical DMD transcript\n",
      "[18, 26, 38, 54, 83, 85]\n"
     ]
    }
   ],
   "source": [
    "prim_trans_only, tsid_exc, prim_trans_ind, tsid_ind = distinct_intervals(DMD_exons_merged, intervals['tsid']['intrv_list_dmd'], \n",
    "                                                                          min_overlap=10)\n",
    "print 'TSID only: {} intervals'.format(len(tsid_exc))\n",
    "print 'prim_transcript only: {} intervals'.format(len(prim_trans_only))\n",
    "print tsid_exc\n",
    "print '\\nThe following exons in the TSID panel are NOT included in the canonical DMD transcript'\n",
    "print list(np.array(tsid_ind) + 1)"
   ]
  },
  {
   "cell_type": "code",
   "execution_count": 136,
   "metadata": {
    "collapsed": false
   },
   "outputs": [
    {
     "name": "stdout",
     "output_type": "stream",
     "text": [
      "['tsid_15', 'tsid_16', 'tsid_17', 'tsid_18', 'tsid_19', 'tsid_20', 'tsid_21', 'tsid_22', 'tsid_23', 'tsid_24', 'tsid_25', 'tsid_26', 'tsid_27', 'tsid_28', 'tsid_29', 'tsid_30', 'tsid_31', 'tsid_32', 'tsid_33', 'tsid_34', 'tsid_35', 'tsid_36', 'tsid_37', 'tsid_38', 'tsid_39', 'tsid_40', 'tsid_41', 'tsid_42', 'tsid_43', 'tsid_44']\n"
     ]
    }
   ],
   "source": [
    "# creating subsets of the tsid interval set for some small experiments in coverage of small regions of DMD\n",
    "tsid_sorted = sorted(copy.deepcopy(intervals['tsid']['intrv_list_dmd']), key=lambda interval: interval['start'])\n",
    "for ind, interval in enumerate(tsid_sorted):\n",
    "    interval['index'] = ind + 1\n",
    "tsid_subset = tsid_sorted[15:45]\n",
    "tsid_names = ['tsid_{}'.format(x) for x in range(15, 45)]\n",
    "# tsid_fullnames = ['tsid_{}'.format(interval['index']) for x in range(len(tsid_sorted))]\n",
    "print tsid_names"
   ]
  },
  {
   "cell_type": "markdown",
   "metadata": {},
   "source": [
    "## Exon coverage by panel type"
   ]
  },
  {
   "cell_type": "code",
   "execution_count": 125,
   "metadata": {
    "collapsed": false
   },
   "outputs": [
    {
     "name": "stdout",
     "output_type": "stream",
     "text": [
      "['M1' 'P1' 'P3' 'P2' 'T1' 'T4' 'T3' 'T2']\n",
      "(1230, 91)\n"
     ]
    },
    {
     "data": {
      "text/html": [
       "<div>\n",
       "<table border=\"1\" class=\"dataframe\">\n",
       "  <thead>\n",
       "    <tr style=\"text-align: right;\">\n",
       "      <th></th>\n",
       "      <th>id</th>\n",
       "      <th>subject</th>\n",
       "      <th>specimen</th>\n",
       "      <th>sample</th>\n",
       "      <th>gender</th>\n",
       "      <th>sequencer</th>\n",
       "      <th>flow_cell_id</th>\n",
       "      <th>lane</th>\n",
       "      <th>bwa_version</th>\n",
       "      <th>date_modified</th>\n",
       "      <th>...</th>\n",
       "      <th>Ex73</th>\n",
       "      <th>Ex74</th>\n",
       "      <th>Ex75</th>\n",
       "      <th>Ex76</th>\n",
       "      <th>Ex77</th>\n",
       "      <th>Ex78</th>\n",
       "      <th>Ex79</th>\n",
       "      <th>Ex1_coding</th>\n",
       "      <th>Ex79_coding</th>\n",
       "      <th>date</th>\n",
       "    </tr>\n",
       "  </thead>\n",
       "  <tbody>\n",
       "    <tr>\n",
       "      <th>0</th>\n",
       "      <td>FCLR-GP01-2121_1-M1-1_HGGF5AFXX-L001</td>\n",
       "      <td>FCLR-GP01-2121</td>\n",
       "      <td>FCLR-GP01-2121_1</td>\n",
       "      <td>FCLR-GP01-2121_1-M1-1</td>\n",
       "      <td>F</td>\n",
       "      <td>M1</td>\n",
       "      <td>HGGF5AFXX</td>\n",
       "      <td>L001</td>\n",
       "      <td>0.7.15-r1140</td>\n",
       "      <td>2016-10-31 23:15:02</td>\n",
       "      <td>...</td>\n",
       "      <td>77</td>\n",
       "      <td>139</td>\n",
       "      <td>58</td>\n",
       "      <td>63</td>\n",
       "      <td>77</td>\n",
       "      <td>23</td>\n",
       "      <td>81</td>\n",
       "      <td>86</td>\n",
       "      <td>39</td>\n",
       "      <td>2016-10-31</td>\n",
       "    </tr>\n",
       "    <tr>\n",
       "      <th>1</th>\n",
       "      <td>FCLR-GP01-2121_1-M1-1_HGGF5AFXX-L002</td>\n",
       "      <td>FCLR-GP01-2121</td>\n",
       "      <td>FCLR-GP01-2121_1</td>\n",
       "      <td>FCLR-GP01-2121_1-M1-1</td>\n",
       "      <td>F</td>\n",
       "      <td>M1</td>\n",
       "      <td>HGGF5AFXX</td>\n",
       "      <td>L002</td>\n",
       "      <td>0.7.15-r1140</td>\n",
       "      <td>2016-10-31 23:15:02</td>\n",
       "      <td>...</td>\n",
       "      <td>57</td>\n",
       "      <td>121</td>\n",
       "      <td>50</td>\n",
       "      <td>95</td>\n",
       "      <td>78</td>\n",
       "      <td>27</td>\n",
       "      <td>67</td>\n",
       "      <td>56</td>\n",
       "      <td>41</td>\n",
       "      <td>2016-10-31</td>\n",
       "    </tr>\n",
       "    <tr>\n",
       "      <th>2</th>\n",
       "      <td>FCLR-GP01-2121_1-M1-1_HGGF5AFXX-L003</td>\n",
       "      <td>FCLR-GP01-2121</td>\n",
       "      <td>FCLR-GP01-2121_1</td>\n",
       "      <td>FCLR-GP01-2121_1-M1-1</td>\n",
       "      <td>F</td>\n",
       "      <td>M1</td>\n",
       "      <td>HGGF5AFXX</td>\n",
       "      <td>L003</td>\n",
       "      <td>0.7.15-r1140</td>\n",
       "      <td>2016-10-31 23:15:02</td>\n",
       "      <td>...</td>\n",
       "      <td>52</td>\n",
       "      <td>137</td>\n",
       "      <td>51</td>\n",
       "      <td>78</td>\n",
       "      <td>85</td>\n",
       "      <td>23</td>\n",
       "      <td>38</td>\n",
       "      <td>84</td>\n",
       "      <td>19</td>\n",
       "      <td>2016-10-31</td>\n",
       "    </tr>\n",
       "    <tr>\n",
       "      <th>3</th>\n",
       "      <td>FCLR-GP01-2121_1-M1-1_HGGF5AFXX-L004</td>\n",
       "      <td>FCLR-GP01-2121</td>\n",
       "      <td>FCLR-GP01-2121_1</td>\n",
       "      <td>FCLR-GP01-2121_1-M1-1</td>\n",
       "      <td>F</td>\n",
       "      <td>M1</td>\n",
       "      <td>HGGF5AFXX</td>\n",
       "      <td>L004</td>\n",
       "      <td>0.7.15-r1140</td>\n",
       "      <td>2016-10-31 23:15:02</td>\n",
       "      <td>...</td>\n",
       "      <td>71</td>\n",
       "      <td>117</td>\n",
       "      <td>46</td>\n",
       "      <td>76</td>\n",
       "      <td>88</td>\n",
       "      <td>29</td>\n",
       "      <td>56</td>\n",
       "      <td>67</td>\n",
       "      <td>31</td>\n",
       "      <td>2016-10-31</td>\n",
       "    </tr>\n",
       "    <tr>\n",
       "      <th>4</th>\n",
       "      <td>MESB-0009-690N_ACGT.1.P1.1</td>\n",
       "      <td>MESB-0009-690N</td>\n",
       "      <td>MESB-0009-690N_ACGT_1</td>\n",
       "      <td>MESB-0009-690N_ACGT.1.P1.1</td>\n",
       "      <td>M</td>\n",
       "      <td>P1</td>\n",
       "      <td>NaN</td>\n",
       "      <td>NaN</td>\n",
       "      <td>0.7.10-r789</td>\n",
       "      <td>2016-06-08 15:49:31</td>\n",
       "      <td>...</td>\n",
       "      <td>74</td>\n",
       "      <td>64</td>\n",
       "      <td>42</td>\n",
       "      <td>50</td>\n",
       "      <td>10</td>\n",
       "      <td>1</td>\n",
       "      <td>6</td>\n",
       "      <td>16</td>\n",
       "      <td>2</td>\n",
       "      <td>2016-06-08</td>\n",
       "    </tr>\n",
       "  </tbody>\n",
       "</table>\n",
       "<p>5 rows × 91 columns</p>\n",
       "</div>"
      ],
      "text/plain": [
       "                                     id         subject  \\\n",
       "0  FCLR-GP01-2121_1-M1-1_HGGF5AFXX-L001  FCLR-GP01-2121   \n",
       "1  FCLR-GP01-2121_1-M1-1_HGGF5AFXX-L002  FCLR-GP01-2121   \n",
       "2  FCLR-GP01-2121_1-M1-1_HGGF5AFXX-L003  FCLR-GP01-2121   \n",
       "3  FCLR-GP01-2121_1-M1-1_HGGF5AFXX-L004  FCLR-GP01-2121   \n",
       "4            MESB-0009-690N_ACGT.1.P1.1  MESB-0009-690N   \n",
       "\n",
       "                specimen                      sample gender sequencer  \\\n",
       "0       FCLR-GP01-2121_1       FCLR-GP01-2121_1-M1-1      F        M1   \n",
       "1       FCLR-GP01-2121_1       FCLR-GP01-2121_1-M1-1      F        M1   \n",
       "2       FCLR-GP01-2121_1       FCLR-GP01-2121_1-M1-1      F        M1   \n",
       "3       FCLR-GP01-2121_1       FCLR-GP01-2121_1-M1-1      F        M1   \n",
       "4  MESB-0009-690N_ACGT_1  MESB-0009-690N_ACGT.1.P1.1      M        P1   \n",
       "\n",
       "  flow_cell_id  lane   bwa_version       date_modified     ...      Ex73  \\\n",
       "0    HGGF5AFXX  L001  0.7.15-r1140 2016-10-31 23:15:02     ...        77   \n",
       "1    HGGF5AFXX  L002  0.7.15-r1140 2016-10-31 23:15:02     ...        57   \n",
       "2    HGGF5AFXX  L003  0.7.15-r1140 2016-10-31 23:15:02     ...        52   \n",
       "3    HGGF5AFXX  L004  0.7.15-r1140 2016-10-31 23:15:02     ...        71   \n",
       "4          NaN   NaN   0.7.10-r789 2016-06-08 15:49:31     ...        74   \n",
       "\n",
       "   Ex74  Ex75  Ex76  Ex77  Ex78  Ex79  Ex1_coding  Ex79_coding        date  \n",
       "0   139    58    63    77    23    81          86           39  2016-10-31  \n",
       "1   121    50    95    78    27    67          56           41  2016-10-31  \n",
       "2   137    51    78    85    23    38          84           19  2016-10-31  \n",
       "3   117    46    76    88    29    56          67           31  2016-10-31  \n",
       "4    64    42    50    10     1     6          16            2  2016-06-08  \n",
       "\n",
       "[5 rows x 91 columns]"
      ]
     },
     "execution_count": 125,
     "metadata": {},
     "output_type": "execute_result"
    }
   ],
   "source": [
    "# get full dataset and also subsets based on gender, sequencer, etc\n",
    "coverage_df = pd.read_csv('../exon_data/coverage_matrix.csv', header=0, index_col=0)\n",
    "coverage_df.is_rerun.values == False\n",
    "# remove rerun data\n",
    "coverage_df = coverage_df[coverage_df.is_rerun == False]\n",
    "coverage_df.drop('is_rerun', axis=1, inplace=True)\n",
    "coverage_df.index.name = None\n",
    "coverage_df.date_modified = pd.to_datetime(coverage_df.date_modified, unit='s')\n",
    "coverage_df['date'] = coverage_df.date_modified.dt.date\n",
    "coverage_df_f = coverage_df[coverage_df.gender == 'F']\n",
    "coverage_df_m = coverage_df[coverage_df.gender == 'M']\n",
    "# only females in RMA\n",
    "coverage_df_RMA = coverage_df[coverage_df.subject.str.contains('FRMR')]\n",
    "coverage_df_M1 = coverage_df[coverage_df.sequencer == 'M1']\n",
    "grouped_seq = coverage_df.groupby('sequencer')\n",
    "group_dict = {x: grouped_seq.get_group(x) for x in grouped_seq.groups}\n",
    "print coverage_df.sequencer.unique()\n",
    "print coverage_df.shape\n",
    "coverage_df.head()"
   ]
  },
  {
   "cell_type": "code",
   "execution_count": 19,
   "metadata": {
    "collapsed": false
   },
   "outputs": [
    {
     "name": "stdout",
     "output_type": "stream",
     "text": [
      "P2: 23\n",
      "P3: 18\n",
      "P1: 364\n",
      "T4: 8\n",
      "T2: 8\n",
      "T3: 8\n",
      "T1: 104\n",
      "M1: 697\n"
     ]
    }
   ],
   "source": [
    "# how many subjects actually included in each sequencing panel set?\n",
    "for panel, df in group_dict.items():\n",
    "    print '{}: {}'.format(panel, len(df))"
   ]
  },
  {
   "cell_type": "code",
   "execution_count": 93,
   "metadata": {
    "collapsed": true
   },
   "outputs": [],
   "source": [
    "# function for reshaping data frames so that exons are observations (rows) and subjects are variables (columns)\n",
    "# make sure datetimes have been converted to datetime objects before using\n",
    "def reshape_df(df, include_stats=False, groupby='subject', subject_droplist=None, df_counts_wanted=False):\n",
    "    df_grouped = df.groupby([groupby]).sum()\n",
    "    df_norm = df_grouped.div(df_grouped.sum(axis=1), axis=0)\n",
    "    df_norm = df_norm.transpose().reset_index()\n",
    "    df_norm.rename(columns={'index': 'Exon'}, inplace=True)\n",
    "\n",
    "    if subject_droplist:\n",
    "        for subject in subject_droplist:\n",
    "            df_norm.drop(subject, axis=1, inplace=True)\n",
    "    if include_stats:\n",
    "        df_norm['Mean'] = df_norm.mean(axis=1)\n",
    "        df_norm['SD'] = df_norm.std(axis=1)\n",
    "    if df_counts_wanted:\n",
    "        return df_norm, df_grouped\n",
    "    else:\n",
    "        return df_norm"
   ]
  },
  {
   "cell_type": "markdown",
   "metadata": {},
   "source": [
    "## Investigating consistency between different T panels and P panels\n",
    "T panels are TSO and P panels are TSID. Note that the T2-T4 panels here do not correspond to the labels used in the mixin experiment subjects further below. Unclear why these different sets of subjects have similar names. Also unsure what P2-P3 designate but they all seem to be TSID only subjects."
   ]
  },
  {
   "cell_type": "code",
   "execution_count": 194,
   "metadata": {
    "collapsed": false
   },
   "outputs": [
    {
     "data": {
      "text/html": [
       "<div>\n",
       "<table border=\"1\" class=\"dataframe\">\n",
       "  <thead>\n",
       "    <tr style=\"text-align: right;\">\n",
       "      <th></th>\n",
       "      <th>t1</th>\n",
       "      <th>t2</th>\n",
       "      <th>t3</th>\n",
       "      <th>t4</th>\n",
       "    </tr>\n",
       "  </thead>\n",
       "  <tbody>\n",
       "    <tr>\n",
       "      <th>0</th>\n",
       "      <td>0.016845</td>\n",
       "      <td>0.014012</td>\n",
       "      <td>0.012813</td>\n",
       "      <td>0.012909</td>\n",
       "    </tr>\n",
       "    <tr>\n",
       "      <th>1</th>\n",
       "      <td>0.003514</td>\n",
       "      <td>0.002874</td>\n",
       "      <td>0.003533</td>\n",
       "      <td>0.003144</td>\n",
       "    </tr>\n",
       "    <tr>\n",
       "      <th>2</th>\n",
       "      <td>0.012617</td>\n",
       "      <td>0.010143</td>\n",
       "      <td>0.009760</td>\n",
       "      <td>0.012048</td>\n",
       "    </tr>\n",
       "    <tr>\n",
       "      <th>3</th>\n",
       "      <td>0.016752</td>\n",
       "      <td>0.013427</td>\n",
       "      <td>0.013768</td>\n",
       "      <td>0.013365</td>\n",
       "    </tr>\n",
       "    <tr>\n",
       "      <th>4</th>\n",
       "      <td>0.011578</td>\n",
       "      <td>0.008844</td>\n",
       "      <td>0.009217</td>\n",
       "      <td>0.010177</td>\n",
       "    </tr>\n",
       "  </tbody>\n",
       "</table>\n",
       "</div>"
      ],
      "text/plain": [
       "         t1        t2        t3        t4\n",
       "0  0.016845  0.014012  0.012813  0.012909\n",
       "1  0.003514  0.002874  0.003533  0.003144\n",
       "2  0.012617  0.010143  0.009760  0.012048\n",
       "3  0.016752  0.013427  0.013768  0.013365\n",
       "4  0.011578  0.008844  0.009217  0.010177"
      ]
     },
     "execution_count": 194,
     "metadata": {},
     "output_type": "execute_result"
    }
   ],
   "source": [
    "normed_dict = {panel: reshape_df(df, include_stats=True) for panel, df in group_dict.items()}\n",
    "\n",
    "tso_means = pd.concat([normed_dict['T1'].Mean, normed_dict['T2'].Mean, normed_dict['T3'].Mean, normed_dict['T4'].Mean], axis=1)\n",
    "tso_means.columns = ['t1', 't2', 't3', 't4']\n",
    "tso_means.head()"
   ]
  },
  {
   "cell_type": "code",
   "execution_count": 195,
   "metadata": {
    "collapsed": false
   },
   "outputs": [
    {
     "data": {
      "text/plain": [
       "<matplotlib.figure.Figure at 0x10d713d90>"
      ]
     },
     "metadata": {},
     "output_type": "display_data"
    },
    {
     "data": {
      "image/png": "[encoded data removed]",
      "text/plain": [
       "<matplotlib.figure.Figure at 0x10e8fbe50>"
      ]
     },
     "metadata": {},
     "output_type": "display_data"
    }
   ],
   "source": [
    "plt.figure()\n",
    "g = sns.pairplot(tso_means)"
   ]
  },
  {
   "cell_type": "code",
   "execution_count": 196,
   "metadata": {
    "collapsed": false
   },
   "outputs": [
    {
     "data": {
      "text/plain": [
       "<matplotlib.figure.Figure at 0x10d7250d0>"
      ]
     },
     "metadata": {},
     "output_type": "display_data"
    },
    {
     "data": {
      "image/png": "[encoded data removed]",
      "text/plain": [
       "<matplotlib.figure.Figure at 0x10ebaf8d0>"
      ]
     },
     "metadata": {},
     "output_type": "display_data"
    }
   ],
   "source": [
    "tsid_means = pd.concat([normed_dict['P1'].Mean, normed_dict['P2'].Mean, normed_dict['P3'].Mean], axis=1)\n",
    "tsid_means.columns = ['p1', 'p2', 'p3']\n",
    "plt.figure()\n",
    "g2 = sns.pairplot(tsid_means)"
   ]
  },
  {
   "cell_type": "code",
   "execution_count": 26,
   "metadata": {
    "collapsed": false
   },
   "outputs": [
    {
     "data": {
      "text/plain": [
       "(<matplotlib.text.Text at 0x111c27d90>, <matplotlib.text.Text at 0x111089610>)"
      ]
     },
     "execution_count": 26,
     "metadata": {},
     "output_type": "execute_result"
    },
    {
     "data": {
      "image/png": "[encoded data removed]",
      "text/plain": [
       "<matplotlib.figure.Figure at 0x111eea750>"
      ]
     },
     "metadata": {},
     "output_type": "display_data"
    }
   ],
   "source": [
    "plt.figure()\n",
    "plt.plot(tso_means.t1, tsid_means.p1, '.')\n",
    "plt.xlabel('TSO Coverage Ratios'), plt.ylabel('TSID Coverage Ratios')"
   ]
  },
  {
   "cell_type": "markdown",
   "metadata": {},
   "source": [
    "Coverage ratios between the largest groups of TSO and TSID subjects (T1 and P1 respectively) do not seem to correlate very well, indicating significantly different levels of coverage between the two panels."
   ]
  },
  {
   "cell_type": "markdown",
   "metadata": {},
   "source": [
    "## Mix-In Experiment Regression"
   ]
  },
  {
   "cell_type": "code",
   "execution_count": 138,
   "metadata": {
    "collapsed": false
   },
   "outputs": [
    {
     "name": "stdout",
     "output_type": "stream",
     "text": [
      "The following exons were merged: ['53|54', '69|70']\n"
     ]
    }
   ],
   "source": [
    "# the exon of interest is 37 in the tsid panel\n",
    "# exon 54 is the region that contains the untranslated regions of two first exons\n",
    "# exons 65/66 which have always been merged are now known as 69/70 in the tsid panel\n",
    "\n",
    "tsid_exons_merged = util.merge_intervals(tsid_sorted, min_dist=200, include_index=True)\n",
    "tsid_exon_labels = ['Ex' + exon['index'] for exon in tsid_exons_merged]\n",
    "print 'The following exons were merged: {}'.format([exon['index'] for exon in tsid_exons_merged if not exon['index'].isdigit()]) "
   ]
  },
  {
   "cell_type": "code",
   "execution_count": 180,
   "metadata": {
    "collapsed": false
   },
   "outputs": [
    {
     "name": "stderr",
     "output_type": "stream",
     "text": [
      "Finished parsing all 12 subjects\n",
      "376414 reads were skipped due to outside_of_exon\n",
      "9005 reads were skipped due to MAPQ below 60\n"
     ]
    }
   ],
   "source": [
    "reload(cov)\n",
    "mixin_exp = cov.coverageMatrix().create_coverage_matrix(tsid_exons_merged, tsid_exon_labels, bam_dir='../bams/mixin_exp')"
   ]
  },
  {
   "cell_type": "code",
   "execution_count": 181,
   "metadata": {
    "collapsed": false
   },
   "outputs": [
    {
     "name": "stdout",
     "output_type": "stream",
     "text": [
      "['FGPC-0000-444F' 'FPWB-0000-981L' 'FPWB-0001-1232']\n",
      "[datetime.date(2017, 2, 28)]\n"
     ]
    }
   ],
   "source": [
    "mixin_exp.date_modified = pd.to_datetime(mixin_exp.date_modified, unit='s')\n",
    "mixin_exp['date'] = mixin_exp.date_modified.dt.date\n",
    "# drop unnecessary columns (is_rerun, and coding regions)\n",
    "mixin_exp.drop(['is_rerun'], axis=1, inplace=True)\n",
    "print mixin_exp.subject.unique()\n",
    "print mixin_exp.date.unique()"
   ]
  },
  {
   "cell_type": "code",
   "execution_count": 130,
   "metadata": {
    "collapsed": false
   },
   "outputs": [
    {
     "data": {
      "text/html": [
       "<div>\n",
       "<table border=\"1\" class=\"dataframe\">\n",
       "  <thead>\n",
       "    <tr style=\"text-align: right;\">\n",
       "      <th></th>\n",
       "      <th>id</th>\n",
       "      <th>subject</th>\n",
       "      <th>specimen</th>\n",
       "      <th>sample</th>\n",
       "      <th>gender</th>\n",
       "      <th>sequencer</th>\n",
       "      <th>flow_cell_id</th>\n",
       "      <th>lane</th>\n",
       "      <th>bwa_version</th>\n",
       "      <th>date_modified</th>\n",
       "      <th>...</th>\n",
       "      <th>tsid_36</th>\n",
       "      <th>tsid_37</th>\n",
       "      <th>tsid_38</th>\n",
       "      <th>tsid_39</th>\n",
       "      <th>tsid_40</th>\n",
       "      <th>tsid_41</th>\n",
       "      <th>tsid_42</th>\n",
       "      <th>tsid_43</th>\n",
       "      <th>tsid_44</th>\n",
       "      <th>date</th>\n",
       "    </tr>\n",
       "  </thead>\n",
       "  <tbody>\n",
       "    <tr>\n",
       "      <th>0</th>\n",
       "      <td>FGPC-0000-444F_1-T2-1_H5FGFAFXX-L004</td>\n",
       "      <td>FGPC-0000-444F</td>\n",
       "      <td>FGPC-0000-444F_1</td>\n",
       "      <td>FGPC-0000-444F_1-T2-1</td>\n",
       "      <td>F</td>\n",
       "      <td>T2</td>\n",
       "      <td>H5FGFAFXX</td>\n",
       "      <td>L004</td>\n",
       "      <td>0.7.10-r789</td>\n",
       "      <td>2017-02-28 15:28:23</td>\n",
       "      <td>...</td>\n",
       "      <td>142</td>\n",
       "      <td>107</td>\n",
       "      <td>162</td>\n",
       "      <td>171</td>\n",
       "      <td>123</td>\n",
       "      <td>191</td>\n",
       "      <td>134</td>\n",
       "      <td>158</td>\n",
       "      <td>146</td>\n",
       "      <td>2017-02-28</td>\n",
       "    </tr>\n",
       "    <tr>\n",
       "      <th>1</th>\n",
       "      <td>FGPC-0000-444F_1-T2-1_H5FGFAFXX-L002</td>\n",
       "      <td>FGPC-0000-444F</td>\n",
       "      <td>FGPC-0000-444F_1</td>\n",
       "      <td>FGPC-0000-444F_1-T2-1</td>\n",
       "      <td>F</td>\n",
       "      <td>T2</td>\n",
       "      <td>H5FGFAFXX</td>\n",
       "      <td>L002</td>\n",
       "      <td>0.7.10-r789</td>\n",
       "      <td>2017-02-28 15:28:23</td>\n",
       "      <td>...</td>\n",
       "      <td>181</td>\n",
       "      <td>150</td>\n",
       "      <td>152</td>\n",
       "      <td>141</td>\n",
       "      <td>136</td>\n",
       "      <td>212</td>\n",
       "      <td>151</td>\n",
       "      <td>143</td>\n",
       "      <td>130</td>\n",
       "      <td>2017-02-28</td>\n",
       "    </tr>\n",
       "    <tr>\n",
       "      <th>2</th>\n",
       "      <td>FGPC-0000-444F_1-T2-1_H5FGFAFXX-L003</td>\n",
       "      <td>FGPC-0000-444F</td>\n",
       "      <td>FGPC-0000-444F_1</td>\n",
       "      <td>FGPC-0000-444F_1-T2-1</td>\n",
       "      <td>F</td>\n",
       "      <td>T2</td>\n",
       "      <td>H5FGFAFXX</td>\n",
       "      <td>L003</td>\n",
       "      <td>0.7.10-r789</td>\n",
       "      <td>2017-02-28 15:28:23</td>\n",
       "      <td>...</td>\n",
       "      <td>154</td>\n",
       "      <td>132</td>\n",
       "      <td>134</td>\n",
       "      <td>177</td>\n",
       "      <td>153</td>\n",
       "      <td>129</td>\n",
       "      <td>161</td>\n",
       "      <td>200</td>\n",
       "      <td>105</td>\n",
       "      <td>2017-02-28</td>\n",
       "    </tr>\n",
       "    <tr>\n",
       "      <th>3</th>\n",
       "      <td>FGPC-0000-444F_1-T2-1_H5FGFAFXX-L001</td>\n",
       "      <td>FGPC-0000-444F</td>\n",
       "      <td>FGPC-0000-444F_1</td>\n",
       "      <td>FGPC-0000-444F_1-T2-1</td>\n",
       "      <td>F</td>\n",
       "      <td>T2</td>\n",
       "      <td>H5FGFAFXX</td>\n",
       "      <td>L001</td>\n",
       "      <td>0.7.10-r789</td>\n",
       "      <td>2017-02-28 15:28:23</td>\n",
       "      <td>...</td>\n",
       "      <td>145</td>\n",
       "      <td>136</td>\n",
       "      <td>154</td>\n",
       "      <td>192</td>\n",
       "      <td>130</td>\n",
       "      <td>220</td>\n",
       "      <td>158</td>\n",
       "      <td>172</td>\n",
       "      <td>158</td>\n",
       "      <td>2017-02-28</td>\n",
       "    </tr>\n",
       "    <tr>\n",
       "      <th>4</th>\n",
       "      <td>FGPC-0000-444F_1-T3-1_H5FGFAFXX-L001</td>\n",
       "      <td>FGPC-0000-444F</td>\n",
       "      <td>FGPC-0000-444F_1</td>\n",
       "      <td>FGPC-0000-444F_1-T3-1</td>\n",
       "      <td>F</td>\n",
       "      <td>T3</td>\n",
       "      <td>H5FGFAFXX</td>\n",
       "      <td>L001</td>\n",
       "      <td>0.7.10-r789</td>\n",
       "      <td>2017-02-28 15:35:04</td>\n",
       "      <td>...</td>\n",
       "      <td>167</td>\n",
       "      <td>87</td>\n",
       "      <td>143</td>\n",
       "      <td>158</td>\n",
       "      <td>146</td>\n",
       "      <td>182</td>\n",
       "      <td>182</td>\n",
       "      <td>176</td>\n",
       "      <td>110</td>\n",
       "      <td>2017-02-28</td>\n",
       "    </tr>\n",
       "  </tbody>\n",
       "</table>\n",
       "<p>5 rows × 41 columns</p>\n",
       "</div>"
      ],
      "text/plain": [
       "                                     id         subject          specimen  \\\n",
       "0  FGPC-0000-444F_1-T2-1_H5FGFAFXX-L004  FGPC-0000-444F  FGPC-0000-444F_1   \n",
       "1  FGPC-0000-444F_1-T2-1_H5FGFAFXX-L002  FGPC-0000-444F  FGPC-0000-444F_1   \n",
       "2  FGPC-0000-444F_1-T2-1_H5FGFAFXX-L003  FGPC-0000-444F  FGPC-0000-444F_1   \n",
       "3  FGPC-0000-444F_1-T2-1_H5FGFAFXX-L001  FGPC-0000-444F  FGPC-0000-444F_1   \n",
       "4  FGPC-0000-444F_1-T3-1_H5FGFAFXX-L001  FGPC-0000-444F  FGPC-0000-444F_1   \n",
       "\n",
       "                  sample gender sequencer flow_cell_id  lane  bwa_version  \\\n",
       "0  FGPC-0000-444F_1-T2-1      F        T2    H5FGFAFXX  L004  0.7.10-r789   \n",
       "1  FGPC-0000-444F_1-T2-1      F        T2    H5FGFAFXX  L002  0.7.10-r789   \n",
       "2  FGPC-0000-444F_1-T2-1      F        T2    H5FGFAFXX  L003  0.7.10-r789   \n",
       "3  FGPC-0000-444F_1-T2-1      F        T2    H5FGFAFXX  L001  0.7.10-r789   \n",
       "4  FGPC-0000-444F_1-T3-1      F        T3    H5FGFAFXX  L001  0.7.10-r789   \n",
       "\n",
       "        date_modified     ...      tsid_36  tsid_37  tsid_38  tsid_39  \\\n",
       "0 2017-02-28 15:28:23     ...          142      107      162      171   \n",
       "1 2017-02-28 15:28:23     ...          181      150      152      141   \n",
       "2 2017-02-28 15:28:23     ...          154      132      134      177   \n",
       "3 2017-02-28 15:28:23     ...          145      136      154      192   \n",
       "4 2017-02-28 15:35:04     ...          167       87      143      158   \n",
       "\n",
       "   tsid_40  tsid_41  tsid_42  tsid_43  tsid_44        date  \n",
       "0      123      191      134      158      146  2017-02-28  \n",
       "1      136      212      151      143      130  2017-02-28  \n",
       "2      153      129      161      200      105  2017-02-28  \n",
       "3      130      220      158      172      158  2017-02-28  \n",
       "4      146      182      182      176      110  2017-02-28  \n",
       "\n",
       "[5 rows x 41 columns]"
      ]
     },
     "execution_count": 130,
     "metadata": {},
     "output_type": "execute_result"
    }
   ],
   "source": [
    "mixin_exp.head()"
   ]
  },
  {
   "cell_type": "code",
   "execution_count": 109,
   "metadata": {
    "collapsed": false
   },
   "outputs": [],
   "source": [
    "def set_prop_tsid(row):\n",
    "    if 'T2' in row.name:\n",
    "        return 0.5\n",
    "    elif 'T3' in row.name:\n",
    "        return 0.33\n",
    "    elif 'T4' in row.name:\n",
    "        return 0.2\n",
    "    else:\n",
    "        return 1.0"
   ]
  },
  {
   "cell_type": "code",
   "execution_count": 182,
   "metadata": {
    "collapsed": false
   },
   "outputs": [
    {
     "data": {
      "text/html": [
       "<div>\n",
       "<table border=\"1\" class=\"dataframe\">\n",
       "  <thead>\n",
       "    <tr style=\"text-align: right;\">\n",
       "      <th></th>\n",
       "      <th>Ex1</th>\n",
       "      <th>Ex2</th>\n",
       "      <th>Ex3</th>\n",
       "      <th>Ex4</th>\n",
       "      <th>Ex5</th>\n",
       "      <th>Ex6</th>\n",
       "      <th>Ex7</th>\n",
       "      <th>Ex8</th>\n",
       "      <th>Ex9</th>\n",
       "      <th>Ex10</th>\n",
       "      <th>...</th>\n",
       "      <th>Ex77</th>\n",
       "      <th>Ex78</th>\n",
       "      <th>Ex79</th>\n",
       "      <th>Ex80</th>\n",
       "      <th>Ex81</th>\n",
       "      <th>Ex82</th>\n",
       "      <th>Ex83</th>\n",
       "      <th>Ex84</th>\n",
       "      <th>Ex85</th>\n",
       "      <th>tsid_prop</th>\n",
       "    </tr>\n",
       "    <tr>\n",
       "      <th>sample</th>\n",
       "      <th></th>\n",
       "      <th></th>\n",
       "      <th></th>\n",
       "      <th></th>\n",
       "      <th></th>\n",
       "      <th></th>\n",
       "      <th></th>\n",
       "      <th></th>\n",
       "      <th></th>\n",
       "      <th></th>\n",
       "      <th></th>\n",
       "      <th></th>\n",
       "      <th></th>\n",
       "      <th></th>\n",
       "      <th></th>\n",
       "      <th></th>\n",
       "      <th></th>\n",
       "      <th></th>\n",
       "      <th></th>\n",
       "      <th></th>\n",
       "      <th></th>\n",
       "    </tr>\n",
       "  </thead>\n",
       "  <tbody>\n",
       "    <tr>\n",
       "      <th>FGPC-0000-444F_1-T2-1</th>\n",
       "      <td>0.043195</td>\n",
       "      <td>0.004209</td>\n",
       "      <td>0.011617</td>\n",
       "      <td>0.014726</td>\n",
       "      <td>0.009847</td>\n",
       "      <td>0.012837</td>\n",
       "      <td>0.021404</td>\n",
       "      <td>0.017671</td>\n",
       "      <td>0.005905</td>\n",
       "      <td>0.032203</td>\n",
       "      <td>...</td>\n",
       "      <td>0.009639</td>\n",
       "      <td>0.011513</td>\n",
       "      <td>0.008062</td>\n",
       "      <td>0.007407</td>\n",
       "      <td>0.010338</td>\n",
       "      <td>0.004656</td>\n",
       "      <td>0.010814</td>\n",
       "      <td>0.010531</td>\n",
       "      <td>0.027473</td>\n",
       "      <td>0.50</td>\n",
       "    </tr>\n",
       "    <tr>\n",
       "      <th>FGPC-0000-444F_1-T3-1</th>\n",
       "      <td>0.036531</td>\n",
       "      <td>0.004933</td>\n",
       "      <td>0.010044</td>\n",
       "      <td>0.015219</td>\n",
       "      <td>0.009512</td>\n",
       "      <td>0.011511</td>\n",
       "      <td>0.021619</td>\n",
       "      <td>0.017153</td>\n",
       "      <td>0.006626</td>\n",
       "      <td>0.031453</td>\n",
       "      <td>...</td>\n",
       "      <td>0.010173</td>\n",
       "      <td>0.013655</td>\n",
       "      <td>0.008432</td>\n",
       "      <td>0.006836</td>\n",
       "      <td>0.010028</td>\n",
       "      <td>0.004707</td>\n",
       "      <td>0.011204</td>\n",
       "      <td>0.008980</td>\n",
       "      <td>0.024585</td>\n",
       "      <td>0.33</td>\n",
       "    </tr>\n",
       "    <tr>\n",
       "      <th>FGPC-0000-444F_1-T4-1</th>\n",
       "      <td>0.033073</td>\n",
       "      <td>0.004502</td>\n",
       "      <td>0.010468</td>\n",
       "      <td>0.013413</td>\n",
       "      <td>0.009492</td>\n",
       "      <td>0.011893</td>\n",
       "      <td>0.020560</td>\n",
       "      <td>0.015777</td>\n",
       "      <td>0.005628</td>\n",
       "      <td>0.032041</td>\n",
       "      <td>...</td>\n",
       "      <td>0.009774</td>\n",
       "      <td>0.012587</td>\n",
       "      <td>0.006509</td>\n",
       "      <td>0.007204</td>\n",
       "      <td>0.009905</td>\n",
       "      <td>0.004127</td>\n",
       "      <td>0.009830</td>\n",
       "      <td>0.009248</td>\n",
       "      <td>0.023430</td>\n",
       "      <td>0.20</td>\n",
       "    </tr>\n",
       "    <tr>\n",
       "      <th>FGPC-0000-444F_1-T5-1</th>\n",
       "      <td>0.047463</td>\n",
       "      <td>0.003086</td>\n",
       "      <td>0.012808</td>\n",
       "      <td>0.011417</td>\n",
       "      <td>0.007715</td>\n",
       "      <td>0.013994</td>\n",
       "      <td>0.021147</td>\n",
       "      <td>0.017179</td>\n",
       "      <td>0.004462</td>\n",
       "      <td>0.032762</td>\n",
       "      <td>...</td>\n",
       "      <td>0.006689</td>\n",
       "      <td>0.012945</td>\n",
       "      <td>0.009464</td>\n",
       "      <td>0.006910</td>\n",
       "      <td>0.010140</td>\n",
       "      <td>0.005610</td>\n",
       "      <td>0.007921</td>\n",
       "      <td>0.009342</td>\n",
       "      <td>0.025191</td>\n",
       "      <td>1.00</td>\n",
       "    </tr>\n",
       "    <tr>\n",
       "      <th>FPWB-0000-981L_1-T2-1</th>\n",
       "      <td>0.039004</td>\n",
       "      <td>0.005274</td>\n",
       "      <td>0.010657</td>\n",
       "      <td>0.013067</td>\n",
       "      <td>0.009876</td>\n",
       "      <td>0.015346</td>\n",
       "      <td>0.021032</td>\n",
       "      <td>0.019014</td>\n",
       "      <td>0.005926</td>\n",
       "      <td>0.030995</td>\n",
       "      <td>...</td>\n",
       "      <td>0.010245</td>\n",
       "      <td>0.012068</td>\n",
       "      <td>0.008270</td>\n",
       "      <td>0.007922</td>\n",
       "      <td>0.010332</td>\n",
       "      <td>0.004558</td>\n",
       "      <td>0.010418</td>\n",
       "      <td>0.009029</td>\n",
       "      <td>0.027869</td>\n",
       "      <td>0.50</td>\n",
       "    </tr>\n",
       "  </tbody>\n",
       "</table>\n",
       "<p>5 rows × 84 columns</p>\n",
       "</div>"
      ],
      "text/plain": [
       "                            Ex1       Ex2       Ex3       Ex4       Ex5  \\\n",
       "sample                                                                    \n",
       "FGPC-0000-444F_1-T2-1  0.043195  0.004209  0.011617  0.014726  0.009847   \n",
       "FGPC-0000-444F_1-T3-1  0.036531  0.004933  0.010044  0.015219  0.009512   \n",
       "FGPC-0000-444F_1-T4-1  0.033073  0.004502  0.010468  0.013413  0.009492   \n",
       "FGPC-0000-444F_1-T5-1  0.047463  0.003086  0.012808  0.011417  0.007715   \n",
       "FPWB-0000-981L_1-T2-1  0.039004  0.005274  0.010657  0.013067  0.009876   \n",
       "\n",
       "                            Ex6       Ex7       Ex8       Ex9      Ex10  \\\n",
       "sample                                                                    \n",
       "FGPC-0000-444F_1-T2-1  0.012837  0.021404  0.017671  0.005905  0.032203   \n",
       "FGPC-0000-444F_1-T3-1  0.011511  0.021619  0.017153  0.006626  0.031453   \n",
       "FGPC-0000-444F_1-T4-1  0.011893  0.020560  0.015777  0.005628  0.032041   \n",
       "FGPC-0000-444F_1-T5-1  0.013994  0.021147  0.017179  0.004462  0.032762   \n",
       "FPWB-0000-981L_1-T2-1  0.015346  0.021032  0.019014  0.005926  0.030995   \n",
       "\n",
       "                         ...          Ex77      Ex78      Ex79      Ex80  \\\n",
       "sample                   ...                                               \n",
       "FGPC-0000-444F_1-T2-1    ...      0.009639  0.011513  0.008062  0.007407   \n",
       "FGPC-0000-444F_1-T3-1    ...      0.010173  0.013655  0.008432  0.006836   \n",
       "FGPC-0000-444F_1-T4-1    ...      0.009774  0.012587  0.006509  0.007204   \n",
       "FGPC-0000-444F_1-T5-1    ...      0.006689  0.012945  0.009464  0.006910   \n",
       "FPWB-0000-981L_1-T2-1    ...      0.010245  0.012068  0.008270  0.007922   \n",
       "\n",
       "                           Ex81      Ex82      Ex83      Ex84      Ex85  \\\n",
       "sample                                                                    \n",
       "FGPC-0000-444F_1-T2-1  0.010338  0.004656  0.010814  0.010531  0.027473   \n",
       "FGPC-0000-444F_1-T3-1  0.010028  0.004707  0.011204  0.008980  0.024585   \n",
       "FGPC-0000-444F_1-T4-1  0.009905  0.004127  0.009830  0.009248  0.023430   \n",
       "FGPC-0000-444F_1-T5-1  0.010140  0.005610  0.007921  0.009342  0.025191   \n",
       "FPWB-0000-981L_1-T2-1  0.010332  0.004558  0.010418  0.009029  0.027869   \n",
       "\n",
       "                       tsid_prop  \n",
       "sample                            \n",
       "FGPC-0000-444F_1-T2-1       0.50  \n",
       "FGPC-0000-444F_1-T3-1       0.33  \n",
       "FGPC-0000-444F_1-T4-1       0.20  \n",
       "FGPC-0000-444F_1-T5-1       1.00  \n",
       "FPWB-0000-981L_1-T2-1       0.50  \n",
       "\n",
       "[5 rows x 84 columns]"
      ]
     },
     "execution_count": 182,
     "metadata": {},
     "output_type": "execute_result"
    }
   ],
   "source": [
    "mixin_exp_grouped = mixin_exp.groupby('sample').sum()\n",
    "mixin_norm = mixin_exp_grouped.div(mixin_exp_grouped.sum(axis=1), axis=0)\n",
    "mixin_norm['tsid_prop'] = mixin_norm.apply(set_prop_tsid, axis=1)\n",
    "mixin_norm.head()"
   ]
  },
  {
   "cell_type": "code",
   "execution_count": 183,
   "metadata": {
    "collapsed": false
   },
   "outputs": [
    {
     "name": "stdout",
     "output_type": "stream",
     "text": [
      "Intercept    0.002379\n",
      "tsid_prop    0.011475\n",
      "dtype: float64\n"
     ]
    }
   ],
   "source": [
    "# performing the regression after removing the tsid only results (clearly not linear effect then)\n",
    "mixin_norm2 = mixin_norm[mixin_norm.tsid_prop != 1.0]\n",
    "regression = sm.ols(formula=\"Ex38 ~ tsid_prop\", data=mixin_norm2).fit()\n",
    "print regression.params"
   ]
  },
  {
   "cell_type": "code",
   "execution_count": 184,
   "metadata": {
    "collapsed": false
   },
   "outputs": [
    {
     "name": "stdout",
     "output_type": "stream",
     "text": [
      "                            OLS Regression Results                            \n",
      "==============================================================================\n",
      "Dep. Variable:                   Ex38   R-squared:                       0.921\n",
      "Model:                            OLS   Adj. R-squared:                  0.909\n",
      "Method:                 Least Squares   F-statistic:                     81.34\n",
      "Date:                Tue, 28 Feb 2017   Prob (F-statistic):           4.21e-05\n",
      "Time:                        18:56:37   Log-Likelihood:                 57.348\n",
      "No. Observations:                   9   AIC:                            -110.7\n",
      "Df Residuals:                       7   BIC:                            -110.3\n",
      "Df Model:                           1                                         \n",
      "Covariance Type:            nonrobust                                         \n",
      "==============================================================================\n",
      "                 coef    std err          t      P>|t|      [0.025      0.975]\n",
      "------------------------------------------------------------------------------\n",
      "Intercept      0.0024      0.000      5.127      0.001       0.001       0.003\n",
      "tsid_prop      0.0115      0.001      9.019      0.000       0.008       0.014\n",
      "==============================================================================\n",
      "Omnibus:                        0.862   Durbin-Watson:                   2.529\n",
      "Prob(Omnibus):                  0.650   Jarque-Bera (JB):                0.626\n",
      "Skew:                           0.256   Prob(JB):                        0.731\n",
      "Kurtosis:                       1.814   Cond. No.                         9.11\n",
      "==============================================================================\n",
      "\n",
      "Warnings:\n",
      "[1] Standard Errors assume that the covariance matrix of the errors is correctly specified.\n"
     ]
    },
    {
     "name": "stderr",
     "output_type": "stream",
     "text": [
      "/Users/velina/.pyenv/versions/2.7.11/envs/dmd/lib/python2.7/site-packages/scipy/stats/stats.py:1326: UserWarning: kurtosistest only valid for n>=20 ... continuing anyway, n=9\n",
      "  \"anyway, n=%i\" % int(n))\n"
     ]
    }
   ],
   "source": [
    "print regression.summary()"
   ]
  },
  {
   "cell_type": "markdown",
   "metadata": {},
   "source": [
    "## Plotting coverage ratio of various exons as function of TSID proportion\n",
    "Note that Exon 38 (first one) is the only one that appears exclusively in TSID."
   ]
  },
  {
   "cell_type": "code",
   "execution_count": 188,
   "metadata": {
    "collapsed": false,
    "scrolled": false
   },
   "outputs": [
    {
     "data": {
      "text/plain": [
       "(<matplotlib.text.Text at 0x10df3ff90>, <matplotlib.text.Text at 0x10dec9a50>)"
      ]
     },
     "execution_count": 188,
     "metadata": {},
     "output_type": "execute_result"
    },
    {
     "data": {
      "image/png": "[encoded data removed]",
      "text/plain": [
       "<matplotlib.figure.Figure at 0x10db36a90>"
      ]
     },
     "metadata": {},
     "output_type": "display_data"
    },
    {
     "data": {
      "image/png": "[encoded data removed]",
      "text/plain": [
       "<matplotlib.figure.Figure at 0x10c7f4390>"
      ]
     },
     "metadata": {},
     "output_type": "display_data"
    },
    {
     "data": {
      "image/png": "[encoded data removed]",
      "text/plain": [
       "<matplotlib.figure.Figure at 0x10de34490>"
      ]
     },
     "metadata": {},
     "output_type": "display_data"
    },
    {
     "data": {
      "image/png": "[encoded data removed]",
      "text/plain": [
       "<matplotlib.figure.Figure at 0x10de9a390>"
      ]
     },
     "metadata": {},
     "output_type": "display_data"
    },
    {
     "data": {
      "image/png": "[encoded data removed]",
      "text/plain": [
       "<matplotlib.figure.Figure at 0x10df33210>"
      ]
     },
     "metadata": {},
     "output_type": "display_data"
    }
   ],
   "source": [
    "plt.figure()\n",
    "plt.plot(mixin_norm.tsid_prop, mixin_norm.Ex38, '.')\n",
    "plt.xlabel('TSID Mixin Proportion'), plt.ylabel('Exon Coverage Ratio, Ex38 in TSID')\n",
    "plt.title('Coverage Changes for TSID only exon - Exon 38')\n",
    "\n",
    "plt.figure()\n",
    "plt.plot(mixin_norm.tsid_prop, mixin_norm.Ex35, '.')\n",
    "plt.xlabel('TSID Mixin Proportion'), plt.ylabel('Exon Coverage Ratio, Ex35 in TSID')\n",
    "\n",
    "plt.figure()\n",
    "plt.plot(mixin_norm.tsid_prop, mixin_norm.Ex41, '.')\n",
    "plt.xlabel('TSID Mixin Proportion'), plt.ylabel('Exon Coverage Ratio, Ex41 in TSID')\n",
    "\n",
    "plt.figure()\n",
    "plt.plot(mixin_norm.tsid_prop, mixin_norm.Ex26, '.')\n",
    "plt.xlabel('TSID Mixin Proportion'), plt.ylabel('Exon Coverage Ratio, Ex26 in TSID')\n",
    "\n",
    "plt.figure()\n",
    "plt.plot(mixin_norm.tsid_prop, mixin_norm.Ex65, '.')\n",
    "plt.xlabel('TSID Mixin Proportion'), plt.ylabel('Exon Coverage Ratio, Ex65 in TSID')"
   ]
  },
  {
   "cell_type": "markdown",
   "metadata": {},
   "source": [
    "## Gibbs Sampling\n"
   ]
  },
  {
   "cell_type": "markdown",
   "metadata": {},
   "source": [
    "The full gene product of DMD consists of 78 exons, each with its own copy number in each subject ($\\mathbf{C} = \\{c_1, c_2, ..., c_{78}\\}$), where $c_i \\in{1,2,3...}$ For this simple model, assume that the $c_i$ are distributed discrete uniformly with support $ \\{1,2,3\\}$. \n",
    "\n",
    "We also know \"intensity\" values across the exons $\\mathbf{X}= \\{x_1, x_2,..., x_{78}\\}$, and we let $$\\mathbf{P} = \\dfrac{\\mathbf{C}\\mathbf{X}}{\\sum_i c_ix_i} = \\{p_1, p_2, ..., p_{78}\\}$$ \n",
    "\n",
    "This generates probability values for the multinomial distribution from which we will sample the reads for a single simulated \"sequencing run\". \n",
    "\n",
    "Initialize the intensities $\\mathbf{X}$ (see X_probs above). Initialize $c_i$ values based on basic prior distribution. Assume 5000 reads per sample/subject and initialize a single sequencing run $Y = \\{y_1, y_2, ... y_{78}\\}$. When testing a real subject's data, we still use the known $\\mathbf{X}$ but use data $Y$ from the subject where $y_i$ represents the number of reads mapped to exon $i$.\n",
    "\n",
    "At each iteration $t$, sample $c_i^t$ from the posterior distribution\n",
    "$$f_{C^t|Y, C_{-i}^t}(c) = \\dfrac{\\Pi_{j=1}^{78} (p_j|c_i=c)^{y_j}}{\\sum_c \\Pi_{j=1}^{78} (p_j|c_i=c)^{y_j}} $$ \n",
    "where $$ C_{-i}^t = \\{ c_1^t,...c_{i-1}^t, c_{i+1}^{t-1}, ... c_{78}^{t-1} \\}$$\n",
    "\n",
    "Normally this expression would include the prior distribution over $c$ but it easily cancels out as the uniform. (This expression also does not include the multinomial constant). \n",
    "\n",
    "**Implementation considerations**: $\\Pi_j (p_j|c_i=c)^{y_j}$ can cause under/overflow in Python (or washout of values too close to 0), but trying to use the log of the posterior distribution leads to \n",
    "$$  \\sum y_j \\log (p_j|c_i=c) - \\log \\sum \\Pi_j (p_j|c_i=c)^{y_j}$$\n",
    "\n",
    "**Solution**: Convert to log space and divide by the maximal likelihood to normalize (and keep values from shrinking too close to 0):\n",
    "$$ \\dfrac{\\exp\\left(\\sum y_j \\log (p_j|c_i=c) - \\max_c \\sum y_j \\log (p_j|c_i=c)\\right)}{\\sum_c \\exp\\left(\\sum y_j \\log (p_j|c_i=c) - \\max_c \\sum y_j \\log (p_j|c_i=c)\\right)}$$ \n",
    "\n",
    "Store the $C^t$ values only for iterations $t=1000... 10,000$. This allows for a burn-in period of 1000 iterations during which the sampling distributions are likely to be least accurate. To reduce auto-correlation, only include every hundredth sampling in final analysis as well. For each exon $i$, count the proportions of samples falling into each possible copy number across the relevant subset of iterations. \n"
   ]
  },
  {
   "cell_type": "markdown",
   "metadata": {},
   "source": [
    "### Next Steps\n",
    "* Incorporate more complex and representative prior for the copy number distribution (in particular, there should be higher prior probability for 2 copies of exon)\n",
    "* Determine more accurate estimate of burn-in period (strange log-likelihood behavior, should converge as iterations increase)\n",
    "* Account for increased likelihood of copy number correlation between neighboring exons\n",
    "* Consider modifying prior for two exon deletion hotspots (around 45-50 and 18-20)\n",
    "* **Incorporate step for correcting for mixin-based discrepancies**\n"
   ]
  },
  {
   "cell_type": "code",
   "execution_count": 395,
   "metadata": {
    "collapsed": false
   },
   "outputs": [],
   "source": [
    "def generate_gibbs_df(cnv_support, X_probs, data=None, cnv=None, total_reads=5000, iterations=10000, burn_in=1000):\n",
    "    '''Performs Gibbs sampling given a support vector for CNVs, an intensity vector and subject data (optional)'''\n",
    "    if cnv is None:\n",
    "        # generate initial guess for exon copy numbers using uniform prior distribution\n",
    "        cnv = np.random.choice(cnv_support, size=len(X_probs)) \n",
    "    print cnv \n",
    "    normed_probs_first = np.multiply(cnv, X_probs) / np.sum(np.multiply(cnv, X_probs))\n",
    "    if data is None:\n",
    "        data = np.random.multinomial(total_reads, normed_probs_first)\n",
    "    gibbs_data = np.zeros((len(X_probs), iterations))\n",
    "    \n",
    "    likelihoods = np.zeros(iterations)\n",
    "    for i in range(iterations):\n",
    "        if (i+1) % (iterations / 20) == 0:\n",
    "            print 'Finished {} iterations'.format(i)\n",
    "        for exon in range(len(X_probs)):\n",
    "            test = np.zeros(len(cnv_support))\n",
    "            for value in cnv_support:\n",
    "                cnv[exon] = value\n",
    "                # get new normed probabilities given test value\n",
    "                normed_probs_test = np.multiply(cnv, X_probs) / np.sum(np.multiply(cnv, X_probs)) \n",
    "                log_likelihood =  np.sum(np.multiply(np.log(normed_probs_test), data))\n",
    "                test[value - 1] = log_likelihood\n",
    "            test = test - np.max(test)\n",
    "            sample_probs = np.exp(test)\n",
    "            sample_probs = sample_probs / np.sum(sample_probs)\n",
    "            new_cnv = np.random.choice(cnv_support, p = sample_probs)\n",
    "            cnv[exon] = new_cnv\n",
    "            gibbs_data[exon, i] = new_cnv\n",
    "        log_probs = np.log(np.multiply(cnv, X_probs) / np.sum(np.multiply(cnv, X_probs)))\n",
    "        likelihoods[i] = np.sum(np.multiply(log_probs, data))\n",
    "    \n",
    "    # get proportions using burn-in of 1000 iterations \n",
    "    gibbs_data_results = np.zeros((len(X_probs), len(cnv_support)))\n",
    "    for index in range(len(X_probs)):\n",
    "        # exclude samples before burn in and then take only every 100th sample to reduce autocorrelation\n",
    "        gibbs_slice = gibbs_data[index][burn_in:][::100]\n",
    "        gibbs_data_results[index] = np.bincount(gibbs_slice.astype(np.int64), \n",
    "                                                minlength=len(cnv_support)+1)[1:]\n",
    "    gibbs_data_results = gibbs_data_results / float(len(gibbs_slice))\n",
    "    \n",
    "    gibbs_df = pd.DataFrame(gibbs_data_results, columns =['copy_{}'.format(cnv) for cnv in cnv_support])\n",
    "    gibbs_df['Exon'] = exon_labels\n",
    "    \n",
    "    return gibbs_data, gibbs_data_results, likelihoods, gibbs_df"
   ]
  },
  {
   "cell_type": "markdown",
   "metadata": {
    "collapsed": true
   },
   "source": [
    "## Rerunning Gibbs Sampling with superset of exons (from TSID)"
   ]
  },
  {
   "cell_type": "code",
   "execution_count": 390,
   "metadata": {
    "collapsed": false
   },
   "outputs": [
    {
     "name": "stdout",
     "output_type": "stream",
     "text": [
      "['M1']\n",
      "78\n"
     ]
    },
    {
     "data": {
      "text/html": [
       "<div>\n",
       "<table border=\"1\" class=\"dataframe\">\n",
       "  <thead>\n",
       "    <tr style=\"text-align: right;\">\n",
       "      <th>subject</th>\n",
       "      <th>Exon</th>\n",
       "      <th>FRMR-0070-444H</th>\n",
       "      <th>FRMR-0081-1987</th>\n",
       "      <th>FRMR-0085-579V</th>\n",
       "      <th>FRMR-00AG-860T</th>\n",
       "      <th>FRMR-00AW-8645</th>\n",
       "      <th>FRMR-00BB-772T</th>\n",
       "      <th>FRMR-00CS-821F</th>\n",
       "      <th>FRMR-00DM-853C</th>\n",
       "      <th>FRMR-00GC-803L</th>\n",
       "      <th>...</th>\n",
       "      <th>FRMR-00MS-704S</th>\n",
       "      <th>FRMR-00NC-7632</th>\n",
       "      <th>FRMR-00SA-876L</th>\n",
       "      <th>FRMR-00SB-851W</th>\n",
       "      <th>FRMR-00SC-714V</th>\n",
       "      <th>FRMR-00SD-679G</th>\n",
       "      <th>FRMR-00ST-841F</th>\n",
       "      <th>FRMR-00TS-8464</th>\n",
       "      <th>Mean</th>\n",
       "      <th>SD</th>\n",
       "    </tr>\n",
       "  </thead>\n",
       "  <tbody>\n",
       "    <tr>\n",
       "      <th>0</th>\n",
       "      <td>Ex1</td>\n",
       "      <td>0.043410</td>\n",
       "      <td>0.046888</td>\n",
       "      <td>0.041839</td>\n",
       "      <td>0.047436</td>\n",
       "      <td>0.042754</td>\n",
       "      <td>0.044030</td>\n",
       "      <td>0.043325</td>\n",
       "      <td>0.044394</td>\n",
       "      <td>0.049125</td>\n",
       "      <td>...</td>\n",
       "      <td>0.047474</td>\n",
       "      <td>0.049913</td>\n",
       "      <td>0.041827</td>\n",
       "      <td>0.043412</td>\n",
       "      <td>0.047473</td>\n",
       "      <td>0.040683</td>\n",
       "      <td>0.049380</td>\n",
       "      <td>0.044282</td>\n",
       "      <td>0.045890</td>\n",
       "      <td>0.002980</td>\n",
       "    </tr>\n",
       "    <tr>\n",
       "      <th>1</th>\n",
       "      <td>Ex2</td>\n",
       "      <td>0.001823</td>\n",
       "      <td>0.001920</td>\n",
       "      <td>0.001819</td>\n",
       "      <td>0.001878</td>\n",
       "      <td>0.002115</td>\n",
       "      <td>0.001833</td>\n",
       "      <td>0.001460</td>\n",
       "      <td>0.001570</td>\n",
       "      <td>0.001887</td>\n",
       "      <td>...</td>\n",
       "      <td>0.001696</td>\n",
       "      <td>0.001457</td>\n",
       "      <td>0.001612</td>\n",
       "      <td>0.001898</td>\n",
       "      <td>0.001795</td>\n",
       "      <td>0.002227</td>\n",
       "      <td>0.002079</td>\n",
       "      <td>0.001681</td>\n",
       "      <td>0.001813</td>\n",
       "      <td>0.000274</td>\n",
       "    </tr>\n",
       "    <tr>\n",
       "      <th>2</th>\n",
       "      <td>Ex3</td>\n",
       "      <td>0.011077</td>\n",
       "      <td>0.011095</td>\n",
       "      <td>0.010518</td>\n",
       "      <td>0.009593</td>\n",
       "      <td>0.010601</td>\n",
       "      <td>0.011386</td>\n",
       "      <td>0.010802</td>\n",
       "      <td>0.011919</td>\n",
       "      <td>0.011628</td>\n",
       "      <td>...</td>\n",
       "      <td>0.011040</td>\n",
       "      <td>0.010678</td>\n",
       "      <td>0.011174</td>\n",
       "      <td>0.011885</td>\n",
       "      <td>0.010244</td>\n",
       "      <td>0.009834</td>\n",
       "      <td>0.012735</td>\n",
       "      <td>0.011960</td>\n",
       "      <td>0.011160</td>\n",
       "      <td>0.000778</td>\n",
       "    </tr>\n",
       "    <tr>\n",
       "      <th>3</th>\n",
       "      <td>Ex4</td>\n",
       "      <td>0.018180</td>\n",
       "      <td>0.017203</td>\n",
       "      <td>0.017662</td>\n",
       "      <td>0.023065</td>\n",
       "      <td>0.016674</td>\n",
       "      <td>0.015053</td>\n",
       "      <td>0.021078</td>\n",
       "      <td>0.018842</td>\n",
       "      <td>0.019988</td>\n",
       "      <td>...</td>\n",
       "      <td>0.020950</td>\n",
       "      <td>0.020907</td>\n",
       "      <td>0.018906</td>\n",
       "      <td>0.017222</td>\n",
       "      <td>0.018785</td>\n",
       "      <td>0.015447</td>\n",
       "      <td>0.021608</td>\n",
       "      <td>0.020530</td>\n",
       "      <td>0.019189</td>\n",
       "      <td>0.002110</td>\n",
       "    </tr>\n",
       "    <tr>\n",
       "      <th>4</th>\n",
       "      <td>Ex5</td>\n",
       "      <td>0.010451</td>\n",
       "      <td>0.011308</td>\n",
       "      <td>0.011741</td>\n",
       "      <td>0.013880</td>\n",
       "      <td>0.009930</td>\n",
       "      <td>0.010047</td>\n",
       "      <td>0.012904</td>\n",
       "      <td>0.012455</td>\n",
       "      <td>0.010619</td>\n",
       "      <td>...</td>\n",
       "      <td>0.010690</td>\n",
       "      <td>0.009108</td>\n",
       "      <td>0.011037</td>\n",
       "      <td>0.010289</td>\n",
       "      <td>0.010058</td>\n",
       "      <td>0.011319</td>\n",
       "      <td>0.011138</td>\n",
       "      <td>0.010895</td>\n",
       "      <td>0.011041</td>\n",
       "      <td>0.001030</td>\n",
       "    </tr>\n",
       "  </tbody>\n",
       "</table>\n",
       "<p>5 rows × 25 columns</p>\n",
       "</div>"
      ],
      "text/plain": [
       "subject Exon  FRMR-0070-444H  FRMR-0081-1987  FRMR-0085-579V  FRMR-00AG-860T  \\\n",
       "0        Ex1        0.043410        0.046888        0.041839        0.047436   \n",
       "1        Ex2        0.001823        0.001920        0.001819        0.001878   \n",
       "2        Ex3        0.011077        0.011095        0.010518        0.009593   \n",
       "3        Ex4        0.018180        0.017203        0.017662        0.023065   \n",
       "4        Ex5        0.010451        0.011308        0.011741        0.013880   \n",
       "\n",
       "subject  FRMR-00AW-8645  FRMR-00BB-772T  FRMR-00CS-821F  FRMR-00DM-853C  \\\n",
       "0              0.042754        0.044030        0.043325        0.044394   \n",
       "1              0.002115        0.001833        0.001460        0.001570   \n",
       "2              0.010601        0.011386        0.010802        0.011919   \n",
       "3              0.016674        0.015053        0.021078        0.018842   \n",
       "4              0.009930        0.010047        0.012904        0.012455   \n",
       "\n",
       "subject  FRMR-00GC-803L    ...     FRMR-00MS-704S  FRMR-00NC-7632  \\\n",
       "0              0.049125    ...           0.047474        0.049913   \n",
       "1              0.001887    ...           0.001696        0.001457   \n",
       "2              0.011628    ...           0.011040        0.010678   \n",
       "3              0.019988    ...           0.020950        0.020907   \n",
       "4              0.010619    ...           0.010690        0.009108   \n",
       "\n",
       "subject  FRMR-00SA-876L  FRMR-00SB-851W  FRMR-00SC-714V  FRMR-00SD-679G  \\\n",
       "0              0.041827        0.043412        0.047473        0.040683   \n",
       "1              0.001612        0.001898        0.001795        0.002227   \n",
       "2              0.011174        0.011885        0.010244        0.009834   \n",
       "3              0.018906        0.017222        0.018785        0.015447   \n",
       "4              0.011037        0.010289        0.010058        0.011319   \n",
       "\n",
       "subject  FRMR-00ST-841F  FRMR-00TS-8464      Mean        SD  \n",
       "0              0.049380        0.044282  0.045890  0.002980  \n",
       "1              0.002079        0.001681  0.001813  0.000274  \n",
       "2              0.012735        0.011960  0.011160  0.000778  \n",
       "3              0.021608        0.020530  0.019189  0.002110  \n",
       "4              0.011138        0.010895  0.011041  0.001030  \n",
       "\n",
       "[5 rows x 25 columns]"
      ]
     },
     "execution_count": 390,
     "metadata": {},
     "output_type": "execute_result"
    }
   ],
   "source": [
    "# use RMA samples for initial intensity vector -- note that all RMA individuals used the M1 mixin panel\n",
    "# this is only the females in RMA\n",
    "print coverage_df_RMA.sequencer.unique()\n",
    "RMA_norm = reshape_df(coverage_df_RMA, include_stats=True)\n",
    "RMA_norm.head()\n",
    "X_probs = np.array(RMA_norm.Mean)\n",
    "print len(X_probs)\n",
    "X_probs\n",
    "RMA_norm.head()"
   ]
  },
  {
   "cell_type": "code",
   "execution_count": 159,
   "metadata": {
    "collapsed": false
   },
   "outputs": [
    {
     "name": "stderr",
     "output_type": "stream",
     "text": [
      "Finished parsing all 6 subjects\n",
      "165124 reads were skipped due to outside_of_exon\n",
      "4612 reads were skipped due to MAPQ below 60\n"
     ]
    }
   ],
   "source": [
    "reload(cov)\n",
    "test_subjects_num = cov.coverageMatrix().create_coverage_matrix(tsid_exons_merged, \n",
    "                                                                tsid_exon_labels, bam_dir='../bams/test_subjects')"
   ]
  },
  {
   "cell_type": "code",
   "execution_count": 161,
   "metadata": {
    "collapsed": false
   },
   "outputs": [
    {
     "name": "stdout",
     "output_type": "stream",
     "text": [
      "['FGPC-0000-444F' 'FGPC-0000-444F_dup' 'FGPC-4ZPF-J0F1'\n",
      " 'FGPC-4ZPF-J0F1_del' 'FPWB-0000-822R' 'FPWB-0000-822R_del']\n",
      "[datetime.date(2016, 6, 24) datetime.date(2017, 2, 17)\n",
      " datetime.date(2016, 6, 25)]\n"
     ]
    }
   ],
   "source": [
    "# test_subjects = pd.DataFrame(coverage_matrix[1:], columns=coverage_matrix[0])\n",
    "# test_subjects_num = test_subjects.apply(lambda x: pd.to_numeric(x, errors='ignore'))\n",
    "test_subjects_num.date_modified = pd.to_datetime(test_subjects_num.date_modified, unit='s')\n",
    "test_subjects_num['date'] = test_subjects_num.date_modified.dt.date\n",
    "# drop unnecessary columns (is_rerun, and coding regions)\n",
    "test_subjects_num.drop(['is_rerun'], axis=1, inplace=True)\n",
    "print test_subjects_num.subject.unique()\n",
    "print test_subjects_num.date.unique()\n",
    "#test_subjects_num.head(25)"
   ]
  },
  {
   "cell_type": "code",
   "execution_count": 162,
   "metadata": {
    "collapsed": false
   },
   "outputs": [
    {
     "data": {
      "text/html": [
       "<div>\n",
       "<table border=\"1\" class=\"dataframe\">\n",
       "  <thead>\n",
       "    <tr style=\"text-align: right;\">\n",
       "      <th>subject</th>\n",
       "      <th>Exon</th>\n",
       "      <th>FGPC-0000-444F</th>\n",
       "      <th>FGPC-0000-444F_dup</th>\n",
       "      <th>FGPC-4ZPF-J0F1</th>\n",
       "      <th>FGPC-4ZPF-J0F1_del</th>\n",
       "      <th>FPWB-0000-822R</th>\n",
       "      <th>FPWB-0000-822R_del</th>\n",
       "    </tr>\n",
       "  </thead>\n",
       "  <tbody>\n",
       "    <tr>\n",
       "      <th>0</th>\n",
       "      <td>Ex1</td>\n",
       "      <td>0.036531</td>\n",
       "      <td>0.036425</td>\n",
       "      <td>0.044187</td>\n",
       "      <td>0.044841</td>\n",
       "      <td>0.041012</td>\n",
       "      <td>0.041913</td>\n",
       "    </tr>\n",
       "    <tr>\n",
       "      <th>1</th>\n",
       "      <td>Ex2</td>\n",
       "      <td>0.004933</td>\n",
       "      <td>0.004919</td>\n",
       "      <td>0.003162</td>\n",
       "      <td>0.003209</td>\n",
       "      <td>0.003544</td>\n",
       "      <td>0.003621</td>\n",
       "    </tr>\n",
       "    <tr>\n",
       "      <th>2</th>\n",
       "      <td>Ex3</td>\n",
       "      <td>0.010044</td>\n",
       "      <td>0.010014</td>\n",
       "      <td>0.010316</td>\n",
       "      <td>0.010469</td>\n",
       "      <td>0.010452</td>\n",
       "      <td>0.010682</td>\n",
       "    </tr>\n",
       "    <tr>\n",
       "      <th>3</th>\n",
       "      <td>Ex4</td>\n",
       "      <td>0.015218</td>\n",
       "      <td>0.015174</td>\n",
       "      <td>0.014952</td>\n",
       "      <td>0.015174</td>\n",
       "      <td>0.015424</td>\n",
       "      <td>0.015763</td>\n",
       "    </tr>\n",
       "    <tr>\n",
       "      <th>4</th>\n",
       "      <td>Ex5</td>\n",
       "      <td>0.009528</td>\n",
       "      <td>0.009500</td>\n",
       "      <td>0.010129</td>\n",
       "      <td>0.010279</td>\n",
       "      <td>0.008474</td>\n",
       "      <td>0.008661</td>\n",
       "    </tr>\n",
       "  </tbody>\n",
       "</table>\n",
       "</div>"
      ],
      "text/plain": [
       "subject Exon  FGPC-0000-444F  FGPC-0000-444F_dup  FGPC-4ZPF-J0F1  \\\n",
       "0        Ex1        0.036531            0.036425        0.044187   \n",
       "1        Ex2        0.004933            0.004919        0.003162   \n",
       "2        Ex3        0.010044            0.010014        0.010316   \n",
       "3        Ex4        0.015218            0.015174        0.014952   \n",
       "4        Ex5        0.009528            0.009500        0.010129   \n",
       "\n",
       "subject  FGPC-4ZPF-J0F1_del  FPWB-0000-822R  FPWB-0000-822R_del  \n",
       "0                  0.044841        0.041012            0.041913  \n",
       "1                  0.003209        0.003544            0.003621  \n",
       "2                  0.010469        0.010452            0.010682  \n",
       "3                  0.015174        0.015424            0.015763  \n",
       "4                  0.010279        0.008474            0.008661  "
      ]
     },
     "execution_count": 162,
     "metadata": {},
     "output_type": "execute_result"
    }
   ],
   "source": [
    "subject_norm = reshape_df(test_subjects_num)\n",
    "subject_norm.head()"
   ]
  },
  {
   "cell_type": "code",
   "execution_count": 174,
   "metadata": {
    "collapsed": false
   },
   "outputs": [
    {
     "name": "stdout",
     "output_type": "stream",
     "text": [
      "subject\n",
      "FGPC-0000-444F        0.00627116\n",
      "FGPC-0000-444F_dup    0.00625301\n",
      "FGPC-4ZPF-J0F1        0.00560036\n",
      "FGPC-4ZPF-J0F1_del    0.00568336\n",
      "FPWB-0000-822R        0.00582354\n",
      "FPWB-0000-822R_del    0.00595155\n",
      "Name: 37, dtype: object\n"
     ]
    }
   ],
   "source": [
    "# getting coverage for Exon38 for these test subjects\n",
    "exon38 = subject_norm.iloc[37]\n",
    "print exon38[1:]"
   ]
  },
  {
   "cell_type": "code",
   "execution_count": 178,
   "metadata": {
    "collapsed": false
   },
   "outputs": [
    {
     "data": {
      "text/plain": [
       "<matplotlib.text.Text at 0x10bedcb10>"
      ]
     },
     "execution_count": 178,
     "metadata": {},
     "output_type": "execute_result"
    },
    {
     "data": {
      "image/png": "[encoded data removed]",
      "text/plain": [
       "<matplotlib.figure.Figure at 0x10c809590>"
      ]
     },
     "metadata": {},
     "output_type": "display_data"
    }
   ],
   "source": [
    "# seeing distribution of Exon38 coverage -- we expect three pairs since each simulated mut subject should have similar \n",
    "# coverage to its original subject\n",
    "plt.figure()\n",
    "plt.hist(exon38[1:])\n",
    "plt.xlabel('Exon Coverage Ratio for Exon 38 - TSID only exon')\n",
    "plt.ylabel('Number of subjects')"
   ]
  },
  {
   "cell_type": "code",
   "execution_count": 200,
   "metadata": {
    "collapsed": false
   },
   "outputs": [
    {
     "name": "stdout",
     "output_type": "stream",
     "text": [
      "subject\n",
      "FGPC-0000-444F        0.339219\n",
      "FGPC-0000-444F_dup    0.337637\n",
      "FGPC-4ZPF-J0F1        0.280759\n",
      "FGPC-4ZPF-J0F1_del    0.287993\n",
      "FPWB-0000-822R        0.300209\n",
      "FPWB-0000-822R_del    0.311365\n",
      "Name: 37, dtype: object\n"
     ]
    }
   ],
   "source": [
    "# get estimated TSID proportion for each subject based on regression coefficients from above -- all should be near 0.33\n",
    "estimate_prop = (exon38[1:] - regression.params[0]) / regression.params[1]\n",
    "print estimate_prop"
   ]
  },
  {
   "cell_type": "code",
   "execution_count": null,
   "metadata": {
    "collapsed": true
   },
   "outputs": [],
   "source": []
  }
 ],
 "metadata": {
  "kernelspec": {
   "display_name": "Python 2",
   "language": "python",
   "name": "python2"
  },
  "language_info": {
   "codemirror_mode": {
    "name": "ipython",
    "version": 2
   },
   "file_extension": ".py",
   "mimetype": "text/x-python",
   "name": "python",
   "nbconvert_exporter": "python",
   "pygments_lexer": "ipython2",
   "version": "2.7.11"
  }
 },
 "nbformat": 4,
 "nbformat_minor": 2
}
