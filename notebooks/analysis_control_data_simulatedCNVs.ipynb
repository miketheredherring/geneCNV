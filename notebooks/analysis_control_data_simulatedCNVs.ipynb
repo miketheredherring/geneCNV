{
 "cells": [
  {
   "cell_type": "markdown",
   "metadata": {},
   "source": [
    "## Exon coverage for control data and simulated CNVs"
   ]
  },
  {
   "cell_type": "code",
   "execution_count": 1,
   "metadata": {
    "collapsed": false
   },
   "outputs": [
    {
     "name": "stderr",
     "output_type": "stream",
     "text": [
      "INFO:config:Using ini file set by environment: /Users/velina/Documents/GitHub/genepeeks-science/conf/genepeeks.ini\n",
      "/Users/velina/.pyenv/versions/2.7.11/envs/dmd/lib/python2.7/site-packages/matplotlib/__init__.py:1357: UserWarning:  This call to matplotlib.use() has no effect\n",
      "because the backend has already been chosen;\n",
      "matplotlib.use() must be called *before* pylab, matplotlib.pyplot,\n",
      "or matplotlib.backends is imported for the first time.\n",
      "\n",
      "  warnings.warn(_use_error_msg)\n"
     ]
    }
   ],
   "source": [
    "import pysam\n",
    "import numpy as np\n",
    "import random\n",
    "import matplotlib.pyplot as plt\n",
    "import pandas as pd\n",
    "from collections import Counter\n",
    "from genepeeks.common import utilities as util\n",
    "import seaborn as sns\n",
    "\n",
    "%matplotlib inline"
   ]
  },
  {
   "cell_type": "code",
   "execution_count": 2,
   "metadata": {
    "collapsed": false
   },
   "outputs": [
    {
     "name": "stdout",
     "output_type": "stream",
     "text": [
      "Finished loading the gene collection from the genepeeks-prod database with a single entries with a query of {'_id': 'DMD'} after 5.44 sec\n"
     ]
    }
   ],
   "source": [
    "DMD_ensembl = util.Mongo.get_collection_data('gene', wanted_db='prod', query={'_id': 'DMD'}, find_one=True, single_field='ensembl')\n",
    "DMD_exons = util.get_nested_value(DMD_ensembl, ('is_primary', 'transcripts', 'is_primary', 'exons'))\n",
    "# had to make local change in utilities \n",
    "DMD_exons_merged = util.merge_intervals(DMD_exons, min_dist=200, include_index=True)\n",
    "exon_labels = ['Ex' + exon['index'] for exon in DMD_exons_merged]"
   ]
  },
  {
   "cell_type": "code",
   "execution_count": 3,
   "metadata": {
    "collapsed": false
   },
   "outputs": [
    {
     "name": "stdout",
     "output_type": "stream",
     "text": [
      "2702\n"
     ]
    }
   ],
   "source": [
    "# DMD exon/gene coordinates and useful regions (coordinates taken from IGV b37 reference)\n",
    "EXON46 = [31950197, 31950344]\n",
    "EXON47 = [31947713, 31947862]\n",
    "EXON48 = [31893308, 31893490]\n",
    "EXON49 = [31854835, 31854939]\n",
    "EXON50 = [31838092, 31838200]\n",
    "EXON51 = [31792077, 31792309]\n",
    "DMD = [31115794, 33357558]  # taken from ensembl GRCh37\n",
    "\n",
    "# deletion of partial exons\n",
    "EX48_50_PART = [31838130, 31893308]\n",
    "\n",
    "# for consistency with exon labeling in Ensembl\n",
    "exon_dict = {exon['index']: [exon['start'], exon['end']] for exon in DMD_exons_merged}\n",
    "print exon_dict['1'][1] - exon_dict['1'][0]"
   ]
  },
  {
   "cell_type": "code",
   "execution_count": 4,
   "metadata": {
    "collapsed": true
   },
   "outputs": [],
   "source": [
    "# Velina's local bam files for testing (names are consistent with subject/sample names)\n",
    "bamfiles = ['FGPC-0000-444F.bam', 'FGPC-8V7M-82J3.bam', 'FPWB-0000-840T.bam', 'MGPC-6KHG-N0LS.bam']"
   ]
  },
  {
   "cell_type": "code",
   "execution_count": 5,
   "metadata": {
    "collapsed": true
   },
   "outputs": [],
   "source": [
    "# workaround to force real time print output in notebooks\n",
    "# see http://stackoverflow.com/questions/29772158/make-ipython-notebook-print-in-real-time\n",
    "import sys\n",
    "oldsysstdout = sys.stdout\n",
    "class flushfile():\n",
    "    def __init__(self, f):\n",
    "        self.f = f\n",
    "    def __getattr__(self,name): \n",
    "        return object.__getattribute__(self.f, name)\n",
    "    def write(self, x):\n",
    "        self.f.write(x)\n",
    "        self.f.flush()\n",
    "    def flush(self):\n",
    "        self.f.flush()\n",
    "sys.stdout = flushfile(sys.stdout)"
   ]
  },
  {
   "cell_type": "markdown",
   "metadata": {},
   "source": [
    "## Some exploration with exon length/coordinates"
   ]
  },
  {
   "cell_type": "code",
   "execution_count": 6,
   "metadata": {
    "collapsed": false
   },
   "outputs": [
    {
     "name": "stdout",
     "output_type": "stream",
     "text": [
      "Exon 1 Coordinates: [31137345, 31140047]\n"
     ]
    },
    {
     "data": {
      "text/plain": [
       "(<matplotlib.text.Text at 0x1082e9f50>, <matplotlib.text.Text at 0x1083a2f90>)"
      ]
     },
     "execution_count": 6,
     "metadata": {},
     "output_type": "execute_result"
    },
    {
     "data": {
      "image/png": "[encoded data removed]",
      "text/plain": [
       "<matplotlib.figure.Figure at 0x105ee6f90>"
      ]
     },
     "metadata": {},
     "output_type": "display_data"
    }
   ],
   "source": [
    "exon_lengths = [coord[1] - coord[0] for exon, coord in exon_dict.items() if exon != '1']\n",
    "print 'Exon 1 Coordinates: {}'.format(exon_dict['1'])\n",
    "plt.figure()\n",
    "plt.hist(exon_lengths, bins=12)\n",
    "plt.xlabel('Exon Length'), plt.ylabel('Count')"
   ]
  },
  {
   "cell_type": "markdown",
   "metadata": {
    "collapsed": true
   },
   "source": [
    "## Getting Stats from simulated deletion bams"
   ]
  },
  {
   "cell_type": "code",
   "execution_count": 25,
   "metadata": {
    "collapsed": true
   },
   "outputs": [],
   "source": [
    "file_path = '../bams/FGPC-0000-444F_49_del.bam'"
   ]
  },
  {
   "cell_type": "code",
   "execution_count": 26,
   "metadata": {
    "collapsed": false
   },
   "outputs": [],
   "source": [
    "# using Max's code to build coverage matrix from test subject bamfile\n",
    "base_headers = ['subject', 'specimen', 'sample', 'gender', 'sequencer', 'flow_cell_id', 'lane']\n",
    "coverage_matrix = [base_headers + exon_labels]\n",
    "subject_coverages = {}\n",
    "bamfile = pysam.AlignmentFile(file_path, \"rb\")\n",
    "for RG in bamfile.header['RG']:\n",
    "    subject, specimen_sample, flow_cell_lane = RG['ID'].split('_')\n",
    "    gender = subject[0]\n",
    "    specimen_num, sequencer, sample = specimen_sample.split('-')\n",
    "    specimen = '{}_{}'.format(subject, specimen_num)\n",
    "    sample = '{}_{}'.format(subject, specimen_sample)\n",
    "    flow_cell_id, lane = flow_cell_lane.rsplit('-', 1)\n",
    "    row = [subject, specimen, sample, gender, sequencer, flow_cell_id, lane]\n",
    "    subject_coverages[RG['ID']] = row + [0] * len(DMD_exons_merged)\n",
    "\n",
    "for read in bamfile.fetch('X', start=31137345, end=33229636):\n",
    "    if not read.is_unmapped and read.mapping_quality == 60:\n",
    "        # Find what exon each read falls in, and increase that exon's coverage by 1\n",
    "        interval_info = util.in_interval(read.reference_start, DMD_exons_merged, get_interval=True)\n",
    "        if not interval_info[0]:\n",
    "            # If the start of the read is not in an exon, check the end of the read\n",
    "            interval_info = util.in_interval(read.reference_end, DMD_exons_merged, get_interval=True)\n",
    "        if interval_info[0]:\n",
    "            exon_num = interval_info[1]\n",
    "            subject_coverages[read.get_tag('RG')][exon_num + len(base_headers)] += 1\n",
    "\n",
    "coverage_matrix += subject_coverages.values()\n",
    "coverage_matrix = np.array(coverage_matrix)\n",
    "#print coverage_matrix"
   ]
  },
  {
   "cell_type": "code",
   "execution_count": 27,
   "metadata": {
    "collapsed": false
   },
   "outputs": [
    {
     "data": {
      "text/html": [
       "<div>\n",
       "<table border=\"1\" class=\"dataframe\">\n",
       "  <thead>\n",
       "    <tr style=\"text-align: right;\">\n",
       "      <th></th>\n",
       "      <th>subject</th>\n",
       "      <th>specimen</th>\n",
       "      <th>sample</th>\n",
       "      <th>gender</th>\n",
       "      <th>sequencer</th>\n",
       "      <th>flow_cell_id</th>\n",
       "      <th>lane</th>\n",
       "      <th>Ex1</th>\n",
       "      <th>Ex2</th>\n",
       "      <th>Ex3</th>\n",
       "      <th>...</th>\n",
       "      <th>Ex70</th>\n",
       "      <th>Ex71</th>\n",
       "      <th>Ex72</th>\n",
       "      <th>Ex73</th>\n",
       "      <th>Ex74</th>\n",
       "      <th>Ex75</th>\n",
       "      <th>Ex76</th>\n",
       "      <th>Ex77</th>\n",
       "      <th>Ex78</th>\n",
       "      <th>Ex79</th>\n",
       "    </tr>\n",
       "  </thead>\n",
       "  <tbody>\n",
       "    <tr>\n",
       "      <th>0</th>\n",
       "      <td>FGPC-0000-444F</td>\n",
       "      <td>FGPC-0000-444F_1</td>\n",
       "      <td>FGPC-0000-444F_1-M1-1</td>\n",
       "      <td>F</td>\n",
       "      <td>M1</td>\n",
       "      <td>H5FGFAFXX</td>\n",
       "      <td>L004</td>\n",
       "      <td>519</td>\n",
       "      <td>25</td>\n",
       "      <td>116</td>\n",
       "      <td>...</td>\n",
       "      <td>163</td>\n",
       "      <td>73</td>\n",
       "      <td>161</td>\n",
       "      <td>108</td>\n",
       "      <td>210</td>\n",
       "      <td>109</td>\n",
       "      <td>57</td>\n",
       "      <td>123</td>\n",
       "      <td>31</td>\n",
       "      <td>120</td>\n",
       "    </tr>\n",
       "    <tr>\n",
       "      <th>1</th>\n",
       "      <td>FGPC-0000-444F</td>\n",
       "      <td>FGPC-0000-444F_1</td>\n",
       "      <td>FGPC-0000-444F_1-M1-1</td>\n",
       "      <td>F</td>\n",
       "      <td>M1</td>\n",
       "      <td>H5FGFAFXX</td>\n",
       "      <td>L002</td>\n",
       "      <td>609</td>\n",
       "      <td>22</td>\n",
       "      <td>161</td>\n",
       "      <td>...</td>\n",
       "      <td>179</td>\n",
       "      <td>64</td>\n",
       "      <td>176</td>\n",
       "      <td>115</td>\n",
       "      <td>181</td>\n",
       "      <td>98</td>\n",
       "      <td>55</td>\n",
       "      <td>160</td>\n",
       "      <td>33</td>\n",
       "      <td>149</td>\n",
       "    </tr>\n",
       "    <tr>\n",
       "      <th>2</th>\n",
       "      <td>FGPC-0000-444F</td>\n",
       "      <td>FGPC-0000-444F_1</td>\n",
       "      <td>FGPC-0000-444F_1-M1-1</td>\n",
       "      <td>F</td>\n",
       "      <td>M1</td>\n",
       "      <td>H5FGFAFXX</td>\n",
       "      <td>L003</td>\n",
       "      <td>533</td>\n",
       "      <td>20</td>\n",
       "      <td>111</td>\n",
       "      <td>...</td>\n",
       "      <td>160</td>\n",
       "      <td>60</td>\n",
       "      <td>186</td>\n",
       "      <td>102</td>\n",
       "      <td>227</td>\n",
       "      <td>92</td>\n",
       "      <td>54</td>\n",
       "      <td>134</td>\n",
       "      <td>25</td>\n",
       "      <td>131</td>\n",
       "    </tr>\n",
       "    <tr>\n",
       "      <th>3</th>\n",
       "      <td>FGPC-0000-444F</td>\n",
       "      <td>FGPC-0000-444F_1</td>\n",
       "      <td>FGPC-0000-444F_1-M1-1</td>\n",
       "      <td>F</td>\n",
       "      <td>M1</td>\n",
       "      <td>H5FGFAFXX</td>\n",
       "      <td>L001</td>\n",
       "      <td>605</td>\n",
       "      <td>36</td>\n",
       "      <td>148</td>\n",
       "      <td>...</td>\n",
       "      <td>157</td>\n",
       "      <td>60</td>\n",
       "      <td>206</td>\n",
       "      <td>124</td>\n",
       "      <td>229</td>\n",
       "      <td>85</td>\n",
       "      <td>67</td>\n",
       "      <td>159</td>\n",
       "      <td>48</td>\n",
       "      <td>152</td>\n",
       "    </tr>\n",
       "  </tbody>\n",
       "</table>\n",
       "<p>4 rows × 85 columns</p>\n",
       "</div>"
      ],
      "text/plain": [
       "          subject          specimen                 sample gender sequencer  \\\n",
       "0  FGPC-0000-444F  FGPC-0000-444F_1  FGPC-0000-444F_1-M1-1      F        M1   \n",
       "1  FGPC-0000-444F  FGPC-0000-444F_1  FGPC-0000-444F_1-M1-1      F        M1   \n",
       "2  FGPC-0000-444F  FGPC-0000-444F_1  FGPC-0000-444F_1-M1-1      F        M1   \n",
       "3  FGPC-0000-444F  FGPC-0000-444F_1  FGPC-0000-444F_1-M1-1      F        M1   \n",
       "\n",
       "  flow_cell_id  lane  Ex1  Ex2  Ex3  ...   Ex70  Ex71  Ex72  Ex73  Ex74  Ex75  \\\n",
       "0    H5FGFAFXX  L004  519   25  116  ...    163    73   161   108   210   109   \n",
       "1    H5FGFAFXX  L002  609   22  161  ...    179    64   176   115   181    98   \n",
       "2    H5FGFAFXX  L003  533   20  111  ...    160    60   186   102   227    92   \n",
       "3    H5FGFAFXX  L001  605   36  148  ...    157    60   206   124   229    85   \n",
       "\n",
       "   Ex76  Ex77  Ex78  Ex79  \n",
       "0    57   123    31   120  \n",
       "1    55   160    33   149  \n",
       "2    54   134    25   131  \n",
       "3    67   159    48   152  \n",
       "\n",
       "[4 rows x 85 columns]"
      ]
     },
     "execution_count": 27,
     "metadata": {},
     "output_type": "execute_result"
    }
   ],
   "source": [
    "single_sub = pd.DataFrame(coverage_matrix[1:], columns=coverage_matrix[0])\n",
    "single_sub2 = single_sub.apply(lambda x: pd.to_numeric(x, errors='ignore'))\n",
    "single_sub2.head()"
   ]
  },
  {
   "cell_type": "code",
   "execution_count": 28,
   "metadata": {
    "collapsed": false
   },
   "outputs": [],
   "source": [
    "single_grouped = single_sub2.groupby('subject').sum()\n",
    "single_grouped.head()\n",
    "single_norm = single_grouped.div(single_grouped.sum(axis=1),axis=0)\n",
    "single_norm = single_norm.transpose().reset_index()\n",
    "single_norm.rename(columns={'index': 'Exon'}, inplace=True)"
   ]
  },
  {
   "cell_type": "markdown",
   "metadata": {},
   "source": [
    "## Pulling in control data (coverage data from previous runs)\n",
    "Now we create a dataframe for coverage ratios from prior data -- we also subset the data on relevant variables like gender and sequencing panel (baits) to look for covariation and check for consistency. "
   ]
  },
  {
   "cell_type": "code",
   "execution_count": 15,
   "metadata": {
    "collapsed": false
   },
   "outputs": [
    {
     "name": "stdout",
     "output_type": "stream",
     "text": [
      "(1266, 88)\n"
     ]
    },
    {
     "data": {
      "text/html": [
       "<div>\n",
       "<table border=\"1\" class=\"dataframe\">\n",
       "  <thead>\n",
       "    <tr style=\"text-align: right;\">\n",
       "      <th></th>\n",
       "      <th>id</th>\n",
       "      <th>subject</th>\n",
       "      <th>specimen</th>\n",
       "      <th>sample</th>\n",
       "      <th>gender</th>\n",
       "      <th>sequencer</th>\n",
       "      <th>flow_cell_id</th>\n",
       "      <th>lane</th>\n",
       "      <th>bwa_version</th>\n",
       "      <th>date_modified</th>\n",
       "      <th>...</th>\n",
       "      <th>Ex70</th>\n",
       "      <th>Ex71</th>\n",
       "      <th>Ex72</th>\n",
       "      <th>Ex73</th>\n",
       "      <th>Ex74</th>\n",
       "      <th>Ex75</th>\n",
       "      <th>Ex76</th>\n",
       "      <th>Ex77</th>\n",
       "      <th>Ex78</th>\n",
       "      <th>Ex79</th>\n",
       "    </tr>\n",
       "  </thead>\n",
       "  <tbody>\n",
       "    <tr>\n",
       "      <th>1</th>\n",
       "      <td>FCLR-GP01-2121_1-M1-1_HGGF5AFXX-L001</td>\n",
       "      <td>FCLR-GP01-2121</td>\n",
       "      <td>FCLR-GP01-2121_1</td>\n",
       "      <td>FCLR-GP01-2121_1-M1-1</td>\n",
       "      <td>F</td>\n",
       "      <td>M1</td>\n",
       "      <td>HGGF5AFXX</td>\n",
       "      <td>L001</td>\n",
       "      <td>0.7.15-r1140</td>\n",
       "      <td>1970-01-01 00:00:01.477955702</td>\n",
       "      <td>...</td>\n",
       "      <td>102</td>\n",
       "      <td>42</td>\n",
       "      <td>76</td>\n",
       "      <td>55</td>\n",
       "      <td>139</td>\n",
       "      <td>44</td>\n",
       "      <td>30</td>\n",
       "      <td>71</td>\n",
       "      <td>12</td>\n",
       "      <td>81</td>\n",
       "    </tr>\n",
       "    <tr>\n",
       "      <th>2</th>\n",
       "      <td>FCLR-GP01-2121_1-M1-1_HGGF5AFXX-L002</td>\n",
       "      <td>FCLR-GP01-2121</td>\n",
       "      <td>FCLR-GP01-2121_1</td>\n",
       "      <td>FCLR-GP01-2121_1-M1-1</td>\n",
       "      <td>F</td>\n",
       "      <td>M1</td>\n",
       "      <td>HGGF5AFXX</td>\n",
       "      <td>L002</td>\n",
       "      <td>0.7.15-r1140</td>\n",
       "      <td>1970-01-01 00:00:01.477955702</td>\n",
       "      <td>...</td>\n",
       "      <td>85</td>\n",
       "      <td>60</td>\n",
       "      <td>77</td>\n",
       "      <td>38</td>\n",
       "      <td>121</td>\n",
       "      <td>40</td>\n",
       "      <td>52</td>\n",
       "      <td>71</td>\n",
       "      <td>14</td>\n",
       "      <td>67</td>\n",
       "    </tr>\n",
       "    <tr>\n",
       "      <th>3</th>\n",
       "      <td>FCLR-GP01-2121_1-M1-1_HGGF5AFXX-L003</td>\n",
       "      <td>FCLR-GP01-2121</td>\n",
       "      <td>FCLR-GP01-2121_1</td>\n",
       "      <td>FCLR-GP01-2121_1-M1-1</td>\n",
       "      <td>F</td>\n",
       "      <td>M1</td>\n",
       "      <td>HGGF5AFXX</td>\n",
       "      <td>L003</td>\n",
       "      <td>0.7.15-r1140</td>\n",
       "      <td>1970-01-01 00:00:01.477955702</td>\n",
       "      <td>...</td>\n",
       "      <td>143</td>\n",
       "      <td>45</td>\n",
       "      <td>76</td>\n",
       "      <td>37</td>\n",
       "      <td>137</td>\n",
       "      <td>37</td>\n",
       "      <td>33</td>\n",
       "      <td>74</td>\n",
       "      <td>6</td>\n",
       "      <td>38</td>\n",
       "    </tr>\n",
       "    <tr>\n",
       "      <th>4</th>\n",
       "      <td>FCLR-GP01-2121_1-M1-1_HGGF5AFXX-L004</td>\n",
       "      <td>FCLR-GP01-2121</td>\n",
       "      <td>FCLR-GP01-2121_1</td>\n",
       "      <td>FCLR-GP01-2121_1-M1-1</td>\n",
       "      <td>F</td>\n",
       "      <td>M1</td>\n",
       "      <td>HGGF5AFXX</td>\n",
       "      <td>L004</td>\n",
       "      <td>0.7.15-r1140</td>\n",
       "      <td>1970-01-01 00:00:01.477955702</td>\n",
       "      <td>...</td>\n",
       "      <td>152</td>\n",
       "      <td>32</td>\n",
       "      <td>96</td>\n",
       "      <td>51</td>\n",
       "      <td>117</td>\n",
       "      <td>29</td>\n",
       "      <td>32</td>\n",
       "      <td>79</td>\n",
       "      <td>9</td>\n",
       "      <td>56</td>\n",
       "    </tr>\n",
       "    <tr>\n",
       "      <th>5</th>\n",
       "      <td>MESB-0009-690N_ACGT.1.P1.1</td>\n",
       "      <td>MESB-0009-690N</td>\n",
       "      <td>MESB-0009-690N_ACGT_1</td>\n",
       "      <td>MESB-0009-690N_ACGT.1.P1.1</td>\n",
       "      <td>M</td>\n",
       "      <td>P1</td>\n",
       "      <td>NaN</td>\n",
       "      <td>NaN</td>\n",
       "      <td>0.7.10-r789</td>\n",
       "      <td>1970-01-01 00:00:01.465400971</td>\n",
       "      <td>...</td>\n",
       "      <td>36</td>\n",
       "      <td>22</td>\n",
       "      <td>48</td>\n",
       "      <td>64</td>\n",
       "      <td>64</td>\n",
       "      <td>36</td>\n",
       "      <td>44</td>\n",
       "      <td>10</td>\n",
       "      <td>1</td>\n",
       "      <td>6</td>\n",
       "    </tr>\n",
       "  </tbody>\n",
       "</table>\n",
       "<p>5 rows × 88 columns</p>\n",
       "</div>"
      ],
      "text/plain": [
       "                                     id         subject  \\\n",
       "1  FCLR-GP01-2121_1-M1-1_HGGF5AFXX-L001  FCLR-GP01-2121   \n",
       "2  FCLR-GP01-2121_1-M1-1_HGGF5AFXX-L002  FCLR-GP01-2121   \n",
       "3  FCLR-GP01-2121_1-M1-1_HGGF5AFXX-L003  FCLR-GP01-2121   \n",
       "4  FCLR-GP01-2121_1-M1-1_HGGF5AFXX-L004  FCLR-GP01-2121   \n",
       "5            MESB-0009-690N_ACGT.1.P1.1  MESB-0009-690N   \n",
       "\n",
       "                specimen                      sample gender sequencer  \\\n",
       "1       FCLR-GP01-2121_1       FCLR-GP01-2121_1-M1-1      F        M1   \n",
       "2       FCLR-GP01-2121_1       FCLR-GP01-2121_1-M1-1      F        M1   \n",
       "3       FCLR-GP01-2121_1       FCLR-GP01-2121_1-M1-1      F        M1   \n",
       "4       FCLR-GP01-2121_1       FCLR-GP01-2121_1-M1-1      F        M1   \n",
       "5  MESB-0009-690N_ACGT_1  MESB-0009-690N_ACGT.1.P1.1      M        P1   \n",
       "\n",
       "  flow_cell_id  lane   bwa_version                 date_modified  ...   Ex70  \\\n",
       "1    HGGF5AFXX  L001  0.7.15-r1140 1970-01-01 00:00:01.477955702  ...    102   \n",
       "2    HGGF5AFXX  L002  0.7.15-r1140 1970-01-01 00:00:01.477955702  ...     85   \n",
       "3    HGGF5AFXX  L003  0.7.15-r1140 1970-01-01 00:00:01.477955702  ...    143   \n",
       "4    HGGF5AFXX  L004  0.7.15-r1140 1970-01-01 00:00:01.477955702  ...    152   \n",
       "5          NaN   NaN   0.7.10-r789 1970-01-01 00:00:01.465400971  ...     36   \n",
       "\n",
       "   Ex71  Ex72  Ex73  Ex74  Ex75  Ex76  Ex77  Ex78  Ex79  \n",
       "1    42    76    55   139    44    30    71    12    81  \n",
       "2    60    77    38   121    40    52    71    14    67  \n",
       "3    45    76    37   137    37    33    74     6    38  \n",
       "4    32    96    51   117    29    32    79     9    56  \n",
       "5    22    48    64    64    36    44    10     1     6  \n",
       "\n",
       "[5 rows x 88 columns]"
      ]
     },
     "execution_count": 15,
     "metadata": {},
     "output_type": "execute_result"
    }
   ],
   "source": [
    "coverage_df = pd.read_csv('../exon_data/coverage_matrix.csv', header=1, index_col=0)\n",
    "coverage_df.index.name = None\n",
    "coverage_df.date_modified = pd.to_datetime(coverage_df.date_modified)\n",
    "coverage_df_f = coverage_df[coverage_df.gender == 'F']\n",
    "coverage_df_m = coverage_df[coverage_df.gender == 'M']\n",
    "coverage_df_RMA = coverage_df[coverage_df.subject.str.contains('FRMR')]\n",
    "coverage_df_M1 = coverage_df[coverage_df.sequencer == 'M1']\n",
    "coverage_df_M1_f = coverage_df_f[coverage_df_f.sequencer == 'M1']\n",
    "coverage_df_T1_f = coverage_df_f[coverage_df_f.sequencer == 'T1']\n",
    "print coverage_df.shape\n",
    "coverage_df.head()"
   ]
  },
  {
   "cell_type": "code",
   "execution_count": 11,
   "metadata": {
    "collapsed": false
   },
   "outputs": [
    {
     "data": {
      "text/plain": [
       "array(['M1', 'P1', 'P3', 'P2', 'T1', 'T4', 'T3', 'T2'], dtype=object)"
      ]
     },
     "execution_count": 11,
     "metadata": {},
     "output_type": "execute_result"
    }
   ],
   "source": [
    "coverage_df.sequencer.unique()"
   ]
  },
  {
   "cell_type": "code",
   "execution_count": 18,
   "metadata": {
    "collapsed": false
   },
   "outputs": [],
   "source": [
    "# function for reshaping data frames so that exons are observations (rows) and subjects are variables (columns)\n",
    "def reshape_df(df, include_stats=False, subject_droplist=None):\n",
    "    df.drop('date_modified', axis=1, inplace=True)\n",
    "    df_grouped = df.groupby(['subject']).sum()\n",
    "    df_norm = df_grouped.div(df_grouped.sum(axis=1), axis=0)\n",
    "    df_norm = df_norm.transpose().reset_index()\n",
    "    df_norm.rename(columns={'index': 'Exon'}, inplace=True)\n",
    "\n",
    "    if subject_droplist:\n",
    "        for subject in subject_droplist:\n",
    "            df_norm.drop(subject, axis=1, inplace=True)\n",
    "    if include_stats:\n",
    "        df_norm['Mean'] = df_norm.mean(axis=1)\n",
    "        df_norm['SD'] = df_norm.std(axis=1)\n",
    "    return df_norm\n"
   ]
  },
  {
   "cell_type": "code",
   "execution_count": 19,
   "metadata": {
    "collapsed": false
   },
   "outputs": [
    {
     "data": {
      "text/html": [
       "<div>\n",
       "<table border=\"1\" class=\"dataframe\">\n",
       "  <thead>\n",
       "    <tr style=\"text-align: right;\">\n",
       "      <th>subject</th>\n",
       "      <th>Exon</th>\n",
       "      <th>FB1E-0000-363X</th>\n",
       "      <th>FCLR-GP01-2121</th>\n",
       "      <th>FCLR-GP08-753E</th>\n",
       "      <th>FCLR-GP17-435H</th>\n",
       "      <th>FCLR-GP20-399A</th>\n",
       "      <th>FCLR-GP20-731O</th>\n",
       "      <th>FCLR-GP20-745F</th>\n",
       "      <th>FCLR-GP20-9287</th>\n",
       "      <th>FCLR-GP22-0112</th>\n",
       "      <th>...</th>\n",
       "      <th>MRMR-0060-736V</th>\n",
       "      <th>MRMR-0067-098S</th>\n",
       "      <th>MRMR-0070-091B</th>\n",
       "      <th>MRMR-0073-177W</th>\n",
       "      <th>MRMR-0076-691T</th>\n",
       "      <th>MRMR-0080-518T</th>\n",
       "      <th>MRMR-0080-829K</th>\n",
       "      <th>MRMR-0081-680Z</th>\n",
       "      <th>Mean</th>\n",
       "      <th>SD</th>\n",
       "    </tr>\n",
       "  </thead>\n",
       "  <tbody>\n",
       "    <tr>\n",
       "      <th>0</th>\n",
       "      <td>Ex1</td>\n",
       "      <td>0.059294</td>\n",
       "      <td>0.034374</td>\n",
       "      <td>0.033821</td>\n",
       "      <td>0.031800</td>\n",
       "      <td>0.033895</td>\n",
       "      <td>0.032747</td>\n",
       "      <td>0.036952</td>\n",
       "      <td>0.032013</td>\n",
       "      <td>0.034607</td>\n",
       "      <td>...</td>\n",
       "      <td>0.049354</td>\n",
       "      <td>0.045395</td>\n",
       "      <td>0.047994</td>\n",
       "      <td>0.050132</td>\n",
       "      <td>0.042755</td>\n",
       "      <td>0.050702</td>\n",
       "      <td>0.043174</td>\n",
       "      <td>0.046565</td>\n",
       "      <td>0.048137</td>\n",
       "      <td>0.014834</td>\n",
       "    </tr>\n",
       "    <tr>\n",
       "      <th>1</th>\n",
       "      <td>Ex2</td>\n",
       "      <td>0.000589</td>\n",
       "      <td>0.001966</td>\n",
       "      <td>0.002029</td>\n",
       "      <td>0.001649</td>\n",
       "      <td>0.001520</td>\n",
       "      <td>0.001688</td>\n",
       "      <td>0.001338</td>\n",
       "      <td>0.001924</td>\n",
       "      <td>0.001323</td>\n",
       "      <td>...</td>\n",
       "      <td>0.000855</td>\n",
       "      <td>0.001605</td>\n",
       "      <td>0.001465</td>\n",
       "      <td>0.001353</td>\n",
       "      <td>0.001943</td>\n",
       "      <td>0.001974</td>\n",
       "      <td>0.001556</td>\n",
       "      <td>0.002119</td>\n",
       "      <td>0.001442</td>\n",
       "      <td>0.000673</td>\n",
       "    </tr>\n",
       "    <tr>\n",
       "      <th>2</th>\n",
       "      <td>Ex3</td>\n",
       "      <td>0.009367</td>\n",
       "      <td>0.011602</td>\n",
       "      <td>0.011076</td>\n",
       "      <td>0.010754</td>\n",
       "      <td>0.013817</td>\n",
       "      <td>0.013021</td>\n",
       "      <td>0.011487</td>\n",
       "      <td>0.012480</td>\n",
       "      <td>0.011536</td>\n",
       "      <td>...</td>\n",
       "      <td>0.013353</td>\n",
       "      <td>0.010088</td>\n",
       "      <td>0.008650</td>\n",
       "      <td>0.012627</td>\n",
       "      <td>0.011782</td>\n",
       "      <td>0.010377</td>\n",
       "      <td>0.011085</td>\n",
       "      <td>0.011655</td>\n",
       "      <td>0.011616</td>\n",
       "      <td>0.001957</td>\n",
       "    </tr>\n",
       "    <tr>\n",
       "      <th>3</th>\n",
       "      <td>Ex4</td>\n",
       "      <td>0.030897</td>\n",
       "      <td>0.018682</td>\n",
       "      <td>0.016699</td>\n",
       "      <td>0.015768</td>\n",
       "      <td>0.016769</td>\n",
       "      <td>0.016590</td>\n",
       "      <td>0.017253</td>\n",
       "      <td>0.017412</td>\n",
       "      <td>0.015339</td>\n",
       "      <td>...</td>\n",
       "      <td>0.018214</td>\n",
       "      <td>0.017425</td>\n",
       "      <td>0.014091</td>\n",
       "      <td>0.019617</td>\n",
       "      <td>0.017248</td>\n",
       "      <td>0.020360</td>\n",
       "      <td>0.018799</td>\n",
       "      <td>0.018961</td>\n",
       "      <td>0.017359</td>\n",
       "      <td>0.004968</td>\n",
       "    </tr>\n",
       "    <tr>\n",
       "      <th>4</th>\n",
       "      <td>Ex5</td>\n",
       "      <td>0.016871</td>\n",
       "      <td>0.009164</td>\n",
       "      <td>0.011922</td>\n",
       "      <td>0.010820</td>\n",
       "      <td>0.010240</td>\n",
       "      <td>0.012153</td>\n",
       "      <td>0.014070</td>\n",
       "      <td>0.015439</td>\n",
       "      <td>0.011536</td>\n",
       "      <td>...</td>\n",
       "      <td>0.011270</td>\n",
       "      <td>0.011922</td>\n",
       "      <td>0.009836</td>\n",
       "      <td>0.010222</td>\n",
       "      <td>0.011235</td>\n",
       "      <td>0.013197</td>\n",
       "      <td>0.011604</td>\n",
       "      <td>0.009034</td>\n",
       "      <td>0.012609</td>\n",
       "      <td>0.003080</td>\n",
       "    </tr>\n",
       "  </tbody>\n",
       "</table>\n",
       "<p>5 rows × 435 columns</p>\n",
       "</div>"
      ],
      "text/plain": [
       "subject Exon  FB1E-0000-363X  FCLR-GP01-2121  FCLR-GP08-753E  FCLR-GP17-435H  \\\n",
       "0        Ex1        0.059294        0.034374        0.033821        0.031800   \n",
       "1        Ex2        0.000589        0.001966        0.002029        0.001649   \n",
       "2        Ex3        0.009367        0.011602        0.011076        0.010754   \n",
       "3        Ex4        0.030897        0.018682        0.016699        0.015768   \n",
       "4        Ex5        0.016871        0.009164        0.011922        0.010820   \n",
       "\n",
       "subject  FCLR-GP20-399A  FCLR-GP20-731O  FCLR-GP20-745F  FCLR-GP20-9287  \\\n",
       "0              0.033895        0.032747        0.036952        0.032013   \n",
       "1              0.001520        0.001688        0.001338        0.001924   \n",
       "2              0.013817        0.013021        0.011487        0.012480   \n",
       "3              0.016769        0.016590        0.017253        0.017412   \n",
       "4              0.010240        0.012153        0.014070        0.015439   \n",
       "\n",
       "subject  FCLR-GP22-0112    ...     MRMR-0060-736V  MRMR-0067-098S  \\\n",
       "0              0.034607    ...           0.049354        0.045395   \n",
       "1              0.001323    ...           0.000855        0.001605   \n",
       "2              0.011536    ...           0.013353        0.010088   \n",
       "3              0.015339    ...           0.018214        0.017425   \n",
       "4              0.011536    ...           0.011270        0.011922   \n",
       "\n",
       "subject  MRMR-0070-091B  MRMR-0073-177W  MRMR-0076-691T  MRMR-0080-518T  \\\n",
       "0              0.047994        0.050132        0.042755        0.050702   \n",
       "1              0.001465        0.001353        0.001943        0.001974   \n",
       "2              0.008650        0.012627        0.011782        0.010377   \n",
       "3              0.014091        0.019617        0.017248        0.020360   \n",
       "4              0.009836        0.010222        0.011235        0.013197   \n",
       "\n",
       "subject  MRMR-0080-829K  MRMR-0081-680Z      Mean        SD  \n",
       "0              0.043174        0.046565  0.048137  0.014834  \n",
       "1              0.001556        0.002119  0.001442  0.000673  \n",
       "2              0.011085        0.011655  0.011616  0.001957  \n",
       "3              0.018799        0.018961  0.017359  0.004968  \n",
       "4              0.011604        0.009034  0.012609  0.003080  \n",
       "\n",
       "[5 rows x 435 columns]"
      ]
     },
     "execution_count": 19,
     "metadata": {},
     "output_type": "execute_result"
    }
   ],
   "source": [
    "subjects_norm = reshape_df(coverage_df, include_stats=True, subject_droplist=['FGPC-0000-444F'])\n",
    "subjects_norm.head()"
   ]
  },
  {
   "cell_type": "code",
   "execution_count": 20,
   "metadata": {
    "collapsed": false
   },
   "outputs": [
    {
     "name": "stdout",
     "output_type": "stream",
     "text": [
      "(78, 261)\n"
     ]
    },
    {
     "name": "stderr",
     "output_type": "stream",
     "text": [
      "/Users/velina/.pyenv/versions/2.7.11/envs/dmd/lib/python2.7/site-packages/ipykernel/__main__.py:3: SettingWithCopyWarning: \n",
      "A value is trying to be set on a copy of a slice from a DataFrame\n",
      "\n",
      "See the caveats in the documentation: http://pandas.pydata.org/pandas-docs/stable/indexing.html#indexing-view-versus-copy\n",
      "  app.launch_new_instance()\n"
     ]
    },
    {
     "data": {
      "text/html": [
       "<div>\n",
       "<table border=\"1\" class=\"dataframe\">\n",
       "  <thead>\n",
       "    <tr style=\"text-align: right;\">\n",
       "      <th>subject</th>\n",
       "      <th>Exon</th>\n",
       "      <th>MCLR-CD00-0262</th>\n",
       "      <th>MCLR-CD00-0270</th>\n",
       "      <th>MCLR-GP04-8630</th>\n",
       "      <th>MCLR-GP20-400K</th>\n",
       "      <th>MCLR-GP20-7327</th>\n",
       "      <th>MCLR-GP22-012L</th>\n",
       "      <th>MCLR-NA01-212M</th>\n",
       "      <th>MCLR-NA03-037C</th>\n",
       "      <th>MCLR-NA03-433C</th>\n",
       "      <th>...</th>\n",
       "      <th>MRMR-0060-736V</th>\n",
       "      <th>MRMR-0067-098S</th>\n",
       "      <th>MRMR-0070-091B</th>\n",
       "      <th>MRMR-0073-177W</th>\n",
       "      <th>MRMR-0076-691T</th>\n",
       "      <th>MRMR-0080-518T</th>\n",
       "      <th>MRMR-0080-829K</th>\n",
       "      <th>MRMR-0081-680Z</th>\n",
       "      <th>Mean</th>\n",
       "      <th>SD</th>\n",
       "    </tr>\n",
       "  </thead>\n",
       "  <tbody>\n",
       "    <tr>\n",
       "      <th>0</th>\n",
       "      <td>Ex1</td>\n",
       "      <td>0.022141</td>\n",
       "      <td>0.022645</td>\n",
       "      <td>0.034087</td>\n",
       "      <td>0.039564</td>\n",
       "      <td>0.034626</td>\n",
       "      <td>0.033391</td>\n",
       "      <td>0.037048</td>\n",
       "      <td>0.022064</td>\n",
       "      <td>0.017976</td>\n",
       "      <td>...</td>\n",
       "      <td>0.049354</td>\n",
       "      <td>0.045395</td>\n",
       "      <td>0.047994</td>\n",
       "      <td>0.050132</td>\n",
       "      <td>0.042755</td>\n",
       "      <td>0.050702</td>\n",
       "      <td>0.043174</td>\n",
       "      <td>0.046565</td>\n",
       "      <td>0.051275</td>\n",
       "      <td>0.011220</td>\n",
       "    </tr>\n",
       "    <tr>\n",
       "      <th>1</th>\n",
       "      <td>Ex2</td>\n",
       "      <td>0.000578</td>\n",
       "      <td>0.000614</td>\n",
       "      <td>0.002087</td>\n",
       "      <td>0.001633</td>\n",
       "      <td>0.001322</td>\n",
       "      <td>0.001495</td>\n",
       "      <td>0.001632</td>\n",
       "      <td>0.000664</td>\n",
       "      <td>0.000922</td>\n",
       "      <td>...</td>\n",
       "      <td>0.000855</td>\n",
       "      <td>0.001605</td>\n",
       "      <td>0.001465</td>\n",
       "      <td>0.001353</td>\n",
       "      <td>0.001943</td>\n",
       "      <td>0.001974</td>\n",
       "      <td>0.001556</td>\n",
       "      <td>0.002119</td>\n",
       "      <td>0.001505</td>\n",
       "      <td>0.000706</td>\n",
       "    </tr>\n",
       "    <tr>\n",
       "      <th>2</th>\n",
       "      <td>Ex3</td>\n",
       "      <td>0.012707</td>\n",
       "      <td>0.010621</td>\n",
       "      <td>0.010319</td>\n",
       "      <td>0.010073</td>\n",
       "      <td>0.014273</td>\n",
       "      <td>0.012875</td>\n",
       "      <td>0.010981</td>\n",
       "      <td>0.011281</td>\n",
       "      <td>0.011696</td>\n",
       "      <td>...</td>\n",
       "      <td>0.013353</td>\n",
       "      <td>0.010088</td>\n",
       "      <td>0.008650</td>\n",
       "      <td>0.012627</td>\n",
       "      <td>0.011782</td>\n",
       "      <td>0.010377</td>\n",
       "      <td>0.011085</td>\n",
       "      <td>0.011655</td>\n",
       "      <td>0.012053</td>\n",
       "      <td>0.002049</td>\n",
       "    </tr>\n",
       "    <tr>\n",
       "      <th>3</th>\n",
       "      <td>Ex4</td>\n",
       "      <td>0.019060</td>\n",
       "      <td>0.016852</td>\n",
       "      <td>0.018667</td>\n",
       "      <td>0.018512</td>\n",
       "      <td>0.017885</td>\n",
       "      <td>0.015782</td>\n",
       "      <td>0.014592</td>\n",
       "      <td>0.019741</td>\n",
       "      <td>0.015038</td>\n",
       "      <td>...</td>\n",
       "      <td>0.018214</td>\n",
       "      <td>0.017425</td>\n",
       "      <td>0.014091</td>\n",
       "      <td>0.019617</td>\n",
       "      <td>0.017248</td>\n",
       "      <td>0.020360</td>\n",
       "      <td>0.018799</td>\n",
       "      <td>0.018961</td>\n",
       "      <td>0.016507</td>\n",
       "      <td>0.005078</td>\n",
       "    </tr>\n",
       "    <tr>\n",
       "      <th>4</th>\n",
       "      <td>Ex5</td>\n",
       "      <td>0.016750</td>\n",
       "      <td>0.015360</td>\n",
       "      <td>0.012638</td>\n",
       "      <td>0.009982</td>\n",
       "      <td>0.010837</td>\n",
       "      <td>0.012127</td>\n",
       "      <td>0.012663</td>\n",
       "      <td>0.016755</td>\n",
       "      <td>0.011696</td>\n",
       "      <td>...</td>\n",
       "      <td>0.011270</td>\n",
       "      <td>0.011922</td>\n",
       "      <td>0.009836</td>\n",
       "      <td>0.010222</td>\n",
       "      <td>0.011235</td>\n",
       "      <td>0.013197</td>\n",
       "      <td>0.011604</td>\n",
       "      <td>0.009034</td>\n",
       "      <td>0.012519</td>\n",
       "      <td>0.003274</td>\n",
       "    </tr>\n",
       "  </tbody>\n",
       "</table>\n",
       "<p>5 rows × 261 columns</p>\n",
       "</div>"
      ],
      "text/plain": [
       "subject Exon  MCLR-CD00-0262  MCLR-CD00-0270  MCLR-GP04-8630  MCLR-GP20-400K  \\\n",
       "0        Ex1        0.022141        0.022645        0.034087        0.039564   \n",
       "1        Ex2        0.000578        0.000614        0.002087        0.001633   \n",
       "2        Ex3        0.012707        0.010621        0.010319        0.010073   \n",
       "3        Ex4        0.019060        0.016852        0.018667        0.018512   \n",
       "4        Ex5        0.016750        0.015360        0.012638        0.009982   \n",
       "\n",
       "subject  MCLR-GP20-7327  MCLR-GP22-012L  MCLR-NA01-212M  MCLR-NA03-037C  \\\n",
       "0              0.034626        0.033391        0.037048        0.022064   \n",
       "1              0.001322        0.001495        0.001632        0.000664   \n",
       "2              0.014273        0.012875        0.010981        0.011281   \n",
       "3              0.017885        0.015782        0.014592        0.019741   \n",
       "4              0.010837        0.012127        0.012663        0.016755   \n",
       "\n",
       "subject  MCLR-NA03-433C    ...     MRMR-0060-736V  MRMR-0067-098S  \\\n",
       "0              0.017976    ...           0.049354        0.045395   \n",
       "1              0.000922    ...           0.000855        0.001605   \n",
       "2              0.011696    ...           0.013353        0.010088   \n",
       "3              0.015038    ...           0.018214        0.017425   \n",
       "4              0.011696    ...           0.011270        0.011922   \n",
       "\n",
       "subject  MRMR-0070-091B  MRMR-0073-177W  MRMR-0076-691T  MRMR-0080-518T  \\\n",
       "0              0.047994        0.050132        0.042755        0.050702   \n",
       "1              0.001465        0.001353        0.001943        0.001974   \n",
       "2              0.008650        0.012627        0.011782        0.010377   \n",
       "3              0.014091        0.019617        0.017248        0.020360   \n",
       "4              0.009836        0.010222        0.011235        0.013197   \n",
       "\n",
       "subject  MRMR-0080-829K  MRMR-0081-680Z      Mean        SD  \n",
       "0              0.043174        0.046565  0.051275  0.011220  \n",
       "1              0.001556        0.002119  0.001505  0.000706  \n",
       "2              0.011085        0.011655  0.012053  0.002049  \n",
       "3              0.018799        0.018961  0.016507  0.005078  \n",
       "4              0.011604        0.009034  0.012519  0.003274  \n",
       "\n",
       "[5 rows x 261 columns]"
      ]
     },
     "execution_count": 20,
     "metadata": {},
     "output_type": "execute_result"
    }
   ],
   "source": [
    "male_norm = reshape_df(coverage_df_m, include_stats=True)\n",
    "print male_norm.shape\n",
    "male_norm.head()"
   ]
  },
  {
   "cell_type": "code",
   "execution_count": 21,
   "metadata": {
    "collapsed": false
   },
   "outputs": [
    {
     "name": "stderr",
     "output_type": "stream",
     "text": [
      "/Users/velina/.pyenv/versions/2.7.11/envs/dmd/lib/python2.7/site-packages/ipykernel/__main__.py:3: SettingWithCopyWarning: \n",
      "A value is trying to be set on a copy of a slice from a DataFrame\n",
      "\n",
      "See the caveats in the documentation: http://pandas.pydata.org/pandas-docs/stable/indexing.html#indexing-view-versus-copy\n",
      "  app.launch_new_instance()\n"
     ]
    },
    {
     "data": {
      "text/html": [
       "<div>\n",
       "<table border=\"1\" class=\"dataframe\">\n",
       "  <thead>\n",
       "    <tr style=\"text-align: right;\">\n",
       "      <th>subject</th>\n",
       "      <th>Exon</th>\n",
       "      <th>FB1E-0000-363X</th>\n",
       "      <th>FCLR-GP01-2121</th>\n",
       "      <th>FCLR-GP08-753E</th>\n",
       "      <th>FCLR-GP17-435H</th>\n",
       "      <th>FCLR-GP20-399A</th>\n",
       "      <th>FCLR-GP20-731O</th>\n",
       "      <th>FCLR-GP20-745F</th>\n",
       "      <th>FCLR-GP20-9287</th>\n",
       "      <th>FCLR-GP22-0112</th>\n",
       "      <th>...</th>\n",
       "      <th>FRMR-00ST-841F</th>\n",
       "      <th>FRMR-00TS-8464</th>\n",
       "      <th>FS1C-0000-152P</th>\n",
       "      <th>FS1R-0000-2437</th>\n",
       "      <th>FS2R-0000-1536</th>\n",
       "      <th>FT3C-0000-155E</th>\n",
       "      <th>FT8K-0000-182Z</th>\n",
       "      <th>FW2F-0000-154C</th>\n",
       "      <th>Mean</th>\n",
       "      <th>SD</th>\n",
       "    </tr>\n",
       "  </thead>\n",
       "  <tbody>\n",
       "    <tr>\n",
       "      <th>0</th>\n",
       "      <td>Ex1</td>\n",
       "      <td>0.059294</td>\n",
       "      <td>0.034374</td>\n",
       "      <td>0.033821</td>\n",
       "      <td>0.031800</td>\n",
       "      <td>0.033895</td>\n",
       "      <td>0.032747</td>\n",
       "      <td>0.036952</td>\n",
       "      <td>0.032013</td>\n",
       "      <td>0.034607</td>\n",
       "      <td>...</td>\n",
       "      <td>0.049380</td>\n",
       "      <td>0.044282</td>\n",
       "      <td>0.055024</td>\n",
       "      <td>0.065623</td>\n",
       "      <td>0.060477</td>\n",
       "      <td>0.060206</td>\n",
       "      <td>0.067870</td>\n",
       "      <td>0.053856</td>\n",
       "      <td>0.043484</td>\n",
       "      <td>0.017932</td>\n",
       "    </tr>\n",
       "    <tr>\n",
       "      <th>1</th>\n",
       "      <td>Ex2</td>\n",
       "      <td>0.000589</td>\n",
       "      <td>0.001966</td>\n",
       "      <td>0.002029</td>\n",
       "      <td>0.001649</td>\n",
       "      <td>0.001520</td>\n",
       "      <td>0.001688</td>\n",
       "      <td>0.001338</td>\n",
       "      <td>0.001924</td>\n",
       "      <td>0.001323</td>\n",
       "      <td>...</td>\n",
       "      <td>0.002079</td>\n",
       "      <td>0.001681</td>\n",
       "      <td>0.001401</td>\n",
       "      <td>0.000701</td>\n",
       "      <td>0.001724</td>\n",
       "      <td>0.000443</td>\n",
       "      <td>0.000886</td>\n",
       "      <td>0.001517</td>\n",
       "      <td>0.001352</td>\n",
       "      <td>0.000610</td>\n",
       "    </tr>\n",
       "    <tr>\n",
       "      <th>2</th>\n",
       "      <td>Ex3</td>\n",
       "      <td>0.009367</td>\n",
       "      <td>0.011602</td>\n",
       "      <td>0.011076</td>\n",
       "      <td>0.010754</td>\n",
       "      <td>0.013817</td>\n",
       "      <td>0.013021</td>\n",
       "      <td>0.011487</td>\n",
       "      <td>0.012480</td>\n",
       "      <td>0.011536</td>\n",
       "      <td>...</td>\n",
       "      <td>0.012735</td>\n",
       "      <td>0.011960</td>\n",
       "      <td>0.013075</td>\n",
       "      <td>0.012011</td>\n",
       "      <td>0.011990</td>\n",
       "      <td>0.011704</td>\n",
       "      <td>0.008865</td>\n",
       "      <td>0.012895</td>\n",
       "      <td>0.010966</td>\n",
       "      <td>0.001605</td>\n",
       "    </tr>\n",
       "    <tr>\n",
       "      <th>3</th>\n",
       "      <td>Ex4</td>\n",
       "      <td>0.030897</td>\n",
       "      <td>0.018682</td>\n",
       "      <td>0.016699</td>\n",
       "      <td>0.015768</td>\n",
       "      <td>0.016769</td>\n",
       "      <td>0.016590</td>\n",
       "      <td>0.017253</td>\n",
       "      <td>0.017412</td>\n",
       "      <td>0.015339</td>\n",
       "      <td>...</td>\n",
       "      <td>0.021608</td>\n",
       "      <td>0.020530</td>\n",
       "      <td>0.014476</td>\n",
       "      <td>0.024022</td>\n",
       "      <td>0.014538</td>\n",
       "      <td>0.016581</td>\n",
       "      <td>0.025176</td>\n",
       "      <td>0.018205</td>\n",
       "      <td>0.018611</td>\n",
       "      <td>0.004505</td>\n",
       "    </tr>\n",
       "    <tr>\n",
       "      <th>4</th>\n",
       "      <td>Ex5</td>\n",
       "      <td>0.016871</td>\n",
       "      <td>0.009164</td>\n",
       "      <td>0.011922</td>\n",
       "      <td>0.010820</td>\n",
       "      <td>0.010240</td>\n",
       "      <td>0.012153</td>\n",
       "      <td>0.014070</td>\n",
       "      <td>0.015439</td>\n",
       "      <td>0.011536</td>\n",
       "      <td>...</td>\n",
       "      <td>0.011138</td>\n",
       "      <td>0.010895</td>\n",
       "      <td>0.014320</td>\n",
       "      <td>0.017272</td>\n",
       "      <td>0.013115</td>\n",
       "      <td>0.015606</td>\n",
       "      <td>0.013829</td>\n",
       "      <td>0.015676</td>\n",
       "      <td>0.012735</td>\n",
       "      <td>0.002756</td>\n",
       "    </tr>\n",
       "  </tbody>\n",
       "</table>\n",
       "<p>5 rows × 178 columns</p>\n",
       "</div>"
      ],
      "text/plain": [
       "subject Exon  FB1E-0000-363X  FCLR-GP01-2121  FCLR-GP08-753E  FCLR-GP17-435H  \\\n",
       "0        Ex1        0.059294        0.034374        0.033821        0.031800   \n",
       "1        Ex2        0.000589        0.001966        0.002029        0.001649   \n",
       "2        Ex3        0.009367        0.011602        0.011076        0.010754   \n",
       "3        Ex4        0.030897        0.018682        0.016699        0.015768   \n",
       "4        Ex5        0.016871        0.009164        0.011922        0.010820   \n",
       "\n",
       "subject  FCLR-GP20-399A  FCLR-GP20-731O  FCLR-GP20-745F  FCLR-GP20-9287  \\\n",
       "0              0.033895        0.032747        0.036952        0.032013   \n",
       "1              0.001520        0.001688        0.001338        0.001924   \n",
       "2              0.013817        0.013021        0.011487        0.012480   \n",
       "3              0.016769        0.016590        0.017253        0.017412   \n",
       "4              0.010240        0.012153        0.014070        0.015439   \n",
       "\n",
       "subject  FCLR-GP22-0112    ...     FRMR-00ST-841F  FRMR-00TS-8464  \\\n",
       "0              0.034607    ...           0.049380        0.044282   \n",
       "1              0.001323    ...           0.002079        0.001681   \n",
       "2              0.011536    ...           0.012735        0.011960   \n",
       "3              0.015339    ...           0.021608        0.020530   \n",
       "4              0.011536    ...           0.011138        0.010895   \n",
       "\n",
       "subject  FS1C-0000-152P  FS1R-0000-2437  FS2R-0000-1536  FT3C-0000-155E  \\\n",
       "0              0.055024        0.065623        0.060477        0.060206   \n",
       "1              0.001401        0.000701        0.001724        0.000443   \n",
       "2              0.013075        0.012011        0.011990        0.011704   \n",
       "3              0.014476        0.024022        0.014538        0.016581   \n",
       "4              0.014320        0.017272        0.013115        0.015606   \n",
       "\n",
       "subject  FT8K-0000-182Z  FW2F-0000-154C      Mean        SD  \n",
       "0              0.067870        0.053856  0.043484  0.017932  \n",
       "1              0.000886        0.001517  0.001352  0.000610  \n",
       "2              0.008865        0.012895  0.010966  0.001605  \n",
       "3              0.025176        0.018205  0.018611  0.004505  \n",
       "4              0.013829        0.015676  0.012735  0.002756  \n",
       "\n",
       "[5 rows x 178 columns]"
      ]
     },
     "execution_count": 21,
     "metadata": {},
     "output_type": "execute_result"
    }
   ],
   "source": [
    "fem_norm = reshape_df(coverage_df_f, include_stats=True)\n",
    "fem_norm.head()"
   ]
  },
  {
   "cell_type": "markdown",
   "metadata": {},
   "source": [
    "We're interested in how well exon coverage ratios correlate across different subsets of data -- for example between genders. The plot below that that there is correlation but it is not very high."
   ]
  },
  {
   "cell_type": "code",
   "execution_count": 22,
   "metadata": {
    "collapsed": false
   },
   "outputs": [
    {
     "data": {
      "text/plain": [
       "(<matplotlib.text.Text at 0x108443650>, <matplotlib.text.Text at 0x10845de90>)"
      ]
     },
     "execution_count": 22,
     "metadata": {},
     "output_type": "execute_result"
    },
    {
     "data": {
      "image/png": "[encoded data removed]",
      "text/plain": [
       "<matplotlib.figure.Figure at 0x1084ab250>"
      ]
     },
     "metadata": {},
     "output_type": "display_data"
    }
   ],
   "source": [
    "plt.figure()\n",
    "plt.plot(male_norm.Mean, fem_norm.Mean, '.')\n",
    "plt.xlabel('Male'), plt.ylabel('Female')"
   ]
  },
  {
   "cell_type": "code",
   "execution_count": 23,
   "metadata": {
    "collapsed": false
   },
   "outputs": [
    {
     "data": {
      "text/plain": [
       "(array([ 36.,  23.,  13.,   3.,   0.,   1.,   1.,   0.,   0.,   1.]),\n",
       " array([ 0.00060974,  0.0032327 ,  0.00585566,  0.00847862,  0.01110159,\n",
       "         0.01372455,  0.01634751,  0.01897048,  0.02159344,  0.0242164 ,\n",
       "         0.02683937]),\n",
       " <a list of 10 Patch objects>)"
      ]
     },
     "execution_count": 23,
     "metadata": {},
     "output_type": "execute_result"
    },
    {
     "data": {
      "image/png": "[encoded data removed]",
      "text/plain": [
       "<matplotlib.figure.Figure at 0x108e05190>"
      ]
     },
     "metadata": {},
     "output_type": "display_data"
    }
   ],
   "source": [
    "plt.figure()\n",
    "plt.hist(fem_norm.SD)"
   ]
  },
  {
   "cell_type": "code",
   "execution_count": 29,
   "metadata": {
    "collapsed": false
   },
   "outputs": [
    {
     "data": {
      "text/plain": [
       "[<matplotlib.lines.Line2D at 0x1092ce3d0>]"
      ]
     },
     "execution_count": 29,
     "metadata": {},
     "output_type": "execute_result"
    },
    {
     "data": {
      "image/png": "[encoded data removed]",
      "text/plain": [
       "<matplotlib.figure.Figure at 0x10968ee10>"
      ]
     },
     "metadata": {},
     "output_type": "display_data"
    }
   ],
   "source": [
    "plt.figure()\n",
    "plt.plot(fem_norm.Mean, single_norm['FGPC-0000-444F'], '.')"
   ]
  },
  {
   "cell_type": "code",
   "execution_count": 30,
   "metadata": {
    "collapsed": false
   },
   "outputs": [
    {
     "name": "stderr",
     "output_type": "stream",
     "text": [
      "/Users/velina/.pyenv/versions/2.7.11/envs/dmd/lib/python2.7/site-packages/ipykernel/__main__.py:3: SettingWithCopyWarning: \n",
      "A value is trying to be set on a copy of a slice from a DataFrame\n",
      "\n",
      "See the caveats in the documentation: http://pandas.pydata.org/pandas-docs/stable/indexing.html#indexing-view-versus-copy\n",
      "  app.launch_new_instance()\n"
     ]
    }
   ],
   "source": [
    "# this is only the females in RMA\n",
    "coverage_df_RMA = reshape_df(coverage_df_RMA, include_stats=True)"
   ]
  },
  {
   "cell_type": "code",
   "execution_count": 31,
   "metadata": {
    "collapsed": false
   },
   "outputs": [
    {
     "data": {
      "text/plain": [
       "[<matplotlib.lines.Line2D at 0x109386cd0>]"
      ]
     },
     "execution_count": 31,
     "metadata": {},
     "output_type": "execute_result"
    },
    {
     "data": {
      "image/png": "[encoded data removed]",
      "text/plain": [
       "<matplotlib.figure.Figure at 0x109a2e7d0>"
      ]
     },
     "metadata": {},
     "output_type": "display_data"
    }
   ],
   "source": [
    "plt.figure()\n",
    "plt.plot(coverage_df_RMA.Mean, single_norm['FGPC-0000-444F'], '.')"
   ]
  },
  {
   "cell_type": "code",
   "execution_count": 32,
   "metadata": {
    "collapsed": false
   },
   "outputs": [
    {
     "name": "stderr",
     "output_type": "stream",
     "text": [
      "/Users/velina/.pyenv/versions/2.7.11/envs/dmd/lib/python2.7/site-packages/ipykernel/__main__.py:3: SettingWithCopyWarning: \n",
      "A value is trying to be set on a copy of a slice from a DataFrame\n",
      "\n",
      "See the caveats in the documentation: http://pandas.pydata.org/pandas-docs/stable/indexing.html#indexing-view-versus-copy\n",
      "  app.launch_new_instance()\n"
     ]
    },
    {
     "data": {
      "text/plain": [
       "[<matplotlib.lines.Line2D at 0x1094f6e90>]"
      ]
     },
     "execution_count": 32,
     "metadata": {},
     "output_type": "execute_result"
    },
    {
     "data": {
      "image/png": "[encoded data removed]",
      "text/plain": [
       "<matplotlib.figure.Figure at 0x1093ade50>"
      ]
     },
     "metadata": {},
     "output_type": "display_data"
    }
   ],
   "source": [
    "control_M1_f = reshape_df(coverage_df_M1_f, include_stats=True)\n",
    "plt.figure()\n",
    "plt.plot(control_M1_f.Mean, single_norm['FGPC-0000-444F'], '.')"
   ]
  },
  {
   "cell_type": "code",
   "execution_count": 33,
   "metadata": {
    "collapsed": false
   },
   "outputs": [
    {
     "name": "stderr",
     "output_type": "stream",
     "text": [
      "/Users/velina/.pyenv/versions/2.7.11/envs/dmd/lib/python2.7/site-packages/ipykernel/__main__.py:3: SettingWithCopyWarning: \n",
      "A value is trying to be set on a copy of a slice from a DataFrame\n",
      "\n",
      "See the caveats in the documentation: http://pandas.pydata.org/pandas-docs/stable/indexing.html#indexing-view-versus-copy\n",
      "  app.launch_new_instance()\n"
     ]
    },
    {
     "data": {
      "text/plain": [
       "(<matplotlib.text.Text at 0x1093ad190>, <matplotlib.text.Text at 0x10964be50>)"
      ]
     },
     "execution_count": 33,
     "metadata": {},
     "output_type": "execute_result"
    },
    {
     "data": {
      "image/png": "[encoded data removed]",
      "text/plain": [
       "<matplotlib.figure.Figure at 0x10939ab50>"
      ]
     },
     "metadata": {},
     "output_type": "display_data"
    }
   ],
   "source": [
    "control_T1_f = reshape_df(coverage_df_T1_f, include_stats=True)\n",
    "plt.figure()\n",
    "plt.plot(control_M1_f.Mean, control_T1_f.Mean, '.')\n",
    "plt.xlabel('M1 Exon Coverages'), plt.ylabel('T1 Exon Coverages')"
   ]
  },
  {
   "cell_type": "code",
   "execution_count": 34,
   "metadata": {
    "collapsed": false
   },
   "outputs": [
    {
     "name": "stderr",
     "output_type": "stream",
     "text": [
      "/Users/velina/.pyenv/versions/2.7.11/envs/dmd/lib/python2.7/site-packages/ipykernel/__main__.py:3: SettingWithCopyWarning: \n",
      "A value is trying to be set on a copy of a slice from a DataFrame\n",
      "\n",
      "See the caveats in the documentation: http://pandas.pydata.org/pandas-docs/stable/indexing.html#indexing-view-versus-copy\n",
      "  app.launch_new_instance()\n"
     ]
    },
    {
     "data": {
      "text/plain": [
       "[<matplotlib.lines.Line2D at 0x109f07f10>]"
      ]
     },
     "execution_count": 34,
     "metadata": {},
     "output_type": "execute_result"
    },
    {
     "data": {
      "image/png": "[encoded data removed]",
      "text/plain": [
       "<matplotlib.figure.Figure at 0x10964bfd0>"
      ]
     },
     "metadata": {},
     "output_type": "display_data"
    }
   ],
   "source": [
    "control_M1 = reshape_df(coverage_df_M1, include_stats=True)\n",
    "plt.figure()\n",
    "plt.plot(control_M1.Mean, single_norm['FGPC-0000-444F'], '.')"
   ]
  },
  {
   "cell_type": "code",
   "execution_count": 33,
   "metadata": {
    "collapsed": false
   },
   "outputs": [
    {
     "data": {
      "text/html": [
       "<div>\n",
       "<table border=\"1\" class=\"dataframe\">\n",
       "  <thead>\n",
       "    <tr style=\"text-align: right;\">\n",
       "      <th>subject</th>\n",
       "      <th>Exon</th>\n",
       "      <th>FCLR-GP01-2121</th>\n",
       "      <th>FCLR-GP08-753E</th>\n",
       "      <th>FCLR-GP17-435H</th>\n",
       "      <th>FCLR-GP20-399A</th>\n",
       "      <th>FCLR-GP20-731O</th>\n",
       "      <th>FCLR-GP20-745F</th>\n",
       "      <th>FCLR-GP20-9287</th>\n",
       "      <th>FCLR-GP22-0112</th>\n",
       "      <th>FCLR-NA01-2121</th>\n",
       "      <th>...</th>\n",
       "      <th>MRMR-0060-736V</th>\n",
       "      <th>MRMR-0067-098S</th>\n",
       "      <th>MRMR-0070-091B</th>\n",
       "      <th>MRMR-0073-177W</th>\n",
       "      <th>MRMR-0076-691T</th>\n",
       "      <th>MRMR-0080-518T</th>\n",
       "      <th>MRMR-0080-829K</th>\n",
       "      <th>MRMR-0081-680Z</th>\n",
       "      <th>Mean</th>\n",
       "      <th>SD</th>\n",
       "    </tr>\n",
       "  </thead>\n",
       "  <tbody>\n",
       "    <tr>\n",
       "      <th>0</th>\n",
       "      <td>Ex1</td>\n",
       "      <td>0.034374</td>\n",
       "      <td>0.033821</td>\n",
       "      <td>0.031800</td>\n",
       "      <td>0.033895</td>\n",
       "      <td>0.032747</td>\n",
       "      <td>0.036952</td>\n",
       "      <td>0.032013</td>\n",
       "      <td>0.034607</td>\n",
       "      <td>0.037048</td>\n",
       "      <td>...</td>\n",
       "      <td>0.049354</td>\n",
       "      <td>0.045395</td>\n",
       "      <td>0.047994</td>\n",
       "      <td>0.050132</td>\n",
       "      <td>0.042755</td>\n",
       "      <td>0.050702</td>\n",
       "      <td>0.043174</td>\n",
       "      <td>0.046565</td>\n",
       "      <td>0.045945</td>\n",
       "      <td>0.006635</td>\n",
       "    </tr>\n",
       "    <tr>\n",
       "      <th>1</th>\n",
       "      <td>Ex2</td>\n",
       "      <td>0.001966</td>\n",
       "      <td>0.002029</td>\n",
       "      <td>0.001649</td>\n",
       "      <td>0.001520</td>\n",
       "      <td>0.001688</td>\n",
       "      <td>0.001338</td>\n",
       "      <td>0.001924</td>\n",
       "      <td>0.001323</td>\n",
       "      <td>0.001632</td>\n",
       "      <td>...</td>\n",
       "      <td>0.000855</td>\n",
       "      <td>0.001605</td>\n",
       "      <td>0.001465</td>\n",
       "      <td>0.001353</td>\n",
       "      <td>0.001943</td>\n",
       "      <td>0.001974</td>\n",
       "      <td>0.001556</td>\n",
       "      <td>0.002119</td>\n",
       "      <td>0.001703</td>\n",
       "      <td>0.000380</td>\n",
       "    </tr>\n",
       "    <tr>\n",
       "      <th>2</th>\n",
       "      <td>Ex3</td>\n",
       "      <td>0.011602</td>\n",
       "      <td>0.011076</td>\n",
       "      <td>0.010754</td>\n",
       "      <td>0.013817</td>\n",
       "      <td>0.013021</td>\n",
       "      <td>0.011487</td>\n",
       "      <td>0.012480</td>\n",
       "      <td>0.011536</td>\n",
       "      <td>0.010981</td>\n",
       "      <td>...</td>\n",
       "      <td>0.013353</td>\n",
       "      <td>0.010088</td>\n",
       "      <td>0.008650</td>\n",
       "      <td>0.012627</td>\n",
       "      <td>0.011782</td>\n",
       "      <td>0.010377</td>\n",
       "      <td>0.011085</td>\n",
       "      <td>0.011655</td>\n",
       "      <td>0.011360</td>\n",
       "      <td>0.000999</td>\n",
       "    </tr>\n",
       "    <tr>\n",
       "      <th>3</th>\n",
       "      <td>Ex4</td>\n",
       "      <td>0.018682</td>\n",
       "      <td>0.016699</td>\n",
       "      <td>0.015768</td>\n",
       "      <td>0.016769</td>\n",
       "      <td>0.016590</td>\n",
       "      <td>0.017253</td>\n",
       "      <td>0.017412</td>\n",
       "      <td>0.015339</td>\n",
       "      <td>0.014592</td>\n",
       "      <td>...</td>\n",
       "      <td>0.018214</td>\n",
       "      <td>0.017425</td>\n",
       "      <td>0.014091</td>\n",
       "      <td>0.019617</td>\n",
       "      <td>0.017248</td>\n",
       "      <td>0.020360</td>\n",
       "      <td>0.018799</td>\n",
       "      <td>0.018961</td>\n",
       "      <td>0.018618</td>\n",
       "      <td>0.002975</td>\n",
       "    </tr>\n",
       "    <tr>\n",
       "      <th>4</th>\n",
       "      <td>Ex5</td>\n",
       "      <td>0.009164</td>\n",
       "      <td>0.011922</td>\n",
       "      <td>0.010820</td>\n",
       "      <td>0.010240</td>\n",
       "      <td>0.012153</td>\n",
       "      <td>0.014070</td>\n",
       "      <td>0.015439</td>\n",
       "      <td>0.011536</td>\n",
       "      <td>0.012663</td>\n",
       "      <td>...</td>\n",
       "      <td>0.011270</td>\n",
       "      <td>0.011922</td>\n",
       "      <td>0.009836</td>\n",
       "      <td>0.010222</td>\n",
       "      <td>0.011235</td>\n",
       "      <td>0.013197</td>\n",
       "      <td>0.011604</td>\n",
       "      <td>0.009034</td>\n",
       "      <td>0.011328</td>\n",
       "      <td>0.001320</td>\n",
       "    </tr>\n",
       "  </tbody>\n",
       "</table>\n",
       "<p>5 rows × 86 columns</p>\n",
       "</div>"
      ],
      "text/plain": [
       "subject Exon  FCLR-GP01-2121  FCLR-GP08-753E  FCLR-GP17-435H  FCLR-GP20-399A  \\\n",
       "0        Ex1        0.034374        0.033821        0.031800        0.033895   \n",
       "1        Ex2        0.001966        0.002029        0.001649        0.001520   \n",
       "2        Ex3        0.011602        0.011076        0.010754        0.013817   \n",
       "3        Ex4        0.018682        0.016699        0.015768        0.016769   \n",
       "4        Ex5        0.009164        0.011922        0.010820        0.010240   \n",
       "\n",
       "subject  FCLR-GP20-731O  FCLR-GP20-745F  FCLR-GP20-9287  FCLR-GP22-0112  \\\n",
       "0              0.032747        0.036952        0.032013        0.034607   \n",
       "1              0.001688        0.001338        0.001924        0.001323   \n",
       "2              0.013021        0.011487        0.012480        0.011536   \n",
       "3              0.016590        0.017253        0.017412        0.015339   \n",
       "4              0.012153        0.014070        0.015439        0.011536   \n",
       "\n",
       "subject  FCLR-NA01-2121    ...     MRMR-0060-736V  MRMR-0067-098S  \\\n",
       "0              0.037048    ...           0.049354        0.045395   \n",
       "1              0.001632    ...           0.000855        0.001605   \n",
       "2              0.010981    ...           0.013353        0.010088   \n",
       "3              0.014592    ...           0.018214        0.017425   \n",
       "4              0.012663    ...           0.011270        0.011922   \n",
       "\n",
       "subject  MRMR-0070-091B  MRMR-0073-177W  MRMR-0076-691T  MRMR-0080-518T  \\\n",
       "0              0.047994        0.050132        0.042755        0.050702   \n",
       "1              0.001465        0.001353        0.001943        0.001974   \n",
       "2              0.008650        0.012627        0.011782        0.010377   \n",
       "3              0.014091        0.019617        0.017248        0.020360   \n",
       "4              0.009836        0.010222        0.011235        0.013197   \n",
       "\n",
       "subject  MRMR-0080-829K  MRMR-0081-680Z      Mean        SD  \n",
       "0              0.043174        0.046565  0.045945  0.006635  \n",
       "1              0.001556        0.002119  0.001703  0.000380  \n",
       "2              0.011085        0.011655  0.011360  0.000999  \n",
       "3              0.018799        0.018961  0.018618  0.002975  \n",
       "4              0.011604        0.009034  0.011328  0.001320  \n",
       "\n",
       "[5 rows x 86 columns]"
      ]
     },
     "execution_count": 33,
     "metadata": {},
     "output_type": "execute_result"
    }
   ],
   "source": [
    "control_M1.head()"
   ]
  },
  {
   "cell_type": "code",
   "execution_count": 35,
   "metadata": {
    "collapsed": false
   },
   "outputs": [
    {
     "data": {
      "text/plain": [
       "<matplotlib.legend.Legend at 0x1094f6d90>"
      ]
     },
     "execution_count": 35,
     "metadata": {},
     "output_type": "execute_result"
    },
    {
     "data": {
      "image/png": "[encoded data removed]",
      "text/plain": [
       "<matplotlib.figure.Figure at 0x109f22750>"
      ]
     },
     "metadata": {},
     "output_type": "display_data"
    }
   ],
   "source": [
    "plt.figure()\n",
    "plt.hist(control_M1_f.SD, label='M1', bins=15, range=(0, 0.007), alpha=0.9)\n",
    "plt.hold(True), \n",
    "plt.hist(control_T1_f.SD, label='T1', bins=15, range=(0, 0.007), alpha=0.75)\n",
    "plt.legend()"
   ]
  },
  {
   "cell_type": "code",
   "execution_count": 35,
   "metadata": {
    "collapsed": false,
    "scrolled": false
   },
   "outputs": [
    {
     "data": {
      "text/plain": [
       "[<matplotlib.lines.Line2D at 0x117e4de50>]"
      ]
     },
     "execution_count": 35,
     "metadata": {},
     "output_type": "execute_result"
    },
    {
     "data": {
      "image/png": "[encoded data removed]",
      "text/plain": [
       "<matplotlib.figure.Figure at 0x117b964d0>"
      ]
     },
     "metadata": {},
     "output_type": "display_data"
    }
   ],
   "source": [
    "plt.figure()\n",
    "plt.plot(fem_norm.Mean, control_M1_f.Mean, '.')"
   ]
  },
  {
   "cell_type": "code",
   "execution_count": 36,
   "metadata": {
    "collapsed": false
   },
   "outputs": [
    {
     "data": {
      "image/png": "[encoded data removed]",
      "text/plain": [
       "<matplotlib.figure.Figure at 0x117f1b510>"
      ]
     },
     "metadata": {},
     "output_type": "display_data"
    },
    {
     "data": {
      "image/png": "[encoded data removed]",
      "text/plain": [
       "<matplotlib.figure.Figure at 0x117f7abd0>"
      ]
     },
     "metadata": {},
     "output_type": "display_data"
    },
    {
     "data": {
      "image/png": "[encoded data removed]",
      "text/plain": [
       "<matplotlib.figure.Figure at 0x118127850>"
      ]
     },
     "metadata": {},
     "output_type": "display_data"
    },
    {
     "data": {
      "image/png": "[encoded data removed]",
      "text/plain": [
       "<matplotlib.figure.Figure at 0x1181cb950>"
      ]
     },
     "metadata": {},
     "output_type": "display_data"
    },
    {
     "data": {
      "image/png": "[encoded data removed]",
      "text/plain": [
       "<matplotlib.figure.Figure at 0x11828f610>"
      ]
     },
     "metadata": {},
     "output_type": "display_data"
    },
    {
     "data": {
      "image/png": "[encoded data removed]",
      "text/plain": [
       "<matplotlib.figure.Figure at 0x118349090>"
      ]
     },
     "metadata": {},
     "output_type": "display_data"
    },
    {
     "data": {
      "image/png": "[encoded data removed]",
      "text/plain": [
       "<matplotlib.figure.Figure at 0x1183e4f90>"
      ]
     },
     "metadata": {},
     "output_type": "display_data"
    },
    {
     "data": {
      "image/png": "[encoded data removed]",
      "text/plain": [
       "<matplotlib.figure.Figure at 0x1184b09d0>"
      ]
     },
     "metadata": {},
     "output_type": "display_data"
    },
    {
     "data": {
      "image/png": "[encoded data removed]",
      "text/plain": [
       "<matplotlib.figure.Figure at 0x118561290>"
      ]
     },
     "metadata": {},
     "output_type": "display_data"
    },
    {
     "data": {
      "image/png": "[encoded data removed]",
      "text/plain": [
       "<matplotlib.figure.Figure at 0x1186232d0>"
      ]
     },
     "metadata": {},
     "output_type": "display_data"
    }
   ],
   "source": [
    "for i in range(10):\n",
    "    plt.figure()\n",
    "    plt.hist(control_M1.ix[i][1:-3])\n",
    "    plt.xlabel('Normalized Coverage Distribution for Exon {}'.format(i+1))"
   ]
  },
  {
   "cell_type": "code",
   "execution_count": null,
   "metadata": {
    "collapsed": true
   },
   "outputs": [],
   "source": []
  }
 ],
 "metadata": {
  "anaconda-cloud": {},
  "kernelspec": {
   "display_name": "Python 2",
   "language": "python",
   "name": "python2"
  },
  "language_info": {
   "codemirror_mode": {
    "name": "ipython",
    "version": 2
   },
   "file_extension": ".py",
   "mimetype": "text/x-python",
   "name": "python",
   "nbconvert_exporter": "python",
   "pygments_lexer": "ipython2",
   "version": "2.7.11"
  }
 },
 "nbformat": 4,
 "nbformat_minor": 0
}
