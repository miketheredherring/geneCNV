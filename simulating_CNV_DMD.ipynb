{
 "cells": [
  {
   "cell_type": "markdown",
   "metadata": {},
   "source": [
    "## Alignment Statistics and Deletion Simulation with pysam"
   ]
  },
  {
   "cell_type": "code",
   "execution_count": 140,
   "metadata": {
    "collapsed": false
   },
   "outputs": [],
   "source": [
    "import pysam\n",
    "import numpy as np\n",
    "import matplotlib.pyplot as plt\n",
    "import pandas as pd\n",
    "from collections import Counter"
   ]
  },
  {
   "cell_type": "code",
   "execution_count": 135,
   "metadata": {
    "collapsed": true
   },
   "outputs": [],
   "source": [
    "# DMD exon/gene coordinates and useful regions\n",
    "EXON46 = [31950197, 31950344]\n",
    "EXON47 = [31947713, 31947862]\n",
    "EXON48 = [31893308, 31893490]\n",
    "EXON49 = [31854835, 31854939]\n",
    "EXON50 = [31838092, 31838200]\n",
    "EXON51 = [31792077, 31792309]\n",
    "DMD = [31137345, 33357726]\n",
    "\n",
    "# deletion of \n",
    "EX48_50_PART = [31838130, 31893308]"
   ]
  },
  {
   "cell_type": "code",
   "execution_count": 208,
   "metadata": {
    "collapsed": true
   },
   "outputs": [],
   "source": [
    "# Velina's local bam files for testing (names are consistent with subject/sample names)\n",
    "bamfiles = ['FGPC-0000-444F.bam', 'FGPC-8V7M-82J3.bam', 'FPWB-0000-840T.bam', 'MGPC-6KHG-N0LS.bam']"
   ]
  },
  {
   "cell_type": "code",
   "execution_count": 199,
   "metadata": {
    "collapsed": true
   },
   "outputs": [],
   "source": [
    "# workaround to force real time print output in notebooks\n",
    "# see http://stackoverflow.com/questions/29772158/make-ipython-notebook-print-in-real-time\n",
    "import sys\n",
    "oldsysstdout = sys.stdout\n",
    "class flushfile():\n",
    "    def __init__(self, f):\n",
    "        self.f = f\n",
    "    def __getattr__(self,name): \n",
    "        return object.__getattribute__(self.f, name)\n",
    "    def write(self, x):\n",
    "        self.f.write(x)\n",
    "        self.f.flush()\n",
    "    def flush(self):\n",
    "        self.f.flush()\n",
    "sys.stdout = flushfile(sys.stdout)"
   ]
  },
  {
   "cell_type": "markdown",
   "metadata": {},
   "source": [
    "## Playing around with pysam and samtools"
   ]
  },
  {
   "cell_type": "code",
   "execution_count": 73,
   "metadata": {
    "collapsed": false
   },
   "outputs": [
    {
     "name": "stdout",
     "output_type": "stream",
     "text": [
      "('1', '2', '3', '4', '5', '6', '7', '8', '9', '10', '11', '12', '13', '14', '15', '16', '17', '18', '19', '20', '21', '22', 'X', 'Y', 'MT')\n"
     ]
    }
   ],
   "source": [
    "bamfile = pysam.AlignmentFile('FGPC-0000-444F.bam', 'rb')\n",
    "print bamfile.references"
   ]
  },
  {
   "cell_type": "code",
   "execution_count": 101,
   "metadata": {
    "collapsed": false
   },
   "outputs": [
    {
     "name": "stdout",
     "output_type": "stream",
     "text": [
      "['SQ', 'RG', 'PG', 'HD']\n"
     ]
    },
    {
     "data": {
      "text/plain": [
       "[{'LN': 249250621, 'SN': '1'},\n",
       " {'LN': 243199373, 'SN': '2'},\n",
       " {'LN': 198022430, 'SN': '3'},\n",
       " {'LN': 191154276, 'SN': '4'},\n",
       " {'LN': 180915260, 'SN': '5'},\n",
       " {'LN': 171115067, 'SN': '6'},\n",
       " {'LN': 159138663, 'SN': '7'},\n",
       " {'LN': 146364022, 'SN': '8'},\n",
       " {'LN': 141213431, 'SN': '9'},\n",
       " {'LN': 135534747, 'SN': '10'},\n",
       " {'LN': 135006516, 'SN': '11'},\n",
       " {'LN': 133851895, 'SN': '12'},\n",
       " {'LN': 115169878, 'SN': '13'},\n",
       " {'LN': 107349540, 'SN': '14'},\n",
       " {'LN': 102531392, 'SN': '15'},\n",
       " {'LN': 90354753, 'SN': '16'},\n",
       " {'LN': 81195210, 'SN': '17'},\n",
       " {'LN': 78077248, 'SN': '18'},\n",
       " {'LN': 59128983, 'SN': '19'},\n",
       " {'LN': 63025520, 'SN': '20'},\n",
       " {'LN': 48129895, 'SN': '21'},\n",
       " {'LN': 51304566, 'SN': '22'},\n",
       " {'LN': 155270560, 'SN': 'X'},\n",
       " {'LN': 59373566, 'SN': 'Y'},\n",
       " {'LN': 16569, 'SN': 'MT'}]"
      ]
     },
     "execution_count": 101,
     "metadata": {},
     "output_type": "execute_result"
    }
   ],
   "source": [
    "# header breakdown\n",
    "print bamfile.header.keys()\n",
    "# take template header from existing bamfile\n",
    "template_header = bamfile.header\n",
    "bamfile.header['SQ']"
   ]
  },
  {
   "cell_type": "code",
   "execution_count": 110,
   "metadata": {
    "collapsed": false
   },
   "outputs": [
    {
     "name": "stdout",
     "output_type": "stream",
     "text": [
      "NS500214:178:H5FGFAFXX:1:11101:1977:9301\t147\t22\t31854685\t60\t151M\t22\t31854633\t151\tAAGCTTTGCCTCTTCTATTACAGTATGGCCAGTATTTCCTTACAAGTTATTTCACTGATTATAAATAGTCCACGTCAATGGCAAATGTACAACAGGGGAAGCATAACCCATTATGAGGTAATGGATATTGCTAGAGGTTGCTTCATTACCT\tarray('B', [12, 23, 18, 28, 27, 28, 25, 27, 29, 12, 26, 29, 29, 10, 33, 24, 29, 29, 27, 28, 30, 31, 26, 27, 29, 25, 9, 31, 32, 13, 32, 31, 27, 29, 24, 29, 28, 32, 33, 24, 27, 26, 34, 30, 32, 31, 29, 27, 29, 29, 29, 28, 34, 28, 33, 10, 29, 30, 30, 23, 30, 23, 31, 31, 30, 28, 33, 25, 29, 33, 35, 29, 28, 33, 29, 29, 31, 30, 31, 31, 32, 35, 31, 31, 30, 30, 33, 28, 29, 35, 31, 29, 35, 33, 31, 32, 25, 35, 32, 34, 33, 36, 31, 23, 32, 30, 34, 34, 36, 31, 31, 23, 31, 31, 35, 34, 32, 33, 29, 32, 31, 31, 32, 35, 31, 29, 31, 24, 31, 33, 35, 29, 34, 35, 34, 32, 33, 31, 31, 33, 35, 31, 30, 36, 31, 31, 28, 30, 29, 31, 29])\t[('BD', 'KMNLCKONPONMMNNLLKMLMMMKNMMLMMMMKKBLMNLJMLLKMKJKKBLNMMNLNKIJKJDKJKMMLLLLKMMKJMLLLKCJMJLLKKJKLLIILKJLLMJIJKHLMJIJMLKLKMJJNMMNKKKJNNMLLLNMLKPPNNQQNMPLNKK'), ('MD', '0C12G137'), ('BI', 'OQPODKOQQQQQQQQPPOQPRQPPRRQRQRQPPOGPRPONPOOOQMOOOGOQPQPPQONOOOHNOOPPQPPQOPQONQQPQOHNQNOPOONOQQMNPOOQPQOOMOLPQONNQPMQNOONQQPQOOOMPPPOOMQPNNQRQQSSQQSPPNN'), ('NM', 2), ('AS', 145), ('XS', 0), ('RG', 'FGPC-0000-444F_1-M1-1_H5FGFAFXX-L001')]\n"
     ]
    }
   ],
   "source": [
    "# does not output in same format as actual samfile -- see documentation for breakdown\n",
    "iterable = bamfile.fetch('X', *EXON49)\n",
    "example_read = iterable.next()\n",
    "print example_read"
   ]
  },
  {
   "cell_type": "code",
   "execution_count": 118,
   "metadata": {
    "collapsed": false
   },
   "outputs": [
    {
     "data": {
      "text/plain": [
       "31854836"
      ]
     },
     "execution_count": 118,
     "metadata": {},
     "output_type": "execute_result"
    }
   ],
   "source": [
    "example_read.reference_end"
   ]
  },
  {
   "cell_type": "code",
   "execution_count": 45,
   "metadata": {
    "collapsed": false
   },
   "outputs": [],
   "source": [
    "coverage = bamfile.count_coverage('X', *EXON49)"
   ]
  },
  {
   "cell_type": "code",
   "execution_count": 53,
   "metadata": {
    "collapsed": false
   },
   "outputs": [
    {
     "data": {
      "text/plain": [
       "2220390"
      ]
     },
     "execution_count": 53,
     "metadata": {},
     "output_type": "execute_result"
    }
   ],
   "source": [
    "len(coverage[0])"
   ]
  },
  {
   "cell_type": "code",
   "execution_count": 119,
   "metadata": {
    "collapsed": false
   },
   "outputs": [
    {
     "name": "stdout",
     "output_type": "stream",
     "text": [
      "False\n"
     ]
    },
    {
     "data": {
      "text/plain": [
       "22"
      ]
     },
     "execution_count": 119,
     "metadata": {},
     "output_type": "execute_result"
    }
   ],
   "source": [
    "print example_read.is_unmapped\n",
    "example_read.tid"
   ]
  },
  {
   "cell_type": "code",
   "execution_count": 75,
   "metadata": {
    "collapsed": false
   },
   "outputs": [
    {
     "data": {
      "text/plain": [
       "'X'"
      ]
     },
     "execution_count": 75,
     "metadata": {},
     "output_type": "execute_result"
    }
   ],
   "source": [
    "# getting reference name\n",
    "bamfile.getrname(example_read.reference_id)"
   ]
  },
  {
   "cell_type": "code",
   "execution_count": 202,
   "metadata": {
    "collapsed": false
   },
   "outputs": [
    {
     "name": "stdout",
     "output_type": "stream",
     "text": [
      "CPU times: user 6.68 s, sys: 107 ms, total: 6.79 s\n",
      "Wall time: 6.84 s\n"
     ]
    }
   ],
   "source": [
    "# next two cells testing pysam's samtools integration (specifically samtools view and merge)\n",
    "%%time\n",
    "infile = 'FGPC-8V7M-82J3.bam'\n",
    "outfile = 'FGPC-8V7M-82J3_ch22.bam'\n",
    "pysam.view('-b', '-o' + outfile, infile, '21', '22', catch_stdout=False)\n",
    "pysam.index(outfile)"
   ]
  },
  {
   "cell_type": "code",
   "execution_count": 169,
   "metadata": {
    "collapsed": false
   },
   "outputs": [
    {
     "name": "stdout",
     "output_type": "stream",
     "text": [
      "CPU times: user 14 s, sys: 192 ms, total: 14.2 s\n",
      "Wall time: 14.3 s\n"
     ]
    }
   ],
   "source": [
    "%%time\n",
    "infile = 'FGPC-8V7M-82J3.bam'\n",
    "outfile = 'FGPC-8V7M-82J3_ch20.bam'\n",
    "pysam.view('-b', '-o' + outfile, infile, '20', catch_stdout=False)\n",
    "# pysam.index(outfile)\n",
    "\n",
    "pysam.merge('combined.bam', outfile, 'FGPC-8V7M-82J3_ch22.bam', catch_stdout=False)"
   ]
  },
  {
   "cell_type": "markdown",
   "metadata": {},
   "source": [
    "## Recording Alignment Statistics \n",
    "(Exon 49 and full DMD)\n",
    "Exon 49 is located in deletion hotspot in DMD"
   ]
  },
  {
   "cell_type": "code",
   "execution_count": 179,
   "metadata": {
    "collapsed": false
   },
   "outputs": [],
   "source": [
    "def alignment_stats(bamfile_name, reference, region, minmapQ=30):\n",
    "    '''Prints alignment stats across reads in particular region in BAM. \n",
    "       reference -- ref or chrm number\n",
    "       region -- list or tuple with region bounds\n",
    "    '''\n",
    "    with pysam.AlignmentFile(bamfile_name, 'rb') as bamfile:\n",
    "        stats = Counter()\n",
    "        for read in bamfile.fetch(reference, *region):\n",
    "            stats['total'] += 1\n",
    "            stats['qcfail'] += int(read.is_qcfail)\n",
    "\n",
    "            stats['paired'] += int(read.is_paired)\n",
    "            stats['read1'] += int(read.is_read1)\n",
    "            stats['read2'] += int(read.is_read2)\n",
    "\n",
    "            if read.is_unmapped:\n",
    "                stats['unmapped'] += 1\n",
    "                continue\n",
    "\n",
    "            stats['mapq <= 30'] += int(read.mapping_quality <= minmapQ)\n",
    "\n",
    "            stats['mapped'] += 1\n",
    "            stats['proper pair'] += int(read.is_proper_pair)\n",
    "\n",
    "        output_order = ('total', 'mapped', 'unmapped', 'paired', 'read1', 'read2', 'proper pair', 'qcfail', 'mapq <= 30')\n",
    "\n",
    "        print '{} \\nChromosome {} Region {} Stats:'.format(bamfile_name, reference, region)\n",
    "        for key in output_order:\n",
    "            print '\\t{}: {}, Prop: {}'.format(key, stats[key], stats[key] / float(stats['total']))"
   ]
  },
  {
   "cell_type": "code",
   "execution_count": 180,
   "metadata": {
    "collapsed": false
   },
   "outputs": [
    {
     "name": "stdout",
     "output_type": "stream",
     "text": [
      "FGPC-0000-444F.bam \n",
      "Chromosome X Region [31854835, 31854939] Stats:\n",
      "\ttotal: 680, Prop: 1.0\n",
      "\tmapped: 680, Prop: 1.0\n",
      "\tunmapped: 0, Prop: 0.0\n",
      "\tpaired: 680, Prop: 1.0\n",
      "\tread1: 342, Prop: 0.502941176471\n",
      "\tread2: 338, Prop: 0.497058823529\n",
      "\tproper pair: 680, Prop: 1.0\n",
      "\tqcfail: 0, Prop: 0.0\n",
      "\tmapq <= 30: 0, Prop: 0.0\n"
     ]
    }
   ],
   "source": [
    "alignment_stats('FGPC-0000-444F.bam', 'X', EXON49)"
   ]
  },
  {
   "cell_type": "code",
   "execution_count": 182,
   "metadata": {
    "collapsed": false,
    "scrolled": false
   },
   "outputs": [
    {
     "name": "stdout",
     "output_type": "stream",
     "text": [
      "FGPC-0000-444F.bam \n",
      "Chromosome X Region [31137345, 33357726] Stats:\n",
      "\ttotal: 89101, Prop: 1.0\n",
      "\tmapped: 88984, Prop: 0.998686883424\n",
      "\tunmapped: 117, Prop: 0.00131311657557\n",
      "\tpaired: 89101, Prop: 1.0\n",
      "\tread1: 44568, Prop: 0.500196406325\n",
      "\tread2: 44533, Prop: 0.499803593675\n",
      "\tproper pair: 88707, Prop: 0.995578051874\n",
      "\tqcfail: 0, Prop: 0.0\n",
      "\tmapq <= 30: 180, Prop: 0.00202017934703\n",
      "FGPC-8V7M-82J3.bam \n",
      "Chromosome X Region [31137345, 33357726] Stats:\n",
      "\ttotal: 19313, Prop: 1.0\n",
      "\tmapped: 19309, Prop: 0.999792885621\n",
      "\tunmapped: 4, Prop: 0.000207114378916\n",
      "\tpaired: 19313, Prop: 1.0\n",
      "\tread1: 9657, Prop: 0.500025889297\n",
      "\tread2: 9656, Prop: 0.499974110703\n",
      "\tproper pair: 19283, Prop: 0.998446642158\n",
      "\tqcfail: 0, Prop: 0.0\n",
      "\tmapq <= 30: 29, Prop: 0.00150157924714\n",
      "FPWB-0000-840T.bam \n",
      "Chromosome X Region [31137345, 33357726] Stats:\n",
      "\ttotal: 116792, Prop: 1.0\n",
      "\tmapped: 116650, Prop: 0.998784163299\n",
      "\tunmapped: 142, Prop: 0.00121583670114\n",
      "\tpaired: 116792, Prop: 1.0\n",
      "\tread1: 58413, Prop: 0.500145557915\n",
      "\tread2: 58379, Prop: 0.499854442085\n",
      "\tproper pair: 116326, Prop: 0.996010000685\n",
      "\tqcfail: 0, Prop: 0.0\n",
      "\tmapq <= 30: 293, Prop: 0.0025087334749\n",
      "MGPC-6KHG-N0LS.bam \n",
      "Chromosome X Region [31137345, 33357726] Stats:\n",
      "\ttotal: 18903, Prop: 1.0\n",
      "\tmapped: 18896, Prop: 0.999629688409\n",
      "\tunmapped: 7, Prop: 0.000370311590753\n",
      "\tpaired: 18903, Prop: 1.0\n",
      "\tread1: 9450, Prop: 0.499920647516\n",
      "\tread2: 9453, Prop: 0.500079352484\n",
      "\tproper pair: 18851, Prop: 0.997249113897\n",
      "\tqcfail: 0, Prop: 0.0\n",
      "\tmapq <= 30: 82, Prop: 0.00433793577739\n"
     ]
    }
   ],
   "source": [
    "for bam in bamfiles:\n",
    "    alignment_stats(bam, 'X', DMD)"
   ]
  },
  {
   "cell_type": "markdown",
   "metadata": {},
   "source": [
    "### Conclusions\n",
    "Mapping quality seems to be fairly high across DMD gene (only 0.1-0.4% of reads have mapQ less than 30) for 4 samples tested here. \n",
    "\n",
    "Repeat with more samples -- could also check specific regions, add check to see if reads with low mapQ are also short reads. "
   ]
  },
  {
   "cell_type": "markdown",
   "metadata": {},
   "source": [
    "## Writing basic BAM with simulated deletion"
   ]
  },
  {
   "cell_type": "code",
   "execution_count": 204,
   "metadata": {
    "collapsed": false
   },
   "outputs": [],
   "source": [
    "def simulate_exon_del(outfile, infile_bam, chrom_ref, del_region, depletion_factor=2, output_full=False):\n",
    "    ''' Simulates deletion in specified region by reducing the number of aligned reads in region \n",
    "        by specified depletion_factor.\n",
    "        depletion_factor -- int indicating factor by which total read number reduced\n",
    "        output_full -- option to generate complete bam file (all chromosomes) vs bam file with just chrom_ref\n",
    "    '''\n",
    "    if del_region[0] > del_region[1]:\n",
    "        raise ValueError('Region boundaries invalid')\n",
    "        \n",
    "    template_bam = pysam.AlignmentFile(infile_bam, 'rb')\n",
    "    \n",
    "    with pysam.AlignmentFile(outfile, 'wb', template=template_bam) as outf:\n",
    "        for i, read in enumerate(template_bam.fetch(chrom_ref)):\n",
    "            if read.reference_start <= del_region[1] and read.reference_end >= del_region[0]:\n",
    "                if not (i % depletion_factor):\n",
    "                    outf.write(read)\n",
    "            else:\n",
    "                outf.write(read)\n",
    "        print 'Finished generating reads in bamfile for desired chrom_ref'\n",
    "    \n",
    "    # generates bam file for all chroms before desired and separate bam file for all chroms after; \n",
    "    # then merges three bam files -- might require clean up of extra files after running\n",
    "    if output_full:\n",
    "        ref_list = list(template_bam.references)\n",
    "        index = ref_list.index(chrom_ref)\n",
    "        before = ref_list[:index]\n",
    "        after = ref_list[(index + 1):]\n",
    "        \n",
    "        before_wanted = '{}_before.bam'.format(infile_bam.split('.')[0])\n",
    "        after_wanted = '{}_after.bam'.format(infile_bam.split('.')[0])\n",
    "        \n",
    "        pysam.view('-b', '-o' + before_wanted, infile_bam, *before, catch_stdout=False)\n",
    "        print 'Finished generating bamfile for refs before chrom_ref'\n",
    "        pysam.view('-b', '-o' + after_wanted, infile_bam, *after, catch_stdout=False)\n",
    "        print 'Finished generating bamfile for refs after chrom_ref'\n",
    "        \n",
    "        outfile_full = '{}_full.bam'.format(outfile.split('.')[0])\n",
    "        pysam.merge(outfile_full, before_wanted, outfile, after_wanted, catch_stdout=False)\n",
    "        print 'Finished merging all bamfiles into final output'\n",
    "        \n",
    "        template_bam.close()\n",
    "        pysam.index(outfile_full)\n",
    "    else:\n",
    "        pysam.index(outfile)\n",
    "        \n",
    "    print 'Finished creating index file for final output bamfile'"
   ]
  },
  {
   "cell_type": "code",
   "execution_count": 203,
   "metadata": {
    "collapsed": false
   },
   "outputs": [
    {
     "name": "stdout",
     "output_type": "stream",
     "text": [
      "CPU times: user 59 s, sys: 1.04 s, total: 1min\n",
      "Wall time: 1min\n"
     ]
    }
   ],
   "source": [
    "%%time\n",
    "outfile = 'FGPC-0000-444F_49_del.bam'\n",
    "simulate_exon_del(outfile, 'FGPC-0000-444F.bam', 'X', EXON49, depletion_factor=3)"
   ]
  },
  {
   "cell_type": "code",
   "execution_count": 207,
   "metadata": {
    "collapsed": false
   },
   "outputs": [
    {
     "name": "stdout",
     "output_type": "stream",
     "text": [
      "Finished generating reads in bamfile for desired chrom_ref\n",
      "Finished generating bamfile for refs before chrom_ref\n",
      "Finished generating bamfile for refs after chrom_ref\n",
      "Finished merging all bamfiles into final output\n",
      "Finished creating index file for final output bamfile\n",
      "CPU times: user 7min 10s, sys: 7.01 s, total: 7min 17s\n",
      "Wall time: 7min 20s\n"
     ]
    }
   ],
   "source": [
    "%%time\n",
    "# this is a relatively small bamfile (only about 1.5 GB) -- outputting full bamfile is quite slow in general\n",
    "infile = 'FGPC-8V7M-82J3.bam'\n",
    "outfile = 'FGPC-8V7M-82J3_48-50_del.bam'\n",
    "simulate_exon_del(outfile, infile, 'X', EX48_50_PART, depletion_factor=3, output_full=True)"
   ]
  },
  {
   "cell_type": "code",
   "execution_count": null,
   "metadata": {
    "collapsed": true
   },
   "outputs": [],
   "source": []
  }
 ],
 "metadata": {
  "anaconda-cloud": {},
  "kernelspec": {
   "display_name": "Python 2",
   "language": "python",
   "name": "python2"
  },
  "language_info": {
   "codemirror_mode": {
    "name": "ipython",
    "version": 2
   },
   "file_extension": ".py",
   "mimetype": "text/x-python",
   "name": "python",
   "nbconvert_exporter": "python",
   "pygments_lexer": "ipython2",
   "version": "2.7.11"
  }
 },
 "nbformat": 4,
 "nbformat_minor": 0
}
