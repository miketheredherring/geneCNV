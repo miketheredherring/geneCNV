{
 "cells": [
  {
   "cell_type": "markdown",
   "metadata": {},
   "source": [
    "## Alignment Statistics and Deletion Simulation with pysam"
   ]
  },
  {
   "cell_type": "code",
   "execution_count": 40,
   "metadata": {
    "collapsed": false
   },
   "outputs": [],
   "source": [
    "import pysam\n",
    "import numpy as np\n",
    "import random\n",
    "import matplotlib.pyplot as plt\n",
    "import pandas as pd\n",
    "from collections import Counter\n",
    "#import sys\n",
    "#sys.path.insert(0, '/Users/velina/Documents/GitHub/genepeeks-science')\n",
    "#from genepeeks.common import utilities as util"
   ]
  },
  {
   "cell_type": "code",
   "execution_count": null,
   "metadata": {
    "collapsed": true
   },
   "outputs": [],
   "source": [
    "# DMD_ensembl = util.Mongo.get_collection_data('gene', wanted_db='prod', query={'_id': 'DMD'}, find_one=True, single_field='ensembl')\n",
    "# DMD_exons = util.get_nested_value(DMD_ensembl, ('is_primary', 'transcripts', 'is_primary', 'exons'))"
   ]
  },
  {
   "cell_type": "code",
   "execution_count": 42,
   "metadata": {
    "collapsed": true
   },
   "outputs": [],
   "source": [
    "# DMD exon/gene coordinates and useful regions (coordinates taken from IGV b37 reference)\n",
    "EXON46 = [31950197, 31950344]\n",
    "EXON47 = [31947713, 31947862]\n",
    "EXON48 = [31893308, 31893490]\n",
    "EXON49 = [31854835, 31854939]\n",
    "EXON50 = [31838092, 31838200]\n",
    "EXON51 = [31792077, 31792309]\n",
    "DMD = [31115794, 33357558]  # taken from ensembl GRCh37\n",
    "\n",
    "# deletion of partial exons\n",
    "EX48_50_PART = [31838130, 31893308]"
   ]
  },
  {
   "cell_type": "code",
   "execution_count": 8,
   "metadata": {
    "collapsed": true
   },
   "outputs": [],
   "source": [
    "# Velina's local bam files for testing (names are consistent with subject/sample names)\n",
    "bamfiles = ['FGPC-0000-444F.bam', 'FGPC-8V7M-82J3.bam', 'FPWB-0000-840T.bam', 'MGPC-6KHG-N0LS.bam']"
   ]
  },
  {
   "cell_type": "code",
   "execution_count": 9,
   "metadata": {
    "collapsed": true
   },
   "outputs": [],
   "source": [
    "# workaround to force real time print output in notebooks\n",
    "# see http://stackoverflow.com/questions/29772158/make-ipython-notebook-print-in-real-time\n",
    "import sys\n",
    "oldsysstdout = sys.stdout\n",
    "class flushfile():\n",
    "    def __init__(self, f):\n",
    "        self.f = f\n",
    "    def __getattr__(self,name): \n",
    "        return object.__getattribute__(self.f, name)\n",
    "    def write(self, x):\n",
    "        self.f.write(x)\n",
    "        self.f.flush()\n",
    "    def flush(self):\n",
    "        self.f.flush()\n",
    "sys.stdout = flushfile(sys.stdout)"
   ]
  },
  {
   "cell_type": "markdown",
   "metadata": {},
   "source": [
    "## Playing around with pysam and samtools"
   ]
  },
  {
   "cell_type": "code",
   "execution_count": 18,
   "metadata": {
    "collapsed": false
   },
   "outputs": [
    {
     "name": "stdout",
     "output_type": "stream",
     "text": [
      "('1', '2', '3', '4', '5', '6', '7', '8', '9', '10', '11', '12', '13', '14', '15', '16', '17', '18', '19', '20', '21', '22', 'X', 'Y', 'MT')\n"
     ]
    }
   ],
   "source": [
    "bamfile = pysam.AlignmentFile('bams/FGPC-0000-444F.bam', 'rb')\n",
    "print bamfile.references"
   ]
  },
  {
   "cell_type": "code",
   "execution_count": 19,
   "metadata": {
    "collapsed": false
   },
   "outputs": [
    {
     "name": "stdout",
     "output_type": "stream",
     "text": [
      "['SQ', 'RG', 'PG', 'HD']\n"
     ]
    },
    {
     "data": {
      "text/plain": [
       "[{'LN': 249250621, 'SN': '1'},\n",
       " {'LN': 243199373, 'SN': '2'},\n",
       " {'LN': 198022430, 'SN': '3'},\n",
       " {'LN': 191154276, 'SN': '4'},\n",
       " {'LN': 180915260, 'SN': '5'},\n",
       " {'LN': 171115067, 'SN': '6'},\n",
       " {'LN': 159138663, 'SN': '7'},\n",
       " {'LN': 146364022, 'SN': '8'},\n",
       " {'LN': 141213431, 'SN': '9'},\n",
       " {'LN': 135534747, 'SN': '10'},\n",
       " {'LN': 135006516, 'SN': '11'},\n",
       " {'LN': 133851895, 'SN': '12'},\n",
       " {'LN': 115169878, 'SN': '13'},\n",
       " {'LN': 107349540, 'SN': '14'},\n",
       " {'LN': 102531392, 'SN': '15'},\n",
       " {'LN': 90354753, 'SN': '16'},\n",
       " {'LN': 81195210, 'SN': '17'},\n",
       " {'LN': 78077248, 'SN': '18'},\n",
       " {'LN': 59128983, 'SN': '19'},\n",
       " {'LN': 63025520, 'SN': '20'},\n",
       " {'LN': 48129895, 'SN': '21'},\n",
       " {'LN': 51304566, 'SN': '22'},\n",
       " {'LN': 155270560, 'SN': 'X'},\n",
       " {'LN': 59373566, 'SN': 'Y'},\n",
       " {'LN': 16569, 'SN': 'MT'}]"
      ]
     },
     "execution_count": 19,
     "metadata": {},
     "output_type": "execute_result"
    }
   ],
   "source": [
    "# header breakdown\n",
    "print bamfile.header.keys()\n",
    "# take template header from existing bamfile\n",
    "template_header = bamfile.header\n",
    "bamfile.header['SQ']"
   ]
  },
  {
   "cell_type": "code",
   "execution_count": 20,
   "metadata": {
    "collapsed": false
   },
   "outputs": [
    {
     "name": "stdout",
     "output_type": "stream",
     "text": [
      "NS500214:178:H5FGFAFXX:1:11101:1977:9301\t147\t22\t31854685\t60\t151M\t22\t31854633\t151\tAAGCTTTGCCTCTTCTATTACAGTATGGCCAGTATTTCCTTACAAGTTATTTCACTGATTATAAATAGTCCACGTCAATGGCAAATGTACAACAGGGGAAGCATAACCCATTATGAGGTAATGGATATTGCTAGAGGTTGCTTCATTACCT\tarray('B', [12, 23, 18, 28, 27, 28, 25, 27, 29, 12, 26, 29, 29, 10, 33, 24, 29, 29, 27, 28, 30, 31, 26, 27, 29, 25, 9, 31, 32, 13, 32, 31, 27, 29, 24, 29, 28, 32, 33, 24, 27, 26, 34, 30, 32, 31, 29, 27, 29, 29, 29, 28, 34, 28, 33, 10, 29, 30, 30, 23, 30, 23, 31, 31, 30, 28, 33, 25, 29, 33, 35, 29, 28, 33, 29, 29, 31, 30, 31, 31, 32, 35, 31, 31, 30, 30, 33, 28, 29, 35, 31, 29, 35, 33, 31, 32, 25, 35, 32, 34, 33, 36, 31, 23, 32, 30, 34, 34, 36, 31, 31, 23, 31, 31, 35, 34, 32, 33, 29, 32, 31, 31, 32, 35, 31, 29, 31, 24, 31, 33, 35, 29, 34, 35, 34, 32, 33, 31, 31, 33, 35, 31, 30, 36, 31, 31, 28, 30, 29, 31, 29])\t[('BD', 'KMNLCKONPONMMNNLLKMLMMMKNMMLMMMMKKBLMNLJMLLKMKJKKBLNMMNLNKIJKJDKJKMMLLLLKMMKJMLLLKCJMJLLKKJKLLIILKJLLMJIJKHLMJIJMLKLKMJJNMMNKKKJNNMLLLNMLKPPNNQQNMPLNKK'), ('MD', '0C12G137'), ('BI', 'OQPODKOQQQQQQQQPPOQPRQPPRRQRQRQPPOGPRPONPOOOQMOOOGOQPQPPQONOOOHNOOPPQPPQOPQONQQPQOHNQNOPOONOQQMNPOOQPQOOMOLPQONNQPMQNOONQQPQOOOMPPPOOMQPNNQRQQSSQQSPPNN'), ('NM', 2), ('AS', 145), ('XS', 0), ('RG', 'FGPC-0000-444F_1-M1-1_H5FGFAFXX-L001')]\n"
     ]
    }
   ],
   "source": [
    "# does not output in same format as actual samfile -- see documentation for breakdown\n",
    "iterable = bamfile.fetch('X', *EXON49)\n",
    "example_read = iterable.next()\n",
    "print example_read"
   ]
  },
  {
   "cell_type": "code",
   "execution_count": 21,
   "metadata": {
    "collapsed": false
   },
   "outputs": [
    {
     "data": {
      "text/plain": [
       "31854836"
      ]
     },
     "execution_count": 21,
     "metadata": {},
     "output_type": "execute_result"
    }
   ],
   "source": [
    "example_read.reference_end"
   ]
  },
  {
   "cell_type": "code",
   "execution_count": 22,
   "metadata": {
    "collapsed": false
   },
   "outputs": [],
   "source": [
    "coverage = bamfile.count_coverage('X', *EXON49)"
   ]
  },
  {
   "cell_type": "code",
   "execution_count": 34,
   "metadata": {
    "collapsed": false
   },
   "outputs": [
    {
     "name": "stdout",
     "output_type": "stream",
     "text": [
      "104\n",
      "array('L', [0L, 0L, 1L, 260L, 1L, 0L, 0L, 0L, 0L, 0L, 0L, 281L, 0L, 0L, 0L, 0L, 1L, 0L, 0L, 0L, 0L, 0L, 0L, 0L, 0L, 0L, 2L, 0L, 0L, 0L, 0L, 299L, 0L, 287L, 284L, 285L, 1L, 0L, 1L, 0L, 0L, 2L, 0L, 0L, 0L, 1L, 0L, 319L, 0L, 308L, 1L, 315L, 323L, 307L, 305L, 0L, 1L, 0L, 0L, 0L, 0L, 0L, 2L, 301L, 1L, 303L, 0L, 0L, 1L, 1L, 0L, 1L, 0L, 0L, 0L, 0L, 0L, 339L, 0L, 0L, 0L, 0L, 0L, 326L, 303L, 0L, 1L, 0L, 0L, 0L, 289L, 0L, 0L, 0L, 0L, 307L, 0L, 0L, 0L, 0L, 0L, 0L, 0L, 0L])\n"
     ]
    }
   ],
   "source": [
    "print len(coverage[0])\n",
    "print coverage[0]"
   ]
  },
  {
   "cell_type": "code",
   "execution_count": 119,
   "metadata": {
    "collapsed": false
   },
   "outputs": [
    {
     "name": "stdout",
     "output_type": "stream",
     "text": [
      "False\n"
     ]
    },
    {
     "data": {
      "text/plain": [
       "22"
      ]
     },
     "execution_count": 119,
     "metadata": {},
     "output_type": "execute_result"
    }
   ],
   "source": [
    "print example_read.is_unmapped\n",
    "example_read.tid"
   ]
  },
  {
   "cell_type": "code",
   "execution_count": 75,
   "metadata": {
    "collapsed": false
   },
   "outputs": [
    {
     "data": {
      "text/plain": [
       "'X'"
      ]
     },
     "execution_count": 75,
     "metadata": {},
     "output_type": "execute_result"
    }
   ],
   "source": [
    "# getting reference name\n",
    "bamfile.getrname(example_read.reference_id)"
   ]
  },
  {
   "cell_type": "code",
   "execution_count": 202,
   "metadata": {
    "collapsed": false
   },
   "outputs": [
    {
     "name": "stdout",
     "output_type": "stream",
     "text": [
      "CPU times: user 6.68 s, sys: 107 ms, total: 6.79 s\n",
      "Wall time: 6.84 s\n"
     ]
    }
   ],
   "source": [
    "# next two cells testing pysam's samtools integration (specifically samtools view and merge)\n",
    "%%time\n",
    "infile = 'FGPC-8V7M-82J3.bam'\n",
    "outfile = 'FGPC-8V7M-82J3_ch22.bam'\n",
    "pysam.view('-b', '-o' + outfile, infile, '21', '22', catch_stdout=False)\n",
    "pysam.index(outfile)"
   ]
  },
  {
   "cell_type": "code",
   "execution_count": 169,
   "metadata": {
    "collapsed": false
   },
   "outputs": [
    {
     "name": "stdout",
     "output_type": "stream",
     "text": [
      "CPU times: user 14 s, sys: 192 ms, total: 14.2 s\n",
      "Wall time: 14.3 s\n"
     ]
    }
   ],
   "source": [
    "%%time\n",
    "infile = 'FGPC-8V7M-82J3.bam'\n",
    "outfile = 'FGPC-8V7M-82J3_ch20.bam'\n",
    "pysam.view('-b', '-o' + outfile, infile, '20', catch_stdout=False)\n",
    "# pysam.index(outfile)\n",
    "\n",
    "pysam.merge('combined.bam', outfile, 'FGPC-8V7M-82J3_ch22.bam', catch_stdout=False)"
   ]
  },
  {
   "cell_type": "markdown",
   "metadata": {},
   "source": [
    "## Recording Alignment Statistics \n",
    "(Exon 49 and full DMD)\n",
    "Exon 49 is located in deletion hotspot in DMD"
   ]
  },
  {
   "cell_type": "code",
   "execution_count": 96,
   "metadata": {
    "collapsed": false
   },
   "outputs": [],
   "source": [
    "def alignment_stats(bamfile_name, reference, region, minmapQ=30):\n",
    "    '''Prints alignment stats across reads in particular region in BAM. \n",
    "       reference -- ref or chrm number\n",
    "       region -- list or tuple with region bounds\n",
    "    '''\n",
    "    with pysam.AlignmentFile(bamfile_name, 'rb') as bamfile:\n",
    "        stats = Counter()\n",
    "        for read in bamfile.fetch(reference, *region):\n",
    "            stats['total'] += 1\n",
    "            stats['qcfail'] += int(read.is_qcfail)\n",
    "\n",
    "            stats['paired'] += int(read.is_paired)\n",
    "            stats['read1'] += int(read.is_read1)\n",
    "            stats['read2'] += int(read.is_read2)\n",
    "            \n",
    "            if read.is_unmapped:\n",
    "                stats['unmapped'] += 1\n",
    "                continue\n",
    "\n",
    "            stats['mapq <= 30'] += int(read.mapping_quality <= minmapQ)\n",
    "\n",
    "            stats['mapped'] += 1\n",
    "            if read.is_proper_pair:\n",
    "                stats['proper pair'] += 1\n",
    "                if abs(read.template_length) > 850:\n",
    "                    stats['long_insert'] += 1\n",
    "                    print 'long read: {}'.format(read.template_length)\n",
    "                else:\n",
    "                    stats['insert_lengths'] += (abs(read.template_length) if read.is_read1 else 0)\n",
    "\n",
    "        stats['avg insert length'] = stats['insert_lengths'] / float(stats['read1'])\n",
    "        output_order = ('total', 'mapped', 'unmapped', 'paired', 'read1', 'read2', \n",
    "                        'proper pair', 'qcfail', 'mapq <= 30', 'long_insert', 'avg insert length')\n",
    "\n",
    "        print '{} \\nChromosome {} Region {} Stats:'.format(bamfile_name, reference, region)\n",
    "        for key in output_order:\n",
    "            if key == 'avg insert length':\n",
    "                print '\\t{}: {}'.format(key, stats[key])\n",
    "            else:\n",
    "                print '\\t{}: {}, Prop: {}'.format(key, stats[key], stats[key] / float(stats['total']))"
   ]
  },
  {
   "cell_type": "code",
   "execution_count": 97,
   "metadata": {
    "collapsed": false
   },
   "outputs": [
    {
     "name": "stdout",
     "output_type": "stream",
     "text": [
      "bams/FGPC-0000-444F.bam \n",
      "Chromosome X Region [31854835, 31854939] Stats:\n",
      "\ttotal: 680, Prop: 1.0\n",
      "\tmapped: 680, Prop: 1.0\n",
      "\tunmapped: 0, Prop: 0.0\n",
      "\tpaired: 680, Prop: 1.0\n",
      "\tread1: 342, Prop: 0.502941176471\n",
      "\tread2: 338, Prop: 0.497058823529\n",
      "\tproper pair: 680, Prop: 1.0\n",
      "\tqcfail: 0, Prop: 0.0\n",
      "\tmapq <= 30: 0, Prop: 0.0\n",
      "\tlong_insert: 0, Prop: 0.0\n",
      "\tavg insert length: 226.011695906\n"
     ]
    }
   ],
   "source": [
    "alignment_stats('bams/FGPC-0000-444F.bam', 'X', EXON49)"
   ]
  },
  {
   "cell_type": "code",
   "execution_count": 98,
   "metadata": {
    "collapsed": false,
    "scrolled": false
   },
   "outputs": [
    {
     "name": "stdout",
     "output_type": "stream",
     "text": [
      "long read: 87733677\n",
      "long read: 36406070\n",
      "long read: 67357711\n",
      "bams/FGPC-0000-444F.bam \n",
      "Chromosome X Region [31115794, 33357558] Stats:\n",
      "\ttotal: 88693, Prop: 1.0\n",
      "\tmapped: 88577, Prop: 0.998692117755\n",
      "\tunmapped: 116, Prop: 0.0013078822455\n",
      "\tpaired: 88693, Prop: 1.0\n",
      "\tread1: 44343, Prop: 0.499960538036\n",
      "\tread2: 44350, Prop: 0.500039461964\n",
      "\tproper pair: 88301, Prop: 0.995580259998\n",
      "\tqcfail: 0, Prop: 0.0\n",
      "\tmapq <= 30: 180, Prop: 0.00202947244991\n",
      "\tlong_insert: 3, Prop: 3.38245408319e-05\n",
      "\tavg insert length: 246.341519518\n",
      "long read: 8528942\n",
      "long read: -3886263\n",
      "bams/FGPC-8V7M-82J3.bam \n",
      "Chromosome X Region [31115794, 33357558] Stats:\n",
      "\ttotal: 19239, Prop: 1.0\n",
      "\tmapped: 19235, Prop: 0.999792088986\n",
      "\tunmapped: 4, Prop: 0.000207911014086\n",
      "\tpaired: 19239, Prop: 1.0\n",
      "\tread1: 9621, Prop: 0.50007796663\n",
      "\tread2: 9618, Prop: 0.49992203337\n",
      "\tproper pair: 19209, Prop: 0.998440667394\n",
      "\tqcfail: 0, Prop: 0.0\n",
      "\tmapq <= 30: 29, Prop: 0.00150735485212\n",
      "\tlong_insert: 2, Prop: 0.000103955507043\n",
      "\tavg insert length: 232.779232928\n",
      "long read: 45328884\n",
      "long read: 42059688\n",
      "long read: 90499310\n",
      "long read: 109798660\n",
      "long read: 120075025\n",
      "long read: 34330200\n",
      "bams/FPWB-0000-840T.bam \n",
      "Chromosome X Region [31115794, 33357558] Stats:\n",
      "\ttotal: 116333, Prop: 1.0\n",
      "\tmapped: 116191, Prop: 0.99877936613\n",
      "\tunmapped: 142, Prop: 0.00122063387001\n",
      "\tpaired: 116333, Prop: 1.0\n",
      "\tread1: 58181, Prop: 0.500124642191\n",
      "\tread2: 58152, Prop: 0.499875357809\n",
      "\tproper pair: 115867, Prop: 0.995994257863\n",
      "\tqcfail: 0, Prop: 0.0\n",
      "\tmapq <= 30: 293, Prop: 0.00251863185854\n",
      "\tlong_insert: 6, Prop: 5.15760790146e-05\n",
      "\tavg insert length: 302.194410546\n",
      "long read: 79779343\n",
      "long read: -1226\n",
      "long read: -1476\n",
      "bams/MGPC-6KHG-N0LS.bam \n",
      "Chromosome X Region [31115794, 33357558] Stats:\n",
      "\ttotal: 18874, Prop: 1.0\n",
      "\tmapped: 18867, Prop: 0.999629119424\n",
      "\tunmapped: 7, Prop: 0.000370880576454\n",
      "\tpaired: 18874, Prop: 1.0\n",
      "\tread1: 9437, Prop: 0.5\n",
      "\tread2: 9437, Prop: 0.5\n",
      "\tproper pair: 18822, Prop: 0.997244887146\n",
      "\tqcfail: 0, Prop: 0.0\n",
      "\tmapq <= 30: 82, Prop: 0.00434460103847\n",
      "\tlong_insert: 3, Prop: 0.00015894881848\n",
      "\tavg insert length: 278.86372788\n"
     ]
    }
   ],
   "source": [
    "for bam in bamfiles:\n",
    "    alignment_stats('bams/{}'.format(bam), 'X', DMD)"
   ]
  },
  {
   "cell_type": "markdown",
   "metadata": {},
   "source": [
    "### Conclusions\n",
    "Mapping quality seems to be fairly high across DMD gene (only 0.1-0.4% of reads have mapQ less than 30) for 4 samples tested here. \n",
    "\n",
    "Repeat with more samples -- could also check specific regions, add check to see if reads with low mapQ are also short reads. "
   ]
  },
  {
   "cell_type": "markdown",
   "metadata": {},
   "source": [
    "## Writing basic BAM with simulated deletion"
   ]
  },
  {
   "cell_type": "code",
   "execution_count": 10,
   "metadata": {
    "collapsed": false
   },
   "outputs": [],
   "source": [
    "def simulate_exon_del(outfile, infile_bam, chrom_ref, del_region, depletion_factor=2, output_full=False,\n",
    "                      before_wanted=None, after_wanted=None):\n",
    "    ''' Simulates deletion in specified region by reducing the number of aligned reads in region \n",
    "        by specified depletion_factor.\n",
    "        depletion_factor -- int indicating factor by which total read number reduced\n",
    "        output_full -- option to generate complete bam file (all chromosomes) vs bam file with just chrom_ref\n",
    "    '''\n",
    "    if del_region[0] > del_region[1]:\n",
    "        raise ValueError('Region boundaries invalid')\n",
    "        \n",
    "    template_bam = pysam.AlignmentFile(infile_bam, 'rb')\n",
    "    \n",
    "    with pysam.AlignmentFile(outfile, 'wb', template=template_bam) as outf:\n",
    "        for i, read in enumerate(template_bam.fetch(chrom_ref)):\n",
    "            if read.reference_start <= del_region[1] and read.reference_end >= del_region[0]:\n",
    "                if random.random() < 1. / depletion_factor:\n",
    "                    outf.write(read)\n",
    "            else:\n",
    "                outf.write(read)\n",
    "        print 'Finished generating reads in bamfile for desired chrom_ref'\n",
    "    \n",
    "    # generates bam file for all chroms before desired and separate bam file for all chroms after; \n",
    "    # then merges three bam files -- might require clean up of extra files after running\n",
    "    if output_full:\n",
    "        ref_list = list(template_bam.references)\n",
    "        index = ref_list.index(chrom_ref)\n",
    "        \n",
    "        if not before_wanted:   \n",
    "            before = ref_list[:index]\n",
    "            before_wanted = '{}_before_{}.bam'.format(infile_bam.split('.')[0], chrom_ref)\n",
    "            pysam.view('-b', '-o' + before_wanted, infile_bam, *before, catch_stdout=False)\n",
    "            print 'Finished generating bamfile for refs before chrom_ref'\n",
    "            \n",
    "        if not after_wanted:\n",
    "            after = ref_list[(index + 1):]\n",
    "            after_wanted = '{}_after_{}.bam'.format(infile_bam.split('.')[0], chrom_ref)\n",
    "            pysam.view('-b', '-o' + after_wanted, infile_bam, *after, catch_stdout=False)\n",
    "            print 'Finished generating bamfile for refs after chrom_ref'\n",
    "\n",
    "        outfile_full = '{}_full.bam'.format(outfile.split('.')[0])\n",
    "        pysam.merge(outfile_full, before_wanted, outfile, after_wanted, catch_stdout=False)\n",
    "        print 'Finished merging all bamfiles into final output'\n",
    "        \n",
    "        template_bam.close()\n",
    "        pysam.index(outfile_full)\n",
    "    else:\n",
    "        pysam.index(outfile)\n",
    "        \n",
    "    print 'Finished creating index file for final output bamfile'"
   ]
  },
  {
   "cell_type": "code",
   "execution_count": 12,
   "metadata": {
    "collapsed": false
   },
   "outputs": [
    {
     "name": "stdout",
     "output_type": "stream",
     "text": [
      "Finished generating reads in bamfile for desired chrom_ref\n",
      "Finished creating index file for final output bamfile\n",
      "CPU times: user 1min, sys: 1.29 s, total: 1min 1s\n",
      "Wall time: 1min 2s\n"
     ]
    }
   ],
   "source": [
    "%%time\n",
    "# assuming bams live in bams directory\n",
    "outfile = 'bams/FGPC-0000-444F_49_del.bam'\n",
    "simulate_exon_del(outfile, 'bams/FGPC-0000-444F.bam', 'X', EXON49, depletion_factor=2)"
   ]
  },
  {
   "cell_type": "code",
   "execution_count": 207,
   "metadata": {
    "collapsed": false
   },
   "outputs": [
    {
     "name": "stdout",
     "output_type": "stream",
     "text": [
      "Finished generating reads in bamfile for desired chrom_ref\n",
      "Finished generating bamfile for refs before chrom_ref\n",
      "Finished generating bamfile for refs after chrom_ref\n",
      "Finished merging all bamfiles into final output\n",
      "Finished creating index file for final output bamfile\n",
      "CPU times: user 7min 10s, sys: 7.01 s, total: 7min 17s\n",
      "Wall time: 7min 20s\n"
     ]
    }
   ],
   "source": [
    "%%time\n",
    "# this is a relatively small bamfile (only about 1.5 GB) -- outputting full bamfile is quite slow in general\n",
    "infile = 'bams/FGPC-8V7M-82J3.bam'\n",
    "outfile = 'bams/FGPC-8V7M-82J3_48-50_del.bam'\n",
    "simulate_exon_del(outfile, infile, 'X', EX48_50_PART, depletion_factor=3, output_full=True)"
   ]
  },
  {
   "cell_type": "code",
   "execution_count": 17,
   "metadata": {
    "collapsed": false
   },
   "outputs": [
    {
     "name": "stdout",
     "output_type": "stream",
     "text": [
      "Finished generating reads in bamfile for desired chrom_ref\n",
      "Finished merging all bamfiles into final output\n",
      "Finished creating index file for final output bamfile\n",
      "CPU times: user 4min 3s, sys: 4.14 s, total: 4min 7s\n",
      "Wall time: 4min 9s\n"
     ]
    }
   ],
   "source": [
    "%%time\n",
    "infile = 'bams/FGPC-8V7M-82J3.bam'\n",
    "outfile = 'bams/FGPC-8V7M-82J3_48-50_del.bam'\n",
    "before_wanted = 'bams/FGPC-8V7M-82J3_before_X.bam'\n",
    "after_wanted = 'bams/FGPC-8V7M-82J3_after_X.bam'\n",
    "simulate_exon_del(outfile, infile, 'X', EX48_50_PART, depletion_factor=2, output_full=True, \n",
    "                  before_wanted=before_wanted, after_wanted=after_wanted)"
   ]
  },
  {
   "cell_type": "code",
   "execution_count": null,
   "metadata": {
    "collapsed": true
   },
   "outputs": [],
   "source": []
  }
 ],
 "metadata": {
  "anaconda-cloud": {},
  "kernelspec": {
   "display_name": "Python 2",
   "language": "python",
   "name": "python2"
  },
  "language_info": {
   "codemirror_mode": {
    "name": "ipython",
    "version": 2
   },
   "file_extension": ".py",
   "mimetype": "text/x-python",
   "name": "python",
   "nbconvert_exporter": "python",
   "pygments_lexer": "ipython2",
   "version": "2.7.11"
  }
 },
 "nbformat": 4,
 "nbformat_minor": 0
}
